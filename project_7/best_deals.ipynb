{
 "cells": [
  {
   "cell_type": "markdown",
   "metadata": {},
   "source": [
    "## 0.1 Importing libraries"
   ]
  },
  {
   "cell_type": "code",
   "execution_count": 1525,
   "metadata": {
    "ExecuteTime": {
     "end_time": "2023-10-31T15:40:02.175332Z",
     "start_time": "2023-10-31T15:40:02.030916Z"
    }
   },
   "outputs": [],
   "source": [
    "import joblib\n",
    "import numpy\n",
    "# Linear algebra\n",
    "import numpy as np\n",
    "\n",
    "import datetime\n",
    "\n",
    "from selenium import webdriver\n",
    "from selenium.webdriver.common.by import By\n",
    "\n",
    "# dataframe management\n",
    "import pandas as pd\n",
    "\n",
    "# regular expressions\n",
    "import re\n",
    "\n",
    "# Statistical tests\n",
    "from statistics import mean\n",
    "\n",
    "from joblib import load\n"
   ]
  },
  {
   "cell_type": "markdown",
   "metadata": {},
   "source": [
    "### 1.2 Web scrapping"
   ]
  },
  {
   "cell_type": "code",
   "execution_count": 1526,
   "metadata": {
    "ExecuteTime": {
     "end_time": "2023-10-31T15:40:06.698228Z",
     "start_time": "2023-10-31T15:40:02.059102Z"
    }
   },
   "outputs": [
    {
     "data": {
      "text/plain": "['Acura',\n 'Alfa Romeo',\n 'AMC',\n 'Aston Martin',\n 'Audi',\n 'Austin',\n 'Bedford',\n 'Bentley',\n 'BMW',\n 'BMW Alpina',\n 'Buick',\n 'BYD',\n 'Cadillac',\n 'Chandler',\n 'Chevrolet',\n 'Chrysler',\n 'Citroen',\n 'Cobra',\n 'Commer',\n 'Cupra',\n 'Dacia',\n 'Daewoo',\n 'Daf',\n 'Daihatsu',\n 'Daimler',\n 'Datsun',\n 'Datsun-Nissan',\n 'DeSoto',\n 'DKW',\n 'Dodge',\n 'Donau',\n 'DS',\n 'Edsel',\n 'EMW',\n 'Essex',\n 'Ferrari',\n 'Fiat',\n 'Fiat-Abarth',\n 'Fisker',\n 'Ford',\n 'GAZ',\n 'GMC',\n 'Hillman',\n 'Honda',\n 'Hudson',\n 'Humber',\n 'Hummer',\n 'Hyundai',\n 'Ifa',\n 'Imperial',\n 'Infiniti',\n 'International',\n 'Inzile',\n 'Isuzu',\n 'Iveco',\n 'Jaguar',\n 'Jeep',\n 'Kia',\n 'Lada',\n 'Lamborghini',\n 'Lancia',\n 'Land Rover',\n 'Lexus',\n 'Leyland',\n 'Lincoln',\n 'Lloyd',\n 'London taxi',\n 'Lotus',\n 'LuAZ',\n 'Lynk & Co',\n 'MAN',\n 'Maserati',\n 'Matra',\n 'Maxus',\n 'Mazda',\n 'McLaren',\n 'Mercedes-Benz',\n 'Mercury',\n 'MG',\n 'Mini',\n 'Mitsubishi',\n 'Mitsubishi Fuso',\n 'Morris',\n 'Moskvitsh',\n 'Muu merkki',\n 'Nissan',\n 'NSU',\n 'Oldsmobile',\n 'Opel',\n 'Packard',\n 'Peugeot',\n 'Plymouth',\n 'Polestar',\n 'Pontiac',\n 'Porsche',\n 'RAM',\n 'Rambler',\n 'Renault',\n 'Reo',\n 'Riley',\n 'Rolls-Royce',\n 'Rover',\n 'Saab',\n 'Santana',\n 'Seat',\n 'Simca',\n 'Skoda',\n 'Smart',\n 'SsangYong',\n 'Studebaker',\n 'Subaru',\n 'Sunbeam',\n 'Suzuki',\n 'Talbot',\n 'Teijo',\n 'Tesla',\n 'Think',\n 'Toyota',\n 'Trabant',\n 'Triumph',\n 'TruckMasters',\n 'UAZ',\n 'Vauxhall',\n 'Volga',\n 'Volkswagen',\n 'Volvo',\n 'Voyah',\n 'Wartburg',\n 'Willys',\n 'Wolseley',\n 'Zastava']"
     },
     "execution_count": 1526,
     "metadata": {},
     "output_type": "execute_result"
    }
   ],
   "source": [
    "browser = webdriver.Chrome()\n",
    "\n",
    "url = f'https://www.nettiauto.com'\n",
    "browser.get(url)\n",
    "all_makes = browser.find_elements(By.CSS_SELECTOR, '#srch_id_make')[0].text\n",
    "browser.close()\n",
    "\n",
    "all_makes = all_makes.replace('\\n', ', ').replace('  ', '').split(', ')\n",
    "all_makes = all_makes[11:-1]\n",
    "\n",
    "all_makes"
   ]
  },
  {
   "cell_type": "code",
   "execution_count": 1527,
   "outputs": [
    {
     "name": "stdout",
     "output_type": "stream",
     "text": [
      "Initiating web-scraping of 79...\n",
      "32 32 32 32 32 32 32\n",
      "Page 1 out of 79 completed\n",
      "30 30 30 30 30 30 30\n",
      "Page 2 out of 79 completed\n",
      "30 30 30 30 30 30 30\n",
      "Page 3 out of 79 completed\n",
      "30 30 30 30 30 30 30\n",
      "Page 4 out of 79 completed\n",
      "30 30 30 30 30 30 30\n",
      "Page 5 out of 79 completed\n",
      "30 30 30 30 30 30 30\n",
      "Page 6 out of 79 completed\n",
      "30 30 30 30 30 30 30\n",
      "Page 7 out of 79 completed\n",
      "30 30 30 30 30 30 30\n",
      "Page 8 out of 79 completed\n",
      "30 30 30 30 30 30 30\n",
      "Page 9 out of 79 completed\n",
      "30 30 30 30 30 30 30\n",
      "Page 10 out of 79 completed\n",
      "30 30 30 30 30 30 30\n",
      "Page 11 out of 79 completed\n",
      "30 30 30 30 30 30 30\n",
      "Page 12 out of 79 completed\n",
      "30 30 30 30 30 30 30\n",
      "Page 13 out of 79 completed\n",
      "30 30 30 30 30 30 30\n",
      "Page 14 out of 79 completed\n",
      "30 30 30 30 30 30 30\n",
      "Page 15 out of 79 completed\n",
      "30 30 30 30 30 30 30\n",
      "Page 16 out of 79 completed\n",
      "30 30 30 30 30 30 30\n",
      "Page 17 out of 79 completed\n",
      "30 30 30 30 30 30 30\n",
      "Page 18 out of 79 completed\n",
      "30 30 30 30 30 30 30\n",
      "Page 19 out of 79 completed\n",
      "30 30 30 30 30 30 30\n",
      "Page 20 out of 79 completed\n",
      "30 30 30 30 30 30 30\n",
      "Page 21 out of 79 completed\n",
      "30 30 30 30 30 30 30\n",
      "Page 22 out of 79 completed\n",
      "30 30 30 30 30 30 30\n",
      "Page 23 out of 79 completed\n",
      "30 30 30 30 30 30 30\n",
      "Page 24 out of 79 completed\n",
      "30 30 30 30 30 30 30\n",
      "Page 25 out of 79 completed\n",
      "30 30 30 30 30 30 30\n",
      "Page 26 out of 79 completed\n",
      "30 30 30 30 30 30 30\n",
      "Page 27 out of 79 completed\n",
      "30 30 30 30 30 30 30\n",
      "Page 28 out of 79 completed\n",
      "30 30 30 30 30 30 30\n",
      "Page 29 out of 79 completed\n",
      "30 30 30 30 30 30 30\n",
      "Page 30 out of 79 completed\n",
      "30 30 30 30 30 30 30\n",
      "Page 31 out of 79 completed\n",
      "30 30 30 30 30 30 30\n",
      "Page 32 out of 79 completed\n",
      "30 30 30 30 30 30 30\n",
      "Page 33 out of 79 completed\n",
      "30 30 30 30 30 30 30\n",
      "Page 34 out of 79 completed\n",
      "30 30 30 30 30 30 30\n",
      "Page 35 out of 79 completed\n",
      "30 30 30 30 30 30 30\n",
      "Page 36 out of 79 completed\n",
      "30 30 30 30 30 30 30\n",
      "Page 37 out of 79 completed\n",
      "30 30 30 30 30 30 30\n",
      "Page 38 out of 79 completed\n",
      "30 30 30 30 30 30 30\n",
      "Page 39 out of 79 completed\n",
      "30 30 30 30 30 30 30\n",
      "Page 40 out of 79 completed\n",
      "30 30 30 30 30 30 30\n",
      "Page 41 out of 79 completed\n",
      "30 30 30 30 30 30 30\n",
      "Page 42 out of 79 completed\n",
      "30 30 30 30 30 30 30\n",
      "Page 43 out of 79 completed\n",
      "30 30 30 30 30 30 30\n",
      "Page 44 out of 79 completed\n",
      "30 30 30 30 30 30 30\n",
      "Page 45 out of 79 completed\n",
      "30 30 30 30 30 30 30\n",
      "Page 46 out of 79 completed\n",
      "30 30 30 30 30 30 30\n",
      "Page 47 out of 79 completed\n",
      "30 30 30 30 30 30 30\n",
      "Page 48 out of 79 completed\n",
      "30 30 30 30 30 30 30\n",
      "Page 49 out of 79 completed\n",
      "30 30 30 30 30 30 30\n",
      "Page 50 out of 79 completed\n",
      "30 30 30 30 30 30 30\n",
      "Page 51 out of 79 completed\n",
      "30 30 30 30 30 30 30\n",
      "Page 52 out of 79 completed\n",
      "30 30 30 30 30 30 30\n",
      "Page 53 out of 79 completed\n",
      "30 30 30 30 30 30 30\n",
      "Page 54 out of 79 completed\n",
      "30 30 30 30 30 30 30\n",
      "Page 55 out of 79 completed\n",
      "30 30 30 30 30 30 30\n",
      "Page 56 out of 79 completed\n",
      "30 30 30 30 30 30 30\n",
      "Page 57 out of 79 completed\n",
      "30 30 30 30 30 30 30\n",
      "Page 58 out of 79 completed\n",
      "30 30 30 30 30 30 30\n",
      "Page 59 out of 79 completed\n",
      "30 30 30 30 30 30 30\n",
      "Page 60 out of 79 completed\n",
      "30 30 30 30 30 30 30\n",
      "Page 61 out of 79 completed\n",
      "30 30 30 30 30 30 30\n",
      "Page 62 out of 79 completed\n",
      "30 30 30 30 30 30 30\n",
      "Page 63 out of 79 completed\n",
      "30 30 30 30 30 30 30\n",
      "Page 64 out of 79 completed\n",
      "30 30 30 30 30 30 30\n",
      "Page 65 out of 79 completed\n",
      "30 30 30 30 30 30 30\n",
      "Page 66 out of 79 completed\n",
      "30 30 30 30 30 30 30\n",
      "Page 67 out of 79 completed\n",
      "30 30 30 30 30 30 30\n",
      "Page 68 out of 79 completed\n",
      "30 30 30 30 30 30 30\n",
      "Page 69 out of 79 completed\n",
      "30 30 30 30 30 30 30\n",
      "Page 70 out of 79 completed\n",
      "30 30 30 30 30 30 30\n",
      "Page 71 out of 79 completed\n",
      "30 30 30 30 30 30 30\n",
      "Page 72 out of 79 completed\n",
      "30 30 30 30 30 30 30\n",
      "Page 73 out of 79 completed\n",
      "30 30 30 30 30 30 30\n",
      "Page 74 out of 79 completed\n",
      "30 30 30 30 30 30 30\n",
      "Page 75 out of 79 completed\n",
      "30 30 30 30 30 30 30\n",
      "Page 76 out of 79 completed\n",
      "30 30 30 30 30 30 30\n",
      "Page 77 out of 79 completed\n",
      "30 30 30 30 30 30 30\n",
      "Page 78 out of 79 completed\n",
      "30 30 30 30 30 30 30\n",
      "Page 79 out of 79 completed\n"
     ]
    }
   ],
   "source": [
    "data_dict = {}\n",
    "data = pd.DataFrame(data_dict)\n",
    "browser = webdriver.Chrome()\n",
    "options = webdriver.ChromeOptions()\n",
    "options.add_argument(\"--start-maximized\")\n",
    "\n",
    "url = f'https://www.nettiauto.com/en/vaihtoautot?new=H&sortCol=price&ord=ASC&id_country[]=73'\n",
    "browser.get(url)\n",
    "number_of_pages = browser.find_elements(By.CSS_SELECTOR, '#pagingData > div > span.navigation_link > a.pageNavigation.dot_block')\n",
    "number_of_pages = int(number_of_pages[0].text)\n",
    "print(f'Initiating web-scraping of {number_of_pages}...')\n",
    "browser.close()\n",
    "\n",
    "for page in range(1, number_of_pages+1):\n",
    "\n",
    "    browser = webdriver.Chrome()\n",
    "    options.add_argument(\"--start-maximized\")\n",
    "\n",
    "    url = f'https://www.nettiauto.com/vaihtoautot?page={page}'\n",
    "    browser.get(url)\n",
    "    make_list = browser.find_elements(By.CSS_SELECTOR, '[class=\"make_model_link\"]')\n",
    "    desc_list = browser.find_elements(By.CSS_SELECTOR, '[class=\"checkLnesFlat for_rent_one_line\"]')\n",
    "    key_char_list = browser.find_elements(By.CSS_SELECTOR, '[class=\"vehicle_other_info clearfix_nett\"]')\n",
    "    places_list = browser.find_elements(By.CSS_SELECTOR, '[class=\"gray_text\"]')\n",
    "    sellers_list = browser.find_elements(By.CSS_SELECTOR, '[class=\"no_wrap gray_text\"]')\n",
    "    price_list = browser.find_elements(By.CSS_SELECTOR, '[class=\"price_block\"]')\n",
    "    ids_list = browser.find_elements(By.CSS_SELECTOR, '[class=\"childVifUrl tricky_link\"]')\n",
    "\n",
    "    print(len(make_list), len(desc_list), len(key_char_list), len(places_list), len(sellers_list), len(price_list), len(ids_list))\n",
    "\n",
    "    if len(make_list) == len(desc_list) == len(key_char_list) == len(places_list) == len(sellers_list) == len(price_list) == len(ids_list):\n",
    "        makes = []\n",
    "        descs = []\n",
    "        key_chars = []\n",
    "        places = []\n",
    "        sellers = []\n",
    "        prices = []\n",
    "        ids = []\n",
    "        \n",
    "        for val in range(len(make_list)):\n",
    "            makes.append(make_list[val].text)\n",
    "            descs.append(desc_list[val].text)\n",
    "            key_chars.append(key_char_list[val].text.replace('\\n', ' | '))\n",
    "            places.append(places_list[val].text)\n",
    "            sellers.append(sellers_list[val].text)\n",
    "            prices.append(price_list[val].text)\n",
    "            ids.append(ids_list[val].get_attribute('href'))\n",
    "\n",
    "    else:\n",
    "        print('Error! Number of values in columns is different!')\n",
    "        continue\n",
    "\n",
    "    data_dict['make'] = makes\n",
    "    data_dict['desc'] = descs\n",
    "    data_dict['key_char'] = key_chars\n",
    "    data_dict['town'] = places\n",
    "    data_dict['seller'] = sellers\n",
    "    data_dict['price'] = prices\n",
    "    data_dict['id'] = ids\n",
    "    \n",
    "    data_new = pd.DataFrame(data_dict)\n",
    "    data = pd.concat([data, data_new])\n",
    "    data.to_csv('/Users/egor/Documents/data_science_course/project_7/data/data_new24.csv')\n",
    "    print(f'Page {page} out of {number_of_pages} completed')\n",
    "    browser.close()"
   ],
   "metadata": {
    "collapsed": false,
    "ExecuteTime": {
     "end_time": "2023-10-31T15:47:41.233018Z",
     "start_time": "2023-10-31T15:40:06.696284Z"
    }
   }
  },
  {
   "cell_type": "markdown",
   "metadata": {},
   "source": [
    "# 2. Data wrangling"
   ]
  },
  {
   "cell_type": "code",
   "execution_count": 1546,
   "metadata": {
    "ExecuteTime": {
     "end_time": "2023-10-31T15:50:38.321345Z",
     "start_time": "2023-10-31T15:50:37.986617Z"
    }
   },
   "outputs": [],
   "source": [
    "data = pd.read_csv('/Users/egor/Documents/data_science_course/project_7/data/data_new24.csv')"
   ]
  },
  {
   "cell_type": "code",
   "execution_count": 1547,
   "metadata": {
    "ExecuteTime": {
     "end_time": "2023-10-31T15:50:38.411595Z",
     "start_time": "2023-10-31T15:50:37.999163Z"
    }
   },
   "outputs": [],
   "source": [
    "def get_engine_volume(sample_string):\n",
    "    pattern = r'\\((.*?)\\)'\n",
    "    values_in_brackets = re.findall(pattern, sample_string)\n",
    "    # for some cars engine volume is not indicated (for example electric cars)\n",
    "    # i'll tag them with -1\n",
    "    if len(values_in_brackets) == 0:\n",
    "        return -1\n",
    "    elif len(values_in_brackets) == 1:\n",
    "        return values_in_brackets[0] \n",
    "    # in case if string has several values in brackets\n",
    "    else:\n",
    "        return 'Error'\n",
    "\n",
    "# applying function to \"make\" feature and creating \"engine_vol\" column\n",
    "data['engine_vol'] = data['make'].apply(lambda x: get_engine_volume(x))"
   ]
  },
  {
   "cell_type": "code",
   "execution_count": 1548,
   "metadata": {
    "ExecuteTime": {
     "end_time": "2023-10-31T15:50:38.730290Z",
     "start_time": "2023-10-31T15:50:38.010454Z"
    }
   },
   "outputs": [],
   "source": [
    "def extract_make_name(sample_string, make_list):\n",
    "    for make in make_list:\n",
    "        if make in sample_string:\n",
    "            return make\n",
    "    return None  # Return None if no matching make is found\n",
    "\n",
    "\n",
    "data['car_make'] = data['make'].apply(lambda x: extract_make_name(x, all_makes))"
   ]
  },
  {
   "cell_type": "code",
   "execution_count": 1549,
   "metadata": {
    "ExecuteTime": {
     "end_time": "2023-10-31T15:50:38.853458Z",
     "start_time": "2023-10-31T15:50:38.023529Z"
    }
   },
   "outputs": [],
   "source": [
    "def extract_model_name(sample_string, make_list):\n",
    "    pattern = r'\\s*\\(\\d+\\.\\d+\\)'\n",
    "    values_in_brackets = re.findall(pattern, sample_string)\n",
    "    if len(values_in_brackets) == 1:\n",
    "        sample_string = sample_string.replace(values_in_brackets[0], '')\n",
    "    for make in make_list:\n",
    "        if make in sample_string:\n",
    "            sample_string = sample_string.replace(make, '').strip()\n",
    "    return sample_string  # Return None if no matching make is found\n",
    "\n",
    "data['model'] = data['make'].apply(lambda x: extract_model_name(x, all_makes))"
   ]
  },
  {
   "cell_type": "code",
   "execution_count": 1550,
   "outputs": [],
   "source": [
    "data['make_model'] = data['car_make'] + ' ' + data['model']"
   ],
   "metadata": {
    "collapsed": false,
    "ExecuteTime": {
     "end_time": "2023-10-31T15:50:38.875784Z",
     "start_time": "2023-10-31T15:50:38.027659Z"
    }
   }
  },
  {
   "cell_type": "code",
   "execution_count": 1551,
   "outputs": [],
   "source": [
    "data['desc'] = data['desc'].astype(str)\n",
    "\n",
    "data['roadworthy'] = data['desc'].apply(lambda x: 0 if 'Ei tieliikennekelpoinen' in x else 1)"
   ],
   "metadata": {
    "collapsed": false,
    "ExecuteTime": {
     "end_time": "2023-10-31T15:50:38.875901Z",
     "start_time": "2023-10-31T15:50:38.030550Z"
    }
   }
  },
  {
   "cell_type": "code",
   "execution_count": 1552,
   "outputs": [],
   "source": [
    "awd_types = ['awd', '4wd', '4x4', 'xdrive', '4matic', 'quattro', 'all-wheel drive', 'all wheel', 'super select']\n",
    "\n",
    "def is_awd(sample_string, awd_types):\n",
    "    sample_string = sample_string.lower()\n",
    "    for type in awd_types:\n",
    "        if type in sample_string:\n",
    "            return 1\n",
    "    return 0  # Return 0 if no matching type is found\n",
    "\n",
    "\n",
    "data['awd'] = data['desc'].apply(lambda x: is_awd(x, awd_types))"
   ],
   "metadata": {
    "collapsed": false,
    "ExecuteTime": {
     "end_time": "2023-10-31T15:50:38.986176Z",
     "start_time": "2023-10-31T15:50:38.035477Z"
    }
   }
  },
  {
   "cell_type": "code",
   "execution_count": 1553,
   "outputs": [],
   "source": [
    "categories = {\n",
    "    'sedan': 'Sedan',\n",
    "    'avant': 'Universal',\n",
    "    'van': 'Minivan',\n",
    "    'combi': 'Universal',\n",
    "    'tourer': 'Universal',\n",
    "    'wagon': 'Universal',\n",
    "    'touring': 'Universal',\n",
    "    'farmari': 'Universal',\n",
    "    'sportback': 'Hatchback',\n",
    "    'coupe': 'Coupe',\n",
    "    'coupé': 'Coupe',\n",
    "    'hatchback': 'Hatchback',\n",
    "    'cabriolet': 'Cabriolet',\n",
    "    'convertible': 'Cabriolet',\n",
    "    'cabrio': 'Cabriolet',\n",
    "    'pickup': 'Pickup',\n",
    "    'spaceback': 'Hatchback',\n",
    "    'crossover': 'Jeep',\n",
    "    'estate': 'Universal',\n",
    "    'sportswagon': 'Universal',\n",
    "    'shooting': 'Universal',\n",
    "    'targa': 'Coupe',\n",
    "    'hardtop': 'Coupe',\n",
    "    'saloon': 'Sedan',\n",
    "    'roadster': 'Coupe',\n",
    "    'spider': 'Coupe',\n",
    "    'turismo': 'Hatchback',\n",
    "    'mpv': 'Minivan',\n",
    "    'fastback': 'Coupe',\n",
    "    'suv': 'Jeep'\n",
    "}\n",
    "\n",
    "def get_category(sample_string, categories):\n",
    "    sample_string = sample_string.lower().split(' ')\n",
    "    for word in sample_string:\n",
    "        if word in categories:\n",
    "            return categories.get(word)\n",
    "\n",
    "data['category'] = data['desc'].apply(lambda x: get_category(x, categories))"
   ],
   "metadata": {
    "collapsed": false,
    "ExecuteTime": {
     "end_time": "2023-10-31T15:50:39.008287Z",
     "start_time": "2023-10-31T15:50:38.039824Z"
    }
   }
  },
  {
   "cell_type": "code",
   "execution_count": 1554,
   "outputs": [],
   "source": [
    "doors_count = {\n",
    "    '5-ovinen,': '4/5',\n",
    "    '5-door': '4/5',\n",
    "    '5-ovinen': '4/5',\n",
    "    '#5-ovinen': '4/5',\n",
    "    '2ov': '2/3',\n",
    "    '2-door': '2/3',\n",
    "    '3-door': '2/3',\n",
    "    '3ov': '2/3',\n",
    "    '2-ov': '2/3',\n",
    "    '4ov': '4/5',\n",
    "    '4-ov': '4/5',\n",
    "    '4door': '4/5',\n",
    "    '5-ov,': '4/5',\n",
    "    'kaksiovinen': '2/3',\n",
    "    '2d': '2/3',\n",
    "    '3d': '2/3',\n",
    "    '4d': '4/5',\n",
    "    '5d': '4/5'\n",
    "    }\n",
    "\n",
    "def get_doors(sample_string, doors_count):\n",
    "    sample_string = sample_string.lower().split(' ')\n",
    "    for word in sample_string:\n",
    "        if word in doors_count:\n",
    "            return doors_count.get(word)\n",
    "\n",
    "data['doors'] = data['desc'].apply(lambda x: get_doors(x, doors_count))"
   ],
   "metadata": {
    "collapsed": false,
    "ExecuteTime": {
     "end_time": "2023-10-31T15:50:39.008391Z",
     "start_time": "2023-10-31T15:50:38.042486Z"
    }
   }
  },
  {
   "cell_type": "markdown",
   "source": [
    "Moving further. I'll review 'desc' column which contains description about the car. We can identify 2 key features: \n",
    "- whether the car is roadworthy or not. Some cars have \"Ei tieliikennekelpoinen\" in description which means that it is not roadworthy and repair is required.\n",
    "- whether the car has all-wheel drive option. There are several ways to define that car has AWD system, for example, xDrive for BMW or 4matic for Mercedes-Benz "
   ],
   "metadata": {
    "collapsed": false
   }
  },
  {
   "cell_type": "code",
   "execution_count": 1555,
   "outputs": [],
   "source": [
    "def extract_horsepower(string):\n",
    "    string = string.lower()\n",
    "    pattern = r'(\\d+)\\s*hv'\n",
    "    match = re.search(pattern, string)\n",
    "    if match:\n",
    "        return int(match.group(1))\n",
    "\n",
    "data['hp'] = data['desc'].apply(lambda x: extract_horsepower(x))"
   ],
   "metadata": {
    "collapsed": false,
    "ExecuteTime": {
     "end_time": "2023-10-31T15:50:39.035939Z",
     "start_time": "2023-10-31T15:50:38.048252Z"
    }
   }
  },
  {
   "cell_type": "code",
   "execution_count": 1556,
   "outputs": [],
   "source": [
    "def extract_power(string):\n",
    "    string = string.lower()\n",
    "    pattern = r'(\\d+)\\s*kw(?!h)'\n",
    "    match = re.search(pattern, string)\n",
    "    if match:\n",
    "        return int(match.group(1))\n",
    "\n",
    "data['power'] = data['desc'].apply(lambda x: extract_power(x))"
   ],
   "metadata": {
    "collapsed": false,
    "ExecuteTime": {
     "end_time": "2023-10-31T15:50:39.058245Z",
     "start_time": "2023-10-31T15:50:38.052339Z"
    }
   }
  },
  {
   "cell_type": "code",
   "execution_count": 1557,
   "outputs": [],
   "source": [
    "def extract_capacity(string):\n",
    "    string = string.lower()\n",
    "    pattern = r'(\\d+)\\s*kwh'\n",
    "    match = re.search(pattern, string)\n",
    "    if match:\n",
    "        return int(match.group(1))\n",
    "\n",
    "data['capacity'] = data['desc'].apply(lambda x: extract_capacity(x))"
   ],
   "metadata": {
    "collapsed": false,
    "ExecuteTime": {
     "end_time": "2023-10-31T15:50:39.108115Z",
     "start_time": "2023-10-31T15:50:38.056413Z"
    }
   }
  },
  {
   "cell_type": "code",
   "execution_count": 1558,
   "outputs": [],
   "source": [
    "def organize_key_char(sample_string):\n",
    "    sample_list = sample_string.split('|')\n",
    "    for i in range(len(sample_list)):\n",
    "        sample_list[i] = sample_list[i].strip()\n",
    "    return sample_list\n",
    "        \n",
    "data['key_char'] = data['key_char'].apply(lambda x: organize_key_char(x))"
   ],
   "metadata": {
    "collapsed": false,
    "ExecuteTime": {
     "end_time": "2023-10-31T15:50:39.108217Z",
     "start_time": "2023-10-31T15:50:38.060094Z"
    }
   }
  },
  {
   "cell_type": "code",
   "execution_count": 1559,
   "outputs": [],
   "source": [
    "fuel_type = ['Bensiini', 'Diesel', 'Hybridi (bensiini/sähkö)', 'Hybridi (diesel/sähkö)', 'Sähkö', 'Kaasu', 'E85/bensiini', 'Ei saatavilla']\n",
    "gearbox_type = ['Automaatti', 'Manuaali']\n"
   ],
   "metadata": {
    "collapsed": false,
    "ExecuteTime": {
     "end_time": "2023-10-31T15:50:39.540895Z",
     "start_time": "2023-10-31T15:50:38.066194Z"
    }
   }
  },
  {
   "cell_type": "code",
   "execution_count": 1560,
   "outputs": [],
   "source": [
    "data['year'] = data['key_char'].apply(lambda x: x[0].strip())\n",
    "data['year'] = data['year'].astype(int)\n",
    "curr_time = datetime.datetime.now()\n",
    "data['age'] = data['year'].apply(lambda x: curr_time.year - x)\n",
    "data['age'] = data['age'].apply(lambda x: 0 if x==-1 else x)"
   ],
   "metadata": {
    "collapsed": false,
    "ExecuteTime": {
     "end_time": "2023-10-31T15:50:39.941520Z",
     "start_time": "2023-10-31T15:50:38.068964Z"
    }
   }
  },
  {
   "cell_type": "code",
   "execution_count": 1561,
   "outputs": [],
   "source": [
    "def extract_mileage(sample_list):\n",
    "    if 'km' in sample_list[1]:\n",
    "        return sample_list[1].strip()[:-2].replace(' ', '')\n",
    "    else:\n",
    "        '-1'\n",
    "    \n",
    "data['mileage'] = data['key_char'].apply(lambda x: extract_mileage(x))"
   ],
   "metadata": {
    "collapsed": false,
    "ExecuteTime": {
     "end_time": "2023-10-31T15:50:39.943886Z",
     "start_time": "2023-10-31T15:50:38.072423Z"
    }
   }
  },
  {
   "cell_type": "code",
   "execution_count": 1562,
   "outputs": [],
   "source": [
    "fuel_type = ['Bensiini', 'Diesel', 'Hybridi (bensiini/sähkö)', 'Hybridi (diesel/sähkö)', 'Sähkö', 'Kaasu', 'E85/bensiini', 'Ei saatavilla']\n",
    "gearbox_type = ['Automaatti', 'Manuaali']\n",
    "\n",
    "def get_type(sample_list, types):\n",
    "    for type in types:\n",
    "        if type in sample_list:\n",
    "            return type\n",
    "\n",
    "data['fuel_type'] = data['key_char'].apply(lambda x: get_type(x, fuel_type))\n",
    "data['gearbox_type'] = data['key_char'].apply(lambda x: get_type(x, gearbox_type))"
   ],
   "metadata": {
    "collapsed": false,
    "ExecuteTime": {
     "end_time": "2023-10-31T15:50:39.946190Z",
     "start_time": "2023-10-31T15:50:38.074641Z"
    }
   }
  },
  {
   "cell_type": "code",
   "execution_count": 1563,
   "outputs": [],
   "source": [
    "car_dealers = ['J. Rinta-Jouppi', 'Autokeskus Oy', 'Autolle.com', 'Suursavonauto.fi', 'Wetteri', 'AC Auto-Center', 'Rinta-Joupin Autoliike', 'Hedin Automotive', 'LänsiAuto', 'Kamux', 'K-auto', 'Saka Finland Oy', 'Secto Vaihtoautot', 'Autotalo', 'Auto-Suni', 'Nelipyörä', 'Ford Store', 'Hedin Automotive', 'Automaa', 'Bavaria', 'Toyota', 'Omax', 'ALD Carmarket', 'Delta Auto', 'Pörhö', 'Veho', 'Bilar99e', 'Autosalpa', 'Vaihtokaara', 'Auto-Kilta', 'Autodeal', 'Keskusautohalli Oy', 'Helkama-Auto', 'MB-mobile', 'XBIL', 'Autoverkkokauppa.fi', 'Kupen auto', 'KymppiPlus', 'Menoauto', 'Vaihtoautomaa', 'ALD Carmarket', 'MS-auto', 'Euro Auto', 'Tojo-Auto', 'Porsche Center', 'Levorannan Autoliike', 'SCC - Sports Car Center', 'Ajanvaunu Oy', 'Auto-Kehä Oy', 'Auto-Eekoo']\n",
    "\n",
    "def group_seller(sample_string, car_dealers):\n",
    "    sample_string = sample_string.lower()\n",
    "    for dealer in list(map(str.lower, car_dealers)):\n",
    "        x = sample_string.replace(dealer, '')\n",
    "        if(len(x) != len(sample_string)):\n",
    "            return dealer.lower()\n",
    "    return sample_string\n",
    "        \n",
    "data['car_seller'] = data['seller'].apply(lambda x: group_seller(x, car_dealers))\n",
    "data['car_seller'] = data['car_seller'].astype(str)\n",
    "data['car_seller'] = data['car_seller'].apply(lambda x: x.lower())"
   ],
   "metadata": {
    "collapsed": false,
    "ExecuteTime": {
     "end_time": "2023-10-31T15:50:39.950984Z",
     "start_time": "2023-10-31T15:50:38.090591Z"
    }
   }
  },
  {
   "cell_type": "code",
   "execution_count": 1564,
   "outputs": [],
   "source": [
    "data['price'] = data['price'].apply(lambda x: x.split('\\n'))"
   ],
   "metadata": {
    "collapsed": false,
    "ExecuteTime": {
     "end_time": "2023-10-31T15:50:39.951056Z",
     "start_time": "2023-10-31T15:50:38.093432Z"
    }
   }
  },
  {
   "cell_type": "code",
   "execution_count": 1565,
   "outputs": [],
   "source": [
    "data['car_price'] = data['price'].apply(lambda x: x[0].replace('€', '').replace(' ', ''))"
   ],
   "metadata": {
    "collapsed": false,
    "ExecuteTime": {
     "end_time": "2023-10-31T15:50:39.951089Z",
     "start_time": "2023-10-31T15:50:38.096150Z"
    }
   }
  },
  {
   "cell_type": "code",
   "execution_count": 1566,
   "outputs": [],
   "source": [
    "def extract_deal(sample_list):\n",
    "    try:\n",
    "        if '(' in sample_list[1]:\n",
    "            return sample_list[1].replace('(', '').replace(')', '').strip()\n",
    "        else:\n",
    "            return None\n",
    "    except IndexError:\n",
    "        return None\n",
    "\n",
    "data['deal'] = data['price'].apply(lambda x: extract_deal(x))"
   ],
   "metadata": {
    "collapsed": false,
    "ExecuteTime": {
     "end_time": "2023-10-31T15:50:39.951119Z",
     "start_time": "2023-10-31T15:50:38.098921Z"
    }
   }
  },
  {
   "cell_type": "markdown",
   "source": [
    "## Data cleaning"
   ],
   "metadata": {
    "collapsed": false
   }
  },
  {
   "cell_type": "code",
   "execution_count": 1567,
   "outputs": [],
   "source": [
    "data = data.drop(columns=['Unnamed: 0', 'make', 'desc', 'key_char', 'price', 'seller'])"
   ],
   "metadata": {
    "collapsed": false,
    "ExecuteTime": {
     "end_time": "2023-10-31T15:50:39.951151Z",
     "start_time": "2023-10-31T15:50:38.101369Z"
    }
   }
  },
  {
   "cell_type": "code",
   "execution_count": 1568,
   "outputs": [],
   "source": [
    "data = data.dropna(subset=['mileage', 'make_model'])"
   ],
   "metadata": {
    "collapsed": false,
    "ExecuteTime": {
     "end_time": "2023-10-31T15:50:39.951182Z",
     "start_time": "2023-10-31T15:50:38.104943Z"
    }
   }
  },
  {
   "cell_type": "code",
   "execution_count": 1569,
   "outputs": [],
   "source": [
    "to_be_deleted = set()"
   ],
   "metadata": {
    "collapsed": false,
    "ExecuteTime": {
     "end_time": "2023-10-31T15:50:39.951211Z",
     "start_time": "2023-10-31T15:50:38.108072Z"
    }
   }
  },
  {
   "cell_type": "code",
   "execution_count": 1570,
   "outputs": [
    {
     "name": "stdout",
     "output_type": "stream",
     "text": [
      "<class 'pandas.core.frame.DataFrame'>\n",
      "Index: 2197 entries, 0 to 2371\n",
      "Data columns (total 21 columns):\n",
      " #   Column        Non-Null Count  Dtype  \n",
      "---  ------        --------------  -----  \n",
      " 0   town          2197 non-null   object \n",
      " 1   id            2197 non-null   object \n",
      " 2   engine_vol    2197 non-null   object \n",
      " 3   car_make      2197 non-null   object \n",
      " 4   model         2197 non-null   object \n",
      " 5   make_model    2197 non-null   object \n",
      " 6   roadworthy    2197 non-null   int64  \n",
      " 7   awd           2197 non-null   int64  \n",
      " 8   category      266 non-null    object \n",
      " 9   doors         763 non-null    object \n",
      " 10  hp            44 non-null     float64\n",
      " 11  power         63 non-null     float64\n",
      " 12  capacity      0 non-null      object \n",
      " 13  year          2197 non-null   int64  \n",
      " 14  age           2197 non-null   int64  \n",
      " 15  mileage       2197 non-null   object \n",
      " 16  fuel_type     2197 non-null   object \n",
      " 17  gearbox_type  2194 non-null   object \n",
      " 18  car_seller    2197 non-null   object \n",
      " 19  car_price     2197 non-null   object \n",
      " 20  deal          13 non-null     object \n",
      "dtypes: float64(2), int64(4), object(15)\n",
      "memory usage: 377.6+ KB\n"
     ]
    }
   ],
   "source": [
    "data.info()"
   ],
   "metadata": {
    "collapsed": false,
    "ExecuteTime": {
     "end_time": "2023-10-31T15:50:39.951309Z",
     "start_time": "2023-10-31T15:50:38.113301Z"
    }
   }
  },
  {
   "cell_type": "markdown",
   "source": [
    "Some cars don't have make and model indicated. They are indicated as 'Muu merkki' and 'Muu malli' which means 'Other make' and 'Other model'. "
   ],
   "metadata": {
    "collapsed": false
   }
  },
  {
   "cell_type": "code",
   "execution_count": 1571,
   "outputs": [],
   "source": [
    "no_make_model = data[(data['model'] == 'Muu malli') | (data['car_make'] == 'Muu merkki')].index\n",
    "to_be_deleted.update(no_make_model)"
   ],
   "metadata": {
    "collapsed": false,
    "ExecuteTime": {
     "end_time": "2023-10-31T15:50:39.951344Z",
     "start_time": "2023-10-31T15:50:38.116156Z"
    }
   }
  },
  {
   "cell_type": "markdown",
   "source": [
    "Previously we've identified cars that are broken and require repair. We can't evaluate volume of investment to repair each particular car so I'd prefer to delete all cars that are not roadworthy from the dataset."
   ],
   "metadata": {
    "collapsed": false
   }
  },
  {
   "cell_type": "code",
   "execution_count": 1572,
   "outputs": [],
   "source": [
    "to_be_deleted.update(data[data['roadworthy'] == 0].index)"
   ],
   "metadata": {
    "collapsed": false,
    "ExecuteTime": {
     "end_time": "2023-10-31T15:50:39.951400Z",
     "start_time": "2023-10-31T15:50:38.118002Z"
    }
   }
  },
  {
   "cell_type": "markdown",
   "source": [
    "In 'Gearbox' column we have more than 11000 NaN values. We can't delete all of them as we'll lose too much useful data. However, using common sense and knowledge about car mechanics we can transform this column. Firstly, manual transmission is only available in mild hybrid vehicles because full hybrid cars can only work optimally with an automatic transmission. Therefore all hybrid cars in the dataset could be marked as having 'Automatti' gearbox. Electric motors deliver their power in such a way that they feel similar to automatic petrol or diesel cars to drive, but while automatic petrol and diesel cars have multiple gears to choose from, electric cars tend to have only a single gear. In this regard I assume that electric (or Sähkö) cars could be marked 'Automatti' as well."
   ],
   "metadata": {
    "collapsed": false
   }
  },
  {
   "cell_type": "code",
   "execution_count": 1573,
   "outputs": [],
   "source": [
    "nan_gearbox = data[data['gearbox_type'].isna()]"
   ],
   "metadata": {
    "collapsed": false,
    "ExecuteTime": {
     "end_time": "2023-10-31T15:50:39.951431Z",
     "start_time": "2023-10-31T15:50:38.120638Z"
    }
   }
  },
  {
   "cell_type": "code",
   "execution_count": 1574,
   "outputs": [],
   "source": [
    "automaatti_index = nan_gearbox[(nan_gearbox['fuel_type'] == 'Hybridi (bensiini/sähkö)') | (nan_gearbox['fuel_type'] == 'Hybridi (diesel/sähkö)') | (nan_gearbox['fuel_type'] == 'Sähkö')].index\n",
    "data.loc[automaatti_index, 'gearbox_type'] = 'Automaatti'"
   ],
   "metadata": {
    "collapsed": false,
    "ExecuteTime": {
     "end_time": "2023-10-31T15:50:39.951461Z",
     "start_time": "2023-10-31T15:50:38.123887Z"
    }
   }
  },
  {
   "cell_type": "code",
   "execution_count": 1575,
   "outputs": [],
   "source": [
    "data_automaatti_index = data[(data['fuel_type'] == 'Hybridi (bensiini/sähkö)') | (data['fuel_type'] == 'Hybridi (diesel/sähkö)') | (data['fuel_type'] == 'Sähkö')].index\n",
    "data.loc[data_automaatti_index, 'gearbox_type'] = 'Automaatti'"
   ],
   "metadata": {
    "collapsed": false,
    "ExecuteTime": {
     "end_time": "2023-10-31T15:50:39.951490Z",
     "start_time": "2023-10-31T15:50:38.126688Z"
    }
   }
  },
  {
   "cell_type": "code",
   "execution_count": 1576,
   "outputs": [],
   "source": [
    "to_be_deleted.update(data[data['gearbox_type'].isna()].index)"
   ],
   "metadata": {
    "collapsed": false,
    "ExecuteTime": {
     "end_time": "2023-10-31T15:50:39.951520Z",
     "start_time": "2023-10-31T15:50:38.129909Z"
    }
   }
  },
  {
   "cell_type": "markdown",
   "source": [
    "Previously we've extracted several deal types. They are: 'Tax free', 'ALV väh.kelp.' and 'sis. ALV'. I'll explain this in detail.\n",
    " - Tax free' means that VAT is not included into car price. Usually such cars are sold outside Finland and purchase of such car requires additional car tax payment which is calculated based on vehicle's category, selling price, date of first registration and CO2 values. Car with this status usually cost significantly cheaper than same car that has already been registered in Finland. It means all ads with 'Tax free' shall be deleted from dataset.\n",
    "  - 'ALV väh.kelp.' and 'sis. ALV' statuses mean that VAT was included in the car price and it could be deducted. Finnish tax legislation allows such deduction if car is purchased for company and is used only for work related purposes. Such practice is quite popular in Finland, however, it requires strict reporting to tax administration related to car usage. For this project goal such status does not have affect on price as all taxes are already included in the price.\n"
   ],
   "metadata": {
    "collapsed": false
   }
  },
  {
   "cell_type": "code",
   "execution_count": 1577,
   "outputs": [],
   "source": [
    "tax_free_cars = data[(data['deal'] == 'Tax free') | (data['deal'] == 'Tax free, sis. ALV') | (data['deal'] == 'Tax free, ALV väh.kelp.')].index\n",
    "to_be_deleted.update(tax_free_cars)"
   ],
   "metadata": {
    "collapsed": false,
    "ExecuteTime": {
     "end_time": "2023-10-31T15:50:39.951550Z",
     "start_time": "2023-10-31T15:50:38.132529Z"
    }
   }
  },
  {
   "cell_type": "markdown",
   "source": [
    "In the key column with car price there are 274 cars with status 'Eihinnoiteltu' which means 'No price'. Basically we can add these cars to test dataset so the model could predict price for them as well. However, we won't be able to count error metric for them so I prefer to delete them as well."
   ],
   "metadata": {
    "collapsed": false
   }
  },
  {
   "cell_type": "code",
   "execution_count": 1578,
   "outputs": [],
   "source": [
    "to_be_deleted.update(data[data['car_price'] == 'Eihinnoiteltu'].index)"
   ],
   "metadata": {
    "collapsed": false,
    "ExecuteTime": {
     "end_time": "2023-10-31T15:50:39.951579Z",
     "start_time": "2023-10-31T15:50:38.134910Z"
    }
   }
  },
  {
   "cell_type": "markdown",
   "source": [
    "Finally we can delete those indexes that we've marked."
   ],
   "metadata": {
    "collapsed": false
   }
  },
  {
   "cell_type": "code",
   "execution_count": 1579,
   "outputs": [],
   "source": [
    "data = data.drop(index=to_be_deleted)"
   ],
   "metadata": {
    "collapsed": false,
    "ExecuteTime": {
     "end_time": "2023-10-31T15:50:39.951609Z",
     "start_time": "2023-10-31T15:50:38.137229Z"
    }
   }
  },
  {
   "cell_type": "markdown",
   "source": [
    "As we extracted all necessary information from 'roadworthy' and 'deal' columns we can delete them as well."
   ],
   "metadata": {
    "collapsed": false
   }
  },
  {
   "cell_type": "code",
   "execution_count": 1580,
   "outputs": [],
   "source": [
    "data = data.drop(columns=['roadworthy', 'deal'])"
   ],
   "metadata": {
    "collapsed": false,
    "ExecuteTime": {
     "end_time": "2023-10-31T15:50:39.951638Z",
     "start_time": "2023-10-31T15:50:38.138848Z"
    }
   }
  },
  {
   "cell_type": "code",
   "execution_count": 1581,
   "outputs": [],
   "source": [
    "data['car_price'] = data['car_price'].astype(int)"
   ],
   "metadata": {
    "collapsed": false,
    "ExecuteTime": {
     "end_time": "2023-10-31T15:50:39.951667Z",
     "start_time": "2023-10-31T15:50:38.142065Z"
    }
   }
  },
  {
   "cell_type": "markdown",
   "source": [
    "As result now we have clean dataset without NaN values. "
   ],
   "metadata": {
    "collapsed": false
   }
  },
  {
   "cell_type": "code",
   "execution_count": 1582,
   "outputs": [],
   "source": [
    "data['make_model'] = data['make_model'].apply(lambda x: x.lower())"
   ],
   "metadata": {
    "collapsed": false,
    "ExecuteTime": {
     "end_time": "2023-10-31T15:50:39.951696Z",
     "start_time": "2023-10-31T15:50:38.148284Z"
    }
   }
  },
  {
   "cell_type": "code",
   "execution_count": 1583,
   "outputs": [],
   "source": [
    "cars = pd.read_csv('/Users/egor/Documents/data_science_course/project_7/data/characteristics.csv', index_col=0)\n",
    "cars = cars[['manufacturer', 'model', 'category', 'year', 'gear_box_type', 'doors']]\n",
    "cars['make_model'] = cars['manufacturer'] + ' ' + cars['model']\n",
    "cars['make_model'] = cars['make_model'].astype(str).apply(lambda x: x.lower())\n",
    "cars['gear_box_type'] = cars['gear_box_type'].apply(\n",
    "    lambda x: {'Automatic': 'Automaatti', 'Tiptronic': 'Automaatti', 'Manual': 'Manuaali', 'Variator': 'Automaatti'}.get(x)\n",
    ")\n",
    "cars = cars.drop(columns=['manufacturer', 'model'])\n",
    "cars = cars.dropna()"
   ],
   "metadata": {
    "collapsed": false,
    "ExecuteTime": {
     "end_time": "2023-10-31T15:50:39.951743Z",
     "start_time": "2023-10-31T15:50:38.150653Z"
    }
   }
  },
  {
   "cell_type": "code",
   "execution_count": 1584,
   "outputs": [
    {
     "data": {
      "text/plain": "                           fuel      gear     hp  year       make_model\n0                        Diesel  Manuaali  116.0  2011          bmw 316\n1                      Bensiini  Manuaali  122.0  2011  volkswagen golf\n2                      Bensiini  Manuaali  160.0  2011        seat exeo\n3                      Bensiini  Manuaali  110.0  2011   renault megane\n4                      Bensiini  Manuaali  156.0  2011      peugeot 308\n...                         ...       ...    ...   ...              ...\n46400  Hybridi (bensiini/sähkö)  Manuaali   71.0  2021         fiat 500\n46401  Hybridi (bensiini/sähkö)  Manuaali   71.0  2021         fiat 500\n46402  Hybridi (bensiini/sähkö)  Manuaali   71.0  2021         fiat 500\n46403  Hybridi (bensiini/sähkö)  Manuaali   71.0  2021         fiat 500\n46404  Hybridi (bensiini/sähkö)  Manuaali   71.0  2021         fiat 500\n\n[46071 rows x 5 columns]",
      "text/html": "<div>\n<style scoped>\n    .dataframe tbody tr th:only-of-type {\n        vertical-align: middle;\n    }\n\n    .dataframe tbody tr th {\n        vertical-align: top;\n    }\n\n    .dataframe thead th {\n        text-align: right;\n    }\n</style>\n<table border=\"1\" class=\"dataframe\">\n  <thead>\n    <tr style=\"text-align: right;\">\n      <th></th>\n      <th>fuel</th>\n      <th>gear</th>\n      <th>hp</th>\n      <th>year</th>\n      <th>make_model</th>\n    </tr>\n  </thead>\n  <tbody>\n    <tr>\n      <th>0</th>\n      <td>Diesel</td>\n      <td>Manuaali</td>\n      <td>116.0</td>\n      <td>2011</td>\n      <td>bmw 316</td>\n    </tr>\n    <tr>\n      <th>1</th>\n      <td>Bensiini</td>\n      <td>Manuaali</td>\n      <td>122.0</td>\n      <td>2011</td>\n      <td>volkswagen golf</td>\n    </tr>\n    <tr>\n      <th>2</th>\n      <td>Bensiini</td>\n      <td>Manuaali</td>\n      <td>160.0</td>\n      <td>2011</td>\n      <td>seat exeo</td>\n    </tr>\n    <tr>\n      <th>3</th>\n      <td>Bensiini</td>\n      <td>Manuaali</td>\n      <td>110.0</td>\n      <td>2011</td>\n      <td>renault megane</td>\n    </tr>\n    <tr>\n      <th>4</th>\n      <td>Bensiini</td>\n      <td>Manuaali</td>\n      <td>156.0</td>\n      <td>2011</td>\n      <td>peugeot 308</td>\n    </tr>\n    <tr>\n      <th>...</th>\n      <td>...</td>\n      <td>...</td>\n      <td>...</td>\n      <td>...</td>\n      <td>...</td>\n    </tr>\n    <tr>\n      <th>46400</th>\n      <td>Hybridi (bensiini/sähkö)</td>\n      <td>Manuaali</td>\n      <td>71.0</td>\n      <td>2021</td>\n      <td>fiat 500</td>\n    </tr>\n    <tr>\n      <th>46401</th>\n      <td>Hybridi (bensiini/sähkö)</td>\n      <td>Manuaali</td>\n      <td>71.0</td>\n      <td>2021</td>\n      <td>fiat 500</td>\n    </tr>\n    <tr>\n      <th>46402</th>\n      <td>Hybridi (bensiini/sähkö)</td>\n      <td>Manuaali</td>\n      <td>71.0</td>\n      <td>2021</td>\n      <td>fiat 500</td>\n    </tr>\n    <tr>\n      <th>46403</th>\n      <td>Hybridi (bensiini/sähkö)</td>\n      <td>Manuaali</td>\n      <td>71.0</td>\n      <td>2021</td>\n      <td>fiat 500</td>\n    </tr>\n    <tr>\n      <th>46404</th>\n      <td>Hybridi (bensiini/sähkö)</td>\n      <td>Manuaali</td>\n      <td>71.0</td>\n      <td>2021</td>\n      <td>fiat 500</td>\n    </tr>\n  </tbody>\n</table>\n<p>46071 rows × 5 columns</p>\n</div>"
     },
     "execution_count": 1584,
     "metadata": {},
     "output_type": "execute_result"
    }
   ],
   "source": [
    "cars_hp = pd.read_csv('/Users/egor/Documents/data_science_course/project_7/data/autoscout24-germany-dataset.csv')\n",
    "cars_hp['make_model'] = cars_hp['make'] + ' ' + cars_hp['model']\n",
    "cars_hp['make_model'] = cars_hp['make_model'].astype(str).apply(lambda x: x.lower())\n",
    "cars_hp = cars_hp.drop(columns=['make', 'model', 'mileage', 'offerType', 'price'])\n",
    "\n",
    "fuel_dict = {\n",
    "    'Gasoline': 'Bensiini',\n",
    "    'Electric/Gasoline': 'Hybridi (bensiini/sähkö)',\n",
    "    'Electric': 'Sähkö',\n",
    "    'LPG': 'Kaasu',\n",
    "    'CNG': 'Kaasu',\n",
    "    'Electric/Diesel': 'Hybridi (diesel/sähkö)',\n",
    "    'Others': np.nan,\n",
    "    '-/- (Fuel)': np.nan,\n",
    "    'Ethanol': 'E85/bensiini',\n",
    "    'Hydrogen': np.nan\n",
    "}\n",
    "\n",
    "cars_hp['fuel'] = cars_hp['fuel'].apply(lambda x: fuel_dict.get(x, x))\n",
    "\n",
    "gear_dict = {\n",
    "    'Manual': 'Manuaali',\n",
    "    'Automatic': 'Automaatti',\n",
    "    'Semi-automatic': np.nan\n",
    "}\n",
    "\n",
    "cars_hp['gear'] = cars_hp['gear'].apply(lambda x: gear_dict.get(x, x))\n",
    "cars_hp = cars_hp.dropna()\n",
    "cars_hp"
   ],
   "metadata": {
    "collapsed": false,
    "ExecuteTime": {
     "end_time": "2023-10-31T15:50:39.985746Z",
     "start_time": "2023-10-31T15:50:38.296624Z"
    }
   }
  },
  {
   "cell_type": "code",
   "execution_count": 1585,
   "outputs": [],
   "source": [
    "cars_hp_grouped_year = cars_hp.groupby(by=['make_model', 'year', 'gear', 'fuel'], as_index=False)['hp'].agg(pd.Series.mode)\n",
    "cars_hp_grouped = cars_hp.groupby(by=['make_model', 'gear', 'fuel'], as_index=False)['hp'].agg(pd.Series.mode)"
   ],
   "metadata": {
    "collapsed": false,
    "ExecuteTime": {
     "end_time": "2023-10-31T15:50:40.078202Z",
     "start_time": "2023-10-31T15:50:38.351267Z"
    }
   }
  },
  {
   "cell_type": "code",
   "execution_count": 1586,
   "outputs": [],
   "source": [
    "data_grouped_year = data.groupby(by=['make_model', 'car_make', 'year', 'gearbox_type', 'fuel_type'], as_index=False)['engine_vol'].count()\n",
    "data_grouped = data.groupby(by=['make_model', 'gearbox_type', 'fuel_type'], as_index=False)['engine_vol'].count()"
   ],
   "metadata": {
    "collapsed": false,
    "ExecuteTime": {
     "end_time": "2023-10-31T15:50:40.078359Z",
     "start_time": "2023-10-31T15:50:38.608570Z"
    }
   }
  },
  {
   "cell_type": "code",
   "execution_count": 1587,
   "outputs": [],
   "source": [
    "data_joined_year = pd.merge(\n",
    "    data_grouped_year,\n",
    "    cars_hp_grouped_year, \n",
    "    how='left', \n",
    "    left_on=['make_model', 'year', 'fuel_type', 'gearbox_type'],\n",
    "    right_on=['make_model', 'year', 'fuel', 'gear']\n",
    ")"
   ],
   "metadata": {
    "collapsed": false,
    "ExecuteTime": {
     "end_time": "2023-10-31T15:50:40.078395Z",
     "start_time": "2023-10-31T15:50:38.614507Z"
    }
   }
  },
  {
   "cell_type": "code",
   "execution_count": 1588,
   "outputs": [],
   "source": [
    "data_joined = pd.merge(\n",
    "    data_joined_year,\n",
    "    cars_hp_grouped, \n",
    "    how='left', \n",
    "    left_on=['make_model', 'fuel_type', 'gearbox_type'],\n",
    "    right_on=['make_model', 'fuel', 'gear']\n",
    ")"
   ],
   "metadata": {
    "collapsed": false,
    "ExecuteTime": {
     "end_time": "2023-10-31T15:50:40.078425Z",
     "start_time": "2023-10-31T15:50:38.619412Z"
    }
   }
  },
  {
   "cell_type": "code",
   "execution_count": 1589,
   "outputs": [],
   "source": [
    "data_joined['hp'] = np.where(data_joined['hp_x'].notna(), data_joined['hp_x'], data_joined['hp_y'])\n",
    "data_joined['hp'] = data_joined['hp'].apply(lambda x: x if isinstance(x, float) else mean(x))\n",
    "data_joined = data_joined.drop(columns=['engine_vol', 'gear_x', 'gear_y', 'fuel_x', 'fuel_y', 'hp_x', 'hp_y'])\n",
    "\n",
    "data_joined_make = data_joined.groupby(by='car_make')['hp'].mean()\n",
    "\n",
    "data_joined = pd.merge(\n",
    "    data_joined,\n",
    "    data_joined_make, \n",
    "    how='left', \n",
    "    on='car_make'\n",
    ")\n",
    "\n",
    "data_joined['hp'] = np.where(data_joined['hp_x'].notna(), data_joined['hp_x'], data_joined['hp_y'])\n",
    "data_joined = data_joined.drop(columns=['car_make', 'hp_x', 'hp_y'])"
   ],
   "metadata": {
    "collapsed": false,
    "ExecuteTime": {
     "end_time": "2023-10-31T15:50:40.078477Z",
     "start_time": "2023-10-31T15:50:38.624252Z"
    }
   }
  },
  {
   "cell_type": "code",
   "execution_count": 1590,
   "outputs": [],
   "source": [
    "data = pd.merge(\n",
    "    data,\n",
    "    data_joined, \n",
    "    how='left', \n",
    "    on=['make_model', 'year', 'gearbox_type', 'fuel_type']\n",
    ")\n",
    "data['hp_x'] = np.where(data['hp_x'].notna(), data['hp_x'], data['power']/0.73549875)\n",
    "data['hp_x'] = np.where(data['hp_x'] > 59, data['hp_x'], data['hp_y'])\n",
    "data = data.drop(columns=['hp_y', 'power'])\n",
    "data = data.rename(columns={'hp_x': 'hp'})"
   ],
   "metadata": {
    "collapsed": false,
    "ExecuteTime": {
     "end_time": "2023-10-31T15:50:40.078507Z",
     "start_time": "2023-10-31T15:50:38.628721Z"
    }
   }
  },
  {
   "cell_type": "code",
   "execution_count": 1591,
   "outputs": [],
   "source": [
    "hp_grouped = data.groupby(by=['engine_vol', 'year', 'fuel_type', 'gearbox_type'], as_index=False)['hp'].mean()\n",
    "hp_grouped['hp'] = hp_grouped['hp'].apply(lambda x: x if isinstance(x, float) else np.nan if len(x)==0 else mean(x))\n",
    "\n",
    "data = pd.merge(\n",
    "    data,\n",
    "    hp_grouped, \n",
    "    how='left', \n",
    "    on=['engine_vol', 'year', 'fuel_type', 'gearbox_type']\n",
    ")\n",
    "data['hp_x'] = np.where(data['hp_x'].notna(), data['hp_x'], data['hp_y'])\n",
    "data = data.drop(columns=['hp_y'])\n",
    "data = data.rename(columns={'hp_x': 'hp'})"
   ],
   "metadata": {
    "collapsed": false,
    "ExecuteTime": {
     "end_time": "2023-10-31T15:50:40.078536Z",
     "start_time": "2023-10-31T15:50:38.634479Z"
    }
   }
  },
  {
   "cell_type": "code",
   "execution_count": 1592,
   "outputs": [],
   "source": [
    "hp_grouped_no_year = data.groupby(by=['engine_vol', 'fuel_type'], as_index=False)['hp'].mean()\n",
    "\n",
    "data = pd.merge(\n",
    "    data,\n",
    "    hp_grouped_no_year, \n",
    "    how='left', \n",
    "    on=['engine_vol', 'fuel_type']\n",
    ")\n",
    "data['hp_x'] = np.where(data['hp_x'].notna(), data['hp_x'], data['hp_y'])\n",
    "data = data.drop(columns=['hp_y'])\n",
    "data = data.rename(columns={'hp_x': 'hp'})"
   ],
   "metadata": {
    "collapsed": false,
    "ExecuteTime": {
     "end_time": "2023-10-31T15:50:40.078564Z",
     "start_time": "2023-10-31T15:50:38.640247Z"
    }
   }
  },
  {
   "cell_type": "code",
   "execution_count": 1593,
   "outputs": [],
   "source": [
    "data['hp'] = data['hp'].fillna(data['hp'].mean())"
   ],
   "metadata": {
    "collapsed": false,
    "ExecuteTime": {
     "end_time": "2023-10-31T15:50:40.078592Z",
     "start_time": "2023-10-31T15:50:38.645475Z"
    }
   }
  },
  {
   "cell_type": "code",
   "execution_count": 1594,
   "outputs": [],
   "source": [
    "cars_categories = cars.groupby(by=['make_model'], as_index=False)[['doors', 'category']].agg(pd.Series.mode)\n",
    "\n",
    "cars_categories['doors'] = cars_categories['doors'].apply(\n",
    "    lambda x: x.replace(' ', '') if isinstance(x, str) else x.tolist()[0].replace(' ', '')\n",
    ")\n",
    "\n",
    "cars_categories['category'] = cars_categories['category'].apply(lambda x: x if isinstance(x, str) else x.tolist()[0])"
   ],
   "metadata": {
    "collapsed": false,
    "ExecuteTime": {
     "end_time": "2023-10-31T15:50:40.083993Z",
     "start_time": "2023-10-31T15:50:38.651556Z"
    }
   }
  },
  {
   "cell_type": "code",
   "execution_count": 1595,
   "outputs": [],
   "source": [
    "data = pd.merge(\n",
    "    data,\n",
    "    cars_categories, \n",
    "    how='left', \n",
    "    on='make_model'\n",
    ")\n",
    "\n",
    "data['category_x'] = np.where(data['category_x'].notna(), data['category_x'], data['category_y'])\n",
    "\n",
    "data['doors_x'] = np.where(data['doors_x'].notna(), data['doors_x'], data['doors_y'])\n",
    "\n",
    "data = data.drop(columns=['category_y', 'doors_y'])\n",
    "data = data.rename(columns={'category_x': 'category', 'doors_x': 'doors'})"
   ],
   "metadata": {
    "collapsed": false,
    "ExecuteTime": {
     "end_time": "2023-10-31T15:50:40.095814Z",
     "start_time": "2023-10-31T15:50:38.815767Z"
    }
   }
  },
  {
   "cell_type": "code",
   "execution_count": 1596,
   "outputs": [],
   "source": [
    "category_door = cars.groupby(by=['category'], as_index=False)['doors'].agg(pd.Series.mode)\n",
    "category_door['doors'] = category_door['doors'].apply(\n",
    "    lambda x: x.replace(' ', ''))\n",
    "\n",
    "door_category = cars.groupby(by=['doors'], as_index=False)['category'].agg(pd.Series.mode)\n",
    "door_category['doors'] = door_category['doors'].apply(\n",
    "    lambda x: x.replace(' ', ''))\n",
    "\n",
    "data = pd.merge(\n",
    "    data,\n",
    "    category_door, \n",
    "    how='left', \n",
    "    on='category'\n",
    ")\n",
    "\n",
    "data['doors_x'] = np.where(data['doors_x'].notna(), data['doors_x'], data['doors_y'])\n",
    "\n",
    "data = data.drop(columns=['doors_y'])\n",
    "data = data.rename(columns={'doors_x': 'doors'})\n",
    "\n",
    "data = pd.merge(\n",
    "    data,\n",
    "    door_category, \n",
    "    how='left', \n",
    "    on='doors'\n",
    ")\n",
    "\n",
    "data['category_x'] = np.where(data['category_x'].notna(), data['category_x'], data['category_y'])\n",
    "\n",
    "data = data.drop(columns=['category_y'])\n",
    "data = data.rename(columns={'category_x': 'category'})\n",
    "\n",
    "data = pd.merge(\n",
    "    data,\n",
    "    category_door, \n",
    "    how='left', \n",
    "    on='category'\n",
    ")\n",
    "\n",
    "data['doors_x'] = np.where(data['doors_x'].notna(), data['doors_x'], data['doors_y'])\n",
    "\n",
    "data = data.drop(columns=['doors_y'])\n",
    "data = data.rename(columns={'doors_x': 'doors'})"
   ],
   "metadata": {
    "collapsed": false,
    "ExecuteTime": {
     "end_time": "2023-10-31T15:50:40.095904Z",
     "start_time": "2023-10-31T15:50:38.820501Z"
    }
   }
  },
  {
   "cell_type": "code",
   "execution_count": 1597,
   "outputs": [],
   "source": [
    "data['engine_vol'] = data['engine_vol'].astype(float)"
   ],
   "metadata": {
    "collapsed": false,
    "ExecuteTime": {
     "end_time": "2023-10-31T15:50:40.095936Z",
     "start_time": "2023-10-31T15:50:38.842394Z"
    }
   }
  },
  {
   "cell_type": "code",
   "execution_count": 1598,
   "outputs": [],
   "source": [
    "main_data = pd.read_csv('/Users/egor/Documents/data_science_course/project_7/data/data_clean.csv', index_col=0)\n",
    "car_companies = main_data[main_data['is_company'] == 1].groupby(by='car_seller')['town'].count().index\n",
    "main_data = main_data[[\n",
    "    'engine_vol', 'make_model', 'awd', 'category', \n",
    "    'doors', 'hp', 'capacity', 'fuel_type',\n",
    "    'price_category', 'gearbox_type']]\n",
    "md_grouped = main_data.groupby(by=['make_model', 'fuel_type', 'engine_vol'], as_index=False).agg(pd.Series.mode)\n",
    "\n",
    "data = pd.merge(\n",
    "    data,\n",
    "    md_grouped, \n",
    "    how='left', \n",
    "    on=['make_model', 'engine_vol', 'fuel_type']\n",
    ")\n",
    "\n",
    "data['awd_x'] = np.where(data['awd_x'].notna(), data['awd_x'], data['awd_y'])\n",
    "data['category_x'] = np.where(data['category_x'].notna(), data['category_x'], data['category_y'])\n",
    "data['doors_x'] = np.where(data['doors_x'].notna(), data['doors_x'], data['doors_y'])\n",
    "data['hp_x'] = np.where(data['hp_x'].notna(), data['hp_x'], data['hp_y'])\n",
    "data['capacity_x'] = np.where(data['capacity_x'].notna(), data['capacity_x'], data['capacity_y'])\n",
    "data['gearbox_type_x'] = np.where(data['gearbox_type_x'].notna(), data['gearbox_type_x'], data['gearbox_type_y'])\n",
    "\n",
    "data = data.drop(columns=['awd_y', 'doors_y', 'category_y', 'hp_y', 'capacity_y', 'gearbox_type_y'])\n",
    "data = data.rename(columns={\n",
    "    'doors_x': 'doors', \n",
    "    'awd_x': 'awd',\n",
    "    'category_x': 'category',\n",
    "    'hp_x': 'hp',\n",
    "    'capacity_x': 'capacity',\n",
    "    'gearbox_type_x': 'gearbox_type'\n",
    "})"
   ],
   "metadata": {
    "collapsed": false,
    "ExecuteTime": {
     "end_time": "2023-10-31T15:50:40.198641Z",
     "start_time": "2023-10-31T15:50:38.846195Z"
    }
   }
  },
  {
   "cell_type": "code",
   "execution_count": 1599,
   "outputs": [],
   "source": [
    "def get_hp_cat(hp_value):\n",
    "    if hp_value < 100:\n",
    "        return 'low (less 100)'\n",
    "    elif hp_value < 170:\n",
    "        return 'medium (less 170)'\n",
    "    elif hp_value < 270:\n",
    "        return 'high (less 270)'\n",
    "    else:\n",
    "        return 'max (more 270)'\n",
    "    \n",
    "data['hp_cat'] = data['hp'].apply(get_hp_cat)"
   ],
   "metadata": {
    "collapsed": false,
    "ExecuteTime": {
     "end_time": "2023-10-31T15:50:40.199204Z",
     "start_time": "2023-10-31T15:50:39.687632Z"
    }
   }
  },
  {
   "cell_type": "markdown",
   "source": [
    "Some cars are sold by individuals, others are sold by car companies. I'll mark them as categorical."
   ],
   "metadata": {
    "collapsed": false
   }
  },
  {
   "cell_type": "code",
   "execution_count": 1600,
   "outputs": [],
   "source": [
    "company_tags = [' oy', 'tmi ', '.fi', 't:mi ', ' ky', '.com', ' ab', 'oy ', ' oü']\n",
    "\n",
    "def is_company(sample_string, car_companies, company_tags):\n",
    "    if sample_string in car_companies:\n",
    "        return 1\n",
    "    else:        \n",
    "        for tag in company_tags:\n",
    "            if tag in sample_string:\n",
    "                return 1\n",
    "        return 0\n",
    "\n",
    "data['is_company'] = data['car_seller'].apply(lambda x: is_company(x, car_companies, company_tags))"
   ],
   "metadata": {
    "collapsed": false,
    "ExecuteTime": {
     "end_time": "2023-10-31T15:50:40.199252Z",
     "start_time": "2023-10-31T15:50:39.692080Z"
    }
   }
  },
  {
   "cell_type": "code",
   "execution_count": 1601,
   "outputs": [],
   "source": [
    "population = pd.read_excel('/Users/egor/Documents/data_science_course/project_7/data/001_11lj_2023m08_20231024-194749.xlsx')\n",
    "population = population.dropna(\n",
    "    subset=['Unnamed: 1', 'Unnamed: 2']).reset_index(drop=True).drop(\n",
    "    columns='Preliminary population structure by Month, Area and Information').rename(\n",
    "    columns={'Unnamed: 1': 'town', 'Unnamed: 2': 'population'})\n",
    "\n",
    "population['population'] = population['population'].astype(int)\n",
    "\n",
    "data = pd.merge(\n",
    "    data,\n",
    "    population, \n",
    "    how='left', \n",
    "    on='town'\n",
    ")\n",
    "\n",
    "data['population'] = data['population'].fillna(data['population'].median()) "
   ],
   "metadata": {
    "collapsed": false,
    "ExecuteTime": {
     "end_time": "2023-10-31T15:50:40.199284Z",
     "start_time": "2023-10-31T15:50:39.694829Z"
    }
   }
  },
  {
   "cell_type": "code",
   "execution_count": 1602,
   "outputs": [],
   "source": [
    "def get_city_cat(population):\n",
    "    if population <= 6000:\n",
    "        return 'Very small (0-6k)'\n",
    "    elif population <= 20000:\n",
    "        return 'Small (6k-20k)'\n",
    "    elif population <= 50000:\n",
    "        return 'Medium (20-50k)'\n",
    "    elif population <= 100000:\n",
    "        return 'Big (50-100k)'\n",
    "    else:\n",
    "        return 'Biggest (more 100k)'\n",
    "    \n",
    "data['town_category'] = data['population'].apply(get_city_cat)"
   ],
   "metadata": {
    "collapsed": false,
    "ExecuteTime": {
     "end_time": "2023-10-31T15:50:40.199315Z",
     "start_time": "2023-10-31T15:50:39.710140Z"
    }
   }
  },
  {
   "cell_type": "code",
   "execution_count": 1603,
   "outputs": [],
   "source": [
    "for i in data.columns[data.isna().any()]:\n",
    "    data[i] = data[i].fillna(data[i].mode()[0])"
   ],
   "metadata": {
    "collapsed": false,
    "ExecuteTime": {
     "end_time": "2023-10-31T15:50:40.199347Z",
     "start_time": "2023-10-31T15:50:39.716398Z"
    }
   }
  },
  {
   "cell_type": "code",
   "execution_count": 1604,
   "outputs": [
    {
     "data": {
      "text/plain": "             town                                                 id  \\\n0           Espoo     https://www.nettiauto.com/toyota/rav4/13931107   \n1     Kirkkonummi  https://www.nettiauto.com/mercedes-benz/viano/...   \n2        Hyvinkää         https://www.nettiauto.com/ford/ka/13922153   \n3       Jyväskylä   https://www.nettiauto.com/skoda/felicia/13942509   \n4         Loviisa      https://www.nettiauto.com/fiat/marea/13860523   \n...           ...                                                ...   \n1453        Vaasa     https://www.nettiauto.com/lada/samara/13819797   \n1454  Hämeenlinna   https://www.nettiauto.com/nissan/almera/13823344   \n1455    Parikkala         https://www.nettiauto.com/audi/a4/13831301   \n1456         Oulu  https://www.nettiauto.com/nissan/primera/13842169   \n1457    Sastamala  https://www.nettiauto.com/volkswagen/golf/1384...   \n\n      engine_vol       car_make    model           make_model  awd   category  \\\n0            2.5         Toyota     RAV4          toyota rav4    0       Jeep   \n1            2.2  Mercedes-Benz    Viano  mercedes-benz viano    0    Minivan   \n2            1.2           Ford       Ka              ford ka    0      Coupe   \n3            1.6          Skoda  Felicia        skoda felicia    0  Universal   \n4            1.6           Fiat    Marea           fiat marea    0      Sedan   \n...          ...            ...      ...                  ...  ...        ...   \n1453         1.5           Lada   Samara          lada samara    0      Sedan   \n1454         1.5         Nissan   Almera        nissan almera    0  Hatchback   \n1455         2.0           Audi       A4              audi a4    0      Sedan   \n1456         1.8         Nissan  Primera       nissan primera    0      Sedan   \n1457         1.9     Volkswagen     Golf      volkswagen golf    0  Hatchback   \n\n     doors   hp  ...  mileage                 fuel_type  \\\n0      4/5  113  ...   112000  Hybridi (bensiini/sähkö)   \n1      4/5  172  ...   351000                    Diesel   \n2      2/3  127  ...   230000                  Bensiini   \n3      4/5  123  ...   266415                  Bensiini   \n4      4/5   86  ...   260000                  Bensiini   \n...    ...  ...  ...      ...                       ...   \n1453   4/5  142  ...   110000                  Bensiini   \n1454   4/5   89  ...   287000                  Bensiini   \n1455   4/5  150  ...   355000                  Bensiini   \n1456   4/5   89  ...   239000                  Bensiini   \n1457   4/5  105  ...   465000                    Diesel   \n\n                        car_seller car_price price_category  \\\n0                            kiesi     23680         Medium   \n1                      uwe schwarz      5700        Highend   \n2                    joni palmgren       200         Medium   \n3                    jere mustonen       200        Highend   \n4                  tiina karttiala       250         Medium   \n...                            ...       ...            ...   \n1453            jokke rinkineva oy      1350         Budget   \n1454  autokiillotus vuorinen hannu      1350         Medium   \n1455                  yusufcan sen      1350        Highend   \n1456                eemil pitkänen      1350         Medium   \n1457                   mikko tullu      1350         Medium   \n\n                 hp_cat is_company population        town_category  \\\n0     medium (less 170)          1   310912.0  Biggest (more 100k)   \n1       high (less 270)          0    40983.0      Medium (20-50k)   \n2     medium (less 170)          0    46889.0      Medium (20-50k)   \n3     medium (less 170)          0   146826.0  Biggest (more 100k)   \n4        low (less 100)          0    14442.0       Small (6k-20k)   \n...                 ...        ...        ...                  ...   \n1453  medium (less 170)          1    68580.0        Big (50-100k)   \n1454     low (less 100)          1    68208.0        Big (50-100k)   \n1455  medium (less 170)          0     4398.0    Very small (0-6k)   \n1456     low (less 100)          0   213348.0  Biggest (more 100k)   \n1457  medium (less 170)          0    23618.0      Medium (20-50k)   \n\n      manual_gearbox  \n0                  0  \n1                  1  \n2                  1  \n3                  1  \n4                  1  \n...              ...  \n1453               1  \n1454               1  \n1455               1  \n1456               1  \n1457               1  \n\n[1458 rows x 22 columns]",
      "text/html": "<div>\n<style scoped>\n    .dataframe tbody tr th:only-of-type {\n        vertical-align: middle;\n    }\n\n    .dataframe tbody tr th {\n        vertical-align: top;\n    }\n\n    .dataframe thead th {\n        text-align: right;\n    }\n</style>\n<table border=\"1\" class=\"dataframe\">\n  <thead>\n    <tr style=\"text-align: right;\">\n      <th></th>\n      <th>town</th>\n      <th>id</th>\n      <th>engine_vol</th>\n      <th>car_make</th>\n      <th>model</th>\n      <th>make_model</th>\n      <th>awd</th>\n      <th>category</th>\n      <th>doors</th>\n      <th>hp</th>\n      <th>...</th>\n      <th>mileage</th>\n      <th>fuel_type</th>\n      <th>car_seller</th>\n      <th>car_price</th>\n      <th>price_category</th>\n      <th>hp_cat</th>\n      <th>is_company</th>\n      <th>population</th>\n      <th>town_category</th>\n      <th>manual_gearbox</th>\n    </tr>\n  </thead>\n  <tbody>\n    <tr>\n      <th>0</th>\n      <td>Espoo</td>\n      <td>https://www.nettiauto.com/toyota/rav4/13931107</td>\n      <td>2.5</td>\n      <td>Toyota</td>\n      <td>RAV4</td>\n      <td>toyota rav4</td>\n      <td>0</td>\n      <td>Jeep</td>\n      <td>4/5</td>\n      <td>113</td>\n      <td>...</td>\n      <td>112000</td>\n      <td>Hybridi (bensiini/sähkö)</td>\n      <td>kiesi</td>\n      <td>23680</td>\n      <td>Medium</td>\n      <td>medium (less 170)</td>\n      <td>1</td>\n      <td>310912.0</td>\n      <td>Biggest (more 100k)</td>\n      <td>0</td>\n    </tr>\n    <tr>\n      <th>1</th>\n      <td>Kirkkonummi</td>\n      <td>https://www.nettiauto.com/mercedes-benz/viano/...</td>\n      <td>2.2</td>\n      <td>Mercedes-Benz</td>\n      <td>Viano</td>\n      <td>mercedes-benz viano</td>\n      <td>0</td>\n      <td>Minivan</td>\n      <td>4/5</td>\n      <td>172</td>\n      <td>...</td>\n      <td>351000</td>\n      <td>Diesel</td>\n      <td>uwe schwarz</td>\n      <td>5700</td>\n      <td>Highend</td>\n      <td>high (less 270)</td>\n      <td>0</td>\n      <td>40983.0</td>\n      <td>Medium (20-50k)</td>\n      <td>1</td>\n    </tr>\n    <tr>\n      <th>2</th>\n      <td>Hyvinkää</td>\n      <td>https://www.nettiauto.com/ford/ka/13922153</td>\n      <td>1.2</td>\n      <td>Ford</td>\n      <td>Ka</td>\n      <td>ford ka</td>\n      <td>0</td>\n      <td>Coupe</td>\n      <td>2/3</td>\n      <td>127</td>\n      <td>...</td>\n      <td>230000</td>\n      <td>Bensiini</td>\n      <td>joni palmgren</td>\n      <td>200</td>\n      <td>Medium</td>\n      <td>medium (less 170)</td>\n      <td>0</td>\n      <td>46889.0</td>\n      <td>Medium (20-50k)</td>\n      <td>1</td>\n    </tr>\n    <tr>\n      <th>3</th>\n      <td>Jyväskylä</td>\n      <td>https://www.nettiauto.com/skoda/felicia/13942509</td>\n      <td>1.6</td>\n      <td>Skoda</td>\n      <td>Felicia</td>\n      <td>skoda felicia</td>\n      <td>0</td>\n      <td>Universal</td>\n      <td>4/5</td>\n      <td>123</td>\n      <td>...</td>\n      <td>266415</td>\n      <td>Bensiini</td>\n      <td>jere mustonen</td>\n      <td>200</td>\n      <td>Highend</td>\n      <td>medium (less 170)</td>\n      <td>0</td>\n      <td>146826.0</td>\n      <td>Biggest (more 100k)</td>\n      <td>1</td>\n    </tr>\n    <tr>\n      <th>4</th>\n      <td>Loviisa</td>\n      <td>https://www.nettiauto.com/fiat/marea/13860523</td>\n      <td>1.6</td>\n      <td>Fiat</td>\n      <td>Marea</td>\n      <td>fiat marea</td>\n      <td>0</td>\n      <td>Sedan</td>\n      <td>4/5</td>\n      <td>86</td>\n      <td>...</td>\n      <td>260000</td>\n      <td>Bensiini</td>\n      <td>tiina karttiala</td>\n      <td>250</td>\n      <td>Medium</td>\n      <td>low (less 100)</td>\n      <td>0</td>\n      <td>14442.0</td>\n      <td>Small (6k-20k)</td>\n      <td>1</td>\n    </tr>\n    <tr>\n      <th>...</th>\n      <td>...</td>\n      <td>...</td>\n      <td>...</td>\n      <td>...</td>\n      <td>...</td>\n      <td>...</td>\n      <td>...</td>\n      <td>...</td>\n      <td>...</td>\n      <td>...</td>\n      <td>...</td>\n      <td>...</td>\n      <td>...</td>\n      <td>...</td>\n      <td>...</td>\n      <td>...</td>\n      <td>...</td>\n      <td>...</td>\n      <td>...</td>\n      <td>...</td>\n      <td>...</td>\n    </tr>\n    <tr>\n      <th>1453</th>\n      <td>Vaasa</td>\n      <td>https://www.nettiauto.com/lada/samara/13819797</td>\n      <td>1.5</td>\n      <td>Lada</td>\n      <td>Samara</td>\n      <td>lada samara</td>\n      <td>0</td>\n      <td>Sedan</td>\n      <td>4/5</td>\n      <td>142</td>\n      <td>...</td>\n      <td>110000</td>\n      <td>Bensiini</td>\n      <td>jokke rinkineva oy</td>\n      <td>1350</td>\n      <td>Budget</td>\n      <td>medium (less 170)</td>\n      <td>1</td>\n      <td>68580.0</td>\n      <td>Big (50-100k)</td>\n      <td>1</td>\n    </tr>\n    <tr>\n      <th>1454</th>\n      <td>Hämeenlinna</td>\n      <td>https://www.nettiauto.com/nissan/almera/13823344</td>\n      <td>1.5</td>\n      <td>Nissan</td>\n      <td>Almera</td>\n      <td>nissan almera</td>\n      <td>0</td>\n      <td>Hatchback</td>\n      <td>4/5</td>\n      <td>89</td>\n      <td>...</td>\n      <td>287000</td>\n      <td>Bensiini</td>\n      <td>autokiillotus vuorinen hannu</td>\n      <td>1350</td>\n      <td>Medium</td>\n      <td>low (less 100)</td>\n      <td>1</td>\n      <td>68208.0</td>\n      <td>Big (50-100k)</td>\n      <td>1</td>\n    </tr>\n    <tr>\n      <th>1455</th>\n      <td>Parikkala</td>\n      <td>https://www.nettiauto.com/audi/a4/13831301</td>\n      <td>2.0</td>\n      <td>Audi</td>\n      <td>A4</td>\n      <td>audi a4</td>\n      <td>0</td>\n      <td>Sedan</td>\n      <td>4/5</td>\n      <td>150</td>\n      <td>...</td>\n      <td>355000</td>\n      <td>Bensiini</td>\n      <td>yusufcan sen</td>\n      <td>1350</td>\n      <td>Highend</td>\n      <td>medium (less 170)</td>\n      <td>0</td>\n      <td>4398.0</td>\n      <td>Very small (0-6k)</td>\n      <td>1</td>\n    </tr>\n    <tr>\n      <th>1456</th>\n      <td>Oulu</td>\n      <td>https://www.nettiauto.com/nissan/primera/13842169</td>\n      <td>1.8</td>\n      <td>Nissan</td>\n      <td>Primera</td>\n      <td>nissan primera</td>\n      <td>0</td>\n      <td>Sedan</td>\n      <td>4/5</td>\n      <td>89</td>\n      <td>...</td>\n      <td>239000</td>\n      <td>Bensiini</td>\n      <td>eemil pitkänen</td>\n      <td>1350</td>\n      <td>Medium</td>\n      <td>low (less 100)</td>\n      <td>0</td>\n      <td>213348.0</td>\n      <td>Biggest (more 100k)</td>\n      <td>1</td>\n    </tr>\n    <tr>\n      <th>1457</th>\n      <td>Sastamala</td>\n      <td>https://www.nettiauto.com/volkswagen/golf/1384...</td>\n      <td>1.9</td>\n      <td>Volkswagen</td>\n      <td>Golf</td>\n      <td>volkswagen golf</td>\n      <td>0</td>\n      <td>Hatchback</td>\n      <td>4/5</td>\n      <td>105</td>\n      <td>...</td>\n      <td>465000</td>\n      <td>Diesel</td>\n      <td>mikko tullu</td>\n      <td>1350</td>\n      <td>Medium</td>\n      <td>medium (less 170)</td>\n      <td>0</td>\n      <td>23618.0</td>\n      <td>Medium (20-50k)</td>\n      <td>1</td>\n    </tr>\n  </tbody>\n</table>\n<p>1458 rows × 22 columns</p>\n</div>"
     },
     "execution_count": 1604,
     "metadata": {},
     "output_type": "execute_result"
    }
   ],
   "source": [
    "data['mileage'] = data['mileage'].astype(int)\n",
    "data['awd'] = data['awd'].astype(int)\n",
    "data['hp'] = data['hp'].astype(int)\n",
    "data['capacity'] = data['capacity'].astype(int)\n",
    "data['manual_gearbox'] = data['gearbox_type'].apply(lambda x: 1 if x=='Manuaali' else 0)\n",
    "data = data.drop(columns=['year', 'gearbox_type'])\n",
    "data"
   ],
   "metadata": {
    "collapsed": false,
    "ExecuteTime": {
     "end_time": "2023-10-31T15:50:40.199775Z",
     "start_time": "2023-10-31T15:50:39.720342Z"
    }
   }
  },
  {
   "cell_type": "code",
   "execution_count": 1605,
   "outputs": [],
   "source": [
    "data['category'] = data['category'].apply(lambda x: x[0] if type(x) is np.ndarray else x)\n",
    "data['doors'] = data['doors'].apply(lambda x: x[0] if type(x) is np.ndarray else x)"
   ],
   "metadata": {
    "collapsed": false,
    "ExecuteTime": {
     "end_time": "2023-10-31T15:50:40.199812Z",
     "start_time": "2023-10-31T15:50:39.730739Z"
    }
   }
  },
  {
   "cell_type": "code",
   "execution_count": 1606,
   "outputs": [
    {
     "data": {
      "text/plain": "             town                                                 id  \\\n0           Espoo     https://www.nettiauto.com/toyota/rav4/13931107   \n1     Kirkkonummi  https://www.nettiauto.com/mercedes-benz/viano/...   \n2        Hyvinkää         https://www.nettiauto.com/ford/ka/13922153   \n3       Jyväskylä   https://www.nettiauto.com/skoda/felicia/13942509   \n4         Loviisa      https://www.nettiauto.com/fiat/marea/13860523   \n...           ...                                                ...   \n1452        Vaasa     https://www.nettiauto.com/lada/samara/13819797   \n1453  Hämeenlinna   https://www.nettiauto.com/nissan/almera/13823344   \n1454    Parikkala         https://www.nettiauto.com/audi/a4/13831301   \n1455         Oulu  https://www.nettiauto.com/nissan/primera/13842169   \n1456    Sastamala  https://www.nettiauto.com/volkswagen/golf/1384...   \n\n      engine_vol       car_make    model           make_model  awd   category  \\\n0            2.5         Toyota     RAV4          toyota rav4    0       Jeep   \n1            2.2  Mercedes-Benz    Viano  mercedes-benz viano    0    Minivan   \n2            1.2           Ford       Ka              ford ka    0      Coupe   \n3            1.6          Skoda  Felicia        skoda felicia    0  Universal   \n4            1.6           Fiat    Marea           fiat marea    0      Sedan   \n...          ...            ...      ...                  ...  ...        ...   \n1452         1.5           Lada   Samara          lada samara    0      Sedan   \n1453         1.5         Nissan   Almera        nissan almera    0  Hatchback   \n1454         2.0           Audi       A4              audi a4    0      Sedan   \n1455         1.8         Nissan  Primera       nissan primera    0      Sedan   \n1456         1.9     Volkswagen     Golf      volkswagen golf    0  Hatchback   \n\n     doors   hp  ...  mileage                 fuel_type  \\\n0      4/5  113  ...   112000  Hybridi (bensiini/sähkö)   \n1      4/5  172  ...   351000                    Diesel   \n2      2/3  127  ...   230000                  Bensiini   \n3      4/5  123  ...   266415                  Bensiini   \n4      4/5   86  ...   260000                  Bensiini   \n...    ...  ...  ...      ...                       ...   \n1452   4/5  142  ...   110000                  Bensiini   \n1453   4/5   89  ...   287000                  Bensiini   \n1454   4/5  150  ...   355000                  Bensiini   \n1455   4/5   89  ...   239000                  Bensiini   \n1456   4/5  105  ...   465000                    Diesel   \n\n                        car_seller car_price price_category  \\\n0                            kiesi     23680         Medium   \n1                      uwe schwarz      5700        Highend   \n2                    joni palmgren       200         Medium   \n3                    jere mustonen       200        Highend   \n4                  tiina karttiala       250         Medium   \n...                            ...       ...            ...   \n1452            jokke rinkineva oy      1350         Budget   \n1453  autokiillotus vuorinen hannu      1350         Medium   \n1454                  yusufcan sen      1350        Highend   \n1455                eemil pitkänen      1350         Medium   \n1456                   mikko tullu      1350         Medium   \n\n                 hp_cat is_company population        town_category  \\\n0     medium (less 170)          1   310912.0  Biggest (more 100k)   \n1       high (less 270)          0    40983.0      Medium (20-50k)   \n2     medium (less 170)          0    46889.0      Medium (20-50k)   \n3     medium (less 170)          0   146826.0  Biggest (more 100k)   \n4        low (less 100)          0    14442.0       Small (6k-20k)   \n...                 ...        ...        ...                  ...   \n1452  medium (less 170)          1    68580.0        Big (50-100k)   \n1453     low (less 100)          1    68208.0        Big (50-100k)   \n1454  medium (less 170)          0     4398.0    Very small (0-6k)   \n1455     low (less 100)          0   213348.0  Biggest (more 100k)   \n1456  medium (less 170)          0    23618.0      Medium (20-50k)   \n\n      manual_gearbox  \n0                  0  \n1                  1  \n2                  1  \n3                  1  \n4                  1  \n...              ...  \n1452               1  \n1453               1  \n1454               1  \n1455               1  \n1456               1  \n\n[1457 rows x 22 columns]",
      "text/html": "<div>\n<style scoped>\n    .dataframe tbody tr th:only-of-type {\n        vertical-align: middle;\n    }\n\n    .dataframe tbody tr th {\n        vertical-align: top;\n    }\n\n    .dataframe thead th {\n        text-align: right;\n    }\n</style>\n<table border=\"1\" class=\"dataframe\">\n  <thead>\n    <tr style=\"text-align: right;\">\n      <th></th>\n      <th>town</th>\n      <th>id</th>\n      <th>engine_vol</th>\n      <th>car_make</th>\n      <th>model</th>\n      <th>make_model</th>\n      <th>awd</th>\n      <th>category</th>\n      <th>doors</th>\n      <th>hp</th>\n      <th>...</th>\n      <th>mileage</th>\n      <th>fuel_type</th>\n      <th>car_seller</th>\n      <th>car_price</th>\n      <th>price_category</th>\n      <th>hp_cat</th>\n      <th>is_company</th>\n      <th>population</th>\n      <th>town_category</th>\n      <th>manual_gearbox</th>\n    </tr>\n  </thead>\n  <tbody>\n    <tr>\n      <th>0</th>\n      <td>Espoo</td>\n      <td>https://www.nettiauto.com/toyota/rav4/13931107</td>\n      <td>2.5</td>\n      <td>Toyota</td>\n      <td>RAV4</td>\n      <td>toyota rav4</td>\n      <td>0</td>\n      <td>Jeep</td>\n      <td>4/5</td>\n      <td>113</td>\n      <td>...</td>\n      <td>112000</td>\n      <td>Hybridi (bensiini/sähkö)</td>\n      <td>kiesi</td>\n      <td>23680</td>\n      <td>Medium</td>\n      <td>medium (less 170)</td>\n      <td>1</td>\n      <td>310912.0</td>\n      <td>Biggest (more 100k)</td>\n      <td>0</td>\n    </tr>\n    <tr>\n      <th>1</th>\n      <td>Kirkkonummi</td>\n      <td>https://www.nettiauto.com/mercedes-benz/viano/...</td>\n      <td>2.2</td>\n      <td>Mercedes-Benz</td>\n      <td>Viano</td>\n      <td>mercedes-benz viano</td>\n      <td>0</td>\n      <td>Minivan</td>\n      <td>4/5</td>\n      <td>172</td>\n      <td>...</td>\n      <td>351000</td>\n      <td>Diesel</td>\n      <td>uwe schwarz</td>\n      <td>5700</td>\n      <td>Highend</td>\n      <td>high (less 270)</td>\n      <td>0</td>\n      <td>40983.0</td>\n      <td>Medium (20-50k)</td>\n      <td>1</td>\n    </tr>\n    <tr>\n      <th>2</th>\n      <td>Hyvinkää</td>\n      <td>https://www.nettiauto.com/ford/ka/13922153</td>\n      <td>1.2</td>\n      <td>Ford</td>\n      <td>Ka</td>\n      <td>ford ka</td>\n      <td>0</td>\n      <td>Coupe</td>\n      <td>2/3</td>\n      <td>127</td>\n      <td>...</td>\n      <td>230000</td>\n      <td>Bensiini</td>\n      <td>joni palmgren</td>\n      <td>200</td>\n      <td>Medium</td>\n      <td>medium (less 170)</td>\n      <td>0</td>\n      <td>46889.0</td>\n      <td>Medium (20-50k)</td>\n      <td>1</td>\n    </tr>\n    <tr>\n      <th>3</th>\n      <td>Jyväskylä</td>\n      <td>https://www.nettiauto.com/skoda/felicia/13942509</td>\n      <td>1.6</td>\n      <td>Skoda</td>\n      <td>Felicia</td>\n      <td>skoda felicia</td>\n      <td>0</td>\n      <td>Universal</td>\n      <td>4/5</td>\n      <td>123</td>\n      <td>...</td>\n      <td>266415</td>\n      <td>Bensiini</td>\n      <td>jere mustonen</td>\n      <td>200</td>\n      <td>Highend</td>\n      <td>medium (less 170)</td>\n      <td>0</td>\n      <td>146826.0</td>\n      <td>Biggest (more 100k)</td>\n      <td>1</td>\n    </tr>\n    <tr>\n      <th>4</th>\n      <td>Loviisa</td>\n      <td>https://www.nettiauto.com/fiat/marea/13860523</td>\n      <td>1.6</td>\n      <td>Fiat</td>\n      <td>Marea</td>\n      <td>fiat marea</td>\n      <td>0</td>\n      <td>Sedan</td>\n      <td>4/5</td>\n      <td>86</td>\n      <td>...</td>\n      <td>260000</td>\n      <td>Bensiini</td>\n      <td>tiina karttiala</td>\n      <td>250</td>\n      <td>Medium</td>\n      <td>low (less 100)</td>\n      <td>0</td>\n      <td>14442.0</td>\n      <td>Small (6k-20k)</td>\n      <td>1</td>\n    </tr>\n    <tr>\n      <th>...</th>\n      <td>...</td>\n      <td>...</td>\n      <td>...</td>\n      <td>...</td>\n      <td>...</td>\n      <td>...</td>\n      <td>...</td>\n      <td>...</td>\n      <td>...</td>\n      <td>...</td>\n      <td>...</td>\n      <td>...</td>\n      <td>...</td>\n      <td>...</td>\n      <td>...</td>\n      <td>...</td>\n      <td>...</td>\n      <td>...</td>\n      <td>...</td>\n      <td>...</td>\n      <td>...</td>\n    </tr>\n    <tr>\n      <th>1452</th>\n      <td>Vaasa</td>\n      <td>https://www.nettiauto.com/lada/samara/13819797</td>\n      <td>1.5</td>\n      <td>Lada</td>\n      <td>Samara</td>\n      <td>lada samara</td>\n      <td>0</td>\n      <td>Sedan</td>\n      <td>4/5</td>\n      <td>142</td>\n      <td>...</td>\n      <td>110000</td>\n      <td>Bensiini</td>\n      <td>jokke rinkineva oy</td>\n      <td>1350</td>\n      <td>Budget</td>\n      <td>medium (less 170)</td>\n      <td>1</td>\n      <td>68580.0</td>\n      <td>Big (50-100k)</td>\n      <td>1</td>\n    </tr>\n    <tr>\n      <th>1453</th>\n      <td>Hämeenlinna</td>\n      <td>https://www.nettiauto.com/nissan/almera/13823344</td>\n      <td>1.5</td>\n      <td>Nissan</td>\n      <td>Almera</td>\n      <td>nissan almera</td>\n      <td>0</td>\n      <td>Hatchback</td>\n      <td>4/5</td>\n      <td>89</td>\n      <td>...</td>\n      <td>287000</td>\n      <td>Bensiini</td>\n      <td>autokiillotus vuorinen hannu</td>\n      <td>1350</td>\n      <td>Medium</td>\n      <td>low (less 100)</td>\n      <td>1</td>\n      <td>68208.0</td>\n      <td>Big (50-100k)</td>\n      <td>1</td>\n    </tr>\n    <tr>\n      <th>1454</th>\n      <td>Parikkala</td>\n      <td>https://www.nettiauto.com/audi/a4/13831301</td>\n      <td>2.0</td>\n      <td>Audi</td>\n      <td>A4</td>\n      <td>audi a4</td>\n      <td>0</td>\n      <td>Sedan</td>\n      <td>4/5</td>\n      <td>150</td>\n      <td>...</td>\n      <td>355000</td>\n      <td>Bensiini</td>\n      <td>yusufcan sen</td>\n      <td>1350</td>\n      <td>Highend</td>\n      <td>medium (less 170)</td>\n      <td>0</td>\n      <td>4398.0</td>\n      <td>Very small (0-6k)</td>\n      <td>1</td>\n    </tr>\n    <tr>\n      <th>1455</th>\n      <td>Oulu</td>\n      <td>https://www.nettiauto.com/nissan/primera/13842169</td>\n      <td>1.8</td>\n      <td>Nissan</td>\n      <td>Primera</td>\n      <td>nissan primera</td>\n      <td>0</td>\n      <td>Sedan</td>\n      <td>4/5</td>\n      <td>89</td>\n      <td>...</td>\n      <td>239000</td>\n      <td>Bensiini</td>\n      <td>eemil pitkänen</td>\n      <td>1350</td>\n      <td>Medium</td>\n      <td>low (less 100)</td>\n      <td>0</td>\n      <td>213348.0</td>\n      <td>Biggest (more 100k)</td>\n      <td>1</td>\n    </tr>\n    <tr>\n      <th>1456</th>\n      <td>Sastamala</td>\n      <td>https://www.nettiauto.com/volkswagen/golf/1384...</td>\n      <td>1.9</td>\n      <td>Volkswagen</td>\n      <td>Golf</td>\n      <td>volkswagen golf</td>\n      <td>0</td>\n      <td>Hatchback</td>\n      <td>4/5</td>\n      <td>105</td>\n      <td>...</td>\n      <td>465000</td>\n      <td>Diesel</td>\n      <td>mikko tullu</td>\n      <td>1350</td>\n      <td>Medium</td>\n      <td>medium (less 170)</td>\n      <td>0</td>\n      <td>23618.0</td>\n      <td>Medium (20-50k)</td>\n      <td>1</td>\n    </tr>\n  </tbody>\n</table>\n<p>1457 rows × 22 columns</p>\n</div>"
     },
     "execution_count": 1606,
     "metadata": {},
     "output_type": "execute_result"
    }
   ],
   "source": [
    "data = data.dropna()\n",
    "data = data.drop_duplicates()\n",
    "data.reset_index(drop=True)"
   ],
   "metadata": {
    "collapsed": false,
    "ExecuteTime": {
     "end_time": "2023-10-31T15:50:40.200136Z",
     "start_time": "2023-10-31T15:50:39.733238Z"
    }
   }
  },
  {
   "cell_type": "code",
   "execution_count": 1607,
   "outputs": [],
   "source": [
    "data.to_csv('/Users/egor/Documents/data_science_course/project_7/data/data_new24_clean.csv')"
   ],
   "metadata": {
    "collapsed": false,
    "ExecuteTime": {
     "end_time": "2023-10-31T15:50:40.200170Z",
     "start_time": "2023-10-31T15:50:39.745468Z"
    }
   }
  },
  {
   "cell_type": "code",
   "execution_count": 1608,
   "outputs": [],
   "source": [
    "ohe_mdl = joblib.load('/Users/egor/Documents/data_science_course/project_7/models/ohe_mdl.joblib')\n",
    "scaler = joblib.load('/Users/egor/Documents/data_science_course/project_7/models/scaler.joblib')\n",
    "xgb_reg_gs = joblib.load('/Users/egor/Documents/data_science_course/project_7/models/xgb_reg_gs.joblib')"
   ],
   "metadata": {
    "collapsed": false,
    "ExecuteTime": {
     "end_time": "2023-10-31T15:50:40.200200Z",
     "start_time": "2023-10-31T15:50:39.754673Z"
    }
   }
  },
  {
   "cell_type": "code",
   "execution_count": 1609,
   "outputs": [
    {
     "data": {
      "text/plain": "(1457, 1263)"
     },
     "execution_count": 1609,
     "metadata": {},
     "output_type": "execute_result"
    }
   ],
   "source": [
    "data_mdl = data[[\n",
    "    'make_model',\n",
    "    'engine_vol',\n",
    "    'awd', \n",
    "    'category',\n",
    "    'hp',\n",
    "    'capacity',\n",
    "    'age',\n",
    "    'mileage',\n",
    "    'fuel_type',\n",
    "    'manual_gearbox',\n",
    "    'hp_cat',\n",
    "    'price_category',\n",
    "    'town_category',\n",
    "    'is_company',\n",
    "    'car_price'\n",
    "]].reset_index(drop=True)\n",
    "\n",
    "numerics = ['int16', 'int32', 'int64', 'float16', 'float32', 'float64']\n",
    "data_mdl_num_cols = list(data_mdl.select_dtypes(include=numerics).columns)\n",
    "data_mdl_cat_cols = list(data_mdl.select_dtypes(exclude=numerics).columns)\n",
    "\n",
    "data_mdl_ohe = ohe_mdl.transform(data_mdl[data_mdl_cat_cols])\n",
    "data_mdl_ohe = pd.DataFrame(data_mdl_ohe, columns=ohe_mdl.get_feature_names_out(input_features=data_mdl_cat_cols))\n",
    "\n",
    "data_mdl = data_mdl.drop(list(data_mdl_cat_cols), axis=1)\n",
    "data_mdl = pd.concat([data_mdl, data_mdl_ohe], axis=1)\n",
    "data_mdl.shape"
   ],
   "metadata": {
    "collapsed": false,
    "ExecuteTime": {
     "end_time": "2023-10-31T15:50:40.200283Z",
     "start_time": "2023-10-31T15:50:39.780938Z"
    }
   }
  },
  {
   "cell_type": "code",
   "execution_count": 1610,
   "outputs": [],
   "source": [
    "X = data_mdl.drop(columns=['car_price'])\n",
    "y = data_mdl['car_price']\n",
    "\n",
    "data_mdl_num_cols.remove('car_price')\n",
    "X[data_mdl_num_cols] = scaler.transform(X[data_mdl_num_cols])"
   ],
   "metadata": {
    "collapsed": false,
    "ExecuteTime": {
     "end_time": "2023-10-31T15:50:40.200316Z",
     "start_time": "2023-10-31T15:50:39.796633Z"
    }
   }
  },
  {
   "cell_type": "code",
   "execution_count": 1611,
   "outputs": [],
   "source": [
    "cols_when_model_builds = xgb_reg_gs.get_booster().feature_names\n",
    "X = X[cols_when_model_builds]"
   ],
   "metadata": {
    "collapsed": false,
    "ExecuteTime": {
     "end_time": "2023-10-31T15:50:40.200345Z",
     "start_time": "2023-10-31T15:50:39.815325Z"
    }
   }
  },
  {
   "cell_type": "code",
   "execution_count": 1621,
   "outputs": [],
   "source": [
    "y_pred = xgb_reg_gs.predict(X)\n",
    "data['y_pred'] = y_pred\n",
    "data['price_diff'] = data['y_pred'] - data['car_price']\n",
    "data['profit_%'] = data['price_diff']/data['car_price'] * 100\n",
    "result = data[(data['price_diff'] > 1000) & (data['age'] <15)]\n",
    "result = result[['make_model', 'id', 'car_price', 'y_pred', 'profit_%']]\n",
    "result = result.transpose()\n",
    "result.to_json('/Users/egor/Documents/data_science_course/project_7/data/result.json')"
   ],
   "metadata": {
    "collapsed": false,
    "ExecuteTime": {
     "end_time": "2023-11-01T09:46:40.503701Z",
     "start_time": "2023-11-01T09:46:40.485011Z"
    }
   }
  }
 ],
 "metadata": {
  "kernelspec": {
   "display_name": "base",
   "language": "python",
   "name": "python3"
  },
  "language_info": {
   "codemirror_mode": {
    "name": "ipython",
    "version": 3
   },
   "file_extension": ".py",
   "mimetype": "text/x-python",
   "name": "python",
   "nbconvert_exporter": "python",
   "pygments_lexer": "ipython3",
   "version": "3.11.4"
  },
  "orig_nbformat": 4
 },
 "nbformat": 4,
 "nbformat_minor": 2
}
