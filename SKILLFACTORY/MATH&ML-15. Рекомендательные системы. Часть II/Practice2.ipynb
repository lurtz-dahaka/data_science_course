{
 "cells": [
  {
   "cell_type": "markdown",
   "metadata": {},
   "source": [
    "Итак, чтобы построить рекомендательную систему на основе контента, необходимо:\n",
    "\n",
    "Для каждого продукта создать характеризующие его признаки.\n",
    "Найти показатель близости между всеми продуктами.\n",
    "Порекомендовать пользователю продукты, которые показывают наибольшую близость с теми продуктами, которые он высоко оценил.\n",
    "Давайте реализуем подобную рекомендательную систему на практике. Будем работать с датасетом, содержащим информацию об оценивании фильмов на платформе Netflix."
   ]
  },
  {
   "cell_type": "markdown",
   "metadata": {},
   "source": [
    "show_id — id фильма,\n",
    "type — его тип (фильм или сериал),\n",
    "title — название,\n",
    "director — режиссер,\n",
    "cast — актерский состав,\n",
    "country — страна,\n",
    "date_added — дата добавления,\n",
    "release_year — год выхода на экраны,\n",
    "rating — рейтинг,\n",
    "duration — продолжительность,\n",
    "listened_in — жанр(-ы),\n",
    "description — описание.\n",
    "В первую очередь нам необходимо определить, на основании чего мы будем рассматривать близость фильмов. Выберем для этой задачи описание фильма, ведь в нём, скорее всего, содержится много информации. Однако описание — это текст. Есть много подходов к преобразованию текста в вектор, и мы будем использовать подход TF-IDF (Term Frequency-Inverse Document Frequency).\n",
    "\n",
    "Показатель TD-IDF — это индикатор того, насколько релевантно слово в контексте документа."
   ]
  },
  {
   "cell_type": "markdown",
   "metadata": {},
   "source": [
    "Этот показатель возрастает пропорционально количеству раз, когда слово встречается в тексте, и уменьшается пропорционально количеству слов во всех текстах в целом.\n",
    "\n",
    "Таким образом:\n",
    "\n",
    "Коэффициент будет выше, если слово характерно именно для этого текста, то есть встречается в данном тексте часто, но не встречается в других текстах.\n",
    "Коэффициент будет ниже, если слово не встречается почти нигде или встречается одинаковое количество раз во всех текстах, то есть не характеризует никакой текст в отдельности.\n",
    "Если вам интересно подробнее изучить алгоритм создания такого представления, рекомендуем прочитать статью.\n",
    "\n",
    "Чтобы преобразовать текст по этому принципу, нам понадобится соответствующая функция из библиотеки sklearn — импортируем её:"
   ]
  },
  {
   "cell_type": "markdown",
   "metadata": {},
   "source": [
    "Чтобы преобразовать текст по этому принципу, нам понадобится соответствующая функция из библиотеки sklearn — импортируем её:"
   ]
  },
  {
   "cell_type": "code",
   "execution_count": 2,
   "metadata": {},
   "outputs": [],
   "source": [
    "from sklearn.feature_extraction.text import TfidfVectorizer"
   ]
  },
  {
   "cell_type": "markdown",
   "metadata": {},
   "source": [
    "Далее учтём стоп-слова, т. е. предлоги и другие служебные части речи, которые не несут содержательной информации, и с учётом этого определим нашу модель:\n",
    "\n"
   ]
  },
  {
   "cell_type": "code",
   "execution_count": 3,
   "metadata": {},
   "outputs": [],
   "source": [
    "model = TfidfVectorizer(stop_words='english')"
   ]
  },
  {
   "cell_type": "markdown",
   "metadata": {},
   "source": [
    "Заполним пропуски пустыми строками:"
   ]
  },
  {
   "cell_type": "code",
   "execution_count": 6,
   "metadata": {},
   "outputs": [],
   "source": [
    "import pandas as pd\n",
    "df = pd.read_csv('/Users/egor/Documents/data_science_course/SKILLFACTORY/MATH&ML-15. Рекомендательные системы. Часть II/data/netflix_titles.csv')\n",
    "df['description'] = df['description'].fillna('')\n"
   ]
  },
  {
   "cell_type": "markdown",
   "metadata": {},
   "source": [
    "Трансформируем наши описания в матрицу:"
   ]
  },
  {
   "cell_type": "code",
   "execution_count": 7,
   "metadata": {},
   "outputs": [],
   "source": [
    "feature_matrix = model.fit_transform(df['description'])"
   ]
  },
  {
   "cell_type": "markdown",
   "metadata": {},
   "source": [
    "Задание 2.2\n",
    "\n",
    "Сколько столбцов в получившейся матрице?"
   ]
  },
  {
   "cell_type": "code",
   "execution_count": 8,
   "metadata": {},
   "outputs": [
    {
     "data": {
      "text/plain": [
       "<7787x17905 sparse matrix of type '<class 'numpy.float64'>'\n",
       "\twith 107187 stored elements in Compressed Sparse Row format>"
      ]
     },
     "execution_count": 8,
     "metadata": {},
     "output_type": "execute_result"
    }
   ],
   "source": [
    "feature_matrix"
   ]
  },
  {
   "cell_type": "markdown",
   "metadata": {},
   "source": [
    "Теперь необходимо вычислить косинусную близость. Можно сделать это так:"
   ]
  },
  {
   "cell_type": "code",
   "execution_count": 9,
   "metadata": {},
   "outputs": [],
   "source": [
    "from sklearn.metrics.pairwise import linear_kernel\n",
    "cosine_sim = linear_kernel(feature_matrix, feature_matrix)"
   ]
  },
  {
   "cell_type": "markdown",
   "metadata": {},
   "source": [
    "Обратите внимание! Мы используем здесь linear_kernel(), а не cosine_similarity(), так как в косинусном расстоянии в знаменателе реализуется нормировка векторов, а TF-IDF создаёт уже нормализованные векторы.\n",
    "\n",
    "Вернём индексацию и уберём дубликаты из данных:"
   ]
  },
  {
   "cell_type": "code",
   "execution_count": 11,
   "metadata": {},
   "outputs": [],
   "source": [
    "indices = pd.Series(df.index,index=df['title']).drop_duplicates()"
   ]
  },
  {
   "cell_type": "code",
   "execution_count": 12,
   "metadata": {},
   "outputs": [
    {
     "data": {
      "text/plain": [
       "title\n",
       "3%                                            0\n",
       "7:19                                          1\n",
       "23:59                                         2\n",
       "9                                             3\n",
       "21                                            4\n",
       "                                           ... \n",
       "Zozo                                       7782\n",
       "Zubaan                                     7783\n",
       "Zulu Man in Japan                          7784\n",
       "Zumbo's Just Desserts                      7785\n",
       "ZZ TOP: THAT LITTLE OL' BAND FROM TEXAS    7786\n",
       "Length: 7787, dtype: int64"
      ]
     },
     "execution_count": 12,
     "metadata": {},
     "output_type": "execute_result"
    }
   ],
   "source": [
    "indices"
   ]
  },
  {
   "cell_type": "markdown",
   "metadata": {},
   "source": [
    "Теперь пропишем функцию для создания рекомендаций:"
   ]
  },
  {
   "cell_type": "code",
   "execution_count": 13,
   "metadata": {},
   "outputs": [],
   "source": [
    "def get_recommendations(title):\n",
    "    idx = indices[title]\n",
    "    #вычисляем попарные коэффициенты косинусной близости\n",
    "    scores = list(enumerate(cosine_sim[idx]))\n",
    "    #сортируем фильмы на основании коэффициентов косинусной близости по убыванию\n",
    "    scores = sorted(scores, key=lambda x: x[1], reverse=True)\n",
    "    #выбираем десять наибольших значений косинусной близости; нулевую не берём, т. к. это тот же фильм\n",
    "    scores =   scores[1:11]\n",
    "    #забираем индексы\n",
    "    ind_movie = [i[0] for i in scores]\n",
    "    #возвращаем названия по индексам\n",
    "    return df['title'].iloc[ind_movie]"
   ]
  },
  {
   "cell_type": "markdown",
   "metadata": {},
   "source": [
    "Например, если мы хотим найти рекомендации по фильму \"Star Trek\", то функция будет выдавать следующий результат:"
   ]
  },
  {
   "cell_type": "code",
   "execution_count": 21,
   "metadata": {},
   "outputs": [
    {
     "data": {
      "text/plain": [
       "5788             Star Trek: The Next Generation\n",
       "5787                      Star Trek: Enterprise\n",
       "5786                 Star Trek: Deep Space Nine\n",
       "5557                     She's Out of My League\n",
       "134                                  7 Days Out\n",
       "6664                        The Midnight Gospel\n",
       "6023                                     Teresa\n",
       "4863    Pinkfong & Baby Shark's Space Adventure\n",
       "5104                                       Rats\n",
       "5970                             Tales by Light\n",
       "Name: title, dtype: object"
      ]
     },
     "execution_count": 21,
     "metadata": {},
     "output_type": "execute_result"
    }
   ],
   "source": [
    "get_recommendations('Star Trek')"
   ]
  },
  {
   "cell_type": "markdown",
   "metadata": {},
   "source": [
    "Задание 2.3\n",
    "\n",
    "Найдите вторую рекомендацию для детского фильма \"Balto\", вышедшего на экраны в 1995 году:"
   ]
  },
  {
   "cell_type": "code",
   "execution_count": 24,
   "metadata": {},
   "outputs": [
    {
     "data": {
      "text/plain": [
       "709                Balto 2: Wolf Quest\n",
       "7446                           Vroomiz\n",
       "1338    Chilling Adventures of Sabrina\n",
       "7388                          Vampires\n",
       "1770                          Dinotrux\n",
       "2767                     Hold the Dark\n",
       "5540                 Shanghai Fortress\n",
       "4041                             Mercy\n",
       "2582                       Half & Half\n",
       "1365        Christmas in the Heartland\n",
       "Name: title, dtype: object"
      ]
     },
     "execution_count": 24,
     "metadata": {},
     "output_type": "execute_result"
    }
   ],
   "source": [
    "get_recommendations('Balto')"
   ]
  },
  {
   "cell_type": "markdown",
   "metadata": {},
   "source": [
    "ПРАКТИКА\n",
    "Мы рассмотрели несколько вариантов коллаборативной фильтрации на простейших примерах, и теперь пришло время практики с настоящими данными. Сначала мы будем использовать подход memory-based в модификации item-based, а затем SVD. В результате применения обоих алгоритмов мы сможем сравнить получившееся качество.\n",
    "\n",
    "Для создания алгоритмов рекомендательной системы будем использовать библиотеку surprise.\n",
    "\n",
    "Установим её:"
   ]
  },
  {
   "cell_type": "code",
   "execution_count": 25,
   "metadata": {},
   "outputs": [
    {
     "name": "stdout",
     "output_type": "stream",
     "text": [
      "Collecting scikit-surprise\n",
      "  Downloading scikit-surprise-1.1.3.tar.gz (771 kB)\n",
      "\u001b[2K     \u001b[90m━━━━━━━━━━━━━━━━━━━━━━━━━━━━━━━━━━━━━━\u001b[0m \u001b[32m772.0/772.0 kB\u001b[0m \u001b[31m11.7 MB/s\u001b[0m eta \u001b[36m0:00:00\u001b[0ma \u001b[36m0:00:01\u001b[0m\n",
      "\u001b[?25h  Preparing metadata (setup.py) ... \u001b[?25ldone\n",
      "\u001b[?25hRequirement already satisfied: joblib>=1.0.0 in /Users/egor/anaconda3/lib/python3.11/site-packages (from scikit-surprise) (1.3.1)\n",
      "Requirement already satisfied: numpy>=1.17.3 in /Users/egor/anaconda3/lib/python3.11/site-packages (from scikit-surprise) (1.25.1)\n",
      "Requirement already satisfied: scipy>=1.3.2 in /Users/egor/anaconda3/lib/python3.11/site-packages (from scikit-surprise) (1.11.1)\n",
      "Building wheels for collected packages: scikit-surprise\n",
      "  Building wheel for scikit-surprise (setup.py) ... \u001b[?25ldone\n",
      "\u001b[?25h  Created wheel for scikit-surprise: filename=scikit_surprise-1.1.3-cp311-cp311-macosx_11_0_arm64.whl size=1272063 sha256=fc52e133470176a66855ddd4b7bb8871b74d465e4b38c151af621ec5b807ec37\n",
      "  Stored in directory: /Users/egor/Library/Caches/pip/wheels/f4/2b/26/e2a5eae55d3b7688995e66abe7f40473aac6c95ddd8ee174a8\n",
      "Successfully built scikit-surprise\n",
      "Installing collected packages: scikit-surprise\n",
      "Successfully installed scikit-surprise-1.1.3\n"
     ]
    }
   ],
   "source": [
    "!pip install scikit-surprise"
   ]
  },
  {
   "cell_type": "markdown",
   "metadata": {},
   "source": [
    "Примечание. Заметьте, что в названии библиотеки содержится название уже известного нам модуля scikit — это не просто так: названия функций и аргументов, да и сам принцип работы этих модулей похожи.\n",
    "\n",
    "В нашей задаче мы будем использовать датасет movielens, который содержит информацию о фильмах и выставленных рейтингах с сайта https://movielens.org/.\n",
    "\n",
    "Импортируем необходимые нам компоненты и считаем данные с помощью специального метода Reader:"
   ]
  },
  {
   "cell_type": "code",
   "execution_count": 27,
   "metadata": {},
   "outputs": [],
   "source": [
    "from surprise import Dataset\n",
    "from surprise import Reader\n",
    "from surprise.dataset import BUILTIN_DATASETS #с помощью данного объекта мы можем использовать встроенные датасеты\n",
    "\n",
    "data = Dataset.load_from_file(\n",
    "    \"/Users/egor/Documents/data_science_course/SKILLFACTORY/MATH&ML-15. Рекомендательные системы. Часть II/data/u.data.txt\",\n",
    "    reader=Reader(line_format=\"user item rating timestamp\", sep=\"\\t\"),\n",
    ")"
   ]
  },
  {
   "cell_type": "markdown",
   "metadata": {},
   "source": [
    "Чтобы обучать рекомендательные системы с помощью surprise, мы создали объект Dataset. Объект surprise.dataset — это набор данных, который содержит следующие поля в указанном порядке:\n",
    "\n",
    "- идентификаторы пользователей,\n",
    "- идентификаторы элементов,\n",
    "- соответствующая оценка.\n",
    "Преобразуем данные к формату pandas DataFrame для удобной работы с ними:"
   ]
  },
  {
   "cell_type": "code",
   "execution_count": 30,
   "metadata": {},
   "outputs": [
    {
     "data": {
      "text/html": [
       "<div>\n",
       "<style scoped>\n",
       "    .dataframe tbody tr th:only-of-type {\n",
       "        vertical-align: middle;\n",
       "    }\n",
       "\n",
       "    .dataframe tbody tr th {\n",
       "        vertical-align: top;\n",
       "    }\n",
       "\n",
       "    .dataframe thead th {\n",
       "        text-align: right;\n",
       "    }\n",
       "</style>\n",
       "<table border=\"1\" class=\"dataframe\">\n",
       "  <thead>\n",
       "    <tr style=\"text-align: right;\">\n",
       "      <th></th>\n",
       "      <th>userId</th>\n",
       "      <th>movieId</th>\n",
       "      <th>rating</th>\n",
       "      <th>timestamp</th>\n",
       "    </tr>\n",
       "  </thead>\n",
       "  <tbody>\n",
       "    <tr>\n",
       "      <th>0</th>\n",
       "      <td>196</td>\n",
       "      <td>242</td>\n",
       "      <td>3.0</td>\n",
       "      <td>881250949</td>\n",
       "    </tr>\n",
       "    <tr>\n",
       "      <th>1</th>\n",
       "      <td>186</td>\n",
       "      <td>302</td>\n",
       "      <td>3.0</td>\n",
       "      <td>891717742</td>\n",
       "    </tr>\n",
       "    <tr>\n",
       "      <th>2</th>\n",
       "      <td>22</td>\n",
       "      <td>377</td>\n",
       "      <td>1.0</td>\n",
       "      <td>878887116</td>\n",
       "    </tr>\n",
       "    <tr>\n",
       "      <th>3</th>\n",
       "      <td>244</td>\n",
       "      <td>51</td>\n",
       "      <td>2.0</td>\n",
       "      <td>880606923</td>\n",
       "    </tr>\n",
       "    <tr>\n",
       "      <th>4</th>\n",
       "      <td>166</td>\n",
       "      <td>346</td>\n",
       "      <td>1.0</td>\n",
       "      <td>886397596</td>\n",
       "    </tr>\n",
       "    <tr>\n",
       "      <th>...</th>\n",
       "      <td>...</td>\n",
       "      <td>...</td>\n",
       "      <td>...</td>\n",
       "      <td>...</td>\n",
       "    </tr>\n",
       "    <tr>\n",
       "      <th>99995</th>\n",
       "      <td>880</td>\n",
       "      <td>476</td>\n",
       "      <td>3.0</td>\n",
       "      <td>880175444</td>\n",
       "    </tr>\n",
       "    <tr>\n",
       "      <th>99996</th>\n",
       "      <td>716</td>\n",
       "      <td>204</td>\n",
       "      <td>5.0</td>\n",
       "      <td>879795543</td>\n",
       "    </tr>\n",
       "    <tr>\n",
       "      <th>99997</th>\n",
       "      <td>276</td>\n",
       "      <td>1090</td>\n",
       "      <td>1.0</td>\n",
       "      <td>874795795</td>\n",
       "    </tr>\n",
       "    <tr>\n",
       "      <th>99998</th>\n",
       "      <td>13</td>\n",
       "      <td>225</td>\n",
       "      <td>2.0</td>\n",
       "      <td>882399156</td>\n",
       "    </tr>\n",
       "    <tr>\n",
       "      <th>99999</th>\n",
       "      <td>12</td>\n",
       "      <td>203</td>\n",
       "      <td>3.0</td>\n",
       "      <td>879959583</td>\n",
       "    </tr>\n",
       "  </tbody>\n",
       "</table>\n",
       "<p>100000 rows × 4 columns</p>\n",
       "</div>"
      ],
      "text/plain": [
       "      userId movieId  rating  timestamp\n",
       "0        196     242     3.0  881250949\n",
       "1        186     302     3.0  891717742\n",
       "2         22     377     1.0  878887116\n",
       "3        244      51     2.0  880606923\n",
       "4        166     346     1.0  886397596\n",
       "...      ...     ...     ...        ...\n",
       "99995    880     476     3.0  880175444\n",
       "99996    716     204     5.0  879795543\n",
       "99997    276    1090     1.0  874795795\n",
       "99998     13     225     2.0  882399156\n",
       "99999     12     203     3.0  879959583\n",
       "\n",
       "[100000 rows x 4 columns]"
      ]
     },
     "execution_count": 30,
     "metadata": {},
     "output_type": "execute_result"
    }
   ],
   "source": [
    "df = pd.DataFrame(data.raw_ratings, columns=['userId', 'movieId', 'rating', 'timestamp'])\n",
    "df"
   ]
  },
  {
   "cell_type": "markdown",
   "metadata": {},
   "source": [
    "В данных присутствуют следующие признаки:\n",
    "\n",
    "userId — идентификаторы пользователей сайта movielens;\n",
    "movieId — идентификаторы фильмов;\n",
    "rating — оценки фильмов, выставленные пользователями по шкале от 1 до 5;\n",
    "timestamp — время оценки фильма пользователем. Данный формат представления времени показывает, сколько секунд прошло с 1 января 1970 года."
   ]
  },
  {
   "cell_type": "markdown",
   "metadata": {},
   "source": [
    "Задание 3.1\n",
    "\n",
    "Сколько уникальных фильмов в наборе данных?"
   ]
  },
  {
   "cell_type": "code",
   "execution_count": 31,
   "metadata": {},
   "outputs": [
    {
     "data": {
      "text/plain": [
       "1682"
      ]
     },
     "execution_count": 31,
     "metadata": {},
     "output_type": "execute_result"
    }
   ],
   "source": [
    "df.movieId.nunique()"
   ]
  },
  {
   "cell_type": "markdown",
   "metadata": {},
   "source": [
    "Задание 3.2\n",
    "\n",
    "Сколько уникальных пользователей в наборе данных?"
   ]
  },
  {
   "cell_type": "code",
   "execution_count": 32,
   "metadata": {},
   "outputs": [
    {
     "data": {
      "text/plain": [
       "943"
      ]
     },
     "execution_count": 32,
     "metadata": {},
     "output_type": "execute_result"
    }
   ],
   "source": [
    "df.userId.nunique()"
   ]
  },
  {
   "cell_type": "markdown",
   "metadata": {},
   "source": [
    "Задание 3.3\n",
    "\n",
    "Какая оценка встречается в наборе данных чаще всего? Введите ответ в виде целого числа."
   ]
  },
  {
   "cell_type": "code",
   "execution_count": 33,
   "metadata": {},
   "outputs": [
    {
     "data": {
      "text/plain": [
       "0    4.0\n",
       "Name: rating, dtype: float64"
      ]
     },
     "execution_count": 33,
     "metadata": {},
     "output_type": "execute_result"
    }
   ],
   "source": [
    "df.rating.mode()"
   ]
  },
  {
   "cell_type": "markdown",
   "metadata": {},
   "source": [
    "Библиотека surprise очень похожа на библиотеку sklearn, и тоже позволяет разбить данные на обучающую и тестовую выборки всего одной функцией — surprise.model_selection.train_test_split().\n",
    "\n",
    "Задание 3.4\n",
    "\n",
    "Разбейте данные на обучающую и тестовую выборки. Объём тестовой выборки должен составлять 25 % от общего объёма данных. В качестве значения параметра random_state возьмите число 13.\n",
    "\n",
    "Сколько объектов попало в тестовую выборку?"
   ]
  },
  {
   "cell_type": "code",
   "execution_count": 48,
   "metadata": {},
   "outputs": [
    {
     "data": {
      "text/plain": [
       "25000"
      ]
     },
     "execution_count": 48,
     "metadata": {},
     "output_type": "execute_result"
    }
   ],
   "source": [
    "from surprise.model_selection import train_test_split\n",
    "\n",
    "train_df, test_df = train_test_split(data, test_size=0.25, random_state=13)\n",
    "len(test_df)"
   ]
  },
  {
   "cell_type": "markdown",
   "metadata": {},
   "source": [
    "Импортируем функции для построения рекомендательных систем (SVD — для model-based-подхода и KNNBasic — для memory-basic-подхода) и для оценки качества результата."
   ]
  },
  {
   "cell_type": "code",
   "execution_count": 43,
   "metadata": {},
   "outputs": [],
   "source": [
    "from surprise import SVD, KNNBasic, accuracy"
   ]
  },
  {
   "cell_type": "markdown",
   "metadata": {},
   "source": [
    "Теперь реализуем обычную коллаборативную фильтрацию. Выберем оценку схожести через косинусную близость и item-based-подход:"
   ]
  },
  {
   "cell_type": "code",
   "execution_count": 45,
   "metadata": {},
   "outputs": [],
   "source": [
    "sim_options = {\n",
    "    'name': 'cosine',\n",
    "    'user_based': False\n",
    "}\n",
    " \n",
    "knn = KNNBasic(sim_options=sim_options)"
   ]
  },
  {
   "cell_type": "markdown",
   "metadata": {},
   "source": [
    "Обучим алгоритм:"
   ]
  },
  {
   "cell_type": "code",
   "execution_count": 49,
   "metadata": {},
   "outputs": [
    {
     "name": "stdout",
     "output_type": "stream",
     "text": [
      "Computing the cosine similarity matrix...\n",
      "Done computing similarity matrix.\n"
     ]
    },
    {
     "data": {
      "text/plain": [
       "<surprise.prediction_algorithms.knns.KNNBasic at 0x2c0786e90>"
      ]
     },
     "execution_count": 49,
     "metadata": {},
     "output_type": "execute_result"
    }
   ],
   "source": [
    "knn.fit(train_df)"
   ]
  },
  {
   "cell_type": "markdown",
   "metadata": {},
   "source": [
    "Теперь давайте посмотрим, какие рекомендации мы получили, с помощью следующей программы:"
   ]
  },
  {
   "cell_type": "code",
   "execution_count": 50,
   "metadata": {},
   "outputs": [
    {
     "data": {
      "text/plain": [
       "[Prediction(uid='7', iid='633', r_ui=5.0, est=4.199452349030111, details={'actual_k': 40, 'was_impossible': False}),\n",
       " Prediction(uid='422', iid='287', r_ui=3.0, est=3.4703437660463736, details={'actual_k': 40, 'was_impossible': False}),\n",
       " Prediction(uid='804', iid='163', r_ui=3.0, est=3.5716736533692854, details={'actual_k': 40, 'was_impossible': False}),\n",
       " Prediction(uid='189', iid='480', r_ui=5.0, est=4.222825780855538, details={'actual_k': 40, 'was_impossible': False}),\n",
       " Prediction(uid='238', iid='546', r_ui=3.0, est=3.473417286928204, details={'actual_k': 17, 'was_impossible': False}),\n",
       " Prediction(uid='804', iid='216', r_ui=4.0, est=3.922551907749182, details={'actual_k': 40, 'was_impossible': False}),\n",
       " Prediction(uid='350', iid='204', r_ui=4.0, est=4.345238219480267, details={'actual_k': 38, 'was_impossible': False}),\n",
       " Prediction(uid='708', iid='993', r_ui=4.0, est=3.4458505791534115, details={'actual_k': 40, 'was_impossible': False}),\n",
       " Prediction(uid='193', iid='1078', r_ui=4.0, est=3.07510784413058, details={'actual_k': 40, 'was_impossible': False}),\n",
       " Prediction(uid='847', iid='173', r_ui=5.0, est=3.300050806141639, details={'actual_k': 40, 'was_impossible': False}),\n",
       " Prediction(uid='244', iid='662', r_ui=3.0, est=3.69830156454333, details={'actual_k': 40, 'was_impossible': False}),\n",
       " Prediction(uid='592', iid='1014', r_ui=4.0, est=3.1998176170082737, details={'actual_k': 40, 'was_impossible': False}),\n",
       " Prediction(uid='6', iid='15', r_ui=3.0, est=3.5999047772513957, details={'actual_k': 40, 'was_impossible': False}),\n",
       " Prediction(uid='49', iid='96', r_ui=1.0, est=2.5980114864164348, details={'actual_k': 40, 'was_impossible': False}),\n",
       " Prediction(uid='354', iid='1194', r_ui=4.0, est=4.000860894050235, details={'actual_k': 40, 'was_impossible': False}),\n",
       " Prediction(uid='265', iid='117', r_ui=5.0, est=3.6386166652345158, details={'actual_k': 30, 'was_impossible': False}),\n",
       " Prediction(uid='233', iid='193', r_ui=4.0, est=4.248645101202358, details={'actual_k': 40, 'was_impossible': False}),\n",
       " Prediction(uid='345', iid='620', r_ui=2.0, est=3.724835738485935, details={'actual_k': 40, 'was_impossible': False}),\n",
       " Prediction(uid='923', iid='831', r_ui=4.0, est=4.3507502906437745, details={'actual_k': 40, 'was_impossible': False}),\n",
       " Prediction(uid='833', iid='1143', r_ui=4.0, est=3.125, details={'actual_k': 40, 'was_impossible': False}),\n",
       " Prediction(uid='588', iid='443', r_ui=3.0, est=3.8752933806110414, details={'actual_k': 40, 'was_impossible': False}),\n",
       " Prediction(uid='916', iid='50', r_ui=5.0, est=3.6249832673946663, details={'actual_k': 40, 'was_impossible': False}),\n",
       " Prediction(uid='334', iid='1525', r_ui=4.0, est=3.5279866666666666, details={'was_impossible': True, 'reason': 'User and/or item is unknown.'}),\n",
       " Prediction(uid='909', iid='292', r_ui=4.0, est=4.195752007172238, details={'actual_k': 17, 'was_impossible': False}),\n",
       " Prediction(uid='697', iid='713', r_ui=5.0, est=3.6692382055805806, details={'actual_k': 40, 'was_impossible': False}),\n",
       " Prediction(uid='370', iid='525', r_ui=4.0, est=3.848874864003559, details={'actual_k': 40, 'was_impossible': False}),\n",
       " Prediction(uid='271', iid='89', r_ui=3.0, est=3.747211938837685, details={'actual_k': 40, 'was_impossible': False}),\n",
       " Prediction(uid='458', iid='116', r_ui=4.0, est=3.847791002778979, details={'actual_k': 40, 'was_impossible': False}),\n",
       " Prediction(uid='416', iid='1495', r_ui=3.0, est=3.825, details={'actual_k': 40, 'was_impossible': False}),\n",
       " Prediction(uid='921', iid='410', r_ui=2.0, est=3.522332289528116, details={'actual_k': 40, 'was_impossible': False}),\n",
       " Prediction(uid='97', iid='670', r_ui=5.0, est=4.127392635709689, details={'actual_k': 40, 'was_impossible': False}),\n",
       " Prediction(uid='286', iid='288', r_ui=5.0, est=3.95314051595336, details={'actual_k': 40, 'was_impossible': False}),\n",
       " Prediction(uid='257', iid='198', r_ui=3.0, est=3.9514883739447724, details={'actual_k': 39, 'was_impossible': False}),\n",
       " Prediction(uid='175', iid='132', r_ui=3.0, est=3.7593017450745414, details={'actual_k': 29, 'was_impossible': False}),\n",
       " Prediction(uid='315', iid='187', r_ui=4.0, est=4.201669841153457, details={'actual_k': 40, 'was_impossible': False}),\n",
       " Prediction(uid='543', iid='761', r_ui=2.0, est=3.4762386698025205, details={'actual_k': 40, 'was_impossible': False}),\n",
       " Prediction(uid='905', iid='245', r_ui=3.0, est=3.2263977703040645, details={'actual_k': 34, 'was_impossible': False}),\n",
       " Prediction(uid='313', iid='231', r_ui=2.0, est=3.848215167980456, details={'actual_k': 40, 'was_impossible': False}),\n",
       " Prediction(uid='365', iid='908', r_ui=3.0, est=3.331756540843533, details={'actual_k': 31, 'was_impossible': False}),\n",
       " Prediction(uid='399', iid='470', r_ui=4.0, est=2.9250880134132413, details={'actual_k': 40, 'was_impossible': False}),\n",
       " Prediction(uid='578', iid='272', r_ui=2.0, est=2.71298393127952, details={'actual_k': 20, 'was_impossible': False}),\n",
       " Prediction(uid='775', iid='315', r_ui=5.0, est=3.6850338209825795, details={'actual_k': 22, 'was_impossible': False}),\n",
       " Prediction(uid='653', iid='200', r_ui=4.0, est=2.673263692490889, details={'actual_k': 40, 'was_impossible': False}),\n",
       " Prediction(uid='405', iid='1572', r_ui=1.0, est=3.5279866666666666, details={'was_impossible': True, 'reason': 'User and/or item is unknown.'}),\n",
       " Prediction(uid='498', iid='175', r_ui=5.0, est=3.5723269528257338, details={'actual_k': 40, 'was_impossible': False}),\n",
       " Prediction(uid='279', iid='1113', r_ui=3.0, est=3.3, details={'actual_k': 40, 'was_impossible': False}),\n",
       " Prediction(uid='76', iid='23', r_ui=5.0, est=4.100699321302352, details={'actual_k': 40, 'was_impossible': False}),\n",
       " Prediction(uid='344', iid='708', r_ui=4.0, est=4.125846250290898, details={'actual_k': 40, 'was_impossible': False}),\n",
       " Prediction(uid='276', iid='1478', r_ui=3.0, est=2.9, details={'actual_k': 40, 'was_impossible': False}),\n",
       " Prediction(uid='267', iid='1090', r_ui=3.0, est=3.6937562478848935, details={'actual_k': 40, 'was_impossible': False}),\n",
       " Prediction(uid='648', iid='497', r_ui=4.0, est=3.1432169160607564, details={'actual_k': 40, 'was_impossible': False}),\n",
       " Prediction(uid='642', iid='1480', r_ui=1.0, est=3.45, details={'actual_k': 40, 'was_impossible': False}),\n",
       " Prediction(uid='276', iid='428', r_ui=4.0, est=2.9457911408402135, details={'actual_k': 40, 'was_impossible': False}),\n",
       " Prediction(uid='540', iid='762', r_ui=4.0, est=3.7857323261429294, details={'actual_k': 37, 'was_impossible': False}),\n",
       " Prediction(uid='399', iid='288', r_ui=3.0, est=2.974343535440141, details={'actual_k': 40, 'was_impossible': False}),\n",
       " Prediction(uid='268', iid='250', r_ui=4.0, est=2.872019361176961, details={'actual_k': 40, 'was_impossible': False}),\n",
       " Prediction(uid='349', iid='471', r_ui=3.0, est=3.223475938022671, details={'actual_k': 28, 'was_impossible': False}),\n",
       " Prediction(uid='854', iid='117', r_ui=3.0, est=3.049479500971992, details={'actual_k': 40, 'was_impossible': False}),\n",
       " Prediction(uid='182', iid='845', r_ui=3.0, est=3.832196547515011, details={'actual_k': 23, 'was_impossible': False}),\n",
       " Prediction(uid='773', iid='1071', r_ui=2.0, est=3.3241031746593053, details={'actual_k': 40, 'was_impossible': False}),\n",
       " Prediction(uid='883', iid='487', r_ui=5.0, est=4.1499382915889305, details={'actual_k': 40, 'was_impossible': False}),\n",
       " Prediction(uid='425', iid='258', r_ui=2.0, est=3.274726800443655, details={'actual_k': 40, 'was_impossible': False}),\n",
       " Prediction(uid='298', iid='473', r_ui=3.0, est=4.200941748841276, details={'actual_k': 40, 'was_impossible': False}),\n",
       " Prediction(uid='114', iid='269', r_ui=4.0, est=3.4898887470944633, details={'actual_k': 35, 'was_impossible': False}),\n",
       " Prediction(uid='521', iid='268', r_ui=5.0, est=3.224593331510733, details={'actual_k': 40, 'was_impossible': False}),\n",
       " Prediction(uid='346', iid='318', r_ui=5.0, est=3.5263123221873887, details={'actual_k': 40, 'was_impossible': False}),\n",
       " Prediction(uid='752', iid='355', r_ui=2.0, est=3.269754952886165, details={'actual_k': 40, 'was_impossible': False}),\n",
       " Prediction(uid='916', iid='509', r_ui=4.0, est=3.6971683818161134, details={'actual_k': 40, 'was_impossible': False}),\n",
       " Prediction(uid='716', iid='117', r_ui=4.0, est=3.746935220328798, details={'actual_k': 40, 'was_impossible': False}),\n",
       " Prediction(uid='269', iid='5', r_ui=2.0, est=2.950320873765803, details={'actual_k': 40, 'was_impossible': False}),\n",
       " Prediction(uid='184', iid='69', r_ui=3.0, est=3.850438530980304, details={'actual_k': 40, 'was_impossible': False}),\n",
       " Prediction(uid='174', iid='575', r_ui=1.0, est=3.949993340751277, details={'actual_k': 40, 'was_impossible': False}),\n",
       " Prediction(uid='244', iid='53', r_ui=3.0, est=3.845946445437602, details={'actual_k': 40, 'was_impossible': False}),\n",
       " Prediction(uid='200', iid='2', r_ui=4.0, est=3.969269117509676, details={'actual_k': 40, 'was_impossible': False}),\n",
       " Prediction(uid='426', iid='1204', r_ui=4.0, est=3.898214990000964, details={'actual_k': 40, 'was_impossible': False}),\n",
       " Prediction(uid='13', iid='846', r_ui=2.0, est=2.975, details={'actual_k': 40, 'was_impossible': False}),\n",
       " Prediction(uid='661', iid='210', r_ui=5.0, est=4.101076838404325, details={'actual_k': 40, 'was_impossible': False}),\n",
       " Prediction(uid='639', iid='1195', r_ui=2.0, est=2.774165883681317, details={'actual_k': 40, 'was_impossible': False}),\n",
       " Prediction(uid='128', iid='133', r_ui=5.0, est=3.7252374907969927, details={'actual_k': 40, 'was_impossible': False}),\n",
       " Prediction(uid='357', iid='546', r_ui=5.0, est=4.3013676749715515, details={'actual_k': 40, 'was_impossible': False}),\n",
       " Prediction(uid='564', iid='272', r_ui=3.0, est=3.475431713690478, details={'actual_k': 23, 'was_impossible': False}),\n",
       " Prediction(uid='758', iid='576', r_ui=4.0, est=3.8250503450057005, details={'actual_k': 40, 'was_impossible': False}),\n",
       " Prediction(uid='598', iid='259', r_ui=3.0, est=3.6399239215702583, details={'actual_k': 20, 'was_impossible': False}),\n",
       " Prediction(uid='210', iid='483', r_ui=5.0, est=4.274525611249623, details={'actual_k': 40, 'was_impossible': False}),\n",
       " Prediction(uid='144', iid='960', r_ui=2.0, est=3.5237869129508383, details={'actual_k': 40, 'was_impossible': False}),\n",
       " Prediction(uid='364', iid='319', r_ui=3.0, est=3.502243633122377, details={'actual_k': 14, 'was_impossible': False}),\n",
       " Prediction(uid='380', iid='300', r_ui=3.0, est=3.272494402550429, details={'actual_k': 40, 'was_impossible': False}),\n",
       " Prediction(uid='749', iid='188', r_ui=3.0, est=3.7968423133733746, details={'actual_k': 40, 'was_impossible': False}),\n",
       " Prediction(uid='435', iid='3', r_ui=3.0, est=3.0479215704166798, details={'actual_k': 40, 'was_impossible': False}),\n",
       " Prediction(uid='244', iid='290', r_ui=3.0, est=3.751096294574518, details={'actual_k': 40, 'was_impossible': False}),\n",
       " Prediction(uid='548', iid='603', r_ui=5.0, est=3.90131216151074, details={'actual_k': 40, 'was_impossible': False}),\n",
       " Prediction(uid='405', iid='720', r_ui=1.0, est=1.125, details={'actual_k': 40, 'was_impossible': False}),\n",
       " Prediction(uid='176', iid='240', r_ui=4.0, est=3.7283315360968654, details={'actual_k': 40, 'was_impossible': False}),\n",
       " Prediction(uid='450', iid='430', r_ui=4.0, est=3.624003593073203, details={'actual_k': 40, 'was_impossible': False}),\n",
       " Prediction(uid='16', iid='942', r_ui=4.0, est=4.224351870264815, details={'actual_k': 40, 'was_impossible': False}),\n",
       " Prediction(uid='70', iid='197', r_ui=4.0, est=3.577051759042252, details={'actual_k': 40, 'was_impossible': False}),\n",
       " Prediction(uid='940', iid='354', r_ui=5.0, est=3.5974293928226984, details={'actual_k': 40, 'was_impossible': False}),\n",
       " Prediction(uid='551', iid='366', r_ui=5.0, est=3.598840640104643, details={'actual_k': 40, 'was_impossible': False}),\n",
       " Prediction(uid='920', iid='300', r_ui=3.0, est=3.2271412280919045, details={'actual_k': 18, 'was_impossible': False}),\n",
       " Prediction(uid='130', iid='210', r_ui=5.0, est=3.919803393881592, details={'actual_k': 40, 'was_impossible': False}),\n",
       " Prediction(uid='7', iid='608', r_ui=4.0, est=3.5000384941332343, details={'actual_k': 40, 'was_impossible': False}),\n",
       " Prediction(uid='886', iid='1324', r_ui=2.0, est=3.7, details={'actual_k': 40, 'was_impossible': False}),\n",
       " Prediction(uid='880', iid='316', r_ui=5.0, est=3.099665682198066, details={'actual_k': 40, 'was_impossible': False}),\n",
       " Prediction(uid='655', iid='1142', r_ui=2.0, est=3.0, details={'actual_k': 40, 'was_impossible': False}),\n",
       " Prediction(uid='385', iid='506', r_ui=2.0, est=3.576343722717137, details={'actual_k': 40, 'was_impossible': False}),\n",
       " Prediction(uid='313', iid='237', r_ui=2.0, est=3.9975377537966628, details={'actual_k': 40, 'was_impossible': False}),\n",
       " Prediction(uid='32', iid='288', r_ui=4.0, est=3.357707473118339, details={'actual_k': 34, 'was_impossible': False}),\n",
       " Prediction(uid='76', iid='547', r_ui=2.0, est=3.6773192373026555, details={'actual_k': 40, 'was_impossible': False}),\n",
       " Prediction(uid='892', iid='515', r_ui=5.0, est=4.27227303433439, details={'actual_k': 40, 'was_impossible': False}),\n",
       " Prediction(uid='823', iid='66', r_ui=4.0, est=3.975837931550042, details={'actual_k': 40, 'was_impossible': False}),\n",
       " Prediction(uid='416', iid='300', r_ui=4.0, est=3.923445827849886, details={'actual_k': 40, 'was_impossible': False}),\n",
       " Prediction(uid='318', iid='205', r_ui=3.0, est=3.895812749763578, details={'actual_k': 40, 'was_impossible': False}),\n",
       " Prediction(uid='450', iid='485', r_ui=5.0, est=3.5701949925706566, details={'actual_k': 40, 'was_impossible': False}),\n",
       " Prediction(uid='416', iid='827', r_ui=4.0, est=3.225, details={'actual_k': 40, 'was_impossible': False}),\n",
       " Prediction(uid='412', iid='684', r_ui=4.0, est=3.97479328105175, details={'actual_k': 35, 'was_impossible': False}),\n",
       " Prediction(uid='682', iid='196', r_ui=5.0, est=3.1487576094562315, details={'actual_k': 40, 'was_impossible': False}),\n",
       " Prediction(uid='110', iid='1090', r_ui=2.0, est=2.9652747281489646, details={'actual_k': 40, 'was_impossible': False}),\n",
       " Prediction(uid='521', iid='755', r_ui=3.0, est=3.1495714190554036, details={'actual_k': 40, 'was_impossible': False}),\n",
       " Prediction(uid='861', iid='289', r_ui=5.0, est=4.0023624606025505, details={'actual_k': 28, 'was_impossible': False}),\n",
       " Prediction(uid='712', iid='584', r_ui=4.0, est=3.7769348505190643, details={'actual_k': 40, 'was_impossible': False}),\n",
       " Prediction(uid='568', iid='923', r_ui=3.0, est=3.474591763949734, details={'actual_k': 40, 'was_impossible': False}),\n",
       " Prediction(uid='921', iid='15', r_ui=4.0, est=3.522627563319372, details={'actual_k': 40, 'was_impossible': False}),\n",
       " Prediction(uid='815', iid='494', r_ui=5.0, est=3.872031113707181, details={'actual_k': 40, 'was_impossible': False}),\n",
       " Prediction(uid='523', iid='549', r_ui=4.0, est=4.599500524822178, details={'actual_k': 40, 'was_impossible': False}),\n",
       " Prediction(uid='846', iid='566', r_ui=5.0, est=3.6435284955065748, details={'actual_k': 40, 'was_impossible': False}),\n",
       " Prediction(uid='184', iid='165', r_ui=4.0, est=3.847668026771911, details={'actual_k': 40, 'was_impossible': False}),\n",
       " Prediction(uid='556', iid='513', r_ui=4.0, est=4.325581740127155, details={'actual_k': 32, 'was_impossible': False}),\n",
       " Prediction(uid='378', iid='13', r_ui=3.0, est=3.4703365222357974, details={'actual_k': 40, 'was_impossible': False}),\n",
       " Prediction(uid='870', iid='690', r_ui=2.0, est=3.197054210085647, details={'actual_k': 40, 'was_impossible': False}),\n",
       " Prediction(uid='534', iid='628', r_ui=5.0, est=4.023988500116665, details={'actual_k': 40, 'was_impossible': False}),\n",
       " Prediction(uid='851', iid='192', r_ui=4.0, est=3.0936405088067542, details={'actual_k': 40, 'was_impossible': False}),\n",
       " Prediction(uid='445', iid='310', r_ui=1.0, est=2.023999789020754, details={'actual_k': 40, 'was_impossible': False}),\n",
       " Prediction(uid='380', iid='62', r_ui=1.0, est=3.349110709281696, details={'actual_k': 40, 'was_impossible': False}),\n",
       " Prediction(uid='26', iid='50', r_ui=4.0, est=3.4023175201951346, details={'actual_k': 40, 'was_impossible': False}),\n",
       " Prediction(uid='319', iid='338', r_ui=2.0, est=3.7933553301564515, details={'actual_k': 14, 'was_impossible': False}),\n",
       " Prediction(uid='97', iid='82', r_ui=4.0, est=4.175752153986282, details={'actual_k': 40, 'was_impossible': False}),\n",
       " Prediction(uid='618', iid='117', r_ui=5.0, est=3.172604034933685, details={'actual_k': 40, 'was_impossible': False}),\n",
       " Prediction(uid='642', iid='217', r_ui=2.0, est=3.7209288574788393, details={'actual_k': 40, 'was_impossible': False}),\n",
       " Prediction(uid='913', iid='317', r_ui=4.0, est=3.823827985080838, details={'actual_k': 40, 'was_impossible': False}),\n",
       " Prediction(uid='919', iid='174', r_ui=4.0, est=3.722132615970615, details={'actual_k': 40, 'was_impossible': False}),\n",
       " Prediction(uid='870', iid='715', r_ui=3.0, est=3.549282626191216, details={'actual_k': 40, 'was_impossible': False}),\n",
       " Prediction(uid='405', iid='415', r_ui=2.0, est=1.275, details={'actual_k': 40, 'was_impossible': False}),\n",
       " Prediction(uid='217', iid='144', r_ui=4.0, est=2.8265100699991748, details={'actual_k': 40, 'was_impossible': False}),\n",
       " Prediction(uid='109', iid='845', r_ui=4.0, est=3.450564177475175, details={'actual_k': 40, 'was_impossible': False}),\n",
       " Prediction(uid='642', iid='409', r_ui=5.0, est=3.448138251256887, details={'actual_k': 40, 'was_impossible': False}),\n",
       " Prediction(uid='894', iid='818', r_ui=3.0, est=3.6000675346592343, details={'actual_k': 40, 'was_impossible': False}),\n",
       " Prediction(uid='340', iid='174', r_ui=4.0, est=4.200098782599134, details={'actual_k': 31, 'was_impossible': False}),\n",
       " Prediction(uid='790', iid='403', r_ui=4.0, est=3.2240817579444427, details={'actual_k': 40, 'was_impossible': False}),\n",
       " Prediction(uid='282', iid='307', r_ui=3.0, est=3.3819175371731385, details={'actual_k': 18, 'was_impossible': False}),\n",
       " Prediction(uid='586', iid='164', r_ui=2.0, est=3.3247826517651244, details={'actual_k': 40, 'was_impossible': False}),\n",
       " Prediction(uid='130', iid='2', r_ui=4.0, est=3.64457684420459, details={'actual_k': 40, 'was_impossible': False}),\n",
       " Prediction(uid='506', iid='198', r_ui=2.0, est=3.7489483807318433, details={'actual_k': 40, 'was_impossible': False}),\n",
       " Prediction(uid='943', iid='210', r_ui=4.0, est=3.5018811286238667, details={'actual_k': 40, 'was_impossible': False}),\n",
       " Prediction(uid='363', iid='39', r_ui=4.0, est=2.925162482239632, details={'actual_k': 40, 'was_impossible': False}),\n",
       " Prediction(uid='94', iid='1226', r_ui=4.0, est=3.175, details={'actual_k': 40, 'was_impossible': False}),\n",
       " Prediction(uid='389', iid='238', r_ui=5.0, est=4.32380790563759, details={'actual_k': 40, 'was_impossible': False}),\n",
       " Prediction(uid='624', iid='979', r_ui=4.0, est=3.5744019371633273, details={'actual_k': 40, 'was_impossible': False}),\n",
       " Prediction(uid='860', iid='865', r_ui=4.0, est=3.3437331329785542, details={'actual_k': 40, 'was_impossible': False}),\n",
       " Prediction(uid='908', iid='144', r_ui=4.0, est=3.6744422794797713, details={'actual_k': 40, 'was_impossible': False}),\n",
       " Prediction(uid='122', iid='46', r_ui=5.0, est=3.931042915309801, details={'actual_k': 40, 'was_impossible': False}),\n",
       " Prediction(uid='48', iid='680', r_ui=3.0, est=3.8572507372442146, details={'actual_k': 40, 'was_impossible': False}),\n",
       " Prediction(uid='805', iid='141', r_ui=2.0, est=3.72514671914643, details={'actual_k': 40, 'was_impossible': False}),\n",
       " Prediction(uid='347', iid='157', r_ui=5.0, est=3.6457388951455187, details={'actual_k': 40, 'was_impossible': False}),\n",
       " Prediction(uid='520', iid='100', r_ui=4.0, est=3.08802721111001, details={'actual_k': 14, 'was_impossible': False}),\n",
       " Prediction(uid='234', iid='436', r_ui=3.0, est=3.1490744707045906, details={'actual_k': 40, 'was_impossible': False}),\n",
       " Prediction(uid='397', iid='134', r_ui=5.0, est=4.218938768920796, details={'actual_k': 40, 'was_impossible': False}),\n",
       " Prediction(uid='92', iid='1014', r_ui=3.0, est=3.0707925271861347, details={'actual_k': 40, 'was_impossible': False}),\n",
       " Prediction(uid='210', iid='722', r_ui=4.0, est=4.199228005411683, details={'actual_k': 40, 'was_impossible': False}),\n",
       " Prediction(uid='158', iid='277', r_ui=4.0, est=3.848793656194784, details={'actual_k': 40, 'was_impossible': False}),\n",
       " Prediction(uid='916', iid='549', r_ui=3.0, est=3.322916325836501, details={'actual_k': 40, 'was_impossible': False}),\n",
       " Prediction(uid='790', iid='145', r_ui=2.0, est=2.570450323990713, details={'actual_k': 40, 'was_impossible': False}),\n",
       " Prediction(uid='724', iid='877', r_ui=1.0, est=2.1106622112989317, details={'actual_k': 40, 'was_impossible': False}),\n",
       " Prediction(uid='234', iid='451', r_ui=3.0, est=3.126035551592862, details={'actual_k': 40, 'was_impossible': False}),\n",
       " Prediction(uid='250', iid='44', r_ui=4.0, est=3.750653712810691, details={'actual_k': 40, 'was_impossible': False}),\n",
       " Prediction(uid='94', iid='412', r_ui=2.0, est=3.8267223704381728, details={'actual_k': 40, 'was_impossible': False}),\n",
       " Prediction(uid='25', iid='495', r_ui=4.0, est=4.075614967665048, details={'actual_k': 40, 'was_impossible': False}),\n",
       " Prediction(uid='421', iid='175', r_ui=2.0, est=3.7719411453305676, details={'actual_k': 40, 'was_impossible': False}),\n",
       " Prediction(uid='429', iid='768', r_ui=3.0, est=3.373308694195406, details={'actual_k': 40, 'was_impossible': False}),\n",
       " Prediction(uid='536', iid='163', r_ui=5.0, est=4.249806930122042, details={'actual_k': 40, 'was_impossible': False}),\n",
       " Prediction(uid='115', iid='969', r_ui=1.0, est=3.826434971683506, details={'actual_k': 40, 'was_impossible': False}),\n",
       " Prediction(uid='339', iid='508', r_ui=4.0, est=4.045455113814387, details={'actual_k': 40, 'was_impossible': False}),\n",
       " Prediction(uid='303', iid='357', r_ui=5.0, est=3.8961193004452674, details={'actual_k': 40, 'was_impossible': False}),\n",
       " Prediction(uid='608', iid='507', r_ui=3.0, est=3.7516095580196267, details={'actual_k': 40, 'was_impossible': False}),\n",
       " Prediction(uid='712', iid='232', r_ui=3.0, est=3.826290436655384, details={'actual_k': 40, 'was_impossible': False}),\n",
       " Prediction(uid='883', iid='198', r_ui=5.0, est=4.200906422160898, details={'actual_k': 40, 'was_impossible': False}),\n",
       " Prediction(uid='603', iid='173', r_ui=4.0, est=3.8929337846632595, details={'actual_k': 37, 'was_impossible': False}),\n",
       " Prediction(uid='225', iid='603', r_ui=5.0, est=4.405766770893796, details={'actual_k': 20, 'was_impossible': False}),\n",
       " Prediction(uid='655', iid='218', r_ui=3.0, est=2.8251328127391786, details={'actual_k': 40, 'was_impossible': False}),\n",
       " Prediction(uid='643', iid='162', r_ui=3.0, est=3.897944054368157, details={'actual_k': 40, 'was_impossible': False}),\n",
       " Prediction(uid='303', iid='479', r_ui=5.0, est=3.1691678011509947, details={'actual_k': 40, 'was_impossible': False}),\n",
       " Prediction(uid='145', iid='56', r_ui=5.0, est=3.3712597913379643, details={'actual_k': 40, 'was_impossible': False}),\n",
       " Prediction(uid='428', iid='268', r_ui=4.0, est=3.95489541620263, details={'actual_k': 40, 'was_impossible': False}),\n",
       " Prediction(uid='189', iid='7', r_ui=3.0, est=4.173786382935981, details={'actual_k': 40, 'was_impossible': False}),\n",
       " Prediction(uid='409', iid='45', r_ui=4.0, est=3.3733987243462393, details={'actual_k': 40, 'was_impossible': False}),\n",
       " Prediction(uid='245', iid='133', r_ui=2.0, est=3.3109079315961516, details={'actual_k': 17, 'was_impossible': False}),\n",
       " Prediction(uid='41', iid='28', r_ui=4.0, est=3.6677268612134633, details={'actual_k': 39, 'was_impossible': False}),\n",
       " Prediction(uid='541', iid='810', r_ui=3.0, est=3.843530828553799, details={'actual_k': 40, 'was_impossible': False}),\n",
       " Prediction(uid='846', iid='1209', r_ui=1.0, est=3.65, details={'actual_k': 40, 'was_impossible': False}),\n",
       " Prediction(uid='49', iid='1018', r_ui=2.0, est=2.4254074812796165, details={'actual_k': 40, 'was_impossible': False}),\n",
       " Prediction(uid='410', iid='352', r_ui=3.0, est=3.2003215950213804, details={'actual_k': 20, 'was_impossible': False}),\n",
       " Prediction(uid='234', iid='216', r_ui=3.0, est=3.423960509543575, details={'actual_k': 40, 'was_impossible': False}),\n",
       " Prediction(uid='130', iid='331', r_ui=3.0, est=3.6498438946404463, details={'actual_k': 40, 'was_impossible': False}),\n",
       " Prediction(uid='363', iid='222', r_ui=5.0, est=3.1715706154772527, details={'actual_k': 40, 'was_impossible': False}),\n",
       " Prediction(uid='435', iid='930', r_ui=3.0, est=3.2977078232798265, details={'actual_k': 40, 'was_impossible': False}),\n",
       " Prediction(uid='244', iid='1119', r_ui=5.0, est=3.7738737570422987, details={'actual_k': 40, 'was_impossible': False}),\n",
       " Prediction(uid='839', iid='950', r_ui=4.0, est=3.3169838243151806, details={'actual_k': 39, 'was_impossible': False}),\n",
       " Prediction(uid='320', iid='472', r_ui=3.0, est=3.772926839990355, details={'actual_k': 40, 'was_impossible': False}),\n",
       " Prediction(uid='305', iid='190', r_ui=3.0, est=3.3978544062033147, details={'actual_k': 40, 'was_impossible': False}),\n",
       " Prediction(uid='293', iid='632', r_ui=3.0, est=2.547397296678621, details={'actual_k': 40, 'was_impossible': False}),\n",
       " Prediction(uid='457', iid='443', r_ui=4.0, est=4.375034053144597, details={'actual_k': 40, 'was_impossible': False}),\n",
       " Prediction(uid='261', iid='259', r_ui=4.0, est=4.04417056734998, details={'actual_k': 19, 'was_impossible': False}),\n",
       " Prediction(uid='658', iid='168', r_ui=3.0, est=3.773637735276123, details={'actual_k': 40, 'was_impossible': False}),\n",
       " Prediction(uid='684', iid='742', r_ui=4.0, est=3.624641331538051, details={'actual_k': 40, 'was_impossible': False}),\n",
       " Prediction(uid='532', iid='501', r_ui=5.0, est=4.14714969928115, details={'actual_k': 40, 'was_impossible': False}),\n",
       " Prediction(uid='545', iid='326', r_ui=3.0, est=3.4745413036328974, details={'actual_k': 40, 'was_impossible': False}),\n",
       " Prediction(uid='498', iid='174', r_ui=3.0, est=3.274367765692108, details={'actual_k': 40, 'was_impossible': False}),\n",
       " Prediction(uid='158', iid='433', r_ui=3.0, est=4.322871504557923, details={'actual_k': 40, 'was_impossible': False}),\n",
       " Prediction(uid='18', iid='216', r_ui=4.0, est=4.023387170641003, details={'actual_k': 40, 'was_impossible': False}),\n",
       " Prediction(uid='393', iid='1435', r_ui=3.0, est=3.325, details={'actual_k': 40, 'was_impossible': False}),\n",
       " Prediction(uid='813', iid='9', r_ui=3.0, est=2.8516208408753365, details={'actual_k': 20, 'was_impossible': False}),\n",
       " Prediction(uid='585', iid='1319', r_ui=2.0, est=3.5636335284965797, details={'actual_k': 16, 'was_impossible': False}),\n",
       " Prediction(uid='158', iid='502', r_ui=4.0, est=3.8503671910012494, details={'actual_k': 40, 'was_impossible': False}),\n",
       " Prediction(uid='259', iid='357', r_ui=5.0, est=3.8937652369449043, details={'actual_k': 35, 'was_impossible': False}),\n",
       " Prediction(uid='160', iid='273', r_ui=5.0, est=4.175200562322735, details={'actual_k': 40, 'was_impossible': False}),\n",
       " Prediction(uid='567', iid='192', r_ui=4.0, est=4.0502829282349495, details={'actual_k': 40, 'was_impossible': False}),\n",
       " Prediction(uid='62', iid='283', r_ui=4.0, est=3.4992963247664988, details={'actual_k': 40, 'was_impossible': False}),\n",
       " Prediction(uid='916', iid='204', r_ui=3.0, est=3.475420933673526, details={'actual_k': 40, 'was_impossible': False}),\n",
       " Prediction(uid='738', iid='528', r_ui=4.0, est=3.8499255666471366, details={'actual_k': 40, 'was_impossible': False}),\n",
       " Prediction(uid='23', iid='541', r_ui=4.0, est=3.847496699340866, details={'actual_k': 40, 'was_impossible': False}),\n",
       " Prediction(uid='643', iid='50', r_ui=4.0, est=4.1503486291463805, details={'actual_k': 40, 'was_impossible': False}),\n",
       " Prediction(uid='437', iid='692', r_ui=4.0, est=3.8745494671338236, details={'actual_k': 40, 'was_impossible': False}),\n",
       " Prediction(uid='1', iid='117', r_ui=3.0, est=3.7691407511738264, details={'actual_k': 40, 'was_impossible': False}),\n",
       " Prediction(uid='559', iid='194', r_ui=3.0, est=3.798652917506532, details={'actual_k': 40, 'was_impossible': False}),\n",
       " Prediction(uid='805', iid='431', r_ui=1.0, est=3.2977897330139543, details={'actual_k': 40, 'was_impossible': False}),\n",
       " Prediction(uid='248', iid='96', r_ui=4.0, est=3.5754451404315586, details={'actual_k': 40, 'was_impossible': False}),\n",
       " Prediction(uid='222', iid='195', r_ui=4.0, est=3.6437554855263796, details={'actual_k': 40, 'was_impossible': False}),\n",
       " Prediction(uid='886', iid='49', r_ui=4.0, est=3.320961959127114, details={'actual_k': 40, 'was_impossible': False}),\n",
       " Prediction(uid='323', iid='744', r_ui=5.0, est=3.8728529184274367, details={'actual_k': 40, 'was_impossible': False}),\n",
       " Prediction(uid='368', iid='777', r_ui=2.0, est=3.08, details={'actual_k': 25, 'was_impossible': False}),\n",
       " Prediction(uid='796', iid='684', r_ui=5.0, est=3.7485337318033567, details={'actual_k': 40, 'was_impossible': False}),\n",
       " Prediction(uid='624', iid='845', r_ui=3.0, est=3.6262947930059166, details={'actual_k': 40, 'was_impossible': False}),\n",
       " Prediction(uid='492', iid='242', r_ui=5.0, est=3.580170227945, details={'actual_k': 38, 'was_impossible': False}),\n",
       " Prediction(uid='932', iid='498', r_ui=5.0, est=4.247972718944143, details={'actual_k': 40, 'was_impossible': False}),\n",
       " Prediction(uid='303', iid='1199', r_ui=3.0, est=2.95, details={'actual_k': 40, 'was_impossible': False}),\n",
       " Prediction(uid='796', iid='217', r_ui=4.0, est=3.3985083828496405, details={'actual_k': 40, 'was_impossible': False}),\n",
       " Prediction(uid='915', iid='302', r_ui=4.0, est=3.153988680261241, details={'actual_k': 20, 'was_impossible': False}),\n",
       " Prediction(uid='318', iid='768', r_ui=2.0, est=3.721786514656055, details={'actual_k': 40, 'was_impossible': False}),\n",
       " Prediction(uid='454', iid='1190', r_ui=3.0, est=2.7, details={'actual_k': 40, 'was_impossible': False}),\n",
       " Prediction(uid='268', iid='217', r_ui=2.0, est=2.3264785528864573, details={'actual_k': 40, 'was_impossible': False}),\n",
       " Prediction(uid='864', iid='736', r_ui=5.0, est=3.595694327691956, details={'actual_k': 40, 'was_impossible': False}),\n",
       " Prediction(uid='417', iid='827', r_ui=2.0, est=3.199390498816688, details={'actual_k': 40, 'was_impossible': False}),\n",
       " Prediction(uid='918', iid='86', r_ui=4.0, est=3.550346845000696, details={'actual_k': 40, 'was_impossible': False}),\n",
       " Prediction(uid='753', iid='64', r_ui=4.0, est=3.6058737078589727, details={'actual_k': 40, 'was_impossible': False}),\n",
       " Prediction(uid='406', iid='150', r_ui=4.0, est=3.4999360711308847, details={'actual_k': 40, 'was_impossible': False}),\n",
       " Prediction(uid='308', iid='169', r_ui=5.0, est=3.6993892517234572, details={'actual_k': 40, 'was_impossible': False}),\n",
       " Prediction(uid='650', iid='212', r_ui=3.0, est=3.3227904101062595, details={'actual_k': 40, 'was_impossible': False}),\n",
       " Prediction(uid='221', iid='1016', r_ui=3.0, est=3.873982818863081, details={'actual_k': 40, 'was_impossible': False}),\n",
       " Prediction(uid='160', iid='56', r_ui=5.0, est=4.300875616786216, details={'actual_k': 40, 'was_impossible': False}),\n",
       " Prediction(uid='244', iid='815', r_ui=4.0, est=3.52526039201736, details={'actual_k': 40, 'was_impossible': False}),\n",
       " Prediction(uid='554', iid='13', r_ui=2.0, est=3.674135411960293, details={'actual_k': 40, 'was_impossible': False}),\n",
       " Prediction(uid='94', iid='173', r_ui=4.0, est=4.097193227009217, details={'actual_k': 40, 'was_impossible': False}),\n",
       " Prediction(uid='642', iid='218', r_ui=3.0, est=3.3989034492339387, details={'actual_k': 40, 'was_impossible': False}),\n",
       " Prediction(uid='933', iid='180', r_ui=5.0, est=3.1948852584798604, details={'actual_k': 40, 'was_impossible': False}),\n",
       " Prediction(uid='149', iid='321', r_ui=2.0, est=2.7705087979496117, details={'actual_k': 22, 'was_impossible': False}),\n",
       " Prediction(uid='396', iid='245', r_ui=3.0, est=3.236446743317234, details={'actual_k': 38, 'was_impossible': False}),\n",
       " Prediction(uid='935', iid='405', r_ui=4.0, est=3.8487448296611486, details={'actual_k': 32, 'was_impossible': False}),\n",
       " Prediction(uid='212', iid='382', r_ui=5.0, est=3.9959419143594013, details={'actual_k': 18, 'was_impossible': False}),\n",
       " Prediction(uid='666', iid='288', r_ui=3.0, est=3.4245692361766054, details={'actual_k': 40, 'was_impossible': False}),\n",
       " Prediction(uid='125', iid='427', r_ui=4.0, est=3.4976052332860306, details={'actual_k': 40, 'was_impossible': False}),\n",
       " Prediction(uid='321', iid='513', r_ui=4.0, est=3.7249889799452203, details={'actual_k': 40, 'was_impossible': False}),\n",
       " Prediction(uid='305', iid='655', r_ui=4.0, est=3.800259811893002, details={'actual_k': 40, 'was_impossible': False}),\n",
       " Prediction(uid='269', iid='1101', r_ui=4.0, est=3.293503684330507, details={'actual_k': 40, 'was_impossible': False}),\n",
       " Prediction(uid='654', iid='476', r_ui=3.0, est=3.95002867995374, details={'actual_k': 40, 'was_impossible': False}),\n",
       " Prediction(uid='193', iid='682', r_ui=1.0, est=3.353776242359449, details={'actual_k': 40, 'was_impossible': False}),\n",
       " Prediction(uid='419', iid='306', r_ui=5.0, est=4.291030001432043, details={'actual_k': 21, 'was_impossible': False}),\n",
       " Prediction(uid='113', iid='742', r_ui=3.0, est=3.6911537827097685, details={'actual_k': 40, 'was_impossible': False}),\n",
       " Prediction(uid='634', iid='1048', r_ui=3.0, est=3.3243363541997337, details={'actual_k': 40, 'was_impossible': False}),\n",
       " Prediction(uid='911', iid='530', r_ui=4.0, est=3.8013475213088412, details={'actual_k': 40, 'was_impossible': False}),\n",
       " Prediction(uid='280', iid='322', r_ui=4.0, est=3.5261984586233828, details={'actual_k': 40, 'was_impossible': False}),\n",
       " Prediction(uid='871', iid='346', r_ui=3.0, est=3.3742009365555607, details={'actual_k': 40, 'was_impossible': False}),\n",
       " Prediction(uid='275', iid='1', r_ui=4.0, est=3.2515392047925116, details={'actual_k': 40, 'was_impossible': False}),\n",
       " Prediction(uid='770', iid='294', r_ui=3.0, est=4.3516974063552185, details={'actual_k': 40, 'was_impossible': False}),\n",
       " Prediction(uid='221', iid='1067', r_ui=3.0, est=3.6962997746543413, details={'actual_k': 40, 'was_impossible': False}),\n",
       " Prediction(uid='162', iid='230', r_ui=2.0, est=3.6721940534397612, details={'actual_k': 33, 'was_impossible': False}),\n",
       " Prediction(uid='489', iid='897', r_ui=2.0, est=3.7, details={'actual_k': 40, 'was_impossible': False}),\n",
       " Prediction(uid='95', iid='181', r_ui=4.0, est=3.6496155376423594, details={'actual_k': 40, 'was_impossible': False}),\n",
       " Prediction(uid='273', iid='319', r_ui=4.0, est=3.6249166735910006, details={'actual_k': 18, 'was_impossible': False}),\n",
       " Prediction(uid='843', iid='627', r_ui=2.0, est=2.6500752386057473, details={'actual_k': 40, 'was_impossible': False}),\n",
       " Prediction(uid='763', iid='111', r_ui=2.0, est=3.8236282690289616, details={'actual_k': 40, 'was_impossible': False}),\n",
       " Prediction(uid='659', iid='134', r_ui=4.0, est=4.125850113145709, details={'actual_k': 40, 'was_impossible': False}),\n",
       " Prediction(uid='707', iid='770', r_ui=3.0, est=3.548926351265751, details={'actual_k': 40, 'was_impossible': False}),\n",
       " Prediction(uid='792', iid='844', r_ui=4.0, est=3.1353767342097614, details={'actual_k': 31, 'was_impossible': False}),\n",
       " Prediction(uid='134', iid='294', r_ui=4.0, est=3.508317589738033, details={'actual_k': 18, 'was_impossible': False}),\n",
       " Prediction(uid='622', iid='1203', r_ui=3.0, est=3.2213424558257846, details={'actual_k': 40, 'was_impossible': False}),\n",
       " Prediction(uid='892', iid='401', r_ui=3.0, est=3.977743758945368, details={'actual_k': 40, 'was_impossible': False}),\n",
       " Prediction(uid='822', iid='432', r_ui=3.0, est=3.19069506831486, details={'actual_k': 12, 'was_impossible': False}),\n",
       " Prediction(uid='521', iid='159', r_ui=3.0, est=3.0988464410838206, details={'actual_k': 40, 'was_impossible': False}),\n",
       " Prediction(uid='661', iid='427', r_ui=4.0, est=3.9776752575437255, details={'actual_k': 40, 'was_impossible': False}),\n",
       " Prediction(uid='542', iid='427', r_ui=5.0, est=3.7759767019673216, details={'actual_k': 40, 'was_impossible': False}),\n",
       " Prediction(uid='25', iid='177', r_ui=3.0, est=4.07617589697998, details={'actual_k': 40, 'was_impossible': False}),\n",
       " Prediction(uid='886', iid='11', r_ui=5.0, est=3.473699318843036, details={'actual_k': 40, 'was_impossible': False}),\n",
       " Prediction(uid='394', iid='795', r_ui=2.0, est=3.446705057824819, details={'actual_k': 40, 'was_impossible': False}),\n",
       " Prediction(uid='90', iid='904', r_ui=3.0, est=3.95, details={'actual_k': 40, 'was_impossible': False}),\n",
       " Prediction(uid='320', iid='292', r_ui=3.0, est=3.696074493116822, details={'actual_k': 40, 'was_impossible': False}),\n",
       " Prediction(uid='614', iid='293', r_ui=3.0, est=3.2587470716781293, details={'actual_k': 27, 'was_impossible': False}),\n",
       " Prediction(uid='372', iid='561', r_ui=5.0, est=4.346486397906752, details={'actual_k': 40, 'was_impossible': False}),\n",
       " Prediction(uid='712', iid='365', r_ui=3.0, est=3.847998642842222, details={'actual_k': 40, 'was_impossible': False}),\n",
       " Prediction(uid='170', iid='245', r_ui=5.0, est=3.745889068149622, details={'actual_k': 15, 'was_impossible': False}),\n",
       " Prediction(uid='592', iid='194', r_ui=4.0, est=3.7956588146674193, details={'actual_k': 40, 'was_impossible': False}),\n",
       " Prediction(uid='894', iid='639', r_ui=5.0, est=3.549800203666289, details={'actual_k': 40, 'was_impossible': False}),\n",
       " Prediction(uid='431', iid='286', r_ui=4.0, est=3.5432392172577716, details={'actual_k': 11, 'was_impossible': False}),\n",
       " Prediction(uid='334', iid='129', r_ui=4.0, est=3.623400772827543, details={'actual_k': 40, 'was_impossible': False}),\n",
       " Prediction(uid='670', iid='96', r_ui=5.0, est=3.8287867922745518, details={'actual_k': 34, 'was_impossible': False}),\n",
       " Prediction(uid='790', iid='1044', r_ui=4.0, est=2.9456362133839495, details={'actual_k': 40, 'was_impossible': False}),\n",
       " Prediction(uid='889', iid='128', r_ui=5.0, est=3.4248990351365927, details={'actual_k': 40, 'was_impossible': False}),\n",
       " Prediction(uid='796', iid='143', r_ui=5.0, est=3.54748714459343, details={'actual_k': 40, 'was_impossible': False}),\n",
       " Prediction(uid='543', iid='462', r_ui=4.0, est=3.6715125330892877, details={'actual_k': 40, 'was_impossible': False}),\n",
       " Prediction(uid='648', iid='586', r_ui=3.0, est=3.10058951581209, details={'actual_k': 40, 'was_impossible': False}),\n",
       " Prediction(uid='503', iid='97', r_ui=4.0, est=3.996704790926658, details={'actual_k': 40, 'was_impossible': False}),\n",
       " Prediction(uid='73', iid='382', r_ui=4.0, est=4.124771144225842, details={'actual_k': 40, 'was_impossible': False}),\n",
       " Prediction(uid='342', iid='813', r_ui=5.0, est=3.224834813940376, details={'actual_k': 40, 'was_impossible': False}),\n",
       " Prediction(uid='311', iid='131', r_ui=3.0, est=3.674628581411899, details={'actual_k': 40, 'was_impossible': False}),\n",
       " Prediction(uid='7', iid='594', r_ui=3.0, est=4.1, details={'actual_k': 40, 'was_impossible': False}),\n",
       " Prediction(uid='416', iid='64', r_ui=5.0, est=3.994873982496101, details={'actual_k': 40, 'was_impossible': False}),\n",
       " Prediction(uid='398', iid='523', r_ui=4.0, est=3.874605326565389, details={'actual_k': 40, 'was_impossible': False}),\n",
       " Prediction(uid='458', iid='190', r_ui=4.0, est=3.7959520922301437, details={'actual_k': 40, 'was_impossible': False}),\n",
       " Prediction(uid='246', iid='101', r_ui=2.0, est=2.8248933521213706, details={'actual_k': 40, 'was_impossible': False}),\n",
       " Prediction(uid='694', iid='434', r_ui=5.0, est=4.122624477518385, details={'actual_k': 40, 'was_impossible': False}),\n",
       " Prediction(uid='537', iid='942', r_ui=3.0, est=2.5244748585285874, details={'actual_k': 40, 'was_impossible': False}),\n",
       " Prediction(uid='160', iid='234', r_ui=5.0, est=4.350048231635669, details={'actual_k': 40, 'was_impossible': False}),\n",
       " Prediction(uid='160', iid='603', r_ui=4.0, est=4.200736210829845, details={'actual_k': 40, 'was_impossible': False}),\n",
       " Prediction(uid='440', iid='886', r_ui=5.0, est=4.133634119347755, details={'actual_k': 40, 'was_impossible': False}),\n",
       " Prediction(uid='716', iid='234', r_ui=5.0, est=4.049876726581625, details={'actual_k': 40, 'was_impossible': False}),\n",
       " Prediction(uid='270', iid='443', r_ui=3.0, est=4.575239634566744, details={'actual_k': 40, 'was_impossible': False}),\n",
       " Prediction(uid='389', iid='210', r_ui=2.0, est=3.9762369643463167, details={'actual_k': 40, 'was_impossible': False}),\n",
       " Prediction(uid='506', iid='746', r_ui=5.0, est=3.7254061186473204, details={'actual_k': 40, 'was_impossible': False}),\n",
       " Prediction(uid='279', iid='654', r_ui=5.0, est=2.798726754501, details={'actual_k': 40, 'was_impossible': False}),\n",
       " Prediction(uid='280', iid='282', r_ui=3.0, est=3.7260795131734974, details={'actual_k': 40, 'was_impossible': False}),\n",
       " Prediction(uid='271', iid='510', r_ui=4.0, est=3.8222810433145704, details={'actual_k': 40, 'was_impossible': False}),\n",
       " Prediction(uid='346', iid='642', r_ui=3.0, est=3.3203074685718437, details={'actual_k': 40, 'was_impossible': False}),\n",
       " Prediction(uid='199', iid='323', r_ui=3.0, est=2.9548589941758068, details={'actual_k': 28, 'was_impossible': False}),\n",
       " Prediction(uid='286', iid='95', r_ui=5.0, est=3.9013217244806753, details={'actual_k': 40, 'was_impossible': False}),\n",
       " Prediction(uid='472', iid='418', r_ui=3.0, est=4.124001027312186, details={'actual_k': 40, 'was_impossible': False}),\n",
       " Prediction(uid='92', iid='561', r_ui=3.0, est=2.9771921488610382, details={'actual_k': 40, 'was_impossible': False}),\n",
       " Prediction(uid='331', iid='1141', r_ui=3.0, est=3.5276515352345035, details={'actual_k': 40, 'was_impossible': False}),\n",
       " Prediction(uid='270', iid='156', r_ui=5.0, est=4.400568376054925, details={'actual_k': 40, 'was_impossible': False}),\n",
       " Prediction(uid='705', iid='566', r_ui=4.0, est=3.7004159241708003, details={'actual_k': 40, 'was_impossible': False}),\n",
       " Prediction(uid='782', iid='331', r_ui=3.0, est=2.498982492503207, details={'actual_k': 40, 'was_impossible': False}),\n",
       " Prediction(uid='117', iid='405', r_ui=5.0, est=4.325870466030751, details={'actual_k': 40, 'was_impossible': False}),\n",
       " Prediction(uid='843', iid='101', r_ui=3.0, est=2.6238702336463517, details={'actual_k': 40, 'was_impossible': False}),\n",
       " Prediction(uid='459', iid='1060', r_ui=1.0, est=3.399544406447897, details={'actual_k': 40, 'was_impossible': False}),\n",
       " Prediction(uid='752', iid='327', r_ui=5.0, est=3.202479762490777, details={'actual_k': 40, 'was_impossible': False}),\n",
       " Prediction(uid='710', iid='258', r_ui=2.0, est=3.87583764848897, details={'actual_k': 40, 'was_impossible': False}),\n",
       " Prediction(uid='861', iid='463', r_ui=3.0, est=4.001121605058195, details={'actual_k': 28, 'was_impossible': False}),\n",
       " Prediction(uid='276', iid='332', r_ui=4.0, est=3.024649374610215, details={'actual_k': 40, 'was_impossible': False}),\n",
       " Prediction(uid='618', iid='144', r_ui=4.0, est=3.44915355431835, details={'actual_k': 40, 'was_impossible': False}),\n",
       " Prediction(uid='151', iid='461', r_ui=4.0, est=3.9732987309229437, details={'actual_k': 40, 'was_impossible': False}),\n",
       " Prediction(uid='844', iid='1474', r_ui=4.0, est=3.57294886139354, details={'actual_k': 40, 'was_impossible': False}),\n",
       " Prediction(uid='308', iid='69', r_ui=2.0, est=3.54870296147903, details={'actual_k': 40, 'was_impossible': False}),\n",
       " Prediction(uid='548', iid='275', r_ui=3.0, est=3.848631269102389, details={'actual_k': 40, 'was_impossible': False}),\n",
       " Prediction(uid='287', iid='252', r_ui=1.0, est=4.1287628905889875, details={'actual_k': 40, 'was_impossible': False}),\n",
       " Prediction(uid='56', iid='399', r_ui=4.0, est=3.8958125391118674, details={'actual_k': 40, 'was_impossible': False}),\n",
       " Prediction(uid='109', iid='1210', r_ui=3.0, est=3.394010676420569, details={'actual_k': 40, 'was_impossible': False}),\n",
       " Prediction(uid='943', iid='217', r_ui=3.0, est=3.4501776196310234, details={'actual_k': 40, 'was_impossible': False}),\n",
       " Prediction(uid='535', iid='942', r_ui=4.0, est=3.95026417449889, details={'actual_k': 40, 'was_impossible': False}),\n",
       " Prediction(uid='536', iid='164', r_ui=4.0, est=4.148897085518855, details={'actual_k': 40, 'was_impossible': False}),\n",
       " Prediction(uid='43', iid='684', r_ui=4.0, est=4.224568036079402, details={'actual_k': 40, 'was_impossible': False}),\n",
       " Prediction(uid='497', iid='403', r_ui=3.0, est=3.699842212826497, details={'actual_k': 40, 'was_impossible': False}),\n",
       " Prediction(uid='450', iid='739', r_ui=4.0, est=3.570532293046511, details={'actual_k': 40, 'was_impossible': False}),\n",
       " Prediction(uid='13', iid='138', r_ui=1.0, est=2.875, details={'actual_k': 40, 'was_impossible': False}),\n",
       " Prediction(uid='233', iid='47', r_ui=5.0, est=4.201496522891478, details={'actual_k': 40, 'was_impossible': False}),\n",
       " Prediction(uid='104', iid='984', r_ui=1.0, est=2.5132330468882778, details={'actual_k': 40, 'was_impossible': False}),\n",
       " Prediction(uid='249', iid='478', r_ui=4.0, est=4.224422722074541, details={'actual_k': 40, 'was_impossible': False}),\n",
       " Prediction(uid='593', iid='51', r_ui=3.0, est=3.493310028737632, details={'actual_k': 40, 'was_impossible': False}),\n",
       " Prediction(uid='455', iid='258', r_ui=5.0, est=3.750340403910224, details={'actual_k': 40, 'was_impossible': False}),\n",
       " Prediction(uid='741', iid='781', r_ui=4.0, est=3.627083682224399, details={'actual_k': 40, 'was_impossible': False}),\n",
       " Prediction(uid='686', iid='1184', r_ui=1.0, est=4.728809724366255, details={'actual_k': 40, 'was_impossible': False}),\n",
       " Prediction(uid='441', iid='121', r_ui=4.0, est=3.3167824206388046, details={'actual_k': 16, 'was_impossible': False}),\n",
       " Prediction(uid='566', iid='202', r_ui=4.0, est=3.552556185684407, details={'actual_k': 40, 'was_impossible': False}),\n",
       " Prediction(uid='450', iid='388', r_ui=3.0, est=3.625, details={'actual_k': 40, 'was_impossible': False}),\n",
       " Prediction(uid='182', iid='150', r_ui=3.0, est=3.825156210184093, details={'actual_k': 23, 'was_impossible': False}),\n",
       " Prediction(uid='407', iid='747', r_ui=3.0, est=3.748364727821407, details={'actual_k': 40, 'was_impossible': False}),\n",
       " Prediction(uid='44', iid='591', r_ui=4.0, est=3.723777146485196, details={'actual_k': 40, 'was_impossible': False}),\n",
       " Prediction(uid='840', iid='423', r_ui=5.0, est=3.9986957352010766, details={'actual_k': 40, 'was_impossible': False}),\n",
       " Prediction(uid='452', iid='1109', r_ui=2.0, est=3.498920406753839, details={'actual_k': 40, 'was_impossible': False}),\n",
       " Prediction(uid='560', iid='606', r_ui=4.0, est=3.5000224332102765, details={'actual_k': 40, 'was_impossible': False}),\n",
       " Prediction(uid='506', iid='550', r_ui=4.0, est=3.6991003487736442, details={'actual_k': 40, 'was_impossible': False}),\n",
       " Prediction(uid='409', iid='1242', r_ui=2.0, est=3.925, details={'actual_k': 40, 'was_impossible': False}),\n",
       " Prediction(uid='416', iid='202', r_ui=4.0, est=3.968386483269809, details={'actual_k': 40, 'was_impossible': False}),\n",
       " Prediction(uid='907', iid='619', r_ui=2.0, est=4.723410545663497, details={'actual_k': 40, 'was_impossible': False}),\n",
       " Prediction(uid='370', iid='210', r_ui=3.0, est=3.901036461609002, details={'actual_k': 40, 'was_impossible': False}),\n",
       " Prediction(uid='881', iid='443', r_ui=5.0, est=3.595591722200151, details={'actual_k': 40, 'was_impossible': False}),\n",
       " Prediction(uid='844', iid='117', r_ui=4.0, est=3.6246101158398614, details={'actual_k': 40, 'was_impossible': False}),\n",
       " Prediction(uid='875', iid='651', r_ui=5.0, est=4.248931448235451, details={'actual_k': 40, 'was_impossible': False}),\n",
       " Prediction(uid='201', iid='1220', r_ui=2.0, est=2.7496952059383504, details={'actual_k': 40, 'was_impossible': False}),\n",
       " Prediction(uid='152', iid='549', r_ui=4.0, est=4.451001618090182, details={'actual_k': 40, 'was_impossible': False}),\n",
       " Prediction(uid='659', iid='712', r_ui=3.0, est=3.6743115286930284, details={'actual_k': 40, 'was_impossible': False}),\n",
       " Prediction(uid='930', iid='756', r_ui=3.0, est=3.098733861149136, details={'actual_k': 40, 'was_impossible': False}),\n",
       " Prediction(uid='648', iid='9', r_ui=1.0, est=3.520149879631244, details={'actual_k': 40, 'was_impossible': False}),\n",
       " Prediction(uid='108', iid='121', r_ui=3.0, est=3.6053056077849197, details={'actual_k': 23, 'was_impossible': False}),\n",
       " Prediction(uid='532', iid='367', r_ui=5.0, est=4.019451662117112, details={'actual_k': 40, 'was_impossible': False}),\n",
       " Prediction(uid='738', iid='50', r_ui=5.0, est=4.1012799955126225, details={'actual_k': 40, 'was_impossible': False}),\n",
       " Prediction(uid='537', iid='923', r_ui=3.0, est=2.2989809178311114, details={'actual_k': 40, 'was_impossible': False}),\n",
       " Prediction(uid='73', iid='202', r_ui=2.0, est=4.075961219885551, details={'actual_k': 40, 'was_impossible': False}),\n",
       " Prediction(uid='722', iid='300', r_ui=3.0, est=3.727871627226796, details={'actual_k': 29, 'was_impossible': False}),\n",
       " Prediction(uid='656', iid='327', r_ui=2.0, est=2.7860203100284657, details={'actual_k': 19, 'was_impossible': False}),\n",
       " Prediction(uid='399', iid='22', r_ui=3.0, est=3.2000026339779395, details={'actual_k': 40, 'was_impossible': False}),\n",
       " Prediction(uid='321', iid='704', r_ui=3.0, est=3.698686967224789, details={'actual_k': 40, 'was_impossible': False}),\n",
       " Prediction(uid='747', iid='11', r_ui=5.0, est=4.167869853464072, details={'actual_k': 40, 'was_impossible': False}),\n",
       " Prediction(uid='588', iid='110', r_ui=3.0, est=3.92404106954306, details={'actual_k': 40, 'was_impossible': False}),\n",
       " Prediction(uid='59', iid='606', r_ui=4.0, est=3.8730571580845417, details={'actual_k': 40, 'was_impossible': False}),\n",
       " Prediction(uid='794', iid='475', r_ui=5.0, est=4.277961206447568, details={'actual_k': 30, 'was_impossible': False}),\n",
       " Prediction(uid='626', iid='286', r_ui=5.0, est=2.2334357493896024, details={'actual_k': 20, 'was_impossible': False}),\n",
       " Prediction(uid='388', iid='690', r_ui=5.0, est=4.1704081402248185, details={'actual_k': 40, 'was_impossible': False}),\n",
       " Prediction(uid='334', iid='19', r_ui=4.0, est=3.196971520198919, details={'actual_k': 40, 'was_impossible': False}),\n",
       " Prediction(uid='248', iid='181', r_ui=4.0, est=3.651435397118937, details={'actual_k': 40, 'was_impossible': False}),\n",
       " Prediction(uid='327', iid='169', r_ui=2.0, est=3.4499204768854765, details={'actual_k': 40, 'was_impossible': False}),\n",
       " Prediction(uid='417', iid='120', r_ui=2.0, est=3.097536185860829, details={'actual_k': 40, 'was_impossible': False}),\n",
       " Prediction(uid='883', iid='195', r_ui=5.0, est=3.825716057631314, details={'actual_k': 40, 'was_impossible': False}),\n",
       " Prediction(uid='332', iid='229', r_ui=5.0, est=4.09543906775436, details={'actual_k': 40, 'was_impossible': False}),\n",
       " Prediction(uid='541', iid='843', r_ui=4.0, est=3.6440318371085687, details={'actual_k': 40, 'was_impossible': False}),\n",
       " Prediction(uid='458', iid='199', r_ui=4.0, est=3.9503976216567493, details={'actual_k': 40, 'was_impossible': False}),\n",
       " Prediction(uid='370', iid='193', r_ui=4.0, est=3.8223759859446864, details={'actual_k': 40, 'was_impossible': False}),\n",
       " Prediction(uid='788', iid='781', r_ui=3.0, est=3.2003842425784206, details={'actual_k': 40, 'was_impossible': False}),\n",
       " Prediction(uid='236', iid='71', r_ui=3.0, est=3.675557330293318, details={'actual_k': 40, 'was_impossible': False}),\n",
       " Prediction(uid='416', iid='775', r_ui=4.0, est=3.6498178220289295, details={'actual_k': 40, 'was_impossible': False}),\n",
       " Prediction(uid='189', iid='28', r_ui=4.0, est=3.9237338242114506, details={'actual_k': 40, 'was_impossible': False}),\n",
       " Prediction(uid='927', iid='155', r_ui=4.0, est=3.672480850974708, details={'actual_k': 40, 'was_impossible': False}),\n",
       " Prediction(uid='658', iid='257', r_ui=4.0, est=3.797404353461509, details={'actual_k': 40, 'was_impossible': False}),\n",
       " Prediction(uid='276', iid='540', r_ui=1.0, est=3.025341069848289, details={'actual_k': 40, 'was_impossible': False}),\n",
       " Prediction(uid='675', iid='86', r_ui=4.0, est=3.602374431169252, details={'actual_k': 23, 'was_impossible': False}),\n",
       " Prediction(uid='234', iid='842', r_ui=4.0, est=3.049454910985193, details={'actual_k': 40, 'was_impossible': False}),\n",
       " Prediction(uid='665', iid='274', r_ui=3.0, est=3.5240015917103436, details={'actual_k': 40, 'was_impossible': False}),\n",
       " Prediction(uid='201', iid='366', r_ui=2.0, est=2.699195699501363, details={'actual_k': 40, 'was_impossible': False}),\n",
       " Prediction(uid='121', iid='257', r_ui=5.0, est=3.802003211370661, details={'actual_k': 40, 'was_impossible': False}),\n",
       " Prediction(uid='409', iid='607', r_ui=5.0, est=3.5449464645181545, details={'actual_k': 40, 'was_impossible': False}),\n",
       " Prediction(uid='417', iid='628', r_ui=3.0, est=3.3213715048983365, details={'actual_k': 40, 'was_impossible': False}),\n",
       " Prediction(uid='918', iid='529', r_ui=3.0, est=3.349101666250973, details={'actual_k': 40, 'was_impossible': False}),\n",
       " Prediction(uid='85', iid='464', r_ui=5.0, est=3.373258781076594, details={'actual_k': 40, 'was_impossible': False}),\n",
       " Prediction(uid='327', iid='239', r_ui=3.0, est=3.2269215118324577, details={'actual_k': 40, 'was_impossible': False}),\n",
       " Prediction(uid='188', iid='118', r_ui=3.0, est=3.7490906623827205, details={'actual_k': 40, 'was_impossible': False}),\n",
       " Prediction(uid='506', iid='410', r_ui=2.0, est=3.7734094550360755, details={'actual_k': 40, 'was_impossible': False}),\n",
       " Prediction(uid='709', iid='762', r_ui=3.0, est=3.849645958838417, details={'actual_k': 40, 'was_impossible': False}),\n",
       " Prediction(uid='507', iid='597', r_ui=5.0, est=4.751707949257251, details={'actual_k': 40, 'was_impossible': False}),\n",
       " Prediction(uid='538', iid='191', r_ui=5.0, est=3.7755187088701634, details={'actual_k': 40, 'was_impossible': False}),\n",
       " Prediction(uid='773', iid='475', r_ui=3.0, est=3.747887445661987, details={'actual_k': 40, 'was_impossible': False}),\n",
       " Prediction(uid='763', iid='730', r_ui=5.0, est=3.7236637555109025, details={'actual_k': 40, 'was_impossible': False}),\n",
       " Prediction(uid='682', iid='1012', r_ui=4.0, est=2.748638346039818, details={'actual_k': 40, 'was_impossible': False}),\n",
       " Prediction(uid='76', iid='1155', r_ui=2.0, est=3.6577516066647124, details={'actual_k': 38, 'was_impossible': False}),\n",
       " Prediction(uid='481', iid='427', r_ui=4.0, est=4.101923375495676, details={'actual_k': 40, 'was_impossible': False}),\n",
       " Prediction(uid='184', iid='396', r_ui=3.0, est=3.873270760683951, details={'actual_k': 40, 'was_impossible': False}),\n",
       " Prediction(uid='501', iid='1011', r_ui=4.0, est=3.776665972072267, details={'actual_k': 40, 'was_impossible': False}),\n",
       " Prediction(uid='84', iid='286', r_ui=5.0, est=3.827871736982925, details={'actual_k': 40, 'was_impossible': False}),\n",
       " Prediction(uid='897', iid='82', r_ui=5.0, est=4.174876898351621, details={'actual_k': 40, 'was_impossible': False}),\n",
       " Prediction(uid='40', iid='245', r_ui=3.0, est=2.9198925983357515, details={'actual_k': 28, 'was_impossible': False}),\n",
       " Prediction(uid='690', iid='712', r_ui=4.0, est=2.997181238283646, details={'actual_k': 40, 'was_impossible': False}),\n",
       " Prediction(uid='279', iid='1182', r_ui=3.0, est=3.075, details={'actual_k': 40, 'was_impossible': False}),\n",
       " Prediction(uid='840', iid='7', r_ui=4.0, est=4.297315911338471, details={'actual_k': 40, 'was_impossible': False}),\n",
       " Prediction(uid='585', iid='166', r_ui=4.0, est=3.949599527572816, details={'actual_k': 40, 'was_impossible': False}),\n",
       " Prediction(uid='648', iid='89', r_ui=4.0, est=3.6673199373952814, details={'actual_k': 40, 'was_impossible': False}),\n",
       " Prediction(uid='102', iid='672', r_ui=1.0, est=2.56799068022174, details={'actual_k': 40, 'was_impossible': False}),\n",
       " Prediction(uid='833', iid='159', r_ui=2.0, est=2.8504023817898303, details={'actual_k': 40, 'was_impossible': False}),\n",
       " Prediction(uid='325', iid='430', r_ui=5.0, est=3.6199966816924203, details={'actual_k': 40, 'was_impossible': False}),\n",
       " Prediction(uid='787', iid='880', r_ui=3.0, est=3.37978464585807, details={'actual_k': 38, 'was_impossible': False}),\n",
       " Prediction(uid='357', iid='117', r_ui=5.0, est=4.347163309833585, details={'actual_k': 40, 'was_impossible': False}),\n",
       " Prediction(uid='21', iid='688', r_ui=1.0, est=2.3746002955741843, details={'actual_k': 40, 'was_impossible': False}),\n",
       " Prediction(uid='456', iid='57', r_ui=4.0, est=3.6965136289241247, details={'actual_k': 40, 'was_impossible': False}),\n",
       " Prediction(uid='669', iid='133', r_ui=4.0, est=3.547059261539273, details={'actual_k': 40, 'was_impossible': False}),\n",
       " Prediction(uid='189', iid='1020', r_ui=4.0, est=3.623539386335626, details={'actual_k': 40, 'was_impossible': False}),\n",
       " Prediction(uid='280', iid='38', r_ui=3.0, est=3.502462464167467, details={'actual_k': 40, 'was_impossible': False}),\n",
       " Prediction(uid='495', iid='616', r_ui=4.0, est=3.8501171636741587, details={'actual_k': 40, 'was_impossible': False}),\n",
       " Prediction(uid='6', iid='7', r_ui=2.0, est=4.024571951235166, details={'actual_k': 40, 'was_impossible': False}),\n",
       " Prediction(uid='373', iid='318', r_ui=5.0, est=3.92207106144686, details={'actual_k': 40, 'was_impossible': False}),\n",
       " Prediction(uid='463', iid='887', r_ui=5.0, est=2.6955445953810377, details={'actual_k': 40, 'was_impossible': False}),\n",
       " Prediction(uid='313', iid='168', r_ui=3.0, est=4.149532418953247, details={'actual_k': 40, 'was_impossible': False}),\n",
       " Prediction(uid='109', iid='1244', r_ui=3.0, est=3.572472082293555, details={'actual_k': 40, 'was_impossible': False}),\n",
       " Prediction(uid='788', iid='241', r_ui=5.0, est=3.2475346982447815, details={'actual_k': 40, 'was_impossible': False}),\n",
       " Prediction(uid='64', iid='154', r_ui=4.0, est=3.7248183199061606, details={'actual_k': 40, 'was_impossible': False}),\n",
       " Prediction(uid='870', iid='770', r_ui=4.0, est=3.598876076598846, details={'actual_k': 40, 'was_impossible': False}),\n",
       " Prediction(uid='345', iid='223', r_ui=5.0, est=3.973370412181961, details={'actual_k': 40, 'was_impossible': False}),\n",
       " Prediction(uid='16', iid='642', r_ui=5.0, est=4.024346452047751, details={'actual_k': 40, 'was_impossible': False}),\n",
       " Prediction(uid='276', iid='508', r_ui=5.0, est=3.220210599479723, details={'actual_k': 40, 'was_impossible': False}),\n",
       " Prediction(uid='532', iid='496', r_ui=5.0, est=4.168860780445853, details={'actual_k': 40, 'was_impossible': False}),\n",
       " Prediction(uid='327', iid='211', r_ui=3.0, est=3.5988183409833168, details={'actual_k': 40, 'was_impossible': False}),\n",
       " Prediction(uid='389', iid='136', r_ui=4.0, est=3.8490734722646907, details={'actual_k': 40, 'was_impossible': False}),\n",
       " Prediction(uid='426', iid='98', r_ui=4.0, est=3.9993231981190824, details={'actual_k': 40, 'was_impossible': False}),\n",
       " Prediction(uid='373', iid='392', r_ui=4.0, est=3.97125597453596, details={'actual_k': 40, 'was_impossible': False}),\n",
       " Prediction(uid='234', iid='1400', r_ui=3.0, est=2.8, details={'actual_k': 40, 'was_impossible': False}),\n",
       " Prediction(uid='255', iid='335', r_ui=4.0, est=2.5956077042087107, details={'actual_k': 40, 'was_impossible': False}),\n",
       " Prediction(uid='402', iid='16', r_ui=3.0, est=3.9222416395294095, details={'actual_k': 40, 'was_impossible': False}),\n",
       " Prediction(uid='279', iid='1492', r_ui=4.0, est=3.5279866666666666, details={'was_impossible': True, 'reason': 'User and/or item is unknown.'}),\n",
       " Prediction(uid='511', iid='355', r_ui=2.0, est=3.88166736210686, details={'actual_k': 19, 'was_impossible': False}),\n",
       " Prediction(uid='195', iid='1418', r_ui=4.0, est=3.8421052631578947, details={'actual_k': 38, 'was_impossible': False}),\n",
       " Prediction(uid='354', iid='81', r_ui=3.0, est=3.9267785666525614, details={'actual_k': 40, 'was_impossible': False}),\n",
       " Prediction(uid='750', iid='879', r_ui=4.0, est=3.1927333678500758, details={'actual_k': 22, 'was_impossible': False}),\n",
       " Prediction(uid='454', iid='161', r_ui=4.0, est=2.7992100278154544, details={'actual_k': 40, 'was_impossible': False}),\n",
       " Prediction(uid='269', iid='212', r_ui=4.0, est=3.318726310701291, details={'actual_k': 40, 'was_impossible': False}),\n",
       " Prediction(uid='805', iid='9', r_ui=3.0, est=3.422020817788446, details={'actual_k': 40, 'was_impossible': False}),\n",
       " Prediction(uid='908', iid='488', r_ui=4.0, est=3.7261652106859557, details={'actual_k': 40, 'was_impossible': False}),\n",
       " Prediction(uid='184', iid='255', r_ui=3.0, est=3.1483916857535634, details={'actual_k': 40, 'was_impossible': False}),\n",
       " Prediction(uid='345', iid='1048', r_ui=2.0, est=3.597646326880797, details={'actual_k': 40, 'was_impossible': False}),\n",
       " Prediction(uid='659', iid='159', r_ui=4.0, est=3.672125475554475, details={'actual_k': 40, 'was_impossible': False}),\n",
       " Prediction(uid='561', iid='217', r_ui=3.0, est=3.174465344116654, details={'actual_k': 40, 'was_impossible': False}),\n",
       " Prediction(uid='642', iid='779', r_ui=3.0, est=3.4501546257963516, details={'actual_k': 40, 'was_impossible': False}),\n",
       " Prediction(uid='379', iid='131', r_ui=5.0, est=4.192865635979252, details={'actual_k': 40, 'was_impossible': False}),\n",
       " Prediction(uid='617', iid='669', r_ui=1.0, est=2.5304112690706817, details={'actual_k': 40, 'was_impossible': False}),\n",
       " Prediction(uid='560', iid='277', r_ui=3.0, est=3.470125771339993, details={'actual_k': 40, 'was_impossible': False}),\n",
       " Prediction(uid='553', iid='132', r_ui=4.0, est=4.3493893617055, details={'actual_k': 40, 'was_impossible': False}),\n",
       " Prediction(uid='495', iid='452', r_ui=2.0, est=3.9484601624009206, details={'actual_k': 40, 'was_impossible': False}),\n",
       " Prediction(uid='339', iid='498', r_ui=4.0, est=4.449778252918142, details={'actual_k': 40, 'was_impossible': False}),\n",
       " Prediction(uid='500', iid='183', r_ui=4.0, est=3.3734621468506636, details={'actual_k': 40, 'was_impossible': False}),\n",
       " Prediction(uid='763', iid='375', r_ui=2.0, est=3.9037843812565796, details={'actual_k': 40, 'was_impossible': False}),\n",
       " Prediction(uid='212', iid='427', r_ui=4.0, est=4.001723674106947, details={'actual_k': 18, 'was_impossible': False}),\n",
       " Prediction(uid='463', iid='1606', r_ui=2.0, est=3.5279866666666666, details={'was_impossible': True, 'reason': 'User and/or item is unknown.'}),\n",
       " Prediction(uid='387', iid='434', r_ui=5.0, est=3.4484197711992004, details={'actual_k': 40, 'was_impossible': False}),\n",
       " Prediction(uid='194', iid='87', r_ui=4.0, est=3.073402446085841, details={'actual_k': 40, 'was_impossible': False}),\n",
       " Prediction(uid='279', iid='234', r_ui=2.0, est=2.9922491833123157, details={'actual_k': 40, 'was_impossible': False}),\n",
       " Prediction(uid='758', iid='656', r_ui=5.0, est=3.5500849369539247, details={'actual_k': 40, 'was_impossible': False}),\n",
       " Prediction(uid='320', iid='164', r_ui=4.0, est=3.8984968535570568, details={'actual_k': 40, 'was_impossible': False}),\n",
       " Prediction(uid='222', iid='41', r_ui=3.0, est=2.6697868422662245, details={'actual_k': 40, 'was_impossible': False}),\n",
       " Prediction(uid='16', iid='4', r_ui=5.0, est=4.423560915475185, details={'actual_k': 40, 'was_impossible': False}),\n",
       " Prediction(uid='476', iid='173', r_ui=5.0, est=3.4020791794785143, details={'actual_k': 40, 'was_impossible': False}),\n",
       " Prediction(uid='561', iid='302', r_ui=4.0, est=3.548802799494583, details={'actual_k': 40, 'was_impossible': False}),\n",
       " Prediction(uid='40', iid='242', r_ui=4.0, est=2.92562566354864, details={'actual_k': 28, 'was_impossible': False}),\n",
       " Prediction(uid='87', iid='172', r_ui=5.0, est=4.1480299596676256, details={'actual_k': 40, 'was_impossible': False}),\n",
       " Prediction(uid='235', iid='22', r_ui=4.0, est=3.949997773218635, details={'actual_k': 40, 'was_impossible': False}),\n",
       " Prediction(uid='308', iid='100', r_ui=5.0, est=3.674492133340467, details={'actual_k': 40, 'was_impossible': False}),\n",
       " Prediction(uid='606', iid='282', r_ui=4.0, est=4.022643982572518, details={'actual_k': 40, 'was_impossible': False}),\n",
       " Prediction(uid='593', iid='71', r_ui=4.0, est=3.649502293113475, details={'actual_k': 40, 'was_impossible': False}),\n",
       " Prediction(uid='896', iid='405', r_ui=2.0, est=2.945677706813689, details={'actual_k': 40, 'was_impossible': False}),\n",
       " Prediction(uid='850', iid='490', r_ui=5.0, est=4.454900198833762, details={'actual_k': 37, 'was_impossible': False}),\n",
       " Prediction(uid='268', iid='284', r_ui=3.0, est=2.721009138022432, details={'actual_k': 40, 'was_impossible': False}),\n",
       " Prediction(uid='886', iid='159', r_ui=2.0, est=3.397138868188107, details={'actual_k': 40, 'was_impossible': False}),\n",
       " Prediction(uid='796', iid='815', r_ui=4.0, est=3.1990675462560696, details={'actual_k': 40, 'was_impossible': False}),\n",
       " Prediction(uid='13', iid='370', r_ui=1.0, est=3.05, details={'actual_k': 40, 'was_impossible': False}),\n",
       " Prediction(uid='747', iid='588', r_ui=5.0, est=4.067529355647995, details={'actual_k': 40, 'was_impossible': False}),\n",
       " Prediction(uid='254', iid='219', r_ui=1.0, est=3.3206279593261625, details={'actual_k': 40, 'was_impossible': False}),\n",
       " Prediction(uid='256', iid='476', r_ui=4.0, est=4.097451923652845, details={'actual_k': 40, 'was_impossible': False}),\n",
       " Prediction(uid='471', iid='477', r_ui=5.0, est=3.142874442510831, details={'actual_k': 25, 'was_impossible': False}),\n",
       " Prediction(uid='653', iid='182', r_ui=3.0, est=2.923175999145469, details={'actual_k': 40, 'was_impossible': False}),\n",
       " Prediction(uid='279', iid='17', r_ui=4.0, est=2.975530632116762, details={'actual_k': 40, 'was_impossible': False}),\n",
       " Prediction(uid='532', iid='195', r_ui=5.0, est=4.270660158650034, details={'actual_k': 40, 'was_impossible': False}),\n",
       " Prediction(uid='69', iid='1016', r_ui=3.0, est=3.602676628196679, details={'actual_k': 40, 'was_impossible': False}),\n",
       " Prediction(uid='682', iid='824', r_ui=1.0, est=2.9433444590912115, details={'actual_k': 40, 'was_impossible': False}),\n",
       " Prediction(uid='530', iid='483', r_ui=3.0, est=3.7896752569485663, details={'actual_k': 33, 'was_impossible': False}),\n",
       " Prediction(uid='303', iid='124', r_ui=4.0, est=3.6207999851076385, details={'actual_k': 40, 'was_impossible': False}),\n",
       " Prediction(uid='251', iid='472', r_ui=3.0, est=3.774107455230057, details={'actual_k': 40, 'was_impossible': False}),\n",
       " Prediction(uid='5', iid='369', r_ui=1.0, est=2.6626706811513063, details={'actual_k': 40, 'was_impossible': False}),\n",
       " Prediction(uid='767', iid='183', r_ui=4.0, est=4.498525759549479, details={'actual_k': 28, 'was_impossible': False}),\n",
       " Prediction(uid='276', iid='409', r_ui=3.0, est=2.974390306102388, details={'actual_k': 40, 'was_impossible': False}),\n",
       " Prediction(uid='371', iid='496', r_ui=4.0, est=4.0631327612330805, details={'actual_k': 36, 'was_impossible': False}),\n",
       " Prediction(uid='446', iid='302', r_ui=4.0, est=2.8332731297887954, details={'actual_k': 28, 'was_impossible': False}),\n",
       " Prediction(uid='174', iid='368', r_ui=1.0, est=3.482675155738521, details={'actual_k': 40, 'was_impossible': False}),\n",
       " Prediction(uid='66', iid='508', r_ui=4.0, est=3.5677777101855517, details={'actual_k': 30, 'was_impossible': False}),\n",
       " Prediction(uid='221', iid='56', r_ui=5.0, est=4.124575988719853, details={'actual_k': 40, 'was_impossible': False}),\n",
       " Prediction(uid='679', iid='100', r_ui=3.0, est=3.7533244313418894, details={'actual_k': 40, 'was_impossible': False}),\n",
       " Prediction(uid='543', iid='234', r_ui=4.0, est=3.648900778775616, details={'actual_k': 40, 'was_impossible': False}),\n",
       " Prediction(uid='206', iid='882', r_ui=1.0, est=2.360210446024633, details={'actual_k': 40, 'was_impossible': False}),\n",
       " Prediction(uid='650', iid='650', r_ui=2.0, est=3.0750332084641663, details={'actual_k': 40, 'was_impossible': False}),\n",
       " Prediction(uid='871', iid='56', r_ui=5.0, est=3.5210094724990366, details={'actual_k': 40, 'was_impossible': False}),\n",
       " Prediction(uid='393', iid='1055', r_ui=4.0, est=3.35, details={'actual_k': 40, 'was_impossible': False}),\n",
       " Prediction(uid='299', iid='433', r_ui=5.0, est=3.498556984599733, details={'actual_k': 40, 'was_impossible': False}),\n",
       " Prediction(uid='237', iid='179', r_ui=4.0, est=4.166608180954654, details={'actual_k': 31, 'was_impossible': False}),\n",
       " Prediction(uid='158', iid='866', r_ui=2.0, est=3.7222119798805875, details={'actual_k': 40, 'was_impossible': False}),\n",
       " Prediction(uid='409', iid='382', r_ui=4.0, est=3.4209226126307914, details={'actual_k': 40, 'was_impossible': False}),\n",
       " Prediction(uid='896', iid='71', r_ui=5.0, est=3.196472475251666, details={'actual_k': 40, 'was_impossible': False}),\n",
       " Prediction(uid='144', iid='405', r_ui=4.0, est=3.7757937898498466, details={'actual_k': 40, 'was_impossible': False}),\n",
       " Prediction(uid='496', iid='705', r_ui=2.0, est=3.474560100043973, details={'actual_k': 40, 'was_impossible': False}),\n",
       " Prediction(uid='766', iid='648', r_ui=3.0, est=3.624521475006921, details={'actual_k': 40, 'was_impossible': False}),\n",
       " Prediction(uid='306', iid='242', r_ui=5.0, est=3.7617491585299425, details={'actual_k': 24, 'was_impossible': False}),\n",
       " Prediction(uid='846', iid='482', r_ui=5.0, est=3.621618728334285, details={'actual_k': 40, 'was_impossible': False}),\n",
       " Prediction(uid='593', iid='402', r_ui=4.0, est=3.697958656362584, details={'actual_k': 40, 'was_impossible': False}),\n",
       " Prediction(uid='111', iid='304', r_ui=4.0, est=3.8545012270477947, details={'actual_k': 14, 'was_impossible': False}),\n",
       " Prediction(uid='393', iid='141', r_ui=2.0, est=3.400698170970368, details={'actual_k': 40, 'was_impossible': False}),\n",
       " Prediction(uid='788', iid='4', r_ui=3.0, est=3.323974280623251, details={'actual_k': 40, 'was_impossible': False}),\n",
       " Prediction(uid='547', iid='316', r_ui=5.0, est=3.478316433225181, details={'actual_k': 17, 'was_impossible': False}),\n",
       " Prediction(uid='94', iid='723', r_ui=3.0, est=3.6994394127101193, details={'actual_k': 40, 'was_impossible': False}),\n",
       " Prediction(uid='751', iid='153', r_ui=4.0, est=3.695954590609228, details={'actual_k': 40, 'was_impossible': False}),\n",
       " Prediction(uid='291', iid='195', r_ui=4.0, est=4.045788020421204, details={'actual_k': 40, 'was_impossible': False}),\n",
       " Prediction(uid='401', iid='815', r_ui=3.0, est=3.2005849605817245, details={'actual_k': 40, 'was_impossible': False}),\n",
       " Prediction(uid='183', iid='94', r_ui=3.0, est=3.178071147521784, details={'actual_k': 40, 'was_impossible': False}),\n",
       " Prediction(uid='872', iid='926', r_ui=4.0, est=3.3285288828122814, details={'actual_k': 40, 'was_impossible': False}),\n",
       " Prediction(uid='457', iid='704', r_ui=4.0, est=3.8731918115772874, details={'actual_k': 40, 'was_impossible': False}),\n",
       " Prediction(uid='595', iid='986', r_ui=2.0, est=3.028159432700944, details={'actual_k': 40, 'was_impossible': False}),\n",
       " Prediction(uid='786', iid='195', r_ui=4.0, est=4.124647936195598, details={'actual_k': 40, 'was_impossible': False}),\n",
       " Prediction(uid='454', iid='66', r_ui=4.0, est=3.0721643095332585, details={'actual_k': 40, 'was_impossible': False}),\n",
       " Prediction(uid='321', iid='507', r_ui=3.0, est=3.7745751093446374, details={'actual_k': 40, 'was_impossible': False}),\n",
       " Prediction(uid='435', iid='168', r_ui=5.0, est=3.800224762514631, details={'actual_k': 40, 'was_impossible': False}),\n",
       " Prediction(uid='313', iid='403', r_ui=3.0, est=3.721931472557666, details={'actual_k': 40, 'was_impossible': False}),\n",
       " Prediction(uid='870', iid='554', r_ui=2.0, est=3.420919339829066, details={'actual_k': 40, 'was_impossible': False}),\n",
       " Prediction(uid='653', iid='1101', r_ui=2.0, est=2.798312181226747, details={'actual_k': 40, 'was_impossible': False}),\n",
       " Prediction(uid='469', iid='923', r_ui=5.0, est=4.443682350232964, details={'actual_k': 32, 'was_impossible': False}),\n",
       " Prediction(uid='94', iid='366', r_ui=3.0, est=3.430567317031566, details={'actual_k': 40, 'was_impossible': False}),\n",
       " Prediction(uid='595', iid='369', r_ui=3.0, est=3.0413778002434206, details={'actual_k': 40, 'was_impossible': False}),\n",
       " Prediction(uid='454', iid='498', r_ui=3.0, est=2.874970223224385, details={'actual_k': 40, 'was_impossible': False}),\n",
       " Prediction(uid='721', iid='258', r_ui=3.0, est=4.02088706860742, details={'actual_k': 40, 'was_impossible': False}),\n",
       " Prediction(uid='787', iid='906', r_ui=1.0, est=3.3248786512382402, details={'actual_k': 34, 'was_impossible': False}),\n",
       " Prediction(uid='50', iid='286', r_ui=2.0, est=3.554216858850799, details={'actual_k': 17, 'was_impossible': False}),\n",
       " Prediction(uid='239', iid='288', r_ui=2.0, est=3.9832822821860465, details={'actual_k': 40, 'was_impossible': False}),\n",
       " Prediction(uid='789', iid='181', r_ui=4.0, est=3.6807230405560065, details={'actual_k': 28, 'was_impossible': False}),\n",
       " Prediction(uid='560', iid='405', r_ui=4.0, est=3.6752647682327892, details={'actual_k': 40, 'was_impossible': False}),\n",
       " Prediction(uid='40', iid='268', r_ui=4.0, est=2.933594270046513, details={'actual_k': 28, 'was_impossible': False}),\n",
       " Prediction(uid='517', iid='275', r_ui=5.0, est=3.377683132293321, details={'actual_k': 30, 'was_impossible': False}),\n",
       " Prediction(uid='5', iid='135', r_ui=4.0, est=3.6494474637170127, details={'actual_k': 40, 'was_impossible': False}),\n",
       " Prediction(uid='711', iid='154', r_ui=4.0, est=4.295425476068897, details={'actual_k': 40, 'was_impossible': False}),\n",
       " Prediction(uid='279', iid='216', r_ui=3.0, est=2.894849401041962, details={'actual_k': 40, 'was_impossible': False}),\n",
       " Prediction(uid='334', iid='190', r_ui=4.0, est=3.5471891862859835, details={'actual_k': 40, 'was_impossible': False}),\n",
       " Prediction(uid='109', iid='157', r_ui=4.0, est=3.296909301588333, details={'actual_k': 40, 'was_impossible': False}),\n",
       " Prediction(uid='483', iid='195', r_ui=3.0, est=3.051577463337167, details={'actual_k': 40, 'was_impossible': False}),\n",
       " Prediction(uid='405', iid='381', r_ui=1.0, est=1.25, details={'actual_k': 40, 'was_impossible': False}),\n",
       " Prediction(uid='830', iid='403', r_ui=4.0, est=4.176235419647742, details={'actual_k': 40, 'was_impossible': False}),\n",
       " Prediction(uid='884', iid='269', r_ui=5.0, est=3.6726113988984457, details={'actual_k': 32, 'was_impossible': False}),\n",
       " Prediction(uid='233', iid='504', r_ui=5.0, est=4.224819134907688, details={'actual_k': 40, 'was_impossible': False}),\n",
       " Prediction(uid='72', iid='476', r_ui=4.0, est=4.150197661622893, details={'actual_k': 40, 'was_impossible': False}),\n",
       " Prediction(uid='561', iid='19', r_ui=3.0, est=2.7963534131903955, details={'actual_k': 40, 'was_impossible': False}),\n",
       " Prediction(uid='727', iid='941', r_ui=2.0, est=2.600285145986988, details={'actual_k': 40, 'was_impossible': False}),\n",
       " Prediction(uid='492', iid='275', r_ui=2.0, est=3.5776696786953157, details={'actual_k': 38, 'was_impossible': False}),\n",
       " Prediction(uid='267', iid='153', r_ui=5.0, est=4.146478986047166, details={'actual_k': 40, 'was_impossible': False}),\n",
       " Prediction(uid='153', iid='294', r_ui=2.0, est=2.944483740855826, details={'actual_k': 18, 'was_impossible': False}),\n",
       " Prediction(uid='41', iid='180', r_ui=5.0, est=3.6696316946817205, details={'actual_k': 39, 'was_impossible': False}),\n",
       " Prediction(uid='551', iid='230', r_ui=5.0, est=3.8215290041263, details={'actual_k': 40, 'was_impossible': False}),\n",
       " Prediction(uid='303', iid='1222', r_ui=3.0, est=2.9, details={'actual_k': 40, 'was_impossible': False}),\n",
       " Prediction(uid='632', iid='685', r_ui=2.0, est=3.9013209294652436, details={'actual_k': 40, 'was_impossible': False}),\n",
       " Prediction(uid='387', iid='547', r_ui=4.0, est=3.404516537816323, details={'actual_k': 40, 'was_impossible': False}),\n",
       " Prediction(uid='815', iid='944', r_ui=3.0, est=3.4751210717048617, details={'actual_k': 40, 'was_impossible': False}),\n",
       " Prediction(uid='691', iid='79', r_ui=5.0, est=4.209000272987162, details={'actual_k': 26, 'was_impossible': False}),\n",
       " Prediction(uid='624', iid='245', r_ui=3.0, est=3.5721692899044872, details={'actual_k': 40, 'was_impossible': False}),\n",
       " Prediction(uid='727', iid='184', r_ui=3.0, est=3.223510013454363, details={'actual_k': 40, 'was_impossible': False}),\n",
       " Prediction(uid='7', iid='357', r_ui=5.0, est=4.300473720506667, details={'actual_k': 40, 'was_impossible': False}),\n",
       " Prediction(uid='416', iid='657', r_ui=5.0, est=3.624820369198073, details={'actual_k': 40, 'was_impossible': False}),\n",
       " Prediction(uid='551', iid='67', r_ui=5.0, est=3.4970971149471652, details={'actual_k': 40, 'was_impossible': False}),\n",
       " Prediction(uid='73', iid='82', r_ui=2.0, est=3.922569375467183, details={'actual_k': 40, 'was_impossible': False}),\n",
       " Prediction(uid='551', iid='97', r_ui=5.0, est=3.9936482496592927, details={'actual_k': 40, 'was_impossible': False}),\n",
       " Prediction(uid='606', iid='549', r_ui=4.0, est=3.9472034192822956, details={'actual_k': 40, 'was_impossible': False}),\n",
       " Prediction(uid='455', iid='288', r_ui=2.0, est=3.6718758393061397, details={'actual_k': 40, 'was_impossible': False}),\n",
       " Prediction(uid='387', iid='190', r_ui=5.0, est=3.4729939027675143, details={'actual_k': 40, 'was_impossible': False}),\n",
       " Prediction(uid='449', iid='179', r_ui=4.0, est=3.9526932620212154, details={'actual_k': 40, 'was_impossible': False}),\n",
       " Prediction(uid='16', iid='447', r_ui=5.0, est=4.699985971851867, details={'actual_k': 40, 'was_impossible': False}),\n",
       " Prediction(uid='294', iid='255', r_ui=3.0, est=3.4972948882215236, details={'actual_k': 40, 'was_impossible': False}),\n",
       " Prediction(uid='277', iid='872', r_ui=3.0, est=3.603291165769554, details={'actual_k': 36, 'was_impossible': False}),\n",
       " Prediction(uid='618', iid='501', r_ui=4.0, est=3.620333874736601, details={'actual_k': 40, 'was_impossible': False}),\n",
       " Prediction(uid='835', iid='210', r_ui=5.0, est=3.999288106963029, details={'actual_k': 40, 'was_impossible': False}),\n",
       " Prediction(uid='429', iid='708', r_ui=3.0, est=3.1454331258338013, details={'actual_k': 40, 'was_impossible': False}),\n",
       " Prediction(uid='299', iid='60', r_ui=5.0, est=3.3977571162578597, details={'actual_k': 40, 'was_impossible': False}),\n",
       " Prediction(uid='280', iid='586', r_ui=4.0, est=3.698746113357543, details={'actual_k': 40, 'was_impossible': False}),\n",
       " Prediction(uid='243', iid='632', r_ui=5.0, est=3.5492484240278035, details={'actual_k': 40, 'was_impossible': False}),\n",
       " Prediction(uid='668', iid='354', r_ui=4.0, est=3.512765292210533, details={'actual_k': 36, 'was_impossible': False}),\n",
       " Prediction(uid='588', iid='62', r_ui=2.0, est=4.045484765240567, details={'actual_k': 40, 'was_impossible': False}),\n",
       " Prediction(uid='197', iid='231', r_ui=3.0, est=3.695507636417416, details={'actual_k': 40, 'was_impossible': False}),\n",
       " Prediction(uid='881', iid='9', r_ui=3.0, est=3.545515125238384, details={'actual_k': 40, 'was_impossible': False}),\n",
       " Prediction(uid='251', iid='418', r_ui=4.0, est=4.0242545753567605, details={'actual_k': 40, 'was_impossible': False}),\n",
       " Prediction(uid='168', iid='259', r_ui=2.0, est=3.5719757715669003, details={'actual_k': 40, 'was_impossible': False}),\n",
       " Prediction(uid='113', iid='508', r_ui=4.0, est=3.7030902497812215, details={'actual_k': 40, 'was_impossible': False}),\n",
       " Prediction(uid='798', iid='133', r_ui=3.0, est=3.322565722304646, details={'actual_k': 40, 'was_impossible': False}),\n",
       " Prediction(uid='757', iid='202', r_ui=4.0, est=3.775671078483691, details={'actual_k': 40, 'was_impossible': False}),\n",
       " Prediction(uid='551', iid='241', r_ui=4.0, est=3.772648688946526, details={'actual_k': 40, 'was_impossible': False}),\n",
       " Prediction(uid='181', iid='681', r_ui=1.0, est=1.3, details={'actual_k': 40, 'was_impossible': False}),\n",
       " Prediction(uid='12', iid='196', r_ui=5.0, est=4.453470016639161, details={'actual_k': 31, 'was_impossible': False}),\n",
       " Prediction(uid='201', iid='172', r_ui=5.0, est=2.9719822698963756, details={'actual_k': 40, 'was_impossible': False}),\n",
       " Prediction(uid='905', iid='313', r_ui=4.0, est=3.242746837210588, details={'actual_k': 34, 'was_impossible': False}),\n",
       " Prediction(uid='918', iid='638', r_ui=4.0, est=3.4500344701232706, details={'actual_k': 40, 'was_impossible': False}),\n",
       " Prediction(uid='168', iid='1047', r_ui=2.0, est=3.6327984118954992, details={'actual_k': 40, 'was_impossible': False}),\n",
       " Prediction(uid='80', iid='260', r_ui=1.0, est=3.8697216853635275, details={'actual_k': 23, 'was_impossible': False}),\n",
       " Prediction(uid='422', iid='436', r_ui=3.0, est=3.3757566260132608, details={'actual_k': 40, 'was_impossible': False}),\n",
       " Prediction(uid='373', iid='699', r_ui=4.0, est=3.6482903987455644, details={'actual_k': 40, 'was_impossible': False}),\n",
       " Prediction(uid='846', iid='488', r_ui=5.0, est=2.9490715062499575, details={'actual_k': 40, 'was_impossible': False}),\n",
       " Prediction(uid='638', iid='29', r_ui=2.0, est=3.7024337667799503, details={'actual_k': 40, 'was_impossible': False}),\n",
       " Prediction(uid='881', iid='524', r_ui=4.0, est=3.29627983696956, details={'actual_k': 40, 'was_impossible': False}),\n",
       " Prediction(uid='474', iid='606', r_ui=3.0, est=3.7983728844024767, details={'actual_k': 40, 'was_impossible': False}),\n",
       " Prediction(uid='804', iid='1', r_ui=5.0, est=3.823949550135497, details={'actual_k': 40, 'was_impossible': False}),\n",
       " Prediction(uid='739', iid='1429', r_ui=5.0, est=1.5, details={'actual_k': 2, 'was_impossible': False}),\n",
       " Prediction(uid='600', iid='53', r_ui=4.0, est=3.999377494017818, details={'actual_k': 40, 'was_impossible': False}),\n",
       " Prediction(uid='896', iid='76', r_ui=3.0, est=2.9474958740108055, details={'actual_k': 40, 'was_impossible': False}),\n",
       " Prediction(uid='545', iid='17', r_ui=3.0, est=3.6994865684281617, details={'actual_k': 40, 'was_impossible': False}),\n",
       " Prediction(uid='1', iid='270', r_ui=5.0, est=3.3668203041699822, details={'actual_k': 40, 'was_impossible': False}),\n",
       " Prediction(uid='109', iid='595', r_ui=3.0, est=3.270883725746622, details={'actual_k': 40, 'was_impossible': False}),\n",
       " Prediction(uid='323', iid='1012', r_ui=4.0, est=4.028017435868925, details={'actual_k': 40, 'was_impossible': False}),\n",
       " Prediction(uid='406', iid='813', r_ui=4.0, est=3.4492913943664045, details={'actual_k': 40, 'was_impossible': False}),\n",
       " Prediction(uid='269', iid='956', r_ui=3.0, est=3.3995733491046614, details={'actual_k': 40, 'was_impossible': False}),\n",
       " Prediction(uid='781', iid='174', r_ui=5.0, est=3.7183588601656443, details={'actual_k': 30, 'was_impossible': False}),\n",
       " Prediction(uid='254', iid='1', r_ui=3.0, est=3.525197074264091, details={'actual_k': 40, 'was_impossible': False}),\n",
       " Prediction(uid='188', iid='300', r_ui=4.0, est=4.000143277515687, details={'actual_k': 40, 'was_impossible': False}),\n",
       " Prediction(uid='255', iid='444', r_ui=3.0, est=2.6945805260870954, details={'actual_k': 40, 'was_impossible': False}),\n",
       " Prediction(uid='104', iid='628', r_ui=4.0, est=2.8203334829581075, details={'actual_k': 40, 'was_impossible': False}),\n",
       " Prediction(uid='97', iid='429', r_ui=4.0, est=4.053568321571978, details={'actual_k': 40, 'was_impossible': False}),\n",
       " Prediction(uid='399', iid='144', r_ui=3.0, est=2.9507872209168764, details={'actual_k': 40, 'was_impossible': False}),\n",
       " Prediction(uid='798', iid='709', r_ui=5.0, est=3.3225456460120135, details={'actual_k': 40, 'was_impossible': False}),\n",
       " Prediction(uid='560', iid='1073', r_ui=3.0, est=3.6981861729821874, details={'actual_k': 40, 'was_impossible': False}),\n",
       " Prediction(uid='145', iid='761', r_ui=4.0, est=2.6727677371695866, details={'actual_k': 40, 'was_impossible': False}),\n",
       " Prediction(uid='21', iid='9', r_ui=5.0, est=3.245288995285483, details={'actual_k': 40, 'was_impossible': False}),\n",
       " Prediction(uid='127', iid='380', r_ui=5.0, est=4.239444691464478, details={'actual_k': 14, 'was_impossible': False}),\n",
       " Prediction(uid='480', iid='615', r_ui=4.0, est=3.7497012115385564, details={'actual_k': 40, 'was_impossible': False}),\n",
       " Prediction(uid='913', iid='8', r_ui=2.0, est=3.7764627104489508, details={'actual_k': 40, 'was_impossible': False}),\n",
       " Prediction(uid='94', iid='572', r_ui=3.0, est=3.59983553638255, details={'actual_k': 40, 'was_impossible': False}),\n",
       " Prediction(uid='447', iid='474', r_ui=3.0, est=4.051621212774513, details={'actual_k': 40, 'was_impossible': False}),\n",
       " Prediction(uid='339', iid='469', r_ui=5.0, est=4.173941675624666, details={'actual_k': 40, 'was_impossible': False}),\n",
       " Prediction(uid='912', iid='168', r_ui=5.0, est=3.743468880287784, details={'actual_k': 32, 'was_impossible': False}),\n",
       " Prediction(uid='838', iid='455', r_ui=4.0, est=4.223755734247604, details={'actual_k': 40, 'was_impossible': False}),\n",
       " Prediction(uid='922', iid='200', r_ui=3.0, est=3.674683848308193, details={'actual_k': 40, 'was_impossible': False}),\n",
       " Prediction(uid='896', iid='660', r_ui=5.0, est=2.8215237091841403, details={'actual_k': 40, 'was_impossible': False}),\n",
       " Prediction(uid='186', iid='281', r_ui=4.0, est=3.6966315635038995, details={'actual_k': 40, 'was_impossible': False}),\n",
       " Prediction(uid='149', iid='268', r_ui=4.0, est=2.779152913129842, details={'actual_k': 22, 'was_impossible': False}),\n",
       " Prediction(uid='916', iid='824', r_ui=3.0, est=3.5000992270498084, details={'actual_k': 40, 'was_impossible': False}),\n",
       " Prediction(uid='529', iid='343', r_ui=3.0, est=3.7516825039765216, details={'actual_k': 28, 'was_impossible': False}),\n",
       " Prediction(uid='798', iid='560', r_ui=3.0, est=3.12464345950798, details={'actual_k': 40, 'was_impossible': False}),\n",
       " Prediction(uid='495', iid='576', r_ui=3.0, est=3.875911827577537, details={'actual_k': 40, 'was_impossible': False}),\n",
       " Prediction(uid='255', iid='879', r_ui=3.0, est=2.318687089075314, details={'actual_k': 40, 'was_impossible': False}),\n",
       " Prediction(uid='273', iid='338', r_ui=3.0, est=3.6051546230166216, details={'actual_k': 18, 'was_impossible': False}),\n",
       " Prediction(uid='665', iid='527', r_ui=3.0, est=3.7248993698294024, details={'actual_k': 40, 'was_impossible': False}),\n",
       " Prediction(uid='437', iid='91', r_ui=3.0, est=3.597076997695405, details={'actual_k': 40, 'was_impossible': False}),\n",
       " Prediction(uid='449', iid='244', r_ui=4.0, est=3.6496444409916116, details={'actual_k': 40, 'was_impossible': False}),\n",
       " Prediction(uid='93', iid='275', r_ui=4.0, est=3.234369314702997, details={'actual_k': 18, 'was_impossible': False}),\n",
       " Prediction(uid='194', iid='756', r_ui=1.0, est=2.621657244442022, details={'actual_k': 40, 'was_impossible': False}),\n",
       " Prediction(uid='815', iid='1133', r_ui=3.0, est=3.9000698241687504, details={'actual_k': 40, 'was_impossible': False}),\n",
       " Prediction(uid='178', iid='127', r_ui=5.0, est=3.749656036012354, details={'actual_k': 40, 'was_impossible': False}),\n",
       " Prediction(uid='459', iid='358', r_ui=2.0, est=3.2984234249926416, details={'actual_k': 40, 'was_impossible': False}),\n",
       " Prediction(uid='212', iid='246', r_ui=5.0, est=3.994393456424125, details={'actual_k': 18, 'was_impossible': False}),\n",
       " Prediction(uid='561', iid='133', r_ui=3.0, est=3.222440521283799, details={'actual_k': 40, 'was_impossible': False}),\n",
       " Prediction(uid='805', iid='343', r_ui=5.0, est=3.276532903345131, details={'actual_k': 40, 'was_impossible': False}),\n",
       " Prediction(uid='535', iid='519', r_ui=3.0, est=4.075247455481244, details={'actual_k': 40, 'was_impossible': False}),\n",
       " Prediction(uid='671', iid='237', r_ui=5.0, est=3.7733263940624635, details={'actual_k': 40, 'was_impossible': False}),\n",
       " Prediction(uid='556', iid='170', r_ui=4.0, est=4.319889734058221, details={'actual_k': 32, 'was_impossible': False}),\n",
       " Prediction(uid='327', iid='99', r_ui=4.0, est=3.624528216155245, details={'actual_k': 40, 'was_impossible': False}),\n",
       " Prediction(uid='774', iid='227', r_ui=5.0, est=2.19701375120587, details={'actual_k': 40, 'was_impossible': False}),\n",
       " Prediction(uid='465', iid='134', r_ui=4.0, est=3.475910903717681, details={'actual_k': 40, 'was_impossible': False}),\n",
       " Prediction(uid='286', iid='100', r_ui=3.0, est=3.773795643189187, details={'actual_k': 40, 'was_impossible': False}),\n",
       " Prediction(uid='484', iid='248', r_ui=4.0, est=4.123208891335189, details={'actual_k': 40, 'was_impossible': False}),\n",
       " Prediction(uid='222', iid='412', r_ui=1.0, est=2.5938840681667057, details={'actual_k': 40, 'was_impossible': False}),\n",
       " Prediction(uid='606', iid='1518', r_ui=4.0, est=3.6749706589966347, details={'actual_k': 40, 'was_impossible': False}),\n",
       " Prediction(uid='767', iid='222', r_ui=5.0, est=4.5025016373741, details={'actual_k': 28, 'was_impossible': False}),\n",
       " Prediction(uid='622', iid='70', r_ui=3.0, est=3.7957159487365093, details={'actual_k': 40, 'was_impossible': False}),\n",
       " Prediction(uid='829', iid='275', r_ui=4.0, est=3.729003962580969, details={'actual_k': 40, 'was_impossible': False}),\n",
       " Prediction(uid='181', iid='1067', r_ui=1.0, est=1.325, details={'actual_k': 40, 'was_impossible': False}),\n",
       " Prediction(uid='184', iid='381', r_ui=4.0, est=3.7217714018506705, details={'actual_k': 40, 'was_impossible': False}),\n",
       " Prediction(uid='374', iid='467', r_ui=4.0, est=3.196238101299757, details={'actual_k': 40, 'was_impossible': False}),\n",
       " Prediction(uid='243', iid='275', r_ui=3.0, est=3.6244352392899577, details={'actual_k': 40, 'was_impossible': False}),\n",
       " Prediction(uid='13', iid='292', r_ui=5.0, est=2.3748741513362077, details={'actual_k': 40, 'was_impossible': False}),\n",
       " Prediction(uid='901', iid='405', r_ui=4.0, est=4.351142954014688, details={'actual_k': 40, 'was_impossible': False}),\n",
       " Prediction(uid='339', iid='530', r_ui=5.0, est=4.422226587076373, details={'actual_k': 40, 'was_impossible': False}),\n",
       " Prediction(uid='392', iid='302', r_ui=5.0, est=4.2759453785042165, details={'actual_k': 40, 'was_impossible': False}),\n",
       " Prediction(uid='781', iid='232', r_ui=3.0, est=3.79052390946345, details={'actual_k': 29, 'was_impossible': False}),\n",
       " Prediction(uid='59', iid='147', r_ui=5.0, est=3.724422166265441, details={'actual_k': 40, 'was_impossible': False}),\n",
       " Prediction(uid='697', iid='282', r_ui=4.0, est=4.022901416542952, details={'actual_k': 40, 'was_impossible': False}),\n",
       " Prediction(uid='694', iid='510', r_ui=5.0, est=4.14922213643777, details={'actual_k': 40, 'was_impossible': False}),\n",
       " Prediction(uid='15', iid='685', r_ui=4.0, est=2.9531119523020517, details={'actual_k': 40, 'was_impossible': False}),\n",
       " Prediction(uid='577', iid='735', r_ui=5.0, est=3.8464842543986304, details={'actual_k': 40, 'was_impossible': False}),\n",
       " Prediction(uid='41', iid='174', r_ui=4.0, est=3.668119178991145, details={'actual_k': 39, 'was_impossible': False}),\n",
       " Prediction(uid='909', iid='300', r_ui=5.0, est=4.17800878920868, details={'actual_k': 17, 'was_impossible': False}),\n",
       " Prediction(uid='539', iid='962', r_ui=4.0, est=4.09684565630854, details={'actual_k': 40, 'was_impossible': False}),\n",
       " Prediction(uid='381', iid='276', r_ui=3.0, est=3.9221533134618083, details={'actual_k': 40, 'was_impossible': False}),\n",
       " Prediction(uid='782', iid='1417', r_ui=2.0, est=3.5279866666666666, details={'was_impossible': True, 'reason': 'User and/or item is unknown.'}),\n",
       " Prediction(uid='650', iid='389', r_ui=3.0, est=3.299067820236817, details={'actual_k': 40, 'was_impossible': False}),\n",
       " Prediction(uid='308', iid='60', r_ui=3.0, est=3.699356076346515, details={'actual_k': 40, 'was_impossible': False}),\n",
       " Prediction(uid='384', iid='271', r_ui=4.0, est=4.212494414952922, details={'actual_k': 19, 'was_impossible': False}),\n",
       " Prediction(uid='922', iid='403', r_ui=3.0, est=3.751620340059275, details={'actual_k': 40, 'was_impossible': False}),\n",
       " Prediction(uid='881', iid='175', r_ui=2.0, est=3.4659209343038566, details={'actual_k': 40, 'was_impossible': False}),\n",
       " Prediction(uid='847', iid='8', r_ui=4.0, est=3.3990426699215246, details={'actual_k': 40, 'was_impossible': False}),\n",
       " Prediction(uid='279', iid='373', r_ui=4.0, est=2.8, details={'actual_k': 40, 'was_impossible': False}),\n",
       " Prediction(uid='794', iid='187', r_ui=5.0, est=4.272523741321786, details={'actual_k': 30, 'was_impossible': False}),\n",
       " Prediction(uid='789', iid='111', r_ui=3.0, est=3.6788623564787697, details={'actual_k': 28, 'was_impossible': False}),\n",
       " Prediction(uid='500', iid='557', r_ui=3.0, est=3.25, details={'actual_k': 40, 'was_impossible': False}),\n",
       " Prediction(uid='268', iid='790', r_ui=2.0, est=2.5434085514814306, details={'actual_k': 40, 'was_impossible': False}),\n",
       " Prediction(uid='380', iid='1168', r_ui=3.0, est=3.147393747274351, details={'actual_k': 40, 'was_impossible': False}),\n",
       " Prediction(uid='927', iid='154', r_ui=3.0, est=3.824757811891433, details={'actual_k': 40, 'was_impossible': False}),\n",
       " Prediction(uid='885', iid='56', r_ui=3.0, est=3.5252671761156784, details={'actual_k': 40, 'was_impossible': False}),\n",
       " Prediction(uid='738', iid='697', r_ui=2.0, est=3.8481173658797765, details={'actual_k': 40, 'was_impossible': False}),\n",
       " Prediction(uid='838', iid='584', r_ui=4.0, est=4.101041544455717, details={'actual_k': 40, 'was_impossible': False}),\n",
       " Prediction(uid='463', iid='313', r_ui=4.0, est=2.6958513512932805, details={'actual_k': 40, 'was_impossible': False}),\n",
       " Prediction(uid='43', iid='77', r_ui=3.0, est=4.124564118365984, details={'actual_k': 40, 'was_impossible': False}),\n",
       " Prediction(uid='643', iid='181', r_ui=3.0, est=3.9500491488342986, details={'actual_k': 40, 'was_impossible': False}),\n",
       " Prediction(uid='398', iid='64', r_ui=4.0, est=4.175408814820647, details={'actual_k': 40, 'was_impossible': False}),\n",
       " Prediction(uid='319', iid='350', r_ui=3.0, est=3.7945778664127197, details={'actual_k': 14, 'was_impossible': False}),\n",
       " Prediction(uid='226', iid='179', r_ui=4.0, est=3.8764602372380823, details={'actual_k': 40, 'was_impossible': False}),\n",
       " Prediction(uid='532', iid='1', r_ui=5.0, est=4.219093348772302, details={'actual_k': 40, 'was_impossible': False}),\n",
       " Prediction(uid='727', iid='239', r_ui=4.0, est=3.0426281025131967, details={'actual_k': 40, 'was_impossible': False}),\n",
       " Prediction(uid='397', iid='1298', r_ui=3.0, est=3.973216017575338, details={'actual_k': 40, 'was_impossible': False}),\n",
       " Prediction(uid='804', iid='411', r_ui=3.0, est=3.522217388250965, details={'actual_k': 40, 'was_impossible': False}),\n",
       " Prediction(uid='175', iid='187', r_ui=4.0, est=3.774807123076334, details={'actual_k': 29, 'was_impossible': False}),\n",
       " Prediction(uid='280', iid='928', r_ui=5.0, est=3.526569203827905, details={'actual_k': 40, 'was_impossible': False}),\n",
       " Prediction(uid='934', iid='56', r_ui=5.0, est=3.6762037831942953, details={'actual_k': 40, 'was_impossible': False}),\n",
       " Prediction(uid='417', iid='747', r_ui=3.0, est=3.0464837578689545, details={'actual_k': 40, 'was_impossible': False}),\n",
       " Prediction(uid='525', iid='762', r_ui=4.0, est=3.304677055132474, details={'actual_k': 40, 'was_impossible': False}),\n",
       " Prediction(uid='877', iid='739', r_ui=4.0, est=3.6800756520454727, details={'actual_k': 40, 'was_impossible': False}),\n",
       " Prediction(uid='313', iid='443', r_ui=5.0, est=4.073081874584421, details={'actual_k': 40, 'was_impossible': False}),\n",
       " Prediction(uid='655', iid='702', r_ui=2.0, est=2.65, details={'actual_k': 40, 'was_impossible': False}),\n",
       " Prediction(uid='13', iid='866', r_ui=3.0, est=2.475, details={'actual_k': 40, 'was_impossible': False}),\n",
       " Prediction(uid='303', iid='72', r_ui=3.0, est=3.019456284369595, details={'actual_k': 40, 'was_impossible': False}),\n",
       " Prediction(uid='162', iid='179', r_ui=3.0, est=3.6674537499222812, details={'actual_k': 33, 'was_impossible': False}),\n",
       " Prediction(uid='264', iid='659', r_ui=5.0, est=4.29917133703475, details={'actual_k': 40, 'was_impossible': False}),\n",
       " Prediction(uid='332', iid='302', r_ui=5.0, est=4.09814339811002, details={'actual_k': 40, 'was_impossible': False}),\n",
       " Prediction(uid='295', iid='427', r_ui=4.0, est=4.525604131515123, details={'actual_k': 40, 'was_impossible': False}),\n",
       " Prediction(uid='938', iid='121', r_ui=5.0, est=3.5258535037481784, details={'actual_k': 40, 'was_impossible': False}),\n",
       " Prediction(uid='880', iid='720', r_ui=2.0, est=2.8753988543010283, details={'actual_k': 40, 'was_impossible': False}),\n",
       " Prediction(uid='92', iid='780', r_ui=3.0, est=3.043023038814041, details={'actual_k': 40, 'was_impossible': False}),\n",
       " Prediction(uid='874', iid='654', r_ui=5.0, est=3.6571114732170202, details={'actual_k': 25, 'was_impossible': False}),\n",
       " Prediction(uid='201', iid='631', r_ui=2.0, est=2.9232868616966305, details={'actual_k': 40, 'was_impossible': False}),\n",
       " Prediction(uid='937', iid='408', r_ui=5.0, est=3.390882840351642, details={'actual_k': 32, 'was_impossible': False}),\n",
       " Prediction(uid='279', iid='61', r_ui=4.0, est=2.7744984111203665, details={'actual_k': 40, 'was_impossible': False}),\n",
       " Prediction(uid='151', iid='474', r_ui=5.0, est=4.298205641657549, details={'actual_k': 40, 'was_impossible': False}),\n",
       " Prediction(uid='932', iid='161', r_ui=3.0, est=4.198988527983173, details={'actual_k': 40, 'was_impossible': False}),\n",
       " Prediction(uid='7', iid='131', r_ui=5.0, est=3.6972876511670516, details={'actual_k': 40, 'was_impossible': False}),\n",
       " Prediction(uid='867', iid='323', r_ui=3.0, est=4.3502734530624645, details={'actual_k': 40, 'was_impossible': False}),\n",
       " Prediction(uid='171', iid='302', r_ui=4.0, est=3.4525217292721804, details={'actual_k': 18, 'was_impossible': False}),\n",
       " Prediction(uid='235', iid='523', r_ui=5.0, est=4.17449542822298, details={'actual_k': 40, 'was_impossible': False}),\n",
       " Prediction(uid='5', iid='94', r_ui=3.0, est=2.9740167780227362, details={'actual_k': 40, 'was_impossible': False}),\n",
       " Prediction(uid='222', iid='1035', r_ui=2.0, est=2.573980862795814, details={'actual_k': 40, 'was_impossible': False}),\n",
       " Prediction(uid='497', iid='849', r_ui=2.0, est=2.9499933641112435, details={'actual_k': 40, 'was_impossible': False}),\n",
       " Prediction(uid='214', iid='39', r_ui=4.0, est=3.9727377379491715, details={'actual_k': 40, 'was_impossible': False}),\n",
       " Prediction(uid='854', iid='756', r_ui=3.0, est=2.874144367558094, details={'actual_k': 40, 'was_impossible': False}),\n",
       " Prediction(uid='213', iid='591', r_ui=4.0, est=4.150785188007965, details={'actual_k': 40, 'was_impossible': False}),\n",
       " Prediction(uid='654', iid='146', r_ui=3.0, est=3.775, details={'actual_k': 40, 'was_impossible': False}),\n",
       " Prediction(uid='805', iid='559', r_ui=3.0, est=3.325781690661416, details={'actual_k': 40, 'was_impossible': False}),\n",
       " Prediction(uid='543', iid='163', r_ui=4.0, est=3.448743400572531, details={'actual_k': 40, 'was_impossible': False}),\n",
       " Prediction(uid='426', iid='968', r_ui=3.0, est=4.025646774195418, details={'actual_k': 40, 'was_impossible': False}),\n",
       " Prediction(uid='110', iid='38', r_ui=3.0, est=3.1930617569820066, details={'actual_k': 40, 'was_impossible': False}),\n",
       " Prediction(uid='864', iid='143', r_ui=4.0, est=3.2679339942270684, details={'actual_k': 40, 'was_impossible': False}),\n",
       " Prediction(uid='214', iid='181', r_ui=3.0, est=3.924304557221552, details={'actual_k': 40, 'was_impossible': False}),\n",
       " Prediction(uid='13', iid='630', r_ui=2.0, est=2.525, details={'actual_k': 40, 'was_impossible': False}),\n",
       " Prediction(uid='664', iid='408', r_ui=5.0, est=4.025349931956075, details={'actual_k': 40, 'was_impossible': False}),\n",
       " Prediction(uid='7', iid='455', r_ui=4.0, est=3.971890600402409, details={'actual_k': 40, 'was_impossible': False}),\n",
       " Prediction(uid='361', iid='212', r_ui=5.0, est=4.102098024892216, details={'actual_k': 40, 'was_impossible': False}),\n",
       " Prediction(uid='933', iid='1228', r_ui=1.0, est=2.466853236559508, details={'actual_k': 40, 'was_impossible': False}),\n",
       " Prediction(uid='642', iid='585', r_ui=5.0, est=3.0006893950771363, details={'actual_k': 40, 'was_impossible': False}),\n",
       " Prediction(uid='88', iid='880', r_ui=3.0, est=4.157506333961256, details={'actual_k': 17, 'was_impossible': False}),\n",
       " Prediction(uid='103', iid='50', r_ui=5.0, est=3.5956889091164173, details={'actual_k': 22, 'was_impossible': False}),\n",
       " Prediction(uid='62', iid='1028', r_ui=1.0, est=2.8758951129764925, details={'actual_k': 40, 'was_impossible': False}),\n",
       " Prediction(uid='56', iid='1035', r_ui=4.0, est=3.8212939533233325, details={'actual_k': 40, 'was_impossible': False}),\n",
       " Prediction(uid='13', iid='436', r_ui=2.0, est=2.599344554249118, details={'actual_k': 40, 'was_impossible': False}),\n",
       " Prediction(uid='301', iid='515', r_ui=3.0, est=3.724133279067392, details={'actual_k': 40, 'was_impossible': False}),\n",
       " Prediction(uid='498', iid='136', r_ui=3.0, est=3.3745252230378457, details={'actual_k': 40, 'was_impossible': False}),\n",
       " Prediction(uid='345', iid='51', r_ui=5.0, est=3.5228539135013404, details={'actual_k': 40, 'was_impossible': False}),\n",
       " Prediction(uid='578', iid='1264', r_ui=3.0, est=2.8346230346872425, details={'actual_k': 18, 'was_impossible': False}),\n",
       " Prediction(uid='758', iid='1047', r_ui=3.0, est=3.6520292735275772, details={'actual_k': 40, 'was_impossible': False}),\n",
       " Prediction(uid='361', iid='333', r_ui=2.0, est=3.799030598375665, details={'actual_k': 40, 'was_impossible': False}),\n",
       " Prediction(uid='748', iid='650', r_ui=1.0, est=3.7997799038218307, details={'actual_k': 40, 'was_impossible': False}),\n",
       " Prediction(uid='436', iid='856', r_ui=4.0, est=3.5752098854954655, details={'actual_k': 40, 'was_impossible': False}),\n",
       " Prediction(uid='315', iid='327', r_ui=4.0, est=4.049155969111063, details={'actual_k': 40, 'was_impossible': False}),\n",
       " Prediction(uid='678', iid='50', r_ui=4.0, est=3.38779349471274, details={'actual_k': 18, 'was_impossible': False}),\n",
       " Prediction(uid='472', iid='472', r_ui=5.0, est=4.323956025255932, details={'actual_k': 40, 'was_impossible': False}),\n",
       " Prediction(uid='303', iid='875', r_ui=4.0, est=2.275, details={'actual_k': 40, 'was_impossible': False}),\n",
       " Prediction(uid='666', iid='742', r_ui=3.0, est=3.699797486963687, details={'actual_k': 40, 'was_impossible': False}),\n",
       " Prediction(uid='932', iid='654', r_ui=5.0, est=4.372982611252458, details={'actual_k': 40, 'was_impossible': False}),\n",
       " Prediction(uid='627', iid='461', r_ui=3.0, est=3.2471430276719824, details={'actual_k': 40, 'was_impossible': False}),\n",
       " Prediction(uid='622', iid='227', r_ui=3.0, est=3.6222901563833436, details={'actual_k': 40, 'was_impossible': False}),\n",
       " Prediction(uid='618', iid='723', r_ui=3.0, est=2.998206752783825, details={'actual_k': 40, 'was_impossible': False}),\n",
       " Prediction(uid='916', iid='399', r_ui=3.0, est=3.3248241455305547, details={'actual_k': 40, 'was_impossible': False}),\n",
       " Prediction(uid='305', iid='751', r_ui=3.0, est=3.5732517720776773, details={'actual_k': 40, 'was_impossible': False}),\n",
       " Prediction(uid='296', iid='286', r_ui=5.0, est=4.4002199807280595, details={'actual_k': 40, 'was_impossible': False}),\n",
       " Prediction(uid='618', iid='382', r_ui=2.0, est=3.2193830975062774, details={'actual_k': 40, 'was_impossible': False}),\n",
       " Prediction(uid='42', iid='173', r_ui=5.0, est=4.09852049767414, details={'actual_k': 40, 'was_impossible': False}),\n",
       " Prediction(uid='561', iid='890', r_ui=1.0, est=3.2508417901762443, details={'actual_k': 40, 'was_impossible': False}),\n",
       " Prediction(uid='14', iid='174', r_ui=5.0, est=4.151008267760234, details={'actual_k': 40, 'was_impossible': False}),\n",
       " Prediction(uid='445', iid='313', r_ui=2.0, est=1.9731721915812344, details={'actual_k': 40, 'was_impossible': False}),\n",
       " Prediction(uid='370', iid='265', r_ui=5.0, est=3.5521695145180447, details={'actual_k': 40, 'was_impossible': False}),\n",
       " Prediction(uid='379', iid='523', r_ui=4.0, est=4.073830288103011, details={'actual_k': 40, 'was_impossible': False}),\n",
       " Prediction(uid='823', iid='144', r_ui=5.0, est=3.9723388535634268, details={'actual_k': 40, 'was_impossible': False}),\n",
       " Prediction(uid='81', iid='25', r_ui=5.0, est=3.381686795629, details={'actual_k': 40, 'was_impossible': False}),\n",
       " Prediction(uid='393', iid='153', r_ui=3.0, est=3.450266087523745, details={'actual_k': 40, 'was_impossible': False}),\n",
       " Prediction(uid='160', iid='544', r_ui=4.0, est=4.104498525959522, details={'actual_k': 40, 'was_impossible': False}),\n",
       " Prediction(uid='496', iid='56', r_ui=5.0, est=3.549506979577671, details={'actual_k': 40, 'was_impossible': False}),\n",
       " Prediction(uid='923', iid='148', r_ui=4.0, est=4.169817280054576, details={'actual_k': 40, 'was_impossible': False}),\n",
       " Prediction(uid='363', iid='90', r_ui=5.0, est=3.4782794318837422, details={'actual_k': 40, 'was_impossible': False}),\n",
       " Prediction(uid='847', iid='39', r_ui=2.0, est=3.298389312583056, details={'actual_k': 40, 'was_impossible': False}),\n",
       " Prediction(uid='363', iid='87', r_ui=3.0, est=2.7710009196434915, details={'actual_k': 40, 'was_impossible': False}),\n",
       " Prediction(uid='456', iid='1107', r_ui=4.0, est=3.524860445593194, details={'actual_k': 40, 'was_impossible': False}),\n",
       " Prediction(uid='497', iid='202', r_ui=4.0, est=3.4743383482793226, details={'actual_k': 40, 'was_impossible': False}),\n",
       " Prediction(uid='943', iid='233', r_ui=5.0, est=3.47642170371463, details={'actual_k': 40, 'was_impossible': False}),\n",
       " Prediction(uid='65', iid='211', r_ui=4.0, est=4.000064808813512, details={'actual_k': 40, 'was_impossible': False}),\n",
       " Prediction(uid='524', iid='1041', r_ui=2.0, est=3.224218060542789, details={'actual_k': 40, 'was_impossible': False}),\n",
       " Prediction(uid='244', iid='1225', r_ui=2.0, est=3.3495490443109053, details={'actual_k': 40, 'was_impossible': False}),\n",
       " Prediction(uid='854', iid='423', r_ui=4.0, est=3.624738352211172, details={'actual_k': 40, 'was_impossible': False}),\n",
       " Prediction(uid='343', iid='77', r_ui=3.0, est=3.8491845431783607, details={'actual_k': 40, 'was_impossible': False}),\n",
       " Prediction(uid='313', iid='488', r_ui=5.0, est=3.8216408655584586, details={'actual_k': 40, 'was_impossible': False}),\n",
       " Prediction(uid='13', iid='540', r_ui=3.0, est=2.475, details={'actual_k': 40, 'was_impossible': False}),\n",
       " Prediction(uid='911', iid='474', r_ui=5.0, est=3.848826032442246, details={'actual_k': 40, 'was_impossible': False}),\n",
       " Prediction(uid='554', iid='209', r_ui=4.0, est=3.700785682336644, details={'actual_k': 40, 'was_impossible': False}),\n",
       " Prediction(uid='277', iid='129', r_ui=4.0, est=3.5911660596688972, details={'actual_k': 36, 'was_impossible': False}),\n",
       " Prediction(uid='908', iid='701', r_ui=4.0, est=3.7008115331078226, details={'actual_k': 40, 'was_impossible': False}),\n",
       " Prediction(uid='625', iid='519', r_ui=2.0, est=3.5257629825582377, details={'actual_k': 40, 'was_impossible': False}),\n",
       " Prediction(uid='712', iid='215', r_ui=3.0, est=4.000243309853349, details={'actual_k': 40, 'was_impossible': False}),\n",
       " Prediction(uid='181', iid='934', r_ui=3.0, est=1.225, details={'actual_k': 40, 'was_impossible': False}),\n",
       " Prediction(uid='622', iid='1231', r_ui=2.0, est=3.1510272721133004, details={'actual_k': 40, 'was_impossible': False}),\n",
       " Prediction(uid='324', iid='748', r_ui=5.0, est=4.2502908753466055, details={'actual_k': 40, 'was_impossible': False}),\n",
       " Prediction(uid='263', iid='1126', r_ui=5.0, est=4.093822733286973, details={'actual_k': 40, 'was_impossible': False}),\n",
       " Prediction(uid='639', iid='70', r_ui=3.0, est=3.1514693172174923, details={'actual_k': 40, 'was_impossible': False}),\n",
       " Prediction(uid='398', iid='159', r_ui=3.0, est=3.8712093343038934, details={'actual_k': 40, 'was_impossible': False}),\n",
       " Prediction(uid='286', iid='56', r_ui=2.0, est=4.027845239997604, details={'actual_k': 40, 'was_impossible': False}),\n",
       " Prediction(uid='486', iid='1302', r_ui=3.0, est=3.1, details={'actual_k': 40, 'was_impossible': False}),\n",
       " Prediction(uid='556', iid='187', r_ui=5.0, est=4.3452280797069855, details={'actual_k': 32, 'was_impossible': False}),\n",
       " Prediction(uid='280', iid='217', r_ui=3.0, est=3.729223848940788, details={'actual_k': 40, 'was_impossible': False}),\n",
       " Prediction(uid='807', iid='373', r_ui=4.0, est=3.799130320000983, details={'actual_k': 40, 'was_impossible': False}),\n",
       " Prediction(uid='883', iid='271', r_ui=2.0, est=3.850862571348953, details={'actual_k': 40, 'was_impossible': False}),\n",
       " Prediction(uid='62', iid='147', r_ui=3.0, est=3.2011372149074124, details={'actual_k': 40, 'was_impossible': False}),\n",
       " Prediction(uid='523', iid='1036', r_ui=4.0, est=4.580314361859272, details={'actual_k': 40, 'was_impossible': False}),\n",
       " Prediction(uid='748', iid='144', r_ui=4.0, est=3.825988513090031, details={'actual_k': 40, 'was_impossible': False}),\n",
       " Prediction(uid='927', iid='385', r_ui=4.0, est=4.1231138117498, details={'actual_k': 40, 'was_impossible': False}),\n",
       " Prediction(uid='50', iid='1008', r_ui=5.0, est=3.537774706773962, details={'actual_k': 17, 'was_impossible': False}),\n",
       " Prediction(uid='128', iid='485', r_ui=3.0, est=3.8246133537930893, details={'actual_k': 40, 'was_impossible': False}),\n",
       " Prediction(uid='299', iid='345', r_ui=4.0, est=3.324120290282335, details={'actual_k': 40, 'was_impossible': False}),\n",
       " Prediction(uid='551', iid='1419', r_ui=1.0, est=3.55, details={'actual_k': 40, 'was_impossible': False}),\n",
       " Prediction(uid='144', iid='262', r_ui=3.0, est=3.897685234271868, details={'actual_k': 40, 'was_impossible': False}),\n",
       " Prediction(uid='916', iid='483', r_ui=5.0, est=3.5994844721399204, details={'actual_k': 40, 'was_impossible': False}),\n",
       " Prediction(uid='189', iid='647', r_ui=4.0, est=3.9249608818013466, details={'actual_k': 40, 'was_impossible': False}),\n",
       " Prediction(uid='326', iid='657', r_ui=5.0, est=3.425005108172141, details={'actual_k': 40, 'was_impossible': False}),\n",
       " Prediction(uid='647', iid='1047', r_ui=4.0, est=3.8754546287621747, details={'actual_k': 40, 'was_impossible': False}),\n",
       " Prediction(uid='406', iid='1197', r_ui=3.0, est=3.55008830468919, details={'actual_k': 40, 'was_impossible': False}),\n",
       " Prediction(uid='533', iid='580', r_ui=3.0, est=3.1742753531498655, details={'actual_k': 40, 'was_impossible': False}),\n",
       " Prediction(uid='378', iid='265', r_ui=4.0, est=3.3721537867750837, details={'actual_k': 40, 'was_impossible': False}),\n",
       " Prediction(uid='693', iid='1232', r_ui=2.0, est=2.9271210050467817, details={'actual_k': 40, 'was_impossible': False}),\n",
       " Prediction(uid='327', iid='546', r_ui=2.0, est=3.5015791942227397, details={'actual_k': 40, 'was_impossible': False}),\n",
       " Prediction(uid='244', iid='258', r_ui=5.0, est=3.9223569369039284, details={'actual_k': 40, 'was_impossible': False}),\n",
       " Prediction(uid='897', iid='176', r_ui=5.0, est=4.100421534106072, details={'actual_k': 40, 'was_impossible': False}),\n",
       " Prediction(uid='269', iid='168', r_ui=4.0, est=3.6242314174305053, details={'actual_k': 40, 'was_impossible': False}),\n",
       " Prediction(uid='821', iid='495', r_ui=5.0, est=4.353275407032272, details={'actual_k': 40, 'was_impossible': False}),\n",
       " Prediction(uid='295', iid='50', r_ui=5.0, est=4.324102549488621, details={'actual_k': 40, 'was_impossible': False}),\n",
       " Prediction(uid='904', iid='66', r_ui=4.0, est=3.89025770438799, details={'actual_k': 37, 'was_impossible': False}),\n",
       " Prediction(uid='437', iid='378', r_ui=4.0, est=3.622795049950825, details={'actual_k': 40, 'was_impossible': False}),\n",
       " Prediction(uid='751', iid='742', r_ui=3.0, est=3.3744829637685534, details={'actual_k': 40, 'was_impossible': False}),\n",
       " Prediction(uid='442', iid='172', r_ui=5.0, est=3.52536255241196, details={'actual_k': 40, 'was_impossible': False}),\n",
       " Prediction(uid='542', iid='772', r_ui=4.0, est=3.4190120367506984, details={'actual_k': 40, 'was_impossible': False}),\n",
       " Prediction(uid='847', iid='567', r_ui=3.0, est=2.7291768690700065, details={'actual_k': 40, 'was_impossible': False}),\n",
       " Prediction(uid='44', iid='24', r_ui=3.0, est=3.7991878491952527, details={'actual_k': 40, 'was_impossible': False}),\n",
       " Prediction(uid='425', iid='27', r_ui=3.0, est=2.7991351465060217, details={'actual_k': 40, 'was_impossible': False}),\n",
       " Prediction(uid='668', iid='333', r_ui=3.0, est=3.5059689372051333, details={'actual_k': 36, 'was_impossible': False}),\n",
       " Prediction(uid='581', iid='222', r_ui=3.0, est=3.9505589320663237, details={'actual_k': 20, 'was_impossible': False}),\n",
       " Prediction(uid='666', iid='651', r_ui=5.0, est=3.849798717819351, details={'actual_k': 40, 'was_impossible': False}),\n",
       " Prediction(uid='593', iid='742', r_ui=4.0, est=3.82407096966054, details={'actual_k': 40, 'was_impossible': False}),\n",
       " Prediction(uid='423', iid='1134', r_ui=4.0, est=3.660353433553939, details={'actual_k': 40, 'was_impossible': False}),\n",
       " Prediction(uid='790', iid='72', r_ui=2.0, est=2.922700680811602, details={'actual_k': 40, 'was_impossible': False}),\n",
       " Prediction(uid='896', iid='58', r_ui=3.0, est=3.1455440731937325, details={'actual_k': 40, 'was_impossible': False}),\n",
       " Prediction(uid='288', iid='528', r_ui=4.0, est=3.8473853617911424, details={'actual_k': 40, 'was_impossible': False}),\n",
       " Prediction(uid='14', iid='81', r_ui=5.0, est=4.146964316271125, details={'actual_k': 40, 'was_impossible': False}),\n",
       " Prediction(uid='454', iid='493', r_ui=2.0, est=2.799975177800182, details={'actual_k': 40, 'was_impossible': False}),\n",
       " Prediction(uid='605', iid='252', r_ui=4.0, est=3.8521971130844816, details={'actual_k': 40, 'was_impossible': False}),\n",
       " Prediction(uid='468', iid='612', r_ui=4.0, est=3.897829693059612, details={'actual_k': 40, 'was_impossible': False}),\n",
       " Prediction(uid='805', iid='99', r_ui=2.0, est=3.6746200056797487, details={'actual_k': 40, 'was_impossible': False}),\n",
       " Prediction(uid='512', iid='183', r_ui=5.0, est=4.245150375598059, details={'actual_k': 17, 'was_impossible': False}),\n",
       " Prediction(uid='33', iid='245', r_ui=3.0, est=3.7071618785774247, details={'actual_k': 17, 'was_impossible': False}),\n",
       " Prediction(uid='401', iid='151', r_ui=1.0, est=3.5749179330271517, details={'actual_k': 40, 'was_impossible': False}),\n",
       " Prediction(uid='818', iid='271', r_ui=4.0, est=3.5275865274504086, details={'actual_k': 15, 'was_impossible': False}),\n",
       " Prediction(uid='550', iid='300', r_ui=4.0, est=3.3104737937662723, details={'actual_k': 26, 'was_impossible': False}),\n",
       " Prediction(uid='270', iid='123', r_ui=5.0, est=4.395607928213477, details={'actual_k': 40, 'was_impossible': False}),\n",
       " Prediction(uid='644', iid='117', r_ui=4.0, est=4.100649475272147, details={'actual_k': 30, 'was_impossible': False}),\n",
       " Prediction(uid='453', iid='515', r_ui=4.0, est=3.544763865233498, details={'actual_k': 40, 'was_impossible': False}),\n",
       " Prediction(uid='210', iid='180', r_ui=4.0, est=4.175583036463767, details={'actual_k': 40, 'was_impossible': False}),\n",
       " Prediction(uid='247', iid='70', r_ui=5.0, est=3.8932666024628197, details={'actual_k': 17, 'was_impossible': False}),\n",
       " Prediction(uid='500', iid='699', r_ui=3.0, est=3.4747900407148165, details={'actual_k': 40, 'was_impossible': False}),\n",
       " Prediction(uid='909', iid='261', r_ui=5.0, est=4.1288910249787545, details={'actual_k': 16, 'was_impossible': False}),\n",
       " Prediction(uid='595', iid='460', r_ui=4.0, est=3.620681933228555, details={'actual_k': 40, 'was_impossible': False}),\n",
       " Prediction(uid='804', iid='1285', r_ui=2.0, est=3.425, details={'actual_k': 40, 'was_impossible': False}),\n",
       " Prediction(uid='899', iid='403', r_ui=3.0, est=3.8029377219785108, details={'actual_k': 40, 'was_impossible': False}),\n",
       " Prediction(uid='368', iid='670', r_ui=3.0, est=3.2210955611336, details={'actual_k': 32, 'was_impossible': False}),\n",
       " Prediction(uid='201', iid='226', r_ui=3.0, est=3.076543377570166, details={'actual_k': 40, 'was_impossible': False}),\n",
       " Prediction(uid='606', iid='64', r_ui=5.0, est=3.9975358813521065, details={'actual_k': 40, 'was_impossible': False}),\n",
       " Prediction(uid='246', iid='121', r_ui=4.0, est=2.5973710042229294, details={'actual_k': 40, 'was_impossible': False}),\n",
       " Prediction(uid='145', iid='298', r_ui=1.0, est=3.119237461116429, details={'actual_k': 40, 'was_impossible': False}),\n",
       " Prediction(uid='751', iid='746', r_ui=4.0, est=3.6257903987226623, details={'actual_k': 40, 'was_impossible': False}),\n",
       " Prediction(uid='280', iid='99', r_ui=2.0, est=3.7015827018723155, details={'actual_k': 40, 'was_impossible': False}),\n",
       " Prediction(uid='393', iid='1185', r_ui=3.0, est=3.325, details={'actual_k': 40, 'was_impossible': False}),\n",
       " Prediction(uid='861', iid='737', r_ui=3.0, est=4.011122042109093, details={'actual_k': 28, 'was_impossible': False}),\n",
       " Prediction(uid='593', iid='553', r_ui=2.0, est=3.495583859426324, details={'actual_k': 40, 'was_impossible': False}),\n",
       " Prediction(uid='487', iid='823', r_ui=1.0, est=3.8000272291464996, details={'actual_k': 40, 'was_impossible': False}),\n",
       " Prediction(uid='697', iid='596', r_ui=4.0, est=3.7799965454377418, details={'actual_k': 40, 'was_impossible': False}),\n",
       " Prediction(uid='405', iid='1470', r_ui=2.0, est=2.225, details={'actual_k': 40, 'was_impossible': False}),\n",
       " Prediction(uid='151', iid='49', r_ui=3.0, est=4.197798176676655, details={'actual_k': 40, 'was_impossible': False}),\n",
       " Prediction(uid='387', iid='972', r_ui=2.0, est=3.474679954936728, details={'actual_k': 40, 'was_impossible': False}),\n",
       " Prediction(uid='889', iid='199', r_ui=5.0, est=3.297432024845269, details={'actual_k': 40, 'was_impossible': False}),\n",
       " Prediction(uid='106', iid='956', r_ui=3.0, est=3.873172644884685, details={'actual_k': 40, 'was_impossible': False}),\n",
       " Prediction(uid='495', iid='413', r_ui=5.0, est=4.12377860480974, details={'actual_k': 40, 'was_impossible': False}),\n",
       " Prediction(uid='896', iid='184', r_ui=3.0, est=2.971813778793501, details={'actual_k': 40, 'was_impossible': False}),\n",
       " Prediction(uid='314', iid='1218', r_ui=4.0, est=3.97374671516261, details={'actual_k': 40, 'was_impossible': False}),\n",
       " Prediction(uid='303', iid='1110', r_ui=1.0, est=2.8997809828485313, details={'actual_k': 40, 'was_impossible': False}),\n",
       " Prediction(uid='551', iid='118', r_ui=5.0, est=3.5936530662158357, details={'actual_k': 40, 'was_impossible': False}),\n",
       " Prediction(uid='495', iid='768', r_ui=3.0, est=3.922634705452259, details={'actual_k': 40, 'was_impossible': False}),\n",
       " Prediction(uid='624', iid='405', r_ui=4.0, est=3.8247000413341548, details={'actual_k': 40, 'was_impossible': False}),\n",
       " Prediction(uid='474', iid='275', r_ui=3.0, est=3.9736634280244094, details={'actual_k': 40, 'was_impossible': False}),\n",
       " Prediction(uid='417', iid='325', r_ui=2.0, est=2.9980581094112706, details={'actual_k': 40, 'was_impossible': False}),\n",
       " Prediction(uid='654', iid='736', r_ui=5.0, est=3.7516351108899, details={'actual_k': 40, 'was_impossible': False}),\n",
       " Prediction(uid='336', iid='451', r_ui=2.0, est=3.2225460816784435, details={'actual_k': 40, 'was_impossible': False}),\n",
       " Prediction(uid='417', iid='5', r_ui=4.0, est=3.2455269080167124, details={'actual_k': 40, 'was_impossible': False}),\n",
       " Prediction(uid='399', iid='418', r_ui=3.0, est=2.9496536638962167, details={'actual_k': 40, 'was_impossible': False}),\n",
       " Prediction(uid='699', iid='304', r_ui=4.0, est=3.1745029664049857, details={'actual_k': 40, 'was_impossible': False}),\n",
       " Prediction(uid='26', iid='283', r_ui=3.0, est=3.2504925147412753, details={'actual_k': 40, 'was_impossible': False}),\n",
       " Prediction(uid='941', iid='358', r_ui=2.0, est=4.365041886722779, details={'actual_k': 14, 'was_impossible': False}),\n",
       " Prediction(uid='653', iid='101', r_ui=3.0, est=2.7745825657597325, details={'actual_k': 40, 'was_impossible': False}),\n",
       " Prediction(uid='608', iid='136', r_ui=3.0, est=3.825341304151815, details={'actual_k': 40, 'was_impossible': False}),\n",
       " Prediction(uid='710', iid='346', r_ui=4.0, est=3.826620714550039, details={'actual_k': 40, 'was_impossible': False}),\n",
       " Prediction(uid='390', iid='328', r_ui=4.0, est=3.830408983238243, details={'actual_k': 23, 'was_impossible': False}),\n",
       " Prediction(uid='316', iid='735', r_ui=4.0, est=3.9261845216065643, details={'actual_k': 40, 'was_impossible': False}),\n",
       " Prediction(uid='796', iid='182', r_ui=4.0, est=3.499992634920175, details={'actual_k': 40, 'was_impossible': False}),\n",
       " Prediction(uid='327', iid='678', r_ui=3.0, est=3.3268608118787912, details={'actual_k': 40, 'was_impossible': False}),\n",
       " Prediction(uid='197', iid='11', r_ui=1.0, est=3.825552174585011, details={'actual_k': 40, 'was_impossible': False}),\n",
       " Prediction(uid='275', iid='679', r_ui=3.0, est=3.1754661520168335, details={'actual_k': 40, 'was_impossible': False}),\n",
       " Prediction(uid='102', iid='778', r_ui=3.0, est=2.674169816267397, details={'actual_k': 40, 'was_impossible': False}),\n",
       " Prediction(uid='715', iid='53', r_ui=1.0, est=3.54623876345051, details={'actual_k': 40, 'was_impossible': False}),\n",
       " Prediction(uid='334', iid='483', r_ui=5.0, est=3.8236983552310186, details={'actual_k': 40, 'was_impossible': False}),\n",
       " Prediction(uid='62', iid='196', r_ui=4.0, est=3.4746580639126226, details={'actual_k': 40, 'was_impossible': False}),\n",
       " Prediction(uid='601', iid='699', r_ui=3.0, est=3.298270899207589, details={'actual_k': 40, 'was_impossible': False}),\n",
       " Prediction(uid='145', iid='595', r_ui=3.0, est=2.7253160305389383, details={'actual_k': 40, 'was_impossible': False}),\n",
       " Prediction(uid='250', iid='596', r_ui=5.0, est=4.024960560154663, details={'actual_k': 40, 'was_impossible': False}),\n",
       " ...]"
      ]
     },
     "execution_count": 50,
     "metadata": {},
     "output_type": "execute_result"
    }
   ],
   "source": [
    "predictions = knn.test(test_df)\n",
    "predictions"
   ]
  },
  {
   "cell_type": "markdown",
   "metadata": {},
   "source": [
    "Информация о каждой паре будет содержать следующие характеристики:\n",
    "\n",
    "uid — id пользователя;\n",
    "iid — id элемента;\n",
    "r_ui (float) — реальный рейтинг, который этот пользователь поставил этому элементу;\n",
    "est (float) — предсказанный рейтинг."
   ]
  },
  {
   "cell_type": "markdown",
   "metadata": {},
   "source": [
    "Задание 3.5\n",
    "\n",
    "1. Каков реальный рейтинг, выставленный пользователем с ID 500 для фильма с ID 699?\n"
   ]
  },
  {
   "cell_type": "code",
   "execution_count": 72,
   "metadata": {},
   "outputs": [
    {
     "data": {
      "text/html": [
       "<div>\n",
       "<style scoped>\n",
       "    .dataframe tbody tr th:only-of-type {\n",
       "        vertical-align: middle;\n",
       "    }\n",
       "\n",
       "    .dataframe tbody tr th {\n",
       "        vertical-align: top;\n",
       "    }\n",
       "\n",
       "    .dataframe thead th {\n",
       "        text-align: right;\n",
       "    }\n",
       "</style>\n",
       "<table border=\"1\" class=\"dataframe\">\n",
       "  <thead>\n",
       "    <tr style=\"text-align: right;\">\n",
       "      <th></th>\n",
       "      <th>uid</th>\n",
       "      <th>iid</th>\n",
       "      <th>r_ui</th>\n",
       "      <th>est</th>\n",
       "      <th>details</th>\n",
       "    </tr>\n",
       "  </thead>\n",
       "  <tbody>\n",
       "    <tr>\n",
       "      <th>946</th>\n",
       "      <td>500</td>\n",
       "      <td>699</td>\n",
       "      <td>3.0</td>\n",
       "      <td>3.47479</td>\n",
       "      <td>{'actual_k': 40, 'was_impossible': False}</td>\n",
       "    </tr>\n",
       "  </tbody>\n",
       "</table>\n",
       "</div>"
      ],
      "text/plain": [
       "     uid  iid  r_ui      est                                    details\n",
       "946  500  699   3.0  3.47479  {'actual_k': 40, 'was_impossible': False}"
      ]
     },
     "execution_count": 72,
     "metadata": {},
     "output_type": "execute_result"
    }
   ],
   "source": [
    "predictions_df = pd.DataFrame(predictions)\n",
    "predictions_df[(predictions_df.uid == '500')&(predictions_df.iid == '699')]"
   ]
  },
  {
   "cell_type": "markdown",
   "metadata": {},
   "source": [
    "Теперь необходимо вычислить RMSE для получившихся предсказаний:\n",
    "\n"
   ]
  },
  {
   "cell_type": "code",
   "execution_count": 73,
   "metadata": {},
   "outputs": [
    {
     "name": "stdout",
     "output_type": "stream",
     "text": [
      "RMSE: 1.0272\n"
     ]
    },
    {
     "data": {
      "text/plain": [
       "1.0271678039029761"
      ]
     },
     "execution_count": 73,
     "metadata": {},
     "output_type": "execute_result"
    }
   ],
   "source": [
    "accuracy.rmse(predictions)\n"
   ]
  },
  {
   "cell_type": "markdown",
   "metadata": {},
   "source": [
    "Если округлить результат до сотых, получаем .\n",
    "\n",
    "Итак, мы построили систему рекомендаций и даже оценили её качество. Но как же вывести рекомендации для конкретного пользователя?\n",
    "Для начала давайте оформим наши предсказания в таблицу и отсортируем их по прогнозируемому рейтингу:"
   ]
  },
  {
   "cell_type": "code",
   "execution_count": 75,
   "metadata": {},
   "outputs": [
    {
     "data": {
      "text/html": [
       "<div>\n",
       "<style scoped>\n",
       "    .dataframe tbody tr th:only-of-type {\n",
       "        vertical-align: middle;\n",
       "    }\n",
       "\n",
       "    .dataframe tbody tr th {\n",
       "        vertical-align: top;\n",
       "    }\n",
       "\n",
       "    .dataframe thead th {\n",
       "        text-align: right;\n",
       "    }\n",
       "</style>\n",
       "<table border=\"1\" class=\"dataframe\">\n",
       "  <thead>\n",
       "    <tr style=\"text-align: right;\">\n",
       "      <th></th>\n",
       "      <th>uid</th>\n",
       "      <th>iid</th>\n",
       "      <th>r_ui</th>\n",
       "      <th>est</th>\n",
       "      <th>details</th>\n",
       "    </tr>\n",
       "  </thead>\n",
       "  <tbody>\n",
       "    <tr>\n",
       "      <th>22469</th>\n",
       "      <td>849</td>\n",
       "      <td>234</td>\n",
       "      <td>5.0</td>\n",
       "      <td>4.951929</td>\n",
       "      <td>{'actual_k': 19, 'was_impossible': False}</td>\n",
       "    </tr>\n",
       "    <tr>\n",
       "      <th>1974</th>\n",
       "      <td>849</td>\n",
       "      <td>427</td>\n",
       "      <td>4.0</td>\n",
       "      <td>4.950547</td>\n",
       "      <td>{'actual_k': 19, 'was_impossible': False}</td>\n",
       "    </tr>\n",
       "    <tr>\n",
       "      <th>8272</th>\n",
       "      <td>849</td>\n",
       "      <td>568</td>\n",
       "      <td>4.0</td>\n",
       "      <td>4.949215</td>\n",
       "      <td>{'actual_k': 19, 'was_impossible': False}</td>\n",
       "    </tr>\n",
       "    <tr>\n",
       "      <th>5138</th>\n",
       "      <td>849</td>\n",
       "      <td>174</td>\n",
       "      <td>5.0</td>\n",
       "      <td>4.947691</td>\n",
       "      <td>{'actual_k': 19, 'was_impossible': False}</td>\n",
       "    </tr>\n",
       "    <tr>\n",
       "      <th>22021</th>\n",
       "      <td>688</td>\n",
       "      <td>1127</td>\n",
       "      <td>5.0</td>\n",
       "      <td>4.928412</td>\n",
       "      <td>{'actual_k': 15, 'was_impossible': False}</td>\n",
       "    </tr>\n",
       "    <tr>\n",
       "      <th>...</th>\n",
       "      <td>...</td>\n",
       "      <td>...</td>\n",
       "      <td>...</td>\n",
       "      <td>...</td>\n",
       "      <td>...</td>\n",
       "    </tr>\n",
       "    <tr>\n",
       "      <th>15746</th>\n",
       "      <td>405</td>\n",
       "      <td>194</td>\n",
       "      <td>1.0</td>\n",
       "      <td>1.000000</td>\n",
       "      <td>{'actual_k': 40, 'was_impossible': False}</td>\n",
       "    </tr>\n",
       "    <tr>\n",
       "      <th>21245</th>\n",
       "      <td>405</td>\n",
       "      <td>197</td>\n",
       "      <td>4.0</td>\n",
       "      <td>1.000000</td>\n",
       "      <td>{'actual_k': 40, 'was_impossible': False}</td>\n",
       "    </tr>\n",
       "    <tr>\n",
       "      <th>13891</th>\n",
       "      <td>405</td>\n",
       "      <td>511</td>\n",
       "      <td>2.0</td>\n",
       "      <td>1.000000</td>\n",
       "      <td>{'actual_k': 40, 'was_impossible': False}</td>\n",
       "    </tr>\n",
       "    <tr>\n",
       "      <th>21639</th>\n",
       "      <td>181</td>\n",
       "      <td>151</td>\n",
       "      <td>2.0</td>\n",
       "      <td>1.000000</td>\n",
       "      <td>{'actual_k': 40, 'was_impossible': False}</td>\n",
       "    </tr>\n",
       "    <tr>\n",
       "      <th>22838</th>\n",
       "      <td>405</td>\n",
       "      <td>2</td>\n",
       "      <td>1.0</td>\n",
       "      <td>1.000000</td>\n",
       "      <td>{'actual_k': 40, 'was_impossible': False}</td>\n",
       "    </tr>\n",
       "  </tbody>\n",
       "</table>\n",
       "<p>25000 rows × 5 columns</p>\n",
       "</div>"
      ],
      "text/plain": [
       "       uid   iid  r_ui       est                                    details\n",
       "22469  849   234   5.0  4.951929  {'actual_k': 19, 'was_impossible': False}\n",
       "1974   849   427   4.0  4.950547  {'actual_k': 19, 'was_impossible': False}\n",
       "8272   849   568   4.0  4.949215  {'actual_k': 19, 'was_impossible': False}\n",
       "5138   849   174   5.0  4.947691  {'actual_k': 19, 'was_impossible': False}\n",
       "22021  688  1127   5.0  4.928412  {'actual_k': 15, 'was_impossible': False}\n",
       "...    ...   ...   ...       ...                                        ...\n",
       "15746  405   194   1.0  1.000000  {'actual_k': 40, 'was_impossible': False}\n",
       "21245  405   197   4.0  1.000000  {'actual_k': 40, 'was_impossible': False}\n",
       "13891  405   511   2.0  1.000000  {'actual_k': 40, 'was_impossible': False}\n",
       "21639  181   151   2.0  1.000000  {'actual_k': 40, 'was_impossible': False}\n",
       "22838  405     2   1.0  1.000000  {'actual_k': 40, 'was_impossible': False}\n",
       "\n",
       "[25000 rows x 5 columns]"
      ]
     },
     "execution_count": 75,
     "metadata": {},
     "output_type": "execute_result"
    }
   ],
   "source": [
    "pred = pd.DataFrame(predictions)\n",
    "pred.sort_values(by=['est'],inplace=True,ascending = False)\n",
    "pred"
   ]
  },
  {
   "cell_type": "markdown",
   "metadata": {},
   "source": [
    "Теперь мы можем вывести рекомендуемые для конкретного пользователя фильмы, начиная от наиболее релевантного (с точки зрения рекомендаций) и заканчивая наименее релевантным.\n",
    "\n"
   ]
  },
  {
   "cell_type": "code",
   "execution_count": 79,
   "metadata": {},
   "outputs": [
    {
     "data": {
      "text/plain": [
       "['234', '427', '568', '174']"
      ]
     },
     "execution_count": 79,
     "metadata": {},
     "output_type": "execute_result"
    }
   ],
   "source": [
    "recom = pred[pred.uid =='849']['iid'].to_list()\n",
    "recom"
   ]
  },
  {
   "cell_type": "markdown",
   "metadata": {},
   "source": [
    "Задание 3.6\n",
    "\n",
    "Реализуйте user-based-алгоритм. Какое значение RMSE получилось для коллаборативной фильтрации типа user-based? Ответ округлите до двух знаков после точки-разделителя."
   ]
  },
  {
   "cell_type": "code",
   "execution_count": 80,
   "metadata": {},
   "outputs": [
    {
     "name": "stdout",
     "output_type": "stream",
     "text": [
      "Computing the cosine similarity matrix...\n",
      "Done computing similarity matrix.\n",
      "RMSE: 1.0175\n"
     ]
    },
    {
     "data": {
      "text/plain": [
       "1.0174852296380237"
      ]
     },
     "execution_count": 80,
     "metadata": {},
     "output_type": "execute_result"
    }
   ],
   "source": [
    "sim_options = {\n",
    "    'name': 'cosine',\n",
    "    'user_based': True\n",
    "}\n",
    " \n",
    "knn2 = KNNBasic(sim_options=sim_options)\n",
    "knn2.fit(train_df)\n",
    "predictions2 = knn2.test(test_df)\n",
    "accuracy.rmse(predictions2)"
   ]
  },
  {
   "cell_type": "markdown",
   "metadata": {},
   "source": [
    "Задание 3.7\n",
    "\n",
    "Теперь давайте сравним полученные результаты с результатами SVD-алгоритма. Реализуйте SVD с параметрами по умолчанию.\n",
    "\n",
    "Какое значение RMSE получилось для SVD? Ответ округлите до двух знаков после точки-разделителя."
   ]
  },
  {
   "cell_type": "code",
   "execution_count": 82,
   "metadata": {},
   "outputs": [
    {
     "name": "stdout",
     "output_type": "stream",
     "text": [
      "RMSE: 0.9416\n"
     ]
    },
    {
     "data": {
      "text/plain": [
       "0.9415733431844185"
      ]
     },
     "execution_count": 82,
     "metadata": {},
     "output_type": "execute_result"
    }
   ],
   "source": [
    "svd = SVD()\n",
    "svd.fit(train_df)\n",
    "predictions3 = svd.test(test_df)\n",
    "accuracy.rmse(predictions3)"
   ]
  },
  {
   "cell_type": "markdown",
   "metadata": {},
   "source": [
    "Гибридная РС — это особый тип рекомендательной системы, который представляет собой комбинацию из нескольких методов. Обычно это комбинация контентного подхода и коллаборативной фильтрации. Такое сочетание может помочь преодолеть недостатки, с которыми мы сталкиваемся при использовании этих методов по отдельности, а также в некоторых случаях может быть более эффективным.\n",
    "\n",
    "Гибридные подходы к рекомендательным системам можно реализовать по-разному, например используя комбинацию из рекомендаций, полученных обеими системами, или используя взвешенную сумму предсказанных рейтингов."
   ]
  },
  {
   "cell_type": "markdown",
   "metadata": {},
   "source": [
    "Давайте на практике рассмотрим, как создать рекомендательную систему с помощью гибридного подхода.\n",
    "\n",
    "Разумеется, можно комбинировать различные подходы самостоятельно, однако для удобства уже реализован модуль LightFM — установим библиотеку через следующую команду:"
   ]
  },
  {
   "cell_type": "code",
   "execution_count": 83,
   "metadata": {},
   "outputs": [
    {
     "name": "stdout",
     "output_type": "stream",
     "text": [
      "Collecting lightfm\n",
      "  Downloading lightfm-1.17.tar.gz (316 kB)\n",
      "\u001b[2K     \u001b[90m━━━━━━━━━━━━━━━━━━━━━━━━━━━━━━━━━━━━━━━\u001b[0m \u001b[32m316.4/316.4 kB\u001b[0m \u001b[31m7.2 MB/s\u001b[0m eta \u001b[36m0:00:00\u001b[0ma \u001b[36m0:00:01\u001b[0m\n",
      "\u001b[?25h  Preparing metadata (setup.py) ... \u001b[?25ldone\n",
      "\u001b[?25hRequirement already satisfied: numpy in /Users/egor/anaconda3/lib/python3.11/site-packages (from lightfm) (1.25.1)\n",
      "Requirement already satisfied: scipy>=0.17.0 in /Users/egor/anaconda3/lib/python3.11/site-packages (from lightfm) (1.11.1)\n",
      "Requirement already satisfied: requests in /Users/egor/anaconda3/lib/python3.11/site-packages (from lightfm) (2.29.0)\n",
      "Requirement already satisfied: scikit-learn in /Users/egor/anaconda3/lib/python3.11/site-packages (from lightfm) (1.3.0)\n",
      "Requirement already satisfied: charset-normalizer<4,>=2 in /Users/egor/anaconda3/lib/python3.11/site-packages (from requests->lightfm) (2.0.4)\n",
      "Requirement already satisfied: idna<4,>=2.5 in /Users/egor/anaconda3/lib/python3.11/site-packages (from requests->lightfm) (3.4)\n",
      "Requirement already satisfied: urllib3<1.27,>=1.21.1 in /Users/egor/anaconda3/lib/python3.11/site-packages (from requests->lightfm) (1.26.16)\n",
      "Requirement already satisfied: certifi>=2017.4.17 in /Users/egor/anaconda3/lib/python3.11/site-packages (from requests->lightfm) (2023.5.7)\n",
      "Requirement already satisfied: joblib>=1.1.1 in /Users/egor/anaconda3/lib/python3.11/site-packages (from scikit-learn->lightfm) (1.3.1)\n",
      "Requirement already satisfied: threadpoolctl>=2.0.0 in /Users/egor/anaconda3/lib/python3.11/site-packages (from scikit-learn->lightfm) (3.2.0)\n",
      "Building wheels for collected packages: lightfm\n",
      "  Building wheel for lightfm (setup.py) ... \u001b[?25ldone\n",
      "\u001b[?25h  Created wheel for lightfm: filename=lightfm-1.17-cp311-cp311-macosx_11_0_arm64.whl size=419472 sha256=8e4b3dc3927db757de7134e8a67f78efaf86ed9d9bd54ba8d37058b07fdca813\n",
      "  Stored in directory: /Users/egor/Library/Caches/pip/wheels/b9/0d/8a/0729d2e6e3ca2a898ba55201f905da7db3f838a33df5b3fcdd\n",
      "Successfully built lightfm\n",
      "Installing collected packages: lightfm\n",
      "Successfully installed lightfm-1.17\n"
     ]
    }
   ],
   "source": [
    "!pip install lightfm"
   ]
  },
  {
   "cell_type": "markdown",
   "metadata": {},
   "source": [
    "Импортируем нужные нам функции из этой библиотеки. На этом этапе сразу же загрузим инструменты оценки модели:\n",
    "\n"
   ]
  },
  {
   "cell_type": "code",
   "execution_count": 84,
   "metadata": {},
   "outputs": [
    {
     "name": "stderr",
     "output_type": "stream",
     "text": [
      "/Users/egor/anaconda3/lib/python3.11/site-packages/lightfm/_lightfm_fast.py:9: UserWarning: LightFM was compiled without OpenMP support. Only a single thread will be used.\n",
      "  warnings.warn(\n"
     ]
    }
   ],
   "source": [
    "from lightfm import LightFM\n",
    "from lightfm.cross_validation import random_train_test_split\n",
    "from lightfm.evaluation import precision_at_k, recall_at_k  "
   ]
  },
  {
   "cell_type": "markdown",
   "metadata": {},
   "source": [
    "Работать мы будем с датасетом goodreads_book.\n",
    "\n",
    "Goodreads — это сайт, на котором люди могут добавлять книги в каталоги, искать их, изучать аннотации и отзывы. Пользователи также могут создавать сообщества, в которых они рекомендуют друг другу различную литературу, ведут блоги и устраивают обсуждения.\n",
    "Подгрузим все файлы, относящиеся к этому набору данных:"
   ]
  },
  {
   "cell_type": "code",
   "execution_count": 85,
   "metadata": {},
   "outputs": [],
   "source": [
    "ratings = pd.read_csv('data/ratings.csv') # Поставленные оценки\n",
    "books = pd.read_csv('data/books.csv') # Информация о книгах\n",
    "tags = pd.read_csv('data/tags.csv') # Информация о тегах\n",
    "book_tags = pd.read_csv('data/book_tags.csv') # Книги с тегами "
   ]
  },
  {
   "cell_type": "markdown",
   "metadata": {},
   "source": [
    "Сначала посмотрим на набор данных books: в этих данных есть обычный id книги, а есть id книги в системе Goodreads — этот id отображён в признаке goodreads_book_id. В других данных (book_tags) указан только id книги в системе Goodreads, поэтому нам необходимо добавить туда обычный id."
   ]
  },
  {
   "cell_type": "code",
   "execution_count": 100,
   "metadata": {},
   "outputs": [
    {
     "data": {
      "text/html": [
       "<div>\n",
       "<style scoped>\n",
       "    .dataframe tbody tr th:only-of-type {\n",
       "        vertical-align: middle;\n",
       "    }\n",
       "\n",
       "    .dataframe tbody tr th {\n",
       "        vertical-align: top;\n",
       "    }\n",
       "\n",
       "    .dataframe thead th {\n",
       "        text-align: right;\n",
       "    }\n",
       "</style>\n",
       "<table border=\"1\" class=\"dataframe\">\n",
       "  <thead>\n",
       "    <tr style=\"text-align: right;\">\n",
       "      <th></th>\n",
       "      <th>book_id</th>\n",
       "      <th>goodreads_book_id</th>\n",
       "      <th>best_book_id</th>\n",
       "      <th>work_id</th>\n",
       "      <th>books_count</th>\n",
       "      <th>isbn</th>\n",
       "      <th>isbn13</th>\n",
       "      <th>authors</th>\n",
       "      <th>original_publication_year</th>\n",
       "      <th>original_title</th>\n",
       "      <th>...</th>\n",
       "      <th>ratings_count</th>\n",
       "      <th>work_ratings_count</th>\n",
       "      <th>work_text_reviews_count</th>\n",
       "      <th>ratings_1</th>\n",
       "      <th>ratings_2</th>\n",
       "      <th>ratings_3</th>\n",
       "      <th>ratings_4</th>\n",
       "      <th>ratings_5</th>\n",
       "      <th>image_url</th>\n",
       "      <th>small_image_url</th>\n",
       "    </tr>\n",
       "  </thead>\n",
       "  <tbody>\n",
       "    <tr>\n",
       "      <th>0</th>\n",
       "      <td>1</td>\n",
       "      <td>2767052</td>\n",
       "      <td>2767052</td>\n",
       "      <td>2792775</td>\n",
       "      <td>272</td>\n",
       "      <td>439023483</td>\n",
       "      <td>9.780439e+12</td>\n",
       "      <td>Suzanne Collins</td>\n",
       "      <td>2008.0</td>\n",
       "      <td>The Hunger Games</td>\n",
       "      <td>...</td>\n",
       "      <td>4780653</td>\n",
       "      <td>4942365</td>\n",
       "      <td>155254</td>\n",
       "      <td>66715</td>\n",
       "      <td>127936</td>\n",
       "      <td>560092</td>\n",
       "      <td>1481305</td>\n",
       "      <td>2706317</td>\n",
       "      <td>https://images.gr-assets.com/books/1447303603m...</td>\n",
       "      <td>https://images.gr-assets.com/books/1447303603s...</td>\n",
       "    </tr>\n",
       "    <tr>\n",
       "      <th>1</th>\n",
       "      <td>2</td>\n",
       "      <td>3</td>\n",
       "      <td>3</td>\n",
       "      <td>4640799</td>\n",
       "      <td>491</td>\n",
       "      <td>439554934</td>\n",
       "      <td>9.780440e+12</td>\n",
       "      <td>J.K. Rowling, Mary GrandPré</td>\n",
       "      <td>1997.0</td>\n",
       "      <td>Harry Potter and the Philosopher's Stone</td>\n",
       "      <td>...</td>\n",
       "      <td>4602479</td>\n",
       "      <td>4800065</td>\n",
       "      <td>75867</td>\n",
       "      <td>75504</td>\n",
       "      <td>101676</td>\n",
       "      <td>455024</td>\n",
       "      <td>1156318</td>\n",
       "      <td>3011543</td>\n",
       "      <td>https://images.gr-assets.com/books/1474154022m...</td>\n",
       "      <td>https://images.gr-assets.com/books/1474154022s...</td>\n",
       "    </tr>\n",
       "    <tr>\n",
       "      <th>2</th>\n",
       "      <td>3</td>\n",
       "      <td>41865</td>\n",
       "      <td>41865</td>\n",
       "      <td>3212258</td>\n",
       "      <td>226</td>\n",
       "      <td>316015849</td>\n",
       "      <td>9.780316e+12</td>\n",
       "      <td>Stephenie Meyer</td>\n",
       "      <td>2005.0</td>\n",
       "      <td>Twilight</td>\n",
       "      <td>...</td>\n",
       "      <td>3866839</td>\n",
       "      <td>3916824</td>\n",
       "      <td>95009</td>\n",
       "      <td>456191</td>\n",
       "      <td>436802</td>\n",
       "      <td>793319</td>\n",
       "      <td>875073</td>\n",
       "      <td>1355439</td>\n",
       "      <td>https://images.gr-assets.com/books/1361039443m...</td>\n",
       "      <td>https://images.gr-assets.com/books/1361039443s...</td>\n",
       "    </tr>\n",
       "    <tr>\n",
       "      <th>3</th>\n",
       "      <td>4</td>\n",
       "      <td>2657</td>\n",
       "      <td>2657</td>\n",
       "      <td>3275794</td>\n",
       "      <td>487</td>\n",
       "      <td>61120081</td>\n",
       "      <td>9.780061e+12</td>\n",
       "      <td>Harper Lee</td>\n",
       "      <td>1960.0</td>\n",
       "      <td>To Kill a Mockingbird</td>\n",
       "      <td>...</td>\n",
       "      <td>3198671</td>\n",
       "      <td>3340896</td>\n",
       "      <td>72586</td>\n",
       "      <td>60427</td>\n",
       "      <td>117415</td>\n",
       "      <td>446835</td>\n",
       "      <td>1001952</td>\n",
       "      <td>1714267</td>\n",
       "      <td>https://images.gr-assets.com/books/1361975680m...</td>\n",
       "      <td>https://images.gr-assets.com/books/1361975680s...</td>\n",
       "    </tr>\n",
       "    <tr>\n",
       "      <th>4</th>\n",
       "      <td>5</td>\n",
       "      <td>4671</td>\n",
       "      <td>4671</td>\n",
       "      <td>245494</td>\n",
       "      <td>1356</td>\n",
       "      <td>743273567</td>\n",
       "      <td>9.780743e+12</td>\n",
       "      <td>F. Scott Fitzgerald</td>\n",
       "      <td>1925.0</td>\n",
       "      <td>The Great Gatsby</td>\n",
       "      <td>...</td>\n",
       "      <td>2683664</td>\n",
       "      <td>2773745</td>\n",
       "      <td>51992</td>\n",
       "      <td>86236</td>\n",
       "      <td>197621</td>\n",
       "      <td>606158</td>\n",
       "      <td>936012</td>\n",
       "      <td>947718</td>\n",
       "      <td>https://images.gr-assets.com/books/1490528560m...</td>\n",
       "      <td>https://images.gr-assets.com/books/1490528560s...</td>\n",
       "    </tr>\n",
       "    <tr>\n",
       "      <th>...</th>\n",
       "      <td>...</td>\n",
       "      <td>...</td>\n",
       "      <td>...</td>\n",
       "      <td>...</td>\n",
       "      <td>...</td>\n",
       "      <td>...</td>\n",
       "      <td>...</td>\n",
       "      <td>...</td>\n",
       "      <td>...</td>\n",
       "      <td>...</td>\n",
       "      <td>...</td>\n",
       "      <td>...</td>\n",
       "      <td>...</td>\n",
       "      <td>...</td>\n",
       "      <td>...</td>\n",
       "      <td>...</td>\n",
       "      <td>...</td>\n",
       "      <td>...</td>\n",
       "      <td>...</td>\n",
       "      <td>...</td>\n",
       "      <td>...</td>\n",
       "    </tr>\n",
       "    <tr>\n",
       "      <th>9995</th>\n",
       "      <td>9996</td>\n",
       "      <td>7130616</td>\n",
       "      <td>7130616</td>\n",
       "      <td>7392860</td>\n",
       "      <td>19</td>\n",
       "      <td>441019455</td>\n",
       "      <td>9.780441e+12</td>\n",
       "      <td>Ilona Andrews</td>\n",
       "      <td>2010.0</td>\n",
       "      <td>Bayou Moon</td>\n",
       "      <td>...</td>\n",
       "      <td>17204</td>\n",
       "      <td>18856</td>\n",
       "      <td>1180</td>\n",
       "      <td>105</td>\n",
       "      <td>575</td>\n",
       "      <td>3538</td>\n",
       "      <td>7860</td>\n",
       "      <td>6778</td>\n",
       "      <td>https://images.gr-assets.com/books/1307445460m...</td>\n",
       "      <td>https://images.gr-assets.com/books/1307445460s...</td>\n",
       "    </tr>\n",
       "    <tr>\n",
       "      <th>9996</th>\n",
       "      <td>9997</td>\n",
       "      <td>208324</td>\n",
       "      <td>208324</td>\n",
       "      <td>1084709</td>\n",
       "      <td>19</td>\n",
       "      <td>067973371X</td>\n",
       "      <td>9.780680e+12</td>\n",
       "      <td>Robert A. Caro</td>\n",
       "      <td>1990.0</td>\n",
       "      <td>Means of Ascent</td>\n",
       "      <td>...</td>\n",
       "      <td>12582</td>\n",
       "      <td>12952</td>\n",
       "      <td>395</td>\n",
       "      <td>303</td>\n",
       "      <td>551</td>\n",
       "      <td>1737</td>\n",
       "      <td>3389</td>\n",
       "      <td>6972</td>\n",
       "      <td>https://s.gr-assets.com/assets/nophoto/book/11...</td>\n",
       "      <td>https://s.gr-assets.com/assets/nophoto/book/50...</td>\n",
       "    </tr>\n",
       "    <tr>\n",
       "      <th>9997</th>\n",
       "      <td>9998</td>\n",
       "      <td>77431</td>\n",
       "      <td>77431</td>\n",
       "      <td>2393986</td>\n",
       "      <td>60</td>\n",
       "      <td>039330762X</td>\n",
       "      <td>9.780393e+12</td>\n",
       "      <td>Patrick O'Brian</td>\n",
       "      <td>1977.0</td>\n",
       "      <td>The Mauritius Command</td>\n",
       "      <td>...</td>\n",
       "      <td>9421</td>\n",
       "      <td>10733</td>\n",
       "      <td>374</td>\n",
       "      <td>11</td>\n",
       "      <td>111</td>\n",
       "      <td>1191</td>\n",
       "      <td>4240</td>\n",
       "      <td>5180</td>\n",
       "      <td>https://images.gr-assets.com/books/1455373531m...</td>\n",
       "      <td>https://images.gr-assets.com/books/1455373531s...</td>\n",
       "    </tr>\n",
       "    <tr>\n",
       "      <th>9998</th>\n",
       "      <td>9999</td>\n",
       "      <td>8565083</td>\n",
       "      <td>8565083</td>\n",
       "      <td>13433613</td>\n",
       "      <td>7</td>\n",
       "      <td>61711527</td>\n",
       "      <td>9.780062e+12</td>\n",
       "      <td>Peggy Orenstein</td>\n",
       "      <td>2011.0</td>\n",
       "      <td>Cinderella Ate My Daughter: Dispatches from th...</td>\n",
       "      <td>...</td>\n",
       "      <td>11279</td>\n",
       "      <td>11994</td>\n",
       "      <td>1988</td>\n",
       "      <td>275</td>\n",
       "      <td>1002</td>\n",
       "      <td>3765</td>\n",
       "      <td>4577</td>\n",
       "      <td>2375</td>\n",
       "      <td>https://images.gr-assets.com/books/1279214118m...</td>\n",
       "      <td>https://images.gr-assets.com/books/1279214118s...</td>\n",
       "    </tr>\n",
       "    <tr>\n",
       "      <th>9999</th>\n",
       "      <td>10000</td>\n",
       "      <td>8914</td>\n",
       "      <td>8914</td>\n",
       "      <td>11817</td>\n",
       "      <td>31</td>\n",
       "      <td>375700455</td>\n",
       "      <td>9.780376e+12</td>\n",
       "      <td>John Keegan</td>\n",
       "      <td>1998.0</td>\n",
       "      <td>The First World War</td>\n",
       "      <td>...</td>\n",
       "      <td>9162</td>\n",
       "      <td>9700</td>\n",
       "      <td>364</td>\n",
       "      <td>117</td>\n",
       "      <td>345</td>\n",
       "      <td>2031</td>\n",
       "      <td>4138</td>\n",
       "      <td>3069</td>\n",
       "      <td>https://images.gr-assets.com/books/1403194704m...</td>\n",
       "      <td>https://images.gr-assets.com/books/1403194704s...</td>\n",
       "    </tr>\n",
       "  </tbody>\n",
       "</table>\n",
       "<p>10000 rows × 23 columns</p>\n",
       "</div>"
      ],
      "text/plain": [
       "      book_id  goodreads_book_id  best_book_id   work_id  books_count  \\\n",
       "0           1            2767052       2767052   2792775          272   \n",
       "1           2                  3             3   4640799          491   \n",
       "2           3              41865         41865   3212258          226   \n",
       "3           4               2657          2657   3275794          487   \n",
       "4           5               4671          4671    245494         1356   \n",
       "...       ...                ...           ...       ...          ...   \n",
       "9995     9996            7130616       7130616   7392860           19   \n",
       "9996     9997             208324        208324   1084709           19   \n",
       "9997     9998              77431         77431   2393986           60   \n",
       "9998     9999            8565083       8565083  13433613            7   \n",
       "9999    10000               8914          8914     11817           31   \n",
       "\n",
       "            isbn        isbn13                      authors  \\\n",
       "0      439023483  9.780439e+12              Suzanne Collins   \n",
       "1      439554934  9.780440e+12  J.K. Rowling, Mary GrandPré   \n",
       "2      316015849  9.780316e+12              Stephenie Meyer   \n",
       "3       61120081  9.780061e+12                   Harper Lee   \n",
       "4      743273567  9.780743e+12          F. Scott Fitzgerald   \n",
       "...          ...           ...                          ...   \n",
       "9995   441019455  9.780441e+12                Ilona Andrews   \n",
       "9996  067973371X  9.780680e+12               Robert A. Caro   \n",
       "9997  039330762X  9.780393e+12              Patrick O'Brian   \n",
       "9998    61711527  9.780062e+12              Peggy Orenstein   \n",
       "9999   375700455  9.780376e+12                  John Keegan   \n",
       "\n",
       "      original_publication_year  \\\n",
       "0                        2008.0   \n",
       "1                        1997.0   \n",
       "2                        2005.0   \n",
       "3                        1960.0   \n",
       "4                        1925.0   \n",
       "...                         ...   \n",
       "9995                     2010.0   \n",
       "9996                     1990.0   \n",
       "9997                     1977.0   \n",
       "9998                     2011.0   \n",
       "9999                     1998.0   \n",
       "\n",
       "                                         original_title  ... ratings_count  \\\n",
       "0                                      The Hunger Games  ...       4780653   \n",
       "1              Harry Potter and the Philosopher's Stone  ...       4602479   \n",
       "2                                              Twilight  ...       3866839   \n",
       "3                                 To Kill a Mockingbird  ...       3198671   \n",
       "4                                      The Great Gatsby  ...       2683664   \n",
       "...                                                 ...  ...           ...   \n",
       "9995                                         Bayou Moon  ...         17204   \n",
       "9996                                   Means of Ascent   ...         12582   \n",
       "9997                              The Mauritius Command  ...          9421   \n",
       "9998  Cinderella Ate My Daughter: Dispatches from th...  ...         11279   \n",
       "9999                                The First World War  ...          9162   \n",
       "\n",
       "     work_ratings_count  work_text_reviews_count  ratings_1  ratings_2  \\\n",
       "0               4942365                   155254      66715     127936   \n",
       "1               4800065                    75867      75504     101676   \n",
       "2               3916824                    95009     456191     436802   \n",
       "3               3340896                    72586      60427     117415   \n",
       "4               2773745                    51992      86236     197621   \n",
       "...                 ...                      ...        ...        ...   \n",
       "9995              18856                     1180        105        575   \n",
       "9996              12952                      395        303        551   \n",
       "9997              10733                      374         11        111   \n",
       "9998              11994                     1988        275       1002   \n",
       "9999               9700                      364        117        345   \n",
       "\n",
       "      ratings_3  ratings_4  ratings_5  \\\n",
       "0        560092    1481305    2706317   \n",
       "1        455024    1156318    3011543   \n",
       "2        793319     875073    1355439   \n",
       "3        446835    1001952    1714267   \n",
       "4        606158     936012     947718   \n",
       "...         ...        ...        ...   \n",
       "9995       3538       7860       6778   \n",
       "9996       1737       3389       6972   \n",
       "9997       1191       4240       5180   \n",
       "9998       3765       4577       2375   \n",
       "9999       2031       4138       3069   \n",
       "\n",
       "                                              image_url  \\\n",
       "0     https://images.gr-assets.com/books/1447303603m...   \n",
       "1     https://images.gr-assets.com/books/1474154022m...   \n",
       "2     https://images.gr-assets.com/books/1361039443m...   \n",
       "3     https://images.gr-assets.com/books/1361975680m...   \n",
       "4     https://images.gr-assets.com/books/1490528560m...   \n",
       "...                                                 ...   \n",
       "9995  https://images.gr-assets.com/books/1307445460m...   \n",
       "9996  https://s.gr-assets.com/assets/nophoto/book/11...   \n",
       "9997  https://images.gr-assets.com/books/1455373531m...   \n",
       "9998  https://images.gr-assets.com/books/1279214118m...   \n",
       "9999  https://images.gr-assets.com/books/1403194704m...   \n",
       "\n",
       "                                        small_image_url  \n",
       "0     https://images.gr-assets.com/books/1447303603s...  \n",
       "1     https://images.gr-assets.com/books/1474154022s...  \n",
       "2     https://images.gr-assets.com/books/1361039443s...  \n",
       "3     https://images.gr-assets.com/books/1361975680s...  \n",
       "4     https://images.gr-assets.com/books/1490528560s...  \n",
       "...                                                 ...  \n",
       "9995  https://images.gr-assets.com/books/1307445460s...  \n",
       "9996  https://s.gr-assets.com/assets/nophoto/book/50...  \n",
       "9997  https://images.gr-assets.com/books/1455373531s...  \n",
       "9998  https://images.gr-assets.com/books/1279214118s...  \n",
       "9999  https://images.gr-assets.com/books/1403194704s...  \n",
       "\n",
       "[10000 rows x 23 columns]"
      ]
     },
     "execution_count": 100,
     "metadata": {},
     "output_type": "execute_result"
    }
   ],
   "source": [
    "books"
   ]
  },
  {
   "cell_type": "code",
   "execution_count": 88,
   "metadata": {},
   "outputs": [
    {
     "data": {
      "text/html": [
       "<div>\n",
       "<style scoped>\n",
       "    .dataframe tbody tr th:only-of-type {\n",
       "        vertical-align: middle;\n",
       "    }\n",
       "\n",
       "    .dataframe tbody tr th {\n",
       "        vertical-align: top;\n",
       "    }\n",
       "\n",
       "    .dataframe thead th {\n",
       "        text-align: right;\n",
       "    }\n",
       "</style>\n",
       "<table border=\"1\" class=\"dataframe\">\n",
       "  <thead>\n",
       "    <tr style=\"text-align: right;\">\n",
       "      <th></th>\n",
       "      <th>goodreads_book_id</th>\n",
       "      <th>tag_id</th>\n",
       "      <th>count</th>\n",
       "    </tr>\n",
       "  </thead>\n",
       "  <tbody>\n",
       "    <tr>\n",
       "      <th>0</th>\n",
       "      <td>1</td>\n",
       "      <td>30574</td>\n",
       "      <td>167697</td>\n",
       "    </tr>\n",
       "    <tr>\n",
       "      <th>1</th>\n",
       "      <td>1</td>\n",
       "      <td>11305</td>\n",
       "      <td>37174</td>\n",
       "    </tr>\n",
       "    <tr>\n",
       "      <th>2</th>\n",
       "      <td>1</td>\n",
       "      <td>11557</td>\n",
       "      <td>34173</td>\n",
       "    </tr>\n",
       "    <tr>\n",
       "      <th>3</th>\n",
       "      <td>1</td>\n",
       "      <td>8717</td>\n",
       "      <td>12986</td>\n",
       "    </tr>\n",
       "    <tr>\n",
       "      <th>4</th>\n",
       "      <td>1</td>\n",
       "      <td>33114</td>\n",
       "      <td>12716</td>\n",
       "    </tr>\n",
       "    <tr>\n",
       "      <th>...</th>\n",
       "      <td>...</td>\n",
       "      <td>...</td>\n",
       "      <td>...</td>\n",
       "    </tr>\n",
       "    <tr>\n",
       "      <th>999907</th>\n",
       "      <td>33288638</td>\n",
       "      <td>21303</td>\n",
       "      <td>7</td>\n",
       "    </tr>\n",
       "    <tr>\n",
       "      <th>999908</th>\n",
       "      <td>33288638</td>\n",
       "      <td>17271</td>\n",
       "      <td>7</td>\n",
       "    </tr>\n",
       "    <tr>\n",
       "      <th>999909</th>\n",
       "      <td>33288638</td>\n",
       "      <td>1126</td>\n",
       "      <td>7</td>\n",
       "    </tr>\n",
       "    <tr>\n",
       "      <th>999910</th>\n",
       "      <td>33288638</td>\n",
       "      <td>11478</td>\n",
       "      <td>7</td>\n",
       "    </tr>\n",
       "    <tr>\n",
       "      <th>999911</th>\n",
       "      <td>33288638</td>\n",
       "      <td>27939</td>\n",
       "      <td>7</td>\n",
       "    </tr>\n",
       "  </tbody>\n",
       "</table>\n",
       "<p>999912 rows × 3 columns</p>\n",
       "</div>"
      ],
      "text/plain": [
       "        goodreads_book_id  tag_id   count\n",
       "0                       1   30574  167697\n",
       "1                       1   11305   37174\n",
       "2                       1   11557   34173\n",
       "3                       1    8717   12986\n",
       "4                       1   33114   12716\n",
       "...                   ...     ...     ...\n",
       "999907           33288638   21303       7\n",
       "999908           33288638   17271       7\n",
       "999909           33288638    1126       7\n",
       "999910           33288638   11478       7\n",
       "999911           33288638   27939       7\n",
       "\n",
       "[999912 rows x 3 columns]"
      ]
     },
     "execution_count": 88,
     "metadata": {},
     "output_type": "execute_result"
    }
   ],
   "source": [
    "book_tags"
   ]
  },
  {
   "cell_type": "markdown",
   "metadata": {},
   "source": [
    "Задание 4.1\n",
    "\n",
    "Добавьте в набор данных book_tags признак с обычным id книги, используя соответствие обычного id и id в системе Goodreads.\n",
    "\n",
    "Какой обычный id у книги, которая имеет id 5 в системе Goodreads?\n",
    "\n"
   ]
  },
  {
   "cell_type": "code",
   "execution_count": 90,
   "metadata": {},
   "outputs": [
    {
     "data": {
      "text/html": [
       "<div>\n",
       "<style scoped>\n",
       "    .dataframe tbody tr th:only-of-type {\n",
       "        vertical-align: middle;\n",
       "    }\n",
       "\n",
       "    .dataframe tbody tr th {\n",
       "        vertical-align: top;\n",
       "    }\n",
       "\n",
       "    .dataframe thead th {\n",
       "        text-align: right;\n",
       "    }\n",
       "</style>\n",
       "<table border=\"1\" class=\"dataframe\">\n",
       "  <thead>\n",
       "    <tr style=\"text-align: right;\">\n",
       "      <th></th>\n",
       "      <th>goodreads_book_id</th>\n",
       "      <th>tag_id</th>\n",
       "      <th>count</th>\n",
       "      <th>book_id</th>\n",
       "    </tr>\n",
       "  </thead>\n",
       "  <tbody>\n",
       "    <tr>\n",
       "      <th>0</th>\n",
       "      <td>1</td>\n",
       "      <td>30574</td>\n",
       "      <td>167697</td>\n",
       "      <td>27</td>\n",
       "    </tr>\n",
       "    <tr>\n",
       "      <th>1</th>\n",
       "      <td>1</td>\n",
       "      <td>11305</td>\n",
       "      <td>37174</td>\n",
       "      <td>27</td>\n",
       "    </tr>\n",
       "    <tr>\n",
       "      <th>2</th>\n",
       "      <td>1</td>\n",
       "      <td>11557</td>\n",
       "      <td>34173</td>\n",
       "      <td>27</td>\n",
       "    </tr>\n",
       "    <tr>\n",
       "      <th>3</th>\n",
       "      <td>1</td>\n",
       "      <td>8717</td>\n",
       "      <td>12986</td>\n",
       "      <td>27</td>\n",
       "    </tr>\n",
       "    <tr>\n",
       "      <th>4</th>\n",
       "      <td>1</td>\n",
       "      <td>33114</td>\n",
       "      <td>12716</td>\n",
       "      <td>27</td>\n",
       "    </tr>\n",
       "    <tr>\n",
       "      <th>...</th>\n",
       "      <td>...</td>\n",
       "      <td>...</td>\n",
       "      <td>...</td>\n",
       "      <td>...</td>\n",
       "    </tr>\n",
       "    <tr>\n",
       "      <th>999907</th>\n",
       "      <td>33288638</td>\n",
       "      <td>21303</td>\n",
       "      <td>7</td>\n",
       "      <td>8892</td>\n",
       "    </tr>\n",
       "    <tr>\n",
       "      <th>999908</th>\n",
       "      <td>33288638</td>\n",
       "      <td>17271</td>\n",
       "      <td>7</td>\n",
       "      <td>8892</td>\n",
       "    </tr>\n",
       "    <tr>\n",
       "      <th>999909</th>\n",
       "      <td>33288638</td>\n",
       "      <td>1126</td>\n",
       "      <td>7</td>\n",
       "      <td>8892</td>\n",
       "    </tr>\n",
       "    <tr>\n",
       "      <th>999910</th>\n",
       "      <td>33288638</td>\n",
       "      <td>11478</td>\n",
       "      <td>7</td>\n",
       "      <td>8892</td>\n",
       "    </tr>\n",
       "    <tr>\n",
       "      <th>999911</th>\n",
       "      <td>33288638</td>\n",
       "      <td>27939</td>\n",
       "      <td>7</td>\n",
       "      <td>8892</td>\n",
       "    </tr>\n",
       "  </tbody>\n",
       "</table>\n",
       "<p>999912 rows × 4 columns</p>\n",
       "</div>"
      ],
      "text/plain": [
       "        goodreads_book_id  tag_id   count  book_id\n",
       "0                       1   30574  167697       27\n",
       "1                       1   11305   37174       27\n",
       "2                       1   11557   34173       27\n",
       "3                       1    8717   12986       27\n",
       "4                       1   33114   12716       27\n",
       "...                   ...     ...     ...      ...\n",
       "999907           33288638   21303       7     8892\n",
       "999908           33288638   17271       7     8892\n",
       "999909           33288638    1126       7     8892\n",
       "999910           33288638   11478       7     8892\n",
       "999911           33288638   27939       7     8892\n",
       "\n",
       "[999912 rows x 4 columns]"
      ]
     },
     "execution_count": 90,
     "metadata": {},
     "output_type": "execute_result"
    }
   ],
   "source": [
    "book_tags = book_tags.merge(\n",
    "    books[['book_id', 'goodreads_book_id']],\n",
    "    on='goodreads_book_id',\n",
    "    how='left')\n",
    "book_tags"
   ]
  },
  {
   "cell_type": "code",
   "execution_count": 91,
   "metadata": {},
   "outputs": [
    {
     "data": {
      "text/html": [
       "<div>\n",
       "<style scoped>\n",
       "    .dataframe tbody tr th:only-of-type {\n",
       "        vertical-align: middle;\n",
       "    }\n",
       "\n",
       "    .dataframe tbody tr th {\n",
       "        vertical-align: top;\n",
       "    }\n",
       "\n",
       "    .dataframe thead th {\n",
       "        text-align: right;\n",
       "    }\n",
       "</style>\n",
       "<table border=\"1\" class=\"dataframe\">\n",
       "  <thead>\n",
       "    <tr style=\"text-align: right;\">\n",
       "      <th></th>\n",
       "      <th>goodreads_book_id</th>\n",
       "      <th>tag_id</th>\n",
       "      <th>count</th>\n",
       "      <th>book_id</th>\n",
       "    </tr>\n",
       "  </thead>\n",
       "  <tbody>\n",
       "    <tr>\n",
       "      <th>300</th>\n",
       "      <td>5</td>\n",
       "      <td>11557</td>\n",
       "      <td>40087</td>\n",
       "      <td>18</td>\n",
       "    </tr>\n",
       "    <tr>\n",
       "      <th>301</th>\n",
       "      <td>5</td>\n",
       "      <td>11305</td>\n",
       "      <td>39330</td>\n",
       "      <td>18</td>\n",
       "    </tr>\n",
       "    <tr>\n",
       "      <th>302</th>\n",
       "      <td>5</td>\n",
       "      <td>8717</td>\n",
       "      <td>17944</td>\n",
       "      <td>18</td>\n",
       "    </tr>\n",
       "    <tr>\n",
       "      <th>303</th>\n",
       "      <td>5</td>\n",
       "      <td>33114</td>\n",
       "      <td>12856</td>\n",
       "      <td>18</td>\n",
       "    </tr>\n",
       "    <tr>\n",
       "      <th>304</th>\n",
       "      <td>5</td>\n",
       "      <td>30574</td>\n",
       "      <td>11909</td>\n",
       "      <td>18</td>\n",
       "    </tr>\n",
       "    <tr>\n",
       "      <th>...</th>\n",
       "      <td>...</td>\n",
       "      <td>...</td>\n",
       "      <td>...</td>\n",
       "      <td>...</td>\n",
       "    </tr>\n",
       "    <tr>\n",
       "      <th>395</th>\n",
       "      <td>5</td>\n",
       "      <td>20781</td>\n",
       "      <td>299</td>\n",
       "      <td>18</td>\n",
       "    </tr>\n",
       "    <tr>\n",
       "      <th>396</th>\n",
       "      <td>5</td>\n",
       "      <td>32345</td>\n",
       "      <td>298</td>\n",
       "      <td>18</td>\n",
       "    </tr>\n",
       "    <tr>\n",
       "      <th>397</th>\n",
       "      <td>5</td>\n",
       "      <td>12600</td>\n",
       "      <td>282</td>\n",
       "      <td>18</td>\n",
       "    </tr>\n",
       "    <tr>\n",
       "      <th>398</th>\n",
       "      <td>5</td>\n",
       "      <td>3379</td>\n",
       "      <td>277</td>\n",
       "      <td>18</td>\n",
       "    </tr>\n",
       "    <tr>\n",
       "      <th>399</th>\n",
       "      <td>5</td>\n",
       "      <td>5444</td>\n",
       "      <td>273</td>\n",
       "      <td>18</td>\n",
       "    </tr>\n",
       "  </tbody>\n",
       "</table>\n",
       "<p>100 rows × 4 columns</p>\n",
       "</div>"
      ],
      "text/plain": [
       "     goodreads_book_id  tag_id  count  book_id\n",
       "300                  5   11557  40087       18\n",
       "301                  5   11305  39330       18\n",
       "302                  5    8717  17944       18\n",
       "303                  5   33114  12856       18\n",
       "304                  5   30574  11909       18\n",
       "..                 ...     ...    ...      ...\n",
       "395                  5   20781    299       18\n",
       "396                  5   32345    298       18\n",
       "397                  5   12600    282       18\n",
       "398                  5    3379    277       18\n",
       "399                  5    5444    273       18\n",
       "\n",
       "[100 rows x 4 columns]"
      ]
     },
     "execution_count": 91,
     "metadata": {},
     "output_type": "execute_result"
    }
   ],
   "source": [
    "book_tags[book_tags['goodreads_book_id'] == 5]"
   ]
  },
  {
   "cell_type": "markdown",
   "metadata": {},
   "source": [
    "Задание 4.2\n",
    "\n",
    "Далее нам необходимо оставить в наборе данных book_tags только те записи, теги для которых есть в данных tags.\n",
    "\n",
    "Отфильтруйте данные таким образом, чтобы в наборе данных book_tags остались только те строки, в которых находятся теги, информация о которых есть в наборе данных tags.\n",
    "\n",
    "Сколько объектов осталось?\n",
    "\n"
   ]
  },
  {
   "cell_type": "code",
   "execution_count": 93,
   "metadata": {},
   "outputs": [
    {
     "data": {
      "text/html": [
       "<div>\n",
       "<style scoped>\n",
       "    .dataframe tbody tr th:only-of-type {\n",
       "        vertical-align: middle;\n",
       "    }\n",
       "\n",
       "    .dataframe tbody tr th {\n",
       "        vertical-align: top;\n",
       "    }\n",
       "\n",
       "    .dataframe thead th {\n",
       "        text-align: right;\n",
       "    }\n",
       "</style>\n",
       "<table border=\"1\" class=\"dataframe\">\n",
       "  <thead>\n",
       "    <tr style=\"text-align: right;\">\n",
       "      <th></th>\n",
       "      <th>goodreads_book_id</th>\n",
       "      <th>tag_id</th>\n",
       "      <th>count</th>\n",
       "      <th>book_id</th>\n",
       "      <th>tag_name</th>\n",
       "    </tr>\n",
       "  </thead>\n",
       "  <tbody>\n",
       "    <tr>\n",
       "      <th>0</th>\n",
       "      <td>67</td>\n",
       "      <td>509</td>\n",
       "      <td>17</td>\n",
       "      <td>3504</td>\n",
       "      <td>19th-century</td>\n",
       "    </tr>\n",
       "    <tr>\n",
       "      <th>1</th>\n",
       "      <td>93</td>\n",
       "      <td>509</td>\n",
       "      <td>72</td>\n",
       "      <td>639</td>\n",
       "      <td>19th-century</td>\n",
       "    </tr>\n",
       "    <tr>\n",
       "      <th>2</th>\n",
       "      <td>264</td>\n",
       "      <td>509</td>\n",
       "      <td>175</td>\n",
       "      <td>1783</td>\n",
       "      <td>19th-century</td>\n",
       "    </tr>\n",
       "    <tr>\n",
       "      <th>3</th>\n",
       "      <td>295</td>\n",
       "      <td>509</td>\n",
       "      <td>241</td>\n",
       "      <td>293</td>\n",
       "      <td>19th-century</td>\n",
       "    </tr>\n",
       "    <tr>\n",
       "      <th>4</th>\n",
       "      <td>304</td>\n",
       "      <td>509</td>\n",
       "      <td>112</td>\n",
       "      <td>5915</td>\n",
       "      <td>19th-century</td>\n",
       "    </tr>\n",
       "    <tr>\n",
       "      <th>...</th>\n",
       "      <td>...</td>\n",
       "      <td>...</td>\n",
       "      <td>...</td>\n",
       "      <td>...</td>\n",
       "      <td>...</td>\n",
       "    </tr>\n",
       "    <tr>\n",
       "      <th>300733</th>\n",
       "      <td>17235026</td>\n",
       "      <td>33268</td>\n",
       "      <td>1132</td>\n",
       "      <td>886</td>\n",
       "      <td>zombies</td>\n",
       "    </tr>\n",
       "    <tr>\n",
       "      <th>300734</th>\n",
       "      <td>17333174</td>\n",
       "      <td>33268</td>\n",
       "      <td>10</td>\n",
       "      <td>9712</td>\n",
       "      <td>zombies</td>\n",
       "    </tr>\n",
       "    <tr>\n",
       "      <th>300735</th>\n",
       "      <td>18007535</td>\n",
       "      <td>33268</td>\n",
       "      <td>23</td>\n",
       "      <td>3429</td>\n",
       "      <td>zombies</td>\n",
       "    </tr>\n",
       "    <tr>\n",
       "      <th>300736</th>\n",
       "      <td>18667307</td>\n",
       "      <td>33268</td>\n",
       "      <td>9</td>\n",
       "      <td>5074</td>\n",
       "      <td>zombies</td>\n",
       "    </tr>\n",
       "    <tr>\n",
       "      <th>300737</th>\n",
       "      <td>26891429</td>\n",
       "      <td>33268</td>\n",
       "      <td>16</td>\n",
       "      <td>4041</td>\n",
       "      <td>zombies</td>\n",
       "    </tr>\n",
       "  </tbody>\n",
       "</table>\n",
       "<p>300738 rows × 5 columns</p>\n",
       "</div>"
      ],
      "text/plain": [
       "        goodreads_book_id  tag_id  count  book_id      tag_name\n",
       "0                      67     509     17     3504  19th-century\n",
       "1                      93     509     72      639  19th-century\n",
       "2                     264     509    175     1783  19th-century\n",
       "3                     295     509    241      293  19th-century\n",
       "4                     304     509    112     5915  19th-century\n",
       "...                   ...     ...    ...      ...           ...\n",
       "300733           17235026   33268   1132      886       zombies\n",
       "300734           17333174   33268     10     9712       zombies\n",
       "300735           18007535   33268     23     3429       zombies\n",
       "300736           18667307   33268      9     5074       zombies\n",
       "300737           26891429   33268     16     4041       zombies\n",
       "\n",
       "[300738 rows x 5 columns]"
      ]
     },
     "execution_count": 93,
     "metadata": {},
     "output_type": "execute_result"
    }
   ],
   "source": [
    "book_tags = book_tags.merge(tags, on='tag_id', how='right')\n",
    "book_tags"
   ]
  },
  {
   "cell_type": "markdown",
   "metadata": {},
   "source": [
    "Отлично, мы подготовили информацию о тегах книг — это будет метаинформацией для построения рекомендательной системы. Теперь нам необходимо подготовить данные о взаимодействии пользователей и книг. Для этого нам понадобится файл ratings.\n",
    "\n",
    "Оба набора данных (и про взаимодействия, и про метаинформацию) необходимо преобразовать в разрежённые матрицы. Это можно сделать с помощью специальной функции из модуля scipy:"
   ]
  },
  {
   "cell_type": "code",
   "execution_count": 94,
   "metadata": {},
   "outputs": [],
   "source": [
    "from scipy.sparse import csr_matrix"
   ]
  },
  {
   "cell_type": "markdown",
   "metadata": {},
   "source": [
    "Нам важно преобразовать данные в специальный формат, в котором хранятся разрежённые матрицы — будем использовать формат Compressed Sparse Row (CSR), подразумевающий подсчёт кумулятивной суммы количества элементов в строке вместо индексов строк.\n",
    "\n",
    "Здесь хранится информация о том, сколько суммарно ненулевых элементов в данной строке и выше, индексы столбцов с ненулевыми значениями, сами значения и размерность матрицы.\n",
    "\n",
    "В первой строке обозначено, сколько накоплено ненулевых значений (в первой строке — суммарно 1, после второй строки — суммарно 4, после третьей строки — суммарно 4, после четвёртой строки — суммарно 6).\n",
    "Во второй строке показано, в каком столбце находится ненулевое значение.\n",
    "В третьей строке указаны сами значения.\n",
    "Осуществляем преобразование следующим образом:"
   ]
  },
  {
   "cell_type": "code",
   "execution_count": 105,
   "metadata": {},
   "outputs": [],
   "source": [
    "ratings_matrix = csr_matrix((ratings.rating,(ratings.user_id, ratings.book_id))) \n",
    "# Передаём в качестве аргументов в функцию выставленный рейтинг (это будут значения матрицы), \n",
    "# а также id пользователя и id книги (это будут индексы для строк и столбцов матрицы)"
   ]
  },
  {
   "cell_type": "markdown",
   "metadata": {},
   "source": [
    "Теперь нам необходимо составить матрицу с метаданными. В качестве индексов будут выступать id книги и id тега, и если у этой книги есть рассматриваемый тег, то на пересечении соответствующих строки и столбца будет выставлена единица.\n",
    "\n"
   ]
  },
  {
   "cell_type": "code",
   "execution_count": 108,
   "metadata": {},
   "outputs": [],
   "source": [
    "meta_matrix  = csr_matrix(([1]*len(book_tags),(book_tags.book_id, book_tags.tag_id))) "
   ]
  },
  {
   "cell_type": "markdown",
   "metadata": {},
   "source": [
    "Задание 4.4\n",
    "\n",
    "Давайте проверим, что всё получилось правильно.\n",
    "\n",
    "Каково среднее арифметическое значений разрежённой матрицы с рейтингами? Ответ округлите до трёх знаков после точки-разделителя."
   ]
  },
  {
   "cell_type": "code",
   "execution_count": 111,
   "metadata": {},
   "outputs": [
    {
     "data": {
      "text/plain": [
       "0.007086188900997592"
      ]
     },
     "execution_count": 111,
     "metadata": {},
     "output_type": "execute_result"
    }
   ],
   "source": [
    "ratings_matrix.mean()"
   ]
  },
  {
   "cell_type": "markdown",
   "metadata": {},
   "source": [
    "Отлично, данные подготовлены — теперь настало время определить модель, которую мы будем использовать. Сделаем это следующим образом:\n",
    "\n"
   ]
  },
  {
   "cell_type": "code",
   "execution_count": 112,
   "metadata": {},
   "outputs": [],
   "source": [
    "model = LightFM(\n",
    "    loss='warp-kos', # Определяем функцию потерь\n",
    "    random_state=42, # Фиксируем случайное разбиение\n",
    "    learning_rate=0.05, # Темп обучения\n",
    "    no_components=100 # Размерность вектора для представления данных в модели\n",
    ")"
   ]
  },
  {
   "cell_type": "markdown",
   "metadata": {},
   "source": [
    "В качестве функции потерь мы выбрали значение 'warp', хотя, разумеется, это не единственный вариант. В модуле LightFM представлены следующие функции потерь:\n",
    "\n",
    "'logistic' — логистическая функция. Полезна в случаях, когда есть как положительные, так и отрицательные взаимодействия, например 1 и -1.\n",
    "'bpr' — байесовский персонализированный рейтинг. Можно применять, когда присутствуют только положительные взаимодействия.\n",
    "'warp' — парный взвешенный приблизительный ранг. Используется, если необходимо повысить качество именно в верхней части списка рекомендаций.\n",
    "'warp-kos' — модификация warp."
   ]
  },
  {
   "cell_type": "markdown",
   "metadata": {},
   "source": [
    "Разобьём данные на обучающую и тестовую выборки:\n",
    "\n"
   ]
  },
  {
   "cell_type": "code",
   "execution_count": 113,
   "metadata": {},
   "outputs": [],
   "source": [
    "train, test = random_train_test_split(\n",
    "    ratings_matrix, # Общая выборка\n",
    "    test_percentage=0.2, # Размер тестовой выборки\n",
    "    random_state=42 # Генератор случайных чисел\n",
    ")"
   ]
  },
  {
   "cell_type": "markdown",
   "metadata": {},
   "source": [
    "Теперь обучим модель на наших данных о взаимодействии, также используя метаданные о книгах. Для этого воспользуемся методом fit(). В этот метод передадим обучающую выборку, признаки товаров — item_features, количество эпох обучения (сколько раз мы будем показывать модели исходный датасет, чтобы она лучше выучила данные) — epochs, а также параметр verbose для отслеживания процесса обучения:"
   ]
  },
  {
   "cell_type": "code",
   "execution_count": 114,
   "metadata": {},
   "outputs": [
    {
     "name": "stderr",
     "output_type": "stream",
     "text": [
      "Epoch: 100%|██████████| 10/10 [01:40<00:00, 10.01s/it]\n"
     ]
    }
   ],
   "source": [
    "model = model.fit(\n",
    "    train, # Обучающая выборка\n",
    "    item_features=meta_matrix, # Признаки товаров\n",
    "    epochs=10, # Количество эпох\n",
    "    verbose=True # Отображение обучения\n",
    ")"
   ]
  },
  {
   "cell_type": "markdown",
   "metadata": {},
   "source": [
    "Задание 4.5\n",
    "\n",
    "Оцените качество полученной модели с помощью функции precision_at_k, передав в неё три аргумента: модель, тестовые данные и обозначение метаданных (item_features = meta_matrix).\n",
    "\n",
    "Примечание. Процесс расчёта метрик рекомендательной системы также является довольно затратным по времени. Для ускорения этого процесса вы можете передать параметр num_threads, чтобы указать количество потоков процессора, используемых для вычислений."
   ]
  },
  {
   "cell_type": "code",
   "execution_count": 116,
   "metadata": {},
   "outputs": [
    {
     "data": {
      "text/plain": [
       "0.023578687"
      ]
     },
     "execution_count": 116,
     "metadata": {},
     "output_type": "execute_result"
    }
   ],
   "source": [
    "qlty = precision_at_k(model, test, item_features=meta_matrix)\n",
    "qlty.mean()"
   ]
  },
  {
   "cell_type": "markdown",
   "metadata": {},
   "source": [
    "В рекомендательных системах метрики интерпретируются иначе, чем в задачах классификации. Показатели точности РС считаются хорошими, если они находятся в районе 0.1-0.3.\n",
    "\n",
    "У нас получился не слишком высокий, но довольно неплохой результат. Чтобы его улучшить, можно попробовать следующее:\n",
    "\n",
    "Поработать над предобработкой данных, добавив в них дополнительную информацию о товарах. Также можно попробовать воспользоваться иным способом создания разреженной матрицы, например, форматом coo_matrix() или csc_matrix(), которые также входят в библиотеку scipy. Подробнее почитать о них вы можете здесь.\n",
    "Поиграться с параметрами модели LightFM — поуправлять темпом обучения (learning_rate), размерностью вектора для представления (no_components), количеством эпох обучения (epochs) и функцией потерь (loss).\n",
    "Примечание. Для предсказания рейтинга нового пользователя можно воспользоваться методом predict():"
   ]
  },
  {
   "cell_type": "code",
   "execution_count": 118,
   "metadata": {},
   "outputs": [
    {
     "ename": "NameError",
     "evalue": "name 'n_items' is not defined",
     "output_type": "error",
     "traceback": [
      "\u001b[0;31m---------------------------------------------------------------------------\u001b[0m",
      "\u001b[0;31mNameError\u001b[0m                                 Traceback (most recent call last)",
      "Cell \u001b[0;32mIn[118], line 2\u001b[0m\n\u001b[1;32m      1\u001b[0m \u001b[39mimport\u001b[39;00m \u001b[39mnumpy\u001b[39;00m \u001b[39mas\u001b[39;00m \u001b[39mnp\u001b[39;00m\n\u001b[0;32m----> 2\u001b[0m scores \u001b[39m=\u001b[39m model\u001b[39m.\u001b[39mpredict(\u001b[39m365\u001b[39m, np\u001b[39m.\u001b[39marange(n_items), user_features\u001b[39m=\u001b[39mnew_user_feature)\n",
      "\u001b[0;31mNameError\u001b[0m: name 'n_items' is not defined"
     ]
    }
   ],
   "source": [
    "scores = model.predict(<индекс интересующего пользователя>, np.arange(n_items), user_features=new_user_feature)"
   ]
  },
  {
   "cell_type": "markdown",
   "metadata": {},
   "source": [
    "## Современные методы: глубокое обучение"
   ]
  },
  {
   "cell_type": "markdown",
   "metadata": {},
   "source": [
    "Глубокое обучение (Deep Learning, DL) — это современное и эффективное решение для многих задач машинного обучения, таких как компьютерное зрение или обработка естественного языка. Deep Learning во многих случаях превосходит классические методы, которые мы рассматривали ранее. Поэтому в последнее время глубокое обучение всё чаще применяется и в рекомендательных системах. Многие крупные компании, такие как AirBnB, Google, Home Depot, LinkedIn и Pinterest, используют рекомендательные системы, построенные именно на основе глубокого обучения.\n",
    "\n",
    "Преимущества использования нейронных сетей:\n",
    "\n",
    "Как правило, DL-модели дают более высокое качество. Стандартные ML-модели проигрывают глубокому обучению, особенно в ситуациях с большим объёмом данных.\n",
    "DL-модели обладают большей гибкостью. В рамках одной модели вы можете получить ответы на такие вопросы, как «Добавит ли пользователь товар в корзину?», «Начнёт ли он оформление заказа с этим товаром?» или «Купит ли он этот товар?».\n",
    "Можно включать в модель данные совершенно разных типов, в т. ч. текстовые данные (используя на них все инструменты NLP) или изображения (используя свёрточные нейронные сети).\n",
    "Существует множество архитектур нейронных сетей, которые можно использовать для разработки рекомендательных систем. Сейчас мы рассмотрим простейшую архитектуру, чтобы в целом разобраться с принципом создания РС с использованием глубокого обучения.\n",
    "\n",
    "Прежде чем погрузиться в архитектуру модели, давайте познакомимся с концепцией эмбеддингов.\n",
    "\n",
    "Эмбеддинг — это пространство низкой размерности, которое отражает взаимосвязь векторов из пространства более высокой размерности.\n",
    "\n",
    "Чтобы лучше понять эту концепцию, давайте рассмотрим пример создания эмбеддингов пользователей.\n",
    "\n",
    "Представим, что у нас есть различные данные о пользователях, которые мы хотим преобразовать в векторы с двумя координатами, отражающие всего две характеристики:\n",
    "\n",
    "степень симпатии к триллерам;\n",
    "степень симпатии к мелодрамам."
   ]
  },
  {
   "cell_type": "markdown",
   "metadata": {},
   "source": [
    "Теперь давайте представим некоторого пользователя Алису. Алиса предпочитает смотреть триллеры и не очень любит мелодрамы. Если в зависимости от её действий и оценок фильмов мы сможем оценить её любовь к триллерам и нелюбовь к мелодрамам в численном эквиваленте, то мы получим вектор, характеризующий предпочтения Алисы в плане жанров:\n",
    "\n",
    "Рассмотрим ещё одного пользователя — Машу. Маша в целом является киноманом, так что примерно одинаково любит и триллеры, и мелодрамы. По аналогии с Алисой попробуем создать вектор, который характеризует предпочтения Маши.\n",
    "\n",
    "Создав такие векторы-представления для всех пользователей, мы получим полный набор эмбеддингов.\n",
    "\n",
    "По сути, эмбеддинги уменьшают размерность данных, оставляя осмысленность в их отображении. При таком преобразовании пользователи, предпочтения которых похожи, находятся рядом в плоскости (или пространстве), а пользователи, предпочтения которых отличаются, находятся далеко друг от друга.\n",
    "\n",
    "Конечно, необязательно использовать для формирования эмбеддинга только два числа — для вектора можно взять любое количество компонент. Причём чем больше будет измерений, тем выше будет точность представления всех особенностей пользователя и, как следствие, выше будет точность модели. Однако следует понимать, что такое увеличение точности происходит за счёт роста сложности модели и увеличения количества времени, необходимого для её обучения.\n",
    "Ровно таким же образом мы можем создать эмбеддинги и для фильмов, отобразив информацию о них в пространство меньшей размерности.\n",
    "\n",
    "Теперь, когда мы разобрались с эмбеддингами, можно переходить к самой архитектуре нейронной сети. Рассмотрим следующий пример архитектуры:\n",
    "\n",
    "В качестве входных данных для нейронной сети мы передаём вектор характеристик пользователя и вектор для фильма (Inputs на схеме выше).\n",
    "\n",
    "Из обоих этих векторов получаются эмбеддинги, о которых мы поговорили ранее (обозначены как Embedded User Vector и Embedded Item Vector). Далее эти эмбеддинги проходят через несколько полносвязных слоёв, на выходе из которых они преобразуются в вектор-предсказание. Например, на схеме выше видно, что вероятность первого класса (показывает, что элемент нерелевантен) — 0.2, а второго (показывает, что элемент релевантен) — 0.8. Следовательно, мы делаем выбор в пользу второго и рекомендуем этот продукт пользователю. Собственно, по такому алгоритму и обучается эта нейронная сеть.\n",
    "\n",
    "Конечно, наше знакомство с глубоким обучением получилось очень поверхностным, но сейчас для вас важно просто понимать его принцип.\n",
    "\n",
    "Давайте разберём несложную задачу, при решении которой мы обучим настоящую нейронную сеть и используем её для создания рекомендаций.\n",
    "Мы будем использовать модуль tensorflow, в котором реализовано много полезных методов для имплементации (внедрения) нейронных сетей. Установим его:\n"
   ]
  },
  {
   "cell_type": "code",
   "execution_count": 119,
   "metadata": {},
   "outputs": [
    {
     "name": "stdout",
     "output_type": "stream",
     "text": [
      "Collecting tensorflow\n",
      "  Downloading tensorflow-2.13.0-cp311-cp311-macosx_12_0_arm64.whl (1.9 kB)\n",
      "Collecting tensorflow-macos==2.13.0 (from tensorflow)\n",
      "  Downloading tensorflow_macos-2.13.0-cp311-cp311-macosx_12_0_arm64.whl (189.3 MB)\n",
      "\u001b[2K     \u001b[90m━━━━━━━━━━━━━━━━━━━━━━━━━━━━━━━━━━━━━━\u001b[0m \u001b[32m189.3/189.3 MB\u001b[0m \u001b[31m14.1 MB/s\u001b[0m eta \u001b[36m0:00:00\u001b[0m00:01\u001b[0m00:01\u001b[0m\n",
      "\u001b[?25hCollecting absl-py>=1.0.0 (from tensorflow-macos==2.13.0->tensorflow)\n",
      "  Downloading absl_py-1.4.0-py3-none-any.whl (126 kB)\n",
      "\u001b[2K     \u001b[90m━━━━━━━━━━━━━━━━━━━━━━━━━━━━━━━━━━━━━━\u001b[0m \u001b[32m126.5/126.5 kB\u001b[0m \u001b[31m12.3 MB/s\u001b[0m eta \u001b[36m0:00:00\u001b[0m\n",
      "\u001b[?25hCollecting astunparse>=1.6.0 (from tensorflow-macos==2.13.0->tensorflow)\n",
      "  Downloading astunparse-1.6.3-py2.py3-none-any.whl (12 kB)\n",
      "Collecting flatbuffers>=23.1.21 (from tensorflow-macos==2.13.0->tensorflow)\n",
      "  Downloading flatbuffers-23.5.26-py2.py3-none-any.whl (26 kB)\n",
      "Collecting gast<=0.4.0,>=0.2.1 (from tensorflow-macos==2.13.0->tensorflow)\n",
      "  Downloading gast-0.4.0-py3-none-any.whl (9.8 kB)\n",
      "Collecting google-pasta>=0.1.1 (from tensorflow-macos==2.13.0->tensorflow)\n",
      "  Downloading google_pasta-0.2.0-py3-none-any.whl (57 kB)\n",
      "\u001b[2K     \u001b[90m━━━━━━━━━━━━━━━━━━━━━━━━━━━━━━━━━━━━━━━━\u001b[0m \u001b[32m57.5/57.5 kB\u001b[0m \u001b[31m6.1 MB/s\u001b[0m eta \u001b[36m0:00:00\u001b[0m\n",
      "\u001b[?25hCollecting h5py>=2.9.0 (from tensorflow-macos==2.13.0->tensorflow)\n",
      "  Downloading h5py-3.9.0-cp311-cp311-macosx_11_0_arm64.whl (2.6 MB)\n",
      "\u001b[2K     \u001b[90m━━━━━━━━━━━━━━━━━━━━━━━━━━━━━━━━━━━━━━━━\u001b[0m \u001b[32m2.6/2.6 MB\u001b[0m \u001b[31m14.2 MB/s\u001b[0m eta \u001b[36m0:00:00\u001b[0ma \u001b[36m0:00:01\u001b[0m\n",
      "\u001b[?25hCollecting libclang>=13.0.0 (from tensorflow-macos==2.13.0->tensorflow)\n",
      "  Downloading libclang-16.0.6-py2.py3-none-macosx_11_0_arm64.whl (20.6 MB)\n",
      "\u001b[2K     \u001b[90m━━━━━━━━━━━━━━━━━━━━━━━━━━━━━━━━━━━━━━━━\u001b[0m \u001b[32m20.6/20.6 MB\u001b[0m \u001b[31m14.6 MB/s\u001b[0m eta \u001b[36m0:00:00\u001b[0m00:01\u001b[0m00:01\u001b[0m\n",
      "\u001b[?25hCollecting numpy<=1.24.3,>=1.22 (from tensorflow-macos==2.13.0->tensorflow)\n",
      "  Downloading numpy-1.24.3-cp311-cp311-macosx_11_0_arm64.whl (13.8 MB)\n",
      "\u001b[2K     \u001b[90m━━━━━━━━━━━━━━━━━━━━━━━━━━━━━━━━━━━━━━━━\u001b[0m \u001b[32m13.8/13.8 MB\u001b[0m \u001b[31m11.4 MB/s\u001b[0m eta \u001b[36m0:00:00\u001b[0m00:01\u001b[0m00:01\u001b[0m\n",
      "\u001b[?25hCollecting opt-einsum>=2.3.2 (from tensorflow-macos==2.13.0->tensorflow)\n",
      "  Downloading opt_einsum-3.3.0-py3-none-any.whl (65 kB)\n",
      "\u001b[2K     \u001b[90m━━━━━━━━━━━━━━━━━━━━━━━━━━━━━━━━━━━━━━━━\u001b[0m \u001b[32m65.5/65.5 kB\u001b[0m \u001b[31m8.7 MB/s\u001b[0m eta \u001b[36m0:00:00\u001b[0m\n",
      "\u001b[?25hRequirement already satisfied: packaging in /Users/egor/anaconda3/lib/python3.11/site-packages (from tensorflow-macos==2.13.0->tensorflow) (23.0)\n",
      "Collecting protobuf!=4.21.0,!=4.21.1,!=4.21.2,!=4.21.3,!=4.21.4,!=4.21.5,<5.0.0dev,>=3.20.3 (from tensorflow-macos==2.13.0->tensorflow)\n",
      "  Downloading protobuf-4.23.4-cp37-abi3-macosx_10_9_universal2.whl (400 kB)\n",
      "\u001b[2K     \u001b[90m━━━━━━━━━━━━━━━━━━━━━━━━━━━━━━━━━━━━━━\u001b[0m \u001b[32m400.3/400.3 kB\u001b[0m \u001b[31m13.1 MB/s\u001b[0m eta \u001b[36m0:00:00\u001b[0m\n",
      "\u001b[?25hRequirement already satisfied: setuptools in /Users/egor/anaconda3/lib/python3.11/site-packages (from tensorflow-macos==2.13.0->tensorflow) (67.8.0)\n",
      "Requirement already satisfied: six>=1.12.0 in /Users/egor/anaconda3/lib/python3.11/site-packages (from tensorflow-macos==2.13.0->tensorflow) (1.16.0)\n",
      "Collecting termcolor>=1.1.0 (from tensorflow-macos==2.13.0->tensorflow)\n",
      "  Downloading termcolor-2.3.0-py3-none-any.whl (6.9 kB)\n",
      "Collecting typing-extensions<4.6.0,>=3.6.6 (from tensorflow-macos==2.13.0->tensorflow)\n",
      "  Downloading typing_extensions-4.5.0-py3-none-any.whl (27 kB)\n",
      "Collecting wrapt>=1.11.0 (from tensorflow-macos==2.13.0->tensorflow)\n",
      "  Downloading wrapt-1.15.0-cp311-cp311-macosx_11_0_arm64.whl (36 kB)\n",
      "Collecting grpcio<2.0,>=1.24.3 (from tensorflow-macos==2.13.0->tensorflow)\n",
      "  Downloading grpcio-1.56.2-cp311-cp311-macosx_10_10_universal2.whl (8.9 MB)\n",
      "\u001b[2K     \u001b[90m━━━━━━━━━━━━━━━━━━━━━━━━━━━━━━━━━━━━━━━━\u001b[0m \u001b[32m8.9/8.9 MB\u001b[0m \u001b[31m10.5 MB/s\u001b[0m eta \u001b[36m0:00:00\u001b[0m00:01\u001b[0m00:01\u001b[0m\n",
      "\u001b[?25hCollecting tensorboard<2.14,>=2.13 (from tensorflow-macos==2.13.0->tensorflow)\n",
      "  Downloading tensorboard-2.13.0-py3-none-any.whl (5.6 MB)\n",
      "\u001b[2K     \u001b[90m━━━━━━━━━━━━━━━━━━━━━━━━━━━━━━━━━━━━━━━━\u001b[0m \u001b[32m5.6/5.6 MB\u001b[0m \u001b[31m21.0 MB/s\u001b[0m eta \u001b[36m0:00:00\u001b[0m00:01\u001b[0m00:01\u001b[0m\n",
      "\u001b[?25hCollecting tensorflow-estimator<2.14,>=2.13.0 (from tensorflow-macos==2.13.0->tensorflow)\n",
      "  Downloading tensorflow_estimator-2.13.0-py2.py3-none-any.whl (440 kB)\n",
      "\u001b[2K     \u001b[90m━━━━━━━━━━━━━━━━━━━━━━━━━━━━━━━━━━━━━━\u001b[0m \u001b[32m440.8/440.8 kB\u001b[0m \u001b[31m15.2 MB/s\u001b[0m eta \u001b[36m0:00:00\u001b[0m\n",
      "\u001b[?25hCollecting keras<2.14,>=2.13.1 (from tensorflow-macos==2.13.0->tensorflow)\n",
      "  Downloading keras-2.13.1-py3-none-any.whl (1.7 MB)\n",
      "\u001b[2K     \u001b[90m━━━━━━━━━━━━━━━━━━━━━━━━━━━━━━━━━━━━━━━━\u001b[0m \u001b[32m1.7/1.7 MB\u001b[0m \u001b[31m19.8 MB/s\u001b[0m eta \u001b[36m0:00:00\u001b[0ma \u001b[36m0:00:01\u001b[0m\n",
      "\u001b[?25hRequirement already satisfied: wheel<1.0,>=0.23.0 in /Users/egor/anaconda3/lib/python3.11/site-packages (from astunparse>=1.6.0->tensorflow-macos==2.13.0->tensorflow) (0.38.4)\n",
      "Collecting google-auth<3,>=1.6.3 (from tensorboard<2.14,>=2.13->tensorflow-macos==2.13.0->tensorflow)\n",
      "  Downloading google_auth-2.22.0-py2.py3-none-any.whl (181 kB)\n",
      "\u001b[2K     \u001b[90m━━━━━━━━━━━━━━━━━━━━━━━━━━━━━━━━━━━━━━\u001b[0m \u001b[32m181.8/181.8 kB\u001b[0m \u001b[31m10.6 MB/s\u001b[0m eta \u001b[36m0:00:00\u001b[0m\n",
      "\u001b[?25hCollecting google-auth-oauthlib<1.1,>=0.5 (from tensorboard<2.14,>=2.13->tensorflow-macos==2.13.0->tensorflow)\n",
      "  Downloading google_auth_oauthlib-1.0.0-py2.py3-none-any.whl (18 kB)\n",
      "Collecting markdown>=2.6.8 (from tensorboard<2.14,>=2.13->tensorflow-macos==2.13.0->tensorflow)\n",
      "  Downloading Markdown-3.4.4-py3-none-any.whl (94 kB)\n",
      "\u001b[2K     \u001b[90m━━━━━━━━━━━━━━━━━━━━━━━━━━━━━━━━━━━━━━━━\u001b[0m \u001b[32m94.2/94.2 kB\u001b[0m \u001b[31m6.1 MB/s\u001b[0m eta \u001b[36m0:00:00\u001b[0m\n",
      "\u001b[?25hRequirement already satisfied: requests<3,>=2.21.0 in /Users/egor/anaconda3/lib/python3.11/site-packages (from tensorboard<2.14,>=2.13->tensorflow-macos==2.13.0->tensorflow) (2.29.0)\n",
      "Collecting tensorboard-data-server<0.8.0,>=0.7.0 (from tensorboard<2.14,>=2.13->tensorflow-macos==2.13.0->tensorflow)\n",
      "  Downloading tensorboard_data_server-0.7.1-py3-none-any.whl (2.4 kB)\n",
      "Collecting werkzeug>=1.0.1 (from tensorboard<2.14,>=2.13->tensorflow-macos==2.13.0->tensorflow)\n",
      "  Downloading Werkzeug-2.3.6-py3-none-any.whl (242 kB)\n",
      "\u001b[2K     \u001b[90m━━━━━━━━━━━━━━━━━━━━━━━━━━━━━━━━━━━━━━\u001b[0m \u001b[32m242.5/242.5 kB\u001b[0m \u001b[31m12.7 MB/s\u001b[0m eta \u001b[36m0:00:00\u001b[0m\n",
      "\u001b[?25hCollecting cachetools<6.0,>=2.0.0 (from google-auth<3,>=1.6.3->tensorboard<2.14,>=2.13->tensorflow-macos==2.13.0->tensorflow)\n",
      "  Downloading cachetools-5.3.1-py3-none-any.whl (9.3 kB)\n",
      "Collecting pyasn1-modules>=0.2.1 (from google-auth<3,>=1.6.3->tensorboard<2.14,>=2.13->tensorflow-macos==2.13.0->tensorflow)\n",
      "  Downloading pyasn1_modules-0.3.0-py2.py3-none-any.whl (181 kB)\n",
      "\u001b[2K     \u001b[90m━━━━━━━━━━━━━━━━━━━━━━━━━━━━━━━━━━━━━━\u001b[0m \u001b[32m181.3/181.3 kB\u001b[0m \u001b[31m16.6 MB/s\u001b[0m eta \u001b[36m0:00:00\u001b[0m\n",
      "\u001b[?25hCollecting rsa<5,>=3.1.4 (from google-auth<3,>=1.6.3->tensorboard<2.14,>=2.13->tensorflow-macos==2.13.0->tensorflow)\n",
      "  Downloading rsa-4.9-py3-none-any.whl (34 kB)\n",
      "Requirement already satisfied: urllib3<2.0 in /Users/egor/anaconda3/lib/python3.11/site-packages (from google-auth<3,>=1.6.3->tensorboard<2.14,>=2.13->tensorflow-macos==2.13.0->tensorflow) (1.26.16)\n",
      "Collecting requests-oauthlib>=0.7.0 (from google-auth-oauthlib<1.1,>=0.5->tensorboard<2.14,>=2.13->tensorflow-macos==2.13.0->tensorflow)\n",
      "  Downloading requests_oauthlib-1.3.1-py2.py3-none-any.whl (23 kB)\n",
      "Requirement already satisfied: charset-normalizer<4,>=2 in /Users/egor/anaconda3/lib/python3.11/site-packages (from requests<3,>=2.21.0->tensorboard<2.14,>=2.13->tensorflow-macos==2.13.0->tensorflow) (2.0.4)\n",
      "Requirement already satisfied: idna<4,>=2.5 in /Users/egor/anaconda3/lib/python3.11/site-packages (from requests<3,>=2.21.0->tensorboard<2.14,>=2.13->tensorflow-macos==2.13.0->tensorflow) (3.4)\n",
      "Requirement already satisfied: certifi>=2017.4.17 in /Users/egor/anaconda3/lib/python3.11/site-packages (from requests<3,>=2.21.0->tensorboard<2.14,>=2.13->tensorflow-macos==2.13.0->tensorflow) (2023.5.7)\n",
      "Requirement already satisfied: MarkupSafe>=2.1.1 in /Users/egor/anaconda3/lib/python3.11/site-packages (from werkzeug>=1.0.1->tensorboard<2.14,>=2.13->tensorflow-macos==2.13.0->tensorflow) (2.1.1)\n",
      "Collecting pyasn1<0.6.0,>=0.4.6 (from pyasn1-modules>=0.2.1->google-auth<3,>=1.6.3->tensorboard<2.14,>=2.13->tensorflow-macos==2.13.0->tensorflow)\n",
      "  Downloading pyasn1-0.5.0-py2.py3-none-any.whl (83 kB)\n",
      "\u001b[2K     \u001b[90m━━━━━━━━━━━━━━━━━━━━━━━━━━━━━━━━━━━━━━━━\u001b[0m \u001b[32m83.9/83.9 kB\u001b[0m \u001b[31m5.2 MB/s\u001b[0m eta \u001b[36m0:00:00\u001b[0m\n",
      "\u001b[?25hCollecting oauthlib>=3.0.0 (from requests-oauthlib>=0.7.0->google-auth-oauthlib<1.1,>=0.5->tensorboard<2.14,>=2.13->tensorflow-macos==2.13.0->tensorflow)\n",
      "  Downloading oauthlib-3.2.2-py3-none-any.whl (151 kB)\n",
      "\u001b[2K     \u001b[90m━━━━━━━━━━━━━━━━━━━━━━━━━━━━━━━━━━━━━━━\u001b[0m \u001b[32m151.7/151.7 kB\u001b[0m \u001b[31m8.8 MB/s\u001b[0m eta \u001b[36m0:00:00\u001b[0m\n",
      "\u001b[?25hInstalling collected packages: libclang, flatbuffers, wrapt, werkzeug, typing-extensions, termcolor, tensorflow-estimator, tensorboard-data-server, pyasn1, protobuf, oauthlib, numpy, markdown, keras, grpcio, google-pasta, gast, cachetools, astunparse, absl-py, rsa, requests-oauthlib, pyasn1-modules, opt-einsum, h5py, google-auth, google-auth-oauthlib, tensorboard, tensorflow-macos, tensorflow\n",
      "  Attempting uninstall: numpy\n",
      "    Found existing installation: numpy 1.25.1\n",
      "    Uninstalling numpy-1.25.1:\n",
      "      Successfully uninstalled numpy-1.25.1\n",
      "Successfully installed absl-py-1.4.0 astunparse-1.6.3 cachetools-5.3.1 flatbuffers-23.5.26 gast-0.4.0 google-auth-2.22.0 google-auth-oauthlib-1.0.0 google-pasta-0.2.0 grpcio-1.56.2 h5py-3.9.0 keras-2.13.1 libclang-16.0.6 markdown-3.4.4 numpy-1.24.3 oauthlib-3.2.2 opt-einsum-3.3.0 protobuf-4.23.4 pyasn1-0.5.0 pyasn1-modules-0.3.0 requests-oauthlib-1.3.1 rsa-4.9 tensorboard-2.13.0 tensorboard-data-server-0.7.1 tensorflow-2.13.0 tensorflow-estimator-2.13.0 tensorflow-macos-2.13.0 termcolor-2.3.0 typing-extensions-4.5.0 werkzeug-2.3.6 wrapt-1.15.0\n"
     ]
    }
   ],
   "source": [
    "!pip install tensorflow\n"
   ]
  },
  {
   "cell_type": "markdown",
   "metadata": {},
   "source": [
    "Для начала импортируем из него функции, которые понадобятся нам для решения задачи:"
   ]
  },
  {
   "cell_type": "code",
   "execution_count": 120,
   "metadata": {},
   "outputs": [],
   "source": [
    "from tensorflow.keras.layers import Input, Embedding, Flatten, Dot, Dense, Concatenate\n",
    "from tensorflow.keras.models import Model"
   ]
  },
  {
   "cell_type": "markdown",
   "metadata": {},
   "source": [
    "Мы будем использовать данные из предыдущего юнита, но лишь те, которые содержат информацию об оценках, выставленных книгам пользователями. Загрузим данные:"
   ]
  },
  {
   "cell_type": "code",
   "execution_count": 121,
   "metadata": {},
   "outputs": [],
   "source": [
    "df = pd.read_csv('data/ratings.csv')"
   ]
  },
  {
   "cell_type": "markdown",
   "metadata": {},
   "source": [
    "Задание 5.1\n",
    "\n",
    "Разбейте данные на обучающую и тестовую выборки в отношении 4:1. В качестве значения параметра random_state возьмите число 42.\n",
    "\n",
    "Сколько объектов теперь находится в обучающей выборке?"
   ]
  },
  {
   "cell_type": "code",
   "execution_count": 125,
   "metadata": {},
   "outputs": [
    {
     "data": {
      "text/plain": [
       "785404"
      ]
     },
     "execution_count": 125,
     "metadata": {},
     "output_type": "execute_result"
    }
   ],
   "source": [
    "from sklearn.model_selection import train_test_split\n",
    "\n",
    "train_df, test_df = train_test_split(df, test_size=0.2, random_state=42)\n",
    "train_df.shape[0]"
   ]
  },
  {
   "cell_type": "markdown",
   "metadata": {},
   "source": [
    "Задание 5.2\n",
    "\n",
    "Запишите количество уникальных книг в переменную n_books.\n",
    "\n",
    "Сколько в наборе данных уникальных книг?"
   ]
  },
  {
   "cell_type": "code",
   "execution_count": 128,
   "metadata": {},
   "outputs": [
    {
     "data": {
      "text/plain": [
       "10000"
      ]
     },
     "execution_count": 128,
     "metadata": {},
     "output_type": "execute_result"
    }
   ],
   "source": [
    "n_books = df.book_id.nunique()\n",
    "n_books"
   ]
  },
  {
   "cell_type": "markdown",
   "metadata": {},
   "source": [
    "Задание 5.3\n",
    "\n",
    "Запишите количество уникальных пользователей в переменную n_users.\n",
    "\n",
    "Сколько в наборе данных уникальных пользователей?"
   ]
  },
  {
   "cell_type": "code",
   "execution_count": 131,
   "metadata": {},
   "outputs": [
    {
     "data": {
      "text/plain": [
       "53424"
      ]
     },
     "execution_count": 131,
     "metadata": {},
     "output_type": "execute_result"
    }
   ],
   "source": [
    "n_users = df.user_id.nunique()\n",
    "n_users"
   ]
  },
  {
   "cell_type": "markdown",
   "metadata": {},
   "source": [
    "В первую очередь нам необходимо создать эмбеддинги для книг и пользователей. Создаём эмбеддинги для книг:"
   ]
  },
  {
   "cell_type": "code",
   "execution_count": 132,
   "metadata": {},
   "outputs": [],
   "source": [
    "book_input = Input(shape=[1], name=\"Book-Input\")\n",
    "book_embedding = Embedding(n_books+1, 5, name=\"Book-Embedding\")(book_input)\n",
    "book_vec = Flatten(name=\"Flatten-Books\")(book_embedding)"
   ]
  },
  {
   "cell_type": "markdown",
   "metadata": {},
   "source": [
    "Сначала мы задаём размерность входного слоя. После этого определяем размер эмбеддинга — в данном случае снижаем размерность до 5. Далее мы разворачиваем результат в массив с одним измерением с помощью слоя Flatten().\n",
    "\n",
    "Делаем то же самое для пользователей:"
   ]
  },
  {
   "cell_type": "code",
   "execution_count": 133,
   "metadata": {},
   "outputs": [],
   "source": [
    "user_input = Input(shape=[1], name=\"User-Input\")\n",
    "user_embedding = Embedding(n_users+1, 5, name=\"User-Embedding\")(user_input)\n",
    "user_vec = Flatten(name=\"Flatten-Users\")(user_embedding)"
   ]
  },
  {
   "cell_type": "markdown",
   "metadata": {},
   "source": [
    "Теперь, когда мы создали представления как для книг, так и для пользователей, нам необходимо соединить их:\n",
    "\n"
   ]
  },
  {
   "cell_type": "code",
   "execution_count": 134,
   "metadata": {},
   "outputs": [],
   "source": [
    "conc = Concatenate()([book_vec, user_vec])\n"
   ]
  },
  {
   "cell_type": "markdown",
   "metadata": {},
   "source": [
    "Далее начинаем «собирать» нашу нейронную сеть из слоёв. Dense обозначает полносвязный слой. Также мы обозначаем для него количество нейронов и данные, которые идут на вход."
   ]
  },
  {
   "cell_type": "code",
   "execution_count": 135,
   "metadata": {},
   "outputs": [],
   "source": [
    "fc1 = Dense(128, activation='relu')(conc)\n",
    "fc2 = Dense(32, activation='relu')(fc1)\n",
    "out = Dense(1)(fc2)"
   ]
  },
  {
   "cell_type": "markdown",
   "metadata": {},
   "source": [
    "Собираем модель — передаём входные данные для книг и пользователей, а также архитектуру нейронной сети:\n",
    "\n"
   ]
  },
  {
   "cell_type": "code",
   "execution_count": 136,
   "metadata": {},
   "outputs": [],
   "source": [
    "model2 = Model([user_input, book_input], out)\n"
   ]
  },
  {
   "cell_type": "markdown",
   "metadata": {},
   "source": [
    "\n",
    "Также нам необходимо задать алгоритм оптимизации и метрику, которую мы будем оптимизировать. В данном случае будем использовать метод adam и хорошо известную вам среднеквадратичную ошибку:"
   ]
  },
  {
   "cell_type": "code",
   "execution_count": 137,
   "metadata": {},
   "outputs": [],
   "source": [
    "model2.compile(optimizer = 'adam',loss =  'mean_squared_error')"
   ]
  },
  {
   "cell_type": "markdown",
   "metadata": {},
   "source": [
    "Теперь будем обучать нашу модель:"
   ]
  },
  {
   "cell_type": "code",
   "execution_count": 139,
   "metadata": {},
   "outputs": [
    {
     "name": "stdout",
     "output_type": "stream",
     "text": [
      "Epoch 1/5\n",
      "24544/24544 [==============================] - 40s 2ms/step - loss: 0.7984\n",
      "Epoch 2/5\n",
      "24544/24544 [==============================] - 40s 2ms/step - loss: 0.6870\n",
      "Epoch 3/5\n",
      "24544/24544 [==============================] - 40s 2ms/step - loss: 0.6551\n",
      "Epoch 4/5\n",
      "24544/24544 [==============================] - 40s 2ms/step - loss: 0.6296\n",
      "Epoch 5/5\n",
      "24544/24544 [==============================] - 40s 2ms/step - loss: 0.6072\n"
     ]
    }
   ],
   "source": [
    "history = model2.fit([train_df.user_id, train_df.book_id], train_df.rating, epochs=5, verbose=1)"
   ]
  },
  {
   "cell_type": "markdown",
   "metadata": {},
   "source": [
    "В параметр эпох передаём значение 5: у нас будет реализовано пять эпох — пять обучений нейронной сети. На каждой из эпох обновляются веса для минимизации ошибки.\n",
    "\n",
    "Теперь можно оценить качество:"
   ]
  },
  {
   "cell_type": "code",
   "execution_count": 140,
   "metadata": {},
   "outputs": [
    {
     "name": "stdout",
     "output_type": "stream",
     "text": [
      "6136/6136 [==============================] - 2s 344us/step - loss: 0.7106\n"
     ]
    },
    {
     "data": {
      "text/plain": [
       "0.7105711102485657"
      ]
     },
     "execution_count": 140,
     "metadata": {},
     "output_type": "execute_result"
    }
   ],
   "source": [
    "model2.evaluate([test_df.user_id, test_df.book_id], test_df.rating)\n"
   ]
  },
  {
   "cell_type": "markdown",
   "metadata": {},
   "source": [
    "Примечание. К сожалению, результаты этого алгоритма нельзя зафиксировать стандартным ramdom_state, к которому мы привыкли: применяемые методы не используют такой параметр. Поэтому мы опустим здесь сравнение результатов, однако посмотрим, как можно настроить нейронную сеть.\n",
    "\n",
    "Обычно для улучшения качества модели каким-то образом модифицируют нейронную сеть: дополняют её, увеличивают время обучения. Добавим ещё один полносвязный слой с восемью нейронами после полносвязного слоя с 32 нейронами. Обучим нейронную сеть, реализовав десять эпох:"
   ]
  },
  {
   "cell_type": "code",
   "execution_count": 142,
   "metadata": {},
   "outputs": [
    {
     "name": "stdout",
     "output_type": "stream",
     "text": [
      "Epoch 1/10\n",
      "24544/24544 [==============================] - 38s 2ms/step - loss: 0.6446\n",
      "Epoch 2/10\n",
      "24544/24544 [==============================] - 38s 2ms/step - loss: 0.5744\n",
      "Epoch 3/10\n",
      "24544/24544 [==============================] - 38s 2ms/step - loss: 0.5550\n",
      "Epoch 4/10\n",
      "24544/24544 [==============================] - 37s 2ms/step - loss: 0.5376\n",
      "Epoch 5/10\n",
      "24544/24544 [==============================] - 37s 2ms/step - loss: 0.5232\n",
      "Epoch 6/10\n",
      "24544/24544 [==============================] - 37s 2ms/step - loss: 0.5113\n",
      "Epoch 7/10\n",
      "24544/24544 [==============================] - 38s 2ms/step - loss: 0.5014\n",
      "Epoch 8/10\n",
      "24544/24544 [==============================] - 38s 2ms/step - loss: 0.4928\n",
      "Epoch 9/10\n",
      "24544/24544 [==============================] - 39s 2ms/step - loss: 0.4856\n",
      "Epoch 10/10\n",
      "24544/24544 [==============================] - 39s 2ms/step - loss: 0.4792\n",
      "6136/6136 [==============================] - 2s 303us/step - loss: 0.7818\n"
     ]
    },
    {
     "data": {
      "text/plain": [
       "0.7818419933319092"
      ]
     },
     "execution_count": 142,
     "metadata": {},
     "output_type": "execute_result"
    }
   ],
   "source": [
    "fc1 = Dense(128, activation='relu')(conc)\n",
    "fc2 = Dense(32, activation='relu')(fc1)\n",
    "fc3 = Dense(8, activation='relu')(fc2)\n",
    "out = Dense(1)(fc3)\n",
    "\n",
    "model2 = Model([user_input, book_input], out)\n",
    "model2.compile('adam', 'mean_squared_error')\n",
    "result = model2.fit([train_df.user_id, train_df.book_id], train_df.rating, epochs=10, verbose=1)\n",
    "model2.evaluate([test_df.user_id, test_df.book_id], test_df.rating)"
   ]
  },
  {
   "cell_type": "markdown",
   "metadata": {},
   "source": [
    "Качество получившейся модели не будет выше качества предыдущей, так как усложнение сети или увеличение количества эпох не всегда даёт высокое качество. Здесь главное, что вы научились корректировать архитектуру нейронной сети.\n",
    "\n"
   ]
  },
  {
   "cell_type": "markdown",
   "metadata": {},
   "source": []
  }
 ],
 "metadata": {
  "kernelspec": {
   "display_name": "base",
   "language": "python",
   "name": "python3"
  },
  "language_info": {
   "codemirror_mode": {
    "name": "ipython",
    "version": 3
   },
   "file_extension": ".py",
   "mimetype": "text/x-python",
   "name": "python",
   "nbconvert_exporter": "python",
   "pygments_lexer": "ipython3",
   "version": "3.11.4"
  },
  "orig_nbformat": 4
 },
 "nbformat": 4,
 "nbformat_minor": 2
}
