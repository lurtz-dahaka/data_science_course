{
  "cells": [
    {
      "cell_type": "code",
      "execution_count": 2,
      "metadata": {
        "id": "zSz6-3nBi8B8"
      },
      "outputs": [],
      "source": [
        "import numpy as np #для матричных вычислений\n",
        "import pandas as pd #для анализа и предобработки данных\n",
        "import matplotlib.pyplot as plt #для визуализации\n",
        "import seaborn as sns #для визуализации\n",
        "\n",
        "from sklearn import linear_model #линейные моделиё\n",
        "from sklearn import tree #деревья решений\n",
        "from sklearn import metrics #метрики\n",
        "from sklearn import model_selection #методы разделения и валидации\n",
        "from sklearn.model_selection import train_test_split #сплитование выборки\n",
        "from sklearn.model_selection import GridSearchCV \n",
        "from sklearn.model_selection import RandomizedSearchCV\n",
        "from sklearn import ensemble #ансамбли"
      ]
    },
    {
      "cell_type": "code",
      "execution_count": 3,
      "metadata": {
        "colab": {
          "base_uri": "https://localhost:8080/"
        },
        "id": "CbJTO6LAjH84",
        "outputId": "789fe58f-114a-4cb9-a12a-aba578c88b84"
      },
      "outputs": [
        {
          "name": "stdout",
          "output_type": "stream",
          "text": [
            "Drive already mounted at /content/drive; to attempt to forcibly remount, call drive.mount(\"/content/drive\", force_remount=True).\n"
          ]
        }
      ],
      "source": [
        "from google.colab import drive\n",
        "drive.mount('/content/drive')"
      ]
    },
    {
      "cell_type": "markdown",
      "metadata": {
        "id": "xqeDujMclGvl"
      },
      "source": [
        "Lets read the file"
      ]
    },
    {
      "cell_type": "code",
      "execution_count": 4,
      "metadata": {
        "colab": {
          "base_uri": "https://localhost:8080/",
          "height": 300
        },
        "id": "qf-vZQcSjkHb",
        "outputId": "a7d07cee-f977-4be4-a3d8-accec58d395a"
      },
      "outputs": [
        {
          "data": {
            "text/html": [
              "\n",
              "  <div id=\"df-88735757-946b-4ebd-99f0-025a9a430445\">\n",
              "    <div class=\"colab-df-container\">\n",
              "      <div>\n",
              "<style scoped>\n",
              "    .dataframe tbody tr th:only-of-type {\n",
              "        vertical-align: middle;\n",
              "    }\n",
              "\n",
              "    .dataframe tbody tr th {\n",
              "        vertical-align: top;\n",
              "    }\n",
              "\n",
              "    .dataframe thead th {\n",
              "        text-align: right;\n",
              "    }\n",
              "</style>\n",
              "<table border=\"1\" class=\"dataframe\">\n",
              "  <thead>\n",
              "    <tr style=\"text-align: right;\">\n",
              "      <th></th>\n",
              "      <th>Activity</th>\n",
              "      <th>D1</th>\n",
              "      <th>D2</th>\n",
              "      <th>D3</th>\n",
              "      <th>D4</th>\n",
              "      <th>D5</th>\n",
              "      <th>D6</th>\n",
              "      <th>D7</th>\n",
              "      <th>D8</th>\n",
              "      <th>D9</th>\n",
              "      <th>...</th>\n",
              "      <th>D1767</th>\n",
              "      <th>D1768</th>\n",
              "      <th>D1769</th>\n",
              "      <th>D1770</th>\n",
              "      <th>D1771</th>\n",
              "      <th>D1772</th>\n",
              "      <th>D1773</th>\n",
              "      <th>D1774</th>\n",
              "      <th>D1775</th>\n",
              "      <th>D1776</th>\n",
              "    </tr>\n",
              "  </thead>\n",
              "  <tbody>\n",
              "    <tr>\n",
              "      <th>0</th>\n",
              "      <td>1</td>\n",
              "      <td>0.000000</td>\n",
              "      <td>0.497009</td>\n",
              "      <td>0.10</td>\n",
              "      <td>0.0</td>\n",
              "      <td>0.132956</td>\n",
              "      <td>0.678031</td>\n",
              "      <td>0.273166</td>\n",
              "      <td>0.585445</td>\n",
              "      <td>0.743663</td>\n",
              "      <td>...</td>\n",
              "      <td>0</td>\n",
              "      <td>0</td>\n",
              "      <td>0</td>\n",
              "      <td>0</td>\n",
              "      <td>0</td>\n",
              "      <td>0</td>\n",
              "      <td>0</td>\n",
              "      <td>0</td>\n",
              "      <td>0</td>\n",
              "      <td>0</td>\n",
              "    </tr>\n",
              "    <tr>\n",
              "      <th>1</th>\n",
              "      <td>1</td>\n",
              "      <td>0.366667</td>\n",
              "      <td>0.606291</td>\n",
              "      <td>0.05</td>\n",
              "      <td>0.0</td>\n",
              "      <td>0.111209</td>\n",
              "      <td>0.803455</td>\n",
              "      <td>0.106105</td>\n",
              "      <td>0.411754</td>\n",
              "      <td>0.836582</td>\n",
              "      <td>...</td>\n",
              "      <td>1</td>\n",
              "      <td>1</td>\n",
              "      <td>1</td>\n",
              "      <td>1</td>\n",
              "      <td>0</td>\n",
              "      <td>1</td>\n",
              "      <td>0</td>\n",
              "      <td>0</td>\n",
              "      <td>1</td>\n",
              "      <td>0</td>\n",
              "    </tr>\n",
              "    <tr>\n",
              "      <th>2</th>\n",
              "      <td>1</td>\n",
              "      <td>0.033300</td>\n",
              "      <td>0.480124</td>\n",
              "      <td>0.00</td>\n",
              "      <td>0.0</td>\n",
              "      <td>0.209791</td>\n",
              "      <td>0.610350</td>\n",
              "      <td>0.356453</td>\n",
              "      <td>0.517720</td>\n",
              "      <td>0.679051</td>\n",
              "      <td>...</td>\n",
              "      <td>0</td>\n",
              "      <td>0</td>\n",
              "      <td>0</td>\n",
              "      <td>0</td>\n",
              "      <td>0</td>\n",
              "      <td>0</td>\n",
              "      <td>0</td>\n",
              "      <td>0</td>\n",
              "      <td>0</td>\n",
              "      <td>0</td>\n",
              "    </tr>\n",
              "    <tr>\n",
              "      <th>3</th>\n",
              "      <td>1</td>\n",
              "      <td>0.000000</td>\n",
              "      <td>0.538825</td>\n",
              "      <td>0.00</td>\n",
              "      <td>0.5</td>\n",
              "      <td>0.196344</td>\n",
              "      <td>0.724230</td>\n",
              "      <td>0.235606</td>\n",
              "      <td>0.288764</td>\n",
              "      <td>0.805110</td>\n",
              "      <td>...</td>\n",
              "      <td>0</td>\n",
              "      <td>0</td>\n",
              "      <td>0</td>\n",
              "      <td>0</td>\n",
              "      <td>0</td>\n",
              "      <td>0</td>\n",
              "      <td>0</td>\n",
              "      <td>0</td>\n",
              "      <td>0</td>\n",
              "      <td>0</td>\n",
              "    </tr>\n",
              "    <tr>\n",
              "      <th>4</th>\n",
              "      <td>0</td>\n",
              "      <td>0.100000</td>\n",
              "      <td>0.517794</td>\n",
              "      <td>0.00</td>\n",
              "      <td>0.0</td>\n",
              "      <td>0.494734</td>\n",
              "      <td>0.781422</td>\n",
              "      <td>0.154361</td>\n",
              "      <td>0.303809</td>\n",
              "      <td>0.812646</td>\n",
              "      <td>...</td>\n",
              "      <td>0</td>\n",
              "      <td>0</td>\n",
              "      <td>0</td>\n",
              "      <td>0</td>\n",
              "      <td>0</td>\n",
              "      <td>0</td>\n",
              "      <td>0</td>\n",
              "      <td>0</td>\n",
              "      <td>0</td>\n",
              "      <td>0</td>\n",
              "    </tr>\n",
              "  </tbody>\n",
              "</table>\n",
              "<p>5 rows × 1777 columns</p>\n",
              "</div>\n",
              "      <button class=\"colab-df-convert\" onclick=\"convertToInteractive('df-88735757-946b-4ebd-99f0-025a9a430445')\"\n",
              "              title=\"Convert this dataframe to an interactive table.\"\n",
              "              style=\"display:none;\">\n",
              "        \n",
              "  <svg xmlns=\"http://www.w3.org/2000/svg\" height=\"24px\"viewBox=\"0 0 24 24\"\n",
              "       width=\"24px\">\n",
              "    <path d=\"M0 0h24v24H0V0z\" fill=\"none\"/>\n",
              "    <path d=\"M18.56 5.44l.94 2.06.94-2.06 2.06-.94-2.06-.94-.94-2.06-.94 2.06-2.06.94zm-11 1L8.5 8.5l.94-2.06 2.06-.94-2.06-.94L8.5 2.5l-.94 2.06-2.06.94zm10 10l.94 2.06.94-2.06 2.06-.94-2.06-.94-.94-2.06-.94 2.06-2.06.94z\"/><path d=\"M17.41 7.96l-1.37-1.37c-.4-.4-.92-.59-1.43-.59-.52 0-1.04.2-1.43.59L10.3 9.45l-7.72 7.72c-.78.78-.78 2.05 0 2.83L4 21.41c.39.39.9.59 1.41.59.51 0 1.02-.2 1.41-.59l7.78-7.78 2.81-2.81c.8-.78.8-2.07 0-2.86zM5.41 20L4 18.59l7.72-7.72 1.47 1.35L5.41 20z\"/>\n",
              "  </svg>\n",
              "      </button>\n",
              "      \n",
              "  <style>\n",
              "    .colab-df-container {\n",
              "      display:flex;\n",
              "      flex-wrap:wrap;\n",
              "      gap: 12px;\n",
              "    }\n",
              "\n",
              "    .colab-df-convert {\n",
              "      background-color: #E8F0FE;\n",
              "      border: none;\n",
              "      border-radius: 50%;\n",
              "      cursor: pointer;\n",
              "      display: none;\n",
              "      fill: #1967D2;\n",
              "      height: 32px;\n",
              "      padding: 0 0 0 0;\n",
              "      width: 32px;\n",
              "    }\n",
              "\n",
              "    .colab-df-convert:hover {\n",
              "      background-color: #E2EBFA;\n",
              "      box-shadow: 0px 1px 2px rgba(60, 64, 67, 0.3), 0px 1px 3px 1px rgba(60, 64, 67, 0.15);\n",
              "      fill: #174EA6;\n",
              "    }\n",
              "\n",
              "    [theme=dark] .colab-df-convert {\n",
              "      background-color: #3B4455;\n",
              "      fill: #D2E3FC;\n",
              "    }\n",
              "\n",
              "    [theme=dark] .colab-df-convert:hover {\n",
              "      background-color: #434B5C;\n",
              "      box-shadow: 0px 1px 3px 1px rgba(0, 0, 0, 0.15);\n",
              "      filter: drop-shadow(0px 1px 2px rgba(0, 0, 0, 0.3));\n",
              "      fill: #FFFFFF;\n",
              "    }\n",
              "  </style>\n",
              "\n",
              "      <script>\n",
              "        const buttonEl =\n",
              "          document.querySelector('#df-88735757-946b-4ebd-99f0-025a9a430445 button.colab-df-convert');\n",
              "        buttonEl.style.display =\n",
              "          google.colab.kernel.accessAllowed ? 'block' : 'none';\n",
              "\n",
              "        async function convertToInteractive(key) {\n",
              "          const element = document.querySelector('#df-88735757-946b-4ebd-99f0-025a9a430445');\n",
              "          const dataTable =\n",
              "            await google.colab.kernel.invokeFunction('convertToInteractive',\n",
              "                                                     [key], {});\n",
              "          if (!dataTable) return;\n",
              "\n",
              "          const docLinkHtml = 'Like what you see? Visit the ' +\n",
              "            '<a target=\"_blank\" href=https://colab.research.google.com/notebooks/data_table.ipynb>data table notebook</a>'\n",
              "            + ' to learn more about interactive tables.';\n",
              "          element.innerHTML = '';\n",
              "          dataTable['output_type'] = 'display_data';\n",
              "          await google.colab.output.renderOutput(dataTable, element);\n",
              "          const docLink = document.createElement('div');\n",
              "          docLink.innerHTML = docLinkHtml;\n",
              "          element.appendChild(docLink);\n",
              "        }\n",
              "      </script>\n",
              "    </div>\n",
              "  </div>\n",
              "  "
            ],
            "text/plain": [
              "   Activity        D1        D2    D3   D4        D5        D6        D7  \\\n",
              "0         1  0.000000  0.497009  0.10  0.0  0.132956  0.678031  0.273166   \n",
              "1         1  0.366667  0.606291  0.05  0.0  0.111209  0.803455  0.106105   \n",
              "2         1  0.033300  0.480124  0.00  0.0  0.209791  0.610350  0.356453   \n",
              "3         1  0.000000  0.538825  0.00  0.5  0.196344  0.724230  0.235606   \n",
              "4         0  0.100000  0.517794  0.00  0.0  0.494734  0.781422  0.154361   \n",
              "\n",
              "         D8        D9  ...  D1767  D1768  D1769  D1770  D1771  D1772  D1773  \\\n",
              "0  0.585445  0.743663  ...      0      0      0      0      0      0      0   \n",
              "1  0.411754  0.836582  ...      1      1      1      1      0      1      0   \n",
              "2  0.517720  0.679051  ...      0      0      0      0      0      0      0   \n",
              "3  0.288764  0.805110  ...      0      0      0      0      0      0      0   \n",
              "4  0.303809  0.812646  ...      0      0      0      0      0      0      0   \n",
              "\n",
              "   D1774  D1775  D1776  \n",
              "0      0      0      0  \n",
              "1      0      1      0  \n",
              "2      0      0      0  \n",
              "3      0      0      0  \n",
              "4      0      0      0  \n",
              "\n",
              "[5 rows x 1777 columns]"
            ]
          },
          "execution_count": 4,
          "metadata": {},
          "output_type": "execute_result"
        }
      ],
      "source": [
        "data = pd.read_csv('/content/drive/MyDrive/_train_sem09 (1).csv')\n",
        "data.head()"
      ]
    },
    {
      "cell_type": "markdown",
      "metadata": {
        "id": "0dbPCZbJlN83"
      },
      "source": [
        "Checking information about columns and data types"
      ]
    },
    {
      "cell_type": "code",
      "execution_count": 5,
      "metadata": {
        "colab": {
          "base_uri": "https://localhost:8080/"
        },
        "id": "xYDlINLhjtPe",
        "outputId": "1c5e505e-3275-4401-aa40-77083aec80fc"
      },
      "outputs": [
        {
          "name": "stdout",
          "output_type": "stream",
          "text": [
            "<class 'pandas.core.frame.DataFrame'>\n",
            "RangeIndex: 3751 entries, 0 to 3750\n",
            "Columns: 1777 entries, Activity to D1776\n",
            "dtypes: float64(942), int64(835)\n",
            "memory usage: 50.9 MB\n"
          ]
        }
      ],
      "source": [
        "data.info()"
      ]
    },
    {
      "cell_type": "markdown",
      "metadata": {
        "id": "hXf-E5t1lbOk"
      },
      "source": [
        "Looking for missing values"
      ]
    },
    {
      "cell_type": "code",
      "execution_count": 6,
      "metadata": {
        "colab": {
          "base_uri": "https://localhost:8080/"
        },
        "id": "QY16sV7fjzxb",
        "outputId": "3827a098-2238-4f0b-c769-7aec08d2b899"
      },
      "outputs": [
        {
          "data": {
            "text/plain": [
              "Activity    0\n",
              "D1190       0\n",
              "D1189       0\n",
              "D1188       0\n",
              "D1187       0\n",
              "           ..\n",
              "D586        0\n",
              "D585        0\n",
              "D584        0\n",
              "D595        0\n",
              "D1776       0\n",
              "Length: 1777, dtype: int64"
            ]
          },
          "execution_count": 6,
          "metadata": {},
          "output_type": "execute_result"
        }
      ],
      "source": [
        "data.isna().sum().sort_values()"
      ]
    },
    {
      "cell_type": "markdown",
      "metadata": {
        "id": "5myBIawGlsG7"
      },
      "source": [
        "The number of 1 and 0 values in our target column is not equal. It would be better to stratify the split."
      ]
    },
    {
      "cell_type": "code",
      "execution_count": 7,
      "metadata": {
        "colab": {
          "base_uri": "https://localhost:8080/"
        },
        "id": "8iyA0XbDkz7M",
        "outputId": "a037f141-570f-4706-8388-d160a66846ad"
      },
      "outputs": [
        {
          "data": {
            "text/plain": [
              "1    2034\n",
              "0    1717\n",
              "Name: Activity, dtype: int64"
            ]
          },
          "execution_count": 7,
          "metadata": {},
          "output_type": "execute_result"
        }
      ],
      "source": [
        "data['Activity'].value_counts()"
      ]
    },
    {
      "cell_type": "markdown",
      "metadata": {
        "id": "_MEIMnxfmSOM"
      },
      "source": [
        "Creating matrix of observations X and vector of  answers y"
      ]
    },
    {
      "cell_type": "code",
      "execution_count": 8,
      "metadata": {
        "id": "kobHV3qnj5dK"
      },
      "outputs": [],
      "source": [
        "X = data.drop(columns='Activity')\n",
        "y = data['Activity']"
      ]
    },
    {
      "cell_type": "code",
      "execution_count": 9,
      "metadata": {
        "id": "pZ0w1hdwoS7S"
      },
      "outputs": [],
      "source": [
        "X_train, X_test, y_train, y_test = train_test_split(X, y, stratify=y, random_state = 42, test_size = 0.2)"
      ]
    },
    {
      "cell_type": "markdown",
      "metadata": {
        "id": "eH9jqjKvnjaZ"
      },
      "source": [
        "# Logistic regression"
      ]
    },
    {
      "attachments": {},
      "cell_type": "markdown",
      "metadata": {},
      "source": [
        "Basic logistic regression model"
      ]
    },
    {
      "cell_type": "code",
      "execution_count": 10,
      "metadata": {
        "colab": {
          "base_uri": "https://localhost:8080/"
        },
        "id": "AXDhj1NuktmX",
        "outputId": "3ecbed1b-57f7-4462-d9ef-52fc655d3fc4"
      },
      "outputs": [
        {
          "name": "stdout",
          "output_type": "stream",
          "text": [
            "Accuracy score on test data: 0.75\n",
            "F-1 score on test data: 0.78\n"
          ]
        }
      ],
      "source": [
        "log_reg = linear_model.LogisticRegression(max_iter=1000, random_state=42)\n",
        "log_reg.fit(X_train, y_train)\n",
        "y_test_pred = log_reg.predict(X_test)\n",
        "print(f'Accuracy score on test data: {round(log_reg.score(X_test, y_test), 2)}')\n",
        "print(f'F-1 score on test data: {round(metrics.f1_score(y_test, y_test_pred), 2)}')"
      ]
    },
    {
      "cell_type": "markdown",
      "metadata": {
        "id": "PLpeKTR9u8xS"
      },
      "source": [
        "### GridSearchCV"
      ]
    },
    {
      "attachments": {},
      "cell_type": "markdown",
      "metadata": {},
      "source": [
        "Testing grid search"
      ]
    },
    {
      "cell_type": "code",
      "execution_count": 11,
      "metadata": {
        "colab": {
          "base_uri": "https://localhost:8080/"
        },
        "id": "0pAcpBh1u482",
        "outputId": "f106cc49-2e0b-46cb-b69a-39e94cf07e98"
      },
      "outputs": [
        {
          "name": "stdout",
          "output_type": "stream",
          "text": [
            "CPU times: user 7.88 s, sys: 1.45 s, total: 9.33 s\n",
            "Wall time: 8min 20s\n",
            "Accuracy score on test data: 0.75\n",
            "F-1 score on test data: 0.78\n",
            "Best values of hyperparameters: {'penalty': 'l2', 'solver': 'lbfgs'}\n"
          ]
        }
      ],
      "source": [
        "param_grid = {'penalty': ['l2', 'none'],\n",
        "              'solver': ['lbfgs', 'saga']\n",
        "              }\n",
        "\n",
        "grid_search = GridSearchCV(\n",
        "    estimator=log_reg,\n",
        "    param_grid=param_grid,\n",
        "    cv=5,\n",
        "    n_jobs=-1\n",
        ")\n",
        "\n",
        "%time grid_search.fit(X_train, y_train) \n",
        "print(f'Accuracy score on test data: {round(grid_search.score(X_test, y_test), 2)}')\n",
        "y_test_pred = grid_search.predict(X_test)\n",
        "print(f'F-1 score on test data: {round(metrics.f1_score(y_test, y_test_pred), 2)}')\n",
        "print(f'Best values of hyperparameters: {grid_search.best_params_}')"
      ]
    },
    {
      "cell_type": "code",
      "execution_count": 12,
      "metadata": {
        "colab": {
          "base_uri": "https://localhost:8080/"
        },
        "id": "HWGVFBcOxLYQ",
        "outputId": "4767c10d-3c23-4dfe-cca0-603c2f46ad25"
      },
      "outputs": [
        {
          "name": "stdout",
          "output_type": "stream",
          "text": [
            "Наилучшая модель:\n",
            "LogisticRegression(max_iter=1000, random_state=42)\n"
          ]
        }
      ],
      "source": [
        "print(f'Наилучшая модель:\\n{grid_search.best_estimator_}')"
      ]
    },
    {
      "attachments": {},
      "cell_type": "markdown",
      "metadata": {},
      "source": [
        "No luck in finding better parameters in this case."
      ]
    },
    {
      "cell_type": "markdown",
      "metadata": {
        "id": "XtdBhJQi2w1d"
      },
      "source": [
        "### RandomizedSearchCV"
      ]
    },
    {
      "cell_type": "code",
      "execution_count": 13,
      "metadata": {
        "colab": {
          "base_uri": "https://localhost:8080/"
        },
        "id": "L3gzHvHJ28-Y",
        "outputId": "38061f5f-7f47-4326-f45e-bc9cf8586e9b"
      },
      "outputs": [
        {
          "name": "stdout",
          "output_type": "stream",
          "text": [
            "CPU times: user 4.93 s, sys: 678 ms, total: 5.6 s\n",
            "Wall time: 15min 39s\n",
            "Accuracy score on test data: 0.75\n",
            "F-1 score on test data: 0.78\n",
            "Best values of hyperparameters: {'solver': 'liblinear', 'penalty': 'l1', 'C': 0.23}\n"
          ]
        }
      ],
      "source": [
        "param_distributions = {'penalty': ['l1', 'l2'] ,\n",
        "              'solver': ['liblinear', 'saga'],\n",
        "              'C': list(np.linspace(0.01, 1, 10, dtype=float))}\n",
        "\n",
        "random_search = RandomizedSearchCV(\n",
        "    estimator=log_reg,\n",
        "    param_distributions=param_distributions,\n",
        "    cv=5,\n",
        "    n_iter=10,\n",
        "    n_jobs=-1\n",
        ")\n",
        "%time random_search.fit(X_train, y_train)\n",
        "print(f'Accuracy score on test data: {round(random_search.score(X_test, y_test), 2)}')\n",
        "y_test_pred = random_search.predict(X_test)\n",
        "print(f'F-1 score on test data: {round(metrics.f1_score(y_test, y_test_pred), 2)}')\n",
        "print(f'Best values of hyperparameters: {random_search.best_params_}')"
      ]
    },
    {
      "attachments": {},
      "cell_type": "markdown",
      "metadata": {},
      "source": [
        "Randomized search didn't work as well."
      ]
    },
    {
      "cell_type": "markdown",
      "metadata": {
        "id": "oxKLAuDhanov"
      },
      "source": [
        "# Random Forest"
      ]
    },
    {
      "cell_type": "code",
      "execution_count": 24,
      "metadata": {
        "colab": {
          "base_uri": "https://localhost:8080/"
        },
        "id": "r7CYb2T4a4kg",
        "outputId": "5771cae9-4a2e-41ce-cc4c-0cfa5d365d02"
      },
      "outputs": [
        {
          "name": "stdout",
          "output_type": "stream",
          "text": [
            "Accuracy score on test data: 0.79\n",
            "F-1 score on test data: 0.8\n"
          ]
        }
      ],
      "source": [
        "rf = ensemble.RandomForestClassifier(random_state=42)\n",
        "rf.fit(X_train, y_train)\n",
        "y_test_pred = rf.predict(X_test)\n",
        "print(f'Accuracy score on test data: {round(rf.score(X_test, y_test), 2)}')\n",
        "print(f'F-1 score on test data: {round(metrics.f1_score(y_test, y_test_pred), 2)}')"
      ]
    },
    {
      "attachments": {},
      "cell_type": "markdown",
      "metadata": {},
      "source": [
        "Basic random forest showed better result that logistic regression with optimized hyperparameters"
      ]
    },
    {
      "cell_type": "markdown",
      "metadata": {
        "id": "0Ol8aoAY5wGG"
      },
      "source": [
        "### Hyperopt"
      ]
    },
    {
      "cell_type": "code",
      "execution_count": 14,
      "metadata": {
        "colab": {
          "base_uri": "https://localhost:8080/"
        },
        "id": "inhRa5-r5y67",
        "outputId": "11dcfe87-4ae8-4dbb-b6bc-9d1dfcc6edc8"
      },
      "outputs": [
        {
          "name": "stdout",
          "output_type": "stream",
          "text": [
            "Looking in indexes: https://pypi.org/simple, https://us-python.pkg.dev/colab-wheels/public/simple/\n",
            "Requirement already satisfied: hyperopt in /usr/local/lib/python3.8/dist-packages (0.1.2)\n",
            "Requirement already satisfied: pymongo in /usr/local/lib/python3.8/dist-packages (from hyperopt) (4.3.3)\n",
            "Requirement already satisfied: networkx in /usr/local/lib/python3.8/dist-packages (from hyperopt) (3.0)\n",
            "Requirement already satisfied: tqdm in /usr/local/lib/python3.8/dist-packages (from hyperopt) (4.64.1)\n",
            "Requirement already satisfied: future in /usr/local/lib/python3.8/dist-packages (from hyperopt) (0.16.0)\n",
            "Requirement already satisfied: scipy in /usr/local/lib/python3.8/dist-packages (from hyperopt) (1.7.3)\n",
            "Requirement already satisfied: numpy in /usr/local/lib/python3.8/dist-packages (from hyperopt) (1.21.6)\n",
            "Requirement already satisfied: six in /usr/local/lib/python3.8/dist-packages (from hyperopt) (1.15.0)\n",
            "Requirement already satisfied: dnspython<3.0.0,>=1.16.0 in /usr/local/lib/python3.8/dist-packages (from pymongo->hyperopt) (2.3.0)\n",
            "Версия Hyperopt : 0.2\n"
          ]
        }
      ],
      "source": [
        "!pip install hyperopt\n",
        "from sklearn.model_selection import cross_val_score\n",
        "import hyperopt\n",
        "from hyperopt import hp, fmin, tpe, Trials\n",
        "print(\"Версия Hyperopt : {}\".format(hyperopt.__version__))"
      ]
    },
    {
      "cell_type": "code",
      "execution_count": 25,
      "metadata": {
        "id": "c170E5vY9G-M"
      },
      "outputs": [],
      "source": [
        "space={'n_estimators': hp.quniform('n_estimators', 100, 200, 1),\n",
        "       'max_depth' : hp.quniform('max_depth', 15, 26, 1),\n",
        "       'min_samples_leaf': hp.quniform('min_samples_leaf', 2, 10, 1)\n",
        "      }"
      ]
    },
    {
      "cell_type": "code",
      "execution_count": 26,
      "metadata": {
        "id": "cNA4KwLI9LvO"
      },
      "outputs": [],
      "source": [
        "random_state = 42\n",
        "def hyperopt_rf(params, cv=5, X=X_train, y=y_train, random_state=random_state):\n",
        "    params = {'n_estimators': int(params['n_estimators']), \n",
        "              'max_depth': int(params['max_depth']), \n",
        "             'min_samples_leaf': int(params['min_samples_leaf'])\n",
        "              }\n",
        "\n",
        "    model = ensemble.RandomForestClassifier(**params, random_state=random_state)\n",
        "    model.fit(X, y)\n",
        "    # using cross validation for scoring\n",
        "    score = cross_val_score(model, X, y, cv=cv, scoring=\"f1\", n_jobs=-1).mean()\n",
        "    return -score"
      ]
    },
    {
      "cell_type": "code",
      "execution_count": 27,
      "metadata": {
        "colab": {
          "base_uri": "https://localhost:8080/"
        },
        "id": "_Ho4Psp8Tw9H",
        "outputId": "ce8bfcae-703c-4606-8316-bae62e14a94d"
      },
      "outputs": [
        {
          "name": "stdout",
          "output_type": "stream",
          "text": [
            "100%|██████████| 20/20 [03:32<00:00, 10.63s/it, best loss: -0.8157677360251723]\n",
            "Наилучшие значения гиперпараметров {'max_depth': 24.0, 'min_samples_leaf': 2.0, 'n_estimators': 153.0}\n",
            "CPU times: user 51 s, sys: 789 ms, total: 51.8 s\n",
            "Wall time: 3min 32s\n"
          ]
        }
      ],
      "source": [
        "%%time\n",
        "\n",
        "trials = Trials() \n",
        "\n",
        "best=fmin(hyperopt_rf, \n",
        "          space=space, \n",
        "          algo=tpe.suggest, \n",
        "          max_evals=20, \n",
        "          trials=trials, \n",
        "          rstate=np.random.RandomState(random_state) \n",
        "         )\n",
        "print(\"Наилучшие значения гиперпараметров {}\".format(best))"
      ]
    },
    {
      "cell_type": "code",
      "execution_count": 28,
      "metadata": {
        "colab": {
          "base_uri": "https://localhost:8080/"
        },
        "id": "6qw-SV7XeKlJ",
        "outputId": "82dfee52-eadb-4b3d-9c4e-4e4210b40151"
      },
      "outputs": [
        {
          "name": "stdout",
          "output_type": "stream",
          "text": [
            "f1_score на обучающем наборе: 0.99\n",
            "accuracy на тестовом наборе: 0.79\n",
            "f1_score на тестовом наборе: 0.81\n"
          ]
        }
      ],
      "source": [
        "model = ensemble.RandomForestClassifier(\n",
        "    random_state=random_state, \n",
        "    n_estimators=int(best['n_estimators']),\n",
        "    max_depth=int(best['max_depth']),\n",
        "    min_samples_leaf=int(best['min_samples_leaf'])\n",
        ")\n",
        "model.fit(X_train, y_train)\n",
        "y_train_pred = model.predict(X_train)\n",
        "print('f1_score на обучающем наборе: {:.2f}'.format(metrics.f1_score(y_train, y_train_pred)))\n",
        "print(\"accuracy на тестовом наборе: {:.2f}\".format(model.score(X_test, y_test)))\n",
        "y_test_pred = model.predict(X_test)\n",
        "print('f1_score на тестовом наборе: {:.2f}'.format(metrics.f1_score(y_test, y_test_pred)))"
      ]
    },
    {
      "attachments": {},
      "cell_type": "markdown",
      "metadata": {},
      "source": [
        "We've managed to improve f1 metric using hyperopt. Lets try to make more iterations (50) and check if it helps to increase meric further"
      ]
    },
    {
      "cell_type": "code",
      "execution_count": 29,
      "metadata": {
        "colab": {
          "base_uri": "https://localhost:8080/"
        },
        "id": "m4LWcq8heser",
        "outputId": "78171d5c-574a-48cf-87da-9e23c2b60186"
      },
      "outputs": [
        {
          "name": "stdout",
          "output_type": "stream",
          "text": [
            "100%|██████████| 30/30 [05:00<00:00, 10.03s/it, best loss: -0.8201817887271053]\n",
            "Наилучшие значения гиперпараметров {'max_depth': 16.0, 'min_samples_leaf': 2.0, 'n_estimators': 145.0}\n"
          ]
        }
      ],
      "source": [
        "# если необходимо продолжить подбор, \n",
        "# то увеличиваем max_evals(должен быть строго больше, чем на предыдуших итерациях) \n",
        "# и используем старый trials\n",
        "best=fmin(hyperopt_rf, # наша функция \n",
        "          space=space, # пространство гиперпараметров\n",
        "          algo=tpe.suggest, # алгоритм оптимизации, установлен по умолчанию, задавать необязательно\n",
        "          max_evals=50, # максимальное количество итераций\n",
        "          trials=trials, # логирование результатов\n",
        "          rstate=np.random.RandomState(random_state)# фиксируем для повторяемости результата\n",
        "         )\n",
        "print(\"Наилучшие значения гиперпараметров {}\".format(best))"
      ]
    },
    {
      "cell_type": "code",
      "execution_count": 30,
      "metadata": {
        "colab": {
          "base_uri": "https://localhost:8080/"
        },
        "id": "yaPi9C7Af-Ur",
        "outputId": "8239cdd3-1156-4fd3-d61b-4bd584563d81"
      },
      "outputs": [
        {
          "name": "stdout",
          "output_type": "stream",
          "text": [
            "f1_score на обучающем наборе: 0.98\n",
            "accuracy на тестовом наборе: 0.79\n",
            "f1_score на тестовом наборе: 0.81\n"
          ]
        }
      ],
      "source": [
        "# рассчитаем точность для тестовой выборки\n",
        "model = ensemble.RandomForestClassifier(\n",
        "    random_state=random_state, \n",
        "    n_estimators=int(best['n_estimators']),\n",
        "    max_depth=int(best['max_depth']),\n",
        "    min_samples_leaf=int(best['min_samples_leaf'])\n",
        ")\n",
        "model.fit(X_train, y_train)\n",
        "y_train_pred = model.predict(X_train)\n",
        "print('f1_score на обучающем наборе: {:.2f}'.format(metrics.f1_score(y_train, y_train_pred)))\n",
        "print(\"accuracy на тестовом наборе: {:.2f}\".format(model.score(X_test, y_test)))\n",
        "y_test_pred = model.predict(X_test)\n",
        "print('f1_score на тестовом наборе: {:.2f}'.format(metrics.f1_score(y_test, y_test_pred)))"
      ]
    },
    {
      "attachments": {},
      "cell_type": "markdown",
      "metadata": {},
      "source": [
        "No visible increase."
      ]
    },
    {
      "cell_type": "code",
      "execution_count": 31,
      "metadata": {
        "colab": {
          "base_uri": "https://localhost:8080/",
          "height": 592
        },
        "id": "iQy2_nq3gQoJ",
        "outputId": "52bfb39d-fc8b-4826-9794-865f9d976ba8"
      },
      "outputs": [
        {
          "data": {
            "image/png": "[encoded data removed]",
            "text/plain": [
              "<Figure size 720x720 with 3 Axes>"
            ]
          },
          "metadata": {
            "needs_background": "light"
          },
          "output_type": "display_data"
        }
      ],
      "source": [
        "# отрисуем, как менялась точность при различных гиперпараметрах\n",
        "tpe_results=np.array([[x['result']['loss'],\n",
        "                      x['misc']['vals']['max_depth'][0],\n",
        "                      x['misc']['vals']['n_estimators'][0]] for x in trials.trials])\n",
        "\n",
        "tpe_results_df=pd.DataFrame(tpe_results,\n",
        "                           columns=['score', 'max_depth', 'n_estimators'])\n",
        "# тепловая карта в данном случае не очень наглядна, возьмем линейный график\n",
        "tpe_results_df.plot(subplots=True,figsize=(10, 10));"
      ]
    },
    {
      "cell_type": "markdown",
      "metadata": {
        "id": "05HXmy7Dhr8w"
      },
      "source": [
        "## Optuna"
      ]
    },
    {
      "cell_type": "code",
      "execution_count": 32,
      "metadata": {
        "colab": {
          "base_uri": "https://localhost:8080/"
        },
        "id": "j057Kni_gRId",
        "outputId": "ca81d430-a92d-4995-e5e9-d97118bc7ee4"
      },
      "outputs": [
        {
          "name": "stdout",
          "output_type": "stream",
          "text": [
            "Looking in indexes: https://pypi.org/simple, https://us-python.pkg.dev/colab-wheels/public/simple/\n",
            "Collecting optuna\n",
            "  Downloading optuna-3.1.0-py3-none-any.whl (365 kB)\n",
            "\u001b[2K     \u001b[90m━━━━━━━━━━━━━━━━━━━━━━━━━━━━━━━━━━━━━━━\u001b[0m \u001b[32m365.3/365.3 KB\u001b[0m \u001b[31m6.3 MB/s\u001b[0m eta \u001b[36m0:00:00\u001b[0m\n",
            "\u001b[?25hCollecting alembic>=1.5.0\n",
            "  Downloading alembic-1.9.3-py3-none-any.whl (210 kB)\n",
            "\u001b[2K     \u001b[90m━━━━━━━━━━━━━━━━━━━━━━━━━━━━━━━━━━━━━━\u001b[0m \u001b[32m210.6/210.6 KB\u001b[0m \u001b[31m17.7 MB/s\u001b[0m eta \u001b[36m0:00:00\u001b[0m\n",
            "\u001b[?25hRequirement already satisfied: numpy in /usr/local/lib/python3.8/dist-packages (from optuna) (1.21.6)\n",
            "Requirement already satisfied: packaging>=20.0 in /usr/local/lib/python3.8/dist-packages (from optuna) (23.0)\n",
            "Requirement already satisfied: tqdm in /usr/local/lib/python3.8/dist-packages (from optuna) (4.64.1)\n",
            "Collecting cmaes>=0.9.1\n",
            "  Downloading cmaes-0.9.1-py3-none-any.whl (21 kB)\n",
            "Requirement already satisfied: sqlalchemy>=1.3.0 in /usr/local/lib/python3.8/dist-packages (from optuna) (1.4.46)\n",
            "Requirement already satisfied: PyYAML in /usr/local/lib/python3.8/dist-packages (from optuna) (6.0)\n",
            "Collecting colorlog\n",
            "  Downloading colorlog-6.7.0-py2.py3-none-any.whl (11 kB)\n",
            "Requirement already satisfied: importlib-resources in /usr/local/lib/python3.8/dist-packages (from alembic>=1.5.0->optuna) (5.10.2)\n",
            "Requirement already satisfied: importlib-metadata in /usr/local/lib/python3.8/dist-packages (from alembic>=1.5.0->optuna) (6.0.0)\n",
            "Collecting Mako\n",
            "  Downloading Mako-1.2.4-py3-none-any.whl (78 kB)\n",
            "\u001b[2K     \u001b[90m━━━━━━━━━━━━━━━━━━━━━━━━━━━━━━━━━━━━━━━━\u001b[0m \u001b[32m78.7/78.7 KB\u001b[0m \u001b[31m7.5 MB/s\u001b[0m eta \u001b[36m0:00:00\u001b[0m\n",
            "\u001b[?25hRequirement already satisfied: greenlet!=0.4.17 in /usr/local/lib/python3.8/dist-packages (from sqlalchemy>=1.3.0->optuna) (2.0.2)\n",
            "Requirement already satisfied: zipp>=0.5 in /usr/local/lib/python3.8/dist-packages (from importlib-metadata->alembic>=1.5.0->optuna) (3.12.1)\n",
            "Requirement already satisfied: MarkupSafe>=0.9.2 in /usr/local/lib/python3.8/dist-packages (from Mako->alembic>=1.5.0->optuna) (2.0.1)\n",
            "Installing collected packages: Mako, colorlog, cmaes, alembic, optuna\n",
            "Successfully installed Mako-1.2.4 alembic-1.9.3 cmaes-0.9.1 colorlog-6.7.0 optuna-3.1.0\n"
          ]
        }
      ],
      "source": [
        "!pip install optuna\n",
        "import optuna\n"
      ]
    },
    {
      "cell_type": "code",
      "execution_count": 35,
      "metadata": {
        "id": "nS4IS2fHh-cD"
      },
      "outputs": [],
      "source": [
        "def optuna_rf(trial):\n",
        "  # задаем пространства поиска гиперпараметров\n",
        "  n_estimators = trial.suggest_int('n_estimators', 100, 200, 1)\n",
        "  max_depth = trial.suggest_int('max_depth', 10, 30, 1)\n",
        "  min_samples_leaf = trial.suggest_int('min_samples_leaf', 2, 10, 1)\n",
        "\n",
        "  # создаем модель\n",
        "  model = ensemble.RandomForestClassifier(n_estimators=n_estimators,\n",
        "                                          max_depth=max_depth,\n",
        "                                          min_samples_leaf=min_samples_leaf,\n",
        "                                          random_state=random_state)\n",
        "  # обучаем модель\n",
        "  model.fit(X_train, y_train)\n",
        "  score = cross_val_score(model, X, y, cv=5, scoring=\"f1\", n_jobs=-1).mean()\n",
        "\n",
        "  return score"
      ]
    },
    {
      "cell_type": "code",
      "execution_count": 36,
      "metadata": {
        "colab": {
          "base_uri": "https://localhost:8080/"
        },
        "id": "R-dRgyL5iL9R",
        "outputId": "ca325e8e-b571-4ea5-e4ff-d2aa451019d3"
      },
      "outputs": [
        {
          "name": "stderr",
          "output_type": "stream",
          "text": [
            "\u001b[32m[I 2023-02-15 10:06:46,921]\u001b[0m A new study created in memory with name: RandomForestClassifier\u001b[0m\n",
            "\u001b[32m[I 2023-02-15 10:07:00,198]\u001b[0m Trial 0 finished with value: 0.8071989062277097 and parameters: {'n_estimators': 133, 'max_depth': 24, 'min_samples_leaf': 7}. Best is trial 0 with value: 0.8071989062277097.\u001b[0m\n",
            "\u001b[32m[I 2023-02-15 10:07:17,818]\u001b[0m Trial 1 finished with value: 0.8079545015240697 and parameters: {'n_estimators': 175, 'max_depth': 24, 'min_samples_leaf': 4}. Best is trial 1 with value: 0.8079545015240697.\u001b[0m\n",
            "\u001b[32m[I 2023-02-15 10:07:26,102]\u001b[0m Trial 2 finished with value: 0.8070258506727696 and parameters: {'n_estimators': 106, 'max_depth': 17, 'min_samples_leaf': 6}. Best is trial 1 with value: 0.8079545015240697.\u001b[0m\n",
            "\u001b[32m[I 2023-02-15 10:07:38,631]\u001b[0m Trial 3 finished with value: 0.8064447447448255 and parameters: {'n_estimators': 143, 'max_depth': 29, 'min_samples_leaf': 4}. Best is trial 1 with value: 0.8079545015240697.\u001b[0m\n",
            "\u001b[32m[I 2023-02-15 10:07:49,807]\u001b[0m Trial 4 finished with value: 0.8040102064305129 and parameters: {'n_estimators': 119, 'max_depth': 20, 'min_samples_leaf': 7}. Best is trial 1 with value: 0.8079545015240697.\u001b[0m\n",
            "\u001b[32m[I 2023-02-15 10:07:59,103]\u001b[0m Trial 5 finished with value: 0.795435442445035 and parameters: {'n_estimators': 121, 'max_depth': 29, 'min_samples_leaf': 10}. Best is trial 1 with value: 0.8079545015240697.\u001b[0m\n",
            "\u001b[32m[I 2023-02-15 10:08:14,935]\u001b[0m Trial 6 finished with value: 0.8110374100316651 and parameters: {'n_estimators': 171, 'max_depth': 28, 'min_samples_leaf': 3}. Best is trial 6 with value: 0.8110374100316651.\u001b[0m\n",
            "\u001b[32m[I 2023-02-15 10:08:28,831]\u001b[0m Trial 7 finished with value: 0.8056751600638983 and parameters: {'n_estimators': 165, 'max_depth': 22, 'min_samples_leaf': 5}. Best is trial 6 with value: 0.8110374100316651.\u001b[0m\n",
            "\u001b[32m[I 2023-02-15 10:08:41,546]\u001b[0m Trial 8 finished with value: 0.8119586089448857 and parameters: {'n_estimators': 145, 'max_depth': 19, 'min_samples_leaf': 3}. Best is trial 8 with value: 0.8119586089448857.\u001b[0m\n",
            "\u001b[32m[I 2023-02-15 10:08:52,568]\u001b[0m Trial 9 finished with value: 0.8133331954391787 and parameters: {'n_estimators': 114, 'max_depth': 25, 'min_samples_leaf': 2}. Best is trial 9 with value: 0.8133331954391787.\u001b[0m\n",
            "\u001b[32m[I 2023-02-15 10:09:09,798]\u001b[0m Trial 10 finished with value: 0.8010900973723126 and parameters: {'n_estimators': 200, 'max_depth': 10, 'min_samples_leaf': 2}. Best is trial 9 with value: 0.8133331954391787.\u001b[0m\n",
            "\u001b[32m[I 2023-02-15 10:09:21,806]\u001b[0m Trial 11 finished with value: 0.8128030467572842 and parameters: {'n_estimators': 103, 'max_depth': 16, 'min_samples_leaf': 2}. Best is trial 9 with value: 0.8133331954391787.\u001b[0m\n",
            "\u001b[32m[I 2023-02-15 10:09:37,874]\u001b[0m Trial 12 finished with value: 0.810959042050215 and parameters: {'n_estimators': 100, 'max_depth': 14, 'min_samples_leaf': 2}. Best is trial 9 with value: 0.8133331954391787.\u001b[0m\n",
            "\u001b[32m[I 2023-02-15 10:09:50,774]\u001b[0m Trial 13 finished with value: 0.7964795642519383 and parameters: {'n_estimators': 116, 'max_depth': 16, 'min_samples_leaf': 9}. Best is trial 9 with value: 0.8133331954391787.\u001b[0m\n",
            "\u001b[32m[I 2023-02-15 10:10:02,359]\u001b[0m Trial 14 finished with value: 0.8067316801540887 and parameters: {'n_estimators': 131, 'max_depth': 11, 'min_samples_leaf': 2}. Best is trial 9 with value: 0.8133331954391787.\u001b[0m\n",
            "\u001b[32m[I 2023-02-15 10:10:13,048]\u001b[0m Trial 15 finished with value: 0.8090389314219687 and parameters: {'n_estimators': 109, 'max_depth': 26, 'min_samples_leaf': 4}. Best is trial 9 with value: 0.8133331954391787.\u001b[0m\n",
            "\u001b[32m[I 2023-02-15 10:10:23,464]\u001b[0m Trial 16 finished with value: 0.8108055048490037 and parameters: {'n_estimators': 129, 'max_depth': 14, 'min_samples_leaf': 3}. Best is trial 9 with value: 0.8133331954391787.\u001b[0m\n",
            "\u001b[32m[I 2023-02-15 10:10:35,911]\u001b[0m Trial 17 finished with value: 0.805346335830689 and parameters: {'n_estimators': 156, 'max_depth': 23, 'min_samples_leaf': 5}. Best is trial 9 with value: 0.8133331954391787.\u001b[0m\n",
            "\u001b[32m[I 2023-02-15 10:10:44,849]\u001b[0m Trial 18 finished with value: 0.7992657866652813 and parameters: {'n_estimators': 100, 'max_depth': 20, 'min_samples_leaf': 8}. Best is trial 9 with value: 0.8133331954391787.\u001b[0m\n",
            "\u001b[32m[I 2023-02-15 10:11:03,773]\u001b[0m Trial 19 finished with value: 0.8174927696376209 and parameters: {'n_estimators': 194, 'max_depth': 26, 'min_samples_leaf': 2}. Best is trial 19 with value: 0.8174927696376209.\u001b[0m\n",
            "\u001b[32m[I 2023-02-15 10:11:24,848]\u001b[0m Trial 20 finished with value: 0.8058699166550023 and parameters: {'n_estimators': 193, 'max_depth': 26, 'min_samples_leaf': 5}. Best is trial 19 with value: 0.8174927696376209.\u001b[0m\n",
            "\u001b[32m[I 2023-02-15 10:11:42,599]\u001b[0m Trial 21 finished with value: 0.815219700924912 and parameters: {'n_estimators': 183, 'max_depth': 26, 'min_samples_leaf': 2}. Best is trial 19 with value: 0.8174927696376209.\u001b[0m\n",
            "\u001b[32m[I 2023-02-15 10:12:00,047]\u001b[0m Trial 22 finished with value: 0.8132195968636694 and parameters: {'n_estimators': 186, 'max_depth': 26, 'min_samples_leaf': 3}. Best is trial 19 with value: 0.8174927696376209.\u001b[0m\n",
            "\u001b[32m[I 2023-02-15 10:12:22,553]\u001b[0m Trial 23 finished with value: 0.8159804024203867 and parameters: {'n_estimators': 185, 'max_depth': 30, 'min_samples_leaf': 2}. Best is trial 19 with value: 0.8174927696376209.\u001b[0m\n",
            "\u001b[32m[I 2023-02-15 10:12:48,549]\u001b[0m Trial 24 finished with value: 0.8107661568067925 and parameters: {'n_estimators': 183, 'max_depth': 30, 'min_samples_leaf': 3}. Best is trial 19 with value: 0.8174927696376209.\u001b[0m\n",
            "\u001b[32m[I 2023-02-15 10:13:10,924]\u001b[0m Trial 25 finished with value: 0.8089418965390323 and parameters: {'n_estimators': 200, 'max_depth': 28, 'min_samples_leaf': 4}. Best is trial 19 with value: 0.8174927696376209.\u001b[0m\n",
            "\u001b[32m[I 2023-02-15 10:13:30,568]\u001b[0m Trial 26 finished with value: 0.8151965128463384 and parameters: {'n_estimators': 185, 'max_depth': 27, 'min_samples_leaf': 2}. Best is trial 19 with value: 0.8174927696376209.\u001b[0m\n",
            "\u001b[32m[I 2023-02-15 10:13:47,236]\u001b[0m Trial 27 finished with value: 0.8104855110836183 and parameters: {'n_estimators': 176, 'max_depth': 30, 'min_samples_leaf': 3}. Best is trial 19 with value: 0.8174927696376209.\u001b[0m\n",
            "\u001b[32m[I 2023-02-15 10:14:00,987]\u001b[0m Trial 28 finished with value: 0.8028965226927653 and parameters: {'n_estimators': 159, 'max_depth': 22, 'min_samples_leaf': 6}. Best is trial 19 with value: 0.8174927696376209.\u001b[0m\n",
            "\u001b[32m[I 2023-02-15 10:14:18,370]\u001b[0m Trial 29 finished with value: 0.8081153228083121 and parameters: {'n_estimators': 190, 'max_depth': 24, 'min_samples_leaf': 4}. Best is trial 19 with value: 0.8174927696376209.\u001b[0m\n",
            "\u001b[32m[I 2023-02-15 10:14:33,740]\u001b[0m Trial 30 finished with value: 0.8041627382608633 and parameters: {'n_estimators': 195, 'max_depth': 28, 'min_samples_leaf': 7}. Best is trial 19 with value: 0.8174927696376209.\u001b[0m\n",
            "\u001b[32m[I 2023-02-15 10:14:51,691]\u001b[0m Trial 31 finished with value: 0.814735813773974 and parameters: {'n_estimators': 182, 'max_depth': 27, 'min_samples_leaf': 2}. Best is trial 19 with value: 0.8174927696376209.\u001b[0m\n",
            "\u001b[32m[I 2023-02-15 10:15:09,431]\u001b[0m Trial 32 finished with value: 0.8147131742735401 and parameters: {'n_estimators': 177, 'max_depth': 25, 'min_samples_leaf': 2}. Best is trial 19 with value: 0.8174927696376209.\u001b[0m\n",
            "\u001b[32m[I 2023-02-15 10:15:25,242]\u001b[0m Trial 33 finished with value: 0.8124130898998423 and parameters: {'n_estimators': 167, 'max_depth': 27, 'min_samples_leaf': 3}. Best is trial 19 with value: 0.8174927696376209.\u001b[0m\n",
            "\u001b[32m[I 2023-02-15 10:15:46,571]\u001b[0m Trial 34 finished with value: 0.816368502723309 and parameters: {'n_estimators': 186, 'max_depth': 29, 'min_samples_leaf': 2}. Best is trial 19 with value: 0.8174927696376209.\u001b[0m\n",
            "\u001b[32m[I 2023-02-15 10:16:04,240]\u001b[0m Trial 35 finished with value: 0.8125265021419953 and parameters: {'n_estimators': 190, 'max_depth': 30, 'min_samples_leaf': 3}. Best is trial 19 with value: 0.8174927696376209.\u001b[0m\n",
            "\u001b[32m[I 2023-02-15 10:16:20,272]\u001b[0m Trial 36 finished with value: 0.8078883743951755 and parameters: {'n_estimators': 179, 'max_depth': 29, 'min_samples_leaf': 4}. Best is trial 19 with value: 0.8174927696376209.\u001b[0m\n",
            "\u001b[32m[I 2023-02-15 10:16:37,041]\u001b[0m Trial 37 finished with value: 0.8159055326517995 and parameters: {'n_estimators': 172, 'max_depth': 29, 'min_samples_leaf': 2}. Best is trial 19 with value: 0.8174927696376209.\u001b[0m\n",
            "\u001b[32m[I 2023-02-15 10:16:51,518]\u001b[0m Trial 38 finished with value: 0.8065151063299083 and parameters: {'n_estimators': 169, 'max_depth': 29, 'min_samples_leaf': 4}. Best is trial 19 with value: 0.8174927696376209.\u001b[0m\n",
            "\u001b[32m[I 2023-02-15 10:17:06,347]\u001b[0m Trial 39 finished with value: 0.8109428542139518 and parameters: {'n_estimators': 163, 'max_depth': 30, 'min_samples_leaf': 3}. Best is trial 19 with value: 0.8174927696376209.\u001b[0m\n",
            "\u001b[32m[I 2023-02-15 10:17:20,278]\u001b[0m Trial 40 finished with value: 0.8066166104337729 and parameters: {'n_estimators': 172, 'max_depth': 28, 'min_samples_leaf': 5}. Best is trial 19 with value: 0.8174927696376209.\u001b[0m\n",
            "\u001b[32m[I 2023-02-15 10:17:39,587]\u001b[0m Trial 41 finished with value: 0.8162081839224073 and parameters: {'n_estimators': 195, 'max_depth': 25, 'min_samples_leaf': 2}. Best is trial 19 with value: 0.8174927696376209.\u001b[0m\n",
            "\u001b[32m[I 2023-02-15 10:17:58,945]\u001b[0m Trial 42 finished with value: 0.8158735528104843 and parameters: {'n_estimators': 196, 'max_depth': 24, 'min_samples_leaf': 2}. Best is trial 19 with value: 0.8174927696376209.\u001b[0m\n",
            "\u001b[32m[I 2023-02-15 10:18:17,737]\u001b[0m Trial 43 finished with value: 0.8149564449359026 and parameters: {'n_estimators': 189, 'max_depth': 28, 'min_samples_leaf': 2}. Best is trial 19 with value: 0.8174927696376209.\u001b[0m\n",
            "\u001b[32m[I 2023-02-15 10:18:35,980]\u001b[0m Trial 44 finished with value: 0.8132365614297818 and parameters: {'n_estimators': 195, 'max_depth': 22, 'min_samples_leaf': 3}. Best is trial 19 with value: 0.8174927696376209.\u001b[0m\n",
            "\u001b[32m[I 2023-02-15 10:18:54,814]\u001b[0m Trial 45 finished with value: 0.8156775760065683 and parameters: {'n_estimators': 188, 'max_depth': 25, 'min_samples_leaf': 2}. Best is trial 19 with value: 0.8174927696376209.\u001b[0m\n",
            "\u001b[32m[I 2023-02-15 10:19:05,180]\u001b[0m Trial 46 finished with value: 0.7940631025907827 and parameters: {'n_estimators': 148, 'max_depth': 29, 'min_samples_leaf': 10}. Best is trial 19 with value: 0.8174927696376209.\u001b[0m\n",
            "\u001b[32m[I 2023-02-15 10:19:18,206]\u001b[0m Trial 47 finished with value: 0.8131997343838113 and parameters: {'n_estimators': 137, 'max_depth': 27, 'min_samples_leaf': 2}. Best is trial 19 with value: 0.8174927696376209.\u001b[0m\n",
            "\u001b[32m[I 2023-02-15 10:19:30,987]\u001b[0m Trial 48 finished with value: 0.8015487840721806 and parameters: {'n_estimators': 174, 'max_depth': 23, 'min_samples_leaf': 8}. Best is trial 19 with value: 0.8174927696376209.\u001b[0m\n",
            "\u001b[32m[I 2023-02-15 10:19:47,543]\u001b[0m Trial 49 finished with value: 0.8107795445732876 and parameters: {'n_estimators': 180, 'max_depth': 29, 'min_samples_leaf': 3}. Best is trial 19 with value: 0.8174927696376209.\u001b[0m\n"
          ]
        },
        {
          "name": "stdout",
          "output_type": "stream",
          "text": [
            "CPU times: user 2min 31s, sys: 2.63 s, total: 2min 33s\n",
            "Wall time: 13min\n"
          ]
        }
      ],
      "source": [
        "%%time\n",
        "# cоздаем объект исследования\n",
        "# можем напрямую указать, что нам необходимо максимизировать метрику direction=\"maximize\"\n",
        "study = optuna.create_study(study_name=\"RandomForestClassifier\", direction=\"maximize\")\n",
        "# ищем лучшую комбинацию гиперпараметров n_trials раз\n",
        "study.optimize(optuna_rf, n_trials=50)"
      ]
    },
    {
      "cell_type": "code",
      "execution_count": 37,
      "metadata": {
        "colab": {
          "base_uri": "https://localhost:8080/"
        },
        "id": "R-aHJWkdit8J",
        "outputId": "2df2014c-ff55-48a0-99f0-f4d9b4252153"
      },
      "outputs": [
        {
          "name": "stdout",
          "output_type": "stream",
          "text": [
            "Наилучшие значения гиперпараметров {'n_estimators': 194, 'max_depth': 26, 'min_samples_leaf': 2}\n",
            "f1_score на обучающем наборе: 0.82\n"
          ]
        }
      ],
      "source": [
        "# выводим результаты на обучающей выборке\n",
        "print(\"Наилучшие значения гиперпараметров {}\".format(study.best_params))\n",
        "print(\"f1_score на обучающем наборе: {:.2f}\".format(study.best_value))"
      ]
    },
    {
      "cell_type": "code",
      "execution_count": 38,
      "metadata": {
        "colab": {
          "base_uri": "https://localhost:8080/"
        },
        "id": "l8oC5NX-iuuQ",
        "outputId": "d92c3a93-5217-4bbf-e92d-28bdc97182b1"
      },
      "outputs": [
        {
          "name": "stdout",
          "output_type": "stream",
          "text": [
            "accuracy на тестовом наборе: 0.78\n",
            "Accuracy score on test data: 0.78\n",
            "F-1 score on test data: 0.8\n"
          ]
        }
      ],
      "source": [
        "# рассчитаем точность для тестовой выборки\n",
        "model = ensemble.RandomForestClassifier(**study.best_params,random_state=random_state)\n",
        "model.fit(X_train, y_train)\n",
        "print(\"accuracy на тестовом наборе: {:.2f}\".format(model.score(X_test, y_test)))\n",
        "y_test_pred = model.predict(X_test)\n",
        "print(f'Accuracy score on test data: {round(model.score(X_test, y_test), 2)}')\n",
        "print(f'F-1 score on test data: {round(metrics.f1_score(y_test, y_test_pred), 2)}')"
      ]
    },
    {
      "attachments": {},
      "cell_type": "markdown",
      "metadata": {},
      "source": [
        "50 iterations of Optuna also did not show best result."
      ]
    },
    {
      "cell_type": "markdown",
      "metadata": {},
      "source": []
    }
  ],
  "metadata": {
    "colab": {
      "provenance": []
    },
    "kernelspec": {
      "display_name": "Python 3",
      "language": "python",
      "name": "python3"
    },
    "language_info": {
      "codemirror_mode": {
        "name": "ipython",
        "version": 3
      },
      "file_extension": ".py",
      "mimetype": "text/x-python",
      "name": "python",
      "nbconvert_exporter": "python",
      "pygments_lexer": "ipython3",
      "version": "3.10.6"
    },
    "vscode": {
      "interpreter": {
        "hash": "916dbcbb3f70747c44a77c7bcd40155683ae19c65e1c03b4aa3499c5328201f1"
      }
    }
  },
  "nbformat": 4,
  "nbformat_minor": 0
}
