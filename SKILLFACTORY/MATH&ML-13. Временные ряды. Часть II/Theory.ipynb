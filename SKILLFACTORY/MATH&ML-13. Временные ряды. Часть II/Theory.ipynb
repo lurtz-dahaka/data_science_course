{
 "cells": [
  {
   "cell_type": "markdown",
   "metadata": {},
   "source": [
    "# Статистические модели прогнозирования\n"
   ]
  },
  {
   "cell_type": "markdown",
   "metadata": {},
   "source": [
    "Разные статистические модели прогнозирования тесно связаны друг с другом: в целях улучшения результата более простые подходы расширялись и становились основой для более сложных. В итоге в статистике появилось несколько методов прогнозирования, отличающихся между собой деталями, которые мы рассмотрим в этом юните.\n",
    "\n",
    "СКОЛЬЗЯЩЕЕ СРЕДНЕЕ\n",
    "\n",
    "В предыдущем модуле мы уже знакомились с экспоненциальным сглаживанием и получением с его помощью прогноза. Помимо простого экспоненциального сглаживания, есть также простое сглаживание, или скользящее среднее.\n",
    "\n",
    "Для получения элементарного случая скользящего среднего проще всего взять среднее арифметическое двух последних наблюдений. Мы получим новый временной ряд, каждый член которого — среднее арифметическое двух соседних значений исходного ряда:\n",
    "\n",
    "\n",
    "\n",
    "Чуть более продвинутый способ — усреднить сразу несколько наблюдений. Это так называемое простое скользящее среднее (Simple Moving Average, SMA):\n",
    "\n",
    "\n",
    "\n",
    "Таким образом, в скользящем среднем мы суммируем несколько последовательных точек временного ряда и делим эту сумму на количество самих точек, то есть считаем математическое усреднение за определённый период.\n",
    "\n",
    "Количество точек для суммирования определяется размером окна (q). Чем больше размер, тем больше данные сглаживаются."
   ]
  },
  {
   "cell_type": "markdown",
   "metadata": {},
   "source": [
    "Для сглаживания мы будем использовать встроенный метод pandas.Series.rolling() — он принимает на вход параметр window и ожидает после себя агрегирующую функцию для сглаживания (обычно используется среднее). Из преимуществ этого метода можно отметить простоту реализации и интерпретации, из недостатков — чувствительность.\n",
    "\n",
    "Посмотрим на некоторый временной ряд и результаты применения сглаживания к нему:"
   ]
  },
  {
   "cell_type": "markdown",
   "metadata": {},
   "source": [
    "Скользящее среднее с узким окном (размер окна — два дня) неэффективно борется с выбросами.\n",
    "\n",
    "\n",
    "Скользящее среднее с широким окном (размер окна — 30 дней) может привести к потере информации, сгладив полезную информацию.\n",
    "\n",
    "\n",
    "На данном графике с окном размера 15 есть прослеживающийся период и изменение амплитуды с течением времени.\n",
    "\n",
    "Модель скользящего среднего порядка (ширина окна) q обозначается как MA(q), а предсказание строится как значение белого шума в момент времени t () + скользящее среднее с окном размера q (вычисляется как ):\n",
    "\n",
    "\n",
    "где  и  — неизвестные параметры, которые настраиваются в процессе обучения.\n",
    "\n",
    "Скользящее среднее редко используется как самостоятельная модель, но иногда помогает избавить ряд от выбросов и лишнего шума, чтобы упростить визуальный анализ."
   ]
  },
  {
   "cell_type": "markdown",
   "metadata": {},
   "source": [
    "## ARMA И ARIMA\n",
    "\n",
    "Что получится, если объединить некоторые из изученных нами методов? Уже есть предположения, что такое ARMA?\n",
    "\n",
    "Если вы внимательно следили за ходом событий, то смогли догадаться, что ARMA — это авторегрессионное скользящее среднее, или модель авторегрессии-скользящего среднего. В ней p авторегрессионных слагаемых и q слагаемых скользящего среднего шумовой компоненты:\n",
    "\n",
    "img\n",
    "\n",
    "Таким образом ARMA объединяет преимущества двух ранее изученных методов и имеет два параметра:\n",
    "\n",
    "p — параметр авторегрессионной модели, который мы учились определять в предыдущем модуле (AR(p));\n",
    "q — параметр скользящего среднего (MA(q)).\n",
    "Параметр p мы определяли по графику частичной автокорреляции. Параметр q для скользящего среднего определяют так же, но по коррелограмме (графику автокорреляции).\n",
    "\n",
    "«Было бы здорово применить всё это и для временных рядов, которые не являются стационарными», — подумали Дж. Бокс и Г. Дженкинс и расширили модель ARMA до ARIMA."
   ]
  },
  {
   "cell_type": "markdown",
   "metadata": {},
   "source": [
    "ARIMA расшифровывается как Autoregressive Integrated Moving Average и включает в себя ещё один параметр (d), который означает, что дифференцирование временного ряда порядка d приводит ряд к стационарности и будет подчиняться модели ARMA.\n",
    "\n",
    "d — это тот самый порядок дифференцирования из предыдущего модуля, который приводил нестационарный ряд к стационарности. Это значит, что даже если наш ряд нестационарный, мы можем сделать его стационарным путём взятия разностей. Запомнив получившееся количество дифференцирований, можно смело применять к нему ARIMA.\n",
    "\n",
    "И ARMA, и ARIMA реализованы на Python в классе ARIMA из statsmodels. Данному классу необходимо передать в качестве параметров временной ряд и порядок order (ARIMA(dta, order=(2, 0, 0))). Для параметра order нужно указать p, d и q (именно в таком порядке), причём для получения ARMA необходимо указать d=0.\n",
    "\n",
    "Резюмируем:\n",
    "\n",
    "Если ряд стационарный, используем ARMA.\n",
    "Если ряд нестационарный (имеет тренд), с помощью дифференцирования определяем порядок d и используем ARIMA.\n",
    "Теперь мы можем проверять временные ряды из задач на стационарность и вне зависимости от результата применять к ним одну из статистических моделей."
   ]
  },
  {
   "cell_type": "markdown",
   "metadata": {},
   "source": [
    "SARIMA\n",
    "\n",
    "Модель ARIMA отлично учитывает и тренд (благодаря скользящему среднему), и зависимость от предыдущих значений (благодаря авторегрессии), но в ней не хватает учёта сезонности. В таком случае можно добавить к ARIMA учёт сезонности, и тогда мы получим следующую модель — сезонную ARIMA, или SARIMA (Seasonal ARIMA).\n",
    "\n",
    "Эта модель очень похожа на ARIMA, за исключением того, что в ней есть дополнительный набор компонентов авторегрессии и скользящего среднего.\n",
    "\n",
    "SARIMA позволяет различать данные по сезонной частоте, а также по их несезонным отличиям. Нахождение лучших для модели параметров можно упростить с помощью средств автоматического поиска, таких как auto_arima из pmdarima."
   ]
  },
  {
   "cell_type": "markdown",
   "metadata": {},
   "source": [
    "SARIMAX И ARIMAX\n",
    "\n",
    "Вы уже могли заметить, что изученные нами статистические модели совершают предсказания, основываясь только на данных самого временного ряда. Но что если месяц или день недели тоже имеет значение? Или, например, на курс рубля, помимо даты и предыдущих значений, также влияют курсы других валют?\n",
    "\n",
    "Последней статистической моделью, с которой мы познакомимся, будет SARIMAX. Её отличие от предыдущей версии заключается в том, что, помимо данных временного ряда, она учитывает экзогенные переменные. Таким образом мы сможем учитывать не только зависимости внутри данных, но и внешние факторы.\n",
    "\n",
    "Для запуска моделей SARIMA и SARIMAX на Python нужно воспользоваться классом SARIMAX. Если вы хотите использовать SARIMA, необходимо задать два обязательных параметра — order и seasonal_order.\n",
    "\n",
    "order — это порядок для модели (ARIMA(p, d, q)). В seasonal_order необходимо передать ещё четыре параметра:\n",
    "\n",
    "P — сезонный авторегрессионный порядок;\n",
    "D — порядок дифференцирования сезонного ряда;\n",
    "Q — порядок сезонной скользящей средней;\n",
    "m — размер сезонного периода.\n",
    "Если размер сезонного периода m можно определить по сезонной компоненте (мы уже раскладывали ряд на компоненты ранее — seasonal_decompose), то остальные параметры удобнее определять автоперебором (мы применим этот способ на практике в следующем юните).\n",
    "\n",
    "Для учёта экзогенных переменных необходимо передать в класс SARIMAX параметр exog=x. В x должны находиться другие временные ряды, например курс доллара (x), который может влиять на курс рубля (y), или пометка, является ли каждая из дат праздничным днём.\n",
    "\n",
    "Хороший пример реализации SARIMAХ приведён в официальной документации.\n",
    "\n",
    "Обратите внимание, что также существует модель ARIMAX. Уже есть предположения, когда использовать эту модель? В отличие от SARIMAX, ARIMAX не учитывает сезонную составляющую, но имеет все преимущества ARIMA и учитывает экзогенные переменные.\n",
    "\n",
    "КАК СРАВНИВАТЬ ЭТИ МОДЕЛИ?\n",
    "\n",
    "Одним из распространённых способов является сравнение качества моделей по критерию Акаике (AIC). Этот информационный критерий вознаграждает модель за качество приближения обученного временного ряда к фактическому, а также «штрафует» её за использование излишнего количества параметров. Принято считать, что модель с наименьшим значением критерия AIC является наилучшей.\n",
    "\n",
    "Для оценки модели критерием AIC необязательно пользоваться дополнительными методами. Этот критерий, как и другая информация, отображается после обучения модели при вызове встроенного метода fit_model.summary()."
   ]
  },
  {
   "cell_type": "markdown",
   "metadata": {},
   "source": [
    "## Интерполяция и сэмплирование"
   ]
  },
  {
   "cell_type": "markdown",
   "metadata": {},
   "source": [
    "✍ Иногда можно столкнуться с отсутствием данных, например когда вы обрабатываете показания счётчика потребления горячей и холодной воды, а он по какой-то причине не работал несколько дней. Пропуски могут быть заполнены значениями NaN или нулями.\n",
    "\n",
    "Взгляните на график ниже: за два дня (конец декабря и начало января) данные отсутствуют (они равны нулю) — из-за этого образуются спады до 0 в районе января.\n",
    "\n",
    "\n",
    "Хотим ли мы, чтобы модель, которая должна предсказывать объём потребления воды, учитывала эти значения, равные нулю? Очевидно, нет. Значит, нам нужно каким-то образом заполнить пропуски, причём заполнение нулями нам не подходит, а заполнение средним — тоже не самая эффективная идея.\n",
    "\n",
    "А что, если у нас есть показания счётчика по дням, а заказчик хочет получить прогноз по часам? Тогда нам снова нужно как-то заполнить возникающие пропуски для часов.\n",
    "Знакомьтесь — перед нами проблемы upsampling и downsampling на временных рядах.\n",
    "\n",
    "Upsampling — это увеличение частоты выборки (повышение частоты дискретизации), например с минут до секунд. Также upsampling применяют для заполнения пропусков неизвестных значений. Для этой цели мы будем использовать интерполяцию.\n",
    "\n",
    "Downsampling — это уменьшение частоты выборки, например с дней до месяцев."
   ]
  },
  {
   "cell_type": "markdown",
   "metadata": {},
   "source": [
    "DOWNSAMPLING\n",
    "\n",
    "Начнём с простого — с downsampling.\n",
    "\n",
    "По своей сути, downsampling — это перегруппировка. Мы можем сгруппировать значения, полученные по дням, в значения, полученные за месяц, путём использования метода groupby(). Однако существует ещё один встроенный в DataFrame метод с чуть более широким функционалом — resample(). Этот метод позволяет делать нестандартные группировки, такие как «за три дня» или «за каждые шесть секунд», то есть вы можете выбрать свой интервал группировки и получить результат, написав одну строку кода. Вызывать метод resample необходимо у датафрейма, в качестве индекса у которого используются даты в формате datetime. Например, если наш временной ряд с показаниями счетчика по потреблению воды изначально сгруппирован по дням, применив к нему resample, можно получить:\n",
    "\n",
    "Дальше уже можно работать над построением модели.\n",
    "\n",
    "Правила группировки (Q, H, M и др.) — это сокращения, используемые в работе с типом данных Timestamp. Полный перечень правил группировки можно найти в документации (таблица Date Offset).\n",
    "\n",
    "Теперь пора переходить к upsampling. Но прежде рассмотрим понятие, которое мы уже упоминали выше, — «интерполяция»."
   ]
  },
  {
   "cell_type": "markdown",
   "metadata": {},
   "source": [
    "ИНТЕРПОЛЯЦИЯ\n",
    "\n",
    "Говоря простым языком, интерполяция — это нахождение некоторых промежуточных значений по функции, описывающей поведение данных. То есть если мы найдём такую функцию, значения которой будут совпадать с уже известными нам значениями, то можно предположить, что она поможет верно или приблизительно восстановить для нас неизвестные значения.\n",
    "\n",
    "Существуют несколько способов нахождения этой функции, и интерполяция может быть выполнена с помощью:\n",
    "\n",
    "линейной функции,\n",
    "многочлена Лагранжа,\n",
    "интерполяционной формулы Ньютона,\n",
    "семейства сплайн-функций."
   ]
  },
  {
   "cell_type": "markdown",
   "metadata": {},
   "source": [
    "UPSAMPLING\n",
    "\n",
    "Для реализации upsampling на практике мы будем использовать уже известный нам метод resample, чтобы декомпозировать данные, например от дня к часам, а затем воспользуемся встроенным методом interpolate(), который принимает в качестве аргумента указание метода интерполяции: 'linear', 'nearest', 'spline', 'barycentric', 'polynomial' и другие. То есть сначала мы применяем к данным resample() с параметром h (час), а затем вместо агрегирующей функции sum/mean и др. применяем interpolate('linear'), чтобы выполнить линейную интерполяцию.\n",
    "\n",
    "Пример результата выполнения функции — ниже. Мы можем применить её к одному из ранее использованных в модуле временных рядов."
   ]
  },
  {
   "cell_type": "markdown",
   "metadata": {},
   "source": [
    "PROPHET\n",
    "\n",
    "Prophet — это метод прогнозирования данных временных рядов на основе AR-модели, в которой учтены годовая, еженедельная и ежедневная сезонности, а также эффекты праздничных дней.\n",
    "\n",
    "Prophet лучше всего работает с временными рядами, которые имеют сильные сезонные эффекты, а данные накоплены за несколько сезонов. Алгоритм устойчив к отсутствующим данным и сдвигам в тренде и обычно хорошо справляется с выбросами.\n",
    "\n",
    "Prophet — библиотека с открытым исходным кодом, выпущенная командой Facebook Core Data Science. Для загрузки метод также доступен в PyPI (через pip install).\n",
    "\n",
    "Prophet следует API модели sklearn. Это значит, что мы можем пользоваться им и его методами так же, как и в случае с моделями из sklearn: для инициализации модели создаётся экземпляр класса Prophet (myModel = Prophet()), а затем вызываются его методы обучения (.fit()) и прогнозирования (.predict()). Входные данные для методов Prophet должны представлять собой датафрейм с двумя столбцами — DS и Y.\n",
    "\n",
    "Столбец DS (отметка даты) должен иметь временной формат (DateTime), например ГГГГ-ММ-ДД — для даты или ГГГГ-ММ-ДД ЧЧ:ММ:СС — для отметки времени.\n",
    "Столбец Y должен быть числовым и представлять измерение, которое мы хотим спрогнозировать."
   ]
  },
  {
   "cell_type": "markdown",
   "metadata": {},
   "source": [
    "В качестве примера давайте рассмотрим временной ряд ежедневных просмотров страницы футболиста Пейтона Мэннинга на Wikipedia.\n",
    "\n",
    "Импортируем Prophet и другие необходимые библиотеки, а также считаем датасет.\n",
    "\n"
   ]
  },
  {
   "cell_type": "code",
   "execution_count": 1,
   "metadata": {},
   "outputs": [
    {
     "name": "stdout",
     "output_type": "stream",
     "text": [
      "Defaulting to user installation because normal site-packages is not writeable\n",
      "Collecting Prophet\n",
      "  Using cached prophet-1.1.4-py3-none-macosx_11_0_arm64.whl\n",
      "Collecting cmdstanpy>=1.0.4 (from Prophet)\n",
      "  Using cached cmdstanpy-1.1.0-py3-none-any.whl (83 kB)\n",
      "Requirement already satisfied: numpy>=1.15.4 in /Users/egor/Library/Python/3.9/lib/python/site-packages (from Prophet) (1.24.3)\n",
      "Requirement already satisfied: matplotlib>=2.0.0 in /Users/egor/Library/Python/3.9/lib/python/site-packages (from Prophet) (3.7.1)\n",
      "Requirement already satisfied: pandas>=1.0.4 in /Users/egor/Library/Python/3.9/lib/python/site-packages (from Prophet) (1.5.3)\n",
      "Collecting LunarCalendar>=0.0.9 (from Prophet)\n",
      "  Using cached LunarCalendar-0.0.9-py2.py3-none-any.whl (18 kB)\n",
      "Collecting convertdate>=2.1.2 (from Prophet)\n",
      "  Using cached convertdate-2.4.0-py3-none-any.whl (47 kB)\n",
      "Collecting holidays>=0.25 (from Prophet)\n",
      "  Using cached holidays-0.29-py3-none-any.whl (695 kB)\n",
      "Requirement already satisfied: python-dateutil>=2.8.0 in /Users/egor/Library/Python/3.9/lib/python/site-packages (from Prophet) (2.8.2)\n",
      "Requirement already satisfied: tqdm>=4.36.1 in /Users/egor/Library/Python/3.9/lib/python/site-packages (from Prophet) (4.65.0)\n",
      "Requirement already satisfied: importlib-resources in /Users/egor/Library/Python/3.9/lib/python/site-packages (from Prophet) (5.12.0)\n",
      "Collecting pymeeus<=1,>=0.3.13 (from convertdate>=2.1.2->Prophet)\n",
      "  Using cached PyMeeus-0.5.12-py3-none-any.whl\n",
      "Collecting ephem>=3.7.5.3 (from LunarCalendar>=0.0.9->Prophet)\n",
      "  Using cached ephem-4.1.4-cp39-cp39-macosx_11_0_arm64.whl\n",
      "Requirement already satisfied: pytz in /Users/egor/Library/Python/3.9/lib/python/site-packages (from LunarCalendar>=0.0.9->Prophet) (2023.3)\n",
      "Requirement already satisfied: contourpy>=1.0.1 in /Users/egor/Library/Python/3.9/lib/python/site-packages (from matplotlib>=2.0.0->Prophet) (1.0.7)\n",
      "Requirement already satisfied: cycler>=0.10 in /Users/egor/Library/Python/3.9/lib/python/site-packages (from matplotlib>=2.0.0->Prophet) (0.11.0)\n",
      "Requirement already satisfied: fonttools>=4.22.0 in /Users/egor/Library/Python/3.9/lib/python/site-packages (from matplotlib>=2.0.0->Prophet) (4.39.4)\n",
      "Requirement already satisfied: kiwisolver>=1.0.1 in /Users/egor/Library/Python/3.9/lib/python/site-packages (from matplotlib>=2.0.0->Prophet) (1.4.4)\n",
      "Requirement already satisfied: packaging>=20.0 in /Users/egor/Library/Python/3.9/lib/python/site-packages (from matplotlib>=2.0.0->Prophet) (23.1)\n",
      "Requirement already satisfied: pillow>=6.2.0 in /Users/egor/Library/Python/3.9/lib/python/site-packages (from matplotlib>=2.0.0->Prophet) (9.5.0)\n",
      "Requirement already satisfied: pyparsing>=2.3.1 in /Users/egor/Library/Python/3.9/lib/python/site-packages (from matplotlib>=2.0.0->Prophet) (3.0.9)\n",
      "Requirement already satisfied: zipp>=3.1.0 in /Users/egor/Library/Python/3.9/lib/python/site-packages (from importlib-resources->Prophet) (3.15.0)\n",
      "Requirement already satisfied: six>=1.5 in /Users/egor/Library/Python/3.9/lib/python/site-packages (from python-dateutil>=2.8.0->Prophet) (1.16.0)\n",
      "Installing collected packages: pymeeus, ephem, convertdate, LunarCalendar, holidays, cmdstanpy, Prophet\n",
      "Successfully installed LunarCalendar-0.0.9 Prophet-1.1.4 cmdstanpy-1.1.0 convertdate-2.4.0 ephem-4.1.4 holidays-0.29 pymeeus-0.5.12\n",
      "\n",
      "\u001b[1m[\u001b[0m\u001b[34;49mnotice\u001b[0m\u001b[1;39;49m]\u001b[0m\u001b[39;49m A new release of pip is available: \u001b[0m\u001b[31;49m23.1.2\u001b[0m\u001b[39;49m -> \u001b[0m\u001b[32;49m23.2\u001b[0m\n",
      "\u001b[1m[\u001b[0m\u001b[34;49mnotice\u001b[0m\u001b[1;39;49m]\u001b[0m\u001b[39;49m To update, run: \u001b[0m\u001b[32;49m/Library/Developer/CommandLineTools/usr/bin/python3 -m pip install --upgrade pip\u001b[0m\n"
     ]
    }
   ],
   "source": [
    "!pip install Prophet"
   ]
  },
  {
   "cell_type": "code",
   "execution_count": 2,
   "metadata": {},
   "outputs": [
    {
     "name": "stderr",
     "output_type": "stream",
     "text": [
      "/Users/egor/Library/Python/3.9/lib/python/site-packages/tqdm/auto.py:21: TqdmWarning: IProgress not found. Please update jupyter and ipywidgets. See https://ipywidgets.readthedocs.io/en/stable/user_install.html\n",
      "  from .autonotebook import tqdm as notebook_tqdm\n"
     ]
    }
   ],
   "source": [
    "import pandas as pd\n",
    "from prophet import Prophet"
   ]
  },
  {
   "cell_type": "code",
   "execution_count": 3,
   "metadata": {},
   "outputs": [
    {
     "data": {
      "text/html": [
       "<div>\n",
       "<style scoped>\n",
       "    .dataframe tbody tr th:only-of-type {\n",
       "        vertical-align: middle;\n",
       "    }\n",
       "\n",
       "    .dataframe tbody tr th {\n",
       "        vertical-align: top;\n",
       "    }\n",
       "\n",
       "    .dataframe thead th {\n",
       "        text-align: right;\n",
       "    }\n",
       "</style>\n",
       "<table border=\"1\" class=\"dataframe\">\n",
       "  <thead>\n",
       "    <tr style=\"text-align: right;\">\n",
       "      <th></th>\n",
       "      <th>ds</th>\n",
       "      <th>y</th>\n",
       "    </tr>\n",
       "  </thead>\n",
       "  <tbody>\n",
       "    <tr>\n",
       "      <th>0</th>\n",
       "      <td>2007-12-10</td>\n",
       "      <td>9.590761</td>\n",
       "    </tr>\n",
       "    <tr>\n",
       "      <th>1</th>\n",
       "      <td>2007-12-11</td>\n",
       "      <td>8.519590</td>\n",
       "    </tr>\n",
       "    <tr>\n",
       "      <th>2</th>\n",
       "      <td>2007-12-12</td>\n",
       "      <td>8.183677</td>\n",
       "    </tr>\n",
       "    <tr>\n",
       "      <th>3</th>\n",
       "      <td>2007-12-13</td>\n",
       "      <td>8.072467</td>\n",
       "    </tr>\n",
       "    <tr>\n",
       "      <th>4</th>\n",
       "      <td>2007-12-14</td>\n",
       "      <td>7.893572</td>\n",
       "    </tr>\n",
       "  </tbody>\n",
       "</table>\n",
       "</div>"
      ],
      "text/plain": [
       "           ds         y\n",
       "0  2007-12-10  9.590761\n",
       "1  2007-12-11  8.519590\n",
       "2  2007-12-12  8.183677\n",
       "3  2007-12-13  8.072467\n",
       "4  2007-12-14  7.893572"
      ]
     },
     "execution_count": 3,
     "metadata": {},
     "output_type": "execute_result"
    }
   ],
   "source": [
    "url = 'https://raw.githubusercontent.com/facebook/prophet/main/examples/example_wp_log_peyton_manning.csv'\n",
    "\n",
    "df = pd.read_csv(url)\n",
    "\n",
    "df.head()"
   ]
  },
  {
   "cell_type": "markdown",
   "metadata": {},
   "source": [
    "Обучим модель на датасете:"
   ]
  },
  {
   "cell_type": "code",
   "execution_count": 4,
   "metadata": {},
   "outputs": [
    {
     "name": "stderr",
     "output_type": "stream",
     "text": [
      "19:56:18 - cmdstanpy - INFO - Chain [1] start processing\n",
      "19:56:18 - cmdstanpy - INFO - Chain [1] done processing\n",
      "19:56:18 - cmdstanpy - ERROR - Chain [1] error: terminated by signal 6 Unknown error: -6\n",
      "Optimization terminated abnormally. Falling back to Newton.\n",
      "19:56:18 - cmdstanpy - INFO - Chain [1] start processing\n",
      "19:56:18 - cmdstanpy - INFO - Chain [1] done processing\n",
      "19:56:18 - cmdstanpy - ERROR - Chain [1] error: terminated by signal 6 Unknown error: -6\n"
     ]
    },
    {
     "ename": "RuntimeError",
     "evalue": "Error during optimization! Command '/Users/egor/Library/Python/3.9/lib/python/site-packages/prophet/stan_model/prophet_model.bin random seed=92531 data file=/var/folders/fg/7cyb3m_113j_1hkfwhtbsy8h0000gn/T/tmp7xi7atus/sjhoi2_8.json init=/var/folders/fg/7cyb3m_113j_1hkfwhtbsy8h0000gn/T/tmp7xi7atus/36qeyyto.json output file=/var/folders/fg/7cyb3m_113j_1hkfwhtbsy8h0000gn/T/tmp7xi7atus/prophet_modely14fjq8b/prophet_model-20230721195618.csv method=optimize algorithm=newton iter=10000' failed: console log output:\n\ndyld[59214]: Library not loaded: @rpath/libtbb.dylib\n  Referenced from: <C1D45D90-9855-331A-ADB0-3D8F989802A1> /Users/egor/Library/Python/3.9/lib/python/site-packages/prophet/stan_model/prophet_model.bin\n  Reason: tried: '/private/var/folders/fg/7cyb3m_113j_1hkfwhtbsy8h0000gn/T/pip-install-84ipzupm/prophet_919035b7c0884bfea0bf0d25e48d233a/build/lib.macosx-11.1-arm64-cpython-39/prophet/stan_model/cmdstan-2.31.0/stan/lib/stan_math/lib/tbb/libtbb.dylib' (no such file), '/System/Volumes/Preboot/Cryptexes/OS/private/var/folders/fg/7cyb3m_113j_1hkfwhtbsy8h0000gn/T/pip-install-84ipzupm/prophet_919035b7c0884bfea0bf0d25e48d233a/build/lib.macosx-11.1-arm64-cpython-39/prophet/stan_model/cmdstan-2.31.0/stan/lib/stan_math/lib/tbb/libtbb.dylib' (no such file), '/private/var/folders/fg/7cyb3m_113j_1hkfwhtbsy8h0000gn/T/pip-install-84ipzupm/prophet_919035b7c0884bfea0bf0d25e48d233a/build/lib.macosx-11.1-arm64-cpython-39/prophet/stan_model/cmdstan-2.31.0/stan/lib/stan_math/lib/tbb/libtbb.dylib' (no such file), '/System/Volumes/Preboot/Cryptexes/OS/private/var/folders/fg/7cyb3m_113j_1hkfwhtbsy8h0000gn/T/pip-install-84ipzupm/prophet_919035b7c0884bfea0bf0d25e48d233a/build/lib.macosx-11.1-arm64-cpython-39/prophet/stan_model/cmdstan-2.31.0/stan/lib/stan_math/lib/tbb/libtbb.dylib' (no such file), '/private/var/folders/fg/7cyb3m_113j_1hkfwhtbsy8h0000gn/T/pip-install-84ipzupm/prophet_919035b7c0884bfea0bf0d25e48d233a/build/lib.macosx-11.1-arm64-cpython-39/prophet/stan_model/cmdstan-2.31.0/stan/lib/stan_math/lib/tbb/libtbb.dylib' (no such file), '/System/Volumes/Preboot/Cryptexes/OS/private/var/folders/fg/7cyb3m_113j_1hkfwhtbsy8h0000gn/T/pip-install-84ipzupm/prophet_919035b7c0884bfea0bf0d25e48d233a/build/lib.macosx-11.1-arm64-cpython-39/prophet/stan_model/cmdstan-2.31.0/stan/lib/stan_math/lib/tbb/libtbb.dylib' (no such file), '/private/var/folders/fg/7cyb3m_113j_1hkfwhtbsy8h0000gn/T/pip-install-84ipzupm/prophet_919035b7c0884bfea0bf0d25e48d233a/build/lib.macosx-11.1-arm64-cpython-39/prophet/stan_model/cmdstan-2.31.0/stan/lib/stan_math/lib/tbb/libtbb.dylib' (no such file), '/System/Volumes/Preboot/Cryptexes/OS/private/var/folders/fg/7cyb3m_113j_1hkfwhtbsy8h0000gn/T/pip-install-84ipzupm/prophet_919035b7c0884bfea0bf0d25e48d233a/build/lib.macosx-11.1-arm64-cpython-39/prophet/stan_model/cmdstan-2.31.0/stan/lib/stan_math/lib/tbb/libtbb.dylib' (no such file), '/usr/local/lib/libtbb.dylib' (no such file), '/usr/lib/libtbb.dylib' (no such file, not in dyld cache)\n",
     "output_type": "error",
     "traceback": [
      "\u001b[0;31m---------------------------------------------------------------------------\u001b[0m",
      "\u001b[0;31mRuntimeError\u001b[0m                              Traceback (most recent call last)",
      "File \u001b[0;32m~/Library/Python/3.9/lib/python/site-packages/prophet/models.py:90\u001b[0m, in \u001b[0;36mCmdStanPyBackend.fit\u001b[0;34m(self, stan_init, stan_data, **kwargs)\u001b[0m\n\u001b[1;32m     89\u001b[0m \u001b[39mtry\u001b[39;00m:\n\u001b[0;32m---> 90\u001b[0m     \u001b[39mself\u001b[39m\u001b[39m.\u001b[39mstan_fit \u001b[39m=\u001b[39m \u001b[39mself\u001b[39;49m\u001b[39m.\u001b[39;49mmodel\u001b[39m.\u001b[39;49moptimize(\u001b[39m*\u001b[39;49m\u001b[39m*\u001b[39;49margs)\n\u001b[1;32m     91\u001b[0m \u001b[39mexcept\u001b[39;00m \u001b[39mRuntimeError\u001b[39;00m \u001b[39mas\u001b[39;00m e:\n\u001b[1;32m     92\u001b[0m     \u001b[39m# Fall back on Newton\u001b[39;00m\n",
      "File \u001b[0;32m~/Library/Python/3.9/lib/python/site-packages/cmdstanpy/model.py:738\u001b[0m, in \u001b[0;36mCmdStanModel.optimize\u001b[0;34m(self, data, seed, inits, output_dir, sig_figs, save_profile, algorithm, init_alpha, tol_obj, tol_rel_obj, tol_grad, tol_rel_grad, tol_param, history_size, iter, save_iterations, require_converged, show_console, refresh, time_fmt, timeout)\u001b[0m\n\u001b[1;32m    737\u001b[0m     \u001b[39melse\u001b[39;00m:\n\u001b[0;32m--> 738\u001b[0m         \u001b[39mraise\u001b[39;00m \u001b[39mRuntimeError\u001b[39;00m(msg)\n\u001b[1;32m    739\u001b[0m mle \u001b[39m=\u001b[39m CmdStanMLE(runset)\n",
      "\u001b[0;31mRuntimeError\u001b[0m: Error during optimization! Command '/Users/egor/Library/Python/3.9/lib/python/site-packages/prophet/stan_model/prophet_model.bin random seed=75116 data file=/var/folders/fg/7cyb3m_113j_1hkfwhtbsy8h0000gn/T/tmp7xi7atus/ny8w2ag5.json init=/var/folders/fg/7cyb3m_113j_1hkfwhtbsy8h0000gn/T/tmp7xi7atus/xhbh73ms.json output file=/var/folders/fg/7cyb3m_113j_1hkfwhtbsy8h0000gn/T/tmp7xi7atus/prophet_model_88z22w8/prophet_model-20230721195618.csv method=optimize algorithm=lbfgs iter=10000' failed: console log output:\n\ndyld[59212]: Library not loaded: @rpath/libtbb.dylib\n  Referenced from: <C1D45D90-9855-331A-ADB0-3D8F989802A1> /Users/egor/Library/Python/3.9/lib/python/site-packages/prophet/stan_model/prophet_model.bin\n  Reason: tried: '/private/var/folders/fg/7cyb3m_113j_1hkfwhtbsy8h0000gn/T/pip-install-84ipzupm/prophet_919035b7c0884bfea0bf0d25e48d233a/build/lib.macosx-11.1-arm64-cpython-39/prophet/stan_model/cmdstan-2.31.0/stan/lib/stan_math/lib/tbb/libtbb.dylib' (no such file), '/System/Volumes/Preboot/Cryptexes/OS/private/var/folders/fg/7cyb3m_113j_1hkfwhtbsy8h0000gn/T/pip-install-84ipzupm/prophet_919035b7c0884bfea0bf0d25e48d233a/build/lib.macosx-11.1-arm64-cpython-39/prophet/stan_model/cmdstan-2.31.0/stan/lib/stan_math/lib/tbb/libtbb.dylib' (no such file), '/private/var/folders/fg/7cyb3m_113j_1hkfwhtbsy8h0000gn/T/pip-install-84ipzupm/prophet_919035b7c0884bfea0bf0d25e48d233a/build/lib.macosx-11.1-arm64-cpython-39/prophet/stan_model/cmdstan-2.31.0/stan/lib/stan_math/lib/tbb/libtbb.dylib' (no such file), '/System/Volumes/Preboot/Cryptexes/OS/private/var/folders/fg/7cyb3m_113j_1hkfwhtbsy8h0000gn/T/pip-install-84ipzupm/prophet_919035b7c0884bfea0bf0d25e48d233a/build/lib.macosx-11.1-arm64-cpython-39/prophet/stan_model/cmdstan-2.31.0/stan/lib/stan_math/lib/tbb/libtbb.dylib' (no such file), '/private/var/folders/fg/7cyb3m_113j_1hkfwhtbsy8h0000gn/T/pip-install-84ipzupm/prophet_919035b7c0884bfea0bf0d25e48d233a/build/lib.macosx-11.1-arm64-cpython-39/prophet/stan_model/cmdstan-2.31.0/stan/lib/stan_math/lib/tbb/libtbb.dylib' (no such file), '/System/Volumes/Preboot/Cryptexes/OS/private/var/folders/fg/7cyb3m_113j_1hkfwhtbsy8h0000gn/T/pip-install-84ipzupm/prophet_919035b7c0884bfea0bf0d25e48d233a/build/lib.macosx-11.1-arm64-cpython-39/prophet/stan_model/cmdstan-2.31.0/stan/lib/stan_math/lib/tbb/libtbb.dylib' (no such file), '/private/var/folders/fg/7cyb3m_113j_1hkfwhtbsy8h0000gn/T/pip-install-84ipzupm/prophet_919035b7c0884bfea0bf0d25e48d233a/build/lib.macosx-11.1-arm64-cpython-39/prophet/stan_model/cmdstan-2.31.0/stan/lib/stan_math/lib/tbb/libtbb.dylib' (no such file), '/System/Volumes/Preboot/Cryptexes/OS/private/var/folders/fg/7cyb3m_113j_1hkfwhtbsy8h0000gn/T/pip-install-84ipzupm/prophet_919035b7c0884bfea0bf0d25e48d233a/build/lib.macosx-11.1-arm64-cpython-39/prophet/stan_model/cmdstan-2.31.0/stan/lib/stan_math/lib/tbb/libtbb.dylib' (no such file), '/usr/local/lib/libtbb.dylib' (no such file), '/usr/lib/libtbb.dylib' (no such file, not in dyld cache)\n",
      "\nDuring handling of the above exception, another exception occurred:\n",
      "\u001b[0;31mRuntimeError\u001b[0m                              Traceback (most recent call last)",
      "Cell \u001b[0;32mIn[4], line 2\u001b[0m\n\u001b[1;32m      1\u001b[0m model \u001b[39m=\u001b[39m Prophet()\n\u001b[0;32m----> 2\u001b[0m model\u001b[39m.\u001b[39;49mfit(df)\n",
      "File \u001b[0;32m~/Library/Python/3.9/lib/python/site-packages/prophet/forecaster.py:1181\u001b[0m, in \u001b[0;36mProphet.fit\u001b[0;34m(self, df, **kwargs)\u001b[0m\n\u001b[1;32m   1179\u001b[0m     \u001b[39mself\u001b[39m\u001b[39m.\u001b[39mparams \u001b[39m=\u001b[39m \u001b[39mself\u001b[39m\u001b[39m.\u001b[39mstan_backend\u001b[39m.\u001b[39msampling(stan_init, dat, \u001b[39mself\u001b[39m\u001b[39m.\u001b[39mmcmc_samples, \u001b[39m*\u001b[39m\u001b[39m*\u001b[39mkwargs)\n\u001b[1;32m   1180\u001b[0m \u001b[39melse\u001b[39;00m:\n\u001b[0;32m-> 1181\u001b[0m     \u001b[39mself\u001b[39m\u001b[39m.\u001b[39mparams \u001b[39m=\u001b[39m \u001b[39mself\u001b[39;49m\u001b[39m.\u001b[39;49mstan_backend\u001b[39m.\u001b[39;49mfit(stan_init, dat, \u001b[39m*\u001b[39;49m\u001b[39m*\u001b[39;49mkwargs)\n\u001b[1;32m   1183\u001b[0m \u001b[39mself\u001b[39m\u001b[39m.\u001b[39mstan_fit \u001b[39m=\u001b[39m \u001b[39mself\u001b[39m\u001b[39m.\u001b[39mstan_backend\u001b[39m.\u001b[39mstan_fit\n\u001b[1;32m   1184\u001b[0m \u001b[39m# If no changepoints were requested, replace delta with 0s\u001b[39;00m\n",
      "File \u001b[0;32m~/Library/Python/3.9/lib/python/site-packages/prophet/models.py:97\u001b[0m, in \u001b[0;36mCmdStanPyBackend.fit\u001b[0;34m(self, stan_init, stan_data, **kwargs)\u001b[0m\n\u001b[1;32m     95\u001b[0m     logger\u001b[39m.\u001b[39mwarning(\u001b[39m'\u001b[39m\u001b[39mOptimization terminated abnormally. Falling back to Newton.\u001b[39m\u001b[39m'\u001b[39m)\n\u001b[1;32m     96\u001b[0m     args[\u001b[39m'\u001b[39m\u001b[39malgorithm\u001b[39m\u001b[39m'\u001b[39m] \u001b[39m=\u001b[39m \u001b[39m'\u001b[39m\u001b[39mNewton\u001b[39m\u001b[39m'\u001b[39m\n\u001b[0;32m---> 97\u001b[0m     \u001b[39mself\u001b[39m\u001b[39m.\u001b[39mstan_fit \u001b[39m=\u001b[39m \u001b[39mself\u001b[39;49m\u001b[39m.\u001b[39;49mmodel\u001b[39m.\u001b[39;49moptimize(\u001b[39m*\u001b[39;49m\u001b[39m*\u001b[39;49margs)\n\u001b[1;32m     98\u001b[0m params \u001b[39m=\u001b[39m \u001b[39mself\u001b[39m\u001b[39m.\u001b[39mstan_to_dict_numpy(\n\u001b[1;32m     99\u001b[0m     \u001b[39mself\u001b[39m\u001b[39m.\u001b[39mstan_fit\u001b[39m.\u001b[39mcolumn_names, \u001b[39mself\u001b[39m\u001b[39m.\u001b[39mstan_fit\u001b[39m.\u001b[39moptimized_params_np)\n\u001b[1;32m    100\u001b[0m \u001b[39mfor\u001b[39;00m par \u001b[39min\u001b[39;00m params:\n",
      "File \u001b[0;32m~/Library/Python/3.9/lib/python/site-packages/cmdstanpy/model.py:738\u001b[0m, in \u001b[0;36mCmdStanModel.optimize\u001b[0;34m(self, data, seed, inits, output_dir, sig_figs, save_profile, algorithm, init_alpha, tol_obj, tol_rel_obj, tol_grad, tol_rel_grad, tol_param, history_size, iter, save_iterations, require_converged, show_console, refresh, time_fmt, timeout)\u001b[0m\n\u001b[1;32m    736\u001b[0m         get_logger()\u001b[39m.\u001b[39mwarning(msg)\n\u001b[1;32m    737\u001b[0m     \u001b[39melse\u001b[39;00m:\n\u001b[0;32m--> 738\u001b[0m         \u001b[39mraise\u001b[39;00m \u001b[39mRuntimeError\u001b[39;00m(msg)\n\u001b[1;32m    739\u001b[0m mle \u001b[39m=\u001b[39m CmdStanMLE(runset)\n\u001b[1;32m    740\u001b[0m \u001b[39mreturn\u001b[39;00m mle\n",
      "\u001b[0;31mRuntimeError\u001b[0m: Error during optimization! Command '/Users/egor/Library/Python/3.9/lib/python/site-packages/prophet/stan_model/prophet_model.bin random seed=92531 data file=/var/folders/fg/7cyb3m_113j_1hkfwhtbsy8h0000gn/T/tmp7xi7atus/sjhoi2_8.json init=/var/folders/fg/7cyb3m_113j_1hkfwhtbsy8h0000gn/T/tmp7xi7atus/36qeyyto.json output file=/var/folders/fg/7cyb3m_113j_1hkfwhtbsy8h0000gn/T/tmp7xi7atus/prophet_modely14fjq8b/prophet_model-20230721195618.csv method=optimize algorithm=newton iter=10000' failed: console log output:\n\ndyld[59214]: Library not loaded: @rpath/libtbb.dylib\n  Referenced from: <C1D45D90-9855-331A-ADB0-3D8F989802A1> /Users/egor/Library/Python/3.9/lib/python/site-packages/prophet/stan_model/prophet_model.bin\n  Reason: tried: '/private/var/folders/fg/7cyb3m_113j_1hkfwhtbsy8h0000gn/T/pip-install-84ipzupm/prophet_919035b7c0884bfea0bf0d25e48d233a/build/lib.macosx-11.1-arm64-cpython-39/prophet/stan_model/cmdstan-2.31.0/stan/lib/stan_math/lib/tbb/libtbb.dylib' (no such file), '/System/Volumes/Preboot/Cryptexes/OS/private/var/folders/fg/7cyb3m_113j_1hkfwhtbsy8h0000gn/T/pip-install-84ipzupm/prophet_919035b7c0884bfea0bf0d25e48d233a/build/lib.macosx-11.1-arm64-cpython-39/prophet/stan_model/cmdstan-2.31.0/stan/lib/stan_math/lib/tbb/libtbb.dylib' (no such file), '/private/var/folders/fg/7cyb3m_113j_1hkfwhtbsy8h0000gn/T/pip-install-84ipzupm/prophet_919035b7c0884bfea0bf0d25e48d233a/build/lib.macosx-11.1-arm64-cpython-39/prophet/stan_model/cmdstan-2.31.0/stan/lib/stan_math/lib/tbb/libtbb.dylib' (no such file), '/System/Volumes/Preboot/Cryptexes/OS/private/var/folders/fg/7cyb3m_113j_1hkfwhtbsy8h0000gn/T/pip-install-84ipzupm/prophet_919035b7c0884bfea0bf0d25e48d233a/build/lib.macosx-11.1-arm64-cpython-39/prophet/stan_model/cmdstan-2.31.0/stan/lib/stan_math/lib/tbb/libtbb.dylib' (no such file), '/private/var/folders/fg/7cyb3m_113j_1hkfwhtbsy8h0000gn/T/pip-install-84ipzupm/prophet_919035b7c0884bfea0bf0d25e48d233a/build/lib.macosx-11.1-arm64-cpython-39/prophet/stan_model/cmdstan-2.31.0/stan/lib/stan_math/lib/tbb/libtbb.dylib' (no such file), '/System/Volumes/Preboot/Cryptexes/OS/private/var/folders/fg/7cyb3m_113j_1hkfwhtbsy8h0000gn/T/pip-install-84ipzupm/prophet_919035b7c0884bfea0bf0d25e48d233a/build/lib.macosx-11.1-arm64-cpython-39/prophet/stan_model/cmdstan-2.31.0/stan/lib/stan_math/lib/tbb/libtbb.dylib' (no such file), '/private/var/folders/fg/7cyb3m_113j_1hkfwhtbsy8h0000gn/T/pip-install-84ipzupm/prophet_919035b7c0884bfea0bf0d25e48d233a/build/lib.macosx-11.1-arm64-cpython-39/prophet/stan_model/cmdstan-2.31.0/stan/lib/stan_math/lib/tbb/libtbb.dylib' (no such file), '/System/Volumes/Preboot/Cryptexes/OS/private/var/folders/fg/7cyb3m_113j_1hkfwhtbsy8h0000gn/T/pip-install-84ipzupm/prophet_919035b7c0884bfea0bf0d25e48d233a/build/lib.macosx-11.1-arm64-cpython-39/prophet/stan_model/cmdstan-2.31.0/stan/lib/stan_math/lib/tbb/libtbb.dylib' (no such file), '/usr/local/lib/libtbb.dylib' (no such file), '/usr/lib/libtbb.dylib' (no such file, not in dyld cache)\n"
     ]
    }
   ],
   "source": [
    "model = Prophet()\n",
    "model.fit(df)"
   ]
  },
  {
   "cell_type": "markdown",
   "metadata": {},
   "source": [
    "Для получения прогноза необходимо использовать DataFrame со столбцом DS, содержащим даты, для которых должен быть сделан прогноз. Вы можете получить такой DataFrame, используя вспомогательный метод Prophet.make_future_dataframe(), в который необходимо передать число дней для совершения прогноза. По умолчанию он также будет включать более ранние даты, поэтому мы также увидим, как обучалась модель."
   ]
  },
  {
   "cell_type": "code",
   "execution_count": 5,
   "metadata": {},
   "outputs": [
    {
     "data": {
      "text/html": [
       "<div>\n",
       "<style scoped>\n",
       "    .dataframe tbody tr th:only-of-type {\n",
       "        vertical-align: middle;\n",
       "    }\n",
       "\n",
       "    .dataframe tbody tr th {\n",
       "        vertical-align: top;\n",
       "    }\n",
       "\n",
       "    .dataframe thead th {\n",
       "        text-align: right;\n",
       "    }\n",
       "</style>\n",
       "<table border=\"1\" class=\"dataframe\">\n",
       "  <thead>\n",
       "    <tr style=\"text-align: right;\">\n",
       "      <th></th>\n",
       "      <th>ds</th>\n",
       "    </tr>\n",
       "  </thead>\n",
       "  <tbody>\n",
       "    <tr>\n",
       "      <th>3265</th>\n",
       "      <td>2017-01-15</td>\n",
       "    </tr>\n",
       "    <tr>\n",
       "      <th>3266</th>\n",
       "      <td>2017-01-16</td>\n",
       "    </tr>\n",
       "    <tr>\n",
       "      <th>3267</th>\n",
       "      <td>2017-01-17</td>\n",
       "    </tr>\n",
       "    <tr>\n",
       "      <th>3268</th>\n",
       "      <td>2017-01-18</td>\n",
       "    </tr>\n",
       "    <tr>\n",
       "      <th>3269</th>\n",
       "      <td>2017-01-19</td>\n",
       "    </tr>\n",
       "  </tbody>\n",
       "</table>\n",
       "</div>"
      ],
      "text/plain": [
       "             ds\n",
       "3265 2017-01-15\n",
       "3266 2017-01-16\n",
       "3267 2017-01-17\n",
       "3268 2017-01-18\n",
       "3269 2017-01-19"
      ]
     },
     "execution_count": 5,
     "metadata": {},
     "output_type": "execute_result"
    }
   ],
   "source": [
    "future_df = model.make_future_dataframe(periods=365)\n",
    "\n",
    "future_df.tail()"
   ]
  },
  {
   "cell_type": "markdown",
   "metadata": {},
   "source": [
    "В результате построения прогноза каждому DS будет присвоено прогнозируемое значение (YHAT). Также в прогнозном датафрейме будут два новых столбца ('yhat_lower', 'yhat_upper'), в которых будут находиться верхняя и нижняя границы доверительного интервала:"
   ]
  },
  {
   "cell_type": "code",
   "execution_count": 6,
   "metadata": {},
   "outputs": [
    {
     "ename": "KeyError",
     "evalue": "'k'",
     "output_type": "error",
     "traceback": [
      "\u001b[0;31m---------------------------------------------------------------------------\u001b[0m",
      "\u001b[0;31mKeyError\u001b[0m                                  Traceback (most recent call last)",
      "Cell \u001b[0;32mIn[6], line 1\u001b[0m\n\u001b[0;32m----> 1\u001b[0m forecast_df \u001b[39m=\u001b[39m model\u001b[39m.\u001b[39;49mpredict(future_df)\n\u001b[1;32m      2\u001b[0m forecast_df[[\u001b[39m'\u001b[39m\u001b[39mds\u001b[39m\u001b[39m'\u001b[39m, \u001b[39m'\u001b[39m\u001b[39myhat\u001b[39m\u001b[39m'\u001b[39m, \u001b[39m'\u001b[39m\u001b[39myhat_lower\u001b[39m\u001b[39m'\u001b[39m, \u001b[39m'\u001b[39m\u001b[39myhat_upper\u001b[39m\u001b[39m'\u001b[39m]]\u001b[39m.\u001b[39mtail()\n",
      "File \u001b[0;32m~/Library/Python/3.9/lib/python/site-packages/prophet/forecaster.py:1221\u001b[0m, in \u001b[0;36mProphet.predict\u001b[0;34m(self, df, vectorized)\u001b[0m\n\u001b[1;32m   1218\u001b[0m         \u001b[39mraise\u001b[39;00m \u001b[39mValueError\u001b[39;00m(\u001b[39m'\u001b[39m\u001b[39mDataframe has no rows.\u001b[39m\u001b[39m'\u001b[39m)\n\u001b[1;32m   1219\u001b[0m     df \u001b[39m=\u001b[39m \u001b[39mself\u001b[39m\u001b[39m.\u001b[39msetup_dataframe(df\u001b[39m.\u001b[39mcopy())\n\u001b[0;32m-> 1221\u001b[0m df[\u001b[39m'\u001b[39m\u001b[39mtrend\u001b[39m\u001b[39m'\u001b[39m] \u001b[39m=\u001b[39m \u001b[39mself\u001b[39;49m\u001b[39m.\u001b[39;49mpredict_trend(df)\n\u001b[1;32m   1222\u001b[0m seasonal_components \u001b[39m=\u001b[39m \u001b[39mself\u001b[39m\u001b[39m.\u001b[39mpredict_seasonal_components(df)\n\u001b[1;32m   1223\u001b[0m \u001b[39mif\u001b[39;00m \u001b[39mself\u001b[39m\u001b[39m.\u001b[39muncertainty_samples:\n",
      "File \u001b[0;32m~/Library/Python/3.9/lib/python/site-packages/prophet/forecaster.py:1324\u001b[0m, in \u001b[0;36mProphet.predict_trend\u001b[0;34m(self, df)\u001b[0m\n\u001b[1;32m   1313\u001b[0m \u001b[39mdef\u001b[39;00m \u001b[39mpredict_trend\u001b[39m(\u001b[39mself\u001b[39m, df):\n\u001b[1;32m   1314\u001b[0m \u001b[39m    \u001b[39m\u001b[39m\"\"\"Predict trend using the prophet model.\u001b[39;00m\n\u001b[1;32m   1315\u001b[0m \n\u001b[1;32m   1316\u001b[0m \u001b[39m    Parameters\u001b[39;00m\n\u001b[0;32m   (...)\u001b[0m\n\u001b[1;32m   1322\u001b[0m \u001b[39m    Vector with trend on prediction dates.\u001b[39;00m\n\u001b[1;32m   1323\u001b[0m \u001b[39m    \"\"\"\u001b[39;00m\n\u001b[0;32m-> 1324\u001b[0m     k \u001b[39m=\u001b[39m np\u001b[39m.\u001b[39mnanmean(\u001b[39mself\u001b[39;49m\u001b[39m.\u001b[39;49mparams[\u001b[39m'\u001b[39;49m\u001b[39mk\u001b[39;49m\u001b[39m'\u001b[39;49m])\n\u001b[1;32m   1325\u001b[0m     m \u001b[39m=\u001b[39m np\u001b[39m.\u001b[39mnanmean(\u001b[39mself\u001b[39m\u001b[39m.\u001b[39mparams[\u001b[39m'\u001b[39m\u001b[39mm\u001b[39m\u001b[39m'\u001b[39m])\n\u001b[1;32m   1326\u001b[0m     deltas \u001b[39m=\u001b[39m np\u001b[39m.\u001b[39mnanmean(\u001b[39mself\u001b[39m\u001b[39m.\u001b[39mparams[\u001b[39m'\u001b[39m\u001b[39mdelta\u001b[39m\u001b[39m'\u001b[39m], axis\u001b[39m=\u001b[39m\u001b[39m0\u001b[39m)\n",
      "\u001b[0;31mKeyError\u001b[0m: 'k'"
     ]
    }
   ],
   "source": [
    "forecast_df = model.predict(future_df)\n",
    "forecast_df[['ds', 'yhat', 'yhat_lower', 'yhat_upper']].tail()"
   ]
  },
  {
   "cell_type": "code",
   "execution_count": null,
   "metadata": {},
   "outputs": [
    {
     "ename": "",
     "evalue": "",
     "output_type": "error",
     "traceback": [
      "\u001b[1;31mRunning cells with 'myenv' requires the ipykernel package.\n",
      "\u001b[1;31mRun the following command to install 'ipykernel' into the Python environment. \n",
      "\u001b[1;31mCommand: 'conda install -n myenv ipykernel --update-deps --force-reinstall'"
     ]
    }
   ],
   "source": []
  }
 ],
 "metadata": {
  "kernelspec": {
   "display_name": "base",
   "language": "python",
   "name": "python3"
  },
  "language_info": {
   "codemirror_mode": {
    "name": "ipython",
    "version": 3
   },
   "file_extension": ".py",
   "mimetype": "text/x-python",
   "name": "python",
   "nbconvert_exporter": "python",
   "pygments_lexer": "ipython3",
   "version": "3.9.6"
  },
  "orig_nbformat": 4
 },
 "nbformat": 4,
 "nbformat_minor": 2
}
