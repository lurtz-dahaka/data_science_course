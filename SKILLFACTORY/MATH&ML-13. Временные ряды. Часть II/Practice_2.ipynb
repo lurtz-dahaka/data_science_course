{
 "cells": [
  {
   "cell_type": "markdown",
   "metadata": {},
   "source": [
    "ЗАДАНИЯ ДЛЯ ПРОЕКТА\n",
    "\n",
    "Проверьте данные на наличие пропущенных дат. Помимо визуального способа, это можно сделать с помощью метода DataFrame.asfreq(), передав в него параметр частоты, например ‘d’ — день, ‘m’ — месяц. Все алиасы для параметров частоты доступны по ссылке.\n",
    "Подсказка\n",
    "df.asfreq(freq='AS')\n",
    "Проверьте данные на наличие пропущенных значений (Series.isna().sum()).\n",
    "Обратите внимание, что иногда пропуски в данных могут быть заполнены нулями. Сделайте проверку на наличие нулевых значений и в случае нахождения замените их на NaN. Воспользуйтесь кодом ниже:\n",
    "import numpy as np\n",
    "df['GDP (current US$)'] = df['GDP (current US$)'].apply(lambda x: np.nan if x==0 else x)\n",
    "Для заполнения пропусков выполните интерполяцию с использованием метода .interpolate().\n",
    "Подсказка\n",
    "Проверьте полученный ряд на стационарность, определите параметры модели (ARIMA/ARMA) и запустите модель.\n",
    "Изменился ли AIC критерий построенной модели по сравнению с моделью на неинтерполированных данных? Сделайте вывод."
   ]
  },
  {
   "cell_type": "code",
   "execution_count": 3,
   "metadata": {},
   "outputs": [],
   "source": [
    "import pandas as pd\n",
    "from matplotlib import pyplot as plt\n",
    "from statsmodels.tsa.stattools import adfuller\n",
    "from statsmodels.tsa.arima.model import ARIMA\n",
    "import statsmodels.api as sm\n",
    "import pmdarima as pm"
   ]
  },
  {
   "cell_type": "code",
   "execution_count": 4,
   "metadata": {},
   "outputs": [
    {
     "data": {
      "text/html": [
       "<div>\n",
       "<style scoped>\n",
       "    .dataframe tbody tr th:only-of-type {\n",
       "        vertical-align: middle;\n",
       "    }\n",
       "\n",
       "    .dataframe tbody tr th {\n",
       "        vertical-align: top;\n",
       "    }\n",
       "\n",
       "    .dataframe thead th {\n",
       "        text-align: right;\n",
       "    }\n",
       "</style>\n",
       "<table border=\"1\" class=\"dataframe\">\n",
       "  <thead>\n",
       "    <tr style=\"text-align: right;\">\n",
       "      <th></th>\n",
       "      <th>GDP (current US$)</th>\n",
       "    </tr>\n",
       "    <tr>\n",
       "      <th>year</th>\n",
       "      <th></th>\n",
       "    </tr>\n",
       "  </thead>\n",
       "  <tbody>\n",
       "    <tr>\n",
       "      <th>1960-01-01</th>\n",
       "      <td>1.217087e+09</td>\n",
       "    </tr>\n",
       "    <tr>\n",
       "      <th>1961-01-01</th>\n",
       "      <td>0.000000e+00</td>\n",
       "    </tr>\n",
       "    <tr>\n",
       "      <th>1962-01-01</th>\n",
       "      <td>1.382353e+09</td>\n",
       "    </tr>\n",
       "    <tr>\n",
       "      <th>1963-01-01</th>\n",
       "      <td>1.540616e+09</td>\n",
       "    </tr>\n",
       "    <tr>\n",
       "      <th>1964-01-01</th>\n",
       "      <td>1.731092e+09</td>\n",
       "    </tr>\n",
       "  </tbody>\n",
       "</table>\n",
       "</div>"
      ],
      "text/plain": [
       "            GDP (current US$)\n",
       "year                         \n",
       "1960-01-01       1.217087e+09\n",
       "1961-01-01       0.000000e+00\n",
       "1962-01-01       1.382353e+09\n",
       "1963-01-01       1.540616e+09\n",
       "1964-01-01       1.731092e+09"
      ]
     },
     "execution_count": 4,
     "metadata": {},
     "output_type": "execute_result"
    }
   ],
   "source": [
    "data = pd.read_csv(\n",
    "    '/Users/egor/Documents/data_science_course/SKILLFACTORY/MATH&ML-13. Временные ряды. Часть II/data/ghana_gdp.csv',\n",
    "    parse_dates=[\"year\"], \n",
    "    index_col=[\"year\"])\n",
    "data.head()"
   ]
  },
  {
   "cell_type": "code",
   "execution_count": 5,
   "metadata": {},
   "outputs": [
    {
     "data": {
      "image/png": "[encoded data removed]",
      "text/plain": [
       "<Figure size 640x480 with 1 Axes>"
      ]
     },
     "metadata": {},
     "output_type": "display_data"
    }
   ],
   "source": [
    "data.plot()\n",
    "plt.show()"
   ]
  },
  {
   "cell_type": "code",
   "execution_count": 6,
   "metadata": {},
   "outputs": [],
   "source": [
    "data_m = data.asfreq(freq='M')"
   ]
  },
  {
   "cell_type": "code",
   "execution_count": 7,
   "metadata": {},
   "outputs": [
    {
     "data": {
      "text/plain": [
       "GDP (current US$)    0\n",
       "dtype: int64"
      ]
     },
     "execution_count": 7,
     "metadata": {},
     "output_type": "execute_result"
    }
   ],
   "source": [
    "data.isna().sum()"
   ]
  },
  {
   "cell_type": "code",
   "execution_count": 8,
   "metadata": {},
   "outputs": [],
   "source": [
    "import numpy as np\n",
    "data['GDP (current US$)'] = data['GDP (current US$)'].apply(lambda x: np.nan if x==0 else x)"
   ]
  },
  {
   "cell_type": "code",
   "execution_count": 9,
   "metadata": {},
   "outputs": [],
   "source": [
    "data = data['GDP (current US$)'].interpolate(method='linear')"
   ]
  },
  {
   "cell_type": "code",
   "execution_count": 10,
   "metadata": {},
   "outputs": [
    {
     "data": {
      "text/plain": [
       "(2.3808487575556314,\n",
       " 0.99900101016983,\n",
       " 0,\n",
       " 61,\n",
       " {'1%': -3.542412746661615,\n",
       "  '5%': -2.910236235808284,\n",
       "  '10%': -2.5927445767266866},\n",
       " 2357.104266762714)"
      ]
     },
     "execution_count": 10,
     "metadata": {},
     "output_type": "execute_result"
    }
   ],
   "source": [
    "sm.tsa.adfuller(data)"
   ]
  },
  {
   "cell_type": "code",
   "execution_count": 11,
   "metadata": {},
   "outputs": [
    {
     "data": {
      "text/plain": [
       "(-1.7397184892921516,\n",
       " 0.41077316906677513,\n",
       " 11,\n",
       " 49,\n",
       " {'1%': -3.5714715250448363,\n",
       "  '5%': -2.922629480573571,\n",
       "  '10%': -2.5993358475635153},\n",
       " 2306.348682901447)"
      ]
     },
     "execution_count": 11,
     "metadata": {},
     "output_type": "execute_result"
    }
   ],
   "source": [
    "data_1diff = data.diff().dropna()\n",
    "sm.tsa.adfuller(data_1diff)"
   ]
  },
  {
   "cell_type": "code",
   "execution_count": 12,
   "metadata": {},
   "outputs": [
    {
     "data": {
      "text/plain": [
       "(-1.7042548913504096,\n",
       " 0.42892157301176737,\n",
       " 10,\n",
       " 49,\n",
       " {'1%': -3.5714715250448363,\n",
       "  '5%': -2.922629480573571,\n",
       "  '10%': -2.5993358475635153},\n",
       " 2262.6739516935577)"
      ]
     },
     "execution_count": 12,
     "metadata": {},
     "output_type": "execute_result"
    }
   ],
   "source": [
    "data_2diff = data_1diff.diff().dropna()\n",
    "sm.tsa.adfuller(data_2diff)"
   ]
  },
  {
   "cell_type": "code",
   "execution_count": 13,
   "metadata": {},
   "outputs": [
    {
     "data": {
      "text/plain": [
       "(-5.456208629828492,\n",
       " 2.5783244972037654e-06,\n",
       " 9,\n",
       " 49,\n",
       " {'1%': -3.5714715250448363,\n",
       "  '5%': -2.922629480573571,\n",
       "  '10%': -2.5993358475635153},\n",
       " 2218.533874085689)"
      ]
     },
     "execution_count": 13,
     "metadata": {},
     "output_type": "execute_result"
    }
   ],
   "source": [
    "data_3diff = data_2diff.diff().dropna()\n",
    "sm.tsa.adfuller(data_3diff)"
   ]
  },
  {
   "cell_type": "code",
   "execution_count": 14,
   "metadata": {},
   "outputs": [
    {
     "data": {
      "image/png": "[encoded data removed]",
      "text/plain": [
       "<Figure size 1200x800 with 2 Axes>"
      ]
     },
     "metadata": {},
     "output_type": "display_data"
    }
   ],
   "source": [
    "fig = plt.figure(figsize=(12,8))\n",
    "ax1 = fig.add_subplot(211)\n",
    "fig = sm.graphics.tsa.plot_acf(data_3diff.values.squeeze(), lags=10, ax=ax1)\n",
    "ax2 = fig.add_subplot(212)\n",
    "fig = sm.graphics.tsa.plot_pacf(data_3diff, lags=10, ax=ax2)"
   ]
  },
  {
   "cell_type": "code",
   "execution_count": 15,
   "metadata": {},
   "outputs": [
    {
     "data": {
      "text/plain": [
       "year\n",
       "2019-01-01    6.833754e+10\n",
       "2020-01-01    7.004320e+10\n",
       "2021-01-01    7.759428e+10\n",
       "Name: GDP (current US$), dtype: float64"
      ]
     },
     "execution_count": 15,
     "metadata": {},
     "output_type": "execute_result"
    }
   ],
   "source": [
    "test_df = data.iloc[-3:]\n",
    "train_df = data.iloc[:-3]\n",
    "test_df"
   ]
  },
  {
   "cell_type": "code",
   "execution_count": 16,
   "metadata": {},
   "outputs": [
    {
     "name": "stdout",
     "output_type": "stream",
     "text": [
      "Performing stepwise search to minimize aic\n",
      " ARIMA(1,3,1)(0,0,0)[0]             : AIC=2670.933, Time=0.02 sec\n",
      " ARIMA(0,3,0)(0,0,0)[0]             : AIC=2734.778, Time=0.00 sec\n",
      " ARIMA(1,3,0)(0,0,0)[0]             : AIC=2707.155, Time=0.00 sec\n",
      " ARIMA(0,3,1)(0,0,0)[0]             : AIC=2682.372, Time=0.01 sec\n",
      " ARIMA(2,3,1)(0,0,0)[0]             : AIC=2659.226, Time=0.10 sec\n",
      " ARIMA(2,3,0)(0,0,0)[0]             : AIC=2678.992, Time=0.01 sec\n",
      " ARIMA(3,3,1)(0,0,0)[0]             : AIC=2660.791, Time=0.01 sec\n",
      " ARIMA(2,3,2)(0,0,0)[0]             : AIC=inf, Time=0.05 sec\n",
      " ARIMA(1,3,2)(0,0,0)[0]             : AIC=inf, Time=0.03 sec\n",
      " ARIMA(3,3,0)(0,0,0)[0]             : AIC=2676.882, Time=0.01 sec\n",
      " ARIMA(3,3,2)(0,0,0)[0]             : AIC=inf, Time=0.08 sec\n",
      " ARIMA(2,3,1)(0,0,0)[0] intercept   : AIC=2665.990, Time=0.01 sec\n",
      "\n",
      "Best model:  ARIMA(2,3,1)(0,0,0)[0]          \n",
      "Total fit time: 0.333 seconds\n"
     ]
    },
    {
     "data": {
      "text/html": [
       "<table class=\"simpletable\">\n",
       "<caption>SARIMAX Results</caption>\n",
       "<tr>\n",
       "  <th>Dep. Variable:</th>           <td>y</td>        <th>  No. Observations:  </th>    <td>59</td>    \n",
       "</tr>\n",
       "<tr>\n",
       "  <th>Model:</th>           <td>SARIMAX(2, 3, 1)</td> <th>  Log Likelihood     </th> <td>-1325.613</td>\n",
       "</tr>\n",
       "<tr>\n",
       "  <th>Date:</th>            <td>Fri, 21 Jul 2023</td> <th>  AIC                </th> <td>2659.226</td> \n",
       "</tr>\n",
       "<tr>\n",
       "  <th>Time:</th>                <td>20:10:47</td>     <th>  BIC                </th> <td>2667.328</td> \n",
       "</tr>\n",
       "<tr>\n",
       "  <th>Sample:</th>             <td>01-01-1960</td>    <th>  HQIC               </th> <td>2662.367</td> \n",
       "</tr>\n",
       "<tr>\n",
       "  <th></th>                   <td>- 01-01-2018</td>   <th>                     </th>     <td> </td>    \n",
       "</tr>\n",
       "<tr>\n",
       "  <th>Covariance Type:</th>        <td>opg</td>       <th>                     </th>     <td> </td>    \n",
       "</tr>\n",
       "</table>\n",
       "<table class=\"simpletable\">\n",
       "<tr>\n",
       "     <td></td>       <th>coef</th>     <th>std err</th>      <th>z</th>      <th>P>|z|</th>  <th>[0.025</th>    <th>0.975]</th>  \n",
       "</tr>\n",
       "<tr>\n",
       "  <th>ar.L1</th>  <td>   -0.7420</td> <td>    0.129</td> <td>   -5.756</td> <td> 0.000</td> <td>   -0.995</td> <td>   -0.489</td>\n",
       "</tr>\n",
       "<tr>\n",
       "  <th>ar.L2</th>  <td>   -0.4585</td> <td>    0.223</td> <td>   -2.056</td> <td> 0.040</td> <td>   -0.895</td> <td>   -0.022</td>\n",
       "</tr>\n",
       "<tr>\n",
       "  <th>ma.L1</th>  <td>   -0.9729</td> <td>    0.110</td> <td>   -8.806</td> <td> 0.000</td> <td>   -1.189</td> <td>   -0.756</td>\n",
       "</tr>\n",
       "<tr>\n",
       "  <th>sigma2</th> <td> 3.139e+19</td> <td> 4.77e-22</td> <td> 6.58e+40</td> <td> 0.000</td> <td> 3.14e+19</td> <td> 3.14e+19</td>\n",
       "</tr>\n",
       "</table>\n",
       "<table class=\"simpletable\">\n",
       "<tr>\n",
       "  <th>Ljung-Box (L1) (Q):</th>      <td>0.23</td>  <th>  Jarque-Bera (JB):  </th> <td>163.47</td>\n",
       "</tr>\n",
       "<tr>\n",
       "  <th>Prob(Q):</th>                 <td>0.63</td>  <th>  Prob(JB):          </th>  <td>0.00</td> \n",
       "</tr>\n",
       "<tr>\n",
       "  <th>Heteroskedasticity (H):</th> <td>440.85</td> <th>  Skew:              </th>  <td>-0.73</td>\n",
       "</tr>\n",
       "<tr>\n",
       "  <th>Prob(H) (two-sided):</th>     <td>0.00</td>  <th>  Kurtosis:          </th>  <td>11.24</td>\n",
       "</tr>\n",
       "</table><br/><br/>Warnings:<br/>[1] Covariance matrix calculated using the outer product of gradients (complex-step).<br/>[2] Covariance matrix is singular or near-singular, with condition number 1.22e+57. Standard errors may be unstable."
      ],
      "text/latex": [
       "\\begin{center}\n",
       "\\begin{tabular}{lclc}\n",
       "\\toprule\n",
       "\\textbf{Dep. Variable:}          &        y         & \\textbf{  No. Observations:  } &     59      \\\\\n",
       "\\textbf{Model:}                  & SARIMAX(2, 3, 1) & \\textbf{  Log Likelihood     } & -1325.613   \\\\\n",
       "\\textbf{Date:}                   & Fri, 21 Jul 2023 & \\textbf{  AIC                } &  2659.226   \\\\\n",
       "\\textbf{Time:}                   &     20:10:47     & \\textbf{  BIC                } &  2667.328   \\\\\n",
       "\\textbf{Sample:}                 &    01-01-1960    & \\textbf{  HQIC               } &  2662.367   \\\\\n",
       "\\textbf{}                        &   - 01-01-2018   & \\textbf{                     } &             \\\\\n",
       "\\textbf{Covariance Type:}        &       opg        & \\textbf{                     } &             \\\\\n",
       "\\bottomrule\n",
       "\\end{tabular}\n",
       "\\begin{tabular}{lcccccc}\n",
       "                & \\textbf{coef} & \\textbf{std err} & \\textbf{z} & \\textbf{P$> |$z$|$} & \\textbf{[0.025} & \\textbf{0.975]}  \\\\\n",
       "\\midrule\n",
       "\\textbf{ar.L1}  &      -0.7420  &        0.129     &    -5.756  &         0.000        &       -0.995    &       -0.489     \\\\\n",
       "\\textbf{ar.L2}  &      -0.4585  &        0.223     &    -2.056  &         0.040        &       -0.895    &       -0.022     \\\\\n",
       "\\textbf{ma.L1}  &      -0.9729  &        0.110     &    -8.806  &         0.000        &       -1.189    &       -0.756     \\\\\n",
       "\\textbf{sigma2} &    3.139e+19  &     4.77e-22     &  6.58e+40  &         0.000        &     3.14e+19    &     3.14e+19     \\\\\n",
       "\\bottomrule\n",
       "\\end{tabular}\n",
       "\\begin{tabular}{lclc}\n",
       "\\textbf{Ljung-Box (L1) (Q):}     &  0.23  & \\textbf{  Jarque-Bera (JB):  } & 163.47  \\\\\n",
       "\\textbf{Prob(Q):}                &  0.63  & \\textbf{  Prob(JB):          } &  0.00   \\\\\n",
       "\\textbf{Heteroskedasticity (H):} & 440.85 & \\textbf{  Skew:              } & -0.73   \\\\\n",
       "\\textbf{Prob(H) (two-sided):}    &  0.00  & \\textbf{  Kurtosis:          } & 11.24   \\\\\n",
       "\\bottomrule\n",
       "\\end{tabular}\n",
       "%\\caption{SARIMAX Results}\n",
       "\\end{center}\n",
       "\n",
       "Warnings: \\newline\n",
       " [1] Covariance matrix calculated using the outer product of gradients (complex-step). \\newline\n",
       " [2] Covariance matrix is singular or near-singular, with condition number 1.22e+57. Standard errors may be unstable."
      ],
      "text/plain": [
       "<class 'statsmodels.iolib.summary.Summary'>\n",
       "\"\"\"\n",
       "                               SARIMAX Results                                \n",
       "==============================================================================\n",
       "Dep. Variable:                      y   No. Observations:                   59\n",
       "Model:               SARIMAX(2, 3, 1)   Log Likelihood               -1325.613\n",
       "Date:                Fri, 21 Jul 2023   AIC                           2659.226\n",
       "Time:                        20:10:47   BIC                           2667.328\n",
       "Sample:                    01-01-1960   HQIC                          2662.367\n",
       "                         - 01-01-2018                                         \n",
       "Covariance Type:                  opg                                         \n",
       "==============================================================================\n",
       "                 coef    std err          z      P>|z|      [0.025      0.975]\n",
       "------------------------------------------------------------------------------\n",
       "ar.L1         -0.7420      0.129     -5.756      0.000      -0.995      -0.489\n",
       "ar.L2         -0.4585      0.223     -2.056      0.040      -0.895      -0.022\n",
       "ma.L1         -0.9729      0.110     -8.806      0.000      -1.189      -0.756\n",
       "sigma2      3.139e+19   4.77e-22   6.58e+40      0.000    3.14e+19    3.14e+19\n",
       "===================================================================================\n",
       "Ljung-Box (L1) (Q):                   0.23   Jarque-Bera (JB):               163.47\n",
       "Prob(Q):                              0.63   Prob(JB):                         0.00\n",
       "Heteroskedasticity (H):             440.85   Skew:                            -0.73\n",
       "Prob(H) (two-sided):                  0.00   Kurtosis:                        11.24\n",
       "===================================================================================\n",
       "\n",
       "Warnings:\n",
       "[1] Covariance matrix calculated using the outer product of gradients (complex-step).\n",
       "[2] Covariance matrix is singular or near-singular, with condition number 1.22e+57. Standard errors may be unstable.\n",
       "\"\"\""
      ]
     },
     "execution_count": 16,
     "metadata": {},
     "output_type": "execute_result"
    }
   ],
   "source": [
    "smodel = pm.auto_arima(\n",
    "    train_df,\n",
    "    start_p=1,\n",
    "    d=3,\n",
    "    start_q=1,\n",
    "    max_p=3,\n",
    "    max_q=15,\n",
    "    D=3,\n",
    "    start_P=0,\n",
    "    test=\"adf\",\n",
    "    error_action=\"ignore\",\n",
    "    trace=True,\n",
    ")\n",
    "\n",
    "smodel.summary()"
   ]
  },
  {
   "cell_type": "code",
   "execution_count": 17,
   "metadata": {},
   "outputs": [
    {
     "data": {
      "text/plain": [
       "year\n",
       "1960-01-01    1.217087e+09\n",
       "1961-01-01    1.299720e+09\n",
       "1962-01-01    1.382353e+09\n",
       "1963-01-01    1.540616e+09\n",
       "1964-01-01    1.731092e+09\n",
       "                  ...     \n",
       "2017-01-01    6.040638e+10\n",
       "2018-01-01    6.729928e+10\n",
       "2019-01-01    6.833754e+10\n",
       "2020-01-01    7.004320e+10\n",
       "2021-01-01    7.759428e+10\n",
       "Name: GDP (current US$), Length: 62, dtype: float64"
      ]
     },
     "execution_count": 17,
     "metadata": {},
     "output_type": "execute_result"
    }
   ],
   "source": [
    "data"
   ]
  },
  {
   "cell_type": "code",
   "execution_count": 18,
   "metadata": {},
   "outputs": [
    {
     "name": "stdout",
     "output_type": "stream",
     "text": [
      "TRAIN size: 41 TEST size: 7\n",
      "TRAIN size: 48 TEST size: 7\n",
      "TRAIN size: 55 TEST size: 7\n"
     ]
    }
   ],
   "source": [
    "from sklearn.model_selection import TimeSeriesSplit\n",
    "\n",
    "tscv = TimeSeriesSplit(n_splits=3, test_size=7)\n",
    "\n",
    "train_test_groups = tscv.split(data) \n",
    "for train_index, test_index in train_test_groups:\n",
    "    print(\"TRAIN size:\", len(train_index), \"TEST size:\", len(test_index))"
   ]
  },
  {
   "cell_type": "code",
   "execution_count": 19,
   "metadata": {},
   "outputs": [
    {
     "data": {
      "text/plain": [
       "year\n",
       "1960-01-01          NaN\n",
       "1961-01-01     6.789413\n",
       "1962-01-01     6.357759\n",
       "1963-01-01    11.448835\n",
       "1964-01-01    12.363636\n",
       "Name: GDP (current US$), dtype: float64"
      ]
     },
     "execution_count": 19,
     "metadata": {},
     "output_type": "execute_result"
    }
   ],
   "source": [
    "data['vol'] = data.pct_change(1).mul(100).abs()\n",
    "data['vol'].head()"
   ]
  },
  {
   "cell_type": "code",
   "execution_count": 20,
   "metadata": {},
   "outputs": [
    {
     "data": {
      "image/png": "[encoded data removed]",
      "text/plain": [
       "<Figure size 640x480 with 1 Axes>"
      ]
     },
     "metadata": {},
     "output_type": "display_data"
    }
   ],
   "source": [
    "data.vol.plot()\n",
    "plt.show()"
   ]
  },
  {
   "cell_type": "code",
   "execution_count": 22,
   "metadata": {},
   "outputs": [
    {
     "ename": "KeyError",
     "evalue": "'2018-01-01'",
     "output_type": "error",
     "traceback": [
      "\u001b[0;31m---------------------------------------------------------------------------\u001b[0m",
      "\u001b[0;31mKeyError\u001b[0m                                  Traceback (most recent call last)",
      "File \u001b[0;32m~/anaconda3/lib/python3.11/site-packages/pandas/core/indexes/base.py:3653\u001b[0m, in \u001b[0;36mIndex.get_loc\u001b[0;34m(self, key)\u001b[0m\n\u001b[1;32m   3652\u001b[0m \u001b[39mtry\u001b[39;00m:\n\u001b[0;32m-> 3653\u001b[0m     \u001b[39mreturn\u001b[39;00m \u001b[39mself\u001b[39m\u001b[39m.\u001b[39m_engine\u001b[39m.\u001b[39mget_loc(casted_key)\n\u001b[1;32m   3654\u001b[0m \u001b[39mexcept\u001b[39;00m \u001b[39mKeyError\u001b[39;00m \u001b[39mas\u001b[39;00m err:\n",
      "File \u001b[0;32m~/anaconda3/lib/python3.11/site-packages/pandas/_libs/index.pyx:147\u001b[0m, in \u001b[0;36mpandas._libs.index.IndexEngine.get_loc\u001b[0;34m()\u001b[0m\n",
      "File \u001b[0;32m~/anaconda3/lib/python3.11/site-packages/pandas/_libs/index.pyx:176\u001b[0m, in \u001b[0;36mpandas._libs.index.IndexEngine.get_loc\u001b[0;34m()\u001b[0m\n",
      "File \u001b[0;32mpandas/_libs/hashtable_class_helper.pxi:7080\u001b[0m, in \u001b[0;36mpandas._libs.hashtable.PyObjectHashTable.get_item\u001b[0;34m()\u001b[0m\n",
      "File \u001b[0;32mpandas/_libs/hashtable_class_helper.pxi:7088\u001b[0m, in \u001b[0;36mpandas._libs.hashtable.PyObjectHashTable.get_item\u001b[0;34m()\u001b[0m\n",
      "\u001b[0;31mKeyError\u001b[0m: '2018-01-01'",
      "\nThe above exception was the direct cause of the following exception:\n",
      "\u001b[0;31mKeyError\u001b[0m                                  Traceback (most recent call last)",
      "Cell \u001b[0;32mIn[22], line 1\u001b[0m\n\u001b[0;32m----> 1\u001b[0m train_df \u001b[39m=\u001b[39m data\u001b[39m.\u001b[39mloc[:\u001b[39m\"\u001b[39m\u001b[39m2018-01-01\u001b[39m\u001b[39m\"\u001b[39m]\n\u001b[1;32m      2\u001b[0m test_df \u001b[39m=\u001b[39m data\u001b[39m.\u001b[39mloc[\u001b[39m\"\u001b[39m\u001b[39m2019-01-01\u001b[39m\u001b[39m\"\u001b[39m:]\n",
      "File \u001b[0;32m~/anaconda3/lib/python3.11/site-packages/pandas/core/indexing.py:1103\u001b[0m, in \u001b[0;36m_LocationIndexer.__getitem__\u001b[0;34m(self, key)\u001b[0m\n\u001b[1;32m   1100\u001b[0m axis \u001b[39m=\u001b[39m \u001b[39mself\u001b[39m\u001b[39m.\u001b[39maxis \u001b[39mor\u001b[39;00m \u001b[39m0\u001b[39m\n\u001b[1;32m   1102\u001b[0m maybe_callable \u001b[39m=\u001b[39m com\u001b[39m.\u001b[39mapply_if_callable(key, \u001b[39mself\u001b[39m\u001b[39m.\u001b[39mobj)\n\u001b[0;32m-> 1103\u001b[0m \u001b[39mreturn\u001b[39;00m \u001b[39mself\u001b[39m\u001b[39m.\u001b[39m_getitem_axis(maybe_callable, axis\u001b[39m=\u001b[39maxis)\n",
      "File \u001b[0;32m~/anaconda3/lib/python3.11/site-packages/pandas/core/indexing.py:1323\u001b[0m, in \u001b[0;36m_LocIndexer._getitem_axis\u001b[0;34m(self, key, axis)\u001b[0m\n\u001b[1;32m   1321\u001b[0m \u001b[39mif\u001b[39;00m \u001b[39misinstance\u001b[39m(key, \u001b[39mslice\u001b[39m):\n\u001b[1;32m   1322\u001b[0m     \u001b[39mself\u001b[39m\u001b[39m.\u001b[39m_validate_key(key, axis)\n\u001b[0;32m-> 1323\u001b[0m     \u001b[39mreturn\u001b[39;00m \u001b[39mself\u001b[39m\u001b[39m.\u001b[39m_get_slice_axis(key, axis\u001b[39m=\u001b[39maxis)\n\u001b[1;32m   1324\u001b[0m \u001b[39melif\u001b[39;00m com\u001b[39m.\u001b[39mis_bool_indexer(key):\n\u001b[1;32m   1325\u001b[0m     \u001b[39mreturn\u001b[39;00m \u001b[39mself\u001b[39m\u001b[39m.\u001b[39m_getbool_axis(key, axis\u001b[39m=\u001b[39maxis)\n",
      "File \u001b[0;32m~/anaconda3/lib/python3.11/site-packages/pandas/core/indexing.py:1355\u001b[0m, in \u001b[0;36m_LocIndexer._get_slice_axis\u001b[0;34m(self, slice_obj, axis)\u001b[0m\n\u001b[1;32m   1352\u001b[0m     \u001b[39mreturn\u001b[39;00m obj\u001b[39m.\u001b[39mcopy(deep\u001b[39m=\u001b[39m\u001b[39mFalse\u001b[39;00m)\n\u001b[1;32m   1354\u001b[0m labels \u001b[39m=\u001b[39m obj\u001b[39m.\u001b[39m_get_axis(axis)\n\u001b[0;32m-> 1355\u001b[0m indexer \u001b[39m=\u001b[39m labels\u001b[39m.\u001b[39mslice_indexer(slice_obj\u001b[39m.\u001b[39mstart, slice_obj\u001b[39m.\u001b[39mstop, slice_obj\u001b[39m.\u001b[39mstep)\n\u001b[1;32m   1357\u001b[0m \u001b[39mif\u001b[39;00m \u001b[39misinstance\u001b[39m(indexer, \u001b[39mslice\u001b[39m):\n\u001b[1;32m   1358\u001b[0m     \u001b[39mreturn\u001b[39;00m \u001b[39mself\u001b[39m\u001b[39m.\u001b[39mobj\u001b[39m.\u001b[39m_slice(indexer, axis\u001b[39m=\u001b[39maxis)\n",
      "File \u001b[0;32m~/anaconda3/lib/python3.11/site-packages/pandas/core/indexes/base.py:6344\u001b[0m, in \u001b[0;36mIndex.slice_indexer\u001b[0;34m(self, start, end, step)\u001b[0m\n\u001b[1;32m   6300\u001b[0m \u001b[39mdef\u001b[39;00m \u001b[39mslice_indexer\u001b[39m(\n\u001b[1;32m   6301\u001b[0m     \u001b[39mself\u001b[39m,\n\u001b[1;32m   6302\u001b[0m     start: Hashable \u001b[39m|\u001b[39m \u001b[39mNone\u001b[39;00m \u001b[39m=\u001b[39m \u001b[39mNone\u001b[39;00m,\n\u001b[1;32m   6303\u001b[0m     end: Hashable \u001b[39m|\u001b[39m \u001b[39mNone\u001b[39;00m \u001b[39m=\u001b[39m \u001b[39mNone\u001b[39;00m,\n\u001b[1;32m   6304\u001b[0m     step: \u001b[39mint\u001b[39m \u001b[39m|\u001b[39m \u001b[39mNone\u001b[39;00m \u001b[39m=\u001b[39m \u001b[39mNone\u001b[39;00m,\n\u001b[1;32m   6305\u001b[0m ) \u001b[39m-\u001b[39m\u001b[39m>\u001b[39m \u001b[39mslice\u001b[39m:\n\u001b[1;32m   6306\u001b[0m \u001b[39m    \u001b[39m\u001b[39m\"\"\"\u001b[39;00m\n\u001b[1;32m   6307\u001b[0m \u001b[39m    Compute the slice indexer for input labels and step.\u001b[39;00m\n\u001b[1;32m   6308\u001b[0m \n\u001b[0;32m   (...)\u001b[0m\n\u001b[1;32m   6342\u001b[0m \u001b[39m    slice(1, 3, None)\u001b[39;00m\n\u001b[1;32m   6343\u001b[0m \u001b[39m    \"\"\"\u001b[39;00m\n\u001b[0;32m-> 6344\u001b[0m     start_slice, end_slice \u001b[39m=\u001b[39m \u001b[39mself\u001b[39m\u001b[39m.\u001b[39mslice_locs(start, end, step\u001b[39m=\u001b[39mstep)\n\u001b[1;32m   6346\u001b[0m     \u001b[39m# return a slice\u001b[39;00m\n\u001b[1;32m   6347\u001b[0m     \u001b[39mif\u001b[39;00m \u001b[39mnot\u001b[39;00m is_scalar(start_slice):\n",
      "File \u001b[0;32m~/anaconda3/lib/python3.11/site-packages/pandas/core/indexes/base.py:6543\u001b[0m, in \u001b[0;36mIndex.slice_locs\u001b[0;34m(self, start, end, step)\u001b[0m\n\u001b[1;32m   6541\u001b[0m end_slice \u001b[39m=\u001b[39m \u001b[39mNone\u001b[39;00m\n\u001b[1;32m   6542\u001b[0m \u001b[39mif\u001b[39;00m end \u001b[39mis\u001b[39;00m \u001b[39mnot\u001b[39;00m \u001b[39mNone\u001b[39;00m:\n\u001b[0;32m-> 6543\u001b[0m     end_slice \u001b[39m=\u001b[39m \u001b[39mself\u001b[39m\u001b[39m.\u001b[39mget_slice_bound(end, \u001b[39m\"\u001b[39m\u001b[39mright\u001b[39m\u001b[39m\"\u001b[39m)\n\u001b[1;32m   6544\u001b[0m \u001b[39mif\u001b[39;00m end_slice \u001b[39mis\u001b[39;00m \u001b[39mNone\u001b[39;00m:\n\u001b[1;32m   6545\u001b[0m     end_slice \u001b[39m=\u001b[39m \u001b[39mlen\u001b[39m(\u001b[39mself\u001b[39m)\n",
      "File \u001b[0;32m~/anaconda3/lib/python3.11/site-packages/pandas/core/indexes/base.py:6462\u001b[0m, in \u001b[0;36mIndex.get_slice_bound\u001b[0;34m(self, label, side)\u001b[0m\n\u001b[1;32m   6459\u001b[0m         \u001b[39mreturn\u001b[39;00m \u001b[39mself\u001b[39m\u001b[39m.\u001b[39m_searchsorted_monotonic(label, side)\n\u001b[1;32m   6460\u001b[0m     \u001b[39mexcept\u001b[39;00m \u001b[39mValueError\u001b[39;00m:\n\u001b[1;32m   6461\u001b[0m         \u001b[39m# raise the original KeyError\u001b[39;00m\n\u001b[0;32m-> 6462\u001b[0m         \u001b[39mraise\u001b[39;00m err\n\u001b[1;32m   6464\u001b[0m \u001b[39mif\u001b[39;00m \u001b[39misinstance\u001b[39m(slc, np\u001b[39m.\u001b[39mndarray):\n\u001b[1;32m   6465\u001b[0m     \u001b[39m# get_loc may return a boolean array, which\u001b[39;00m\n\u001b[1;32m   6466\u001b[0m     \u001b[39m# is OK as long as they are representable by a slice.\u001b[39;00m\n\u001b[1;32m   6467\u001b[0m     \u001b[39massert\u001b[39;00m is_bool_dtype(slc\u001b[39m.\u001b[39mdtype)\n",
      "File \u001b[0;32m~/anaconda3/lib/python3.11/site-packages/pandas/core/indexes/base.py:6456\u001b[0m, in \u001b[0;36mIndex.get_slice_bound\u001b[0;34m(self, label, side)\u001b[0m\n\u001b[1;32m   6454\u001b[0m \u001b[39m# we need to look up the label\u001b[39;00m\n\u001b[1;32m   6455\u001b[0m \u001b[39mtry\u001b[39;00m:\n\u001b[0;32m-> 6456\u001b[0m     slc \u001b[39m=\u001b[39m \u001b[39mself\u001b[39m\u001b[39m.\u001b[39mget_loc(label)\n\u001b[1;32m   6457\u001b[0m \u001b[39mexcept\u001b[39;00m \u001b[39mKeyError\u001b[39;00m \u001b[39mas\u001b[39;00m err:\n\u001b[1;32m   6458\u001b[0m     \u001b[39mtry\u001b[39;00m:\n",
      "File \u001b[0;32m~/anaconda3/lib/python3.11/site-packages/pandas/core/indexes/base.py:3655\u001b[0m, in \u001b[0;36mIndex.get_loc\u001b[0;34m(self, key)\u001b[0m\n\u001b[1;32m   3653\u001b[0m     \u001b[39mreturn\u001b[39;00m \u001b[39mself\u001b[39m\u001b[39m.\u001b[39m_engine\u001b[39m.\u001b[39mget_loc(casted_key)\n\u001b[1;32m   3654\u001b[0m \u001b[39mexcept\u001b[39;00m \u001b[39mKeyError\u001b[39;00m \u001b[39mas\u001b[39;00m err:\n\u001b[0;32m-> 3655\u001b[0m     \u001b[39mraise\u001b[39;00m \u001b[39mKeyError\u001b[39;00m(key) \u001b[39mfrom\u001b[39;00m \u001b[39merr\u001b[39;00m\n\u001b[1;32m   3656\u001b[0m \u001b[39mexcept\u001b[39;00m \u001b[39mTypeError\u001b[39;00m:\n\u001b[1;32m   3657\u001b[0m     \u001b[39m# If we have a listlike key, _check_indexing_error will raise\u001b[39;00m\n\u001b[1;32m   3658\u001b[0m     \u001b[39m#  InvalidIndexError. Otherwise we fall through and re-raise\u001b[39;00m\n\u001b[1;32m   3659\u001b[0m     \u001b[39m#  the TypeError.\u001b[39;00m\n\u001b[1;32m   3660\u001b[0m     \u001b[39mself\u001b[39m\u001b[39m.\u001b[39m_check_indexing_error(key)\n",
      "\u001b[0;31mKeyError\u001b[0m: '2018-01-01'"
     ]
    }
   ],
   "source": [
    "train_df = data.loc[:\"2018-01-01\"]\n",
    "test_df = data.loc[\"2019-01-01\":]"
   ]
  },
  {
   "cell_type": "code",
   "execution_count": null,
   "metadata": {},
   "outputs": [
    {
     "data": {
      "text/plain": [
       "year\n",
       "1960-01-01          NaN\n",
       "1961-01-01     6.789413\n",
       "1962-01-01     6.357759\n",
       "1963-01-01    11.448835\n",
       "1964-01-01    12.363636\n",
       "                ...    \n",
       "2017-01-01     7.551317\n",
       "2018-01-01    11.410877\n",
       "2019-01-01     1.542746\n",
       "2020-01-01     2.495937\n",
       "2021-01-01    10.780603\n",
       "Name: GDP (current US$), Length: 62, dtype: float64"
      ]
     },
     "execution_count": 96,
     "metadata": {},
     "output_type": "execute_result"
    }
   ],
   "source": [
    "data.vol"
   ]
  },
  {
   "cell_type": "code",
   "execution_count": null,
   "metadata": {},
   "outputs": [
    {
     "ename": "NameError",
     "evalue": "name 'sgt' is not defined",
     "output_type": "error",
     "traceback": [
      "\u001b[0;31m---------------------------------------------------------------------------\u001b[0m",
      "\u001b[0;31mNameError\u001b[0m                                 Traceback (most recent call last)",
      "Cell \u001b[0;32mIn[91], line 3\u001b[0m\n\u001b[1;32m      1\u001b[0m plt\u001b[39m.\u001b[39mrcParams[\u001b[39m\"\u001b[39m\u001b[39mfigure.figsize\u001b[39m\u001b[39m\"\u001b[39m] \u001b[39m=\u001b[39m \u001b[39m10\u001b[39m, \u001b[39m5\u001b[39m\n\u001b[0;32m----> 3\u001b[0m sgt\u001b[39m.\u001b[39mplot_pacf(train_df\u001b[39m.\u001b[39mvol[\u001b[39m1\u001b[39m:], lags\u001b[39m=\u001b[39m\u001b[39m50\u001b[39m, method\u001b[39m=\u001b[39m\u001b[39m\"\u001b[39m\u001b[39mywm\u001b[39m\u001b[39m\"\u001b[39m)\n\u001b[1;32m      4\u001b[0m plt\u001b[39m.\u001b[39mshow()\n",
      "\u001b[0;31mNameError\u001b[0m: name 'sgt' is not defined"
     ]
    }
   ],
   "source": [
    "plt.rcParams[\"figure.figsize\"] = 10, 5\n",
    "\n",
    "sgt.plot_pacf(train_df.vol[1:], lags=50, method=\"ywm\")\n",
    "plt.show()"
   ]
  },
  {
   "cell_type": "code",
   "execution_count": null,
   "metadata": {},
   "outputs": [],
   "source": []
  }
 ],
 "metadata": {
  "kernelspec": {
   "display_name": "base",
   "language": "python",
   "name": "python3"
  },
  "language_info": {
   "codemirror_mode": {
    "name": "ipython",
    "version": 3
   },
   "file_extension": ".py",
   "mimetype": "text/x-python",
   "name": "python",
   "nbconvert_exporter": "python",
   "pygments_lexer": "ipython3",
   "version": "3.11.4"
  },
  "orig_nbformat": 4
 },
 "nbformat": 4,
 "nbformat_minor": 2
}
