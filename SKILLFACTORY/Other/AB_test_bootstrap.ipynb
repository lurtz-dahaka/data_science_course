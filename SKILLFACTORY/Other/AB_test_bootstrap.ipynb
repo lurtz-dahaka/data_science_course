{
 "cells": [
  {
   "attachments": {},
   "cell_type": "markdown",
   "metadata": {},
   "source": [
    "# <center> **Анализ результатов A/B-тестирования**"
   ]
  },
  {
   "attachments": {},
   "cell_type": "markdown",
   "metadata": {},
   "source": [
    "## **Краткое описание**"
   ]
  },
  {
   "attachments": {},
   "cell_type": "markdown",
   "metadata": {},
   "source": [
    "**В данном исследовании проводится оценка влияния нового продукта на конверсию бронирования и оплаты пользователем первой сессии с психологом Альтер (ga:goal18Completions).**"
   ]
  },
  {
   "attachments": {},
   "cell_type": "markdown",
   "metadata": {},
   "source": [
    "## **Определяем метрику**"
   ]
  },
  {
   "attachments": {},
   "cell_type": "markdown",
   "metadata": {},
   "source": [
    "**Оцениваем статистическую значимость изменения конверсии.**"
   ]
  },
  {
   "attachments": {},
   "cell_type": "markdown",
   "metadata": {},
   "source": [
    "### **Импортируем необходимые библиотеки**"
   ]
  },
  {
   "cell_type": "code",
   "execution_count": 2,
   "metadata": {},
   "outputs": [],
   "source": [
    "import pandas as pd # работа с таблицами\n",
    "import numpy as np # линейная алгебра\n",
    "import seaborn as sns # графики и диаграммы\n",
    "import matplotlib.pyplot as plt # графики и диаграммы\n",
    "from statsmodels.stats.proportion import proportions_ztest # статистические тесты\n",
    "from scipy.stats import norm # статистика"
   ]
  },
  {
   "attachments": {},
   "cell_type": "markdown",
   "metadata": {},
   "source": [
    "**Прочитаем наши данные**"
   ]
  },
  {
   "cell_type": "code",
   "execution_count": 3,
   "metadata": {},
   "outputs": [
    {
     "data": {
      "text/html": [
       "<div>\n",
       "<style scoped>\n",
       "    .dataframe tbody tr th:only-of-type {\n",
       "        vertical-align: middle;\n",
       "    }\n",
       "\n",
       "    .dataframe tbody tr th {\n",
       "        vertical-align: top;\n",
       "    }\n",
       "\n",
       "    .dataframe thead th {\n",
       "        text-align: right;\n",
       "    }\n",
       "</style>\n",
       "<table border=\"1\" class=\"dataframe\">\n",
       "  <thead>\n",
       "    <tr style=\"text-align: right;\">\n",
       "      <th></th>\n",
       "      <th>Variant</th>\n",
       "      <th>Date Hour and Minute</th>\n",
       "      <th>Source / Medium</th>\n",
       "      <th>City</th>\n",
       "      <th>Users</th>\n",
       "      <th>New Users</th>\n",
       "      <th>ga:goal11Completions</th>\n",
       "      <th>ga:goal12Completions</th>\n",
       "      <th>ga:goal18Completions</th>\n",
       "    </tr>\n",
       "  </thead>\n",
       "  <tbody>\n",
       "    <tr>\n",
       "      <th>0</th>\n",
       "      <td>0</td>\n",
       "      <td>202210131452</td>\n",
       "      <td>yandex.ru / referral</td>\n",
       "      <td>Moscow</td>\n",
       "      <td>1</td>\n",
       "      <td>1</td>\n",
       "      <td>0</td>\n",
       "      <td>0</td>\n",
       "      <td>0</td>\n",
       "    </tr>\n",
       "    <tr>\n",
       "      <th>1</th>\n",
       "      <td>0</td>\n",
       "      <td>202210131453</td>\n",
       "      <td>google / organic</td>\n",
       "      <td>Sochi</td>\n",
       "      <td>1</td>\n",
       "      <td>1</td>\n",
       "      <td>0</td>\n",
       "      <td>0</td>\n",
       "      <td>0</td>\n",
       "    </tr>\n",
       "    <tr>\n",
       "      <th>2</th>\n",
       "      <td>0</td>\n",
       "      <td>202210131454</td>\n",
       "      <td>google / cpc</td>\n",
       "      <td>Brno</td>\n",
       "      <td>1</td>\n",
       "      <td>1</td>\n",
       "      <td>0</td>\n",
       "      <td>0</td>\n",
       "      <td>0</td>\n",
       "    </tr>\n",
       "    <tr>\n",
       "      <th>3</th>\n",
       "      <td>0</td>\n",
       "      <td>202210131455</td>\n",
       "      <td>google / cpc</td>\n",
       "      <td>Brno</td>\n",
       "      <td>1</td>\n",
       "      <td>0</td>\n",
       "      <td>0</td>\n",
       "      <td>0</td>\n",
       "      <td>0</td>\n",
       "    </tr>\n",
       "    <tr>\n",
       "      <th>4</th>\n",
       "      <td>0</td>\n",
       "      <td>202210131455</td>\n",
       "      <td>google / organic</td>\n",
       "      <td>Moscow</td>\n",
       "      <td>1</td>\n",
       "      <td>0</td>\n",
       "      <td>0</td>\n",
       "      <td>0</td>\n",
       "      <td>0</td>\n",
       "    </tr>\n",
       "  </tbody>\n",
       "</table>\n",
       "</div>"
      ],
      "text/plain": [
       "   Variant  Date Hour and Minute       Source / Medium    City  Users  \\\n",
       "0        0          202210131452  yandex.ru / referral  Moscow      1   \n",
       "1        0          202210131453      google / organic   Sochi      1   \n",
       "2        0          202210131454          google / cpc    Brno      1   \n",
       "3        0          202210131455          google / cpc    Brno      1   \n",
       "4        0          202210131455      google / organic  Moscow      1   \n",
       "\n",
       "   New Users  ga:goal11Completions  ga:goal12Completions  ga:goal18Completions  \n",
       "0          1                     0                     0                     0  \n",
       "1          1                     0                     0                     0  \n",
       "2          1                     0                     0                     0  \n",
       "3          0                     0                     0                     0  \n",
       "4          0                     0                     0                     0  "
      ]
     },
     "execution_count": 3,
     "metadata": {},
     "output_type": "execute_result"
    }
   ],
   "source": [
    "ab_test = pd.read_csv('data/NovayaAnketa2022.csv')\n",
    "ab_test.head()"
   ]
  },
  {
   "attachments": {},
   "cell_type": "markdown",
   "metadata": {},
   "source": [
    "**Приведем столбец Date Hour and Minute к формату to_datetime для работы с датами, а также создадим отдельный столбец с датой**"
   ]
  },
  {
   "cell_type": "code",
   "execution_count": 4,
   "metadata": {},
   "outputs": [
    {
     "name": "stderr",
     "output_type": "stream",
     "text": [
      "/tmp/ipykernel_2826/3421065071.py:8: FutureWarning: Treating datetime data as categorical rather than numeric in `.describe` is deprecated and will be removed in a future version of pandas. Specify `datetime_is_numeric=True` to silence this warning and adopt the future behavior now.\n",
      "  ab_test['Date Hour and Minute'].describe()\n"
     ]
    },
    {
     "data": {
      "text/plain": [
       "count                  220408\n",
       "unique                  35304\n",
       "top       2022-10-20 13:10:00\n",
       "freq                       22\n",
       "first     2022-10-13 14:52:00\n",
       "last      2022-11-08 12:49:00\n",
       "Name: Date Hour and Minute, dtype: object"
      ]
     },
     "execution_count": 4,
     "metadata": {},
     "output_type": "execute_result"
    }
   ],
   "source": [
    "ab_test['Date Hour and Minute'] = pd.to_datetime(\n",
    "    ab_test['Date Hour and Minute'], \n",
    "    format='%Y%m%d%H%M'\n",
    "    )\n",
    "ab_test['date'] = pd.to_datetime(\n",
    "    ab_test['Date Hour and Minute']).dt.date\n",
    "\n",
    "ab_test['Date Hour and Minute'].describe()"
   ]
  },
  {
   "attachments": {},
   "cell_type": "markdown",
   "metadata": {},
   "source": [
    "**Убедимся, что сроки проведения А/Б теста одинаковы для каждой группы**"
   ]
  },
  {
   "cell_type": "code",
   "execution_count": 5,
   "metadata": {},
   "outputs": [
    {
     "data": {
      "text/html": [
       "<div>\n",
       "<style scoped>\n",
       "    .dataframe tbody tr th:only-of-type {\n",
       "        vertical-align: middle;\n",
       "    }\n",
       "\n",
       "    .dataframe tbody tr th {\n",
       "        vertical-align: top;\n",
       "    }\n",
       "\n",
       "    .dataframe thead th {\n",
       "        text-align: right;\n",
       "    }\n",
       "</style>\n",
       "<table border=\"1\" class=\"dataframe\">\n",
       "  <thead>\n",
       "    <tr style=\"text-align: right;\">\n",
       "      <th></th>\n",
       "      <th>min</th>\n",
       "      <th>max</th>\n",
       "    </tr>\n",
       "    <tr>\n",
       "      <th>Variant</th>\n",
       "      <th></th>\n",
       "      <th></th>\n",
       "    </tr>\n",
       "  </thead>\n",
       "  <tbody>\n",
       "    <tr>\n",
       "      <th>0</th>\n",
       "      <td>2022-10-13</td>\n",
       "      <td>2022-11-08</td>\n",
       "    </tr>\n",
       "    <tr>\n",
       "      <th>1</th>\n",
       "      <td>2022-10-13</td>\n",
       "      <td>2022-11-08</td>\n",
       "    </tr>\n",
       "  </tbody>\n",
       "</table>\n",
       "</div>"
      ],
      "text/plain": [
       "                min         max\n",
       "Variant                        \n",
       "0        2022-10-13  2022-11-08\n",
       "1        2022-10-13  2022-11-08"
      ]
     },
     "execution_count": 5,
     "metadata": {},
     "output_type": "execute_result"
    }
   ],
   "source": [
    "data_grouped = ab_test.groupby('Variant')['date'].agg(['min', 'max'])\n",
    "data_grouped"
   ]
  },
  {
   "attachments": {},
   "cell_type": "markdown",
   "metadata": {},
   "source": [
    "**Все верно. Тестирование проводилось с 13 октября по 8 ноября 2022 года, т.е почти 4 недели.**"
   ]
  },
  {
   "attachments": {},
   "cell_type": "markdown",
   "metadata": {},
   "source": [
    "**В столбце Users указано количество количество пользователей, которые зашли на сайт в определенную минуту эксперимента. Для чистоты анализа будем использовать только записи c 1 клиентом. Они составляют 96% данных, остальные удалим.**"
   ]
  },
  {
   "cell_type": "code",
   "execution_count": 6,
   "metadata": {},
   "outputs": [
    {
     "data": {
      "text/plain": [
       "1    0.957565\n",
       "2    0.037131\n",
       "3    0.004696\n",
       "4    0.000535\n",
       "5    0.000054\n",
       "6    0.000014\n",
       "9    0.000005\n",
       "Name: Users, dtype: float64"
      ]
     },
     "execution_count": 6,
     "metadata": {},
     "output_type": "execute_result"
    }
   ],
   "source": [
    "ab_test['Users'].value_counts(normalize=True)"
   ]
  },
  {
   "cell_type": "code",
   "execution_count": 7,
   "metadata": {},
   "outputs": [
    {
     "data": {
      "text/plain": [
       "(211055, 10)"
      ]
     },
     "execution_count": 7,
     "metadata": {},
     "output_type": "execute_result"
    }
   ],
   "source": [
    "ab_test = ab_test[ab_test['Users'] == 1]\n",
    "ab_test.shape"
   ]
  },
  {
   "attachments": {},
   "cell_type": "markdown",
   "metadata": {},
   "source": [
    "**Столбцы 'Source / Medium' и 'City' нам также не пригодятся**"
   ]
  },
  {
   "cell_type": "code",
   "execution_count": 8,
   "metadata": {},
   "outputs": [
    {
     "name": "stdout",
     "output_type": "stream",
     "text": [
      "<class 'pandas.core.frame.DataFrame'>\n",
      "Int64Index: 211055 entries, 0 to 220407\n",
      "Data columns (total 8 columns):\n",
      " #   Column                Non-Null Count   Dtype         \n",
      "---  ------                --------------   -----         \n",
      " 0   Variant               211055 non-null  int64         \n",
      " 1   Date Hour and Minute  211055 non-null  datetime64[ns]\n",
      " 2   Users                 211055 non-null  int64         \n",
      " 3   New Users             211055 non-null  int64         \n",
      " 4   ga:goal11Completions  211055 non-null  int64         \n",
      " 5   ga:goal12Completions  211055 non-null  int64         \n",
      " 6   ga:goal18Completions  211055 non-null  int64         \n",
      " 7   date                  211055 non-null  object        \n",
      "dtypes: datetime64[ns](1), int64(6), object(1)\n",
      "memory usage: 14.5+ MB\n"
     ]
    }
   ],
   "source": [
    "ab_test = ab_test.drop(columns=['Source / Medium', 'City'])\n",
    "ab_test.info()"
   ]
  },
  {
   "attachments": {},
   "cell_type": "markdown",
   "metadata": {},
   "source": [
    "**Проведем базовый анализ теста**"
   ]
  },
  {
   "cell_type": "code",
   "execution_count": 9,
   "metadata": {},
   "outputs": [
    {
     "data": {
      "text/html": [
       "<div>\n",
       "<style scoped>\n",
       "    .dataframe tbody tr th:only-of-type {\n",
       "        vertical-align: middle;\n",
       "    }\n",
       "\n",
       "    .dataframe tbody tr th {\n",
       "        vertical-align: top;\n",
       "    }\n",
       "\n",
       "    .dataframe thead th {\n",
       "        text-align: right;\n",
       "    }\n",
       "</style>\n",
       "<table border=\"1\" class=\"dataframe\">\n",
       "  <thead>\n",
       "    <tr style=\"text-align: right;\">\n",
       "      <th></th>\n",
       "      <th>Variant</th>\n",
       "      <th>Users</th>\n",
       "      <th>New Users</th>\n",
       "      <th>ga:goal11Completions</th>\n",
       "      <th>ga:goal12Completions</th>\n",
       "      <th>ga:goal18Completions</th>\n",
       "    </tr>\n",
       "  </thead>\n",
       "  <tbody>\n",
       "    <tr>\n",
       "      <th>count</th>\n",
       "      <td>211055.000000</td>\n",
       "      <td>211055.0</td>\n",
       "      <td>211055.000000</td>\n",
       "      <td>211055.000000</td>\n",
       "      <td>211055.000000</td>\n",
       "      <td>211055.000000</td>\n",
       "    </tr>\n",
       "    <tr>\n",
       "      <th>mean</th>\n",
       "      <td>0.495871</td>\n",
       "      <td>1.0</td>\n",
       "      <td>0.149203</td>\n",
       "      <td>0.025515</td>\n",
       "      <td>0.075649</td>\n",
       "      <td>0.006013</td>\n",
       "    </tr>\n",
       "    <tr>\n",
       "      <th>std</th>\n",
       "      <td>0.499984</td>\n",
       "      <td>0.0</td>\n",
       "      <td>0.356289</td>\n",
       "      <td>0.157683</td>\n",
       "      <td>0.264453</td>\n",
       "      <td>0.077308</td>\n",
       "    </tr>\n",
       "    <tr>\n",
       "      <th>min</th>\n",
       "      <td>0.000000</td>\n",
       "      <td>1.0</td>\n",
       "      <td>0.000000</td>\n",
       "      <td>0.000000</td>\n",
       "      <td>0.000000</td>\n",
       "      <td>0.000000</td>\n",
       "    </tr>\n",
       "    <tr>\n",
       "      <th>25%</th>\n",
       "      <td>0.000000</td>\n",
       "      <td>1.0</td>\n",
       "      <td>0.000000</td>\n",
       "      <td>0.000000</td>\n",
       "      <td>0.000000</td>\n",
       "      <td>0.000000</td>\n",
       "    </tr>\n",
       "    <tr>\n",
       "      <th>50%</th>\n",
       "      <td>0.000000</td>\n",
       "      <td>1.0</td>\n",
       "      <td>0.000000</td>\n",
       "      <td>0.000000</td>\n",
       "      <td>0.000000</td>\n",
       "      <td>0.000000</td>\n",
       "    </tr>\n",
       "    <tr>\n",
       "      <th>75%</th>\n",
       "      <td>1.000000</td>\n",
       "      <td>1.0</td>\n",
       "      <td>0.000000</td>\n",
       "      <td>0.000000</td>\n",
       "      <td>0.000000</td>\n",
       "      <td>0.000000</td>\n",
       "    </tr>\n",
       "    <tr>\n",
       "      <th>max</th>\n",
       "      <td>1.000000</td>\n",
       "      <td>1.0</td>\n",
       "      <td>1.000000</td>\n",
       "      <td>1.000000</td>\n",
       "      <td>2.000000</td>\n",
       "      <td>1.000000</td>\n",
       "    </tr>\n",
       "  </tbody>\n",
       "</table>\n",
       "</div>"
      ],
      "text/plain": [
       "             Variant     Users      New Users  ga:goal11Completions  \\\n",
       "count  211055.000000  211055.0  211055.000000         211055.000000   \n",
       "mean        0.495871       1.0       0.149203              0.025515   \n",
       "std         0.499984       0.0       0.356289              0.157683   \n",
       "min         0.000000       1.0       0.000000              0.000000   \n",
       "25%         0.000000       1.0       0.000000              0.000000   \n",
       "50%         0.000000       1.0       0.000000              0.000000   \n",
       "75%         1.000000       1.0       0.000000              0.000000   \n",
       "max         1.000000       1.0       1.000000              1.000000   \n",
       "\n",
       "       ga:goal12Completions  ga:goal18Completions  \n",
       "count         211055.000000         211055.000000  \n",
       "mean               0.075649              0.006013  \n",
       "std                0.264453              0.077308  \n",
       "min                0.000000              0.000000  \n",
       "25%                0.000000              0.000000  \n",
       "50%                0.000000              0.000000  \n",
       "75%                0.000000              0.000000  \n",
       "max                2.000000              1.000000  "
      ]
     },
     "execution_count": 9,
     "metadata": {},
     "output_type": "execute_result"
    }
   ],
   "source": [
    "ab_test.describe()"
   ]
  },
  {
   "attachments": {},
   "cell_type": "markdown",
   "metadata": {},
   "source": [
    "**Посмотрим сколько регистраций и оплат было совершено в каждой группе.**"
   ]
  },
  {
   "cell_type": "code",
   "execution_count": 10,
   "metadata": {},
   "outputs": [
    {
     "data": {
      "text/html": [
       "<div>\n",
       "<style scoped>\n",
       "    .dataframe tbody tr th:only-of-type {\n",
       "        vertical-align: middle;\n",
       "    }\n",
       "\n",
       "    .dataframe tbody tr th {\n",
       "        vertical-align: top;\n",
       "    }\n",
       "\n",
       "    .dataframe thead th {\n",
       "        text-align: right;\n",
       "    }\n",
       "</style>\n",
       "<table border=\"1\" class=\"dataframe\">\n",
       "  <thead>\n",
       "    <tr style=\"text-align: right;\">\n",
       "      <th></th>\n",
       "      <th>Variant</th>\n",
       "      <th>count_visits</th>\n",
       "      <th>count_purchases</th>\n",
       "    </tr>\n",
       "  </thead>\n",
       "  <tbody>\n",
       "    <tr>\n",
       "      <th>0</th>\n",
       "      <td>0</td>\n",
       "      <td>106399</td>\n",
       "      <td>635</td>\n",
       "    </tr>\n",
       "    <tr>\n",
       "      <th>1</th>\n",
       "      <td>1</td>\n",
       "      <td>104656</td>\n",
       "      <td>634</td>\n",
       "    </tr>\n",
       "  </tbody>\n",
       "</table>\n",
       "</div>"
      ],
      "text/plain": [
       "   Variant  count_visits  count_purchases\n",
       "0        0        106399              635\n",
       "1        1        104656              634"
      ]
     },
     "execution_count": 10,
     "metadata": {},
     "output_type": "execute_result"
    }
   ],
   "source": [
    "data_grouped = ab_test.groupby('Variant').agg({\n",
    "    'Users':'count',\n",
    "    'ga:goal18Completions':'sum'\n",
    "}).reset_index().rename(columns={\n",
    "    'Users': 'count_visits',\n",
    "    'ga:goal18Completions': 'count_purchases'\n",
    "})\n",
    "data_grouped"
   ]
  },
  {
   "attachments": {},
   "cell_type": "markdown",
   "metadata": {},
   "source": [
    "**Добавим столбец с конверсией**"
   ]
  },
  {
   "cell_type": "code",
   "execution_count": 11,
   "metadata": {},
   "outputs": [
    {
     "data": {
      "text/html": [
       "<div>\n",
       "<style scoped>\n",
       "    .dataframe tbody tr th:only-of-type {\n",
       "        vertical-align: middle;\n",
       "    }\n",
       "\n",
       "    .dataframe tbody tr th {\n",
       "        vertical-align: top;\n",
       "    }\n",
       "\n",
       "    .dataframe thead th {\n",
       "        text-align: right;\n",
       "    }\n",
       "</style>\n",
       "<table border=\"1\" class=\"dataframe\">\n",
       "  <thead>\n",
       "    <tr style=\"text-align: right;\">\n",
       "      <th></th>\n",
       "      <th>Variant</th>\n",
       "      <th>count_visits</th>\n",
       "      <th>count_purchases</th>\n",
       "      <th>conversion</th>\n",
       "    </tr>\n",
       "  </thead>\n",
       "  <tbody>\n",
       "    <tr>\n",
       "      <th>0</th>\n",
       "      <td>0</td>\n",
       "      <td>106399</td>\n",
       "      <td>635</td>\n",
       "      <td>0.596810</td>\n",
       "    </tr>\n",
       "    <tr>\n",
       "      <th>1</th>\n",
       "      <td>1</td>\n",
       "      <td>104656</td>\n",
       "      <td>634</td>\n",
       "      <td>0.605794</td>\n",
       "    </tr>\n",
       "  </tbody>\n",
       "</table>\n",
       "</div>"
      ],
      "text/plain": [
       "   Variant  count_visits  count_purchases  conversion\n",
       "0        0        106399              635    0.596810\n",
       "1        1        104656              634    0.605794"
      ]
     },
     "execution_count": 11,
     "metadata": {},
     "output_type": "execute_result"
    }
   ],
   "source": [
    "data_grouped['conversion'] = data_grouped['count_purchases'] / data_grouped['count_visits'] * 100\n",
    "data_grouped"
   ]
  },
  {
   "attachments": {},
   "cell_type": "markdown",
   "metadata": {},
   "source": [
    "**Показатели очень близки. Для обеих групп конверсия составляет примерно 0,6%**"
   ]
  },
  {
   "attachments": {},
   "cell_type": "markdown",
   "metadata": {},
   "source": [
    "**Теперь оценим стабилизацию кумулятивных метрик во времени.**"
   ]
  },
  {
   "cell_type": "code",
   "execution_count": 12,
   "metadata": {},
   "outputs": [
    {
     "data": {
      "text/html": [
       "<div>\n",
       "<style scoped>\n",
       "    .dataframe tbody tr th:only-of-type {\n",
       "        vertical-align: middle;\n",
       "    }\n",
       "\n",
       "    .dataframe tbody tr th {\n",
       "        vertical-align: top;\n",
       "    }\n",
       "\n",
       "    .dataframe thead th {\n",
       "        text-align: right;\n",
       "    }\n",
       "</style>\n",
       "<table border=\"1\" class=\"dataframe\">\n",
       "  <thead>\n",
       "    <tr style=\"text-align: right;\">\n",
       "      <th></th>\n",
       "      <th>date</th>\n",
       "      <th>Variant</th>\n",
       "      <th>count_visits</th>\n",
       "      <th>count_purchases</th>\n",
       "      <th>conversion</th>\n",
       "      <th>cum_count_visits</th>\n",
       "      <th>cum_count_purchases</th>\n",
       "      <th>cum_conversion</th>\n",
       "    </tr>\n",
       "  </thead>\n",
       "  <tbody>\n",
       "    <tr>\n",
       "      <th>0</th>\n",
       "      <td>2022-10-13</td>\n",
       "      <td>0</td>\n",
       "      <td>2192</td>\n",
       "      <td>11</td>\n",
       "      <td>0.501825</td>\n",
       "      <td>2192</td>\n",
       "      <td>11</td>\n",
       "      <td>0.501825</td>\n",
       "    </tr>\n",
       "    <tr>\n",
       "      <th>1</th>\n",
       "      <td>2022-10-13</td>\n",
       "      <td>1</td>\n",
       "      <td>2139</td>\n",
       "      <td>14</td>\n",
       "      <td>0.654511</td>\n",
       "      <td>2139</td>\n",
       "      <td>14</td>\n",
       "      <td>0.654511</td>\n",
       "    </tr>\n",
       "    <tr>\n",
       "      <th>2</th>\n",
       "      <td>2022-10-14</td>\n",
       "      <td>0</td>\n",
       "      <td>3916</td>\n",
       "      <td>22</td>\n",
       "      <td>0.561798</td>\n",
       "      <td>6108</td>\n",
       "      <td>33</td>\n",
       "      <td>0.540275</td>\n",
       "    </tr>\n",
       "    <tr>\n",
       "      <th>3</th>\n",
       "      <td>2022-10-14</td>\n",
       "      <td>1</td>\n",
       "      <td>4004</td>\n",
       "      <td>28</td>\n",
       "      <td>0.699301</td>\n",
       "      <td>6143</td>\n",
       "      <td>42</td>\n",
       "      <td>0.683705</td>\n",
       "    </tr>\n",
       "    <tr>\n",
       "      <th>4</th>\n",
       "      <td>2022-10-15</td>\n",
       "      <td>0</td>\n",
       "      <td>3497</td>\n",
       "      <td>9</td>\n",
       "      <td>0.257363</td>\n",
       "      <td>9605</td>\n",
       "      <td>42</td>\n",
       "      <td>0.437272</td>\n",
       "    </tr>\n",
       "  </tbody>\n",
       "</table>\n",
       "</div>"
      ],
      "text/plain": [
       "         date  Variant  count_visits  count_purchases  conversion  \\\n",
       "0  2022-10-13        0          2192               11    0.501825   \n",
       "1  2022-10-13        1          2139               14    0.654511   \n",
       "2  2022-10-14        0          3916               22    0.561798   \n",
       "3  2022-10-14        1          4004               28    0.699301   \n",
       "4  2022-10-15        0          3497                9    0.257363   \n",
       "\n",
       "   cum_count_visits  cum_count_purchases  cum_conversion  \n",
       "0              2192                   11        0.501825  \n",
       "1              2139                   14        0.654511  \n",
       "2              6108                   33        0.540275  \n",
       "3              6143                   42        0.683705  \n",
       "4              9605                   42        0.437272  "
      ]
     },
     "execution_count": 12,
     "metadata": {},
     "output_type": "execute_result"
    }
   ],
   "source": [
    "data_grouped_cum = ab_test.groupby(['date', 'Variant']).agg({\n",
    "    'Users':'count',\n",
    "    'ga:goal18Completions':'sum'\n",
    "}).reset_index().rename(columns={\n",
    "    'Users': 'count_visits',\n",
    "    'ga:goal18Completions': 'count_purchases'\n",
    "})\n",
    "data_grouped_cum['conversion'] = data_grouped_cum['count_purchases'] / data_grouped_cum['count_visits'] * 100\n",
    "data_grouped_cum['cum_count_visits'] = data_grouped_cum.groupby(\n",
    "    ['Variant'])['count_visits'].cumsum()\n",
    "data_grouped_cum['cum_count_purchases'] = data_grouped_cum.groupby(\n",
    "    ['Variant'])['count_purchases'].cumsum()\n",
    "data_grouped_cum['cum_conversion'] = data_grouped_cum['cum_count_purchases'] / data_grouped_cum['cum_count_visits'] * 100\n",
    "\n",
    "data_grouped_cum.head()"
   ]
  },
  {
   "attachments": {},
   "cell_type": "markdown",
   "metadata": {},
   "source": [
    "**Визуализируем изменение кумулятивной метрики**"
   ]
  },
  {
   "cell_type": "code",
   "execution_count": 13,
   "metadata": {},
   "outputs": [
    {
     "data": {
      "image/png": "[encoded data removed]",
      "text/plain": [
       "<Figure size 800x400 with 1 Axes>"
      ]
     },
     "metadata": {},
     "output_type": "display_data"
    }
   ],
   "source": [
    "fig = plt.figure(figsize=[8, 4])\n",
    "ax = fig.add_axes([1, 1, 1, 1])\n",
    "sns.lineplot(\n",
    "    data=data_grouped_cum,\n",
    "    x='date',\n",
    "    y='cum_conversion',\n",
    "    hue='Variant',\n",
    "    ax=ax\n",
    ")\n",
    "ax.set_title('График кумулятивной конверсии группы А и В')\n",
    "ax.xaxis.set_tick_params(rotation=45)\n",
    "ax.grid(True);"
   ]
  },
  {
   "attachments": {},
   "cell_type": "markdown",
   "metadata": {},
   "source": [
    "**Заметим, что в группе В(1) метрика в начале эксперимента выше, чем в группе А(0), однако, после 1 ноября конверсия для обеих групп сравнялась.**"
   ]
  },
  {
   "attachments": {},
   "cell_type": "markdown",
   "metadata": {},
   "source": [
    "**Теперь перейдем к проверке статистической значимости метрик в обеих группах. Уровень значимости установим 0.05**"
   ]
  },
  {
   "cell_type": "code",
   "execution_count": 14,
   "metadata": {},
   "outputs": [
    {
     "data": {
      "text/html": [
       "<div>\n",
       "<style scoped>\n",
       "    .dataframe tbody tr th:only-of-type {\n",
       "        vertical-align: middle;\n",
       "    }\n",
       "\n",
       "    .dataframe tbody tr th {\n",
       "        vertical-align: top;\n",
       "    }\n",
       "\n",
       "    .dataframe thead th {\n",
       "        text-align: right;\n",
       "    }\n",
       "</style>\n",
       "<table border=\"1\" class=\"dataframe\">\n",
       "  <thead>\n",
       "    <tr style=\"text-align: right;\">\n",
       "      <th></th>\n",
       "      <th>Variant</th>\n",
       "      <th>count_visits</th>\n",
       "      <th>count_purchases</th>\n",
       "      <th>conversion</th>\n",
       "    </tr>\n",
       "  </thead>\n",
       "  <tbody>\n",
       "    <tr>\n",
       "      <th>0</th>\n",
       "      <td>0</td>\n",
       "      <td>106399</td>\n",
       "      <td>635</td>\n",
       "      <td>0.596810</td>\n",
       "    </tr>\n",
       "    <tr>\n",
       "      <th>1</th>\n",
       "      <td>1</td>\n",
       "      <td>104656</td>\n",
       "      <td>634</td>\n",
       "      <td>0.605794</td>\n",
       "    </tr>\n",
       "  </tbody>\n",
       "</table>\n",
       "</div>"
      ],
      "text/plain": [
       "   Variant  count_visits  count_purchases  conversion\n",
       "0        0        106399              635    0.596810\n",
       "1        1        104656              634    0.605794"
      ]
     },
     "execution_count": 14,
     "metadata": {},
     "output_type": "execute_result"
    }
   ],
   "source": [
    "data_grouped"
   ]
  },
  {
   "cell_type": "code",
   "execution_count": 15,
   "metadata": {},
   "outputs": [
    {
     "name": "stdout",
     "output_type": "stream",
     "text": [
      "p-value:  0.79\n",
      "Принимаем нулевую гипотезу. Конверсии в группах А и B равны\n"
     ]
    }
   ],
   "source": [
    "# для сравнения конверсий мы будем \n",
    "# использовать z-критерий для пропорций\n",
    "\n",
    "H0 = 'Конверсии в группах А и B равны'\n",
    "H1 = 'Конверсия в группе А выше, чем конверсия в группе B'\n",
    "alpha = 0.05\n",
    "\n",
    "_, p_value = proportions_ztest(\n",
    "    count=data_grouped['count_purchases'],\n",
    "    nobs=data_grouped['count_visits'], \n",
    "    alternative='two-sided'\n",
    ")\n",
    "\n",
    "print('p-value: ', round(p_value, 2))\n",
    "if (p_value < alpha): \n",
    "    print(\"Отвергаем нулевую гипотезу. {}\".format(H0))\n",
    "    print(\"Альтернативная гипотеза. H1: {}\".format(H1))\n",
    "else:\n",
    "    print(\"Принимаем нулевую гипотезу. {}\".format(H0))"
   ]
  },
  {
   "attachments": {},
   "cell_type": "markdown",
   "metadata": {},
   "source": [
    "**Проведя Z-тест, мы получили p-value равное 0.79. Так как  уровень значимости $\\alpha$ = 0.05, то мы приняли нулевую гипотезу о том, что конверсии равны. Поэтому статистическая значимость между конверсиями А и В отсутствует**"
   ]
  },
  {
   "attachments": {},
   "cell_type": "markdown",
   "metadata": {},
   "source": [
    "**Теперь убедимся в правильности выводов и построим 95% доверительный интервал**"
   ]
  },
  {
   "cell_type": "code",
   "execution_count": 16,
   "metadata": {},
   "outputs": [],
   "source": [
    "group_a = ab_test[ab_test['Variant'] == 0]\n",
    "group_b = ab_test[ab_test['Variant'] == 1]"
   ]
  },
  {
   "cell_type": "code",
   "execution_count": 17,
   "metadata": {},
   "outputs": [
    {
     "name": "stdout",
     "output_type": "stream",
     "text": [
      "Доверительный интервал группы А: (0.0055, 0.0064)\n",
      "Доверительный интервал группы B: (0.0056, 0.0065)\n"
     ]
    }
   ],
   "source": [
    "def z_mean_conf_interval(n, x_mean, x_std, gamma=0.95):\n",
    "    alpha = 1 - gamma # уровень значимости\n",
    "    z_crit = -norm.ppf(alpha/2) # z критическое\n",
    "    eps = z_crit * x_std / n**0.5 # погрешность\n",
    "    lower_bound = x_mean - eps # левая (нижняя) граница\n",
    "    upper_bound = x_mean + eps # правая (верхняя) граница\n",
    "    return lower_bound, upper_bound\n",
    "\n",
    "lower_bound_a, upper_bound_a = z_mean_conf_interval(\n",
    "    group_a.shape[0], \n",
    "    group_a['ga:goal18Completions'].mean(),\n",
    "    group_a['ga:goal18Completions'].std()\n",
    "    )\n",
    "# возвращаем кортеж из округлённых границ интервала для группы А\n",
    "confidence_interval_a = (round(lower_bound_a, 4), round(upper_bound_a, 4))\n",
    "\n",
    "lower_bound_b, upper_bound_b = z_mean_conf_interval(\n",
    "    group_b.shape[0], \n",
    "    group_b['ga:goal18Completions'].mean(),\n",
    "    group_b['ga:goal18Completions'].std()\n",
    "    )\n",
    "# возвращаем кортеж из округлённых границ интервала для группы В\n",
    "confidence_interval_b = (round(lower_bound_b, 4), round(upper_bound_b, 4))\n",
    "\n",
    "print(f'Доверительный интервал группы А: {confidence_interval_a}')\n",
    "print(f'Доверительный интервал группы B: {confidence_interval_b}')"
   ]
  },
  {
   "attachments": {},
   "cell_type": "markdown",
   "metadata": {},
   "source": [
    "**Также построим доверительный интервал для разности конверсий**\n"
   ]
  },
  {
   "cell_type": "code",
   "execution_count": 18,
   "metadata": {},
   "outputs": [
    {
     "name": "stdout",
     "output_type": "stream",
     "text": [
      "Доверительный интервал для разности конверсий: (-0.06, 0.07)\n"
     ]
    }
   ],
   "source": [
    "def diff_proportions_conf_interval(n, x_p, gamma=0.95):\n",
    "    alpha = 1 - gamma # уровень значимости\n",
    "    diff = x_p[1] - x_p[0] # выборочная разница конверсий групп B и A\n",
    "    z_crit = -norm.ppf(alpha/2) # z критическое\n",
    "    eps = z_crit * (x_p[0] * (1 - x_p[0])/n[0] + x_p[1] * (1 - x_p[1])/n[1]) ** 0.5 # погрешность\n",
    "    lower_bound = diff - eps # левая (нижняя) граница\n",
    "    upper_bound = diff + eps # правая (верхняя) граница\n",
    "    # возвращаем кортеж из округлённых границ интервала\n",
    "    return round(lower_bound *100, 2), round(upper_bound * 100, 2)\n",
    "\n",
    "# размеры выборок групп А и B\n",
    "n = [group_a.shape[0], group_b.shape[0]]\n",
    "# выборочная пропорция групп A и B\n",
    "x_p = [group_a['ga:goal18Completions'].mean(), group_b['ga:goal18Completions'].mean()]\n",
    "# строим доверительный интервал для разности конверсий\n",
    "diff_inverval = diff_proportions_conf_interval(n, x_p)\n",
    "print('Доверительный интервал для разности конверсий: {}'.format(diff_inverval))"
   ]
  },
  {
   "attachments": {},
   "cell_type": "markdown",
   "metadata": {},
   "source": [
    "**Интервал охватывает точку 0. Левая граница доверительного интервала\n",
    "отрицательная, а правая — положительная. То есть истинная разница в\n",
    "пропорциях ∆𝑝 = 𝑝𝑏 − 𝑝𝑎 может быть как положительной, так и отрицательной.\n",
    "Это значит, что пропорция А равна пропорции B.**"
   ]
  },
  {
   "attachments": {},
   "cell_type": "markdown",
   "metadata": {},
   "source": [
    "## **Бустреп**"
   ]
  },
  {
   "attachments": {},
   "cell_type": "markdown",
   "metadata": {},
   "source": [
    "**Оценим конверсии и найдем доверительные интервалы для разниц конверсий, сгенерировав 10000 подвыборок.**"
   ]
  },
  {
   "cell_type": "code",
   "execution_count": 19,
   "metadata": {},
   "outputs": [
    {
     "name": "stdout",
     "output_type": "stream",
     "text": [
      "Значение конверсии изменилось на: 0.009%\n",
      "95% доверительный интервал: (-0.06, 0.07)\n",
      "Отличия статистически значимые: False\n"
     ]
    }
   ],
   "source": [
    "conversion_a = [] # создадим пустой список, куда будем вносить значения конверсии А\n",
    "conversion_b = [] # создадим пустой список, куда будем вносить значения конверсии В\n",
    "conversion_diffs = [] # создадим пустой список, куда будем вносить значения разности\n",
    "\n",
    "for _ in range(10000): # запускаем цикл на 10000 итераций\n",
    "    # создаем подвыборку для группы А с таким же размером\n",
    "    sample_a = np.random.binomial(\n",
    "        1, \n",
    "        group_a['ga:goal18Completions'].mean(), \n",
    "        group_a.shape[0]\n",
    "        )\n",
    "    # создаем подвыборку для группы В с таким же размером\n",
    "    sample_b = np.random.binomial(\n",
    "        1, \n",
    "        group_b['ga:goal18Completions'].mean(), \n",
    "        group_b.shape[0]\n",
    "        )\n",
    "    sample_a_mean = sample_a.mean() # считаем конверсию группы А\n",
    "    sample_b_mean = sample_b.mean() # считаем конверсию группы B\n",
    "    conversion_a.append(sample_a_mean) # сохраняем в список\n",
    "    conversion_b.append(sample_b_mean) # сохраняем в список\n",
    "    # находим разницу конверсий и добавляем ее в список\n",
    "    conversion_diffs.append(sample_b_mean - sample_a_mean)\n",
    "    \n",
    "# размеры выборок групп А и B\n",
    "n = [group_a.shape[0], group_b.shape[0]]\n",
    "# выборочная пропорция групп A и B\n",
    "x_p = [np.average(conversion_a), np.average(conversion_b)]\n",
    "# строим доверительный интервал для разности конверсий\n",
    "diff_inverval = diff_proportions_conf_interval(n, x_p)\n",
    "has_effect = not (diff_inverval[0] < 0 < diff_inverval[1])\n",
    "print(f'Значение конверсии изменилось на: {(np.average(conversion_diffs)*100):0.3f}%')\n",
    "print(f'95% доверительный интервал: ({diff_inverval[0]}, {diff_inverval[1]})')\n",
    "print(f'Отличия статистически значимые: {has_effect}')\n",
    "    "
   ]
  },
  {
   "cell_type": "code",
   "execution_count": 20,
   "metadata": {},
   "outputs": [
    {
     "name": "stdout",
     "output_type": "stream",
     "text": [
      "Значение конверсии изменилось на: 0.009%\n",
      "95% доверительный интервал: (-0.06, 0.07)\n",
      "Отличия статистически значимые: False\n"
     ]
    }
   ],
   "source": [
    "conversion_a = [] # создадим пустой список, куда будем вносить значения конверсии А\n",
    "conversion_b = [] # создадим пустой список, куда будем вносить значения конверсии В\n",
    "conversion_diffs = [] # создадим пустой список, куда будем вносить значения разности\n",
    "\n",
    "for _ in range(10000): # запускаем цикл на 10000 итераций\n",
    "    # создаем подвыборку для группы А с таким же размером\n",
    "    sample_a = np.random.choice(\n",
    "        group_a['ga:goal18Completions'],\n",
    "        group_a.shape[0],\n",
    "        replace=True\n",
    "        )\n",
    "    # создаем подвыборку для группы В с таким же размером\n",
    "    sample_b = np.random.choice(\n",
    "        group_b['ga:goal18Completions'],\n",
    "        group_b.shape[0],\n",
    "        replace=True\n",
    "        )\n",
    "    sample_a_mean = sample_a.mean() # считаем конверсию группы А\n",
    "    sample_b_mean = sample_b.mean() # считаем конверсию группы B\n",
    "    conversion_a.append(sample_a_mean) # сохраняем в список\n",
    "    conversion_b.append(sample_b_mean) # сохраняем в список\n",
    "    # находим разницу конверсий и добавляем ее в список\n",
    "    conversion_diffs.append(sample_b_mean - sample_a_mean)\n",
    "    \n",
    "# размеры выборок групп А и B\n",
    "n = [group_a.shape[0], group_b.shape[0]]\n",
    "# выборочная пропорция групп A и B\n",
    "x_p = [np.average(conversion_a), np.average(conversion_b)]\n",
    "# строим доверительный интервал для разности конверсий\n",
    "diff_inverval = diff_proportions_conf_interval(n, x_p)\n",
    "has_effect = not (diff_inverval[0] < 0 < diff_inverval[1])\n",
    "print(f'Значение конверсии изменилось на: {(np.average(conversion_diffs)*100):0.3f}%')\n",
    "print(f'95% доверительный интервал: ({diff_inverval[0]}, {diff_inverval[1]})')\n",
    "print(f'Отличия статистически значимые: {has_effect}')"
   ]
  },
  {
   "attachments": {},
   "cell_type": "markdown",
   "metadata": {},
   "source": [
    "**Мы снова подтвердили, что изменение конверсии статистически не значимо.**"
   ]
  },
  {
   "attachments": {},
   "cell_type": "markdown",
   "metadata": {},
   "source": [
    "**Построим гистограмму распределения разницы конверсий**"
   ]
  },
  {
   "cell_type": "code",
   "execution_count": 21,
   "metadata": {},
   "outputs": [
    {
     "data": {
      "image/png": "[encoded data removed]",
      "text/plain": [
       "<Figure size 800x400 with 1 Axes>"
      ]
     },
     "metadata": {},
     "output_type": "display_data"
    }
   ],
   "source": [
    "fig = plt.figure(figsize=[8, 4])\n",
    "ax = fig.add_axes([1, 1, 1, 1])\n",
    "sns.histplot(\n",
    "    data=conversion_diffs,\n",
    "    kde=True,\n",
    "    ax=ax\n",
    ")\n",
    "ax.set_title('Разница конверсий на 10000 выборках')\n",
    "ax.set_xlabel('Разница')\n",
    "ax.set_ylabel('Количество')\n",
    "ax.grid(True);"
   ]
  },
  {
   "attachments": {},
   "cell_type": "markdown",
   "metadata": {},
   "source": [
    "## Вывод\n",
    "\n",
    "**- Изменение конверсии в тестовой группе В статистически не значимо. Рекомендуется остаться на текущей версии продукта (группа А).**"
   ]
  }
 ],
 "metadata": {
  "kernelspec": {
   "display_name": "Python 3",
   "language": "python",
   "name": "python3"
  },
  "language_info": {
   "codemirror_mode": {
    "name": "ipython",
    "version": 3
   },
   "file_extension": ".py",
   "mimetype": "text/x-python",
   "name": "python",
   "nbconvert_exporter": "python",
   "pygments_lexer": "ipython3",
   "version": "3.10.6"
  },
  "orig_nbformat": 4
 },
 "nbformat": 4,
 "nbformat_minor": 2
}
