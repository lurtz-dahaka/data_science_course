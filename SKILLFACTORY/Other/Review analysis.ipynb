{
 "cells": [
  {
   "attachments": {},
   "cell_type": "markdown",
   "metadata": {},
   "source": [
    "# Анализ обратной связи о работе чата психологической поддержки в компании Додо"
   ]
  },
  {
   "attachments": {},
   "cell_type": "markdown",
   "metadata": {},
   "source": [
    "## Входные данные:\n",
    "\n",
    "В компании Додо был проведен опрос сотрудников: **Используете ли вы бесплатный чат психологической поддержки от Alter? Если нет, то почему?**\n",
    "\n",
    "На основе опроса была составлена excel таблица с ответами сотрудников. Таблица включает в себя 2203 ответа и разделена тремя призаками: департамент, ответ и должность."
   ]
  },
  {
   "attachments": {},
   "cell_type": "markdown",
   "metadata": {},
   "source": [
    "## Задача:\n",
    "Исследовать данные и определить осведомленность сотрудников о доступности чата психологической поддержки."
   ]
  },
  {
   "attachments": {},
   "cell_type": "markdown",
   "metadata": {},
   "source": [
    "## Анализ:"
   ]
  },
  {
   "cell_type": "code",
   "execution_count": 97,
   "metadata": {},
   "outputs": [],
   "source": [
    "# для работы с таблицей импортируем библиотеку Pandas\n",
    "import pandas as pd\n",
    "\n",
    "# для построения графиков импортируем Matplotlib и Seaborn\n",
    "import matplotlib.pyplot as plt\n",
    "import seaborn as sns"
   ]
  },
  {
   "cell_type": "code",
   "execution_count": 98,
   "metadata": {},
   "outputs": [
    {
     "data": {
      "text/html": [
       "<div>\n",
       "<style scoped>\n",
       "    .dataframe tbody tr th:only-of-type {\n",
       "        vertical-align: middle;\n",
       "    }\n",
       "\n",
       "    .dataframe tbody tr th {\n",
       "        vertical-align: top;\n",
       "    }\n",
       "\n",
       "    .dataframe thead th {\n",
       "        text-align: right;\n",
       "    }\n",
       "</style>\n",
       "<table border=\"1\" class=\"dataframe\">\n",
       "  <thead>\n",
       "    <tr style=\"text-align: right;\">\n",
       "      <th></th>\n",
       "      <th>Абакан-1</th>\n",
       "      <th>Я не использую чат, потому что нету в нем надобности. Но, если понадобится обязательно использую</th>\n",
       "      <th>сотрудник кухни</th>\n",
       "    </tr>\n",
       "  </thead>\n",
       "  <tbody>\n",
       "    <tr>\n",
       "      <th>0</th>\n",
       "      <td>Абинск-1</td>\n",
       "      <td>Потому что мне это не надо</td>\n",
       "      <td>сотрудник кухни</td>\n",
       "    </tr>\n",
       "    <tr>\n",
       "      <th>1</th>\n",
       "      <td>Абинск-1</td>\n",
       "      <td>Не нужен</td>\n",
       "      <td>курьер</td>\n",
       "    </tr>\n",
       "    <tr>\n",
       "      <th>2</th>\n",
       "      <td>Абинск-1</td>\n",
       "      <td>Не нуждаюсь</td>\n",
       "      <td>курьер</td>\n",
       "    </tr>\n",
       "    <tr>\n",
       "      <th>3</th>\n",
       "      <td>Абинск-1</td>\n",
       "      <td>Значит у меня всё хорошо.</td>\n",
       "      <td>курьер</td>\n",
       "    </tr>\n",
       "    <tr>\n",
       "      <th>4</th>\n",
       "      <td>Абинск-1</td>\n",
       "      <td>Боюсь что не конфидециально</td>\n",
       "      <td>сотрудник кухни</td>\n",
       "    </tr>\n",
       "  </tbody>\n",
       "</table>\n",
       "</div>"
      ],
      "text/plain": [
       "   Абакан-1  \\\n",
       "0  Абинск-1   \n",
       "1  Абинск-1   \n",
       "2  Абинск-1   \n",
       "3  Абинск-1   \n",
       "4  Абинск-1   \n",
       "\n",
       "  Я не использую чат, потому что нету в нем надобности. Но, если понадобится обязательно использую  \\\n",
       "0                         Потому что мне это не надо                                                 \n",
       "1                                           Не нужен                                                 \n",
       "2                                        Не нуждаюсь                                                 \n",
       "3                          Значит у меня всё хорошо.                                                 \n",
       "4                        Боюсь что не конфидециально                                                 \n",
       "\n",
       "   сотрудник кухни  \n",
       "0  сотрудник кухни  \n",
       "1           курьер  \n",
       "2           курьер  \n",
       "3           курьер  \n",
       "4  сотрудник кухни  "
      ]
     },
     "execution_count": 98,
     "metadata": {},
     "output_type": "execute_result"
    }
   ],
   "source": [
    "# прочитаем нашу таблицу и выведем первые 5 строк\n",
    "data = pd.read_excel('data/Response.xlsx')\n",
    "data.head()"
   ]
  },
  {
   "attachments": {},
   "cell_type": "markdown",
   "metadata": {},
   "source": [
    "**Для удобства работы с таблицей добавим названия столбцам.**"
   ]
  },
  {
   "cell_type": "code",
   "execution_count": 99,
   "metadata": {},
   "outputs": [
    {
     "data": {
      "text/html": [
       "<div>\n",
       "<style scoped>\n",
       "    .dataframe tbody tr th:only-of-type {\n",
       "        vertical-align: middle;\n",
       "    }\n",
       "\n",
       "    .dataframe tbody tr th {\n",
       "        vertical-align: top;\n",
       "    }\n",
       "\n",
       "    .dataframe thead th {\n",
       "        text-align: right;\n",
       "    }\n",
       "</style>\n",
       "<table border=\"1\" class=\"dataframe\">\n",
       "  <thead>\n",
       "    <tr style=\"text-align: right;\">\n",
       "      <th></th>\n",
       "      <th>Department</th>\n",
       "      <th>Response</th>\n",
       "      <th>Position</th>\n",
       "    </tr>\n",
       "  </thead>\n",
       "  <tbody>\n",
       "    <tr>\n",
       "      <th>0</th>\n",
       "      <td>Абинск-1</td>\n",
       "      <td>Потому что мне это не надо</td>\n",
       "      <td>сотрудник кухни</td>\n",
       "    </tr>\n",
       "    <tr>\n",
       "      <th>1</th>\n",
       "      <td>Абинск-1</td>\n",
       "      <td>Не нужен</td>\n",
       "      <td>курьер</td>\n",
       "    </tr>\n",
       "    <tr>\n",
       "      <th>2</th>\n",
       "      <td>Абинск-1</td>\n",
       "      <td>Не нуждаюсь</td>\n",
       "      <td>курьер</td>\n",
       "    </tr>\n",
       "    <tr>\n",
       "      <th>3</th>\n",
       "      <td>Абинск-1</td>\n",
       "      <td>Значит у меня всё хорошо.</td>\n",
       "      <td>курьер</td>\n",
       "    </tr>\n",
       "    <tr>\n",
       "      <th>4</th>\n",
       "      <td>Абинск-1</td>\n",
       "      <td>Боюсь что не конфидециально</td>\n",
       "      <td>сотрудник кухни</td>\n",
       "    </tr>\n",
       "    <tr>\n",
       "      <th>...</th>\n",
       "      <td>...</td>\n",
       "      <td>...</td>\n",
       "      <td>...</td>\n",
       "    </tr>\n",
       "    <tr>\n",
       "      <th>2198</th>\n",
       "      <td>Якутск-2</td>\n",
       "      <td>Никогда о таком не слышал</td>\n",
       "      <td>сотрудник кухни</td>\n",
       "    </tr>\n",
       "    <tr>\n",
       "      <th>2199</th>\n",
       "      <td>Якутск-2</td>\n",
       "      <td>не вижу смысла</td>\n",
       "      <td>сотрудник кухни</td>\n",
       "    </tr>\n",
       "    <tr>\n",
       "      <th>2200</th>\n",
       "      <td>Якутск-2</td>\n",
       "      <td>Нет времени.</td>\n",
       "      <td>сотрудник кухни</td>\n",
       "    </tr>\n",
       "    <tr>\n",
       "      <th>2201</th>\n",
       "      <td>Якутск-2</td>\n",
       "      <td>не знал о нем до этого момнта</td>\n",
       "      <td>сотрудник кухни</td>\n",
       "    </tr>\n",
       "    <tr>\n",
       "      <th>2202</th>\n",
       "      <td>Якутск-3</td>\n",
       "      <td>Зачем?</td>\n",
       "      <td>курьер</td>\n",
       "    </tr>\n",
       "  </tbody>\n",
       "</table>\n",
       "<p>2203 rows × 3 columns</p>\n",
       "</div>"
      ],
      "text/plain": [
       "     Department                       Response         Position\n",
       "0      Абинск-1     Потому что мне это не надо  сотрудник кухни\n",
       "1      Абинск-1                       Не нужен           курьер\n",
       "2      Абинск-1                    Не нуждаюсь           курьер\n",
       "3      Абинск-1      Значит у меня всё хорошо.           курьер\n",
       "4      Абинск-1    Боюсь что не конфидециально  сотрудник кухни\n",
       "...         ...                            ...              ...\n",
       "2198   Якутск-2      Никогда о таком не слышал  сотрудник кухни\n",
       "2199   Якутск-2                 не вижу смысла  сотрудник кухни\n",
       "2200   Якутск-2                   Нет времени.  сотрудник кухни\n",
       "2201   Якутск-2  не знал о нем до этого момнта  сотрудник кухни\n",
       "2202   Якутск-3                         Зачем?           курьер\n",
       "\n",
       "[2203 rows x 3 columns]"
      ]
     },
     "execution_count": 99,
     "metadata": {},
     "output_type": "execute_result"
    }
   ],
   "source": [
    "data.columns = ['Department', 'Response', 'Position']\n",
    "data"
   ]
  },
  {
   "attachments": {},
   "cell_type": "markdown",
   "metadata": {},
   "source": [
    "**Посмотрим, есть ли пропуски или пустые значения в данных:**"
   ]
  },
  {
   "cell_type": "code",
   "execution_count": 100,
   "metadata": {},
   "outputs": [
    {
     "name": "stdout",
     "output_type": "stream",
     "text": [
      "<class 'pandas.core.frame.DataFrame'>\n",
      "RangeIndex: 2203 entries, 0 to 2202\n",
      "Data columns (total 3 columns):\n",
      " #   Column      Non-Null Count  Dtype \n",
      "---  ------      --------------  ----- \n",
      " 0   Department  2203 non-null   object\n",
      " 1   Response    2203 non-null   object\n",
      " 2   Position    2203 non-null   object\n",
      "dtypes: object(3)\n",
      "memory usage: 51.8+ KB\n"
     ]
    }
   ],
   "source": [
    "data.info()"
   ]
  },
  {
   "attachments": {},
   "cell_type": "markdown",
   "metadata": {},
   "source": [
    "**Пропуски отсутствуют. Итак, у нас имеется таблица с 2203 отзывами о чате.**\n",
    "\n",
    "**Посмотрим какие уникальные ответы встречаются чаще всего.**"
   ]
  },
  {
   "cell_type": "code",
   "execution_count": 101,
   "metadata": {},
   "outputs": [
    {
     "data": {
      "text/plain": [
       "Не нуждаюсь                               88\n",
       "Нет необходимости                         72\n",
       "Нет                                       36\n",
       "Не использую                              32\n",
       "Не требуется                              28\n",
       "Не нужен                                  25\n",
       "Не хочу                                   24\n",
       "Не нужно                                  17\n",
       "Все хорошо                                17\n",
       "Не знаю                                   17\n",
       "Нет надобности                            14\n",
       "Всё хорошо                                14\n",
       "Не знаю о нем                             11\n",
       "нет необходимости                         11\n",
       "Не знала о нем                            11\n",
       "Не знал                                   10\n",
       "Нет нужды                                 10\n",
       "Не знаю что это                            9\n",
       "Не знал о нем                              9\n",
       "Мне это не нужно                           9\n",
       "Не нуждаюсь.                               9\n",
       "не нуждаюсь                                8\n",
       "Зачем?                                     8\n",
       "Он мне не нужен                            8\n",
       "Не нуждаюсь в этом                         8\n",
       "У меня всё хорошо                          7\n",
       "Нет потребности                            7\n",
       "Некогда                                    7\n",
       "Мне не нужна психологическая поддержка     7\n",
       "У меня все хорошо                          7\n",
       "Name: Response, dtype: int64"
      ]
     },
     "execution_count": 101,
     "metadata": {},
     "output_type": "execute_result"
    }
   ],
   "source": [
    "data['Response'].value_counts().head(30)\n"
   ]
  },
  {
   "attachments": {},
   "cell_type": "markdown",
   "metadata": {},
   "source": [
    "**Судя по отзывам, сотрудники чаще всего не используют или не нуждаются в чате. Однако есть и те, кто не знает о доступности данного сервиса. Попробуем выявить долю таких сотрудников. Но для начала проведет некоторые преобразования.**"
   ]
  },
  {
   "attachments": {},
   "cell_type": "markdown",
   "metadata": {},
   "source": [
    "**Для анализа нам нужно привести отзыв к формату списка, состоящего из отдельных слов отзыва и вывести каждое слово в нижнем регистре для повышения эффективности поиска. Отзывы в формате \"Нет необходимости\" приведем к виду: ['нет', 'необходимости'].**"
   ]
  },
  {
   "cell_type": "code",
   "execution_count": 102,
   "metadata": {},
   "outputs": [
    {
     "data": {
      "text/plain": [
       "0    [потому, что, мне, это, не, надо]\n",
       "1                          [не, нужен]\n",
       "2                       [не, нуждаюсь]\n",
       "3      [значит, у, меня, всё, хорошо.]\n",
       "4     [боюсь, что, не, конфидециально]\n",
       "Name: Response, dtype: object"
      ]
     },
     "execution_count": 102,
     "metadata": {},
     "output_type": "execute_result"
    }
   ],
   "source": [
    "# для этого напишем простую функцию\n",
    "def str_response(review):\n",
    "    clean_rev = str(review).lower().split(' ')\n",
    "    return clean_rev\n",
    "\n",
    "# применим ее к нашему столбцу Response\n",
    "data['Response'] = data['Response'].apply(str_response)\n",
    "\n",
    "# выведем первые 5 строк таблицы для проверки\n",
    "data['Response'].head(5)"
   ]
  },
  {
   "attachments": {},
   "cell_type": "markdown",
   "metadata": {},
   "source": [
    "**Основной целью анализа данных является выявление доли сотрудников, которые не знают о существовании чата. Поиск таких сотрудников будем осуществлять по ключевым словам. Если ключевое слово втретится в отзыве, то мы можем отметить, что сотрудник не знает о том, что для него доступен чат.**"
   ]
  },
  {
   "cell_type": "code",
   "execution_count": 103,
   "metadata": {},
   "outputs": [],
   "source": [
    "# напишем небольшую функцию, которая с помощью цикла \n",
    "# проверит каждый отзыв на наличие в нем ключевых слов\n",
    "def get_status(response):\n",
    "    key_words = ['знаю', 'низнал', 'знал', 'незнал', 'слышу', \n",
    "                 'слышал', 'слышала', 'такое', 'курсе', \n",
    "                 'ссылку', 'ссылка', 'ссылки', 'известно'\n",
    "                 'довели', 'первый', 'впервые', 'расскажи', \n",
    "                 'теперь', 'слышно', 'забыл', 'забыла']\n",
    "    for word in response:\n",
    "        if word in key_words:\n",
    "            return 1\n",
    "            continue\n",
    "        \n",
    "\n",
    "# добавим в нашу таблицу столбец 'Do not know', в котором\n",
    "# единицей будут помечены отзывы тех, кто не знает о чате\n",
    "data['Do not know'] = data['Response'].apply(get_status)\n",
    "\n",
    "# остальных пометим нулем\n",
    "data['Do not know'] = data['Do not know'].fillna(0)"
   ]
  },
  {
   "attachments": {},
   "cell_type": "markdown",
   "metadata": {},
   "source": [
    "**Проверим как сработала наша функция. Выведем несколько отзывов, которые были отобраны:**"
   ]
  },
  {
   "cell_type": "code",
   "execution_count": 104,
   "metadata": {},
   "outputs": [
    {
     "data": {
      "text/html": [
       "<div>\n",
       "<style scoped>\n",
       "    .dataframe tbody tr th:only-of-type {\n",
       "        vertical-align: middle;\n",
       "    }\n",
       "\n",
       "    .dataframe tbody tr th {\n",
       "        vertical-align: top;\n",
       "    }\n",
       "\n",
       "    .dataframe thead th {\n",
       "        text-align: right;\n",
       "    }\n",
       "</style>\n",
       "<table border=\"1\" class=\"dataframe\">\n",
       "  <thead>\n",
       "    <tr style=\"text-align: right;\">\n",
       "      <th></th>\n",
       "      <th>Department</th>\n",
       "      <th>Response</th>\n",
       "      <th>Position</th>\n",
       "      <th>Do not know</th>\n",
       "    </tr>\n",
       "  </thead>\n",
       "  <tbody>\n",
       "    <tr>\n",
       "      <th>9</th>\n",
       "      <td>Аксай Россия-1</td>\n",
       "      <td>[что, такое, телеграмм?]</td>\n",
       "      <td>курьер</td>\n",
       "      <td>1.0</td>\n",
       "    </tr>\n",
       "    <tr>\n",
       "      <th>10</th>\n",
       "      <td>Аксай Россия-1</td>\n",
       "      <td>[я, и, не, знал, о, его, существовании.]</td>\n",
       "      <td>сотрудник кухни</td>\n",
       "      <td>1.0</td>\n",
       "    </tr>\n",
       "    <tr>\n",
       "      <th>26</th>\n",
       "      <td>Апатиты-1</td>\n",
       "      <td>[даже, не, знаю, о, таком, чате.]</td>\n",
       "      <td>сотрудник кухни</td>\n",
       "      <td>1.0</td>\n",
       "    </tr>\n",
       "    <tr>\n",
       "      <th>27</th>\n",
       "      <td>Апрелевка-1</td>\n",
       "      <td>[не, знал, о, нем]</td>\n",
       "      <td>сотрудник кухни</td>\n",
       "      <td>1.0</td>\n",
       "    </tr>\n",
       "    <tr>\n",
       "      <th>45</th>\n",
       "      <td>Астрахань-3</td>\n",
       "      <td>[не, знал, о, существовании, ресурса]</td>\n",
       "      <td>сотрудник кухни</td>\n",
       "      <td>1.0</td>\n",
       "    </tr>\n",
       "    <tr>\n",
       "      <th>49</th>\n",
       "      <td>Астрахань-4</td>\n",
       "      <td>[что, это, такое, ?]</td>\n",
       "      <td>сотрудник кухни</td>\n",
       "      <td>1.0</td>\n",
       "    </tr>\n",
       "    <tr>\n",
       "      <th>51</th>\n",
       "      <td>Ачинск-1</td>\n",
       "      <td>[не, знаю, о, нем]</td>\n",
       "      <td>сотрудник кухни</td>\n",
       "      <td>1.0</td>\n",
       "    </tr>\n",
       "    <tr>\n",
       "      <th>55</th>\n",
       "      <td>Балаково-1</td>\n",
       "      <td>[в, 1ые, слышу]</td>\n",
       "      <td>курьер</td>\n",
       "      <td>1.0</td>\n",
       "    </tr>\n",
       "    <tr>\n",
       "      <th>57</th>\n",
       "      <td>Балаково-1</td>\n",
       "      <td>[не, знал]</td>\n",
       "      <td>сотрудник кухни</td>\n",
       "      <td>1.0</td>\n",
       "    </tr>\n",
       "    <tr>\n",
       "      <th>59</th>\n",
       "      <td>Балашиха-1</td>\n",
       "      <td>[не, знаю, о, нем,, но, он, мне, и, не, нужен]</td>\n",
       "      <td>курьер</td>\n",
       "      <td>1.0</td>\n",
       "    </tr>\n",
       "  </tbody>\n",
       "</table>\n",
       "</div>"
      ],
      "text/plain": [
       "        Department                                        Response  \\\n",
       "9   Аксай Россия-1                        [что, такое, телеграмм?]   \n",
       "10  Аксай Россия-1        [я, и, не, знал, о, его, существовании.]   \n",
       "26       Апатиты-1               [даже, не, знаю, о, таком, чате.]   \n",
       "27     Апрелевка-1                              [не, знал, о, нем]   \n",
       "45     Астрахань-3           [не, знал, о, существовании, ресурса]   \n",
       "49     Астрахань-4                            [что, это, такое, ?]   \n",
       "51        Ачинск-1                              [не, знаю, о, нем]   \n",
       "55      Балаково-1                                 [в, 1ые, слышу]   \n",
       "57      Балаково-1                                      [не, знал]   \n",
       "59      Балашиха-1  [не, знаю, о, нем,, но, он, мне, и, не, нужен]   \n",
       "\n",
       "           Position  Do not know  \n",
       "9            курьер          1.0  \n",
       "10  сотрудник кухни          1.0  \n",
       "26  сотрудник кухни          1.0  \n",
       "27  сотрудник кухни          1.0  \n",
       "45  сотрудник кухни          1.0  \n",
       "49  сотрудник кухни          1.0  \n",
       "51  сотрудник кухни          1.0  \n",
       "55           курьер          1.0  \n",
       "57  сотрудник кухни          1.0  \n",
       "59           курьер          1.0  "
      ]
     },
     "execution_count": 104,
     "metadata": {},
     "output_type": "execute_result"
    }
   ],
   "source": [
    "data[data['Do not know'] == 1].head(10)"
   ]
  },
  {
   "attachments": {},
   "cell_type": "markdown",
   "metadata": {},
   "source": [
    "**Кажется функция сработала неплохо. Сразу можно добавить в личный топ отзыв [что, такое, телеграмм?] и удивиться мастерству сокращений в отзыве [в, 1ые, слышу]. =)**"
   ]
  },
  {
   "attachments": {},
   "cell_type": "markdown",
   "metadata": {},
   "source": [
    "**Теперь посмотрим сколько сотрудников не знают о чате или узнали о нем из опроса.**"
   ]
  },
  {
   "cell_type": "code",
   "execution_count": 105,
   "metadata": {},
   "outputs": [
    {
     "data": {
      "text/plain": [
       "0.0    1840\n",
       "1.0     363\n",
       "Name: Do not know, dtype: int64"
      ]
     },
     "execution_count": 105,
     "metadata": {},
     "output_type": "execute_result"
    }
   ],
   "source": [
    "data['Do not know'].value_counts()"
   ]
  },
  {
   "cell_type": "code",
   "execution_count": 106,
   "metadata": {},
   "outputs": [
    {
     "data": {
      "text/plain": [
       "0.0    83.522469\n",
       "1.0    16.477531\n",
       "Name: Do not know, dtype: float64"
      ]
     },
     "execution_count": 106,
     "metadata": {},
     "output_type": "execute_result"
    }
   ],
   "source": [
    "data['Do not know'].value_counts(normalize=True)*100"
   ]
  },
  {
   "attachments": {},
   "cell_type": "markdown",
   "metadata": {},
   "source": [
    "**Итого 363 сотрудника или 16% от всех опрошенных. Визуализируем это с помощью круговой диаграммы.**"
   ]
  },
  {
   "cell_type": "code",
   "execution_count": 107,
   "metadata": {},
   "outputs": [
    {
     "data": {
      "image/png": "[encoded data removed]",
      "text/plain": [
       "<Figure size 640x480 with 1 Axes>"
      ]
     },
     "metadata": {},
     "output_type": "display_data"
    }
   ],
   "source": [
    "df1 = pd.DataFrame(data['Do not know'].value_counts().reset_index())\n",
    "plt.pie(data=df1,x='Do not know',labels=['Знают о чате', 'Не знают'], explode=[0, 0.2], autopct='%.1f%%')\n",
    "plt.title('Распределение осведомленности сотрудников о психологической поддержке (%)')\n",
    "\n",
    "plt.show()"
   ]
  },
  {
   "attachments": {},
   "cell_type": "markdown",
   "metadata": {},
   "source": [
    "**Теперь рассмотрим этот же процент в привязке к подразделениям компании, чтобы выявить где осведомленность ниже.**"
   ]
  },
  {
   "attachments": {},
   "cell_type": "markdown",
   "metadata": {},
   "source": [
    "**Сгруппируем таблицу по подразделениям компании и отобразим по каждому процент тех, кто не знает о сервисе, и общее количество опрошенных.**"
   ]
  },
  {
   "cell_type": "code",
   "execution_count": 108,
   "metadata": {},
   "outputs": [
    {
     "data": {
      "text/html": [
       "<div>\n",
       "<style scoped>\n",
       "    .dataframe tbody tr th:only-of-type {\n",
       "        vertical-align: middle;\n",
       "    }\n",
       "\n",
       "    .dataframe tbody tr th {\n",
       "        vertical-align: top;\n",
       "    }\n",
       "\n",
       "    .dataframe thead th {\n",
       "        text-align: right;\n",
       "    }\n",
       "</style>\n",
       "<table border=\"1\" class=\"dataframe\">\n",
       "  <thead>\n",
       "    <tr style=\"text-align: right;\">\n",
       "      <th></th>\n",
       "      <th>Do not know</th>\n",
       "      <th>Response</th>\n",
       "    </tr>\n",
       "    <tr>\n",
       "      <th>Department</th>\n",
       "      <th></th>\n",
       "      <th></th>\n",
       "    </tr>\n",
       "  </thead>\n",
       "  <tbody>\n",
       "    <tr>\n",
       "      <th>Москва 18-4</th>\n",
       "      <td>1.000000</td>\n",
       "      <td>3</td>\n",
       "    </tr>\n",
       "    <tr>\n",
       "      <th>Ачинск-1</th>\n",
       "      <td>1.000000</td>\n",
       "      <td>1</td>\n",
       "    </tr>\n",
       "    <tr>\n",
       "      <th>Тюмень-4</th>\n",
       "      <td>1.000000</td>\n",
       "      <td>2</td>\n",
       "    </tr>\n",
       "    <tr>\n",
       "      <th>Северодвинск-1</th>\n",
       "      <td>1.000000</td>\n",
       "      <td>3</td>\n",
       "    </tr>\n",
       "    <tr>\n",
       "      <th>Наро-Фоминск-1</th>\n",
       "      <td>1.000000</td>\n",
       "      <td>1</td>\n",
       "    </tr>\n",
       "    <tr>\n",
       "      <th>Краснодар-4</th>\n",
       "      <td>1.000000</td>\n",
       "      <td>2</td>\n",
       "    </tr>\n",
       "    <tr>\n",
       "      <th>Камышин-1</th>\n",
       "      <td>1.000000</td>\n",
       "      <td>1</td>\n",
       "    </tr>\n",
       "    <tr>\n",
       "      <th>Барнаул-3</th>\n",
       "      <td>1.000000</td>\n",
       "      <td>1</td>\n",
       "    </tr>\n",
       "    <tr>\n",
       "      <th>Красноярск-5</th>\n",
       "      <td>1.000000</td>\n",
       "      <td>2</td>\n",
       "    </tr>\n",
       "    <tr>\n",
       "      <th>Славянск-на-Кубани-1</th>\n",
       "      <td>1.000000</td>\n",
       "      <td>1</td>\n",
       "    </tr>\n",
       "    <tr>\n",
       "      <th>Владикавказ-1</th>\n",
       "      <td>1.000000</td>\n",
       "      <td>1</td>\n",
       "    </tr>\n",
       "    <tr>\n",
       "      <th>Екатеринбург-11</th>\n",
       "      <td>1.000000</td>\n",
       "      <td>3</td>\n",
       "    </tr>\n",
       "    <tr>\n",
       "      <th>Орел-3</th>\n",
       "      <td>1.000000</td>\n",
       "      <td>1</td>\n",
       "    </tr>\n",
       "    <tr>\n",
       "      <th>Раменское-1</th>\n",
       "      <td>1.000000</td>\n",
       "      <td>1</td>\n",
       "    </tr>\n",
       "    <tr>\n",
       "      <th>Астрахань-4</th>\n",
       "      <td>1.000000</td>\n",
       "      <td>1</td>\n",
       "    </tr>\n",
       "    <tr>\n",
       "      <th>Аксай Россия-1</th>\n",
       "      <td>1.000000</td>\n",
       "      <td>2</td>\n",
       "    </tr>\n",
       "    <tr>\n",
       "      <th>Зеленоград-1</th>\n",
       "      <td>1.000000</td>\n",
       "      <td>1</td>\n",
       "    </tr>\n",
       "    <tr>\n",
       "      <th>Тольятти-3</th>\n",
       "      <td>1.000000</td>\n",
       "      <td>1</td>\n",
       "    </tr>\n",
       "    <tr>\n",
       "      <th>Петропавловск-Камчатский-1</th>\n",
       "      <td>1.000000</td>\n",
       "      <td>1</td>\n",
       "    </tr>\n",
       "    <tr>\n",
       "      <th>Апрелевка-1</th>\n",
       "      <td>1.000000</td>\n",
       "      <td>1</td>\n",
       "    </tr>\n",
       "    <tr>\n",
       "      <th>Санкт-Петербург 4-1</th>\n",
       "      <td>1.000000</td>\n",
       "      <td>1</td>\n",
       "    </tr>\n",
       "    <tr>\n",
       "      <th>Москва 1-2</th>\n",
       "      <td>1.000000</td>\n",
       "      <td>3</td>\n",
       "    </tr>\n",
       "    <tr>\n",
       "      <th>Елабуга-1</th>\n",
       "      <td>1.000000</td>\n",
       "      <td>1</td>\n",
       "    </tr>\n",
       "    <tr>\n",
       "      <th>Санкт-Петербург 3-8</th>\n",
       "      <td>1.000000</td>\n",
       "      <td>2</td>\n",
       "    </tr>\n",
       "    <tr>\n",
       "      <th>Брянск-1</th>\n",
       "      <td>1.000000</td>\n",
       "      <td>2</td>\n",
       "    </tr>\n",
       "    <tr>\n",
       "      <th>Сургут-2</th>\n",
       "      <td>0.666667</td>\n",
       "      <td>3</td>\n",
       "    </tr>\n",
       "    <tr>\n",
       "      <th>Сочи-2</th>\n",
       "      <td>0.666667</td>\n",
       "      <td>3</td>\n",
       "    </tr>\n",
       "    <tr>\n",
       "      <th>Чапаевск-1</th>\n",
       "      <td>0.666667</td>\n",
       "      <td>3</td>\n",
       "    </tr>\n",
       "    <tr>\n",
       "      <th>Москва 12-3</th>\n",
       "      <td>0.666667</td>\n",
       "      <td>3</td>\n",
       "    </tr>\n",
       "    <tr>\n",
       "      <th>Шатура-1</th>\n",
       "      <td>0.666667</td>\n",
       "      <td>3</td>\n",
       "    </tr>\n",
       "    <tr>\n",
       "      <th>Урай-1</th>\n",
       "      <td>0.666667</td>\n",
       "      <td>3</td>\n",
       "    </tr>\n",
       "    <tr>\n",
       "      <th>Комсомольск-на-Амуре-2</th>\n",
       "      <td>0.666667</td>\n",
       "      <td>3</td>\n",
       "    </tr>\n",
       "    <tr>\n",
       "      <th>Долгопрудный-2</th>\n",
       "      <td>0.666667</td>\n",
       "      <td>3</td>\n",
       "    </tr>\n",
       "    <tr>\n",
       "      <th>Санкт-Петербург 1-1</th>\n",
       "      <td>0.666667</td>\n",
       "      <td>3</td>\n",
       "    </tr>\n",
       "    <tr>\n",
       "      <th>Санкт-Петербург 13-1</th>\n",
       "      <td>0.666667</td>\n",
       "      <td>3</td>\n",
       "    </tr>\n",
       "    <tr>\n",
       "      <th>Нягань-1</th>\n",
       "      <td>0.666667</td>\n",
       "      <td>3</td>\n",
       "    </tr>\n",
       "    <tr>\n",
       "      <th>Самара-6</th>\n",
       "      <td>0.571429</td>\n",
       "      <td>7</td>\n",
       "    </tr>\n",
       "    <tr>\n",
       "      <th>Ульяновск-1</th>\n",
       "      <td>0.500000</td>\n",
       "      <td>4</td>\n",
       "    </tr>\n",
       "    <tr>\n",
       "      <th>Санкт-Петербург 1-3</th>\n",
       "      <td>0.500000</td>\n",
       "      <td>2</td>\n",
       "    </tr>\n",
       "    <tr>\n",
       "      <th>Курск-1</th>\n",
       "      <td>0.500000</td>\n",
       "      <td>2</td>\n",
       "    </tr>\n",
       "    <tr>\n",
       "      <th>Москва 13-3</th>\n",
       "      <td>0.500000</td>\n",
       "      <td>2</td>\n",
       "    </tr>\n",
       "    <tr>\n",
       "      <th>Екатеринбург-6</th>\n",
       "      <td>0.500000</td>\n",
       "      <td>2</td>\n",
       "    </tr>\n",
       "    <tr>\n",
       "      <th>Красноярск-1</th>\n",
       "      <td>0.500000</td>\n",
       "      <td>2</td>\n",
       "    </tr>\n",
       "    <tr>\n",
       "      <th>Самара-10</th>\n",
       "      <td>0.500000</td>\n",
       "      <td>4</td>\n",
       "    </tr>\n",
       "    <tr>\n",
       "      <th>Ухта-2</th>\n",
       "      <td>0.500000</td>\n",
       "      <td>2</td>\n",
       "    </tr>\n",
       "    <tr>\n",
       "      <th>Москва 23-1</th>\n",
       "      <td>0.500000</td>\n",
       "      <td>2</td>\n",
       "    </tr>\n",
       "    <tr>\n",
       "      <th>Нижний Новгород-3</th>\n",
       "      <td>0.500000</td>\n",
       "      <td>2</td>\n",
       "    </tr>\n",
       "    <tr>\n",
       "      <th>Красноярск-4</th>\n",
       "      <td>0.500000</td>\n",
       "      <td>2</td>\n",
       "    </tr>\n",
       "    <tr>\n",
       "      <th>Краснодар-6</th>\n",
       "      <td>0.500000</td>\n",
       "      <td>2</td>\n",
       "    </tr>\n",
       "    <tr>\n",
       "      <th>Нижний Тагил-4</th>\n",
       "      <td>0.500000</td>\n",
       "      <td>2</td>\n",
       "    </tr>\n",
       "  </tbody>\n",
       "</table>\n",
       "</div>"
      ],
      "text/plain": [
       "                            Do not know  Response\n",
       "Department                                       \n",
       "Москва 18-4                    1.000000         3\n",
       "Ачинск-1                       1.000000         1\n",
       "Тюмень-4                       1.000000         2\n",
       "Северодвинск-1                 1.000000         3\n",
       "Наро-Фоминск-1                 1.000000         1\n",
       "Краснодар-4                    1.000000         2\n",
       "Камышин-1                      1.000000         1\n",
       "Барнаул-3                      1.000000         1\n",
       "Красноярск-5                   1.000000         2\n",
       "Славянск-на-Кубани-1           1.000000         1\n",
       "Владикавказ-1                  1.000000         1\n",
       "Екатеринбург-11                1.000000         3\n",
       "Орел-3                         1.000000         1\n",
       "Раменское-1                    1.000000         1\n",
       "Астрахань-4                    1.000000         1\n",
       "Аксай Россия-1                 1.000000         2\n",
       "Зеленоград-1                   1.000000         1\n",
       "Тольятти-3                     1.000000         1\n",
       "Петропавловск-Камчатский-1     1.000000         1\n",
       "Апрелевка-1                    1.000000         1\n",
       "Санкт-Петербург 4-1            1.000000         1\n",
       "Москва 1-2                     1.000000         3\n",
       "Елабуга-1                      1.000000         1\n",
       "Санкт-Петербург 3-8            1.000000         2\n",
       "Брянск-1                       1.000000         2\n",
       "Сургут-2                       0.666667         3\n",
       "Сочи-2                         0.666667         3\n",
       "Чапаевск-1                     0.666667         3\n",
       "Москва 12-3                    0.666667         3\n",
       "Шатура-1                       0.666667         3\n",
       "Урай-1                         0.666667         3\n",
       "Комсомольск-на-Амуре-2         0.666667         3\n",
       "Долгопрудный-2                 0.666667         3\n",
       "Санкт-Петербург 1-1            0.666667         3\n",
       "Санкт-Петербург 13-1           0.666667         3\n",
       "Нягань-1                       0.666667         3\n",
       "Самара-6                       0.571429         7\n",
       "Ульяновск-1                    0.500000         4\n",
       "Санкт-Петербург 1-3            0.500000         2\n",
       "Курск-1                        0.500000         2\n",
       "Москва 13-3                    0.500000         2\n",
       "Екатеринбург-6                 0.500000         2\n",
       "Красноярск-1                   0.500000         2\n",
       "Самара-10                      0.500000         4\n",
       "Ухта-2                         0.500000         2\n",
       "Москва 23-1                    0.500000         2\n",
       "Нижний Новгород-3              0.500000         2\n",
       "Красноярск-4                   0.500000         2\n",
       "Краснодар-6                    0.500000         2\n",
       "Нижний Тагил-4                 0.500000         2"
      ]
     },
     "execution_count": 108,
     "metadata": {},
     "output_type": "execute_result"
    }
   ],
   "source": [
    "groupped = data.pivot_table(\n",
    "    index='Department', \n",
    "    values=['Do not know', 'Response'], \n",
    "    aggfunc={'Do not know': 'mean', 'Response': 'count'}\n",
    "    ).sort_values(by='Do not know', ascending=False).head(50)\n",
    "groupped"
   ]
  },
  {
   "attachments": {},
   "cell_type": "markdown",
   "metadata": {},
   "source": [
    "**Мы видим, что в подразделении Москва 18-4 все сотрудники, прошедшие опрос (значение 1.0 во втором столбце означает 100% тех, кто ответил, не знают о чате). Однако, в опросе поучаствовали всего 3 сотрудника (значение 3 в третьем столбце). Возможно эту информацию стоит довести до управляющего для дальнейшего знакомства с сотрудников с сервисом Альтер.**"
   ]
  },
  {
   "attachments": {},
   "cell_type": "markdown",
   "metadata": {},
   "source": [
    "**Также мы можем вывести статистику в каких подразделениях активнее всего проходили опрос.**"
   ]
  },
  {
   "cell_type": "code",
   "execution_count": 109,
   "metadata": {},
   "outputs": [
    {
     "data": {
      "text/html": [
       "<div>\n",
       "<style scoped>\n",
       "    .dataframe tbody tr th:only-of-type {\n",
       "        vertical-align: middle;\n",
       "    }\n",
       "\n",
       "    .dataframe tbody tr th {\n",
       "        vertical-align: top;\n",
       "    }\n",
       "\n",
       "    .dataframe thead th {\n",
       "        text-align: right;\n",
       "    }\n",
       "</style>\n",
       "<table border=\"1\" class=\"dataframe\">\n",
       "  <thead>\n",
       "    <tr style=\"text-align: right;\">\n",
       "      <th></th>\n",
       "      <th>Do not know</th>\n",
       "      <th>Response</th>\n",
       "    </tr>\n",
       "    <tr>\n",
       "      <th>Department</th>\n",
       "      <th></th>\n",
       "      <th></th>\n",
       "    </tr>\n",
       "  </thead>\n",
       "  <tbody>\n",
       "    <tr>\n",
       "      <th>Ногинск-1</th>\n",
       "      <td>0.000000</td>\n",
       "      <td>23</td>\n",
       "    </tr>\n",
       "    <tr>\n",
       "      <th>Офис</th>\n",
       "      <td>0.000000</td>\n",
       "      <td>22</td>\n",
       "    </tr>\n",
       "    <tr>\n",
       "      <th>Бугульма-1</th>\n",
       "      <td>0.062500</td>\n",
       "      <td>16</td>\n",
       "    </tr>\n",
       "    <tr>\n",
       "      <th>Челябинск-8</th>\n",
       "      <td>0.000000</td>\n",
       "      <td>15</td>\n",
       "    </tr>\n",
       "    <tr>\n",
       "      <th>Тобольск-1</th>\n",
       "      <td>0.071429</td>\n",
       "      <td>14</td>\n",
       "    </tr>\n",
       "  </tbody>\n",
       "</table>\n",
       "</div>"
      ],
      "text/plain": [
       "             Do not know  Response\n",
       "Department                        \n",
       "Ногинск-1       0.000000        23\n",
       "Офис            0.000000        22\n",
       "Бугульма-1      0.062500        16\n",
       "Челябинск-8     0.000000        15\n",
       "Тобольск-1      0.071429        14"
      ]
     },
     "execution_count": 109,
     "metadata": {},
     "output_type": "execute_result"
    }
   ],
   "source": [
    "groupped_often = data.pivot_table(\n",
    "    index='Department', \n",
    "    values=['Do not know', 'Response'], \n",
    "    aggfunc={'Do not know': 'mean', 'Response': 'count'}\n",
    "    ).sort_values(by='Response', ascending=False).head(5)\n",
    "groupped_often"
   ]
  },
  {
   "attachments": {},
   "cell_type": "markdown",
   "metadata": {},
   "source": [
    "**Лидером по числу отзывов является подразделение Ногинск-1. Однако, мы не знаем сколько всего сотрудиков получили приглашение для участия в опросе, поэтому посчитать конверсию данного параметра невозможно.**\n",
    "\n",
    "**Дополнительно можно отметить, что в подразделениях, в которых мы видим наибольшее число отзывов, очень низкий процет тех, кто не знает о существовании чата психологической поддержки.**"
   ]
  },
  {
   "attachments": {},
   "cell_type": "markdown",
   "metadata": {},
   "source": [
    "**Попробуем также рассмотреть признак должности в таблице.**"
   ]
  },
  {
   "cell_type": "code",
   "execution_count": 110,
   "metadata": {},
   "outputs": [
    {
     "data": {
      "text/plain": [
       "сотрудник кухни    1476\n",
       "курьер              727\n",
       "Name: Position, dtype: int64"
      ]
     },
     "execution_count": 110,
     "metadata": {},
     "output_type": "execute_result"
    }
   ],
   "source": [
    "data['Position'].value_counts()"
   ]
  },
  {
   "attachments": {},
   "cell_type": "markdown",
   "metadata": {},
   "source": [
    "**В опросе участвовали только сотрудники кухни и курьеры. Их 1476 и 727 человек соответственно. Посмотрим, есть ли зависимость должноти от осведомленности об услугах Альтер.**"
   ]
  },
  {
   "cell_type": "code",
   "execution_count": 111,
   "metadata": {},
   "outputs": [
    {
     "data": {
      "text/html": [
       "<div>\n",
       "<style scoped>\n",
       "    .dataframe tbody tr th:only-of-type {\n",
       "        vertical-align: middle;\n",
       "    }\n",
       "\n",
       "    .dataframe tbody tr th {\n",
       "        vertical-align: top;\n",
       "    }\n",
       "\n",
       "    .dataframe thead th {\n",
       "        text-align: right;\n",
       "    }\n",
       "</style>\n",
       "<table border=\"1\" class=\"dataframe\">\n",
       "  <thead>\n",
       "    <tr style=\"text-align: right;\">\n",
       "      <th></th>\n",
       "      <th>Do not know</th>\n",
       "    </tr>\n",
       "    <tr>\n",
       "      <th>Position</th>\n",
       "      <th></th>\n",
       "    </tr>\n",
       "  </thead>\n",
       "  <tbody>\n",
       "    <tr>\n",
       "      <th>курьер</th>\n",
       "      <td>0.170564</td>\n",
       "    </tr>\n",
       "    <tr>\n",
       "      <th>сотрудник кухни</th>\n",
       "      <td>0.161924</td>\n",
       "    </tr>\n",
       "  </tbody>\n",
       "</table>\n",
       "</div>"
      ],
      "text/plain": [
       "                 Do not know\n",
       "Position                    \n",
       "курьер              0.170564\n",
       "сотрудник кухни     0.161924"
      ]
     },
     "execution_count": 111,
     "metadata": {},
     "output_type": "execute_result"
    }
   ],
   "source": [
    "groupped_position = data.pivot_table(\n",
    "    index='Position', \n",
    "    values='Do not know', \n",
    "    aggfunc='mean'\n",
    "    ).sort_values(by='Do not know', ascending=False).head(5)\n",
    "groupped_position"
   ]
  },
  {
   "attachments": {},
   "cell_type": "markdown",
   "metadata": {},
   "source": [
    "**Процент осведомленности для каждой должности одинаков и составляет примерно 17%. Поэтому можно сделать вывод, что тип трудовой деятельности не влияет на осведомленность.**"
   ]
  },
  {
   "attachments": {},
   "cell_type": "markdown",
   "metadata": {},
   "source": [
    "## Выводы:\n",
    "\n",
    "- **Мы проанализировали данные с отзывами и определили долю тех, кто в компании не знает о доступности бесплатного чата психологической поддержки Альтер.**\n",
    "- **Определили подразделения компании в которых наименьшая осведомленность о доступности сервиса.**\n",
    "- **Определили подразделения компании, в которых сотрудники активнее всего проходили опрос.**\n",
    "- **Сделали вывод о том, что на уровень осведомленности не влияет должность сотрудника.**"
   ]
  }
 ],
 "metadata": {
  "kernelspec": {
   "display_name": "Python 3",
   "language": "python",
   "name": "python3"
  },
  "language_info": {
   "codemirror_mode": {
    "name": "ipython",
    "version": 3
   },
   "file_extension": ".py",
   "mimetype": "text/x-python",
   "name": "python",
   "nbconvert_exporter": "python",
   "pygments_lexer": "ipython3",
   "version": "3.10.6"
  },
  "orig_nbformat": 4,
  "vscode": {
   "interpreter": {
    "hash": "916dbcbb3f70747c44a77c7bcd40155683ae19c65e1c03b4aa3499c5328201f1"
   }
  }
 },
 "nbformat": 4,
 "nbformat_minor": 2
}
