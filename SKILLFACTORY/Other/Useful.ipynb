{
 "cells": [
  {
   "attachments": {},
   "cell_type": "markdown",
   "metadata": {},
   "source": [
    "# Useful "
   ]
  },
  {
   "attachments": {},
   "cell_type": "markdown",
   "metadata": {},
   "source": [
    "## 1. Outliers"
   ]
  },
  {
   "cell_type": "code",
   "execution_count": null,
   "metadata": {},
   "outputs": [],
   "source": [
    "import numpy as np\n",
    "import pandas as pd\n",
    "import matplotlib.pyplot as plt\n",
    "import seaborn as sns"
   ]
  },
  {
   "cell_type": "code",
   "execution_count": null,
   "metadata": {},
   "outputs": [],
   "source": [
    "def find_outliers_iqr(data, feature, left=1.5, right=1.5, log_scale=False):\n",
    "    \"\"\"\n",
    "    Находит выбросы в данных, используя метод межквартильного размаха. \n",
    "    Классический метод модифицирован путем добавления:\n",
    "    * возможности логарифмирования распредления\n",
    "    * ручного управления количеством межквартильных размахов в обе стороны распределения\n",
    "    Args:\n",
    "        data (pandas.DataFrame): набор данных\n",
    "        feature (str): имя признака, на основе которого происходит поиск выбросов\n",
    "        left (float, optional): количество межквартильных размахов в левую сторону распределения. По умолчанию 1.5.\n",
    "        right (float, optional): количество межквартильных размахов в правую сторону распределения. По умолчанию 1.5.\n",
    "        log_scale (bool, optional): режим логарифмирования. По умолчанию False - логарифмирование не применяется.\n",
    "\n",
    "    Returns:\n",
    "        pandas.DataFrame: наблюдения, попавшие в разряд выбросов\n",
    "        pandas.DataFrame: очищенные данные, из которых исключены выбросы\n",
    "    \"\"\"\n",
    "    if log_scale:\n",
    "        x = np.log(data[feature]+1)\n",
    "    else:\n",
    "        x= data[feature]\n",
    "    quartile_1, quartile_3 = x.quantile(0.25), x.quantile(0.75),\n",
    "    iqr = quartile_3 - quartile_1\n",
    "    lower_bound = quartile_1 - (iqr * left)\n",
    "    upper_bound = quartile_3 + (iqr * right)\n",
    "    outliers = data[(x<lower_bound) | (x > upper_bound)]\n",
    "    cleaned = data[(x>lower_bound) & (x < upper_bound)]\n",
    "    return outliers, cleaned\n",
    "\n",
    "def find_outliers_z_score(data, feature, left=3, right=3, log_scale=False):\n",
    "    \"\"\"\n",
    "    Находит выбросы в данных, используя метод z-отклонений. \n",
    "    Классический метод модифицирован путем добавления:\n",
    "    * возможности логарифмирования распредления\n",
    "    * ручного управления количеством стандартных отклонений в обе стороны распределения\n",
    "    Args:\n",
    "        data (pandas.DataFrame): набор данных\n",
    "        feature (str): имя признака, на основе которого происходит поиск выбросов\n",
    "        left (float, optional): количество стандартных отклонений в левую сторону распределения. По умолчанию 1.5.\n",
    "        right (float, optional): количество стандартных в правую сторону распределения. По умолчанию 1.5.\n",
    "        log_scale (bool, optional): режим логарифмирования. По умолчанию False - логарифмирование не применяется.\n",
    "\n",
    "    Returns:\n",
    "        pandas.DataFrame: наблюдения, попавшие в разряд выбросов\n",
    "        pandas.DataFrame: очищенные данные, из которых исключены выбросы\n",
    "    \"\"\"\n",
    "    if log_scale:\n",
    "        x = np.log(data[feature]+1)\n",
    "    else:\n",
    "        x = data[feature]\n",
    "    mu = x.mean()\n",
    "    sigma = x.std()\n",
    "    lower_bound = mu - left * sigma\n",
    "    upper_bound = mu + right * sigma\n",
    "    outliers = data[(x < lower_bound) | (x > upper_bound)]\n",
    "    cleaned = data[(x > lower_bound) & (x < upper_bound)]\n",
    "    return outliers, cleaned"
   ]
  },
  {
   "cell_type": "code",
   "execution_count": null,
   "metadata": {},
   "outputs": [],
   "source": [
    "def get_top_unique_values(df, level=0):\n",
    "    \"\"\"\n",
    "    Функция для получения инфомации по уникальным значениям в признаках\n",
    "\n",
    "    :param df: Датафрейм для анализа\n",
    "    :param level: Уровень уникальности в %, признаки ниже этого уровня не выводятся\n",
    "    :return: Возвращает датафрейм с именем признака, количестве уникальных значений, наиболее часто повторяющимся\n",
    "    уникальным значением, сколько % от выборки это значение занимает, количество повторов\n",
    "    \"\"\"\n",
    "\n",
    "    cols = list(df.columns)\n",
    "\n",
    "    # создаём пустой список\n",
    "    unique_list = []\n",
    "\n",
    "    for col in cols:\n",
    "        col_lev = round(df[col].value_counts(normalize=True).values[0] * 100, 2)\n",
    "\n",
    "        if col_lev > level:\n",
    "            item = (col, df[col].nunique(), df[col].value_counts(normalize=True).index[0], col_lev,\n",
    "                    df[col].value_counts().values[0])\n",
    "            # добавляем кортеж в список\n",
    "            unique_list.append(item)\n",
    "\n",
    "    unique_values = pd.DataFrame(\n",
    "        unique_list,\n",
    "        columns=['Column Name', 'Count Unique', 'Top Value', 'Top Value %', 'Top Value Count']\n",
    "    )\n",
    "\n",
    "    return unique_values"
   ]
  },
  {
   "cell_type": "code",
   "execution_count": null,
   "metadata": {},
   "outputs": [],
   "source": [
    "def Hist_and_Box_Plots(df, column_name, bins=30):\n",
    "    \"\"\"\n",
    "    Функция для построения диаграммы распределения и коробки с усами\n",
    "    для оценки нормальности распределения и поиска выбросов\n",
    "\n",
    "    :param df: Исходный датафрейм\n",
    "    :param column_name: Имя признака для анализа\n",
    "    :param bins: Количество групп по умолчанию 30\n",
    "    :return: Выводит график\n",
    "    \"\"\"\n",
    "\n",
    "    fig, axes = plt.subplots(nrows=1, ncols=2, figsize=(18, 8))\n",
    "    axes[0].ticklabel_format(style='plain', axis='x')\n",
    "    histplot = sns.histplot(data=df, x=column_name, bins=bins, ax=axes[0])\n",
    "\n",
    "    histplot.set_title(f'{column_name} Histogram')\n",
    "    axes[1].ticklabel_format(style='plain', axis='x')\n",
    "    boxplot = sns.boxplot(data=df, x=column_name, ax=axes[1])\n",
    "    boxplot.set_title(f'{column_name} Boxplot')\n",
    "\n",
    "    plt.tight_layout()\n",
    "    plt.show()"
   ]
  },
  {
   "attachments": {},
   "cell_type": "markdown",
   "metadata": {},
   "source": [
    "## Missing values"
   ]
  },
  {
   "cell_type": "code",
   "execution_count": 2,
   "metadata": {},
   "outputs": [],
   "source": [
    "def missing_values_heatmap(data):\n",
    "    cols_null_persent = data.isnull().mean() * 100\n",
    "    cols_with_null = cols_null_persent[cols_null_persent>0].sort_values(ascending=False)\n",
    "    print(cols_with_null)\n",
    "    colors = ['blue', 'yellow'] \n",
    "    fig = plt.figure(figsize=(10, 4))\n",
    "    cols = cols_with_null.index\n",
    "    ax = sns.heatmap(data[cols].isnull(), cmap=sns.color_palette(colors))\n",
    "    return ax"
   ]
  },
  {
   "attachments": {},
   "cell_type": "markdown",
   "metadata": {},
   "source": [
    "## Unique values"
   ]
  },
  {
   "cell_type": "code",
   "execution_count": null,
   "metadata": {},
   "outputs": [],
   "source": [
    "def get_top_unique_values(df, level=0):\n",
    "    \"\"\"\n",
    "    Функция для получения инфомации по уникальным значениям в признаках\n",
    "\n",
    "    :param df: Датафрейм для анализа\n",
    "    :param level: Уровень уникальности в %, признаки ниже этого уровня не выводятся\n",
    "    :return: Возвращает датафрейм с именем признака, количестве уникальных значений, наиболее часто повторяющимся\n",
    "    уникальным значением, сколько % от выборки это значение занимает, количество повторов\n",
    "    \"\"\"\n",
    "\n",
    "    cols = list(df.columns)\n",
    "\n",
    "    # создаём пустой список\n",
    "    unique_list = []\n",
    "\n",
    "    for col in cols:\n",
    "        col_lev = round(df[col].value_counts(normalize=True).values[0] * 100, 2)\n",
    "\n",
    "        if col_lev > level:\n",
    "            item = (col, df[col].nunique(), df[col].value_counts(normalize=True).index[0], col_lev,\n",
    "                    df[col].value_counts().values[0])\n",
    "            # добавляем кортеж в список\n",
    "            unique_list.append(item)\n",
    "\n",
    "    unique_values = pd.DataFrame(\n",
    "        unique_list,\n",
    "        columns=['Column Name', 'Count Unique', 'Top Value', 'Top Value %', 'Top Value Count']\n",
    "    )\n",
    "\n",
    "    return unique_values"
   ]
  }
 ],
 "metadata": {
  "kernelspec": {
   "display_name": "Python 3",
   "language": "python",
   "name": "python3"
  },
  "language_info": {
   "codemirror_mode": {
    "name": "ipython",
    "version": 3
   },
   "file_extension": ".py",
   "mimetype": "text/x-python",
   "name": "python",
   "nbconvert_exporter": "python",
   "pygments_lexer": "ipython3",
   "version": "3.10.6 (main, Nov 14 2022, 16:10:14) [GCC 11.3.0]"
  },
  "orig_nbformat": 4,
  "vscode": {
   "interpreter": {
    "hash": "916dbcbb3f70747c44a77c7bcd40155683ae19c65e1c03b4aa3499c5328201f1"
   }
  }
 },
 "nbformat": 4,
 "nbformat_minor": 2
}
