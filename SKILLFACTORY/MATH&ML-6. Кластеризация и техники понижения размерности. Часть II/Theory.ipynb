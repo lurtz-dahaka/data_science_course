{
 "cells": [
  {
   "attachments": {},
   "cell_type": "markdown",
   "metadata": {},
   "source": [
    "При решении практических задач вы будете использовать уже готовые алгоритмы на Python. Для вычисления коэффициента силуэта в библиотеке sklearn используется silhouette_score:"
   ]
  },
  {
   "attachments": {},
   "cell_type": "markdown",
   "metadata": {},
   "source": [
    "#определяем алгоритм кластеризации\n",
    "km = KMeans(n_clusters=3, random_state=42)\n",
    "#обучаем его на наших данных\n",
    "km.fit_predict(X)\n",
    "#вычисляем значение коэффициента силуэта\n",
    "score = silhouette_score(X, km.labels_, metric='euclidean')\n"
   ]
  },
  {
   "attachments": {},
   "cell_type": "markdown",
   "metadata": {},
   "source": [
    "Значение коэффициента силуэта всегда находится в диапазоне [−1,1].\n",
    "\n",
    "        Значение близко к −1: объекты в кластерах разрознены, и в целом кластерную структуру не удалось выделить.\n",
    "        Значение близко к 0: кластеры пересекаются друг с другом.\n",
    "        Значение близко к 1: чёткая кластерная структура с «плотными», отделёнными друг от друга кластерами.\n",
    "\n",
    "Также мы можем изобразить распределение коэффициентов силуэта для объектов отдельных кластеров.\n",
    "\n",
    "Например, визуализация для двух кластеров будет такой:"
   ]
  },
  {
   "attachments": {},
   "cell_type": "markdown",
   "metadata": {},
   "source": [
    "В библиотеке sklearn данный алгоритм реализуется с помощью метода calinski_harabasz_score():\n",
    "\n",
    "#определяем алгоритм кластеризации\n",
    "km = KMeans(n_clusters=3, random_state=42)\n",
    "#обучаем его на наших данных\n",
    "km.fit_predict(X)\n",
    "#вычисляем значение коэффициента Калински — Харабаса\n",
    "score = calinski_harabasz_score(X, km.labels_)"
   ]
  },
  {
   "attachments": {},
   "cell_type": "markdown",
   "metadata": {},
   "source": [
    "В библиотеке sklearn индекс Дэвиса — Болдина реализуется с помощью метода davies_bouldin_score():"
   ]
  },
  {
   "attachments": {},
   "cell_type": "markdown",
   "metadata": {},
   "source": [
    "#определяем алгоритм кластеризации\n",
    "km = KMeans(n_clusters=3, random_state=42)\n",
    "#обучаем его на наших данных\n",
    "km.fit_predict(X)\n",
    "#вычисляем значение коэффициента Дэвиса — Болдина\n",
    "score = davies_bouldin_score(X, km.labels_)"
   ]
  },
  {
   "cell_type": "markdown",
   "metadata": {},
   "source": []
  }
 ],
 "metadata": {
  "language_info": {
   "name": "python"
  },
  "orig_nbformat": 4
 },
 "nbformat": 4,
 "nbformat_minor": 2
}
