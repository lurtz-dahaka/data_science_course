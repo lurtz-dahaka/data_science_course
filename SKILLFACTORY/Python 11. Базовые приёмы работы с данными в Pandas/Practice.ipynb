{
 "cells": [
  {
   "cell_type": "markdown",
   "metadata": {},
   "source": [
    "Напишите функцию delete_columns(df, col=[]), которая удаляет столбцы из DataFrame и возвращает новую таблицу. \n",
    "Если одного из указанных столбцов в таблице не существует, то функция должна возвращать None."
   ]
  },
  {
   "cell_type": "code",
   "execution_count": 13,
   "metadata": {},
   "outputs": [
    {
     "name": "stdout",
     "output_type": "stream",
     "text": [
      "   number  cust_id  cust_age  cust_sale  cust_year_birth  cust_order\n",
      "0       0      128        13       0.00             2008        1400\n",
      "1       1     1201        21       0.00             2000       14142\n",
      "2       2     9832        19       0.20             2002         900\n",
      "3       3     4392        21       0.15             2000        1240\n",
      "4       4     7472        60       0.30             1961        8430\n"
     ]
    }
   ],
   "source": [
    "import pandas as pd\n",
    "\n",
    "def delete_columns(df, col=[]):\n",
    "    df_new = df.copy()\n",
    "    for column in col:\n",
    "        if column in df.iloc[0, :]:\n",
    "            df_new.drop([column], axis=1, inplace=True)\n",
    "        else:\n",
    "            return None    \n",
    "    return df_new\n",
    "\n",
    "\n",
    "if __name__ == '__main__':\n",
    "    customer_df = pd.DataFrame({\n",
    "        'number': [0, 1, 2, 3, 4],\n",
    "        'cust_id': [128, 1201, 9832, 4392, 7472],\n",
    "        'cust_age': [13, 21, 19, 21, 60],\n",
    "        'cust_sale': [0, 0, 0.2, 0.15, 0.3],\n",
    "        'cust_year_birth': [2008, 2000, 2002, 2000, 1961],\n",
    "        'cust_order': [1400, 14142, 900, 1240, 8430]\n",
    "    })\n",
    "    columns_for_delete= [] #выбранные вами столбцы\n",
    "    new_df = delete_columns(customer_df, columns_for_delete)\n",
    "    print(new_df)\n"
   ]
  },
  {
   "cell_type": "markdown",
   "metadata": {},
   "source": [
    "Задан DataFrame countries_df, содержащий следующие столбцы: название страны, население (population) в миллионах человек и площадь страны (square) в квадратных километрах.\n",
    "Для каждой страны рассчитайте плотность населения (количество человек на квадратный километр).\n",
    "\n",
    "Затем по полученным данным рассчитайте среднее по плотностям населения в указанных странах. Ответ округлите до сотых.\n",
    "\n",
    "Плотность населения рассчитывается как количество человек, проживающих на территории отдельной страны, делённое на площадь этой страны. Обратите внимание, что население в таблице представлено в миллионах."
   ]
  },
  {
   "cell_type": "code",
   "execution_count": 14,
   "metadata": {},
   "outputs": [
    {
     "data": {
      "text/plain": [
       "84.93"
      ]
     },
     "metadata": {},
     "output_type": "display_data"
    }
   ],
   "source": [
    "from itertools import count\n",
    "\n",
    "\n",
    "countries_df = pd.DataFrame({\n",
    "    'country': ['Англия', 'Канада', 'США', 'Россия', 'Украина', 'Беларусь', 'Казахстан'],\n",
    "    'population': [56.29, 38.05, 322.28, 146.24, 45.5, 9.5, 17.04],\n",
    "    'square': [133396, 9984670, 9826630, 17125191, 603628, 207600, 2724902]\n",
    "})\n",
    "\n",
    "countries_df['density'] = countries_df['population'] * 1000000 / countries_df['square']\n",
    "display(round(countries_df['density'].mean(), 2))"
   ]
  },
  {
   "cell_type": "markdown",
   "metadata": {},
   "source": [
    "Вам представлены данные (в формате csv) об отчётах очевидцев НЛО в США за период с 1930 по 2020 год.\n",
    "\n",
    "В данных есть следующие признаки:\n",
    "\n",
    "        \"City\" — город, где был замечен НЛО;\n",
    "        \"Colors Reported\" — цвет объекта;\n",
    "        \"Shape Reported\" — форма объекта;\n",
    "        \"State\" — обозначение штата;\n",
    "        \"Time\" — время, когда был замечен НЛО (данные отсортированы от старых наблюдений к новым). \n",
    "\n",
    "Прочитайте данные, сделайте преобразование времени к формату datetime и выполните задания ниже."
   ]
  },
  {
   "cell_type": "code",
   "execution_count": 15,
   "metadata": {},
   "outputs": [
    {
     "data": {
      "text/html": [
       "<div>\n",
       "<style scoped>\n",
       "    .dataframe tbody tr th:only-of-type {\n",
       "        vertical-align: middle;\n",
       "    }\n",
       "\n",
       "    .dataframe tbody tr th {\n",
       "        vertical-align: top;\n",
       "    }\n",
       "\n",
       "    .dataframe thead th {\n",
       "        text-align: right;\n",
       "    }\n",
       "</style>\n",
       "<table border=\"1\" class=\"dataframe\">\n",
       "  <thead>\n",
       "    <tr style=\"text-align: right;\">\n",
       "      <th></th>\n",
       "      <th>City</th>\n",
       "      <th>Colors Reported</th>\n",
       "      <th>Shape Reported</th>\n",
       "      <th>State</th>\n",
       "      <th>Time</th>\n",
       "    </tr>\n",
       "  </thead>\n",
       "  <tbody>\n",
       "    <tr>\n",
       "      <th>0</th>\n",
       "      <td>Ithaca</td>\n",
       "      <td>NaN</td>\n",
       "      <td>TRIANGLE</td>\n",
       "      <td>NY</td>\n",
       "      <td>6/1/1930 22:00</td>\n",
       "    </tr>\n",
       "    <tr>\n",
       "      <th>1</th>\n",
       "      <td>Willingboro</td>\n",
       "      <td>NaN</td>\n",
       "      <td>OTHER</td>\n",
       "      <td>NJ</td>\n",
       "      <td>6/30/1930 20:00</td>\n",
       "    </tr>\n",
       "    <tr>\n",
       "      <th>2</th>\n",
       "      <td>Holyoke</td>\n",
       "      <td>NaN</td>\n",
       "      <td>OVAL</td>\n",
       "      <td>CO</td>\n",
       "      <td>2/15/1931 14:00</td>\n",
       "    </tr>\n",
       "    <tr>\n",
       "      <th>3</th>\n",
       "      <td>Abilene</td>\n",
       "      <td>NaN</td>\n",
       "      <td>DISK</td>\n",
       "      <td>KS</td>\n",
       "      <td>6/1/1931 13:00</td>\n",
       "    </tr>\n",
       "    <tr>\n",
       "      <th>4</th>\n",
       "      <td>New York Worlds Fair</td>\n",
       "      <td>NaN</td>\n",
       "      <td>LIGHT</td>\n",
       "      <td>NY</td>\n",
       "      <td>4/18/1933 19:00</td>\n",
       "    </tr>\n",
       "    <tr>\n",
       "      <th>...</th>\n",
       "      <td>...</td>\n",
       "      <td>...</td>\n",
       "      <td>...</td>\n",
       "      <td>...</td>\n",
       "      <td>...</td>\n",
       "    </tr>\n",
       "    <tr>\n",
       "      <th>18236</th>\n",
       "      <td>Grant Park</td>\n",
       "      <td>NaN</td>\n",
       "      <td>TRIANGLE</td>\n",
       "      <td>IL</td>\n",
       "      <td>12/31/2000 23:00</td>\n",
       "    </tr>\n",
       "    <tr>\n",
       "      <th>18237</th>\n",
       "      <td>Spirit Lake</td>\n",
       "      <td>NaN</td>\n",
       "      <td>DISK</td>\n",
       "      <td>IA</td>\n",
       "      <td>12/31/2000 23:00</td>\n",
       "    </tr>\n",
       "    <tr>\n",
       "      <th>18238</th>\n",
       "      <td>Eagle River</td>\n",
       "      <td>NaN</td>\n",
       "      <td>NaN</td>\n",
       "      <td>WI</td>\n",
       "      <td>12/31/2000 23:45</td>\n",
       "    </tr>\n",
       "    <tr>\n",
       "      <th>18239</th>\n",
       "      <td>Eagle River</td>\n",
       "      <td>RED</td>\n",
       "      <td>LIGHT</td>\n",
       "      <td>WI</td>\n",
       "      <td>12/31/2000 23:45</td>\n",
       "    </tr>\n",
       "    <tr>\n",
       "      <th>18240</th>\n",
       "      <td>Ybor</td>\n",
       "      <td>NaN</td>\n",
       "      <td>OVAL</td>\n",
       "      <td>FL</td>\n",
       "      <td>12/31/2000 23:59</td>\n",
       "    </tr>\n",
       "  </tbody>\n",
       "</table>\n",
       "<p>18241 rows × 5 columns</p>\n",
       "</div>"
      ],
      "text/plain": [
       "                       City Colors Reported Shape Reported State  \\\n",
       "0                    Ithaca             NaN       TRIANGLE    NY   \n",
       "1               Willingboro             NaN          OTHER    NJ   \n",
       "2                   Holyoke             NaN           OVAL    CO   \n",
       "3                   Abilene             NaN           DISK    KS   \n",
       "4      New York Worlds Fair             NaN          LIGHT    NY   \n",
       "...                     ...             ...            ...   ...   \n",
       "18236            Grant Park             NaN       TRIANGLE    IL   \n",
       "18237           Spirit Lake             NaN           DISK    IA   \n",
       "18238           Eagle River             NaN            NaN    WI   \n",
       "18239           Eagle River             RED          LIGHT    WI   \n",
       "18240                  Ybor             NaN           OVAL    FL   \n",
       "\n",
       "                   Time  \n",
       "0        6/1/1930 22:00  \n",
       "1       6/30/1930 20:00  \n",
       "2       2/15/1931 14:00  \n",
       "3        6/1/1931 13:00  \n",
       "4       4/18/1933 19:00  \n",
       "...                 ...  \n",
       "18236  12/31/2000 23:00  \n",
       "18237  12/31/2000 23:00  \n",
       "18238  12/31/2000 23:45  \n",
       "18239  12/31/2000 23:45  \n",
       "18240  12/31/2000 23:59  \n",
       "\n",
       "[18241 rows x 5 columns]"
      ]
     },
     "metadata": {},
     "output_type": "display_data"
    }
   ],
   "source": [
    "ufo_df = pd.read_csv('data/ufo.csv', sep=',')\n",
    "display(ufo_df)"
   ]
  },
  {
   "cell_type": "markdown",
   "metadata": {},
   "source": [
    "В каком году отмечается наибольшее количество случаев наблюдения НЛО в США?"
   ]
  },
  {
   "cell_type": "code",
   "execution_count": 30,
   "metadata": {},
   "outputs": [
    {
     "data": {
      "text/plain": [
       "1999    2774\n",
       "2000    2635\n",
       "1998    1743\n",
       "1995    1344\n",
       "1997    1237\n",
       "        ... \n",
       "1936       2\n",
       "1930       2\n",
       "1935       1\n",
       "1934       1\n",
       "1933       1\n",
       "Name: Time, Length: 68, dtype: int64"
      ]
     },
     "metadata": {},
     "output_type": "display_data"
    },
    {
     "data": {
      "text/plain": [
       "0    1999\n",
       "Name: Time, dtype: int64"
      ]
     },
     "metadata": {},
     "output_type": "display_data"
    }
   ],
   "source": [
    "ufo_df['Time'] = pd.to_datetime(ufo_df['Time'], dayfirst=False)\n",
    "ufo_years = ufo_df['Time'].dt.year\n",
    "display(ufo_years.value_counts())\n",
    "display(ufo_years.mode())"
   ]
  },
  {
   "cell_type": "markdown",
   "metadata": {},
   "source": [
    "Найдите средний интервал времени (в днях) между двумя последовательными случаями наблюдения НЛО в штате Невада (NV).\n",
    "\n",
    "Чтобы выделить дату из столбца Time, можно воспользоваться атрибутом datetime date.\n",
    "\n",
    "Чтобы вычислить разницу между двумя соседними датами в столбце, примените к нему метод diff().\n",
    "\n",
    "Чтобы перевести интервал времени в дни, воспользуйтесь атрибутом timedelta days.\n"
   ]
  },
  {
   "cell_type": "code",
   "execution_count": 65,
   "metadata": {},
   "outputs": [
    {
     "data": {
      "text/plain": [
       "69.0"
      ]
     },
     "metadata": {},
     "output_type": "display_data"
    }
   ],
   "source": [
    "ufo_nv_days = ufo_df[ufo_df['State'] == 'NV']['Time'].dt.date.diff().dt.days.mean()\n",
    "display(round(ufo_nv_days, 0))\n",
    "\n"
   ]
  },
  {
   "cell_type": "markdown",
   "metadata": {},
   "source": [
    "Представьте, что вы занимаетесь подготовкой данных о вакансиях с платформы hh.ru. В вашем распоряжении имеется таблица, в которой с помощью парсинга собраны резюме кандидатов. В этой таблице есть текстовый столбец «Опыт работы». Пример такого столбца представлен ниже в виде объекта Series. Структура текста в столбце фиксирована и не может измениться.\n",
    "\n",
    "Напишите функцию get_experience(arg), аргументом которой является строка столбца с опытом работы. Функция должна возвращать опыт работы в месяцах. Не забудьте привести результат к целому числу.\n",
    "\n",
    "Обратите внимание, что опыт работы может выражаться только в годах или только в месяцах. Учтите это при построении своей функции. Кроме того, учтите возможные вариации слов месяц (месяца, месяцев) и год (года, лет).\n",
    "\n",
    "Примените вашу функцию к Series experience_col с помощью метода apply()."
   ]
  },
  {
   "cell_type": "code",
   "execution_count": 83,
   "metadata": {},
   "outputs": [
    {
     "name": "stdout",
     "output_type": "stream",
     "text": [
      "0    99\n",
      "1    41\n",
      "2    21\n",
      "3     3\n",
      "4    72\n",
      "dtype: int64\n"
     ]
    }
   ],
   "source": [
    "def get_experience(arg):\n",
    "    \n",
    "    year_list = ['лет', 'года', 'год']\n",
    "    month_list = ['месяц', 'месяца', 'месяцев']\n",
    "    experience_list = arg.split(sep=' ')\n",
    "    exp_year = 0\n",
    "    exp_mnth = 0\n",
    "    for i in range(len(experience_list)):\n",
    "        if experience_list[i] in year_list:\n",
    "            exp_year = experience_list[i-1]\n",
    "        if experience_list[i] in month_list:\n",
    "            exp_mnth = experience_list[i-1]\n",
    "    result = 12*int(exp_year) + int(exp_mnth)\n",
    "    return result\n",
    "                \n",
    "\n",
    "\n",
    "if __name__ == '__main__':\n",
    "    experience_col = pd.Series([\n",
    "        'Опыт работы 8 лет 3 месяца',\n",
    "        'Опыт работы 3 года 5 месяцев',\n",
    "        'Опыт работы 1 год 9 месяцев',\n",
    "        'Опыт работы 3 месяца',\n",
    "        'Опыт работы 6 лет'\n",
    "        ])\n",
    "    experience_month = experience_col.apply(get_experience)\n",
    "    print(experience_month)\n",
    "    \n"
   ]
  },
  {
   "cell_type": "code",
   "execution_count": 84,
   "metadata": {},
   "outputs": [
    {
     "name": "stdout",
     "output_type": "stream",
     "text": [
      "0    99\n",
      "1    41\n",
      "2    21\n",
      "3     3\n",
      "4    72\n",
      "dtype: int64\n"
     ]
    }
   ],
   "source": [
    "def get_experience(arg):\n",
    "    \n",
    "    year_list = ['лет', 'года', 'год']\n",
    "    month_list = ['месяц', 'месяца', 'месяцев']\n",
    "    experience_list = arg.split(sep=' ')\n",
    "    exp_year = 0\n",
    "    exp_mnth = 0\n",
    "    if len(experience_list) == 6:\n",
    "        exp_mnth = experience_list[-2]\n",
    "        exp_year = experience_list[-4]\n",
    "    elif len(experience_list) == 4:\n",
    "        for i in year_list:\n",
    "            if i in experience_list:\n",
    "                exp_year = experience_list[-2]\n",
    "        for i in month_list:\n",
    "            if i in experience_list:\n",
    "                exp_mnth = experience_list[-2]   \n",
    "    result = 12*int(exp_year) + int(exp_mnth)\n",
    "    return result\n",
    "                \n",
    "\n",
    "\n",
    "if __name__ == '__main__':\n",
    "    experience_col = pd.Series([\n",
    "        'Опыт работы 8 лет 3 месяца',\n",
    "        'Опыт работы 3 года 5 месяцев',\n",
    "        'Опыт работы 1 год 9 месяцев',\n",
    "        'Опыт работы 3 месяца',\n",
    "        'Опыт работы 6 лет'\n",
    "        ])\n",
    "    experience_month = experience_col.apply(get_experience)\n",
    "    print(experience_month)\n",
    "    \n"
   ]
  },
  {
   "cell_type": "markdown",
   "metadata": {},
   "source": [
    "На этот раз мы поговорим о спорте, а точнее — о велоспорте. \n",
    "\n",
    "Вашим заданием в этом модуле будет проанализировать и преобразовать данные о велопоездках клиентов компании Citi Bike (США), специализирующейся на прокате велосипедов.\n",
    "\n",
    "Скачать датасет в формате csv можно здесь.\n",
    "\n",
    "Датасет представляет собой таблицу с информацией о 300 тысячах поездок за первые пять дней сентября 2018 года и включает в себя следующую информацию:\n",
    "\n",
    "        starttime — время начала поездки (дата, время);\n",
    "        stoptime — время окончания поездки (дата, время);\n",
    "        start station id — идентификатор стартовой стоянки;\n",
    "        start station name — название стартовой стоянки;\n",
    "        start station latitude, start station longitude — географическая широта и долгота стартовой стоянки;\n",
    "        end station id — идентификатор конечной стоянки;\n",
    "\n",
    "        end station name — название конечной стоянки;\n",
    "        end station latitude, end station longitude — географическая широта и долгота конечной стоянки;\n",
    "        bikeid — идентификатор велосипеда;\n",
    "        usertype — тип пользователя (Customer — клиент с подпиской на 24 часа или на три дня, Subscriber — подписчик с годовой арендой велосипеда);\n",
    "        birth year — год рождения клиента;\n",
    "        gender — пол клиента (0 — неизвестный, 1 — мужчина, 2 — женщина).\n",
    "\n",
    "Оригинальный источник данных вы можете найти здесь. Он представляет собой таблицу на 1,7 миллиона строк. В учебных целях мы удалили из датасета несколько признаков, а также уменьшили число строк.\n",
    "\n",
    "Итак, начнём с разминки и произведём базовый анализ, чтобы познакомиться с данными поближе, а заодно повторим темы предыдущего модуля."
   ]
  },
  {
   "cell_type": "code",
   "execution_count": 101,
   "metadata": {},
   "outputs": [
    {
     "name": "stdout",
     "output_type": "stream",
     "text": [
      "<class 'pandas.core.frame.DataFrame'>\n",
      "RangeIndex: 300000 entries, 0 to 299999\n",
      "Data columns (total 14 columns):\n",
      " #   Column                   Non-Null Count   Dtype  \n",
      "---  ------                   --------------   -----  \n",
      " 0   starttime                300000 non-null  object \n",
      " 1   stoptime                 300000 non-null  object \n",
      " 2   start station id         299831 non-null  float64\n",
      " 3   start station name       299831 non-null  object \n",
      " 4   start station latitude   300000 non-null  float64\n",
      " 5   start station longitude  300000 non-null  float64\n",
      " 6   end station id           299831 non-null  float64\n",
      " 7   end station name         299831 non-null  object \n",
      " 8   end station latitude     300000 non-null  float64\n",
      " 9   end station longitude    300000 non-null  float64\n",
      " 10  bikeid                   300000 non-null  int64  \n",
      " 11  usertype                 300000 non-null  object \n",
      " 12  birth year               300000 non-null  int64  \n",
      " 13  gender                   300000 non-null  int64  \n",
      "dtypes: float64(6), int64(3), object(5)\n",
      "memory usage: 32.0+ MB\n"
     ]
    },
    {
     "data": {
      "text/plain": [
       "None"
      ]
     },
     "metadata": {},
     "output_type": "display_data"
    }
   ],
   "source": [
    "bike_df = pd.read_csv('data/citibike-tripdata.csv', sep=',')\n",
    "display(bike_df.info())"
   ]
  },
  {
   "cell_type": "code",
   "execution_count": 142,
   "metadata": {},
   "outputs": [
    {
     "data": {
      "text/html": [
       "<div>\n",
       "<style scoped>\n",
       "    .dataframe tbody tr th:only-of-type {\n",
       "        vertical-align: middle;\n",
       "    }\n",
       "\n",
       "    .dataframe tbody tr th {\n",
       "        vertical-align: top;\n",
       "    }\n",
       "\n",
       "    .dataframe thead th {\n",
       "        text-align: right;\n",
       "    }\n",
       "</style>\n",
       "<table border=\"1\" class=\"dataframe\">\n",
       "  <thead>\n",
       "    <tr style=\"text-align: right;\">\n",
       "      <th></th>\n",
       "      <th>starttime</th>\n",
       "      <th>stoptime</th>\n",
       "      <th>start station name</th>\n",
       "      <th>start station latitude</th>\n",
       "      <th>start station longitude</th>\n",
       "      <th>end station name</th>\n",
       "      <th>end station latitude</th>\n",
       "      <th>end station longitude</th>\n",
       "      <th>bikeid</th>\n",
       "      <th>usertype</th>\n",
       "      <th>gender</th>\n",
       "      <th>age</th>\n",
       "    </tr>\n",
       "  </thead>\n",
       "  <tbody>\n",
       "    <tr>\n",
       "      <th>0</th>\n",
       "      <td>2018-09-01 00:00:05.2690</td>\n",
       "      <td>2018-09-01 00:27:20.6340</td>\n",
       "      <td>MacDougal St &amp; Washington Sq</td>\n",
       "      <td>40.732264</td>\n",
       "      <td>-73.998522</td>\n",
       "      <td>Clinton Ave &amp; Myrtle Ave</td>\n",
       "      <td>40.693261</td>\n",
       "      <td>-73.968896</td>\n",
       "      <td>25577</td>\n",
       "      <td>Subscriber</td>\n",
       "      <td>1</td>\n",
       "      <td>38</td>\n",
       "    </tr>\n",
       "    <tr>\n",
       "      <th>1</th>\n",
       "      <td>2018-09-01 00:00:11.2810</td>\n",
       "      <td>2018-09-01 00:02:23.4810</td>\n",
       "      <td>Cadman Plaza West &amp; Montague St</td>\n",
       "      <td>40.693830</td>\n",
       "      <td>-73.990539</td>\n",
       "      <td>Schermerhorn St &amp; Court St</td>\n",
       "      <td>40.691029</td>\n",
       "      <td>-73.991834</td>\n",
       "      <td>34377</td>\n",
       "      <td>Subscriber</td>\n",
       "      <td>0</td>\n",
       "      <td>49</td>\n",
       "    </tr>\n",
       "    <tr>\n",
       "      <th>2</th>\n",
       "      <td>2018-09-01 00:00:20.6490</td>\n",
       "      <td>2018-09-01 00:55:58.5470</td>\n",
       "      <td>1 Ave &amp; E 62 St</td>\n",
       "      <td>40.761227</td>\n",
       "      <td>-73.960940</td>\n",
       "      <td>Smith St &amp; 3 St</td>\n",
       "      <td>40.678724</td>\n",
       "      <td>-73.995991</td>\n",
       "      <td>30496</td>\n",
       "      <td>Subscriber</td>\n",
       "      <td>1</td>\n",
       "      <td>43</td>\n",
       "    </tr>\n",
       "    <tr>\n",
       "      <th>3</th>\n",
       "      <td>2018-09-01 00:00:21.7460</td>\n",
       "      <td>2018-09-01 00:07:38.5830</td>\n",
       "      <td>St James Pl &amp; Oliver St</td>\n",
       "      <td>40.713079</td>\n",
       "      <td>-73.998512</td>\n",
       "      <td>Park Pl &amp; Church St</td>\n",
       "      <td>40.713342</td>\n",
       "      <td>-74.009355</td>\n",
       "      <td>28866</td>\n",
       "      <td>Subscriber</td>\n",
       "      <td>2</td>\n",
       "      <td>34</td>\n",
       "    </tr>\n",
       "    <tr>\n",
       "      <th>4</th>\n",
       "      <td>2018-09-01 00:00:27.3150</td>\n",
       "      <td>2018-09-01 02:21:25.3080</td>\n",
       "      <td>W 13 St &amp; 6 Ave</td>\n",
       "      <td>40.736494</td>\n",
       "      <td>-73.997044</td>\n",
       "      <td>W 4 St &amp; 7 Ave S</td>\n",
       "      <td>40.734011</td>\n",
       "      <td>-74.002939</td>\n",
       "      <td>20943</td>\n",
       "      <td>Customer</td>\n",
       "      <td>1</td>\n",
       "      <td>24</td>\n",
       "    </tr>\n",
       "    <tr>\n",
       "      <th>...</th>\n",
       "      <td>...</td>\n",
       "      <td>...</td>\n",
       "      <td>...</td>\n",
       "      <td>...</td>\n",
       "      <td>...</td>\n",
       "      <td>...</td>\n",
       "      <td>...</td>\n",
       "      <td>...</td>\n",
       "      <td>...</td>\n",
       "      <td>...</td>\n",
       "      <td>...</td>\n",
       "      <td>...</td>\n",
       "    </tr>\n",
       "    <tr>\n",
       "      <th>299995</th>\n",
       "      <td>2018-09-05 19:08:27.8460</td>\n",
       "      <td>2018-09-05 19:15:51.4940</td>\n",
       "      <td>W 26 St &amp; 8 Ave</td>\n",
       "      <td>40.747348</td>\n",
       "      <td>-73.997236</td>\n",
       "      <td>W 37 St &amp; 10 Ave</td>\n",
       "      <td>40.756604</td>\n",
       "      <td>-73.997901</td>\n",
       "      <td>19531</td>\n",
       "      <td>Subscriber</td>\n",
       "      <td>2</td>\n",
       "      <td>28</td>\n",
       "    </tr>\n",
       "    <tr>\n",
       "      <th>299996</th>\n",
       "      <td>2018-09-05 19:08:28.3700</td>\n",
       "      <td>2018-09-05 19:20:01.5080</td>\n",
       "      <td>Kent Ave &amp; N 7 St</td>\n",
       "      <td>40.720368</td>\n",
       "      <td>-73.961651</td>\n",
       "      <td>Graham Ave &amp; Conselyea St</td>\n",
       "      <td>40.715143</td>\n",
       "      <td>-73.944507</td>\n",
       "      <td>34020</td>\n",
       "      <td>Subscriber</td>\n",
       "      <td>1</td>\n",
       "      <td>36</td>\n",
       "    </tr>\n",
       "    <tr>\n",
       "      <th>299997</th>\n",
       "      <td>2018-09-05 19:08:27.5090</td>\n",
       "      <td>2018-09-05 19:13:40.5060</td>\n",
       "      <td>Gansevoort St &amp; Hudson St</td>\n",
       "      <td>40.739448</td>\n",
       "      <td>-74.005070</td>\n",
       "      <td>W 18 St &amp; 6 Ave</td>\n",
       "      <td>40.739713</td>\n",
       "      <td>-73.994564</td>\n",
       "      <td>33220</td>\n",
       "      <td>Subscriber</td>\n",
       "      <td>1</td>\n",
       "      <td>27</td>\n",
       "    </tr>\n",
       "    <tr>\n",
       "      <th>299998</th>\n",
       "      <td>2018-09-05 19:08:29.2300</td>\n",
       "      <td>2018-09-05 20:04:29.3220</td>\n",
       "      <td>W 11 St &amp; 6 Ave</td>\n",
       "      <td>40.735324</td>\n",
       "      <td>-73.998004</td>\n",
       "      <td>Broadway &amp; W 60 St</td>\n",
       "      <td>40.769155</td>\n",
       "      <td>-73.981918</td>\n",
       "      <td>34744</td>\n",
       "      <td>Subscriber</td>\n",
       "      <td>0</td>\n",
       "      <td>43</td>\n",
       "    </tr>\n",
       "    <tr>\n",
       "      <th>299999</th>\n",
       "      <td>2018-09-05 19:08:29.7110</td>\n",
       "      <td>2018-09-05 19:12:14.7620</td>\n",
       "      <td>1 Ave &amp; E 110 St</td>\n",
       "      <td>40.792327</td>\n",
       "      <td>-73.938300</td>\n",
       "      <td>Lexington Ave &amp; E 111 St</td>\n",
       "      <td>40.795412</td>\n",
       "      <td>-73.944123</td>\n",
       "      <td>18292</td>\n",
       "      <td>Subscriber</td>\n",
       "      <td>1</td>\n",
       "      <td>52</td>\n",
       "    </tr>\n",
       "  </tbody>\n",
       "</table>\n",
       "<p>300000 rows × 12 columns</p>\n",
       "</div>"
      ],
      "text/plain": [
       "                       starttime                  stoptime  \\\n",
       "0       2018-09-01 00:00:05.2690  2018-09-01 00:27:20.6340   \n",
       "1       2018-09-01 00:00:11.2810  2018-09-01 00:02:23.4810   \n",
       "2       2018-09-01 00:00:20.6490  2018-09-01 00:55:58.5470   \n",
       "3       2018-09-01 00:00:21.7460  2018-09-01 00:07:38.5830   \n",
       "4       2018-09-01 00:00:27.3150  2018-09-01 02:21:25.3080   \n",
       "...                          ...                       ...   \n",
       "299995  2018-09-05 19:08:27.8460  2018-09-05 19:15:51.4940   \n",
       "299996  2018-09-05 19:08:28.3700  2018-09-05 19:20:01.5080   \n",
       "299997  2018-09-05 19:08:27.5090  2018-09-05 19:13:40.5060   \n",
       "299998  2018-09-05 19:08:29.2300  2018-09-05 20:04:29.3220   \n",
       "299999  2018-09-05 19:08:29.7110  2018-09-05 19:12:14.7620   \n",
       "\n",
       "                     start station name  start station latitude  \\\n",
       "0          MacDougal St & Washington Sq               40.732264   \n",
       "1       Cadman Plaza West & Montague St               40.693830   \n",
       "2                       1 Ave & E 62 St               40.761227   \n",
       "3               St James Pl & Oliver St               40.713079   \n",
       "4                       W 13 St & 6 Ave               40.736494   \n",
       "...                                 ...                     ...   \n",
       "299995                  W 26 St & 8 Ave               40.747348   \n",
       "299996                Kent Ave & N 7 St               40.720368   \n",
       "299997        Gansevoort St & Hudson St               40.739448   \n",
       "299998                  W 11 St & 6 Ave               40.735324   \n",
       "299999                 1 Ave & E 110 St               40.792327   \n",
       "\n",
       "        start station longitude            end station name  \\\n",
       "0                    -73.998522    Clinton Ave & Myrtle Ave   \n",
       "1                    -73.990539  Schermerhorn St & Court St   \n",
       "2                    -73.960940             Smith St & 3 St   \n",
       "3                    -73.998512         Park Pl & Church St   \n",
       "4                    -73.997044            W 4 St & 7 Ave S   \n",
       "...                         ...                         ...   \n",
       "299995               -73.997236            W 37 St & 10 Ave   \n",
       "299996               -73.961651   Graham Ave & Conselyea St   \n",
       "299997               -74.005070             W 18 St & 6 Ave   \n",
       "299998               -73.998004          Broadway & W 60 St   \n",
       "299999               -73.938300    Lexington Ave & E 111 St   \n",
       "\n",
       "        end station latitude  end station longitude  bikeid    usertype  \\\n",
       "0                  40.693261             -73.968896   25577  Subscriber   \n",
       "1                  40.691029             -73.991834   34377  Subscriber   \n",
       "2                  40.678724             -73.995991   30496  Subscriber   \n",
       "3                  40.713342             -74.009355   28866  Subscriber   \n",
       "4                  40.734011             -74.002939   20943    Customer   \n",
       "...                      ...                    ...     ...         ...   \n",
       "299995             40.756604             -73.997901   19531  Subscriber   \n",
       "299996             40.715143             -73.944507   34020  Subscriber   \n",
       "299997             40.739713             -73.994564   33220  Subscriber   \n",
       "299998             40.769155             -73.981918   34744  Subscriber   \n",
       "299999             40.795412             -73.944123   18292  Subscriber   \n",
       "\n",
       "        gender  age  \n",
       "0            1   38  \n",
       "1            0   49  \n",
       "2            1   43  \n",
       "3            2   34  \n",
       "4            1   24  \n",
       "...        ...  ...  \n",
       "299995       2   28  \n",
       "299996       1   36  \n",
       "299997       1   27  \n",
       "299998       0   43  \n",
       "299999       1   52  \n",
       "\n",
       "[300000 rows x 12 columns]"
      ]
     },
     "metadata": {},
     "output_type": "display_data"
    }
   ],
   "source": [
    "display(bike_df)"
   ]
  },
  {
   "cell_type": "markdown",
   "metadata": {},
   "source": [
    "Задание 6.1\n",
    "Сколько пропусков в столбце start station id?"
   ]
  },
  {
   "cell_type": "code",
   "execution_count": 92,
   "metadata": {},
   "outputs": [
    {
     "data": {
      "text/html": [
       "<div>\n",
       "<style scoped>\n",
       "    .dataframe tbody tr th:only-of-type {\n",
       "        vertical-align: middle;\n",
       "    }\n",
       "\n",
       "    .dataframe tbody tr th {\n",
       "        vertical-align: top;\n",
       "    }\n",
       "\n",
       "    .dataframe thead th {\n",
       "        text-align: right;\n",
       "    }\n",
       "</style>\n",
       "<table border=\"1\" class=\"dataframe\">\n",
       "  <thead>\n",
       "    <tr style=\"text-align: right;\">\n",
       "      <th></th>\n",
       "      <th>start station id</th>\n",
       "      <th>start station latitude</th>\n",
       "      <th>start station longitude</th>\n",
       "      <th>end station id</th>\n",
       "      <th>end station latitude</th>\n",
       "      <th>end station longitude</th>\n",
       "      <th>bikeid</th>\n",
       "      <th>birth year</th>\n",
       "      <th>gender</th>\n",
       "    </tr>\n",
       "  </thead>\n",
       "  <tbody>\n",
       "    <tr>\n",
       "      <th>count</th>\n",
       "      <td>299831.000000</td>\n",
       "      <td>300000.000000</td>\n",
       "      <td>300000.000000</td>\n",
       "      <td>299831.000000</td>\n",
       "      <td>300000.000000</td>\n",
       "      <td>300000.000000</td>\n",
       "      <td>300000.000000</td>\n",
       "      <td>300000.000000</td>\n",
       "      <td>300000.000000</td>\n",
       "    </tr>\n",
       "    <tr>\n",
       "      <th>mean</th>\n",
       "      <td>1695.665665</td>\n",
       "      <td>40.737769</td>\n",
       "      <td>-73.982042</td>\n",
       "      <td>1684.624298</td>\n",
       "      <td>40.737294</td>\n",
       "      <td>-73.982330</td>\n",
       "      <td>26688.525943</td>\n",
       "      <td>1979.364803</td>\n",
       "      <td>1.108647</td>\n",
       "    </tr>\n",
       "    <tr>\n",
       "      <th>std</th>\n",
       "      <td>1458.264055</td>\n",
       "      <td>0.031999</td>\n",
       "      <td>0.020207</td>\n",
       "      <td>1457.549589</td>\n",
       "      <td>0.031794</td>\n",
       "      <td>0.020261</td>\n",
       "      <td>6271.691143</td>\n",
       "      <td>11.920796</td>\n",
       "      <td>0.613398</td>\n",
       "    </tr>\n",
       "    <tr>\n",
       "      <th>min</th>\n",
       "      <td>72.000000</td>\n",
       "      <td>40.655400</td>\n",
       "      <td>-74.025353</td>\n",
       "      <td>72.000000</td>\n",
       "      <td>40.655400</td>\n",
       "      <td>-74.083639</td>\n",
       "      <td>14529.000000</td>\n",
       "      <td>1885.000000</td>\n",
       "      <td>0.000000</td>\n",
       "    </tr>\n",
       "    <tr>\n",
       "      <th>25%</th>\n",
       "      <td>387.000000</td>\n",
       "      <td>40.716226</td>\n",
       "      <td>-73.995991</td>\n",
       "      <td>387.000000</td>\n",
       "      <td>40.716059</td>\n",
       "      <td>-73.996621</td>\n",
       "      <td>20569.000000</td>\n",
       "      <td>1969.000000</td>\n",
       "      <td>1.000000</td>\n",
       "    </tr>\n",
       "    <tr>\n",
       "      <th>50%</th>\n",
       "      <td>519.000000</td>\n",
       "      <td>40.737262</td>\n",
       "      <td>-73.985162</td>\n",
       "      <td>519.000000</td>\n",
       "      <td>40.737050</td>\n",
       "      <td>-73.985649</td>\n",
       "      <td>28197.000000</td>\n",
       "      <td>1982.000000</td>\n",
       "      <td>1.000000</td>\n",
       "    </tr>\n",
       "    <tr>\n",
       "      <th>75%</th>\n",
       "      <td>3282.000000</td>\n",
       "      <td>40.760683</td>\n",
       "      <td>-73.970416</td>\n",
       "      <td>3282.000000</td>\n",
       "      <td>40.760094</td>\n",
       "      <td>-73.971092</td>\n",
       "      <td>32216.000000</td>\n",
       "      <td>1989.000000</td>\n",
       "      <td>1.000000</td>\n",
       "    </tr>\n",
       "    <tr>\n",
       "      <th>max</th>\n",
       "      <td>3705.000000</td>\n",
       "      <td>40.869000</td>\n",
       "      <td>-73.878000</td>\n",
       "      <td>3705.000000</td>\n",
       "      <td>40.869000</td>\n",
       "      <td>-73.878000</td>\n",
       "      <td>34863.000000</td>\n",
       "      <td>2002.000000</td>\n",
       "      <td>2.000000</td>\n",
       "    </tr>\n",
       "  </tbody>\n",
       "</table>\n",
       "</div>"
      ],
      "text/plain": [
       "       start station id  start station latitude  start station longitude  \\\n",
       "count     299831.000000           300000.000000            300000.000000   \n",
       "mean        1695.665665               40.737769               -73.982042   \n",
       "std         1458.264055                0.031999                 0.020207   \n",
       "min           72.000000               40.655400               -74.025353   \n",
       "25%          387.000000               40.716226               -73.995991   \n",
       "50%          519.000000               40.737262               -73.985162   \n",
       "75%         3282.000000               40.760683               -73.970416   \n",
       "max         3705.000000               40.869000               -73.878000   \n",
       "\n",
       "       end station id  end station latitude  end station longitude  \\\n",
       "count   299831.000000         300000.000000          300000.000000   \n",
       "mean      1684.624298             40.737294             -73.982330   \n",
       "std       1457.549589              0.031794               0.020261   \n",
       "min         72.000000             40.655400             -74.083639   \n",
       "25%        387.000000             40.716059             -73.996621   \n",
       "50%        519.000000             40.737050             -73.985649   \n",
       "75%       3282.000000             40.760094             -73.971092   \n",
       "max       3705.000000             40.869000             -73.878000   \n",
       "\n",
       "              bikeid     birth year         gender  \n",
       "count  300000.000000  300000.000000  300000.000000  \n",
       "mean    26688.525943    1979.364803       1.108647  \n",
       "std      6271.691143      11.920796       0.613398  \n",
       "min     14529.000000    1885.000000       0.000000  \n",
       "25%     20569.000000    1969.000000       1.000000  \n",
       "50%     28197.000000    1982.000000       1.000000  \n",
       "75%     32216.000000    1989.000000       1.000000  \n",
       "max     34863.000000    2002.000000       2.000000  "
      ]
     },
     "metadata": {},
     "output_type": "display_data"
    },
    {
     "data": {
      "text/plain": [
       "169"
      ]
     },
     "execution_count": 92,
     "metadata": {},
     "output_type": "execute_result"
    }
   ],
   "source": [
    "display(bike_df.describe())\n",
    "300000 - bike_df['start station id'].count()"
   ]
  },
  {
   "cell_type": "markdown",
   "metadata": {},
   "source": [
    "Задание 6.2\n",
    "Какой тип данных имеют столбцы starttime и stoptime?"
   ]
  },
  {
   "cell_type": "code",
   "execution_count": 100,
   "metadata": {},
   "outputs": [
    {
     "name": "stdout",
     "output_type": "stream",
     "text": [
      "<class 'pandas.core.series.Series'>\n",
      "RangeIndex: 300000 entries, 0 to 299999\n",
      "Series name: starttime\n",
      "Non-Null Count   Dtype \n",
      "--------------   ----- \n",
      "300000 non-null  object\n",
      "dtypes: object(1)\n",
      "memory usage: 2.3+ MB\n"
     ]
    },
    {
     "data": {
      "text/plain": [
       "None"
      ]
     },
     "metadata": {},
     "output_type": "display_data"
    },
    {
     "name": "stdout",
     "output_type": "stream",
     "text": [
      "<class 'pandas.core.series.Series'>\n",
      "RangeIndex: 300000 entries, 0 to 299999\n",
      "Series name: stoptime\n",
      "Non-Null Count   Dtype \n",
      "--------------   ----- \n",
      "300000 non-null  object\n",
      "dtypes: object(1)\n",
      "memory usage: 2.3+ MB\n"
     ]
    },
    {
     "data": {
      "text/plain": [
       "None"
      ]
     },
     "metadata": {},
     "output_type": "display_data"
    }
   ],
   "source": [
    "display(bike_df['starttime'].info())\n",
    "display(bike_df['stoptime'].info())"
   ]
  },
  {
   "cell_type": "markdown",
   "metadata": {},
   "source": [
    "Задание 6.3\n",
    "Найдите идентификатор самой популярной стартовой стоянки. Запишите идентификатор в виде целого числа."
   ]
  },
  {
   "cell_type": "code",
   "execution_count": 105,
   "metadata": {},
   "outputs": [
    {
     "data": {
      "text/plain": [
       "281"
      ]
     },
     "execution_count": 105,
     "metadata": {},
     "output_type": "execute_result"
    }
   ],
   "source": [
    "int(bike_df['start station id'].mode())"
   ]
  },
  {
   "cell_type": "markdown",
   "metadata": {},
   "source": [
    "Задание 6.4\n",
    "Велосипед с каким идентификатором является самым популярным?"
   ]
  },
  {
   "cell_type": "code",
   "execution_count": 106,
   "metadata": {},
   "outputs": [
    {
     "data": {
      "text/plain": [
       "0    33887\n",
       "Name: bikeid, dtype: int64"
      ]
     },
     "execution_count": 106,
     "metadata": {},
     "output_type": "execute_result"
    }
   ],
   "source": [
    "bike_df['bikeid'].mode()"
   ]
  },
  {
   "cell_type": "markdown",
   "metadata": {},
   "source": [
    "Задание 6.5\n",
    "Какой тип клиентов (столбец usertype) является преобладающим — Subscriber или Customer? В качестве ответа запишите долю клиентов преобладающего типа среди общего количества клиентов. Ответ округлите до сотых."
   ]
  },
  {
   "cell_type": "code",
   "execution_count": 109,
   "metadata": {},
   "outputs": [
    {
     "data": {
      "text/plain": [
       "Subscriber    0.77\n",
       "Customer      0.23\n",
       "Name: usertype, dtype: float64"
      ]
     },
     "metadata": {},
     "output_type": "display_data"
    }
   ],
   "source": [
    "display(round(bike_df['usertype'].value_counts(normalize=True), 2))"
   ]
  },
  {
   "cell_type": "markdown",
   "metadata": {},
   "source": [
    "Задание 6.6\n",
    "\n",
    "Кто больше занимается велоспортом — мужчины или женщины? В ответ запишите число поездок для той группы, у которой их больше."
   ]
  },
  {
   "cell_type": "code",
   "execution_count": 114,
   "metadata": {},
   "outputs": [
    {
     "data": {
      "text/plain": [
       "1    183582\n",
       "2     74506\n",
       "0     41912\n",
       "Name: gender, dtype: int64"
      ]
     },
     "execution_count": 114,
     "metadata": {},
     "output_type": "execute_result"
    }
   ],
   "source": [
    "bike_df['gender'].value_counts()"
   ]
  },
  {
   "cell_type": "markdown",
   "metadata": {},
   "source": [
    "Задание 6.7 \n",
    "Выберите утверждения,которые соответствуют нашим данным:\n",
    "A Число уникальных стартовых и конечных стоянок, которыми воспользовались клиенты, не равны друг другу\n",
    "B В рассматриваемые дни минимальный возраст клиента составлял 10 лет\n",
    "C Самой непопулярной стартовой стоянкой из тех, которыми воспользовались клиенты, является стоянка с названием \"Eastern Pkwy & Washington Ave\"\n",
    "D Наибольшее количество поездок завершается на стоянке под названием \"Liberty Light Rail\" "
   ]
  },
  {
   "cell_type": "code",
   "execution_count": 116,
   "metadata": {},
   "outputs": [
    {
     "data": {
      "text/plain": [
       "759"
      ]
     },
     "metadata": {},
     "output_type": "display_data"
    },
    {
     "data": {
      "text/plain": [
       "765"
      ]
     },
     "metadata": {},
     "output_type": "display_data"
    }
   ],
   "source": [
    "display(bike_df['start station id'].nunique())\n",
    "display(bike_df['end station id'].nunique())"
   ]
  },
  {
   "cell_type": "code",
   "execution_count": 127,
   "metadata": {},
   "outputs": [
    {
     "data": {
      "text/plain": [
       "2002"
      ]
     },
     "metadata": {},
     "output_type": "display_data"
    }
   ],
   "source": [
    "display(bike_df[bike_df['usertype'] == 'Customer']['birth year'].max())"
   ]
  },
  {
   "cell_type": "code",
   "execution_count": 122,
   "metadata": {},
   "outputs": [
    {
     "data": {
      "text/plain": [
       "Grand Army Plaza & Central Park S    1928\n",
       "Central Park S & 6 Ave               1909\n",
       "Pershing Square North                1873\n",
       "12 Ave & W 40 St                     1845\n",
       "West St & Chambers St                1835\n",
       "                                     ... \n",
       "NYCBS Depot - GOW                      15\n",
       "Franklin Ave & Empire Blvd             11\n",
       "Railroad Ave & Kay Ave                  9\n",
       "47 Ave & Skillman Ave                   7\n",
       "Eastern Pkwy & Washington Ave           6\n",
       "Name: start station name, Length: 759, dtype: int64"
      ]
     },
     "metadata": {},
     "output_type": "display_data"
    }
   ],
   "source": [
    "display(bike_df['start station name'].value_counts())"
   ]
  },
  {
   "cell_type": "code",
   "execution_count": 123,
   "metadata": {},
   "outputs": [
    {
     "data": {
      "text/plain": [
       "West St & Chambers St          1963\n",
       "12 Ave & W 40 St               1909\n",
       "Pershing Square North          1850\n",
       "Central Park S & 6 Ave         1828\n",
       "E 17 St & Broadway             1804\n",
       "                               ... \n",
       "Exchange Place                    3\n",
       "Union St                          1\n",
       "Warren St                         1\n",
       "Montrose Ave & Bushwick Ave       1\n",
       "Liberty Light Rail                1\n",
       "Name: end station name, Length: 765, dtype: int64"
      ]
     },
     "metadata": {},
     "output_type": "display_data"
    }
   ],
   "source": [
    "display(bike_df['end station name'].value_counts())"
   ]
  },
  {
   "cell_type": "markdown",
   "metadata": {},
   "source": [
    "Задание 6.8\n",
    "\n",
    "В первую очередь удалим лишнюю информацию из данных.\n",
    "\n",
    "В наших данных присутствуют столбцы, которые дублируют информацию друг о друге: это столбцы с идентификатором и названием стартовой и конечной стоянки. Удалите признаки идентификаторов стоянок. Сколько столбцов осталось?"
   ]
  },
  {
   "cell_type": "code",
   "execution_count": 129,
   "metadata": {},
   "outputs": [
    {
     "name": "stdout",
     "output_type": "stream",
     "text": [
      "<class 'pandas.core.frame.DataFrame'>\n",
      "RangeIndex: 300000 entries, 0 to 299999\n",
      "Data columns (total 12 columns):\n",
      " #   Column                   Non-Null Count   Dtype  \n",
      "---  ------                   --------------   -----  \n",
      " 0   starttime                300000 non-null  object \n",
      " 1   stoptime                 300000 non-null  object \n",
      " 2   start station name       299831 non-null  object \n",
      " 3   start station latitude   300000 non-null  float64\n",
      " 4   start station longitude  300000 non-null  float64\n",
      " 5   end station name         299831 non-null  object \n",
      " 6   end station latitude     300000 non-null  float64\n",
      " 7   end station longitude    300000 non-null  float64\n",
      " 8   bikeid                   300000 non-null  int64  \n",
      " 9   usertype                 300000 non-null  object \n",
      " 10  birth year               300000 non-null  int64  \n",
      " 11  gender                   300000 non-null  int64  \n",
      "dtypes: float64(4), int64(3), object(5)\n",
      "memory usage: 27.5+ MB\n"
     ]
    }
   ],
   "source": [
    "bike_df = bike_df.drop('start station id', axis=1)\n",
    "bike_df = bike_df.drop('end station id', axis=1)\n",
    "bike_df.info()"
   ]
  },
  {
   "cell_type": "markdown",
   "metadata": {},
   "source": [
    "Задание 6.9\n",
    "\n",
    "Замените признак birth year на более понятный признак возраста клиента age. Годом отсчёта возраста выберите 2018 год. Столбец birth year удалите из таблицы. Сколько поездок совершено клиентами старше 60 лет?"
   ]
  },
  {
   "cell_type": "code",
   "execution_count": 141,
   "metadata": {},
   "outputs": [
    {
     "data": {
      "text/html": [
       "<div>\n",
       "<style scoped>\n",
       "    .dataframe tbody tr th:only-of-type {\n",
       "        vertical-align: middle;\n",
       "    }\n",
       "\n",
       "    .dataframe tbody tr th {\n",
       "        vertical-align: top;\n",
       "    }\n",
       "\n",
       "    .dataframe thead th {\n",
       "        text-align: right;\n",
       "    }\n",
       "</style>\n",
       "<table border=\"1\" class=\"dataframe\">\n",
       "  <thead>\n",
       "    <tr style=\"text-align: right;\">\n",
       "      <th></th>\n",
       "      <th>start station latitude</th>\n",
       "      <th>start station longitude</th>\n",
       "      <th>end station latitude</th>\n",
       "      <th>end station longitude</th>\n",
       "      <th>bikeid</th>\n",
       "      <th>gender</th>\n",
       "      <th>age</th>\n",
       "    </tr>\n",
       "  </thead>\n",
       "  <tbody>\n",
       "    <tr>\n",
       "      <th>count</th>\n",
       "      <td>11837.000000</td>\n",
       "      <td>11837.000000</td>\n",
       "      <td>11837.000000</td>\n",
       "      <td>11837.000000</td>\n",
       "      <td>11837.000000</td>\n",
       "      <td>11837.000000</td>\n",
       "      <td>11837.000000</td>\n",
       "    </tr>\n",
       "    <tr>\n",
       "      <th>mean</th>\n",
       "      <td>40.742106</td>\n",
       "      <td>-73.984905</td>\n",
       "      <td>40.741704</td>\n",
       "      <td>-73.985144</td>\n",
       "      <td>26813.768522</td>\n",
       "      <td>1.230295</td>\n",
       "      <td>66.273634</td>\n",
       "    </tr>\n",
       "    <tr>\n",
       "      <th>std</th>\n",
       "      <td>0.029948</td>\n",
       "      <td>0.017302</td>\n",
       "      <td>0.029628</td>\n",
       "      <td>0.017452</td>\n",
       "      <td>6241.190248</td>\n",
       "      <td>0.438920</td>\n",
       "      <td>7.670990</td>\n",
       "    </tr>\n",
       "    <tr>\n",
       "      <th>min</th>\n",
       "      <td>40.655400</td>\n",
       "      <td>-74.025353</td>\n",
       "      <td>40.655400</td>\n",
       "      <td>-74.025353</td>\n",
       "      <td>14529.000000</td>\n",
       "      <td>0.000000</td>\n",
       "      <td>61.000000</td>\n",
       "    </tr>\n",
       "    <tr>\n",
       "      <th>25%</th>\n",
       "      <td>40.722104</td>\n",
       "      <td>-73.996674</td>\n",
       "      <td>40.722055</td>\n",
       "      <td>-73.997047</td>\n",
       "      <td>20743.000000</td>\n",
       "      <td>1.000000</td>\n",
       "      <td>62.000000</td>\n",
       "    </tr>\n",
       "    <tr>\n",
       "      <th>50%</th>\n",
       "      <td>40.740964</td>\n",
       "      <td>-73.987030</td>\n",
       "      <td>40.740259</td>\n",
       "      <td>-73.987216</td>\n",
       "      <td>28312.000000</td>\n",
       "      <td>1.000000</td>\n",
       "      <td>64.000000</td>\n",
       "    </tr>\n",
       "    <tr>\n",
       "      <th>75%</th>\n",
       "      <td>40.763441</td>\n",
       "      <td>-73.975748</td>\n",
       "      <td>40.762699</td>\n",
       "      <td>-73.976289</td>\n",
       "      <td>32300.000000</td>\n",
       "      <td>1.000000</td>\n",
       "      <td>68.000000</td>\n",
       "    </tr>\n",
       "    <tr>\n",
       "      <th>max</th>\n",
       "      <td>40.814394</td>\n",
       "      <td>-73.907744</td>\n",
       "      <td>40.814394</td>\n",
       "      <td>-73.907744</td>\n",
       "      <td>34863.000000</td>\n",
       "      <td>2.000000</td>\n",
       "      <td>133.000000</td>\n",
       "    </tr>\n",
       "  </tbody>\n",
       "</table>\n",
       "</div>"
      ],
      "text/plain": [
       "       start station latitude  start station longitude  end station latitude  \\\n",
       "count            11837.000000             11837.000000          11837.000000   \n",
       "mean                40.742106               -73.984905             40.741704   \n",
       "std                  0.029948                 0.017302              0.029628   \n",
       "min                 40.655400               -74.025353             40.655400   \n",
       "25%                 40.722104               -73.996674             40.722055   \n",
       "50%                 40.740964               -73.987030             40.740259   \n",
       "75%                 40.763441               -73.975748             40.762699   \n",
       "max                 40.814394               -73.907744             40.814394   \n",
       "\n",
       "       end station longitude        bikeid        gender           age  \n",
       "count           11837.000000  11837.000000  11837.000000  11837.000000  \n",
       "mean              -73.985144  26813.768522      1.230295     66.273634  \n",
       "std                 0.017452   6241.190248      0.438920      7.670990  \n",
       "min               -74.025353  14529.000000      0.000000     61.000000  \n",
       "25%               -73.997047  20743.000000      1.000000     62.000000  \n",
       "50%               -73.987216  28312.000000      1.000000     64.000000  \n",
       "75%               -73.976289  32300.000000      1.000000     68.000000  \n",
       "max               -73.907744  34863.000000      2.000000    133.000000  "
      ]
     },
     "execution_count": 141,
     "metadata": {},
     "output_type": "execute_result"
    }
   ],
   "source": [
    "bike_df[bike_df['age'] > 60].describe()"
   ]
  },
  {
   "cell_type": "markdown",
   "metadata": {},
   "source": [
    "Задание 6.10\n",
    "\n",
    "Создайте признак длительности поездки trip duration. Для этого вычислите интервал времени между временем окончания поездки (stoptime) и её началом (starttime). Сколько целых минут длилась поездка под индексом 3 в таблице?"
   ]
  },
  {
   "cell_type": "code",
   "execution_count": 150,
   "metadata": {},
   "outputs": [
    {
     "data": {
      "text/plain": [
       "Timedelta('0 days 00:07:16.837000')"
      ]
     },
     "metadata": {},
     "output_type": "display_data"
    }
   ],
   "source": [
    "bike_df['stoptime'] = pd.to_datetime(bike_df['stoptime'], dayfirst=True)\n",
    "bike_df['starttime'] = pd.to_datetime(bike_df['starttime'], dayfirst=True)\n",
    "time_delta = bike_df['stoptime'] - bike_df['starttime']\n",
    "display(time_delta[3])"
   ]
  },
  {
   "cell_type": "markdown",
   "metadata": {},
   "source": [
    "Задание 6.11\n",
    "\n",
    "Создайте «признак-мигалку» weekend, который равен 1, если поездка начиналась в выходной день (суббота или воскресенье), и 0 — в противном случае. Выясните, сколько поездок начиналось в выходные."
   ]
  },
  {
   "cell_type": "code",
   "execution_count": 164,
   "metadata": {},
   "outputs": [
    {
     "data": {
      "text/plain": [
       "0    184865\n",
       "1    115135\n",
       "Name: starttime, dtype: int64"
      ]
     },
     "metadata": {},
     "output_type": "display_data"
    }
   ],
   "source": [
    "weekday = bike_df['starttime'].dt.day_of_week\n",
    "weekend = weekday.apply(lambda x: 1 if x == 5 or x == 6 else 0)\n",
    "display(weekend.value_counts())\n"
   ]
  },
  {
   "cell_type": "markdown",
   "metadata": {},
   "source": [
    "Задание 6.12\n",
    "\n",
    "Создайте признак времени суток поездки time_of_day. Время суток будем определять из часа начала поездки. Условимся, что:\n",
    "\n",
    "    поездка совершается ночью (night), если её час приходится на интервал от 0 (включительно) до 6 (включительно) часов;\n",
    "    поездка совершается утром (morning), если её час приходится на интервал от 6 (не включительно) до 12 (включительно) часов;\n",
    "    поездка совершается днём (day), если её час приходится на интервал от 12 (не включительно) до 18 (включительно) часов;\n",
    "    поездка совершается вечером (evening), если её час приходится на интервал от 18 (не включительно) до 23 часов (включительно).\n",
    "\n",
    "Во сколько раз количество поездок, совершённых днём, больше, чем количество поездок, совёршенных ночью, за представленный в данных период времени? Ответ округлите до целых."
   ]
  },
  {
   "cell_type": "code",
   "execution_count": 188,
   "metadata": {},
   "outputs": [
    {
     "data": {
      "text/plain": [
       "day        143012\n",
       "morning     95530\n",
       "evening     46373\n",
       "night       15085\n",
       "Name: starttime, dtype: int64"
      ]
     },
     "metadata": {},
     "output_type": "display_data"
    },
    {
     "data": {
      "text/plain": [
       "9.0"
      ]
     },
     "execution_count": 188,
     "metadata": {},
     "output_type": "execute_result"
    }
   ],
   "source": [
    "hour_time = bike_df['starttime'].dt.hour\n",
    "\n",
    "def time_of_day(arg):\n",
    "    if 0 <= arg <= 6:\n",
    "        return 'night'\n",
    "    elif 6 < arg <= 12:\n",
    "        return 'morning'\n",
    "    elif 12 < arg <= 18:\n",
    "        return 'day'\n",
    "    elif 18 < arg <= 23:\n",
    "        return 'evening'\n",
    "\n",
    "day_time = hour_time.apply(time_of_day)\n",
    "display(day_time.value_counts())\n",
    "round(143012 / 15085, 0)"
   ]
  }
 ],
 "metadata": {
  "kernelspec": {
   "display_name": "Python 3.10.6 64-bit",
   "language": "python",
   "name": "python3"
  },
  "language_info": {
   "codemirror_mode": {
    "name": "ipython",
    "version": 3
   },
   "file_extension": ".py",
   "mimetype": "text/x-python",
   "name": "python",
   "nbconvert_exporter": "python",
   "pygments_lexer": "ipython3",
   "version": "3.10.6"
  },
  "orig_nbformat": 4,
  "vscode": {
   "interpreter": {
    "hash": "916dbcbb3f70747c44a77c7bcd40155683ae19c65e1c03b4aa3499c5328201f1"
   }
  }
 },
 "nbformat": 4,
 "nbformat_minor": 2
}
