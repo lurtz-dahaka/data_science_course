{
 "cells": [
  {
   "cell_type": "code",
   "execution_count": 49,
   "metadata": {},
   "outputs": [
    {
     "data": {
      "text/plain": [
       "<bound method NDFrame.head of        index         Suburb           Address  Rooms Type      Price Method  \\\n",
       "0          0     Abbotsford      85 Turner St      2    h  1480000.0      S   \n",
       "1          1     Abbotsford   25 Bloomburg St      2    h  1035000.0      S   \n",
       "2          2     Abbotsford      5 Charles St      3    h  1465000.0     SP   \n",
       "3          3     Abbotsford  40 Federation La      3    h   850000.0     PI   \n",
       "4          4     Abbotsford       55a Park St      4    h  1600000.0     VB   \n",
       "...      ...            ...               ...    ...  ...        ...    ...   \n",
       "13575  13575  Wheelers Hill      12 Strada Cr      4    h  1245000.0      S   \n",
       "13576  13576   Williamstown     77 Merrett Dr      3    h  1031000.0     SP   \n",
       "13577  13577   Williamstown       83 Power St      3    h  1170000.0      S   \n",
       "13578  13578   Williamstown      96 Verdon St      4    h  2500000.0     PI   \n",
       "13579  13579     Yarraville        6 Agnes St      4    h  1285000.0     SP   \n",
       "\n",
       "        SellerG        Date  Distance  ...  Car  Landsize  BuildingArea  \\\n",
       "0        Biggin   3/12/2016       2.5  ...    1     202.0         126.0   \n",
       "1        Biggin   4/02/2016       2.5  ...    0     156.0          79.0   \n",
       "2        Biggin   4/03/2017       2.5  ...    0     134.0         150.0   \n",
       "3        Biggin   4/03/2017       2.5  ...    1      94.0         126.0   \n",
       "4        Nelson   4/06/2016       2.5  ...    2     120.0         142.0   \n",
       "...         ...         ...       ...  ...  ...       ...           ...   \n",
       "13575     Barry  26/08/2017      16.7  ...    2     652.0         126.0   \n",
       "13576  Williams  26/08/2017       6.8  ...    2     333.0         133.0   \n",
       "13577     Raine  26/08/2017       6.8  ...    4     436.0         126.0   \n",
       "13578   Sweeney  26/08/2017       6.8  ...    5     866.0         157.0   \n",
       "13579   Village  26/08/2017       6.3  ...    1     362.0         112.0   \n",
       "\n",
       "       YearBuilt  CouncilArea  Lattitude  Longtitude  \\\n",
       "0           1970        Yarra  -37.79960   144.99840   \n",
       "1           1900        Yarra  -37.80790   144.99340   \n",
       "2           1900        Yarra  -37.80930   144.99440   \n",
       "3           1970        Yarra  -37.79690   144.99690   \n",
       "4           2014        Yarra  -37.80720   144.99410   \n",
       "...          ...          ...        ...         ...   \n",
       "13575       1981          NaN  -37.90562   145.16761   \n",
       "13576       1995          NaN  -37.85927   144.87904   \n",
       "13577       1997          NaN  -37.85274   144.88738   \n",
       "13578       1920          NaN  -37.85908   144.89299   \n",
       "13579       1920          NaN  -37.81188   144.88449   \n",
       "\n",
       "                       Regionname  Propertycount           Coordinates  \n",
       "0           Northern Metropolitan           4019    -37.7996, 144.9984  \n",
       "1           Northern Metropolitan           4019    -37.8079, 144.9934  \n",
       "2           Northern Metropolitan           4019    -37.8093, 144.9944  \n",
       "3           Northern Metropolitan           4019    -37.7969, 144.9969  \n",
       "4           Northern Metropolitan           4019    -37.8072, 144.9941  \n",
       "...                           ...            ...                   ...  \n",
       "13575  South-Eastern Metropolitan           7392  -37.90562, 145.16761  \n",
       "13576        Western Metropolitan           6380  -37.85927, 144.87904  \n",
       "13577        Western Metropolitan           6380  -37.85274, 144.88738  \n",
       "13578        Western Metropolitan           6380  -37.85908, 144.89299  \n",
       "13579        Western Metropolitan           6543  -37.81188, 144.88449  \n",
       "\n",
       "[13580 rows x 23 columns]>"
      ]
     },
     "execution_count": 49,
     "metadata": {},
     "output_type": "execute_result"
    }
   ],
   "source": [
    "import pandas as pd\n",
    "\n",
    "melb_data = pd.read_csv('data/melb_data_ps.csv', sep=',')\n",
    "melb_data.head"
   ]
  },
  {
   "cell_type": "markdown",
   "metadata": {},
   "source": [
    "На протяжении всего модуля мы будем производить множество тренировочных преобразований с нашей таблицей. Поэтому, чтобы не переопределять переменную melb_data и тем самым не повредить первоначальный DataFrame, создадим копию melb_df с помощью метода copy():"
   ]
  },
  {
   "cell_type": "code",
   "execution_count": 50,
   "metadata": {},
   "outputs": [
    {
     "name": "stdout",
     "output_type": "stream",
     "text": [
      "<class 'pandas.core.frame.DataFrame'>\n",
      "RangeIndex: 13580 entries, 0 to 13579\n",
      "Data columns (total 23 columns):\n",
      " #   Column         Non-Null Count  Dtype  \n",
      "---  ------         --------------  -----  \n",
      " 0   index          13580 non-null  int64  \n",
      " 1   Suburb         13580 non-null  object \n",
      " 2   Address        13580 non-null  object \n",
      " 3   Rooms          13580 non-null  int64  \n",
      " 4   Type           13580 non-null  object \n",
      " 5   Price          13580 non-null  float64\n",
      " 6   Method         13580 non-null  object \n",
      " 7   SellerG        13580 non-null  object \n",
      " 8   Date           13580 non-null  object \n",
      " 9   Distance       13580 non-null  float64\n",
      " 10  Postcode       13580 non-null  int64  \n",
      " 11  Bedroom        13580 non-null  int64  \n",
      " 12  Bathroom       13580 non-null  int64  \n",
      " 13  Car            13580 non-null  int64  \n",
      " 14  Landsize       13580 non-null  float64\n",
      " 15  BuildingArea   13580 non-null  float64\n",
      " 16  YearBuilt      13580 non-null  int64  \n",
      " 17  CouncilArea    12211 non-null  object \n",
      " 18  Lattitude      13580 non-null  float64\n",
      " 19  Longtitude     13580 non-null  float64\n",
      " 20  Regionname     13580 non-null  object \n",
      " 21  Propertycount  13580 non-null  int64  \n",
      " 22  Coordinates    13580 non-null  object \n",
      "dtypes: float64(6), int64(8), object(9)\n",
      "memory usage: 2.4+ MB\n"
     ]
    }
   ],
   "source": [
    "melb_df = melb_data.copy()\n",
    "melb_df.info()"
   ]
  },
  {
   "cell_type": "markdown",
   "metadata": {},
   "source": [
    "Удалим столбцы index и Coordinates из таблицы с помощью метода drop(). Выведем первые пять строк таблицы и убедимся, что всё прошло успешно."
   ]
  },
  {
   "cell_type": "code",
   "execution_count": 51,
   "metadata": {},
   "outputs": [
    {
     "data": {
      "text/html": [
       "<div>\n",
       "<style scoped>\n",
       "    .dataframe tbody tr th:only-of-type {\n",
       "        vertical-align: middle;\n",
       "    }\n",
       "\n",
       "    .dataframe tbody tr th {\n",
       "        vertical-align: top;\n",
       "    }\n",
       "\n",
       "    .dataframe thead th {\n",
       "        text-align: right;\n",
       "    }\n",
       "</style>\n",
       "<table border=\"1\" class=\"dataframe\">\n",
       "  <thead>\n",
       "    <tr style=\"text-align: right;\">\n",
       "      <th></th>\n",
       "      <th>Suburb</th>\n",
       "      <th>Address</th>\n",
       "      <th>Rooms</th>\n",
       "      <th>Type</th>\n",
       "      <th>Price</th>\n",
       "      <th>Method</th>\n",
       "      <th>SellerG</th>\n",
       "      <th>Date</th>\n",
       "      <th>Distance</th>\n",
       "      <th>Postcode</th>\n",
       "      <th>...</th>\n",
       "      <th>Bathroom</th>\n",
       "      <th>Car</th>\n",
       "      <th>Landsize</th>\n",
       "      <th>BuildingArea</th>\n",
       "      <th>YearBuilt</th>\n",
       "      <th>CouncilArea</th>\n",
       "      <th>Lattitude</th>\n",
       "      <th>Longtitude</th>\n",
       "      <th>Regionname</th>\n",
       "      <th>Propertycount</th>\n",
       "    </tr>\n",
       "  </thead>\n",
       "  <tbody>\n",
       "    <tr>\n",
       "      <th>0</th>\n",
       "      <td>Abbotsford</td>\n",
       "      <td>85 Turner St</td>\n",
       "      <td>2</td>\n",
       "      <td>h</td>\n",
       "      <td>1480000.0</td>\n",
       "      <td>S</td>\n",
       "      <td>Biggin</td>\n",
       "      <td>3/12/2016</td>\n",
       "      <td>2.5</td>\n",
       "      <td>3067</td>\n",
       "      <td>...</td>\n",
       "      <td>1</td>\n",
       "      <td>1</td>\n",
       "      <td>202.0</td>\n",
       "      <td>126.0</td>\n",
       "      <td>1970</td>\n",
       "      <td>Yarra</td>\n",
       "      <td>-37.7996</td>\n",
       "      <td>144.9984</td>\n",
       "      <td>Northern Metropolitan</td>\n",
       "      <td>4019</td>\n",
       "    </tr>\n",
       "    <tr>\n",
       "      <th>1</th>\n",
       "      <td>Abbotsford</td>\n",
       "      <td>25 Bloomburg St</td>\n",
       "      <td>2</td>\n",
       "      <td>h</td>\n",
       "      <td>1035000.0</td>\n",
       "      <td>S</td>\n",
       "      <td>Biggin</td>\n",
       "      <td>4/02/2016</td>\n",
       "      <td>2.5</td>\n",
       "      <td>3067</td>\n",
       "      <td>...</td>\n",
       "      <td>1</td>\n",
       "      <td>0</td>\n",
       "      <td>156.0</td>\n",
       "      <td>79.0</td>\n",
       "      <td>1900</td>\n",
       "      <td>Yarra</td>\n",
       "      <td>-37.8079</td>\n",
       "      <td>144.9934</td>\n",
       "      <td>Northern Metropolitan</td>\n",
       "      <td>4019</td>\n",
       "    </tr>\n",
       "    <tr>\n",
       "      <th>2</th>\n",
       "      <td>Abbotsford</td>\n",
       "      <td>5 Charles St</td>\n",
       "      <td>3</td>\n",
       "      <td>h</td>\n",
       "      <td>1465000.0</td>\n",
       "      <td>SP</td>\n",
       "      <td>Biggin</td>\n",
       "      <td>4/03/2017</td>\n",
       "      <td>2.5</td>\n",
       "      <td>3067</td>\n",
       "      <td>...</td>\n",
       "      <td>2</td>\n",
       "      <td>0</td>\n",
       "      <td>134.0</td>\n",
       "      <td>150.0</td>\n",
       "      <td>1900</td>\n",
       "      <td>Yarra</td>\n",
       "      <td>-37.8093</td>\n",
       "      <td>144.9944</td>\n",
       "      <td>Northern Metropolitan</td>\n",
       "      <td>4019</td>\n",
       "    </tr>\n",
       "    <tr>\n",
       "      <th>3</th>\n",
       "      <td>Abbotsford</td>\n",
       "      <td>40 Federation La</td>\n",
       "      <td>3</td>\n",
       "      <td>h</td>\n",
       "      <td>850000.0</td>\n",
       "      <td>PI</td>\n",
       "      <td>Biggin</td>\n",
       "      <td>4/03/2017</td>\n",
       "      <td>2.5</td>\n",
       "      <td>3067</td>\n",
       "      <td>...</td>\n",
       "      <td>2</td>\n",
       "      <td>1</td>\n",
       "      <td>94.0</td>\n",
       "      <td>126.0</td>\n",
       "      <td>1970</td>\n",
       "      <td>Yarra</td>\n",
       "      <td>-37.7969</td>\n",
       "      <td>144.9969</td>\n",
       "      <td>Northern Metropolitan</td>\n",
       "      <td>4019</td>\n",
       "    </tr>\n",
       "    <tr>\n",
       "      <th>4</th>\n",
       "      <td>Abbotsford</td>\n",
       "      <td>55a Park St</td>\n",
       "      <td>4</td>\n",
       "      <td>h</td>\n",
       "      <td>1600000.0</td>\n",
       "      <td>VB</td>\n",
       "      <td>Nelson</td>\n",
       "      <td>4/06/2016</td>\n",
       "      <td>2.5</td>\n",
       "      <td>3067</td>\n",
       "      <td>...</td>\n",
       "      <td>1</td>\n",
       "      <td>2</td>\n",
       "      <td>120.0</td>\n",
       "      <td>142.0</td>\n",
       "      <td>2014</td>\n",
       "      <td>Yarra</td>\n",
       "      <td>-37.8072</td>\n",
       "      <td>144.9941</td>\n",
       "      <td>Northern Metropolitan</td>\n",
       "      <td>4019</td>\n",
       "    </tr>\n",
       "  </tbody>\n",
       "</table>\n",
       "<p>5 rows × 21 columns</p>\n",
       "</div>"
      ],
      "text/plain": [
       "       Suburb           Address  Rooms Type      Price Method SellerG  \\\n",
       "0  Abbotsford      85 Turner St      2    h  1480000.0      S  Biggin   \n",
       "1  Abbotsford   25 Bloomburg St      2    h  1035000.0      S  Biggin   \n",
       "2  Abbotsford      5 Charles St      3    h  1465000.0     SP  Biggin   \n",
       "3  Abbotsford  40 Federation La      3    h   850000.0     PI  Biggin   \n",
       "4  Abbotsford       55a Park St      4    h  1600000.0     VB  Nelson   \n",
       "\n",
       "        Date  Distance  Postcode  ...  Bathroom  Car  Landsize  BuildingArea  \\\n",
       "0  3/12/2016       2.5      3067  ...         1    1     202.0         126.0   \n",
       "1  4/02/2016       2.5      3067  ...         1    0     156.0          79.0   \n",
       "2  4/03/2017       2.5      3067  ...         2    0     134.0         150.0   \n",
       "3  4/03/2017       2.5      3067  ...         2    1      94.0         126.0   \n",
       "4  4/06/2016       2.5      3067  ...         1    2     120.0         142.0   \n",
       "\n",
       "   YearBuilt  CouncilArea Lattitude  Longtitude             Regionname  \\\n",
       "0       1970        Yarra  -37.7996    144.9984  Northern Metropolitan   \n",
       "1       1900        Yarra  -37.8079    144.9934  Northern Metropolitan   \n",
       "2       1900        Yarra  -37.8093    144.9944  Northern Metropolitan   \n",
       "3       1970        Yarra  -37.7969    144.9969  Northern Metropolitan   \n",
       "4       2014        Yarra  -37.8072    144.9941  Northern Metropolitan   \n",
       "\n",
       "  Propertycount  \n",
       "0          4019  \n",
       "1          4019  \n",
       "2          4019  \n",
       "3          4019  \n",
       "4          4019  \n",
       "\n",
       "[5 rows x 21 columns]"
      ]
     },
     "execution_count": 51,
     "metadata": {},
     "output_type": "execute_result"
    }
   ],
   "source": [
    "melb_df = melb_df.drop(['index', 'Coordinates'], axis=1)\n",
    "melb_df.head()"
   ]
  },
  {
   "cell_type": "markdown",
   "metadata": {},
   "source": [
    "Pandas поддерживает базовые математические операции между столбцами: столбцы можно складывать, вычитать, умножать, делить между собой, а также возводить в степень. С помощью таких операций мы можем создавать новые признаки или производить преобразования над старыми.\n",
    "\n",
    "Причём все операции со столбцами совершаются поэлементно, очень быстро, а самое главное — без написания циклов.\n",
    "\n",
    "Такая производительность достигается за счёт того, что все математические операции со столбцами выполняются на языке программирования С, что значительно повышает скорость вычислений по сравнению с перебором элементов в цикле. \n",
    "\n",
    "Например, давайте создадим переменную total_rooms, в которой будем хранить общее количество комнат в здании. Для этого выполним сложение столбцов с количеством комнат, ванн и спален:"
   ]
  },
  {
   "cell_type": "code",
   "execution_count": 52,
   "metadata": {},
   "outputs": [
    {
     "data": {
      "text/plain": [
       "0         5\n",
       "1         5\n",
       "2         8\n",
       "3         8\n",
       "4         8\n",
       "         ..\n",
       "13575    10\n",
       "13576     8\n",
       "13577     8\n",
       "13578     9\n",
       "13579     9\n",
       "Length: 13580, dtype: int64"
      ]
     },
     "metadata": {},
     "output_type": "display_data"
    }
   ],
   "source": [
    "total_rooms = melb_df['Rooms'] + melb_df['Bedroom'] + melb_df['Bathroom']\n",
    "display(total_rooms)"
   ]
  },
  {
   "cell_type": "markdown",
   "metadata": {},
   "source": [
    "А теперь введём признак MeanRoomsSquare, который соответствует средней площади одной комнаты для каждого объекта. Для этого разделим площадь здания на полученное ранее общее количество комнат:"
   ]
  },
  {
   "cell_type": "code",
   "execution_count": 53,
   "metadata": {},
   "outputs": [
    {
     "data": {
      "text/plain": [
       "0        25.200000\n",
       "1        15.800000\n",
       "2        18.750000\n",
       "3        15.750000\n",
       "4        17.750000\n",
       "           ...    \n",
       "13575    12.600000\n",
       "13576    16.625000\n",
       "13577    15.750000\n",
       "13578    17.444444\n",
       "13579    12.444444\n",
       "Name: MeanRoomsSquare, Length: 13580, dtype: float64"
      ]
     },
     "metadata": {},
     "output_type": "display_data"
    }
   ],
   "source": [
    "melb_df['MeanRoomsSquare'] = melb_df['BuildingArea'] / total_rooms\n",
    "display(melb_df['MeanRoomsSquare'])"
   ]
  },
  {
   "cell_type": "markdown",
   "metadata": {},
   "source": [
    "Можно ввести ещё один интересный признак — AreaRatio, коэффициент соотношения площади здания (BuildingArea) и площади участка (Landsize). Для этого разницу двух площадей поделим на их сумму:"
   ]
  },
  {
   "cell_type": "code",
   "execution_count": 54,
   "metadata": {},
   "outputs": [
    {
     "data": {
      "text/plain": [
       "0       -0.231707\n",
       "1       -0.327660\n",
       "2        0.056338\n",
       "3        0.145455\n",
       "4        0.083969\n",
       "           ...   \n",
       "13575   -0.676093\n",
       "13576   -0.429185\n",
       "13577   -0.551601\n",
       "13578   -0.693060\n",
       "13579   -0.527426\n",
       "Name: AreaRatio, Length: 13580, dtype: float64"
      ]
     },
     "metadata": {},
     "output_type": "display_data"
    }
   ],
   "source": [
    "diff_area = melb_df['BuildingArea'] - melb_df['Landsize']\n",
    "sum_area = melb_df['BuildingArea'] + melb_df['Landsize']\n",
    "melb_df['AreaRatio'] = diff_area/sum_area\n",
    "display(melb_df['AreaRatio'])"
   ]
  },
  {
   "cell_type": "markdown",
   "metadata": {},
   "source": [
    "В наших данных дата записана в виде DD/MM/YYYY, например 3/12/2017. Посмотрим на это:"
   ]
  },
  {
   "cell_type": "code",
   "execution_count": 55,
   "metadata": {},
   "outputs": [
    {
     "data": {
      "text/plain": [
       "0         3/12/2016\n",
       "1         4/02/2016\n",
       "2         4/03/2017\n",
       "3         4/03/2017\n",
       "4         4/06/2016\n",
       "            ...    \n",
       "13575    26/08/2017\n",
       "13576    26/08/2017\n",
       "13577    26/08/2017\n",
       "13578    26/08/2017\n",
       "13579    26/08/2017\n",
       "Name: Date, Length: 13580, dtype: object"
      ]
     },
     "metadata": {},
     "output_type": "display_data"
    }
   ],
   "source": [
    "display(melb_df['Date'])"
   ]
  },
  {
   "cell_type": "markdown",
   "metadata": {},
   "source": [
    "Для того чтобы преобразовывать столбцы с датами, записанными в распространённых форматах, в формат datetime, можно воспользоваться функцией pandas.to_datetime(). В нашем случае в функции нужно указать параметр dayfirst=True, который будет обозначать, что в первоначальном признаке первым идет день. Преобразуем столбец Date в формат datetime, передав его в эту функцию:"
   ]
  },
  {
   "cell_type": "code",
   "execution_count": 56,
   "metadata": {},
   "outputs": [
    {
     "data": {
      "text/plain": [
       "0       2016-12-03\n",
       "1       2016-02-04\n",
       "2       2017-03-04\n",
       "3       2017-03-04\n",
       "4       2016-06-04\n",
       "           ...    \n",
       "13575   2017-08-26\n",
       "13576   2017-08-26\n",
       "13577   2017-08-26\n",
       "13578   2017-08-26\n",
       "13579   2017-08-26\n",
       "Name: Date, Length: 13580, dtype: datetime64[ns]"
      ]
     },
     "metadata": {},
     "output_type": "display_data"
    }
   ],
   "source": [
    "melb_df['Date'] = pd.to_datetime(melb_df['Date'], dayfirst=True)\n",
    "display(melb_df['Date'])"
   ]
  },
  {
   "cell_type": "markdown",
   "metadata": {},
   "source": [
    "Например, обратившись по атрибуту dt.year в столбце Date, мы можем «достать» год продажи и понять, за какой интервал времени (в годах) представлены наши данные, а также на какой год приходится наибольшее число продаж:"
   ]
  },
  {
   "cell_type": "code",
   "execution_count": 57,
   "metadata": {},
   "outputs": [
    {
     "name": "stdout",
     "output_type": "stream",
     "text": [
      "0        2016\n",
      "1        2016\n",
      "2        2017\n",
      "3        2017\n",
      "4        2016\n",
      "         ... \n",
      "13575    2017\n",
      "13576    2017\n",
      "13577    2017\n",
      "13578    2017\n",
      "13579    2017\n",
      "Name: Date, Length: 13580, dtype: int64\n",
      "Min year sold: 2016\n",
      "Max year sold: 2017\n",
      "Mode year sold: 2017\n"
     ]
    }
   ],
   "source": [
    "years_sold = melb_df['Date'].dt.year\n",
    "print(years_sold)\n",
    "print('Min year sold:', years_sold.min())\n",
    "print('Max year sold:', years_sold.max())\n",
    "print('Mode year sold:', years_sold.mode()[0])"
   ]
  },
  {
   "cell_type": "markdown",
   "metadata": {},
   "source": [
    "Теперь попробуем понять, на какие месяцы приходится пик продаж объектов недвижимости. Для этого выделим атрибут dt.month и на этот раз занесём результат в столбец MonthSale, а затем найдём относительную частоту продаж для каждого месяца от общего количества продаж — для этого используем метод value_counts() с параметром normalize (вывод в долях):\n",
    "\n",
    "Из результатов становится ясно, что наибольшее количество продаж недвижимости приходится на май, июль и сентябрь (пятый, седьмой и девятый месяцы соответственно). Месяцами застоя при этом являются месяцы — октябрь, февраль и январь (десятый, второй и первый месяцы соответственно)."
   ]
  },
  {
   "cell_type": "code",
   "execution_count": 58,
   "metadata": {},
   "outputs": [
    {
     "data": {
      "text/plain": [
       "5     0.149411\n",
       "7     0.145950\n",
       "9     0.135862\n",
       "6     0.134757\n",
       "8     0.114138\n",
       "11    0.082032\n",
       "4     0.069882\n",
       "3     0.049926\n",
       "12    0.044698\n",
       "10    0.040574\n",
       "2     0.032622\n",
       "1     0.000147\n",
       "Name: MonthSale, dtype: float64"
      ]
     },
     "execution_count": 58,
     "metadata": {},
     "output_type": "execute_result"
    }
   ],
   "source": [
    "melb_df['MonthSale'] = melb_df['Date'].dt.month\n",
    "melb_df['MonthSale'].value_counts(normalize=True)"
   ]
  },
  {
   "cell_type": "markdown",
   "metadata": {},
   "source": [
    "Часто бывает такая ситуация, что необходимо вычислять интервалы между двумя временными промежутками. Например, можно вычислить, сколько дней прошло с 1 января 2016 года до момента продажи объекта. Для этого можно просто найти разницу между датами продаж и заявленной датой, представленной в формате datetime:"
   ]
  },
  {
   "cell_type": "code",
   "execution_count": 59,
   "metadata": {},
   "outputs": [
    {
     "data": {
      "text/plain": [
       "0       337 days\n",
       "1        34 days\n",
       "2       428 days\n",
       "3       428 days\n",
       "4       155 days\n",
       "          ...   \n",
       "13575   603 days\n",
       "13576   603 days\n",
       "13577   603 days\n",
       "13578   603 days\n",
       "13579   603 days\n",
       "Name: Date, Length: 13580, dtype: timedelta64[ns]"
      ]
     },
     "metadata": {},
     "output_type": "display_data"
    }
   ],
   "source": [
    "delta_days = melb_df['Date'] - pd.to_datetime('2016-01-01')\n",
    "display(delta_days)"
   ]
  },
  {
   "cell_type": "markdown",
   "metadata": {},
   "source": [
    "В результате мы получаем Series, элементами которой является количество дней, которое прошло с 1 января 2016 года. Обратите внимание, что данные такого формата относятся к типу timedelta.\n",
    "\n",
    "Чтобы превратить количество дней из формата интервала в формат целого числа дней, можно воспользоваться аксессором dt для формата timedelta и извлечь из него атрибут days:"
   ]
  },
  {
   "cell_type": "code",
   "execution_count": 60,
   "metadata": {},
   "outputs": [
    {
     "data": {
      "text/plain": [
       "0        337\n",
       "1         34\n",
       "2        428\n",
       "3        428\n",
       "4        155\n",
       "        ... \n",
       "13575    603\n",
       "13576    603\n",
       "13577    603\n",
       "13578    603\n",
       "13579    603\n",
       "Name: Date, Length: 13580, dtype: int64"
      ]
     },
     "metadata": {},
     "output_type": "display_data"
    }
   ],
   "source": [
    "display(delta_days.dt.days)"
   ]
  },
  {
   "cell_type": "markdown",
   "metadata": {},
   "source": [
    "Рассмотрим другой пример. Давайте создадим признак возраста объекта недвижимости в годах на момент продажи. Для этого выделим из столбца с датой продажи год и вычтем из него год постройки здания. Результат оформим в виде столбца AgeBuilding:"
   ]
  },
  {
   "cell_type": "code",
   "execution_count": 61,
   "metadata": {},
   "outputs": [
    {
     "data": {
      "text/plain": [
       "0         46\n",
       "1        116\n",
       "2        117\n",
       "3         47\n",
       "4          2\n",
       "        ... \n",
       "13575     36\n",
       "13576     22\n",
       "13577     20\n",
       "13578     97\n",
       "13579     97\n",
       "Name: AgeBuilding, Length: 13580, dtype: int64"
      ]
     },
     "metadata": {},
     "output_type": "display_data"
    }
   ],
   "source": [
    "melb_df['AgeBuilding'] = melb_df['Date'].dt.year - melb_df['YearBuilt']\n",
    "display(melb_df['AgeBuilding'])"
   ]
  },
  {
   "cell_type": "markdown",
   "metadata": {},
   "source": [
    "На самом деле столбец AgeBuilding дублирует информацию столбца YearBuilt, так как, зная год постройки здания, мы автоматически знаем его возраст. Такие признаки не стоит оставлять вместе, поэтому оставим возраст здания, так как он является более наглядным, а год постройки удалим из таблицы:"
   ]
  },
  {
   "cell_type": "code",
   "execution_count": 62,
   "metadata": {},
   "outputs": [],
   "source": [
    "melb_df = melb_df.drop('YearBuilt', axis=1)"
   ]
  },
  {
   "cell_type": "markdown",
   "metadata": {},
   "source": [
    "Создайте в таблице melb_df признак WeekdaySale (день недели). Найдите, сколько объектов недвижимости было продано в выходные (суббота и воскресенье), результат занесите в переменную weekend_count. В качестве ответа введите результат вывода переменной weekend_count."
   ]
  },
  {
   "cell_type": "code",
   "execution_count": 63,
   "metadata": {},
   "outputs": [
    {
     "data": {
      "text/plain": [
       "12822"
      ]
     },
     "metadata": {},
     "output_type": "display_data"
    }
   ],
   "source": [
    "day_of_sale = melb_df['Date'].dt.dayofweek\n",
    "weekend_count = day_of_sale.value_counts().loc[5] + day_of_sale.value_counts().loc[6]\n",
    "display(weekend_count)"
   ]
  },
  {
   "cell_type": "markdown",
   "metadata": {},
   "source": [
    "Библиотека Pandas предоставляет большое количество возможностей для преобразований данных, однако иногда необходимо совершать более сложные манипуляции над столбцами. Например, из столбцов, содержащих в себе некоторый текст, необходимо специальным образом извлечь определённые слова, даты или числа.\n",
    "\n",
    "→ Для таких случаев Pandas не имеет специальных методов, однако позволяет расширить свою функциональность за счёт использования пользовательских функций. \n",
    "\n",
    "Мы можем написать некоторую функцию, которая принимает на вход один элемент столбца, каким-то образом его обрабатывает и возвращает результат, после чего применить эту функцию к каждому элементу в столбце с помощью специального метода apply(). В результате применения этой функции будет возвращён объект Series, элементы которого будут представлять результат работы этой функции.\n",
    "\n",
    "Рассмотрим пример. В наших данных есть столбец с адресами объектов недвижимости. Проблема этого столбца в том, что в нём слишком большое количество уникальных значений: почти на каждый объект недвижимости в таблице приходится свой уникальный адрес. Убедимся в этом, вычислив количество уникальных значений в столбце с помощью метода nunique():"
   ]
  },
  {
   "cell_type": "code",
   "execution_count": 64,
   "metadata": {},
   "outputs": [
    {
     "name": "stdout",
     "output_type": "stream",
     "text": [
      "13378\n"
     ]
    }
   ],
   "source": [
    "print(melb_df['Address'].nunique())"
   ]
  },
  {
   "cell_type": "markdown",
   "metadata": {},
   "source": [
    "Если мы прогнозируем цену объекта, то такое большое количество возможных категорий может плохо сказаться на модели, которую мы бы хотели в дальнейшем построить на наших данных. Говорят, что такой признак, скорее всего, не имеет статистической значимости, потому что не позволяет разделить данные на группы, которые можно сравнить по целевому признаку.\n",
    "\n",
    "Из-за таких признаков зависимость между целевым признаком, который мы хотим предсказать, и признаками, на основе которых мы делаем предсказание, становится очень сложной. При этом точность моделирования при учёте такого признака может не повыситься, а даже снизиться, а производительность однозначно резко упадёт.\n",
    "\n",
    "Обычно подобные признаки удаляют, однако можно поступить умнее: давайте извлечём из признака адреса характеристику подтипа улицы (улица, шоссе, авеню, бульвар). Для этого сначала внимательнее посмотрим на структуру адреса, выберем несколько строк столбца Address:"
   ]
  },
  {
   "cell_type": "code",
   "execution_count": 65,
   "metadata": {},
   "outputs": [
    {
     "name": "stdout",
     "output_type": "stream",
     "text": [
      "2/119 Railway St N\n",
      "9/400 Dandenong Rd\n",
      "172 Danks St\n"
     ]
    }
   ],
   "source": [
    "print(melb_df['Address'].loc[177])\n",
    "print(melb_df['Address'].loc[1812])\n",
    "print(melb_df['Address'].loc[9001])"
   ]
  },
  {
   "cell_type": "markdown",
   "metadata": {},
   "source": [
    "Итак, адрес строится следующим образом: сначала указывается номер дома и корпус, после указывается название улицы, а в конце — подтип улицы, но в некоторых случаях к подтипу добавляется географическая отметка (N — север, S — юг и т. д.), она нам не нужна . Для того чтобы выделить подтип улицы, на которой находится объект, можно использовать следующую функцию:"
   ]
  },
  {
   "cell_type": "code",
   "execution_count": 66,
   "metadata": {},
   "outputs": [],
   "source": [
    "# На вход данной функции поступает строка с адресом.\n",
    "def get_street_type(address):\n",
    "# Создаём список географических пометок exclude_list.\n",
    "    exclude_list = ['N', 'S', 'W', 'E']\n",
    "# Метод split() разбивает строку на слова по пробелу.\n",
    "# В результате получаем список слов в строке и заносим его в переменную address_list.\n",
    "    address_list = address.split(' ')\n",
    "# Обрезаем список, оставляя в нём только последний элемент,\n",
    "# потенциальный подтип улицы, и заносим в переменную street_type.\n",
    "    street_type = address_list[-1]\n",
    "# Делаем проверку на то, что полученный подтип является географической пометкой.\n",
    "# Для этого проверяем его на наличие в списке exclude_list.\n",
    "    if street_type in exclude_list:\n",
    "# Если переменная street_type является географической пометкой,\n",
    "# переопределяем её на второй элемент с конца списка address_list.\n",
    "        street_type = address_list[-2]\n",
    "# Возвращаем переменную street_type, в которой хранится подтип улицы.\n",
    "    return street_type\n"
   ]
  },
  {
   "cell_type": "markdown",
   "metadata": {},
   "source": [
    "Теперь применим эту функцию к столбцу c адресом. Для этого передадим функцию get_street_type в аргумент метода столбца apply(). В результате получим объект Series, который положим в переменную street_types:"
   ]
  },
  {
   "cell_type": "code",
   "execution_count": 67,
   "metadata": {},
   "outputs": [
    {
     "data": {
      "text/plain": [
       "0        St\n",
       "1        St\n",
       "2        St\n",
       "3        La\n",
       "4        St\n",
       "         ..\n",
       "13575    Cr\n",
       "13576    Dr\n",
       "13577    St\n",
       "13578    St\n",
       "13579    St\n",
       "Name: Address, Length: 13580, dtype: object"
      ]
     },
     "metadata": {},
     "output_type": "display_data"
    }
   ],
   "source": [
    "street_types = melb_df['Address'].apply(get_street_type)\n",
    "display(street_types)"
   ]
  },
  {
   "cell_type": "markdown",
   "metadata": {},
   "source": [
    "Обратите внимание, что функция пишется для одного элемента столбца, а метод apply() применяется к каждому его элементу. Используемая функция обязательно должна иметь возвращаемое значение.\n",
    "\n",
    "Итак, мы смогли выделить подтип улицы. Посмотрим, сколько уникальных значений у нас получилось:"
   ]
  },
  {
   "cell_type": "code",
   "execution_count": 68,
   "metadata": {},
   "outputs": [
    {
     "name": "stdout",
     "output_type": "stream",
     "text": [
      "56\n"
     ]
    }
   ],
   "source": [
    "print(street_types.nunique())"
   ]
  },
  {
   "cell_type": "markdown",
   "metadata": {},
   "source": [
    "У нас есть 56 уникальных значений. Однако наш результат можно улучшить. Давайте для начала посмотрим на частоту каждого подтипа улицы с помощью метода value_counts:"
   ]
  },
  {
   "cell_type": "code",
   "execution_count": 69,
   "metadata": {},
   "outputs": [
    {
     "data": {
      "text/plain": [
       "St           8012\n",
       "Rd           2825\n",
       "Ct            612\n",
       "Dr            447\n",
       "Av            321\n",
       "Gr            311\n",
       "Pde           211\n",
       "Pl            169\n",
       "Cr            152\n",
       "Cl            100\n",
       "La             67\n",
       "Bvd            53\n",
       "Tce            47\n",
       "Wy             40\n",
       "Avenue         40\n",
       "Cct            25\n",
       "Hwy            24\n",
       "Parade         15\n",
       "Boulevard      13\n",
       "Sq             11\n",
       "Crescent        9\n",
       "Cir             7\n",
       "Strand          7\n",
       "Esplanade       6\n",
       "Grove           5\n",
       "Gdns            4\n",
       "Grn             4\n",
       "Fairway         4\n",
       "Mews            4\n",
       "Crossway        3\n",
       "Righi           3\n",
       "Victoria        2\n",
       "Ridge           2\n",
       "Crofts          2\n",
       "Esp             2\n",
       "Glade           1\n",
       "Gra             1\n",
       "Ave             1\n",
       "Woodland        1\n",
       "Outlook         1\n",
       "Hts             1\n",
       "Highway         1\n",
       "Athol           1\n",
       "Summit          1\n",
       "Grand           1\n",
       "Res             1\n",
       "Nook            1\n",
       "Eyrie           1\n",
       "Dell            1\n",
       "East            1\n",
       "Loop            1\n",
       "Grange          1\n",
       "Terrace         1\n",
       "Cove            1\n",
       "Qy              1\n",
       "Corso           1\n",
       "Name: Address, dtype: int64"
      ]
     },
     "metadata": {},
     "output_type": "display_data"
    }
   ],
   "source": [
    "display(street_types.value_counts())"
   ]
  },
  {
   "cell_type": "markdown",
   "metadata": {},
   "source": [
    "\n",
    "\n",
    "Примечание. Внимательный читатель наверняка обратит внимание на то, что мы допустили небольшую ошибку!\n",
    "\n",
    "Если присмотреться, то в списке подтипов улиц street_types можно заметить подтипы, которые именуются различным образом, но при этом обозначают одинаковые вещи. Например, подтипы Av и Avenue, Bvd и Boulevard, Pde и Parade. Мы упустили данный момент, хотя в реальных задачах стоит обращать пристальное внимание на результаты преобразований и исправлять неточности в данных.\n",
    "\n",
    "Такие ошибки в данных (обозначение идентичных категорий различными именами) являются одним из видов «грязных» данных.\n",
    "\n",
    "Порой отследить такие неточности бывает очень сложно, а при наличии большого количества категорий (например, более ста) — практически невозможно.\n",
    "\n",
    "Мы предлагаем вам самостоятельно разобраться с этой ошибкой: попробуйте написать функцию-преобразование (lambda-функцию-преобразование), которая возвращала бы вместо значений Avenue, Boulevard и Parade их топографические сокращения, и примените её к данным о подтипах улиц.\n",
    "\n",
    "→ Обратите внимание, что данное преобразование необходимо применить до сокращения количества уникальных категорий.\n"
   ]
  },
  {
   "cell_type": "code",
   "execution_count": 70,
   "metadata": {},
   "outputs": [
    {
     "data": {
      "text/plain": [
       "0        St\n",
       "1        St\n",
       "2        St\n",
       "3        La\n",
       "4        St\n",
       "         ..\n",
       "13575    Cr\n",
       "13576    Dr\n",
       "13577    St\n",
       "13578    St\n",
       "13579    St\n",
       "Name: Address, Length: 13580, dtype: object"
      ]
     },
     "metadata": {},
     "output_type": "display_data"
    }
   ],
   "source": [
    "street_types = street_types.apply(lambda x: 'Av' if x=='Avenue' else x)\n",
    "street_types = street_types.apply(lambda x: 'Bvd' if x=='Boulevard' else x)\n",
    "street_types = street_types.apply(lambda x: 'Pde' if x=='Parade' else x)\n",
    "\n",
    "display(street_types)"
   ]
  },
  {
   "cell_type": "code",
   "execution_count": 71,
   "metadata": {},
   "outputs": [
    {
     "data": {
      "text/plain": [
       "St           8012\n",
       "Rd           2825\n",
       "Ct            612\n",
       "Dr            447\n",
       "Av            361\n",
       "Gr            311\n",
       "Pde           226\n",
       "Pl            169\n",
       "Cr            152\n",
       "Cl            100\n",
       "La             67\n",
       "Bvd            66\n",
       "Tce            47\n",
       "Wy             40\n",
       "Cct            25\n",
       "Hwy            24\n",
       "Sq             11\n",
       "Crescent        9\n",
       "Cir             7\n",
       "Strand          7\n",
       "Esplanade       6\n",
       "Grove           5\n",
       "Mews            4\n",
       "Grn             4\n",
       "Fairway         4\n",
       "Gdns            4\n",
       "Righi           3\n",
       "Crossway        3\n",
       "Esp             2\n",
       "Victoria        2\n",
       "Ridge           2\n",
       "Crofts          2\n",
       "Grand           1\n",
       "Summit          1\n",
       "Hts             1\n",
       "Athol           1\n",
       "Highway         1\n",
       "Outlook         1\n",
       "Woodland        1\n",
       "Ave             1\n",
       "Gra             1\n",
       "Terrace         1\n",
       "Eyrie           1\n",
       "Dell            1\n",
       "East            1\n",
       "Loop            1\n",
       "Nook            1\n",
       "Glade           1\n",
       "Qy              1\n",
       "Cove            1\n",
       "Res             1\n",
       "Grange          1\n",
       "Corso           1\n",
       "Name: Address, dtype: int64"
      ]
     },
     "metadata": {},
     "output_type": "display_data"
    }
   ],
   "source": [
    "display(street_types.value_counts())"
   ]
  },
  {
   "cell_type": "markdown",
   "metadata": {},
   "source": [
    "Из данного вывода можно увидеть, что есть группа наиболее популярных подтипов улиц, а дальше частота подтипов быстро падает.\n",
    "\n",
    "В таком случае давайте применим очень распространённый метод уменьшения количества уникальных категорий — выделим n подтипов, которые встречаются чаще всего, а остальные обозначим как 'other' (другие).\n",
    "\n",
    "Для этого к результату метода value_counts применим метод nlargest(), который возвращает n наибольших значений из Series. Зададим n=10, т. е. мы хотим отобрать десять наиболее популярных подтипов. Извлечём их названия с помощью атрибута index, а результат занесём в переменную popular_stypes:"
   ]
  },
  {
   "cell_type": "code",
   "execution_count": 72,
   "metadata": {},
   "outputs": [
    {
     "name": "stdout",
     "output_type": "stream",
     "text": [
      "Index(['St', 'Rd', 'Ct', 'Dr', 'Av', 'Gr', 'Pde', 'Pl', 'Cr', 'Cl'], dtype='object')\n"
     ]
    }
   ],
   "source": [
    "popular_stypes = street_types.value_counts().nlargest(10).index\n",
    "print(popular_stypes)"
   ]
  },
  {
   "cell_type": "markdown",
   "metadata": {},
   "source": [
    "Попробуйте применить использованные методы последовательно и выводить результат, чтобы проследить за логикой преобразования.\n",
    "\n",
    "Теперь, когда у нас есть список наиболее популярных подтипов улиц, введём lambda-функцию, которая будет проверять, есть ли строка x в этом перечне, и, если это так, lambda-функция будет возвращать x, в противном случае она будет возвращать строку 'other'. Наконец, применим такую функцию к Series street_types, полученной ранее, а результат определим в новый столбец таблицы StreetType:\n",
    "\n"
   ]
  },
  {
   "cell_type": "code",
   "execution_count": 73,
   "metadata": {},
   "outputs": [
    {
     "data": {
      "text/plain": [
       "0           St\n",
       "1           St\n",
       "2           St\n",
       "3        other\n",
       "4           St\n",
       "         ...  \n",
       "13575       Cr\n",
       "13576       Dr\n",
       "13577       St\n",
       "13578       St\n",
       "13579       St\n",
       "Name: StreetType, Length: 13580, dtype: object"
      ]
     },
     "metadata": {},
     "output_type": "display_data"
    }
   ],
   "source": [
    "melb_df['StreetType'] = street_types.apply(lambda x: x if x in popular_stypes else 'other')\n",
    "display(melb_df['StreetType'])"
   ]
  },
  {
   "cell_type": "markdown",
   "metadata": {},
   "source": [
    "Посмотрим на результирующее число уникальных подтипов:"
   ]
  },
  {
   "cell_type": "code",
   "execution_count": 74,
   "metadata": {},
   "outputs": [
    {
     "name": "stdout",
     "output_type": "stream",
     "text": [
      "11\n"
     ]
    }
   ],
   "source": [
    "print(melb_df['StreetType'].nunique())"
   ]
  },
  {
   "cell_type": "markdown",
   "metadata": {},
   "source": [
    "Теперь, у нас нет потребности хранить признак Address, так как, если конкретное местоположение объекта всё же и влияет на его стоимость, то оно определяется столбцами Longitude и Lattitude. Удалим его из нашей таблицы:"
   ]
  },
  {
   "cell_type": "code",
   "execution_count": 75,
   "metadata": {},
   "outputs": [],
   "source": [
    "melb_df = melb_df.drop('Address', axis=1)"
   ]
  },
  {
   "cell_type": "markdown",
   "metadata": {},
   "source": [
    "Таким образом, с помощью написания собственных функций и их комбинирования с методом apply() из библиотеки Pandas мы смогли извлечь информацию из признака с адресом и заменить на признак подтипа улицы. "
   ]
  },
  {
   "cell_type": "markdown",
   "metadata": {},
   "source": [
    "Задание 4.2\n",
    "\n",
    "Ранее, в задании 3.3, мы создали признак WeekdaySale в таблице melb_df — день недели продажи. Из полученных в задании результатов можно сделать вывод, что объекты недвижимости в Мельбурне продаются преимущественно по выходным (суббота и воскресенье).\n",
    "\n",
    "Напишите функцию get_weekend(weekday), которая принимает на вход элемент столбца WeekdaySale и возвращает 1, если день является выходным, и 0 — в противном случае, и создайте столбец Weekend в таблице melb_df с помощью неё.\n",
    "\n",
    "Примените эту функцию к столбцу и вычислите среднюю цену объекта недвижимости, проданного в выходные дни. Результат округлите до целых."
   ]
  },
  {
   "cell_type": "code",
   "execution_count": 80,
   "metadata": {},
   "outputs": [
    {
     "data": {
      "text/plain": [
       "0        5\n",
       "1        3\n",
       "2        5\n",
       "3        5\n",
       "4        5\n",
       "        ..\n",
       "13575    5\n",
       "13576    5\n",
       "13577    5\n",
       "13578    5\n",
       "13579    5\n",
       "Name: WeekdaySale, Length: 13580, dtype: int64"
      ]
     },
     "metadata": {},
     "output_type": "display_data"
    }
   ],
   "source": [
    "melb_df['WeekdaySale'] = melb_df['Date'].dt.dayofweek\n",
    "display(melb_df['WeekdaySale'])"
   ]
  },
  {
   "cell_type": "code",
   "execution_count": 84,
   "metadata": {},
   "outputs": [
    {
     "data": {
      "text/plain": [
       "1081199.0"
      ]
     },
     "metadata": {},
     "output_type": "display_data"
    }
   ],
   "source": [
    "def get_weekend(weekday):\n",
    "    if weekday == 5 in melb_df['WeekdaySale'] or weekday == 6 in melb_df['WeekdaySale']:\n",
    "        return 1\n",
    "    else:\n",
    "        return 0\n",
    "    \n",
    "melb_df['Weekend'] = melb_df['WeekdaySale'].apply(get_weekend)\n",
    "display(round(melb_df[melb_df['Weekend'] == 1]['Price'].mean(), 0))\n",
    "    "
   ]
  },
  {
   "cell_type": "markdown",
   "metadata": {},
   "source": [
    "Задание 4.3\n",
    "\n",
    "Преобразуйте столбец SellerG с наименованиями риелторских компаний в таблице melb_df следующим образом: оставьте в столбце только 49 самых популярных компаний, а остальные обозначьте как 'other'.\n",
    "\n",
    "Найдите, во сколько раз минимальная цена объектов недвижимости, проданных компанией 'Nelson', больше минимальной цены объектов, проданных компаниями, обозначенными как 'other'. Ответ округлите до десятых."
   ]
  },
  {
   "cell_type": "code",
   "execution_count": 88,
   "metadata": {},
   "outputs": [
    {
     "data": {
      "text/plain": [
       "Index(['Nelson', 'Jellis', 'hockingstuart', 'Barry', 'Ray', 'Marshall',\n",
       "       'Buxton', 'Biggin', 'Brad', 'Fletchers', 'Woodards', 'Jas', 'Greg',\n",
       "       'McGrath', 'Sweeney', 'Noel', 'Miles', 'RT', 'Gary', 'Harcourts',\n",
       "       'Hodges', 'YPA', 'Stockdale', 'Village', 'Kay', 'Raine', 'Williams',\n",
       "       'Love', 'Douglas', 'Chisholm', 'RW', 'Rendina', 'HAR', 'O'Brien', 'C21',\n",
       "       'Collins', 'Cayzer', 'Eview', 'Purplebricks', 'Philip', 'Buckingham',\n",
       "       'Bells', 'Thomson', 'Nick', 'Alexkarbon', 'McDonald', 'Burnham',\n",
       "       'Moonee', 'LITTLE'],\n",
       "      dtype='object')"
      ]
     },
     "metadata": {},
     "output_type": "display_data"
    }
   ],
   "source": [
    "popular_sales = melb_df['SellerG'].value_counts().nlargest(49).index\n",
    "display(popular_sales)"
   ]
  },
  {
   "cell_type": "code",
   "execution_count": 94,
   "metadata": {},
   "outputs": [
    {
     "data": {
      "text/plain": [
       "1.3"
      ]
     },
     "metadata": {},
     "output_type": "display_data"
    }
   ],
   "source": [
    "melb_df['SellerG'] = melb_df['SellerG'].apply(lambda x: x if x in popular_sales else 'Other')\n",
    "price_Nelson = melb_df[melb_df['SellerG'] == 'Nelson']['Price'].min()\n",
    "price_Other = melb_df[melb_df['SellerG'] == 'Other']['Price'].min()\n",
    "display(round(price_Nelson/price_Other, 1))"
   ]
  },
  {
   "cell_type": "code",
   "execution_count": 95,
   "metadata": {},
   "outputs": [
    {
     "name": "stdout",
     "output_type": "stream",
     "text": [
      "<class 'pandas.core.frame.DataFrame'>\n",
      "RangeIndex: 13580 entries, 0 to 13579\n",
      "Data columns (total 26 columns):\n",
      " #   Column           Non-Null Count  Dtype         \n",
      "---  ------           --------------  -----         \n",
      " 0   Suburb           13580 non-null  object        \n",
      " 1   Rooms            13580 non-null  int64         \n",
      " 2   Type             13580 non-null  object        \n",
      " 3   Price            13580 non-null  float64       \n",
      " 4   Method           13580 non-null  object        \n",
      " 5   SellerG          13580 non-null  object        \n",
      " 6   Date             13580 non-null  datetime64[ns]\n",
      " 7   Distance         13580 non-null  float64       \n",
      " 8   Postcode         13580 non-null  int64         \n",
      " 9   Bedroom          13580 non-null  int64         \n",
      " 10  Bathroom         13580 non-null  int64         \n",
      " 11  Car              13580 non-null  int64         \n",
      " 12  Landsize         13580 non-null  float64       \n",
      " 13  BuildingArea     13580 non-null  float64       \n",
      " 14  CouncilArea      12211 non-null  object        \n",
      " 15  Lattitude        13580 non-null  float64       \n",
      " 16  Longtitude       13580 non-null  float64       \n",
      " 17  Regionname       13580 non-null  object        \n",
      " 18  Propertycount    13580 non-null  int64         \n",
      " 19  MeanRoomsSquare  13580 non-null  float64       \n",
      " 20  AreaRatio        13580 non-null  float64       \n",
      " 21  MonthSale        13580 non-null  int64         \n",
      " 22  AgeBuilding      13580 non-null  int64         \n",
      " 23  StreetType       13580 non-null  object        \n",
      " 24  WeekdaySale      13580 non-null  int64         \n",
      " 25  Weekend          13580 non-null  int64         \n",
      "dtypes: datetime64[ns](1), float64(8), int64(10), object(7)\n",
      "memory usage: 2.7+ MB\n"
     ]
    }
   ],
   "source": [
    "melb_df.info()"
   ]
  },
  {
   "cell_type": "markdown",
   "metadata": {},
   "source": [
    "Категории в данных о недвижимости\n",
    "\n",
    "Давайте определим число уникальных категорий в каждом столбце нашей таблицы melb_df. Для этого создадим вспомогательную таблицу unique_counts:"
   ]
  },
  {
   "cell_type": "code",
   "execution_count": 97,
   "metadata": {},
   "outputs": [
    {
     "data": {
      "text/html": [
       "<div>\n",
       "<style scoped>\n",
       "    .dataframe tbody tr th:only-of-type {\n",
       "        vertical-align: middle;\n",
       "    }\n",
       "\n",
       "    .dataframe tbody tr th {\n",
       "        vertical-align: top;\n",
       "    }\n",
       "\n",
       "    .dataframe thead th {\n",
       "        text-align: right;\n",
       "    }\n",
       "</style>\n",
       "<table border=\"1\" class=\"dataframe\">\n",
       "  <thead>\n",
       "    <tr style=\"text-align: right;\">\n",
       "      <th></th>\n",
       "      <th>Column_Name</th>\n",
       "      <th>Num_Unique</th>\n",
       "      <th>Type</th>\n",
       "    </tr>\n",
       "  </thead>\n",
       "  <tbody>\n",
       "    <tr>\n",
       "      <th>0</th>\n",
       "      <td>Weekend</td>\n",
       "      <td>2</td>\n",
       "      <td>int64</td>\n",
       "    </tr>\n",
       "    <tr>\n",
       "      <th>1</th>\n",
       "      <td>Type</td>\n",
       "      <td>3</td>\n",
       "      <td>object</td>\n",
       "    </tr>\n",
       "    <tr>\n",
       "      <th>2</th>\n",
       "      <td>WeekdaySale</td>\n",
       "      <td>5</td>\n",
       "      <td>int64</td>\n",
       "    </tr>\n",
       "    <tr>\n",
       "      <th>3</th>\n",
       "      <td>Method</td>\n",
       "      <td>5</td>\n",
       "      <td>object</td>\n",
       "    </tr>\n",
       "    <tr>\n",
       "      <th>4</th>\n",
       "      <td>Regionname</td>\n",
       "      <td>8</td>\n",
       "      <td>object</td>\n",
       "    </tr>\n",
       "    <tr>\n",
       "      <th>5</th>\n",
       "      <td>Bathroom</td>\n",
       "      <td>9</td>\n",
       "      <td>int64</td>\n",
       "    </tr>\n",
       "    <tr>\n",
       "      <th>6</th>\n",
       "      <td>Rooms</td>\n",
       "      <td>9</td>\n",
       "      <td>int64</td>\n",
       "    </tr>\n",
       "    <tr>\n",
       "      <th>7</th>\n",
       "      <td>Car</td>\n",
       "      <td>11</td>\n",
       "      <td>int64</td>\n",
       "    </tr>\n",
       "    <tr>\n",
       "      <th>8</th>\n",
       "      <td>StreetType</td>\n",
       "      <td>11</td>\n",
       "      <td>object</td>\n",
       "    </tr>\n",
       "    <tr>\n",
       "      <th>9</th>\n",
       "      <td>Bedroom</td>\n",
       "      <td>12</td>\n",
       "      <td>int64</td>\n",
       "    </tr>\n",
       "    <tr>\n",
       "      <th>10</th>\n",
       "      <td>MonthSale</td>\n",
       "      <td>12</td>\n",
       "      <td>int64</td>\n",
       "    </tr>\n",
       "    <tr>\n",
       "      <th>11</th>\n",
       "      <td>CouncilArea</td>\n",
       "      <td>33</td>\n",
       "      <td>object</td>\n",
       "    </tr>\n",
       "    <tr>\n",
       "      <th>12</th>\n",
       "      <td>SellerG</td>\n",
       "      <td>50</td>\n",
       "      <td>object</td>\n",
       "    </tr>\n",
       "    <tr>\n",
       "      <th>13</th>\n",
       "      <td>Date</td>\n",
       "      <td>58</td>\n",
       "      <td>datetime64[ns]</td>\n",
       "    </tr>\n",
       "    <tr>\n",
       "      <th>14</th>\n",
       "      <td>AgeBuilding</td>\n",
       "      <td>152</td>\n",
       "      <td>int64</td>\n",
       "    </tr>\n",
       "    <tr>\n",
       "      <th>15</th>\n",
       "      <td>Postcode</td>\n",
       "      <td>198</td>\n",
       "      <td>int64</td>\n",
       "    </tr>\n",
       "    <tr>\n",
       "      <th>16</th>\n",
       "      <td>Distance</td>\n",
       "      <td>202</td>\n",
       "      <td>float64</td>\n",
       "    </tr>\n",
       "    <tr>\n",
       "      <th>17</th>\n",
       "      <td>Propertycount</td>\n",
       "      <td>311</td>\n",
       "      <td>int64</td>\n",
       "    </tr>\n",
       "    <tr>\n",
       "      <th>18</th>\n",
       "      <td>Suburb</td>\n",
       "      <td>314</td>\n",
       "      <td>object</td>\n",
       "    </tr>\n",
       "    <tr>\n",
       "      <th>19</th>\n",
       "      <td>BuildingArea</td>\n",
       "      <td>602</td>\n",
       "      <td>float64</td>\n",
       "    </tr>\n",
       "    <tr>\n",
       "      <th>20</th>\n",
       "      <td>MeanRoomsSquare</td>\n",
       "      <td>1277</td>\n",
       "      <td>float64</td>\n",
       "    </tr>\n",
       "    <tr>\n",
       "      <th>21</th>\n",
       "      <td>Landsize</td>\n",
       "      <td>1448</td>\n",
       "      <td>float64</td>\n",
       "    </tr>\n",
       "    <tr>\n",
       "      <th>22</th>\n",
       "      <td>Price</td>\n",
       "      <td>2204</td>\n",
       "      <td>float64</td>\n",
       "    </tr>\n",
       "    <tr>\n",
       "      <th>23</th>\n",
       "      <td>Lattitude</td>\n",
       "      <td>6503</td>\n",
       "      <td>float64</td>\n",
       "    </tr>\n",
       "    <tr>\n",
       "      <th>24</th>\n",
       "      <td>AreaRatio</td>\n",
       "      <td>6521</td>\n",
       "      <td>float64</td>\n",
       "    </tr>\n",
       "    <tr>\n",
       "      <th>25</th>\n",
       "      <td>Longtitude</td>\n",
       "      <td>7063</td>\n",
       "      <td>float64</td>\n",
       "    </tr>\n",
       "  </tbody>\n",
       "</table>\n",
       "</div>"
      ],
      "text/plain": [
       "        Column_Name  Num_Unique            Type\n",
       "0           Weekend           2           int64\n",
       "1              Type           3          object\n",
       "2       WeekdaySale           5           int64\n",
       "3            Method           5          object\n",
       "4        Regionname           8          object\n",
       "5          Bathroom           9           int64\n",
       "6             Rooms           9           int64\n",
       "7               Car          11           int64\n",
       "8        StreetType          11          object\n",
       "9           Bedroom          12           int64\n",
       "10        MonthSale          12           int64\n",
       "11      CouncilArea          33          object\n",
       "12          SellerG          50          object\n",
       "13             Date          58  datetime64[ns]\n",
       "14      AgeBuilding         152           int64\n",
       "15         Postcode         198           int64\n",
       "16         Distance         202         float64\n",
       "17    Propertycount         311           int64\n",
       "18           Suburb         314          object\n",
       "19     BuildingArea         602         float64\n",
       "20  MeanRoomsSquare        1277         float64\n",
       "21         Landsize        1448         float64\n",
       "22            Price        2204         float64\n",
       "23        Lattitude        6503         float64\n",
       "24        AreaRatio        6521         float64\n",
       "25       Longtitude        7063         float64"
      ]
     },
     "metadata": {},
     "output_type": "display_data"
    }
   ],
   "source": [
    "# создаём пустой список\n",
    "unique_list = []\n",
    "# пробегаемся по именам столбцов в таблице\n",
    "for col in melb_df.columns:\n",
    "    # создаём кортеж (имя столбца, число уникальных значений)\n",
    "    item = (col, melb_df[col].nunique(),melb_df[col].dtypes) \n",
    "    # добавляем кортеж в список\n",
    "    unique_list.append(item) \n",
    "# создаём вспомогательную таблицу и сортируем её\n",
    "unique_counts = pd.DataFrame(\n",
    "    unique_list,\n",
    "    columns=['Column_Name', 'Num_Unique', 'Type']\n",
    ").sort_values(by='Num_Unique',  ignore_index=True)\n",
    "# выводим её на экран\n",
    "display(unique_counts)"
   ]
  },
  {
   "cell_type": "markdown",
   "metadata": {},
   "source": [
    "Разберём код подробнее:\n",
    "\n",
    "1\n",
    "Создаём пустой список, в который будем добавлять кортежи: имя столбца, количество уникальных значений в нём и тип столбца.\n",
    "\n",
    "2\n",
    "В цикле перебираем имена столбцов, которые получаем с помощью атрибута columns. В переменной col на каждой итерации находятся имена столбцов — обращаемся к ним в цикле и извлекаем число уникальных элементов с помощью метода nunique(), а также тип столбца с помощью атрибута dtypes. Результат заносим в кортеж и добавляем его в список.\n",
    "\n",
    "3\n",
    "Из списка с кортежами (имя столбца, количество уникальных значений в нём, тип столбца) создаём DataFrame, даём названия его столбцам: Column_Name, Num_unique и Type.\n",
    "\n",
    "4\n",
    "Сортируем таблицу по столбцу Num_unique в порядке возрастания количества уникальных элементов с помощью метода sort_values() и выводим результат на экран."
   ]
  },
  {
   "cell_type": "markdown",
   "metadata": {},
   "source": [
    "Тип данных category\n",
    "\n",
    "Для хранения и оптимизации работы с категориальными признаками в Pandas предусмотрен специальный тип данных — category.\n",
    "\n",
    "→ Этот тип данных является гибридным: внешне он выглядит как строка, но внутренне представлен массивом целых чисел. Так как данные вместо изначальных строк хранятся в памяти как число, то объём памяти, занимаемой таблицей при использовании типа category, резко уменьшается, что повышает эффективность хранения и работы с таблицей.\n",
    "\n",
    "→ Более того, этот тип данных расширяет возможности работы с категориальными признаками: мы можем легко преобразовывать категории, строить графики по таким данным (что сложно сделать для типа данных object). Также резко повышается производительность операций, совершаемых с такими столбцами.\n",
    "\n",
    "Самый простой способ преобразования столбцов к типу данных category — это использование уже знакомого нам метода astype(), в параметры которого достаточно передать строку 'category'.\n",
    "\n",
    "Рассмотрим это на примере.\n",
    "\n",
    "Для начала, выведем информацию о памяти, занимаемой текущей таблицей, с помощью метода info():"
   ]
  },
  {
   "cell_type": "code",
   "execution_count": 98,
   "metadata": {},
   "outputs": [
    {
     "name": "stdout",
     "output_type": "stream",
     "text": [
      "<class 'pandas.core.frame.DataFrame'>\n",
      "RangeIndex: 13580 entries, 0 to 13579\n",
      "Data columns (total 26 columns):\n",
      " #   Column           Non-Null Count  Dtype         \n",
      "---  ------           --------------  -----         \n",
      " 0   Suburb           13580 non-null  object        \n",
      " 1   Rooms            13580 non-null  int64         \n",
      " 2   Type             13580 non-null  object        \n",
      " 3   Price            13580 non-null  float64       \n",
      " 4   Method           13580 non-null  object        \n",
      " 5   SellerG          13580 non-null  object        \n",
      " 6   Date             13580 non-null  datetime64[ns]\n",
      " 7   Distance         13580 non-null  float64       \n",
      " 8   Postcode         13580 non-null  int64         \n",
      " 9   Bedroom          13580 non-null  int64         \n",
      " 10  Bathroom         13580 non-null  int64         \n",
      " 11  Car              13580 non-null  int64         \n",
      " 12  Landsize         13580 non-null  float64       \n",
      " 13  BuildingArea     13580 non-null  float64       \n",
      " 14  CouncilArea      12211 non-null  object        \n",
      " 15  Lattitude        13580 non-null  float64       \n",
      " 16  Longtitude       13580 non-null  float64       \n",
      " 17  Regionname       13580 non-null  object        \n",
      " 18  Propertycount    13580 non-null  int64         \n",
      " 19  MeanRoomsSquare  13580 non-null  float64       \n",
      " 20  AreaRatio        13580 non-null  float64       \n",
      " 21  MonthSale        13580 non-null  int64         \n",
      " 22  AgeBuilding      13580 non-null  int64         \n",
      " 23  StreetType       13580 non-null  object        \n",
      " 24  WeekdaySale      13580 non-null  int64         \n",
      " 25  Weekend          13580 non-null  int64         \n",
      "dtypes: datetime64[ns](1), float64(8), int64(10), object(7)\n",
      "memory usage: 2.7+ MB\n"
     ]
    },
    {
     "data": {
      "text/plain": [
       "None"
      ]
     },
     "metadata": {},
     "output_type": "display_data"
    }
   ],
   "source": [
    "display(melb_df.info())"
   ]
  },
  {
   "cell_type": "markdown",
   "metadata": {},
   "source": [
    "Текущий объём памяти — 2.7 Мб.\n",
    "\n",
    "Примечание. Объём занимаемой памяти и количество столбцов на вашем компьютере может отличаться в зависимости от того, выполняли ли вы код и задания из предыдущих разделов на добавление и преобразование данных в таблице.\n",
    "\n",
    "Сделаем преобразование столбцов к типу данных category:\n",
    "\n",
    "\n"
   ]
  },
  {
   "cell_type": "code",
   "execution_count": 99,
   "metadata": {},
   "outputs": [
    {
     "name": "stdout",
     "output_type": "stream",
     "text": [
      "<class 'pandas.core.frame.DataFrame'>\n",
      "RangeIndex: 13580 entries, 0 to 13579\n",
      "Data columns (total 26 columns):\n",
      " #   Column           Non-Null Count  Dtype         \n",
      "---  ------           --------------  -----         \n",
      " 0   Suburb           13580 non-null  object        \n",
      " 1   Rooms            13580 non-null  int64         \n",
      " 2   Type             13580 non-null  category      \n",
      " 3   Price            13580 non-null  float64       \n",
      " 4   Method           13580 non-null  category      \n",
      " 5   SellerG          13580 non-null  category      \n",
      " 6   Date             13580 non-null  datetime64[ns]\n",
      " 7   Distance         13580 non-null  float64       \n",
      " 8   Postcode         13580 non-null  int64         \n",
      " 9   Bedroom          13580 non-null  int64         \n",
      " 10  Bathroom         13580 non-null  int64         \n",
      " 11  Car              13580 non-null  int64         \n",
      " 12  Landsize         13580 non-null  float64       \n",
      " 13  BuildingArea     13580 non-null  float64       \n",
      " 14  CouncilArea      12211 non-null  category      \n",
      " 15  Lattitude        13580 non-null  float64       \n",
      " 16  Longtitude       13580 non-null  float64       \n",
      " 17  Regionname       13580 non-null  category      \n",
      " 18  Propertycount    13580 non-null  int64         \n",
      " 19  MeanRoomsSquare  13580 non-null  float64       \n",
      " 20  AreaRatio        13580 non-null  float64       \n",
      " 21  MonthSale        13580 non-null  category      \n",
      " 22  AgeBuilding      13580 non-null  int64         \n",
      " 23  StreetType       13580 non-null  category      \n",
      " 24  WeekdaySale      13580 non-null  category      \n",
      " 25  Weekend          13580 non-null  category      \n",
      "dtypes: category(9), datetime64[ns](1), float64(8), int64(7), object(1)\n",
      "memory usage: 1.9+ MB\n"
     ]
    },
    {
     "data": {
      "text/plain": [
       "None"
      ]
     },
     "metadata": {},
     "output_type": "display_data"
    }
   ],
   "source": [
    "cols_to_exclude = ['Date', 'Rooms', 'Bedroom', 'Bathroom', 'Car'] # список столбцов, которые мы не берём во внимание\n",
    "max_unique_count = 150 # задаём максимальное число уникальных категорий\n",
    "for col in melb_df.columns: # цикл по именам столбцов\n",
    "    if melb_df[col].nunique() < max_unique_count and col not in cols_to_exclude: # проверяем условие\n",
    "        melb_df[col] = melb_df[col].astype('category') # преобразуем тип столбца\n",
    "display(melb_df.info())"
   ]
  },
  {
   "cell_type": "markdown",
   "metadata": {},
   "source": [
    "Разберём код подробнее:\n",
    "1. Задаём список столбцов, которые мы не берём в рассмотрение (cols_to_exclude), а также условленный нами ранее порог уникальных значений столбца max_unique_count.\n",
    "2. В цикле перебираем имена столбцов, и, если число уникальных категорий меньше заданного порога и имён столбцов нет в списке cols_to_exclude, то с помощью метода astype() приводим столбец к типу данных category.\n",
    "3. Итоговый объём памяти — 1.9 Мб. В результате такого преобразования объём памяти, занимаемый таблицей, уменьшился почти в 1.5 раза. Это впечатляет!\n",
    "\n",
    "Особенно хорошо такое преобразование работает на действительно больших данных, где число строк превышает сотни тысяч или миллионы. Иногда изменение типов может уменьшить объём памяти в десятки раз и существенно увеличить производительность."
   ]
  },
  {
   "cell_type": "markdown",
   "metadata": {},
   "source": [
    "Получение атрибутов category\n",
    "\n",
    "У типа данных category есть свой специальный аксесcор cat, который позволяет получать информацию о своих значениях и преобразовывать их. Например, с помощью атрибута этого аксессора categories мы можем получить список уникальных категорий в столбце Regionname:"
   ]
  },
  {
   "cell_type": "code",
   "execution_count": 100,
   "metadata": {},
   "outputs": [
    {
     "name": "stdout",
     "output_type": "stream",
     "text": [
      "Index(['Eastern Metropolitan', 'Eastern Victoria', 'Northern Metropolitan',\n",
      "       'Northern Victoria', 'South-Eastern Metropolitan',\n",
      "       'Southern Metropolitan', 'Western Metropolitan', 'Western Victoria'],\n",
      "      dtype='object')\n"
     ]
    }
   ],
   "source": [
    "print(melb_df['Regionname'].cat.categories)"
   ]
  },
  {
   "cell_type": "markdown",
   "metadata": {},
   "source": [
    "А теперь посмотрим, каким образом столбец кодируется в виде чисел в памяти компьютера. Для этого можно воспользоваться атрибутом codes:"
   ]
  },
  {
   "cell_type": "code",
   "execution_count": 101,
   "metadata": {},
   "outputs": [
    {
     "data": {
      "text/plain": [
       "0        2\n",
       "1        2\n",
       "2        2\n",
       "3        2\n",
       "4        2\n",
       "        ..\n",
       "13575    4\n",
       "13576    6\n",
       "13577    6\n",
       "13578    6\n",
       "13579    6\n",
       "Length: 13580, dtype: int8"
      ]
     },
     "metadata": {},
     "output_type": "display_data"
    }
   ],
   "source": [
    "display(melb_df['Regionname'].cat.codes)"
   ]
  },
  {
   "cell_type": "markdown",
   "metadata": {},
   "source": [
    "С помощью метода аксессора rename_categories() можно легко переименовать текущие значения категорий. Для этого в данный метод нужно передать словарь, ключи которого — старые имена категорий, а значения — новые.\n",
    "\n",
    "Рассмотрим на примере: переименуем категории признака типа постройки Type — заменим их на полные названия (напомним, u — unit, h — house, t — townhouse)."
   ]
  },
  {
   "cell_type": "code",
   "execution_count": 102,
   "metadata": {},
   "outputs": [
    {
     "data": {
      "text/plain": [
       "0        house\n",
       "1        house\n",
       "2        house\n",
       "3        house\n",
       "4        house\n",
       "         ...  \n",
       "13575    house\n",
       "13576    house\n",
       "13577    house\n",
       "13578    house\n",
       "13579    house\n",
       "Name: Type, Length: 13580, dtype: category\n",
       "Categories (3, object): ['house', 'townhouse', 'unit']"
      ]
     },
     "metadata": {},
     "output_type": "display_data"
    }
   ],
   "source": [
    "melb_df['Type'] = melb_df['Type'].cat.rename_categories({\n",
    "    'u': 'unit',\n",
    "    't': 'townhouse',\n",
    "    'h': 'house'\n",
    "})\n",
    "display(melb_df['Type'])"
   ]
  },
  {
   "cell_type": "markdown",
   "metadata": {},
   "source": [
    "Подводные камни\n",
    "\n",
    "А теперь представим ситуацию, что появилась новая партия домов и теперь мы продаём и квартиры (flat). Создадим объект Series new_houses_types, в котором будем хранить типы зданий новой партии домов. Преобразуем тип new_houses_types в такой же тип, как и у столбца Type в таблице melb_data, и выведем результат на экран:"
   ]
  },
  {
   "cell_type": "code",
   "execution_count": 103,
   "metadata": {},
   "outputs": [
    {
     "data": {
      "text/plain": [
       "0     unit\n",
       "1    house\n",
       "2      NaN\n",
       "3      NaN\n",
       "4    house\n",
       "dtype: category\n",
       "Categories (3, object): ['house', 'townhouse', 'unit']"
      ]
     },
     "metadata": {},
     "output_type": "display_data"
    }
   ],
   "source": [
    "new_houses_types = pd.Series(['unit', 'house', 'flat', 'flat', 'house'])\n",
    "new_houses_types = new_houses_types.astype(melb_df['Type'].dtype)\n",
    "display(new_houses_types)"
   ]
  },
  {
   "cell_type": "markdown",
   "metadata": {},
   "source": [
    "Хммм... С нашими новыми объектами недвижимости произошло нечто странное. По какой-то причине вместо квартир мы получили пустые значения — NaN.\n",
    "\n",
    "На самом деле причина проста: тип данных category хранит только категории, которые были объявлены при его инициализации. При встрече с новой, неизвестной ранее категорией, этот тип превратит её в пустое значение, так как он просто не знает о существовании этой категории.\n",
    "\n",
    "Решить эту проблему на самом деле не сложно. Можно добавить категорию flat в столбец Type с помощью метода акссесора cat add_categories(), в который достаточно просто передать имя новой категории:"
   ]
  },
  {
   "cell_type": "code",
   "execution_count": 104,
   "metadata": {},
   "outputs": [
    {
     "data": {
      "text/plain": [
       "0     unit\n",
       "1    house\n",
       "2     flat\n",
       "3     flat\n",
       "4    house\n",
       "dtype: category\n",
       "Categories (4, object): ['house', 'townhouse', 'unit', 'flat']"
      ]
     },
     "metadata": {},
     "output_type": "display_data"
    }
   ],
   "source": [
    "melb_df['Type'] = melb_df['Type'].cat.add_categories('flat')\n",
    "new_houses_types = pd.Series(['unit', 'house', 'flat', 'flat', 'house'])\n",
    "new_houses_types = new_houses_types.astype(melb_df['Type'].dtype)\n",
    "display(new_houses_types)"
   ]
  },
  {
   "cell_type": "markdown",
   "metadata": {},
   "source": [
    "Примечание. Добавление новой категории в столбец Type не отразится на самом столбце — текущие категории не изменятся, однако такое преобразование позволит добавлять в таблицу новые данные о домах с новой категорией — flat.\n",
    "\n",
    "Из данного примера можно сделать вывод, что если набор категорий в столбце жёстко не зафиксирован и может обновляться в процессе работы, то тип category не является подходящим типом данных для этого столбца или необходимо постоянно писать проверки при обновлении таблицы.\n",
    "\n",
    "Теперь, когда мы рассмотрели основные моменты и нюансы работы с типом данных category, можно сформулировать несколько рекомендаций по его использованию:\n",
    "1. Необязательно каждый раз преобразовывать категориальные данные в тип данных category. Зачастую это делается исключительно для оптимизации работы с большими данными.\n",
    "2. Если набор данных занимает значительный процент используемой оперативной памяти, рассмотрите возможность использования типа category.\n",
    "3. Если у вас очень серьёзные проблемы с производительностью, обратите внимание на использование типа category.\n",
    "4. Если вы решили использовать тип category, будьте осторожны при добавлении новой информации в вашу таблицу. Убедитесь, что вы собрали всю необходимую информацию, произведите предобработку данных и только после этого используйте преобразование типов."
   ]
  },
  {
   "cell_type": "markdown",
   "metadata": {},
   "source": [
    "Задание 5.2\n",
    "\n",
    "При преобразовании столбцов таблицы о недвижимости к типу category мы оставили без внимания столбец Suburb (пригород). Давайте исправим это.\n",
    "\n",
    "    С помощью метода info() узнайте, сколько памяти занимает таблица melb_df.\n",
    "    Преобразуйте признак Suburb следующим образом: оставьте в столбце только 119 наиболее популярных пригородов, остальные замените на 'other'.\n",
    "    Приведите данные в столбце Suburb к категориальному типу.\n",
    "\n",
    "В качестве ответа запишите разницу между объёмом занимаемой памяти до преобразования (который мы получили ранее в модуле) и после него в Мб. Ответ округлите до десятых."
   ]
  },
  {
   "cell_type": "code",
   "execution_count": 105,
   "metadata": {},
   "outputs": [
    {
     "name": "stdout",
     "output_type": "stream",
     "text": [
      "<class 'pandas.core.frame.DataFrame'>\n",
      "RangeIndex: 13580 entries, 0 to 13579\n",
      "Data columns (total 26 columns):\n",
      " #   Column           Non-Null Count  Dtype         \n",
      "---  ------           --------------  -----         \n",
      " 0   Suburb           13580 non-null  object        \n",
      " 1   Rooms            13580 non-null  int64         \n",
      " 2   Type             13580 non-null  category      \n",
      " 3   Price            13580 non-null  float64       \n",
      " 4   Method           13580 non-null  category      \n",
      " 5   SellerG          13580 non-null  category      \n",
      " 6   Date             13580 non-null  datetime64[ns]\n",
      " 7   Distance         13580 non-null  float64       \n",
      " 8   Postcode         13580 non-null  int64         \n",
      " 9   Bedroom          13580 non-null  int64         \n",
      " 10  Bathroom         13580 non-null  int64         \n",
      " 11  Car              13580 non-null  int64         \n",
      " 12  Landsize         13580 non-null  float64       \n",
      " 13  BuildingArea     13580 non-null  float64       \n",
      " 14  CouncilArea      12211 non-null  category      \n",
      " 15  Lattitude        13580 non-null  float64       \n",
      " 16  Longtitude       13580 non-null  float64       \n",
      " 17  Regionname       13580 non-null  category      \n",
      " 18  Propertycount    13580 non-null  int64         \n",
      " 19  MeanRoomsSquare  13580 non-null  float64       \n",
      " 20  AreaRatio        13580 non-null  float64       \n",
      " 21  MonthSale        13580 non-null  category      \n",
      " 22  AgeBuilding      13580 non-null  int64         \n",
      " 23  StreetType       13580 non-null  category      \n",
      " 24  WeekdaySale      13580 non-null  category      \n",
      " 25  Weekend          13580 non-null  category      \n",
      "dtypes: category(9), datetime64[ns](1), float64(8), int64(7), object(1)\n",
      "memory usage: 1.9+ MB\n"
     ]
    }
   ],
   "source": [
    "melb_df.info()"
   ]
  },
  {
   "cell_type": "code",
   "execution_count": 114,
   "metadata": {},
   "outputs": [
    {
     "name": "stdout",
     "output_type": "stream",
     "text": [
      "<class 'pandas.core.frame.DataFrame'>\n",
      "RangeIndex: 13580 entries, 0 to 13579\n",
      "Data columns (total 26 columns):\n",
      " #   Column           Non-Null Count  Dtype         \n",
      "---  ------           --------------  -----         \n",
      " 0   Suburb           13580 non-null  category      \n",
      " 1   Rooms            13580 non-null  int64         \n",
      " 2   Type             13580 non-null  category      \n",
      " 3   Price            13580 non-null  float64       \n",
      " 4   Method           13580 non-null  category      \n",
      " 5   SellerG          13580 non-null  category      \n",
      " 6   Date             13580 non-null  datetime64[ns]\n",
      " 7   Distance         13580 non-null  float64       \n",
      " 8   Postcode         13580 non-null  int64         \n",
      " 9   Bedroom          13580 non-null  int64         \n",
      " 10  Bathroom         13580 non-null  int64         \n",
      " 11  Car              13580 non-null  int64         \n",
      " 12  Landsize         13580 non-null  float64       \n",
      " 13  BuildingArea     13580 non-null  float64       \n",
      " 14  CouncilArea      12211 non-null  category      \n",
      " 15  Lattitude        13580 non-null  float64       \n",
      " 16  Longtitude       13580 non-null  float64       \n",
      " 17  Regionname       13580 non-null  category      \n",
      " 18  Propertycount    13580 non-null  int64         \n",
      " 19  MeanRoomsSquare  13580 non-null  float64       \n",
      " 20  AreaRatio        13580 non-null  float64       \n",
      " 21  MonthSale        13580 non-null  category      \n",
      " 22  AgeBuilding      13580 non-null  int64         \n",
      " 23  StreetType       13580 non-null  category      \n",
      " 24  WeekdaySale      13580 non-null  category      \n",
      " 25  Weekend          13580 non-null  category      \n",
      "dtypes: category(10), datetime64[ns](1), float64(8), int64(7)\n",
      "memory usage: 1.8 MB\n"
     ]
    }
   ],
   "source": [
    "popular_suburb = melb_df['Suburb'].value_counts().nlargest(119).index\n",
    "melb_df['Suburb'] = melb_df['Suburb'].apply(lambda x: x if x in popular_suburb else 'Other')\n",
    "melb_df['Suburb'] = melb_df['Suburb'].astype('category')\n",
    "melb_df.info()"
   ]
  }
 ],
 "metadata": {
  "kernelspec": {
   "display_name": "Python 3.10.6 64-bit",
   "language": "python",
   "name": "python3"
  },
  "language_info": {
   "codemirror_mode": {
    "name": "ipython",
    "version": 3
   },
   "file_extension": ".py",
   "mimetype": "text/x-python",
   "name": "python",
   "nbconvert_exporter": "python",
   "pygments_lexer": "ipython3",
   "version": "3.10.6"
  },
  "orig_nbformat": 4,
  "vscode": {
   "interpreter": {
    "hash": "916dbcbb3f70747c44a77c7bcd40155683ae19c65e1c03b4aa3499c5328201f1"
   }
  }
 },
 "nbformat": 4,
 "nbformat_minor": 2
}
