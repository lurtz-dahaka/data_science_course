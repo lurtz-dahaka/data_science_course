{
 "cells": [
  {
   "cell_type": "code",
   "execution_count": 16,
   "metadata": {},
   "outputs": [],
   "source": [
    "import pandas as pd\n",
    "from sklearn import model_selection\n",
    "from sklearn.ensemble import RandomForestClassifier\n",
    "from sklearn.ensemble import StackingClassifier\n",
    "from sklearn.neighbors import KNeighborsClassifier\n",
    "from sklearn.naive_bayes import GaussianNB\n",
    "from sklearn.linear_model import LogisticRegression\n",
    "from sklearn import metrics"
   ]
  },
  {
   "cell_type": "code",
   "execution_count": 7,
   "metadata": {},
   "outputs": [],
   "source": [
    "frogs = pd.read_csv('data/Frogs_MFCCs.csv')\n",
    "X = frogs.drop(columns=['Family', 'Genus', 'Species', 'RecordID'])\n",
    "y = frogs['Family']\n",
    "y = y.apply(lambda x: 1 if x=='Dendrobatidae' else 0)"
   ]
  },
  {
   "cell_type": "code",
   "execution_count": 9,
   "metadata": {},
   "outputs": [],
   "source": [
    "X_train, X_test, y_train, y_test = model_selection.train_test_split(X, y, test_size=0.2, random_state=31)"
   ]
  },
  {
   "attachments": {},
   "cell_type": "markdown",
   "metadata": {},
   "source": [
    "Задание 7.5\n",
    "\n",
    "Для начала обучите на наших данных случайный лес с десятью решающими деревьями. Воспользуйтесь параметрами по умолчанию. В качестве значения random_state возьмите число 42.\n",
    "\n",
    "Оцените значение -меры и введите его в качестве ответа, предварительно округлив до двух знаков после точки-разделителя."
   ]
  },
  {
   "cell_type": "code",
   "execution_count": 12,
   "metadata": {},
   "outputs": [
    {
     "name": "stdout",
     "output_type": "stream",
     "text": [
      "F1-score on train (rf):\n",
      "1.0\n",
      "F1-score on test (rf):\n",
      "0.97\n"
     ]
    }
   ],
   "source": [
    "rf = RandomForestClassifier(\n",
    "    n_estimators=10,\n",
    "    random_state=42\n",
    ")\n",
    "\n",
    "rf.fit(X_train, y_train)\n",
    "\n",
    "y_train_predict_rf = rf.predict(X_train)\n",
    "y_test_predict_rf = rf.predict(X_test)\n",
    "\n",
    "print('F1-score on train (rf):')\n",
    "print(round(metrics.f1_score(y_train, y_train_predict_rf), 2))\n",
    "print('F1-score on test (rf):')\n",
    "print(round(metrics.f1_score(y_test, y_test_predict_rf), 2))"
   ]
  },
  {
   "attachments": {},
   "cell_type": "markdown",
   "metadata": {},
   "source": [
    "Задание 7.6\n",
    "\n",
    "Теперь попробуем улучшить качество нашего предсказания за счёт использования стекинга.\n",
    "\n",
    "В качестве базовых моделей выберите следующие:\n",
    "\n",
    "    случайный лес с десятью деревьями, random_state = 31;\n",
    "    KNN, количество соседей = 11;\n",
    "    наивный байесовский классификатор с параметрами по умолчанию, в качестве метода возьмите GaussianNB().\n",
    "\n",
    "В качестве метамодели выберите логистическую регрессию.\n",
    "\n",
    "Обучите модели и сделайте предсказание целевой метки для тестового набора данных.\n",
    "\n",
    "Рассчитайте -меру для тестового набора данных и введите её в качестве ответа, предварительно округлив до двух знаков после точки-разделителя."
   ]
  },
  {
   "cell_type": "code",
   "execution_count": 17,
   "metadata": {},
   "outputs": [
    {
     "name": "stdout",
     "output_type": "stream",
     "text": [
      "F1-score on train (clf):\n",
      "1.0\n",
      "F1-score on test (clf):\n",
      "0.99\n"
     ]
    }
   ],
   "source": [
    "estimators = [\n",
    "    ('rand_f', RandomForestClassifier(\n",
    "        n_estimators=10, random_state=31)\n",
    "     ),\n",
    "    ('knn', KNeighborsClassifier(n_neighbors=11)),\n",
    "    ('nb', GaussianNB())\n",
    "]\n",
    "\n",
    "clf = StackingClassifier(\n",
    "    estimators=estimators,\n",
    "    final_estimator=LogisticRegression()\n",
    ")\n",
    "\n",
    "clf.fit(X_train, y_train)\n",
    "\n",
    "y_train_predict_clf = clf.predict(X_train)\n",
    "y_test_predict_clf = clf.predict(X_test)\n",
    "\n",
    "print('F1-score on train (clf):')\n",
    "print(round(metrics.f1_score(y_train, y_train_predict_clf), 2))\n",
    "print('F1-score on test (clf):')\n",
    "print(round(metrics.f1_score(y_test, y_test_predict_clf), 2))"
   ]
  }
 ],
 "metadata": {
  "kernelspec": {
   "display_name": "Python 3",
   "language": "python",
   "name": "python3"
  },
  "language_info": {
   "codemirror_mode": {
    "name": "ipython",
    "version": 3
   },
   "file_extension": ".py",
   "mimetype": "text/x-python",
   "name": "python",
   "nbconvert_exporter": "python",
   "pygments_lexer": "ipython3",
   "version": "3.10.6"
  },
  "orig_nbformat": 4
 },
 "nbformat": 4,
 "nbformat_minor": 2
}
