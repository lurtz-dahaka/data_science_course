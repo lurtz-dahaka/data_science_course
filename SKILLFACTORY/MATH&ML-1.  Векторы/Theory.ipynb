{
 "cells": [
  {
   "attachments": {},
   "cell_type": "markdown",
   "metadata": {},
   "source": [
    "\n",
    "\n",
    "У Василия, основателя компании «Газ-Таз-Ваз-Нефть», дела идут в гору: в этом году он открывает 100 новых скважин по добыче газа. Однако в целях оптимизации расходов и для потенциального повышения дохода Василию необходимо оценить, сколько денег будет приносить ему каждая из скважин, а также понять, какие факторы потенциально сильнейшим образом влияют на объём добычи газа. Для этого Василий решил нанять вас как специалиста по построению моделей машинного обучения.\n",
    "\n",
    "Василий представляет вам набор данных о добыче газа на своих скважинах. Файл с данными вы можете скачать здесь.\n",
    "\n",
    "Признаки:\n",
    "\n",
    "        Well — идентификатор скважины;\n",
    "        Por — пористость скважины (%);\n",
    "        Perm — проницаемость скважины;\n",
    "        AI — акустический импеданс (кгм);\n",
    "        Brittle — коэффициент хрупкости скважины (%);\n",
    "        TOC — общий органический углерод (%);\n",
    "        VR — коэффициент отражения витринита (%);\n",
    "        Prod — добыча газа в сутки (млн. кубических футов).\n",
    "\n",
    "Ваша задача — построить регрессионную модель, которая прогнозирует выработку газа на скважине (целевой признак — Prod) на основе остальных характеристик скважины, и проинтерпретировать результаты вашей модели.\n"
   ]
  },
  {
   "cell_type": "code",
   "execution_count": 75,
   "metadata": {},
   "outputs": [],
   "source": [
    "import numpy as np \n",
    "import pandas as pd \n",
    "import seaborn as sns \n",
    "import matplotlib.pyplot as plt \n",
    "%matplotlib inline"
   ]
  },
  {
   "cell_type": "code",
   "execution_count": 76,
   "metadata": {},
   "outputs": [
    {
     "data": {
      "text/html": [
       "<div>\n",
       "<style scoped>\n",
       "    .dataframe tbody tr th:only-of-type {\n",
       "        vertical-align: middle;\n",
       "    }\n",
       "\n",
       "    .dataframe tbody tr th {\n",
       "        vertical-align: top;\n",
       "    }\n",
       "\n",
       "    .dataframe thead th {\n",
       "        text-align: right;\n",
       "    }\n",
       "</style>\n",
       "<table border=\"1\" class=\"dataframe\">\n",
       "  <thead>\n",
       "    <tr style=\"text-align: right;\">\n",
       "      <th></th>\n",
       "      <th>Well</th>\n",
       "      <th>Por</th>\n",
       "      <th>Perm</th>\n",
       "      <th>AI</th>\n",
       "      <th>Brittle</th>\n",
       "      <th>TOC</th>\n",
       "      <th>VR</th>\n",
       "      <th>Prod</th>\n",
       "    </tr>\n",
       "  </thead>\n",
       "  <tbody>\n",
       "    <tr>\n",
       "      <th>0</th>\n",
       "      <td>1</td>\n",
       "      <td>12.08</td>\n",
       "      <td>2.92</td>\n",
       "      <td>2.80</td>\n",
       "      <td>81.40</td>\n",
       "      <td>1.16</td>\n",
       "      <td>2.31</td>\n",
       "      <td>4165.196191</td>\n",
       "    </tr>\n",
       "    <tr>\n",
       "      <th>1</th>\n",
       "      <td>2</td>\n",
       "      <td>12.38</td>\n",
       "      <td>3.53</td>\n",
       "      <td>3.22</td>\n",
       "      <td>46.17</td>\n",
       "      <td>0.89</td>\n",
       "      <td>1.88</td>\n",
       "      <td>3561.146205</td>\n",
       "    </tr>\n",
       "    <tr>\n",
       "      <th>2</th>\n",
       "      <td>3</td>\n",
       "      <td>14.02</td>\n",
       "      <td>2.59</td>\n",
       "      <td>4.01</td>\n",
       "      <td>72.80</td>\n",
       "      <td>0.89</td>\n",
       "      <td>2.72</td>\n",
       "      <td>4284.348574</td>\n",
       "    </tr>\n",
       "    <tr>\n",
       "      <th>3</th>\n",
       "      <td>4</td>\n",
       "      <td>17.67</td>\n",
       "      <td>6.75</td>\n",
       "      <td>2.63</td>\n",
       "      <td>39.81</td>\n",
       "      <td>1.08</td>\n",
       "      <td>1.88</td>\n",
       "      <td>5098.680869</td>\n",
       "    </tr>\n",
       "    <tr>\n",
       "      <th>4</th>\n",
       "      <td>5</td>\n",
       "      <td>17.52</td>\n",
       "      <td>4.57</td>\n",
       "      <td>3.18</td>\n",
       "      <td>10.94</td>\n",
       "      <td>1.51</td>\n",
       "      <td>1.90</td>\n",
       "      <td>3406.132832</td>\n",
       "    </tr>\n",
       "    <tr>\n",
       "      <th>...</th>\n",
       "      <td>...</td>\n",
       "      <td>...</td>\n",
       "      <td>...</td>\n",
       "      <td>...</td>\n",
       "      <td>...</td>\n",
       "      <td>...</td>\n",
       "      <td>...</td>\n",
       "      <td>...</td>\n",
       "    </tr>\n",
       "    <tr>\n",
       "      <th>195</th>\n",
       "      <td>196</td>\n",
       "      <td>11.95</td>\n",
       "      <td>3.13</td>\n",
       "      <td>2.97</td>\n",
       "      <td>67.18</td>\n",
       "      <td>0.80</td>\n",
       "      <td>2.06</td>\n",
       "      <td>3847.571003</td>\n",
       "    </tr>\n",
       "    <tr>\n",
       "      <th>196</th>\n",
       "      <td>197</td>\n",
       "      <td>17.99</td>\n",
       "      <td>9.87</td>\n",
       "      <td>3.38</td>\n",
       "      <td>44.32</td>\n",
       "      <td>0.98</td>\n",
       "      <td>2.08</td>\n",
       "      <td>5601.227131</td>\n",
       "    </tr>\n",
       "    <tr>\n",
       "      <th>197</th>\n",
       "      <td>198</td>\n",
       "      <td>12.12</td>\n",
       "      <td>2.27</td>\n",
       "      <td>3.52</td>\n",
       "      <td>57.07</td>\n",
       "      <td>-0.04</td>\n",
       "      <td>1.73</td>\n",
       "      <td>3409.575363</td>\n",
       "    </tr>\n",
       "    <tr>\n",
       "      <th>198</th>\n",
       "      <td>199</td>\n",
       "      <td>15.55</td>\n",
       "      <td>4.48</td>\n",
       "      <td>2.48</td>\n",
       "      <td>58.25</td>\n",
       "      <td>1.89</td>\n",
       "      <td>2.35</td>\n",
       "      <td>5087.592149</td>\n",
       "    </tr>\n",
       "    <tr>\n",
       "      <th>199</th>\n",
       "      <td>200</td>\n",
       "      <td>20.89</td>\n",
       "      <td>7.54</td>\n",
       "      <td>3.23</td>\n",
       "      <td>46.17</td>\n",
       "      <td>1.71</td>\n",
       "      <td>2.27</td>\n",
       "      <td>6662.622385</td>\n",
       "    </tr>\n",
       "  </tbody>\n",
       "</table>\n",
       "<p>200 rows × 8 columns</p>\n",
       "</div>"
      ],
      "text/plain": [
       "     Well    Por  Perm    AI  Brittle   TOC    VR         Prod\n",
       "0       1  12.08  2.92  2.80    81.40  1.16  2.31  4165.196191\n",
       "1       2  12.38  3.53  3.22    46.17  0.89  1.88  3561.146205\n",
       "2       3  14.02  2.59  4.01    72.80  0.89  2.72  4284.348574\n",
       "3       4  17.67  6.75  2.63    39.81  1.08  1.88  5098.680869\n",
       "4       5  17.52  4.57  3.18    10.94  1.51  1.90  3406.132832\n",
       "..    ...    ...   ...   ...      ...   ...   ...          ...\n",
       "195   196  11.95  3.13  2.97    67.18  0.80  2.06  3847.571003\n",
       "196   197  17.99  9.87  3.38    44.32  0.98  2.08  5601.227131\n",
       "197   198  12.12  2.27  3.52    57.07 -0.04  1.73  3409.575363\n",
       "198   199  15.55  4.48  2.48    58.25  1.89  2.35  5087.592149\n",
       "199   200  20.89  7.54  3.23    46.17  1.71  2.27  6662.622385\n",
       "\n",
       "[200 rows x 8 columns]"
      ]
     },
     "execution_count": 76,
     "metadata": {},
     "output_type": "execute_result"
    }
   ],
   "source": [
    "data = pd.read_csv('data/unconv.csv')\n",
    "data"
   ]
  },
  {
   "cell_type": "code",
   "execution_count": 77,
   "metadata": {},
   "outputs": [
    {
     "data": {
      "text/plain": [
       "<AxesSubplot: >"
      ]
     },
     "execution_count": 77,
     "metadata": {},
     "output_type": "execute_result"
    },
    {
     "data": {
      "image/png": "[encoded data removed]",
      "text/plain": [
       "<Figure size 640x480 with 2 Axes>"
      ]
     },
     "metadata": {},
     "output_type": "display_data"
    }
   ],
   "source": [
    "cm = data.corr()\n",
    "sns.heatmap(cm, annot=True, fmt='.2f', vmax=1, vmin=-1, cmap=\"crest\")"
   ]
  },
  {
   "cell_type": "code",
   "execution_count": 78,
   "metadata": {},
   "outputs": [
    {
     "data": {
      "text/plain": [
       "8"
      ]
     },
     "execution_count": 78,
     "metadata": {},
     "output_type": "execute_result"
    }
   ],
   "source": [
    "m = cm.values\n",
    "np.linalg.matrix_rank(m)"
   ]
  },
  {
   "cell_type": "code",
   "execution_count": 79,
   "metadata": {},
   "outputs": [
    {
     "data": {
      "text/plain": [
       "0.0007299388072652095"
      ]
     },
     "execution_count": 79,
     "metadata": {},
     "output_type": "execute_result"
    }
   ],
   "source": [
    "np.linalg.det(m)"
   ]
  },
  {
   "cell_type": "code",
   "execution_count": 80,
   "metadata": {},
   "outputs": [],
   "source": [
    "X = data.drop(columns='Prod')\n",
    "y = data['Prod']"
   ]
  },
  {
   "cell_type": "code",
   "execution_count": 81,
   "metadata": {},
   "outputs": [
    {
     "name": "stdout",
     "output_type": "stream",
     "text": [
      "[-1.23230803e+03  5.07003631e-02  2.30179140e+02  1.16239006e+02\n",
      " -3.65202301e+02  2.49943700e+01 -7.84009294e+01  7.85259815e+02]\n"
     ]
    }
   ],
   "source": [
    "A = np.column_stack((np.ones(200), X.values))\n",
    "b = y.values\n",
    "w = np.linalg.inv(A.T@A)@A.T@b\n",
    "print(w)"
   ]
  },
  {
   "cell_type": "code",
   "execution_count": 82,
   "metadata": {},
   "outputs": [],
   "source": [
    "v1 = np.array([106, 15.32, 3.71, 3.29, 55.99, 1.35, 2.42])\n",
    "pred = w[1:]@v1 + w[0]"
   ]
  },
  {
   "cell_type": "code",
   "execution_count": 83,
   "metadata": {},
   "outputs": [
    {
     "data": {
      "text/plain": [
       "25.25097029260087"
      ]
     },
     "execution_count": 83,
     "metadata": {},
     "output_type": "execute_result"
    }
   ],
   "source": [
    "4748.315024 - pred"
   ]
  },
  {
   "cell_type": "code",
   "execution_count": 84,
   "metadata": {},
   "outputs": [],
   "source": [
    "from sklearn import metrics"
   ]
  },
  {
   "cell_type": "code",
   "execution_count": 85,
   "metadata": {},
   "outputs": [
    {
     "data": {
      "text/plain": [
       "3.6279468451336507"
      ]
     },
     "execution_count": 85,
     "metadata": {},
     "output_type": "execute_result"
    }
   ],
   "source": [
    "v = X.values@w[1:] + w[0]\n",
    "mape = metrics.mean_absolute_percentage_error(b, v) * 100\n",
    "mape"
   ]
  },
  {
   "cell_type": "code",
   "execution_count": 86,
   "metadata": {},
   "outputs": [
    {
     "data": {
      "text/plain": [
       "Well         0.050700\n",
       "Por        230.179140\n",
       "Perm       116.239006\n",
       "AI        -365.202301\n",
       "Brittle     24.994370\n",
       "TOC        -78.400929\n",
       "VR         785.259815\n",
       "dtype: float64"
      ]
     },
     "execution_count": 86,
     "metadata": {},
     "output_type": "execute_result"
    }
   ],
   "source": [
    "pd.Series(w[1:], index=data.columns[:-1])"
   ]
  },
  {
   "cell_type": "code",
   "execution_count": 87,
   "metadata": {},
   "outputs": [],
   "source": [
    "X = data.drop(columns=['Well', 'Perm', 'TOC', 'Prod'])\n",
    "y = data['Prod']"
   ]
  },
  {
   "cell_type": "code",
   "execution_count": 88,
   "metadata": {},
   "outputs": [
    {
     "name": "stdout",
     "output_type": "stream",
     "text": [
      "Por        293.036246\n",
      "AI        -200.030912\n",
      "Brittle     27.640982\n",
      "VR         517.402726\n",
      "dtype: float64\n"
     ]
    },
    {
     "data": {
      "text/plain": [
       "array([-1835.44646069,   293.03624565,  -200.03091206,    27.64098209,\n",
       "         517.40272597])"
      ]
     },
     "execution_count": 88,
     "metadata": {},
     "output_type": "execute_result"
    }
   ],
   "source": [
    "A = np.column_stack((np.ones(200), X.values))\n",
    "b = y.values\n",
    "w = np.linalg.inv(A.T@A)@A.T@b\n",
    "print(pd.Series(w[1:], index=X.columns))\n",
    "w"
   ]
  },
  {
   "cell_type": "code",
   "execution_count": 89,
   "metadata": {},
   "outputs": [
    {
     "data": {
      "text/plain": [
       "4.044138420436113"
      ]
     },
     "execution_count": 89,
     "metadata": {},
     "output_type": "execute_result"
    }
   ],
   "source": [
    "v = X.values@w[1:] + w[0]\n",
    "mape = metrics.mean_absolute_percentage_error(b, v) * 100\n",
    "mape"
   ]
  },
  {
   "cell_type": "code",
   "execution_count": 90,
   "metadata": {},
   "outputs": [
    {
     "data": {
      "text/plain": [
       "29.799999999999997"
      ]
     },
     "execution_count": 90,
     "metadata": {},
     "output_type": "execute_result"
    }
   ],
   "source": [
    "10.4 + 8*1 + 0.5*4 + 3*1 + 0.4*16"
   ]
  },
  {
   "cell_type": "code",
   "execution_count": 91,
   "metadata": {},
   "outputs": [
    {
     "data": {
      "text/plain": [
       "array([ 0.11446013,  2.46095638, -0.01608801])"
      ]
     },
     "execution_count": 91,
     "metadata": {},
     "output_type": "execute_result"
    }
   ],
   "source": [
    "x = np.array([1, 3 ,-2, 9])\n",
    "y = np.array([3, 7, -5, 21])\n",
    "\n",
    "m = np.column_stack((np.ones(4), x, x*x))\n",
    "w = np.linalg.inv(m.T@m)@m.T@y\n",
    "w"
   ]
  },
  {
   "cell_type": "code",
   "execution_count": 92,
   "metadata": {},
   "outputs": [],
   "source": [
    "o = np.array([1, 1, 1, 1, 1])\n",
    "x1 = np.array([5, 9, 4, 3, 5])\n",
    "x2 = np.array([15, 18, 18, 19, 19])\n",
    "x3 = np.array([7, 6, 7, 7, 7])\n",
    "y = np.array([24, 22, 35, 33, 36])\n",
    "\n",
    "m = np.array([o, x1, x2, x3]).T\n",
    "alpha = 1\n",
    "E = np.eye(4)"
   ]
  },
  {
   "cell_type": "code",
   "execution_count": 93,
   "metadata": {},
   "outputs": [
    {
     "data": {
      "text/plain": [
       "array([[ 1,  5, 15,  7],\n",
       "       [ 1,  9, 18,  6],\n",
       "       [ 1,  4, 18,  7],\n",
       "       [ 1,  3, 19,  7],\n",
       "       [ 1,  5, 19,  7]])"
      ]
     },
     "execution_count": 93,
     "metadata": {},
     "output_type": "execute_result"
    }
   ],
   "source": [
    "m"
   ]
  },
  {
   "cell_type": "code",
   "execution_count": 94,
   "metadata": {},
   "outputs": [
    {
     "data": {
      "text/plain": [
       "array([-0.09, -1.71,  1.91,  0.73])"
      ]
     },
     "execution_count": 94,
     "metadata": {},
     "output_type": "execute_result"
    }
   ],
   "source": [
    "w = np.linalg.inv(m.T@m + alpha*E)@m.T@y\n",
    "np.round(w, 2)"
   ]
  },
  {
   "cell_type": "code",
   "execution_count": 95,
   "metadata": {},
   "outputs": [],
   "source": [
    "X = data.drop(columns=['Well', 'Perm', 'TOC', 'Prod'])\n",
    "y = data['Prod']"
   ]
  },
  {
   "attachments": {},
   "cell_type": "markdown",
   "metadata": {},
   "source": [
    "Сгенерируйте полиномиальные признаки третьего порядка на факторах, которые вы выбрали для обучения моделей. Для этого воспользуйтесь генератором полиномов PolynomialFeatures из библиотеки sklearn. Параметр include_bias установите в значение False.\n",
    "1. Сколько факторов у вас получилось после генерации полиномиальных признаков?"
   ]
  },
  {
   "cell_type": "code",
   "execution_count": 96,
   "metadata": {},
   "outputs": [],
   "source": [
    "from sklearn.preprocessing import PolynomialFeatures\n",
    "from sklearn import linear_model\n",
    "poly = PolynomialFeatures(degree=3, include_bias=False)\n",
    "lin_reg = linear_model.LinearRegression()"
   ]
  },
  {
   "cell_type": "code",
   "execution_count": 97,
   "metadata": {},
   "outputs": [
    {
     "data": {
      "text/plain": [
       "(200, 34)"
      ]
     },
     "execution_count": 97,
     "metadata": {},
     "output_type": "execute_result"
    }
   ],
   "source": [
    "A = X.values\n",
    "A_poly = poly.fit_transform(A)\n",
    "pd.DataFrame(A_poly).shape"
   ]
  },
  {
   "cell_type": "code",
   "execution_count": 98,
   "metadata": {},
   "outputs": [
    {
     "name": "stdout",
     "output_type": "stream",
     "text": [
      "MAPE on train: 1.7732404749850912\n",
      "MAPE on validation: 2.6808754501405665\n"
     ]
    }
   ],
   "source": [
    "from sklearn.model_selection import cross_validate\n",
    "cv_results = cross_validate(\n",
    "    lin_reg, \n",
    "    A_poly, \n",
    "    y, \n",
    "    scoring='neg_mean_absolute_percentage_error', \n",
    "    cv=5, \n",
    "    return_train_score=True)\n",
    "print(f\"MAPE on train: {-cv_results['train_score'].mean()* 100}\")\n",
    "print(f\"MAPE on validation: {-cv_results['test_score'].mean()* 100}\")"
   ]
  },
  {
   "cell_type": "code",
   "execution_count": 99,
   "metadata": {},
   "outputs": [
    {
     "name": "stderr",
     "output_type": "stream",
     "text": [
      "/home/egor/.local/lib/python3.10/site-packages/sklearn/linear_model/_coordinate_descent.py:648: ConvergenceWarning: Objective did not converge. You might want to increase the number of iterations, check the scale of the features or consider increasing regularisation. Duality gap: 1.324e+06, tolerance: 1.958e+04\n",
      "  model = cd_fast.enet_coordinate_descent(\n",
      "/home/egor/.local/lib/python3.10/site-packages/sklearn/linear_model/_coordinate_descent.py:648: ConvergenceWarning: Objective did not converge. You might want to increase the number of iterations, check the scale of the features or consider increasing regularisation. Duality gap: 1.087e+06, tolerance: 1.612e+04\n",
      "  model = cd_fast.enet_coordinate_descent(\n",
      "/home/egor/.local/lib/python3.10/site-packages/sklearn/linear_model/_coordinate_descent.py:648: ConvergenceWarning: Objective did not converge. You might want to increase the number of iterations, check the scale of the features or consider increasing regularisation. Duality gap: 1.066e+06, tolerance: 1.545e+04\n",
      "  model = cd_fast.enet_coordinate_descent(\n",
      "/home/egor/.local/lib/python3.10/site-packages/sklearn/linear_model/_coordinate_descent.py:648: ConvergenceWarning: Objective did not converge. You might want to increase the number of iterations, check the scale of the features or consider increasing regularisation. Duality gap: 1.077e+06, tolerance: 1.617e+04\n",
      "  model = cd_fast.enet_coordinate_descent(\n"
     ]
    },
    {
     "name": "stdout",
     "output_type": "stream",
     "text": [
      "MAPE on train: 1.895728885919324\n",
      "MAPE on validation: 2.3767724735735674\n"
     ]
    },
    {
     "name": "stderr",
     "output_type": "stream",
     "text": [
      "/home/egor/.local/lib/python3.10/site-packages/sklearn/linear_model/_coordinate_descent.py:648: ConvergenceWarning: Objective did not converge. You might want to increase the number of iterations, check the scale of the features or consider increasing regularisation. Duality gap: 9.156e+05, tolerance: 1.582e+04\n",
      "  model = cd_fast.enet_coordinate_descent(\n",
      "/home/egor/.local/lib/python3.10/site-packages/sklearn/linear_model/_coordinate_descent.py:648: ConvergenceWarning: Objective did not converge. You might want to increase the number of iterations, check the scale of the features or consider increasing regularisation. Duality gap: 9.197e+05, tolerance: 1.474e+04\n",
      "  model = cd_fast.enet_coordinate_descent(\n"
     ]
    }
   ],
   "source": [
    "from sklearn.linear_model import Ridge, Lasso\n",
    "from sklearn.preprocessing import StandardScaler\n",
    "scaler = StandardScaler()\n",
    "X = scaler.fit_transform(X)\n",
    "lasso = Lasso(alpha=5, max_iter=10000)\n",
    "lasso.fit(A_poly, y)\n",
    "cv_results = cross_validate(\n",
    "    lasso, \n",
    "    A_poly, \n",
    "    y, \n",
    "    scoring='neg_mean_absolute_percentage_error', \n",
    "    cv=5, \n",
    "    return_train_score=True)\n",
    "print(f\"MAPE on train: {-cv_results['train_score'].mean()* 100}\")\n",
    "print(f\"MAPE on validation: {-cv_results['test_score'].mean()* 100}\")"
   ]
  },
  {
   "cell_type": "code",
   "execution_count": 100,
   "metadata": {},
   "outputs": [
    {
     "name": "stdout",
     "output_type": "stream",
     "text": [
      "MAPE on train: 1.8248556259307511\n",
      "MAPE on validation: 2.5093252183801966\n"
     ]
    }
   ],
   "source": [
    "\n",
    "ridge = Ridge(alpha=1)\n",
    "ridge.fit(A_poly, y)\n",
    "cv_results = cross_validate(\n",
    "    ridge, \n",
    "    A_poly, \n",
    "    y, \n",
    "    scoring='neg_mean_absolute_percentage_error', \n",
    "    cv=5, \n",
    "    return_train_score=True)\n",
    "print(f\"MAPE on train: {-cv_results['train_score'].mean()* 100}\")\n",
    "print(f\"MAPE on validation: {-cv_results['test_score'].mean()* 100}\")"
   ]
  },
  {
   "cell_type": "code",
   "execution_count": 102,
   "metadata": {},
   "outputs": [
    {
     "data": {
      "text/plain": [
       "array([[ 1,  3,  5],\n",
       "       [ 4, -4,  9],\n",
       "       [13,  7, 12]])"
      ]
     },
     "execution_count": 102,
     "metadata": {},
     "output_type": "execute_result"
    }
   ],
   "source": [
    "a = np.array([[1,3,5], \n",
    "              [4,-4,9],\n",
    "              [13,7,12]])\n",
    "a"
   ]
  },
  {
   "cell_type": "code",
   "execution_count": 104,
   "metadata": {},
   "outputs": [
    {
     "name": "stdout",
     "output_type": "stream",
     "text": [
      "Собственные числа: \n",
      " [20. -4. -7.]\n",
      "Собственные векторы: \n",
      " [[-0.29813912 -0.73141292  0.25078429]\n",
      " [-0.38491044  0.59044076 -0.95097448]\n",
      " [-0.87347411  0.34119621  0.18098281]]\n"
     ]
    }
   ],
   "source": [
    "eig_values, eig_vectors = np.linalg.eig(a)\n",
    "print('Собственные числа: \\n', np.round(eig_values))\n",
    "print('Собственные векторы: \\n', eig_vectors)"
   ]
  },
  {
   "cell_type": "code",
   "execution_count": 105,
   "metadata": {},
   "outputs": [
    {
     "name": "stdout",
     "output_type": "stream",
     "text": [
      "Собственные числа: \n",
      " [391.  46.  16.]\n",
      "Собственные векторы: \n",
      " [[-0.41955589 -0.7323045  -0.5363795 ]\n",
      " [-0.55709648  0.67425896 -0.48478693]\n",
      " [-0.71667034 -0.09541992  0.69085358]]\n"
     ]
    }
   ],
   "source": [
    "m = np.array([[1,9,4], \n",
    "              [9,4,7],\n",
    "              [4,7,12]])\n",
    "\n",
    "g = m.T@m\n",
    "eig_values, eig_vectors = np.linalg.eig(g)\n",
    "print('Собственные числа: \\n', np.round(eig_values))\n",
    "print('Собственные векторы: \\n', eig_vectors)"
   ]
  },
  {
   "cell_type": "code",
   "execution_count": 106,
   "metadata": {},
   "outputs": [
    {
     "data": {
      "text/plain": [
       "array([[ 98,  73, 115],\n",
       "       [ 73, 146, 148],\n",
       "       [115, 148, 209]])"
      ]
     },
     "execution_count": 106,
     "metadata": {},
     "output_type": "execute_result"
    }
   ],
   "source": [
    "g"
   ]
  },
  {
   "cell_type": "code",
   "execution_count": 108,
   "metadata": {},
   "outputs": [
    {
     "name": "stdout",
     "output_type": "stream",
     "text": [
      "Собственные числа: \n",
      " [1.9922 0.0078]\n",
      "Собственные векторы: \n",
      " [[ 0.70710678 -0.70710678]\n",
      " [ 0.70710678  0.70710678]]\n"
     ]
    }
   ],
   "source": [
    "C = np.array([[1, 0.9922], [0.9922, 1]])\n",
    "eig_values, eig_vectors = np.linalg.eig(C)\n",
    "print('Собственные числа: \\n', eig_values)\n",
    "print('Собственные векторы: \\n', eig_vectors)"
   ]
  },
  {
   "cell_type": "code",
   "execution_count": 118,
   "metadata": {},
   "outputs": [
    {
     "data": {
      "text/plain": [
       "array([-0.24,  0.86, -0.29, -0.33])"
      ]
     },
     "execution_count": 118,
     "metadata": {},
     "output_type": "execute_result"
    }
   ],
   "source": [
    "x1 = np.array([1, 2, 1, 1]).T\n",
    "x2 = np.array([70,130,65,60]).T\n",
    "x1_cent = x1 - x1.mean()\n",
    "x2_cent = x2 - x2.mean()\n",
    "x1_st = x1_cent/np.linalg.norm(x1)\n",
    "x2_st = x2_cent/np.linalg.norm(x2)\n",
    "NF = eig_vectors[0][0]*x1_st + eig_vectors[1][0]*x2_st\n",
    "NF_new = (NF - NF.mean()) / np.linalg.norm(NF)\n",
    "np.round(NF_new, 2)"
   ]
  },
  {
   "cell_type": "code",
   "execution_count": null,
   "metadata": {},
   "outputs": [],
   "source": []
  }
 ],
 "metadata": {
  "kernelspec": {
   "display_name": "Python 3",
   "language": "python",
   "name": "python3"
  },
  "language_info": {
   "codemirror_mode": {
    "name": "ipython",
    "version": 3
   },
   "file_extension": ".py",
   "mimetype": "text/x-python",
   "name": "python",
   "nbconvert_exporter": "python",
   "pygments_lexer": "ipython3",
   "version": "3.10.6"
  },
  "orig_nbformat": 4,
  "vscode": {
   "interpreter": {
    "hash": "916dbcbb3f70747c44a77c7bcd40155683ae19c65e1c03b4aa3499c5328201f1"
   }
  }
 },
 "nbformat": 4,
 "nbformat_minor": 2
}
