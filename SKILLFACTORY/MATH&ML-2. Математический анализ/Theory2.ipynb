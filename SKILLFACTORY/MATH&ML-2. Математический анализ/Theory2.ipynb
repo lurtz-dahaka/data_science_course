{
 "cells": [
  {
   "attachments": {},
   "cell_type": "markdown",
   "metadata": {},
   "source": [
    "Давайте рассмотрим, как с помощью функций Python мы сможем применить квазиньютоновские методы для оптимизации функции\n",
    "\n",
    ".\n",
    "\n",
    "Подгрузим необходимые библиотеки:"
   ]
  },
  {
   "cell_type": "code",
   "execution_count": 2,
   "metadata": {},
   "outputs": [],
   "source": [
    "import numpy as np\n",
    "from scipy.optimize import minimize"
   ]
  },
  {
   "attachments": {},
   "cell_type": "markdown",
   "metadata": {},
   "source": [
    "Определим функцию, которую будем оптимизировать. Вместо отдельных и  можно взять координаты единого вектора:"
   ]
  },
  {
   "cell_type": "code",
   "execution_count": 3,
   "metadata": {},
   "outputs": [],
   "source": [
    "def func(x):\n",
    "    return x[0]**2.0 + x[1]**2.0"
   ]
  },
  {
   "attachments": {},
   "cell_type": "markdown",
   "metadata": {},
   "source": [
    "Теперь определим градиент для функции:"
   ]
  },
  {
   "cell_type": "code",
   "execution_count": 4,
   "metadata": {},
   "outputs": [],
   "source": [
    "def grad_func(x):\n",
    "    return np.array([x[0] * 2, x[1] * 2])"
   ]
  },
  {
   "attachments": {},
   "cell_type": "markdown",
   "metadata": {},
   "source": [
    "Зададим начальную точку:"
   ]
  },
  {
   "cell_type": "code",
   "execution_count": 5,
   "metadata": {},
   "outputs": [],
   "source": [
    "x_0 = [1.0, 1.0]"
   ]
  },
  {
   "attachments": {},
   "cell_type": "markdown",
   "metadata": {},
   "source": [
    "Определим алгоритм:"
   ]
  },
  {
   "cell_type": "code",
   "execution_count": 6,
   "metadata": {},
   "outputs": [],
   "source": [
    "result = minimize(func, x_0, method='BFGS', jac=grad_func)"
   ]
  },
  {
   "attachments": {},
   "cell_type": "markdown",
   "metadata": {},
   "source": [
    "Выведем результаты:"
   ]
  },
  {
   "cell_type": "code",
   "execution_count": 7,
   "metadata": {},
   "outputs": [
    {
     "name": "stdout",
     "output_type": "stream",
     "text": [
      "Статус оптимизации Optimization terminated successfully.\n",
      "Количество оценок: 3\n",
      "Решение: f([0. 0.]) = 0.00000\n"
     ]
    },
    {
     "data": {
      "text/plain": [
       "      fun: 0.0\n",
       " hess_inv: array([[ 0.75, -0.25],\n",
       "       [-0.25,  0.75]])\n",
       "      jac: array([0., 0.])\n",
       "  message: 'Optimization terminated successfully.'\n",
       "     nfev: 3\n",
       "      nit: 2\n",
       "     njev: 3\n",
       "   status: 0\n",
       "  success: True\n",
       "        x: array([0., 0.])"
      ]
     },
     "execution_count": 7,
     "metadata": {},
     "output_type": "execute_result"
    }
   ],
   "source": [
    "print('Статус оптимизации %s' % result['message'])\n",
    "print('Количество оценок: %d' % result['nfev'])\n",
    "solution = result['x']\n",
    "evaluation = func(solution)\n",
    "print('Решение: f(%s) = %.5f' % (solution, evaluation))\n",
    "result"
   ]
  },
  {
   "attachments": {},
   "cell_type": "markdown",
   "metadata": {},
   "source": [
    "Итак, мы получили, что минимум функции достигается в точке . Значение функции в этой точке также равно нулю.\n",
    "\n",
    "Можно повторить то же самое с вариацией  L-BFGS-B:"
   ]
  },
  {
   "cell_type": "code",
   "execution_count": 8,
   "metadata": {},
   "outputs": [
    {
     "name": "stdout",
     "output_type": "stream",
     "text": [
      "Статус оптимизации CONVERGENCE: NORM_OF_PROJECTED_GRADIENT_<=_PGTOL\n",
      "Количество оценок: 3\n",
      "Решение: f([0. 0.]) = 0.00000\n"
     ]
    },
    {
     "data": {
      "text/plain": [
       "      fun: 0.0\n",
       " hess_inv: <2x2 LbfgsInvHessProduct with dtype=float64>\n",
       "      jac: array([0., 0.])\n",
       "  message: 'CONVERGENCE: NORM_OF_PROJECTED_GRADIENT_<=_PGTOL'\n",
       "     nfev: 3\n",
       "      nit: 2\n",
       "     njev: 3\n",
       "   status: 0\n",
       "  success: True\n",
       "        x: array([0., 0.])"
      ]
     },
     "execution_count": 8,
     "metadata": {},
     "output_type": "execute_result"
    }
   ],
   "source": [
    "# определяем нашу функцию\n",
    "def func(x):\n",
    "    return x[0]**2.0 + x[1]**2.0\n",
    " \n",
    "#  определяем градиент функции\n",
    "def grad_func(x):\n",
    "    return np.array([x[0] * 2, x[1] * 2])\n",
    " \n",
    "# определяем начальную точку\n",
    "x_0 = [1, 1]\n",
    "# реализуем алгоритм L-BFGS-B\n",
    "result = minimize(func, x_0, method='L-BFGS-B', jac=grad_func)\n",
    "# получаем результат\n",
    "print('Статус оптимизации %s' % result['message'])\n",
    "print('Количество оценок: %d' % result['nfev'])\n",
    "solution = result['x']\n",
    "evaluation = func(solution)\n",
    "print('Решение: f(%s) = %.5f' % (solution, evaluation))\n",
    "result"
   ]
  },
  {
   "attachments": {},
   "cell_type": "markdown",
   "metadata": {},
   "source": [
    "Иногда количество итераций у двух модификаций различается, но ответ совпадает. Бывает также, что одна из вариаций может не сойтись, а другая — достичь экстремума, поэтому советуем не воспринимать их как взаимозаменяемые алгоритмы. На практике лучше пробовать разные варианты: если у вас не сошёлся алгоритм BFGS, можно попробовать L-BFGS-B, и наоборот. Также можно экспериментировать одновременно с обоими алгоритмами, чтобы выбрать тот, который будет сходиться для функции за меньшее число итераций и тем самым экономить время.\n",
    "\n",
    "→ Важно понимать, что для некоторых функций не из всех стартовых точек получается достичь сходимости метода. Тогда их можно перебирать, к примеру, с помощью цикла.\n",
    "\n",
    "✍ Итак, мы обсудили один из самых эффективных на сегодняшний день алгоритмов — вариацию BFGS квазиньютоновских методов. Вы будете регулярно сталкиваться с этим алгоритмом при решении различных задач и при использовании библиотек для оптимизации. Так что давайте попрактикуемся: в этом юните мы посмотрели фрагмент поэтапного разбора метода BFGS для функции\n",
    "— давайте завершим начатое и найдём точку минимума ↓"
   ]
  },
  {
   "attachments": {},
   "cell_type": "markdown",
   "metadata": {},
   "source": [
    " Задание 4.1\n",
    "\n",
    "Найдите точку минимума для функции.\n",
    "\n",
    "В качестве стартовой возьмите точку.\n",
    "\n",
    "Значения координат округлите до целого числа."
   ]
  },
  {
   "cell_type": "code",
   "execution_count": 9,
   "metadata": {},
   "outputs": [
    {
     "name": "stdout",
     "output_type": "stream",
     "text": [
      "Статус оптимизации CONVERGENCE: NORM_OF_PROJECTED_GRADIENT_<=_PGTOL\n",
      "Количество оценок: 9\n",
      "Решение: f([-3.99999972  1.00000028]) = -1\n"
     ]
    },
    {
     "data": {
      "text/plain": [
       "      fun: -0.9999999999999218\n",
       " hess_inv: <2x2 LbfgsInvHessProduct with dtype=float64>\n",
       "      jac: array([2.90029792e-07, 2.72413962e-07])\n",
       "  message: 'CONVERGENCE: NORM_OF_PROJECTED_GRADIENT_<=_PGTOL'\n",
       "     nfev: 9\n",
       "      nit: 4\n",
       "     njev: 9\n",
       "   status: 0\n",
       "  success: True\n",
       "        x: array([-3.99999972,  1.00000028])"
      ]
     },
     "execution_count": 9,
     "metadata": {},
     "output_type": "execute_result"
    }
   ],
   "source": [
    "# определяем нашу функцию\n",
    "def func(x):\n",
    "    return x[0]**2.0 - x[0]*x[1] + x[1]**2.0 + 9*x[0] - 6*x[1] + 20\n",
    " \n",
    "#  определяем градиент функции\n",
    "def grad_func(x):\n",
    "    return np.array([2*x[0] - x[1] + 9, -x[0] + 2*x[1] - 6])\n",
    " \n",
    "# определяем начальную точку\n",
    "x_0 = [-400, -400]\n",
    "# реализуем алгоритм L-BFGS-B\n",
    "result = minimize(func, x_0, method='L-BFGS-B', jac=grad_func)\n",
    "# получаем результат\n",
    "print('Статус оптимизации %s' % result['message'])\n",
    "print('Количество оценок: %d' % result['nfev'])\n",
    "solution = result['x']\n",
    "evaluation = func(solution)\n",
    "print('Решение: f(%s) = %.0f' % (solution, evaluation))\n",
    "result"
   ]
  },
  {
   "attachments": {},
   "cell_type": "markdown",
   "metadata": {},
   "source": [
    "Задание 4.4\n",
    "\n",
    "Найдите минимум функции\n",
    "\n",
    "с помощью квазиньютоновского метода BFGS.\n",
    "\n",
    "В качестве стартовой точки возьмите .\n",
    "\n",
    "В качестве ответа введите минимальное значение функции в достигнутой точке."
   ]
  },
  {
   "cell_type": "code",
   "execution_count": 10,
   "metadata": {},
   "outputs": [
    {
     "name": "stdout",
     "output_type": "stream",
     "text": [
      "Статус оптимизации Optimization terminated successfully.\n",
      "Количество оценок: 5\n",
      "Решение: f([1.5]) = 43\n"
     ]
    },
    {
     "data": {
      "text/plain": [
       "      fun: 42.75\n",
       " hess_inv: array([[0.5]])\n",
       "      jac: array([0.])\n",
       "  message: 'Optimization terminated successfully.'\n",
       "     nfev: 5\n",
       "      nit: 4\n",
       "     njev: 5\n",
       "   status: 0\n",
       "  success: True\n",
       "        x: array([1.5])"
      ]
     },
     "execution_count": 10,
     "metadata": {},
     "output_type": "execute_result"
    }
   ],
   "source": [
    "# определяем нашу функцию\n",
    "def func(x):\n",
    "    return x**2 - 3*x + 45\n",
    " \n",
    "#  определяем градиент функции\n",
    "def grad_func(x):\n",
    "    return 2*x - 3\n",
    "\n",
    "x_0 = 10\n",
    "# реализуем алгоритм BFGS\n",
    "result = minimize(func, x_0, method='BFGS', jac=grad_func)\n",
    "# получаем результат\n",
    "print('Статус оптимизации %s' % result['message'])\n",
    "print('Количество оценок: %d' % result['nfev'])\n",
    "solution = result['x']\n",
    "evaluation = func(solution)\n",
    "print('Решение: f(%s) = %.0f' % (solution, evaluation))\n",
    "result"
   ]
  },
  {
   "attachments": {},
   "cell_type": "markdown",
   "metadata": {},
   "source": [
    "Задание 4.5\n",
    "\n",
    "Решите предыдущую задачу, применяя модификацию L-BFGS-B.\n",
    "В каком случае получилось меньше итераций?\n"
   ]
  },
  {
   "cell_type": "code",
   "execution_count": 11,
   "metadata": {},
   "outputs": [
    {
     "name": "stdout",
     "output_type": "stream",
     "text": [
      "Статус оптимизации CONVERGENCE: NORM_OF_PROJECTED_GRADIENT_<=_PGTOL\n",
      "Количество оценок: 3\n",
      "Решение: f([1.5]) = 43\n"
     ]
    },
    {
     "data": {
      "text/plain": [
       "      fun: 42.75\n",
       " hess_inv: <1x1 LbfgsInvHessProduct with dtype=float64>\n",
       "      jac: array([0.])\n",
       "  message: 'CONVERGENCE: NORM_OF_PROJECTED_GRADIENT_<=_PGTOL'\n",
       "     nfev: 3\n",
       "      nit: 2\n",
       "     njev: 3\n",
       "   status: 0\n",
       "  success: True\n",
       "        x: array([1.5])"
      ]
     },
     "execution_count": 11,
     "metadata": {},
     "output_type": "execute_result"
    }
   ],
   "source": [
    "# определяем нашу функцию\n",
    "def func(x):\n",
    "    return x**2 - 3*x + 45\n",
    " \n",
    "#  определяем градиент функции\n",
    "def grad_func(x):\n",
    "    return 2*x - 3\n",
    "\n",
    "x_0 = 10\n",
    "# реализуем алгоритм L-BFGS-B\n",
    "result = minimize(func, x_0, method='L-BFGS-B', jac=grad_func)\n",
    "# получаем результат\n",
    "print('Статус оптимизации %s' % result['message'])\n",
    "print('Количество оценок: %d' % result['nfev'])\n",
    "solution = result['x']\n",
    "evaluation = func(solution)\n",
    "print('Решение: f(%s) = %.0f' % (solution, evaluation))\n",
    "result"
   ]
  },
  {
   "attachments": {},
   "cell_type": "markdown",
   "metadata": {},
   "source": [
    " Задание 4.7\n",
    "\n",
    "Найдите минимум функции\n",
    "\n",
    ", взяв за стартовую точку .\n",
    "Какой алгоритм сошелся быстрее?\n"
   ]
  },
  {
   "cell_type": "code",
   "execution_count": 12,
   "metadata": {},
   "outputs": [
    {
     "name": "stdout",
     "output_type": "stream",
     "text": [
      "Статус оптимизации ABNORMAL_TERMINATION_IN_LNSRCH\n",
      "Количество оценок: 80\n",
      "Решение: f([ 6.30130329 96.09299241]) = -53817\n"
     ]
    },
    {
     "data": {
      "text/plain": [
       "      fun: -53816.57909549914\n",
       " hess_inv: <2x2 LbfgsInvHessProduct with dtype=float64>\n",
       "      jac: array([1000.80886128, 1153.11590889])\n",
       "  message: 'ABNORMAL_TERMINATION_IN_LNSRCH'\n",
       "     nfev: 80\n",
       "      nit: 11\n",
       "     njev: 80\n",
       "   status: 2\n",
       "  success: False\n",
       "        x: array([ 6.30130329, 96.09299241])"
      ]
     },
     "execution_count": 12,
     "metadata": {},
     "output_type": "execute_result"
    }
   ],
   "source": [
    "# определяем нашу функцию\n",
    "def func(x):\n",
    "    return x[0]**4 - 6*x[1]**2 + 10\n",
    "\n",
    "#  определяем градиент функции\n",
    "def grad_func(x):\n",
    "    return np.array([4*x[0]**3, 12*x[1]])\n",
    " \n",
    "# определяем начальную точку\n",
    "x_0 = [100, 100]\n",
    "# реализуем алгоритм L-BFGS-B\n",
    "result = minimize(func, x_0, method='L-BFGS-B', jac=grad_func)\n",
    "# получаем результат\n",
    "print('Статус оптимизации %s' % result['message'])\n",
    "print('Количество оценок: %d' % result['nfev'])\n",
    "solution = result['x']\n",
    "evaluation = func(solution)\n",
    "print('Решение: f(%s) = %.0f' % (solution, evaluation))\n",
    "result"
   ]
  },
  {
   "cell_type": "code",
   "execution_count": 13,
   "metadata": {},
   "outputs": [
    {
     "name": "stdout",
     "output_type": "stream",
     "text": [
      "Статус оптимизации Optimization terminated successfully.\n",
      "Количество оценок: 37\n",
      "Решение: f([1.16598340e-02 1.25599922e-18]) = 10\n"
     ]
    },
    {
     "data": {
      "text/plain": [
       "      fun: 10.000000018482872\n",
       " hess_inv: array([[2.56856945e+02, 2.02286677e-11],\n",
       "       [2.02286677e-11, 7.55805328e-02]])\n",
       "      jac: array([6.34069831e-06, 1.50719906e-17])\n",
       "  message: 'Optimization terminated successfully.'\n",
       "     nfev: 37\n",
       "      nit: 34\n",
       "     njev: 37\n",
       "   status: 0\n",
       "  success: True\n",
       "        x: array([1.16598340e-02, 1.25599922e-18])"
      ]
     },
     "execution_count": 13,
     "metadata": {},
     "output_type": "execute_result"
    }
   ],
   "source": [
    "# определяем нашу функцию\n",
    "def func(x):\n",
    "    return x[0]**4 - 6*x[1]**2 + 10\n",
    "\n",
    "#  определяем градиент функции\n",
    "def grad_func(x):\n",
    "    return np.array([4*x[0]**3, 12*x[1]])\n",
    " \n",
    "# определяем начальную точку\n",
    "x_0 = [100, 100]\n",
    "# реализуем алгоритм BFGS\n",
    "result = minimize(func, x_0, method='BFGS', jac=grad_func)\n",
    "# получаем результат\n",
    "print('Статус оптимизации %s' % result['message'])\n",
    "print('Количество оценок: %d' % result['nfev'])\n",
    "solution = result['x']\n",
    "evaluation = func(solution)\n",
    "print('Решение: f(%s) = %.0f' % (solution, evaluation))\n",
    "result"
   ]
  },
  {
   "attachments": {},
   "cell_type": "markdown",
   "metadata": {},
   "source": [
    "## Пример № 1. SciPy (scipy.optimize.linprog)\n",
    "\n",
    "У нас есть 6 товаров с заданными ценами на них и заданной массой.\n",
    "\n",
    "Вместимость сумки, в которую мы можем положить товары, заранее известна и равна 15 кг.\n",
    "\n",
    "Какой товар и в каком объёме необходимо взять, чтобы сумма всех цен товаров была максимальной?"
   ]
  },
  {
   "attachments": {},
   "cell_type": "markdown",
   "metadata": {},
   "source": [
    "Создадим переменные на основе предложенных данных:"
   ]
  },
  {
   "cell_type": "code",
   "execution_count": 14,
   "metadata": {},
   "outputs": [],
   "source": [
    "import numpy as np"
   ]
  },
  {
   "cell_type": "code",
   "execution_count": 15,
   "metadata": {},
   "outputs": [],
   "source": [
    "values = [4, 2, 1, 7, 3, 6] #стоимости товаров\n",
    "weights = [5, 9, 8, 2, 6, 5] #вес товаров\n",
    "C = 15 #вместимость сумки\n",
    "n = 6 #количество товаров"
   ]
  },
  {
   "attachments": {},
   "cell_type": "markdown",
   "metadata": {},
   "source": [
    "Сформулируем задачу линейного программирования. Максимизируем произведение стоимости на количество, учитывая, что произведение веса на искомое количество товаров должно укладываться во вместимость сумки:\n",
    "\n",
    "Из предыдущего юнита мы уже знаем, что в векторно-матричной форме наша задача должна формулироваться в следующем виде:\n",
    "\n",
    "Получается, что в наших обозначениях мы имеем следующее:\n",
    "\n",
    "Здесь нам необходимо вспомнить линейную алгебру, так как очень важно, чтобы векторы были в нужных нам размерностях, иначе мы не сможем использовать матричное умножение. Вектор размера мы превращаем в матрицу размера с помощью функции expand_dims(). Создаём все необходимые переменные:"
   ]
  },
  {
   "cell_type": "code",
   "execution_count": 16,
   "metadata": {},
   "outputs": [
    {
     "name": "stdout",
     "output_type": "stream",
     "text": [
      "[5 9 8 2 6 5]\n",
      "[[5 9 8 2 6 5]]\n"
     ]
    }
   ],
   "source": [
    "c = - np.array(values) #изменяем знак, чтобы перейти от задачи максимизации к задаче минимизации\n",
    "A = np.array(weights)  #конвертируем список с весами в массив\n",
    "print(A)\n",
    "A = np.expand_dims(A, 0) #преобразуем размерность массива\n",
    "print(A)\n",
    "b = np.array([C]) #конвертируем вместимость в массив"
   ]
  },
  {
   "attachments": {},
   "cell_type": "markdown",
   "metadata": {},
   "source": [
    "Передаём подготовленные переменные в оптимизатор SciPy:"
   ]
  },
  {
   "cell_type": "code",
   "execution_count": 17,
   "metadata": {},
   "outputs": [
    {
     "data": {
      "text/plain": [
       "           con: array([], dtype=float64)\n",
       " crossover_nit: 0\n",
       "         eqlin:  marginals: array([], dtype=float64)\n",
       "  residual: array([], dtype=float64)\n",
       "           fun: -52.5\n",
       "       ineqlin:  marginals: array([-3.5])\n",
       "  residual: array([0.])\n",
       "         lower:  marginals: array([13.5, 29.5, 27. ,  0. , 18. , 11.5])\n",
       "  residual: array([0. , 0. , 0. , 7.5, 0. , 0. ])\n",
       "       message: 'Optimization terminated successfully. (HiGHS Status 7: Optimal)'\n",
       "           nit: 0\n",
       "         slack: array([0.])\n",
       "        status: 0\n",
       "       success: True\n",
       "         upper:  marginals: array([0., 0., 0., 0., 0., 0.])\n",
       "  residual: array([inf, inf, inf, inf, inf, inf])\n",
       "             x: array([0. , 0. , 0. , 7.5, 0. , 0. ])"
      ]
     },
     "execution_count": 17,
     "metadata": {},
     "output_type": "execute_result"
    }
   ],
   "source": [
    "from scipy.optimize import linprog\n",
    "linprog(c=c, A_ub=A, b_ub=b)"
   ]
  },
  {
   "attachments": {},
   "cell_type": "markdown",
   "metadata": {},
   "source": [
    "Получаем искомое значение функции —  (в выводе значение с минусом, но мы меняем знак, возвращаясь к задаче максимизации). . Таким образом, мы взяли только самую дорогую, четвёртую вещь. Она одна весит 2 кг, а если взять её 7.5 раз, то получится как раз 15 кг. Отлично, задача решена."
   ]
  },
  {
   "attachments": {},
   "cell_type": "markdown",
   "metadata": {},
   "source": [
    "## Пример № 2. CVXPY\n",
    "\n",
    "Снова решим задачу из примера № 1, но уже предположим, что товары нельзя дробить, и будем решать задачу целочисленного линейного программирования.\n",
    "\n",
    "SciPy не умеет решать такие задачи, поэтому будем использовать новую библиотеку CVXPY.\n",
    "\n",
    "Важно! С установкой этот библиотеки порой возникают проблемы. Если вы столкнулись с трудностями, посоветуйтесь с ментором или воспользуйтесь Google Colaboratory."
   ]
  },
  {
   "cell_type": "code",
   "execution_count": 18,
   "metadata": {},
   "outputs": [
    {
     "name": "stdout",
     "output_type": "stream",
     "text": [
      "Defaulting to user installation because normal site-packages is not writeable\n",
      "Requirement already satisfied: cvxpy in /home/egor/.local/lib/python3.10/site-packages (1.3.1)\n",
      "Requirement already satisfied: scs>=1.1.6 in /home/egor/.local/lib/python3.10/site-packages (from cvxpy) (3.2.2)\n",
      "Requirement already satisfied: ecos>=2 in /home/egor/.local/lib/python3.10/site-packages (from cvxpy) (2.0.12)\n",
      "Requirement already satisfied: osqp>=0.4.1 in /home/egor/.local/lib/python3.10/site-packages (from cvxpy) (0.6.2.post8)\n",
      "Requirement already satisfied: scipy>=1.1.0 in /home/egor/.local/lib/python3.10/site-packages (from cvxpy) (1.9.3)\n",
      "Requirement already satisfied: setuptools>65.5.1 in /home/egor/.local/lib/python3.10/site-packages (from cvxpy) (67.6.1)\n",
      "Requirement already satisfied: numpy>=1.15 in /home/egor/.local/lib/python3.10/site-packages (from cvxpy) (1.23.3)\n",
      "Requirement already satisfied: qdldl in /home/egor/.local/lib/python3.10/site-packages (from osqp>=0.4.1->cvxpy) (0.1.5.post3)\n"
     ]
    }
   ],
   "source": [
    "!pip install cvxpy"
   ]
  },
  {
   "cell_type": "code",
   "execution_count": 19,
   "metadata": {},
   "outputs": [],
   "source": [
    "import cvxpy"
   ]
  },
  {
   "attachments": {},
   "cell_type": "markdown",
   "metadata": {},
   "source": [
    "С помощью CVXPY создадим переменную-массив. Укажем его размерность, а также условие, что все числа в массиве должны быть целыми:"
   ]
  },
  {
   "cell_type": "code",
   "execution_count": 20,
   "metadata": {},
   "outputs": [],
   "source": [
    "x = cvxpy.Variable(shape=n, integer = True)"
   ]
  },
  {
   "attachments": {},
   "cell_type": "markdown",
   "metadata": {},
   "source": [
    "Далее зададим ограничения, используя матричное умножение:"
   ]
  },
  {
   "cell_type": "code",
   "execution_count": 21,
   "metadata": {},
   "outputs": [],
   "source": [
    "A = A.flatten() # Преобразуем размерность массива\n",
    "constraint = cvxpy.sum(cvxpy.multiply(A, x)) <= C\n",
    "x_positive = x >= 0\n",
    "total_value = cvxpy.sum(cvxpy.multiply(x, c))"
   ]
  },
  {
   "attachments": {},
   "cell_type": "markdown",
   "metadata": {},
   "source": [
    "Переходим непосредственно к решению задачи:"
   ]
  },
  {
   "cell_type": "code",
   "execution_count": 22,
   "metadata": {},
   "outputs": [],
   "source": [
    "problem = cvxpy.Problem(cvxpy.Minimize(total_value), constraints=[constraint, x_positive])"
   ]
  },
  {
   "attachments": {},
   "cell_type": "markdown",
   "metadata": {},
   "source": [
    "Вызываем получившееся решение:"
   ]
  },
  {
   "cell_type": "code",
   "execution_count": 23,
   "metadata": {},
   "outputs": [
    {
     "data": {
      "text/plain": [
       "-49.0"
      ]
     },
     "execution_count": 23,
     "metadata": {},
     "output_type": "execute_result"
    }
   ],
   "source": [
    "problem.solve()"
   ]
  },
  {
   "attachments": {},
   "cell_type": "markdown",
   "metadata": {},
   "source": [
    "Здесь мы уже получаем , и берём только четвёртый товар в количестве семи штук. Можно увидеть, что результат, в целом, очень близок к первому, когда мы использовали библиотеку SciPy — различие лишь в добавлении целочисленности. Значит, у нас получилось решить задачу, когда мы добавили недостающее условие."
   ]
  },
  {
   "cell_type": "code",
   "execution_count": 24,
   "metadata": {},
   "outputs": [
    {
     "data": {
      "text/plain": [
       "array([-0., -0., -0.,  7., -0.,  0.])"
      ]
     },
     "execution_count": 24,
     "metadata": {},
     "output_type": "execute_result"
    }
   ],
   "source": [
    "x.value"
   ]
  },
  {
   "attachments": {},
   "cell_type": "markdown",
   "metadata": {},
   "source": [
    "А что если мы можем брать не любое количество товаров, а только один или не брать их вовсе? Задаём  типа boolean."
   ]
  },
  {
   "cell_type": "code",
   "execution_count": 25,
   "metadata": {},
   "outputs": [
    {
     "data": {
      "text/plain": [
       "array([1., 0., 0., 1., 0., 1.])"
      ]
     },
     "execution_count": 25,
     "metadata": {},
     "output_type": "execute_result"
    }
   ],
   "source": [
    "x = cvxpy.Variable(shape=n, boolean=True)\n",
    "constraint = cvxpy.sum(cvxpy.multiply(A, x)) <= C\n",
    "x_positive = x >= 0\n",
    "total_value = cvxpy.sum(cvxpy.multiply(x, c))\n",
    "\n",
    "problem = cvxpy.Problem(\n",
    "    cvxpy.Minimize(total_value), constraints=[constraint, x_positive]\n",
    ")\n",
    "\n",
    "problem.solve()\n",
    "x.value"
   ]
  },
  {
   "attachments": {},
   "cell_type": "markdown",
   "metadata": {},
   "source": [
    "Получим стоимость, равную , взяв первый, четвёртый и шестой товары.\n",
    "\n",
    "Обратите внимание, что, используя SciPy, мы могли не указывать явно, что только положительные, так как в линейном программировании считаются только неотрицательные .\n",
    "\n",
    "А вот CVXPY универсальна. Мы просто задали функцию, не указывая, что это линейное программирование. CVXPY «поняла», что это задача оптимизации, и использовала нужные алгоритмы. Поэтому здесь ограничение на положительные  мы указывали явно.\n"
   ]
  },
  {
   "attachments": {},
   "cell_type": "markdown",
   "metadata": {},
   "source": [
    "## Пример № 3. PuLP\n",
    "\n",
    "В нашей каршеринговой компании две модели автомобилей: модель и модель . Автомобиль даёт прибыль в размере 20 тысяч в месяц, а автомобиль — 45 тысяч в месяц. Мы хотим заказать на заводе новые автомобили и максимизировать прибыль. Однако на производство и ввод в эксплуатацию автомобилей понадобится время:\n",
    "\n",
    "        Проектировщику требуется 4 дня, чтобы подготовить документы для производства каждого автомобиля типа , и 5 дней — для каждого автомобиля типа .\n",
    "        Заводу требуется 3 дня, чтобы изготовить модель , и 6 дней, чтобы изготовить модель .\n",
    "        Менеджеру требуется 2 дня, чтобы ввести в эксплуатацию в компании автомобиль , и 7 дней —  автомобиль .\n",
    "        Каждый специалист может работать суммарно 30 дней.\n"
   ]
  },
  {
   "cell_type": "code",
   "execution_count": 26,
   "metadata": {},
   "outputs": [
    {
     "name": "stdout",
     "output_type": "stream",
     "text": [
      "Defaulting to user installation because normal site-packages is not writeable\n",
      "Collecting pulp\n",
      "  Downloading PuLP-2.7.0-py3-none-any.whl (14.3 MB)\n",
      "\u001b[2K     \u001b[90m━━━━━━━━━━━━━━━━━━━━━━━━━━━━━━━━━━━━━━━━\u001b[0m \u001b[32m14.3/14.3 MB\u001b[0m \u001b[31m6.9 MB/s\u001b[0m eta \u001b[36m0:00:00\u001b[0m00:01\u001b[0m00:01\u001b[0m\n",
      "\u001b[?25hInstalling collected packages: pulp\n",
      "Successfully installed pulp-2.7.0\n"
     ]
    }
   ],
   "source": [
    "!pip install pulp"
   ]
  },
  {
   "cell_type": "code",
   "execution_count": 29,
   "metadata": {},
   "outputs": [],
   "source": [
    "import pulp\n",
    "from pulp import *"
   ]
  },
  {
   "attachments": {},
   "cell_type": "markdown",
   "metadata": {},
   "source": [
    "Заметьте, что здесь мы снова пишем обычные неравенства, а не условия в матричном виде. Дело в том, что для данной библиотеки так «удобнее», так как она принимает все условия в «первичном» виде.\n"
   ]
  },
  {
   "cell_type": "code",
   "execution_count": 30,
   "metadata": {},
   "outputs": [
    {
     "name": "stdout",
     "output_type": "stream",
     "text": [
      "Welcome to the CBC MILP Solver \n",
      "Version: 2.10.3 \n",
      "Build Date: Dec 15 2019 \n",
      "\n",
      "command line - /home/egor/.local/lib/python3.10/site-packages/pulp/solverdir/cbc/linux/64/cbc /tmp/c9e566e9c1ea418dbb548dda2820e172-pulp.mps max timeMode elapsed branch printingOptions all solution /tmp/c9e566e9c1ea418dbb548dda2820e172-pulp.sol (default strategy 1)\n",
      "At line 2 NAME          MODEL\n",
      "At line 3 ROWS\n",
      "At line 8 COLUMNS\n",
      "At line 21 RHS\n",
      "At line 25 BOUNDS\n",
      "At line 28 ENDATA\n",
      "Problem MODEL has 3 rows, 2 columns and 6 elements\n",
      "Coin0008I MODEL read with 0 errors\n",
      "Option for timeMode changed from cpu to elapsed\n",
      "Continuous objective value is 216667 - 0.00 seconds\n",
      "Cgl0004I processed model has 3 rows, 2 columns (2 integer (0 of which binary)) and 6 elements\n",
      "Cutoff increment increased from 1e-05 to 5000\n",
      "Cbc0012I Integer solution of -195000 found by DiveCoefficient after 0 iterations and 0 nodes (0.00 seconds)\n",
      "Cbc0012I Integer solution of -200000 found by DiveCoefficient after 1 iterations and 0 nodes (0.00 seconds)\n",
      "Cbc0013I At root node, 0 cuts changed objective from -216666.67 to -200000 in 2 passes\n",
      "Cbc0014I Cut generator 0 (Probing) - 0 row cuts average 0.0 elements, 2 column cuts (2 active)  in 0.000 seconds - new frequency is 1\n",
      "Cbc0014I Cut generator 1 (Gomory) - 0 row cuts average 0.0 elements, 0 column cuts (0 active)  in 0.000 seconds - new frequency is -100\n",
      "Cbc0014I Cut generator 2 (Knapsack) - 0 row cuts average 0.0 elements, 0 column cuts (0 active)  in 0.000 seconds - new frequency is -100\n",
      "Cbc0014I Cut generator 3 (Clique) - 0 row cuts average 0.0 elements, 0 column cuts (0 active)  in 0.000 seconds - new frequency is -100\n",
      "Cbc0014I Cut generator 4 (MixedIntegerRounding2) - 0 row cuts average 0.0 elements, 0 column cuts (0 active)  in 0.000 seconds - new frequency is -100\n",
      "Cbc0014I Cut generator 5 (FlowCover) - 0 row cuts average 0.0 elements, 0 column cuts (0 active)  in 0.000 seconds - new frequency is -100\n",
      "Cbc0001I Search completed - best objective -200000, took 1 iterations and 0 nodes (0.01 seconds)\n",
      "Cbc0035I Maximum depth 0, 0 variables fixed on reduced cost\n",
      "Cuts at root node changed objective from -216667 to -200000\n",
      "Probing was tried 2 times and created 2 cuts of which 0 were active after adding rounds of cuts (0.000 seconds)\n",
      "Gomory was tried 2 times and created 0 cuts of which 0 were active after adding rounds of cuts (0.000 seconds)\n",
      "Knapsack was tried 2 times and created 0 cuts of which 0 were active after adding rounds of cuts (0.000 seconds)\n",
      "Clique was tried 2 times and created 0 cuts of which 0 were active after adding rounds of cuts (0.000 seconds)\n",
      "MixedIntegerRounding2 was tried 2 times and created 0 cuts of which 0 were active after adding rounds of cuts (0.000 seconds)\n",
      "FlowCover was tried 2 times and created 0 cuts of which 0 were active after adding rounds of cuts (0.000 seconds)\n",
      "TwoMirCuts was tried 1 times and created 0 cuts of which 0 were active after adding rounds of cuts (0.000 seconds)\n",
      "ZeroHalf was tried 1 times and created 0 cuts of which 0 were active after adding rounds of cuts (0.000 seconds)\n",
      "\n",
      "Result - Optimal solution found\n",
      "\n",
      "Objective value:                200000.00000000\n",
      "Enumerated nodes:               0\n",
      "Total iterations:               1\n",
      "Time (CPU seconds):             0.01\n",
      "Time (Wallclock seconds):       0.01\n",
      "\n",
      "Option for printingOptions changed from normal to all\n",
      "Total time (CPU seconds):       0.01   (Wallclock seconds):       0.01\n",
      "\n",
      "Количество автомобилей модели А:  1.0\n",
      "Количество автомобилей модели В:  4.0\n",
      "Суммарный доход:  200000.0\n"
     ]
    },
    {
     "name": "stderr",
     "output_type": "stream",
     "text": [
      "/home/egor/.local/lib/python3.10/site-packages/pulp/pulp.py:1352: UserWarning: Spaces are not permitted in the name. Converted to '_'\n",
      "  warnings.warn(\"Spaces are not permitted in the name. Converted to '_'\")\n"
     ]
    }
   ],
   "source": [
    "problem = LpProblem('Производство машин', LpMaximize)\n",
    "A = LpVariable('Автомобиль A', lowBound=0 , cat=LpInteger)\n",
    "B = LpVariable('Автомобиль B', lowBound=0 , cat=LpInteger)\n",
    "#Целевая функция\n",
    "problem += 20000*A + 45000*B \n",
    "#Ограничения\n",
    "problem += 4*A + 5*B <= 30 \n",
    "problem += 3*A + 6*B <=30\n",
    "problem += 2*A + 7*B <=30\n",
    "problem.solve()\n",
    "print(\"Количество автомобилей модели А: \", A.varValue)\n",
    "print(\"Количество автомобилей модели В: \", B.varValue)\n",
    "print(\"Суммарный доход: \", value(problem.objective))"
   ]
  },
  {
   "attachments": {},
   "cell_type": "markdown",
   "metadata": {},
   "source": [
    "Выходит, что необходимо произвести 1 автомобиль типа и 4 автомобиля типа . Тогда суммарный чистый доход будет равен 200 тысячам."
   ]
  },
  {
   "attachments": {},
   "cell_type": "markdown",
   "metadata": {},
   "source": [
    "Задание 6.1\n",
    "\n",
    "Составьте оптимальный план перевозок со склада № 1 и склада № 2 в три торговых центра с учётом тарифов, запасов на складах и потребностей торговых центров, которые указаны в таблице:\n",
    "\n",
    "Сформулируйте предложенную задачу как задачу линейного программирования и решите её любым способом (желательно программным).\n",
    "\n",
    "В качестве ответа введите минимальную суммарную стоимость поставки. Ответ округлите до целого числа."
   ]
  },
  {
   "cell_type": "code",
   "execution_count": 33,
   "metadata": {},
   "outputs": [
    {
     "name": "stderr",
     "output_type": "stream",
     "text": [
      "/home/egor/.local/lib/python3.10/site-packages/pulp/pulp.py:1352: UserWarning: Spaces are not permitted in the name. Converted to '_'\n",
      "  warnings.warn(\"Spaces are not permitted in the name. Converted to '_'\")\n",
      "/home/egor/.local/lib/python3.10/site-packages/pulp/pulp.py:1704: UserWarning: Overwriting previously set objective.\n",
      "  warnings.warn(\"Overwriting previously set objective.\")\n"
     ]
    },
    {
     "name": "stdout",
     "output_type": "stream",
     "text": [
      "Welcome to the CBC MILP Solver \n",
      "Version: 2.10.3 \n",
      "Build Date: Dec 15 2019 \n",
      "\n",
      "command line - /home/egor/.local/lib/python3.10/site-packages/pulp/solverdir/cbc/linux/64/cbc /tmp/0bb1986eba5143ae851b9b7c7a49290a-pulp.mps timeMode elapsed branch printingOptions all solution /tmp/0bb1986eba5143ae851b9b7c7a49290a-pulp.sol (default strategy 1)\n",
      "At line 2 NAME          MODEL\n",
      "At line 3 ROWS\n",
      "At line 10 COLUMNS\n",
      "Duplicate row C0000000 at line 17 <     X0000001  C0000000   1.000000000000e+00 >\n",
      "Duplicate row C0000001 at line 18 <     X0000001  C0000001   1.000000000000e+00 >\n",
      "Duplicate row C0000002 at line 19 <     X0000001  C0000002   1.000000000000e+00 >\n",
      "Duplicate row C0000000 at line 28 <     X0000003  C0000000   1.000000000000e+00 >\n",
      "Duplicate row C0000001 at line 29 <     X0000003  C0000001   1.000000000000e+00 >\n",
      "Duplicate row C0000003 at line 30 <     X0000003  C0000003   1.000000000000e+00 >\n",
      "Duplicate row C0000000 at line 39 <     X0000005  C0000000   1.000000000000e+00 >\n",
      "Duplicate row C0000001 at line 40 <     X0000005  C0000001   1.000000000000e+00 >\n",
      "Duplicate row C0000004 at line 41 <     X0000005  C0000004   1.000000000000e+00 >\n",
      "At line 44 RHS\n",
      "At line 50 BOUNDS\n",
      "Bad image at line 52 <  LO BND       X0000001   0.000000000000e+00 >\n",
      "Bad image at line 54 <  LO BND       X0000003   0.000000000000e+00 >\n",
      "Bad image at line 56 <  LO BND       X0000005   0.000000000000e+00 >\n",
      "At line 57 ENDATA\n",
      "Problem MODEL has 5 rows, 3 columns and 9 elements\n",
      "Coin0008I MODEL read with 12 errors\n",
      "There were 12 errors on input\n",
      "Option for timeMode changed from cpu to elapsed\n",
      "** Current model not valid\n",
      "Option for printingOptions changed from normal to all\n",
      "** Current model not valid\n",
      "No match for /tmp/0bb1986eba5143ae851b9b7c7a49290a-pulp.sol - ? for list of commands\n",
      "Total time (CPU seconds):       0.00   (Wallclock seconds):       0.00\n",
      "\n"
     ]
    },
    {
     "ename": "PulpSolverError",
     "evalue": "Pulp: Error while executing /home/egor/.local/lib/python3.10/site-packages/pulp/solverdir/cbc/linux/64/cbc",
     "output_type": "error",
     "traceback": [
      "\u001b[0;31m---------------------------------------------------------------------------\u001b[0m",
      "\u001b[0;31mPulpSolverError\u001b[0m                           Traceback (most recent call last)",
      "\u001b[1;32m/home/egor/Desktop/IDE/SKILLFACTORY/MATH&ML-2. Математический анализ/Theory2.ipynb Cell 57\u001b[0m in \u001b[0;36m1\n\u001b[1;32m     <a href='vscode-notebook-cell:/home/egor/Desktop/IDE/SKILLFACTORY/MATH%26ML-2.%20%D0%9C%D0%B0%D1%82%D0%B5%D0%BC%D0%B0%D1%82%D0%B8%D1%87%D0%B5%D1%81%D0%BA%D0%B8%D0%B9%20%D0%B0%D0%BD%D0%B0%D0%BB%D0%B8%D0%B7/Theory2.ipynb#Y106sZmlsZQ%3D%3D?line=14'>15</a>\u001b[0m problem \u001b[39m+\u001b[39m\u001b[39m=\u001b[39m B \u001b[39m+\u001b[39m E \u001b[39m<\u001b[39m\u001b[39m=\u001b[39m \u001b[39m150\u001b[39m\n\u001b[1;32m     <a href='vscode-notebook-cell:/home/egor/Desktop/IDE/SKILLFACTORY/MATH%26ML-2.%20%D0%9C%D0%B0%D1%82%D0%B5%D0%BC%D0%B0%D1%82%D0%B8%D1%87%D0%B5%D1%81%D0%BA%D0%B8%D0%B9%20%D0%B0%D0%BD%D0%B0%D0%BB%D0%B8%D0%B7/Theory2.ipynb#Y106sZmlsZQ%3D%3D?line=15'>16</a>\u001b[0m problem \u001b[39m+\u001b[39m\u001b[39m=\u001b[39m C \u001b[39m+\u001b[39m F \u001b[39m<\u001b[39m\u001b[39m=\u001b[39m \u001b[39m140\u001b[39m\n\u001b[0;32m---> <a href='vscode-notebook-cell:/home/egor/Desktop/IDE/SKILLFACTORY/MATH%26ML-2.%20%D0%9C%D0%B0%D1%82%D0%B5%D0%BC%D0%B0%D1%82%D0%B8%D1%87%D0%B5%D1%81%D0%BA%D0%B8%D0%B9%20%D0%B0%D0%BD%D0%B0%D0%BB%D0%B8%D0%B7/Theory2.ipynb#Y106sZmlsZQ%3D%3D?line=16'>17</a>\u001b[0m problem\u001b[39m.\u001b[39;49msolve()\n\u001b[1;32m     <a href='vscode-notebook-cell:/home/egor/Desktop/IDE/SKILLFACTORY/MATH%26ML-2.%20%D0%9C%D0%B0%D1%82%D0%B5%D0%BC%D0%B0%D1%82%D0%B8%D1%87%D0%B5%D1%81%D0%BA%D0%B8%D0%B9%20%D0%B0%D0%BD%D0%B0%D0%BB%D0%B8%D0%B7/Theory2.ipynb#Y106sZmlsZQ%3D%3D?line=17'>18</a>\u001b[0m \u001b[39mprint\u001b[39m(\u001b[39m\"\u001b[39m\u001b[39mКоличество отгрузок на склад A: \u001b[39m\u001b[39m\"\u001b[39m, A\u001b[39m.\u001b[39mvarValue)\n\u001b[1;32m     <a href='vscode-notebook-cell:/home/egor/Desktop/IDE/SKILLFACTORY/MATH%26ML-2.%20%D0%9C%D0%B0%D1%82%D0%B5%D0%BC%D0%B0%D1%82%D0%B8%D1%87%D0%B5%D1%81%D0%BA%D0%B8%D0%B9%20%D0%B0%D0%BD%D0%B0%D0%BB%D0%B8%D0%B7/Theory2.ipynb#Y106sZmlsZQ%3D%3D?line=18'>19</a>\u001b[0m \u001b[39mprint\u001b[39m(\u001b[39m\"\u001b[39m\u001b[39mКоличество отгрузок на склад B: \u001b[39m\u001b[39m\"\u001b[39m, B\u001b[39m.\u001b[39mvarValue)\n",
      "File \u001b[0;32m~/.local/lib/python3.10/site-packages/pulp/pulp.py:1913\u001b[0m, in \u001b[0;36mLpProblem.solve\u001b[0;34m(self, solver, **kwargs)\u001b[0m\n\u001b[1;32m   1911\u001b[0m \u001b[39m# time it\u001b[39;00m\n\u001b[1;32m   1912\u001b[0m \u001b[39mself\u001b[39m\u001b[39m.\u001b[39mstartClock()\n\u001b[0;32m-> 1913\u001b[0m status \u001b[39m=\u001b[39m solver\u001b[39m.\u001b[39;49mactualSolve(\u001b[39mself\u001b[39;49m, \u001b[39m*\u001b[39;49m\u001b[39m*\u001b[39;49mkwargs)\n\u001b[1;32m   1914\u001b[0m \u001b[39mself\u001b[39m\u001b[39m.\u001b[39mstopClock()\n\u001b[1;32m   1915\u001b[0m \u001b[39mself\u001b[39m\u001b[39m.\u001b[39mrestoreObjective(wasNone, dummyVar)\n",
      "File \u001b[0;32m~/.local/lib/python3.10/site-packages/pulp/apis/coin_api.py:137\u001b[0m, in \u001b[0;36mCOIN_CMD.actualSolve\u001b[0;34m(self, lp, **kwargs)\u001b[0m\n\u001b[1;32m    135\u001b[0m \u001b[39mdef\u001b[39;00m \u001b[39mactualSolve\u001b[39m(\u001b[39mself\u001b[39m, lp, \u001b[39m*\u001b[39m\u001b[39m*\u001b[39mkwargs):\n\u001b[1;32m    136\u001b[0m     \u001b[39m\"\"\"Solve a well formulated lp problem\"\"\"\u001b[39;00m\n\u001b[0;32m--> 137\u001b[0m     \u001b[39mreturn\u001b[39;00m \u001b[39mself\u001b[39;49m\u001b[39m.\u001b[39;49msolve_CBC(lp, \u001b[39m*\u001b[39;49m\u001b[39m*\u001b[39;49mkwargs)\n",
      "File \u001b[0;32m~/.local/lib/python3.10/site-packages/pulp/apis/coin_api.py:213\u001b[0m, in \u001b[0;36mCOIN_CMD.solve_CBC\u001b[0;34m(self, lp, use_mps)\u001b[0m\n\u001b[1;32m    211\u001b[0m     pipe\u001b[39m.\u001b[39mclose()\n\u001b[1;32m    212\u001b[0m \u001b[39mif\u001b[39;00m \u001b[39mnot\u001b[39;00m os\u001b[39m.\u001b[39mpath\u001b[39m.\u001b[39mexists(tmpSol):\n\u001b[0;32m--> 213\u001b[0m     \u001b[39mraise\u001b[39;00m PulpSolverError(\u001b[39m\"\u001b[39m\u001b[39mPulp: Error while executing \u001b[39m\u001b[39m\"\u001b[39m \u001b[39m+\u001b[39m \u001b[39mself\u001b[39m\u001b[39m.\u001b[39mpath)\n\u001b[1;32m    214\u001b[0m (\n\u001b[1;32m    215\u001b[0m     status,\n\u001b[1;32m    216\u001b[0m     values,\n\u001b[0;32m   (...)\u001b[0m\n\u001b[1;32m    220\u001b[0m     sol_status,\n\u001b[1;32m    221\u001b[0m ) \u001b[39m=\u001b[39m \u001b[39mself\u001b[39m\u001b[39m.\u001b[39mreadsol_MPS(tmpSol, lp, vs, variablesNames, constraintsNames)\n\u001b[1;32m    222\u001b[0m lp\u001b[39m.\u001b[39massignVarsVals(values)\n",
      "\u001b[0;31mPulpSolverError\u001b[0m: Pulp: Error while executing /home/egor/.local/lib/python3.10/site-packages/pulp/solverdir/cbc/linux/64/cbc"
     ]
    }
   ],
   "source": [
    "problem = LpProblem('Доставка со склада', LpMinimize)\n",
    "A = LpVariable('ТЦ1', lowBound=0 , cat=LpInteger)\n",
    "B = LpVariable('ТЦ2', lowBound=0 , cat=LpInteger)\n",
    "C = LpVariable('ТЦ3', lowBound=0 , cat=LpInteger)\n",
    "D = LpVariable('ТЦ1', lowBound=0 , cat=LpInteger)\n",
    "E = LpVariable('ТЦ2', lowBound=0 , cat=LpInteger)\n",
    "F = LpVariable('ТЦ3', lowBound=0 , cat=LpInteger)\n",
    "#Целевая функция\n",
    "problem += 2*A + 5*B + 3*C\n",
    "problem += 7*D + 7*E + 6*F\n",
    "#Ограничения\n",
    "problem += A + B + C <= 180 \n",
    "problem += D + E + F <= 220\n",
    "problem += A + D <= 110\n",
    "problem += B + E <= 150\n",
    "problem += C + F <= 140\n",
    "problem.solve()\n",
    "print(\"Количество отгрузок на склад A: \", A.varValue)\n",
    "print(\"Количество отгрузок на склад B: \", B.varValue)\n",
    "print(\"Количество отгрузок на склад C: \", C.varValue)\n",
    "print(\"Количество отгрузок на склад D: \", D.varValue)\n",
    "print(\"Количество отгрузок на склад E: \", E.varValue)\n",
    "print(\"Количество отгрузок на склад F: \", F.varValue)\n",
    "print(\"Суммарный доход: \", value(problem.objective))"
   ]
  },
  {
   "cell_type": "code",
   "execution_count": null,
   "metadata": {},
   "outputs": [],
   "source": []
  }
 ],
 "metadata": {
  "kernelspec": {
   "display_name": "Python 3",
   "language": "python",
   "name": "python3"
  },
  "language_info": {
   "codemirror_mode": {
    "name": "ipython",
    "version": 3
   },
   "file_extension": ".py",
   "mimetype": "text/x-python",
   "name": "python",
   "nbconvert_exporter": "python",
   "pygments_lexer": "ipython3",
   "version": "3.10.6"
  },
  "orig_nbformat": 4
 },
 "nbformat": 4,
 "nbformat_minor": 2
}
